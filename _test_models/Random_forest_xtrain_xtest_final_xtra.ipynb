{
 "cells": [
  {
   "cell_type": "markdown",
   "metadata": {},
   "source": [
    "| <img src ='https://bit.ly/39XPeCc' width=200 align='left'> |\n",
    "|:--|\n",
    "|<h1>   Random_forest_xtrain_xtest_final_xtra.ipynb\n",
    "</h1>"
   ]
  },
  {
   "cell_type": "markdown",
   "metadata": {},
   "source": [
    "## 사용함수의 정의"
   ]
  },
  {
   "cell_type": "code",
   "execution_count": 1,
   "metadata": {},
   "outputs": [],
   "source": [
    "\"\"\" \n",
    "# 기본적인 module import 위치로 작업폴더 변경 getcwd() --> chidr()\n",
    "# HOME 을 지정하고 작업폴더를 HOME 으로 변경.\n",
    "\"\"\"\n",
    "import os\n",
    "\n",
    "HOME= 'dacon_competition_2020'\n",
    "dir_base = \"\".join(os.getcwd().partition(HOME)[:2]) + \"\\\\\"\n",
    "os.chdir(dir_base)     "
   ]
  },
  {
   "cell_type": "code",
   "execution_count": 2,
   "metadata": {},
   "outputs": [
    {
     "name": "stdout",
     "output_type": "stream",
     "text": [
      "\n",
      "# 화일분석에 필요한 공동폴더를 등록합니다.\n",
      "- asset = dir_base + '_assets/'\n",
      "- statics dir_base + '_statics/'\n",
      "\n",
      "#  echo = True : SYS.PATH INSERT 상황 보여줌\n",
      "\n",
      "\n",
      "# OS 화일 및 DF 정보조회를 위한 탐색 모듈\n",
      "\n"
     ]
    }
   ],
   "source": [
    "from _assets.config_dirs import *\n",
    "from _assets.modules import *"
   ]
  },
  {
   "cell_type": "code",
   "execution_count": 3,
   "metadata": {},
   "outputs": [],
   "source": [
    "\"\"\"\n",
    "# RandomForestClassifier 클래스를 import\n",
    "\"\"\"\n",
    "import numpy as np\n",
    "import pandas as pd\n",
    " \n",
    "from sklearn.metrics import accuracy_score\n",
    "from sklearn.metrics import classification_report\n",
    "from sklearn.ensemble import RandomForestClassifier\n",
    "from sklearn.model_selection import train_test_split"
   ]
  },
  {
   "cell_type": "code",
   "execution_count": 4,
   "metadata": {},
   "outputs": [],
   "source": [
    "x = pd.read_csv(dir_base + remake + 'xtra_remake_xtrain_r01.csv')\n",
    "y = pd.read_csv(dir_base + remake + 'df_ytrain_remake.csv')['winner']\n",
    "\n",
    "X_train, X_test, Y_train, Y_test = train_test_split(x, y, test_size=0.2)"
   ]
  },
  {
   "cell_type": "code",
   "execution_count": 5,
   "metadata": {},
   "outputs": [
    {
     "name": "stdout",
     "output_type": "stream",
     "text": [
      "*** DATA SHAPE = [ 38,872 x 1,580 ]\n",
      "\n",
      "<class 'pandas.core.frame.DataFrame'>\n",
      "RangeIndex: 38872 entries, 0 to 38871\n",
      "Columns: 1580 entries, game_id to p0_weight\n",
      "dtypes: float64(38), int64(1542)\n",
      "memory usage: 468.6 MB\n",
      "None\n",
      "\n",
      "            game_id     Ability0_  Ability0_AdeptPhaseShift  \\\n",
      "count  38872.000000  38872.000000              38872.000000   \n",
      "mean   19435.500000      0.012683                  0.143857   \n",
      "std    11221.524169      0.116851                  0.670429   \n",
      "min        0.000000      0.000000                  0.000000   \n",
      "25%     9717.750000      0.000000                  0.000000   \n",
      "50%    19435.500000      0.000000                  0.000000   \n",
      "75%    29153.250000      0.000000                  0.000000   \n",
      "max    38871.000000      3.000000                 13.000000   \n",
      "\n",
      "       Ability0_AdeptPhaseShiftCancel  Ability0_AdeptShadePhaseShiftCancel  \\\n",
      "count                    38872.000000                         38872.000000   \n",
      "mean                         0.010187                             0.008258   \n",
      "std                          0.111812                             0.105220   \n",
      "min                          0.000000                             0.000000   \n",
      "25%                          0.000000                             0.000000   \n",
      "50%                          0.000000                             0.000000   \n",
      "75%                          0.000000                             0.000000   \n",
      "max                          4.000000                             5.000000   \n",
      "\n",
      "       Ability0_ArchonWarpSelection  Ability0_AssaultMode  Ability0_Attack  \\\n",
      "count                  38872.000000          38872.000000     38872.000000   \n",
      "mean                       0.003524              0.003833         7.294505   \n",
      "std                        0.068898              0.071448         9.095732   \n",
      "min                        0.000000              0.000000         0.000000   \n",
      "25%                        0.000000              0.000000         1.000000   \n",
      "50%                        0.000000              0.000000         4.000000   \n",
      "75%                        0.000000              0.000000        11.000000   \n",
      "max                        3.000000              3.000000       132.000000   \n",
      "\n",
      "       Ability0_BattleMode  Ability0_Blink  ...      p0_train      p1_train  \\\n",
      "count         38872.000000    38872.000000  ...  38872.000000  38872.000000   \n",
      "mean              0.014123        0.008567  ...     18.852979     18.792910   \n",
      "std               0.168318        0.174095  ...      9.995029      9.945299   \n",
      "min               0.000000        0.000000  ...      0.000000      0.000000   \n",
      "25%               0.000000        0.000000  ...     11.000000     11.000000   \n",
      "50%               0.000000        0.000000  ...     18.000000     18.000000   \n",
      "75%               0.000000        0.000000  ...     25.000000     25.000000   \n",
      "max               8.000000       13.000000  ...     79.000000     71.000000   \n",
      "\n",
      "        delta_train     p0_attack     p1_attack  delta_attack  p0_select_null  \\\n",
      "count  38872.000000  38872.000000  38872.000000  38872.000000    38872.000000   \n",
      "mean       0.060069      7.321954      7.370138     -0.048184       10.483407   \n",
      "std        7.890922      9.100631      9.121453      9.000866       11.532427   \n",
      "min      -47.000000      0.000000      0.000000    -78.000000        0.000000   \n",
      "25%       -4.000000      1.000000      1.000000     -3.000000        2.000000   \n",
      "50%        0.000000      4.000000      4.000000      0.000000        7.000000   \n",
      "75%        4.000000     11.000000     11.000000      3.000000       15.000000   \n",
      "max       48.000000    132.000000    100.000000    110.000000      185.000000   \n",
      "\n",
      "       p1_select_null  delta_select_null     p0_weight  \n",
      "count    38872.000000       38872.000000  38872.000000  \n",
      "mean        10.399799           0.083608      2.839466  \n",
      "std         11.337223          12.904326      2.397724  \n",
      "min          0.000000        -166.000000      0.308154  \n",
      "25%          2.000000          -5.000000      0.308154  \n",
      "50%          7.000000           0.000000      2.459397  \n",
      "75%         15.000000           5.000000      4.000000  \n",
      "max        176.000000         179.000000     12.888889  \n",
      "\n",
      "[8 rows x 1580 columns]\n",
      "\n"
     ]
    }
   ],
   "source": [
    "show_infoDF_from(x)"
   ]
  },
  {
   "cell_type": "code",
   "execution_count": 6,
   "metadata": {},
   "outputs": [],
   "source": [
    "\"\"\"\n",
    "# tree개수 Random Forest 분류 모듈 생성\n",
    "# 그냥 Default 값을 사용한다.\n",
    "# 차이점 = 정렬된 Data 사용 <==> shuffled data-set 사용\n",
    "\"\"\"\n",
    "rfc = RandomForestClassifier(          # default = *                    \n",
    "                    bootstrap=True,    # 붓스트랩 생성*\n",
    "                    criterion='gini',  # 지니계수 검정*\n",
    "                    max_features='auto', # 최대피처=자동*\n",
    "    \n",
    "                    n_estimators=400,  # 트리갯수=400개\n",
    "                    oob_score=True,    # OOB스코링 사용!\n",
    "                    verbose=1,         # 상세하게 에코!\n",
    "                    warm_start=True,   # 웜스타트=OK\n",
    "                )"
   ]
  },
  {
   "cell_type": "code",
   "execution_count": 7,
   "metadata": {},
   "outputs": [
    {
     "name": "stderr",
     "output_type": "stream",
     "text": [
      "[Parallel(n_jobs=1)]: Using backend SequentialBackend with 1 concurrent workers.\n",
      "[Parallel(n_jobs=1)]: Done 400 out of 400 | elapsed:  3.7min finished\n",
      "[Parallel(n_jobs=1)]: Using backend SequentialBackend with 1 concurrent workers.\n"
     ]
    },
    {
     "name": "stdout",
     "output_type": "stream",
     "text": [
      "Accuracy is:  0.6354983922829582\n",
      "--------------------------------------------------------------------------------\n",
      "              precision    recall  f1-score   support\n",
      "\n",
      "           0       0.64      0.63      0.64      3940\n",
      "           1       0.63      0.64      0.64      3835\n",
      "\n",
      "    accuracy                           0.64      7775\n",
      "   macro avg       0.64      0.64      0.64      7775\n",
      "weighted avg       0.64      0.64      0.64      7775\n",
      "\n"
     ]
    },
    {
     "name": "stderr",
     "output_type": "stream",
     "text": [
      "[Parallel(n_jobs=1)]: Done 400 out of 400 | elapsed:    2.9s finished\n"
     ]
    }
   ],
   "source": [
    "\"\"\"\n",
    "# X_train과 Y_train을 입력해 모듈을 학습 시킨다.\n",
    "\"\"\"\n",
    "\n",
    "rfc.fit(X_train, Y_train) \n",
    "pred = rfc.predict(X_test)\n",
    "\n",
    "# print(pred == Y_test)\n",
    "print(\"Accuracy is: \", accuracy_score(pred, Y_test))\n",
    "print(\"----\" * 20)\n",
    "print(classification_report(pred, Y_test))"
   ]
  },
  {
   "cell_type": "code",
   "execution_count": 8,
   "metadata": {},
   "outputs": [],
   "source": [
    "\"\"\"\n",
    "# Initialize the model\n",
    "# 트리수=200개, OOB 스코어링을 사용한다.\n",
    "\"\"\"\n",
    "rfc_01 = RandomForestClassifier(             # default = *                    \n",
    "                            bootstrap=True,  # 붓스트랩 생성*\n",
    "                            criterion='gini', # 지니계수 검정*\n",
    "    \n",
    "                            max_features=5,   # Num features = 5\n",
    "                            n_estimators=600, # Number of trees = 600개\n",
    "                            oob_score=True,  # Use OOB scoring\n",
    "                            verbose=1,       # 상세하게 에코!\n",
    "                        )"
   ]
  },
  {
   "cell_type": "code",
   "execution_count": 9,
   "metadata": {},
   "outputs": [
    {
     "name": "stderr",
     "output_type": "stream",
     "text": [
      "[Parallel(n_jobs=1)]: Using backend SequentialBackend with 1 concurrent workers.\n",
      "[Parallel(n_jobs=1)]: Done 600 out of 600 | elapsed:  1.9min finished\n",
      "[Parallel(n_jobs=1)]: Using backend SequentialBackend with 1 concurrent workers.\n"
     ]
    },
    {
     "name": "stdout",
     "output_type": "stream",
     "text": [
      "Accuracy is :  0.640128617363344\n",
      "--------------------------------------------------------------------------------\n",
      "              precision    recall  f1-score   support\n",
      "\n",
      "           0       0.64      0.63      0.64      3896\n",
      "           1       0.64      0.65      0.64      3879\n",
      "\n",
      "    accuracy                           0.64      7775\n",
      "   macro avg       0.64      0.64      0.64      7775\n",
      "weighted avg       0.64      0.64      0.64      7775\n",
      "\n"
     ]
    },
    {
     "name": "stderr",
     "output_type": "stream",
     "text": [
      "[Parallel(n_jobs=1)]: Done 600 out of 600 | elapsed:    6.5s finished\n"
     ]
    }
   ],
   "source": [
    "rfc_01.fit(X_train, Y_train)\n",
    "pred_01 = rfc_01.predict(X_test)\n",
    "\n",
    "# print(pred_01 == Y_test)\n",
    "print(\"Accuracy is : \", accuracy_score(pred_01, Y_test))\n",
    "print(\"----\" * 20)\n",
    "print(classification_report(pred_01, Y_test))"
   ]
  },
  {
   "cell_type": "code",
   "execution_count": 12,
   "metadata": {
    "scrolled": false
   },
   "outputs": [
    {
     "data": {
      "text/plain": [
       "'\\n# 각 feature의 중요도를 확인 한다.\\n'"
      ]
     },
     "execution_count": 12,
     "metadata": {},
     "output_type": "execute_result"
    }
   ],
   "source": [
    "\"\"\"\n",
    "# 각 feature의 중요도를 확인 한다.\n",
    "\"\"\"\n",
    "# for feature, imp in zip(x.columns, rfc_01.feature_importances_):\n",
    "#     print(f\"* {feature:18} = {imp}\")"
   ]
  },
  {
   "cell_type": "code",
   "execution_count": 13,
   "metadata": {},
   "outputs": [
    {
     "data": {
      "text/html": [
       "<div>\n",
       "<style scoped>\n",
       "    .dataframe tbody tr th:only-of-type {\n",
       "        vertical-align: middle;\n",
       "    }\n",
       "\n",
       "    .dataframe tbody tr th {\n",
       "        vertical-align: top;\n",
       "    }\n",
       "\n",
       "    .dataframe thead th {\n",
       "        text-align: right;\n",
       "    }\n",
       "</style>\n",
       "<table border=\"1\" class=\"dataframe\">\n",
       "  <thead>\n",
       "    <tr style=\"text-align: right;\">\n",
       "      <th></th>\n",
       "      <th>features</th>\n",
       "      <th>importance</th>\n",
       "    </tr>\n",
       "  </thead>\n",
       "  <tbody>\n",
       "    <tr>\n",
       "      <th>1015</th>\n",
       "      <td>event_delta_Ability</td>\n",
       "      <td>0.007811</td>\n",
       "    </tr>\n",
       "    <tr>\n",
       "      <th>1559</th>\n",
       "      <td>delta_Ability</td>\n",
       "      <td>0.007778</td>\n",
       "    </tr>\n",
       "    <tr>\n",
       "      <th>1563</th>\n",
       "      <td>delta_GetControlGroup</td>\n",
       "      <td>0.006786</td>\n",
       "    </tr>\n",
       "    <tr>\n",
       "      <th>1569</th>\n",
       "      <td>delta_null</td>\n",
       "      <td>0.006701</td>\n",
       "    </tr>\n",
       "    <tr>\n",
       "      <th>1019</th>\n",
       "      <td>event_delta_GetControlGroup</td>\n",
       "      <td>0.006648</td>\n",
       "    </tr>\n",
       "    <tr>\n",
       "      <th>...</th>\n",
       "      <td>...</td>\n",
       "      <td>...</td>\n",
       "    </tr>\n",
       "    <tr>\n",
       "      <th>436</th>\n",
       "      <td>Ability1_EvolveFlyerAttacks2</td>\n",
       "      <td>0.000000</td>\n",
       "    </tr>\n",
       "    <tr>\n",
       "      <th>453</th>\n",
       "      <td>Ability1_HallucinateArchon</td>\n",
       "      <td>0.000000</td>\n",
       "    </tr>\n",
       "    <tr>\n",
       "      <th>1112</th>\n",
       "      <td>rc0_TargetInfestorLocation</td>\n",
       "      <td>0.000000</td>\n",
       "    </tr>\n",
       "    <tr>\n",
       "      <th>497</th>\n",
       "      <td>Ability1_MorphUltralisk</td>\n",
       "      <td>0.000000</td>\n",
       "    </tr>\n",
       "    <tr>\n",
       "      <th>108</th>\n",
       "      <td>Ability0_EvolveNeuralParasite</td>\n",
       "      <td>0.000000</td>\n",
       "    </tr>\n",
       "  </tbody>\n",
       "</table>\n",
       "<p>1580 rows × 2 columns</p>\n",
       "</div>"
      ],
      "text/plain": [
       "                           features  importance\n",
       "1015            event_delta_Ability    0.007811\n",
       "1559                  delta_Ability    0.007778\n",
       "1563          delta_GetControlGroup    0.006786\n",
       "1569                     delta_null    0.006701\n",
       "1019    event_delta_GetControlGroup    0.006648\n",
       "...                             ...         ...\n",
       "436    Ability1_EvolveFlyerAttacks2    0.000000\n",
       "453      Ability1_HallucinateArchon    0.000000\n",
       "1112     rc0_TargetInfestorLocation    0.000000\n",
       "497         Ability1_MorphUltralisk    0.000000\n",
       "108   Ability0_EvolveNeuralParasite    0.000000\n",
       "\n",
       "[1580 rows x 2 columns]"
      ]
     },
     "execution_count": 13,
     "metadata": {},
     "output_type": "execute_result"
    }
   ],
   "source": [
    "pd.DataFrame(\n",
    "            zip(x.columns,rfc_01.feature_importances_), \n",
    "            columns=['features', 'importance']\n",
    "        ).sort_values(\n",
    "                    by='importance', \n",
    "                    ascending=False,\n",
    "                )"
   ]
  },
  {
   "cell_type": "code",
   "execution_count": null,
   "metadata": {},
   "outputs": [],
   "source": []
  }
 ],
 "metadata": {
  "kernelspec": {
   "display_name": "Python 3",
   "language": "python",
   "name": "python3"
  },
  "language_info": {
   "codemirror_mode": {
    "name": "ipython",
    "version": 3
   },
   "file_extension": ".py",
   "mimetype": "text/x-python",
   "name": "python",
   "nbconvert_exporter": "python",
   "pygments_lexer": "ipython3",
   "version": "3.7.6"
  }
 },
 "nbformat": 4,
 "nbformat_minor": 4
}
