{
 "cells": [
  {
   "cell_type": "markdown",
   "metadata": {},
   "source": [
    "| <img src ='https://bit.ly/39XPeCc' width=200 align='left'> |\n",
    "|:--|\n",
    "|<h1>    Random_forest_HB.ipynb \n",
    "</h1> * 현범님 앤덤포래스트 노트북\n",
    "* 랜덤포레스트 샘플\n",
    "* 처음부터 하나씩 해보는 Sklearn"
   ]
  },
  {
   "cell_type": "code",
   "execution_count": 1,
   "metadata": {},
   "outputs": [],
   "source": [
    "\"\"\" \n",
    "# 기본적인 module import 위치로 작업폴더 변경 getcwd() --> chidr()\n",
    "# HOME 을 지정하고 작업폴더를 HOME 으로 변경.\n",
    "\"\"\"\n",
    "import os\n",
    "\n",
    "HOME= 'dacon_competition_2020'\n",
    "dir_base = \"\".join(os.getcwd().partition(HOME)[:2]) + \"\\\\\"\n",
    "os.chdir(dir_base)    "
   ]
  },
  {
   "cell_type": "markdown",
   "metadata": {},
   "source": [
    "## 사용함수의 정의"
   ]
  },
  {
   "cell_type": "code",
   "execution_count": 2,
   "metadata": {},
   "outputs": [
    {
     "name": "stdout",
     "output_type": "stream",
     "text": [
      "\n",
      "# 화일분석에 필요한 공동폴더를 등록합니다.\n",
      "- asset = dir_base + '_assets/'\n",
      "- statics dir_base + '_statics/'\n",
      "\n",
      "#  echo = True : SYS.PATH INSERT 상황 보여줌\n",
      "\n",
      "\n",
      "# OS 화일 및 DF 정보조회를 위한 탐색 모듈\n",
      "\n"
     ]
    }
   ],
   "source": [
    "from _assets.config_dirs import *\n",
    "from _assets.modules import *"
   ]
  },
  {
   "cell_type": "code",
   "execution_count": 3,
   "metadata": {},
   "outputs": [],
   "source": [
    "import numpy as np\n",
    "import pandas as pd\n",
    "\n",
    "from sklearn.ensemble import RandomForestClassifier\n",
    "from sklearn.model_selection import train_test_split\n",
    "from sklearn.metrics import mean_absolute_error\n",
    "from sklearn.preprocessing import StandardScaler\n",
    "\n",
    "from sklearn.feature_selection import SelectFromModel"
   ]
  },
  {
   "cell_type": "code",
   "execution_count": 2,
   "metadata": {},
   "outputs": [],
   "source": [
    "# train = pd.read_feather('./data/train.feature')\n",
    "# test = pd.read_feather('./data/test.feature')\n",
    "# sample = pd.read_feather('./data/sample_submission.feather')"
   ]
  },
  {
   "cell_type": "code",
   "execution_count": 33,
   "metadata": {},
   "outputs": [],
   "source": [
    "\"\"\"\n",
    "def DataPreProceccing(train):\n",
    "    df_train = pd.DataFrame(columns=['game_id'])\n",
    "    df_train.game_id = train.game_id.unique()\n",
    "    \n",
    "    mask = train.shift(-1).game_id != train.game_id\n",
    "    df_train['time']=np.array(train[mask].time)\n",
    "    \n",
    "    df = train[train.player==0]\n",
    "    df_train['player0_species']=np.array(df[df.shift(-1).game_id != df.game_id].species)\n",
    "    \n",
    "    df = train[train.player==1]\n",
    "    df_train['player1_species']=np.array(df[df.shift(-1).game_id != df.game_id].species)\n",
    "    \n",
    "    df = train[train.player==0]\n",
    "    df_train['event_count_0'] = np.array(df.game_id.value_counts()[df.game_id.unique()])\n",
    "    \n",
    "    df = train[train.player==1]\n",
    "    df_train['event_count_1'] = np.array(df.game_id.value_counts()[df.game_id.unique()])\n",
    "    \n",
    "    for event in train.event.unique():\n",
    "        df = train[(train.player==0)&(train.event==event)]\n",
    "        df = pd.DataFrame(df.game_id.value_counts()[df.game_id.unique()]).rename({'game_id':event+'_count_0'}, axis = 1)\n",
    "        df['game_id']= np.array(df.index)\n",
    "        df_train = pd.merge(df_train, df, on='game_id', how='left')\n",
    "\n",
    "        df = train[(train.player==1)&(train.event==event)]\n",
    "        df = pd.DataFrame(df.game_id.value_counts()[df.game_id.unique()]).rename({'game_id':event+'_count_1'}, axis = 1)\n",
    "        df['game_id']= np.array(df.index)\n",
    "        df_train = pd.merge(df_train, df, on='game_id', how='left')\n",
    "        \n",
    "    df_train = df_train.fillna(0)\n",
    "    \n",
    "    for event in train.event.unique():\n",
    "        df_train[event + '_diff'] = df_train[event+'_count_0'] - df_train[event+'_count_1']\n",
    "        \n",
    "    #df_train['winner'] = np.array(train[train.shift(-1).game_id != train.game_id].winner)\n",
    "\n",
    "    idx = df_train[df_train.player0_species=='T'].index\n",
    "    df_train.loc[idx, 'player0_species'] = 0\n",
    "    \n",
    "    idx = df_train[df_train.player0_species=='P'].index\n",
    "    df_train.loc[idx, 'player0_species'] = 1\n",
    "    \n",
    "    idx = df_train[df_train.player0_species=='Z'].index\n",
    "    df_train.loc[idx, 'player0_species'] = 2\n",
    "\n",
    "    idx = df_train[df_train.player1_species=='T'].index\n",
    "    df_train.loc[idx, 'player1_species'] = 0\n",
    "    \n",
    "    idx = df_train[df_train.player1_species=='P'].index\n",
    "    df_train.loc[idx, 'player1_species'] = 1\n",
    "    \n",
    "    idx = df_train[df_train.player1_species=='Z'].index\n",
    "    df_train.loc[idx, 'player1_species'] = 2 \n",
    "    \n",
    "    return df_train\n",
    "\"\"\"    "
   ]
  },
  {
   "cell_type": "code",
   "execution_count": 4,
   "metadata": {},
   "outputs": [
    {
     "name": "stdout",
     "output_type": "stream",
     "text": [
      "False\n",
      "DIR_TARGET=C:\\Users\\nitt0\\Documents\\Github\\dacon_competition_2020\n",
      "C:\\Users\\nitt0\\Documents\\Github\\dacon_competition_2020\\c03_starcraft_prediction/data_remake/\n",
      "----------------------------------------\n",
      "  01. .ipynb_checkpoints\n",
      "  02. accumujated_winning_rate_per_time.csv\n",
      "  03. accumulated_winning_rate_per_time.csv\n",
      "  04. df_new_rate04_correct.csv\n",
      "  05. df_win_rate_every_10sec.csv\n",
      "  06. df_win_rate_every_20sec.csv\n",
      "  07. df_win_rate_every_40sec.csv\n",
      "  08. df_xtest_remake.csv\n",
      "  09. df_xtest_remake_final.csv\n",
      "  10. df_xtrain_remake.csv\n",
      "  11. df_xtrain_remake_final.csv\n",
      "  12. df_ytrain_remake.csv\n",
      "  13. xtra_remake_xtest.csv\n",
      "  14. xtra_remake_xtest_r01.csv\n",
      "  15. xtra_remake_xtrain.csv\n",
      "  16. xtra_remake_xtrain_r01.csv\n"
     ]
    }
   ],
   "source": [
    "show_ls(dir_base + remake)"
   ]
  },
  {
   "cell_type": "code",
   "execution_count": 5,
   "metadata": {},
   "outputs": [
    {
     "data": {
      "text/html": [
       "<div>\n",
       "<style scoped>\n",
       "    .dataframe tbody tr th:only-of-type {\n",
       "        vertical-align: middle;\n",
       "    }\n",
       "\n",
       "    .dataframe tbody tr th {\n",
       "        vertical-align: top;\n",
       "    }\n",
       "\n",
       "    .dataframe thead th {\n",
       "        text-align: right;\n",
       "    }\n",
       "</style>\n",
       "<table border=\"1\" class=\"dataframe\">\n",
       "  <thead>\n",
       "    <tr style=\"text-align: right;\">\n",
       "      <th></th>\n",
       "      <th>game_id</th>\n",
       "      <th>P0_species</th>\n",
       "      <th>P0_Ability</th>\n",
       "      <th>P0_AddToControlGroup</th>\n",
       "      <th>P0_Camera</th>\n",
       "      <th>P0_ControlGroup</th>\n",
       "      <th>P0_GetControlGroup</th>\n",
       "      <th>P0_Right Click</th>\n",
       "      <th>P0_Selection</th>\n",
       "      <th>P0_SetControlGroup</th>\n",
       "      <th>...</th>\n",
       "      <th>P1_Selection</th>\n",
       "      <th>P1_SetControlGroup</th>\n",
       "      <th>delta_Ability</th>\n",
       "      <th>delta_AddToControlGroup</th>\n",
       "      <th>delta_Camera</th>\n",
       "      <th>delta_ControlGroup</th>\n",
       "      <th>delta_GetControlGroup</th>\n",
       "      <th>delta_Right Click</th>\n",
       "      <th>delta_Selection</th>\n",
       "      <th>delta_SetControlGroup</th>\n",
       "    </tr>\n",
       "  </thead>\n",
       "  <tbody>\n",
       "    <tr>\n",
       "      <th>count</th>\n",
       "      <td>38872.000000</td>\n",
       "      <td>38872.000000</td>\n",
       "      <td>38872.000000</td>\n",
       "      <td>38872.000000</td>\n",
       "      <td>38872.000000</td>\n",
       "      <td>38872.000000</td>\n",
       "      <td>38872.000000</td>\n",
       "      <td>38872.000000</td>\n",
       "      <td>38872.000000</td>\n",
       "      <td>38872.000000</td>\n",
       "      <td>...</td>\n",
       "      <td>38872.000000</td>\n",
       "      <td>38872.000000</td>\n",
       "      <td>38872.000000</td>\n",
       "      <td>38872.000000</td>\n",
       "      <td>38872.000000</td>\n",
       "      <td>38872.000000</td>\n",
       "      <td>38872.000000</td>\n",
       "      <td>38872.000000</td>\n",
       "      <td>38872.000000</td>\n",
       "      <td>38872.000000</td>\n",
       "    </tr>\n",
       "    <tr>\n",
       "      <th>mean</th>\n",
       "      <td>19435.500000</td>\n",
       "      <td>0.943790</td>\n",
       "      <td>48.806467</td>\n",
       "      <td>1.918450</td>\n",
       "      <td>407.357918</td>\n",
       "      <td>0.396275</td>\n",
       "      <td>129.523307</td>\n",
       "      <td>148.942118</td>\n",
       "      <td>122.933242</td>\n",
       "      <td>4.365610</td>\n",
       "      <td>...</td>\n",
       "      <td>122.131560</td>\n",
       "      <td>4.399156</td>\n",
       "      <td>-0.102387</td>\n",
       "      <td>-0.004939</td>\n",
       "      <td>1.034858</td>\n",
       "      <td>0.002290</td>\n",
       "      <td>0.475406</td>\n",
       "      <td>0.346753</td>\n",
       "      <td>0.801682</td>\n",
       "      <td>-0.033546</td>\n",
       "    </tr>\n",
       "    <tr>\n",
       "      <th>std</th>\n",
       "      <td>11221.524169</td>\n",
       "      <td>0.846693</td>\n",
       "      <td>28.119083</td>\n",
       "      <td>3.038626</td>\n",
       "      <td>222.351156</td>\n",
       "      <td>3.431973</td>\n",
       "      <td>186.127982</td>\n",
       "      <td>97.965154</td>\n",
       "      <td>85.964370</td>\n",
       "      <td>4.783873</td>\n",
       "      <td>...</td>\n",
       "      <td>85.485426</td>\n",
       "      <td>4.799611</td>\n",
       "      <td>18.469226</td>\n",
       "      <td>3.996941</td>\n",
       "      <td>214.550025</td>\n",
       "      <td>4.861978</td>\n",
       "      <td>219.333636</td>\n",
       "      <td>87.614048</td>\n",
       "      <td>95.411569</td>\n",
       "      <td>5.689446</td>\n",
       "    </tr>\n",
       "    <tr>\n",
       "      <th>min</th>\n",
       "      <td>0.000000</td>\n",
       "      <td>0.000000</td>\n",
       "      <td>0.000000</td>\n",
       "      <td>0.000000</td>\n",
       "      <td>0.000000</td>\n",
       "      <td>0.000000</td>\n",
       "      <td>0.000000</td>\n",
       "      <td>0.000000</td>\n",
       "      <td>0.000000</td>\n",
       "      <td>0.000000</td>\n",
       "      <td>...</td>\n",
       "      <td>0.000000</td>\n",
       "      <td>0.000000</td>\n",
       "      <td>-129.000000</td>\n",
       "      <td>-27.000000</td>\n",
       "      <td>-1293.000000</td>\n",
       "      <td>-271.000000</td>\n",
       "      <td>-1393.000000</td>\n",
       "      <td>-785.000000</td>\n",
       "      <td>-807.000000</td>\n",
       "      <td>-56.000000</td>\n",
       "    </tr>\n",
       "    <tr>\n",
       "      <th>25%</th>\n",
       "      <td>9717.750000</td>\n",
       "      <td>0.000000</td>\n",
       "      <td>27.000000</td>\n",
       "      <td>0.000000</td>\n",
       "      <td>238.000000</td>\n",
       "      <td>0.000000</td>\n",
       "      <td>11.000000</td>\n",
       "      <td>71.000000</td>\n",
       "      <td>60.000000</td>\n",
       "      <td>1.000000</td>\n",
       "      <td>...</td>\n",
       "      <td>60.000000</td>\n",
       "      <td>1.000000</td>\n",
       "      <td>-9.000000</td>\n",
       "      <td>-2.000000</td>\n",
       "      <td>-117.000000</td>\n",
       "      <td>0.000000</td>\n",
       "      <td>-57.250000</td>\n",
       "      <td>-47.000000</td>\n",
       "      <td>-47.000000</td>\n",
       "      <td>-3.000000</td>\n",
       "    </tr>\n",
       "    <tr>\n",
       "      <th>50%</th>\n",
       "      <td>19435.500000</td>\n",
       "      <td>1.000000</td>\n",
       "      <td>46.000000</td>\n",
       "      <td>0.000000</td>\n",
       "      <td>390.000000</td>\n",
       "      <td>0.000000</td>\n",
       "      <td>45.000000</td>\n",
       "      <td>133.000000</td>\n",
       "      <td>102.000000</td>\n",
       "      <td>3.000000</td>\n",
       "      <td>...</td>\n",
       "      <td>102.000000</td>\n",
       "      <td>3.000000</td>\n",
       "      <td>0.000000</td>\n",
       "      <td>0.000000</td>\n",
       "      <td>1.000000</td>\n",
       "      <td>0.000000</td>\n",
       "      <td>0.000000</td>\n",
       "      <td>0.000000</td>\n",
       "      <td>0.000000</td>\n",
       "      <td>0.000000</td>\n",
       "    </tr>\n",
       "    <tr>\n",
       "      <th>75%</th>\n",
       "      <td>29153.250000</td>\n",
       "      <td>2.000000</td>\n",
       "      <td>66.000000</td>\n",
       "      <td>3.000000</td>\n",
       "      <td>549.000000</td>\n",
       "      <td>0.000000</td>\n",
       "      <td>175.000000</td>\n",
       "      <td>210.000000</td>\n",
       "      <td>167.000000</td>\n",
       "      <td>6.000000</td>\n",
       "      <td>...</td>\n",
       "      <td>165.000000</td>\n",
       "      <td>6.000000</td>\n",
       "      <td>9.000000</td>\n",
       "      <td>2.000000</td>\n",
       "      <td>121.000000</td>\n",
       "      <td>0.000000</td>\n",
       "      <td>58.000000</td>\n",
       "      <td>48.000000</td>\n",
       "      <td>49.000000</td>\n",
       "      <td>3.000000</td>\n",
       "    </tr>\n",
       "    <tr>\n",
       "      <th>max</th>\n",
       "      <td>38871.000000</td>\n",
       "      <td>2.000000</td>\n",
       "      <td>216.000000</td>\n",
       "      <td>35.000000</td>\n",
       "      <td>1832.000000</td>\n",
       "      <td>241.000000</td>\n",
       "      <td>2320.000000</td>\n",
       "      <td>856.000000</td>\n",
       "      <td>953.000000</td>\n",
       "      <td>62.000000</td>\n",
       "      <td>...</td>\n",
       "      <td>960.000000</td>\n",
       "      <td>73.000000</td>\n",
       "      <td>141.000000</td>\n",
       "      <td>35.000000</td>\n",
       "      <td>1589.000000</td>\n",
       "      <td>241.000000</td>\n",
       "      <td>2222.000000</td>\n",
       "      <td>626.000000</td>\n",
       "      <td>733.000000</td>\n",
       "      <td>57.000000</td>\n",
       "    </tr>\n",
       "  </tbody>\n",
       "</table>\n",
       "<p>8 rows × 27 columns</p>\n",
       "</div>"
      ],
      "text/plain": [
       "            game_id    P0_species    P0_Ability  P0_AddToControlGroup  \\\n",
       "count  38872.000000  38872.000000  38872.000000          38872.000000   \n",
       "mean   19435.500000      0.943790     48.806467              1.918450   \n",
       "std    11221.524169      0.846693     28.119083              3.038626   \n",
       "min        0.000000      0.000000      0.000000              0.000000   \n",
       "25%     9717.750000      0.000000     27.000000              0.000000   \n",
       "50%    19435.500000      1.000000     46.000000              0.000000   \n",
       "75%    29153.250000      2.000000     66.000000              3.000000   \n",
       "max    38871.000000      2.000000    216.000000             35.000000   \n",
       "\n",
       "          P0_Camera  P0_ControlGroup  P0_GetControlGroup  P0_Right Click  \\\n",
       "count  38872.000000     38872.000000        38872.000000    38872.000000   \n",
       "mean     407.357918         0.396275          129.523307      148.942118   \n",
       "std      222.351156         3.431973          186.127982       97.965154   \n",
       "min        0.000000         0.000000            0.000000        0.000000   \n",
       "25%      238.000000         0.000000           11.000000       71.000000   \n",
       "50%      390.000000         0.000000           45.000000      133.000000   \n",
       "75%      549.000000         0.000000          175.000000      210.000000   \n",
       "max     1832.000000       241.000000         2320.000000      856.000000   \n",
       "\n",
       "       P0_Selection  P0_SetControlGroup  ...  P1_Selection  \\\n",
       "count  38872.000000        38872.000000  ...  38872.000000   \n",
       "mean     122.933242            4.365610  ...    122.131560   \n",
       "std       85.964370            4.783873  ...     85.485426   \n",
       "min        0.000000            0.000000  ...      0.000000   \n",
       "25%       60.000000            1.000000  ...     60.000000   \n",
       "50%      102.000000            3.000000  ...    102.000000   \n",
       "75%      167.000000            6.000000  ...    165.000000   \n",
       "max      953.000000           62.000000  ...    960.000000   \n",
       "\n",
       "       P1_SetControlGroup  delta_Ability  delta_AddToControlGroup  \\\n",
       "count        38872.000000   38872.000000             38872.000000   \n",
       "mean             4.399156      -0.102387                -0.004939   \n",
       "std              4.799611      18.469226                 3.996941   \n",
       "min              0.000000    -129.000000               -27.000000   \n",
       "25%              1.000000      -9.000000                -2.000000   \n",
       "50%              3.000000       0.000000                 0.000000   \n",
       "75%              6.000000       9.000000                 2.000000   \n",
       "max             73.000000     141.000000                35.000000   \n",
       "\n",
       "       delta_Camera  delta_ControlGroup  delta_GetControlGroup  \\\n",
       "count  38872.000000        38872.000000           38872.000000   \n",
       "mean       1.034858            0.002290               0.475406   \n",
       "std      214.550025            4.861978             219.333636   \n",
       "min    -1293.000000         -271.000000           -1393.000000   \n",
       "25%     -117.000000            0.000000             -57.250000   \n",
       "50%        1.000000            0.000000               0.000000   \n",
       "75%      121.000000            0.000000              58.000000   \n",
       "max     1589.000000          241.000000            2222.000000   \n",
       "\n",
       "       delta_Right Click  delta_Selection  delta_SetControlGroup  \n",
       "count       38872.000000     38872.000000           38872.000000  \n",
       "mean            0.346753         0.801682              -0.033546  \n",
       "std            87.614048        95.411569               5.689446  \n",
       "min          -785.000000      -807.000000             -56.000000  \n",
       "25%           -47.000000       -47.000000              -3.000000  \n",
       "50%             0.000000         0.000000               0.000000  \n",
       "75%            48.000000        49.000000               3.000000  \n",
       "max           626.000000       733.000000              57.000000  \n",
       "\n",
       "[8 rows x 27 columns]"
      ]
     },
     "execution_count": 5,
     "metadata": {},
     "output_type": "execute_result"
    }
   ],
   "source": [
    "df_train = pd.read_csv(dir_base + remake + 'df_xtrain_remake.csv')\n",
    "df_train.describe()"
   ]
  },
  {
   "cell_type": "code",
   "execution_count": 6,
   "metadata": {},
   "outputs": [
    {
     "data": {
      "text/plain": [
       "(38872, 27)"
      ]
     },
     "execution_count": 6,
     "metadata": {},
     "output_type": "execute_result"
    }
   ],
   "source": [
    "df_train.shape"
   ]
  },
  {
   "cell_type": "code",
   "execution_count": 30,
   "metadata": {},
   "outputs": [],
   "source": [
    "\"\"\"\n",
    "# y = dsklearn.feature_selection,-1]\n",
    "# X = df_train.iloc[:,:-1]\n",
    "# (31097, 30) --> (31097, 27) 왜 피처가 3개출어 들었나?\n",
    "\"\"\"\n",
    "X = df_train\n",
    "y = pd.read_csv(dir_base + remake + 'df_ytrain_remake.csv', index_col='Unnamed: 0')\n",
    "y = y['winner']           # pandas.core.series.Series"
   ]
  },
  {
   "cell_type": "code",
   "execution_count": 31,
   "metadata": {},
   "outputs": [
    {
     "data": {
      "text/plain": [
       "((31097, 27), (7775, 27), (31097,), (7775,))"
      ]
     },
     "execution_count": 31,
     "metadata": {},
     "output_type": "execute_result"
    }
   ],
   "source": [
    "X_train, X_test, y_train, y_test = train_test_split(X, y, test_size=0.2, random_state=42)\n",
    "X_train.shape, X_test.shape, y_train.shape, y_test.shape"
   ]
  },
  {
   "cell_type": "markdown",
   "metadata": {},
   "source": [
    "## 중요 피쳐 뽑아보기"
   ]
  },
  {
   "cell_type": "code",
   "execution_count": 32,
   "metadata": {},
   "outputs": [],
   "source": [
    "forest = RandomForestClassifier(n_estimators=1000, random_state=1997, n_jobs=-1)\n"
   ]
  },
  {
   "cell_type": "code",
   "execution_count": 33,
   "metadata": {},
   "outputs": [
    {
     "data": {
      "text/plain": [
       "RandomForestClassifier(bootstrap=True, ccp_alpha=0.0, class_weight=None,\n",
       "                       criterion='gini', max_depth=None, max_features='auto',\n",
       "                       max_leaf_nodes=None, max_samples=None,\n",
       "                       min_impurity_decrease=0.0, min_impurity_split=None,\n",
       "                       min_samples_leaf=1, min_samples_split=2,\n",
       "                       min_weight_fraction_leaf=0.0, n_estimators=1000,\n",
       "                       n_jobs=-1, oob_score=False, random_state=1997, verbose=0,\n",
       "                       warm_start=False)"
      ]
     },
     "execution_count": 33,
     "metadata": {},
     "output_type": "execute_result"
    }
   ],
   "source": [
    "forest.fit(X_train, y_train)"
   ]
  },
  {
   "cell_type": "code",
   "execution_count": 34,
   "metadata": {},
   "outputs": [
    {
     "data": {
      "text/plain": [
       "array([0.05402026, 0.01132358, 0.04555251, 0.01903538, 0.05202668,\n",
       "       0.00396083, 0.04616396, 0.04895633, 0.04955728, 0.02721587,\n",
       "       0.01124108, 0.04614369, 0.01868508, 0.05177143, 0.00378693,\n",
       "       0.04481305, 0.04927326, 0.04933454, 0.02720883, 0.06421215,\n",
       "       0.02792735, 0.05137017, 0.00723228, 0.0537872 , 0.05096644,\n",
       "       0.05076556, 0.03366827])"
      ]
     },
     "execution_count": 34,
     "metadata": {},
     "output_type": "execute_result"
    }
   ],
   "source": [
    "importances = forest.feature_importances_\n",
    "importances"
   ]
  },
  {
   "cell_type": "code",
   "execution_count": 35,
   "metadata": {},
   "outputs": [
    {
     "data": {
      "text/plain": [
       "array([19,  0, 23,  4, 13, 21, 24, 25,  8, 17, 16,  7,  6, 11,  2, 15, 26,\n",
       "       20,  9, 18,  3, 12,  1, 10, 22,  5, 14], dtype=int64)"
      ]
     },
     "execution_count": 35,
     "metadata": {},
     "output_type": "execute_result"
    }
   ],
   "source": [
    "indices = np.argsort(importances)[::-1]\n",
    "indices"
   ]
  },
  {
   "cell_type": "code",
   "execution_count": 36,
   "metadata": {},
   "outputs": [
    {
     "name": "stdout",
     "output_type": "stream",
     "text": [
      " 1) delta_AddToControlGroup        0.064212\n",
      " 2) P0_species                     0.054020\n",
      " 3) delta_Right Click              0.053787\n",
      " 4) P0_ControlGroup                0.052027\n",
      " 5) P1_ControlGroup                0.051771\n",
      " 6) delta_ControlGroup             0.051370\n",
      " 7) delta_Selection                0.050966\n",
      " 8) delta_SetControlGroup          0.050766\n",
      " 9) P0_SetControlGroup             0.049557\n",
      "10) P1_SetControlGroup             0.049335\n",
      "11) P1_Selection                   0.049273\n",
      "12) P0_Selection                   0.048956\n",
      "13) P0_Right Click                 0.046164\n",
      "14) P1_AddToControlGroup           0.046144\n",
      "15) P0_AddToControlGroup           0.045553\n",
      "16) P1_Right Click                 0.044813\n"
     ]
    },
    {
     "ename": "IndexError",
     "evalue": "index 26 is out of bounds for axis 0 with size 26",
     "output_type": "error",
     "traceback": [
      "\u001b[1;31m---------------------------------------------------------------------------\u001b[0m",
      "\u001b[1;31mIndexError\u001b[0m                                Traceback (most recent call last)",
      "\u001b[1;32m<ipython-input-36-ce3622c90eab>\u001b[0m in \u001b[0;36m<module>\u001b[1;34m\u001b[0m\n\u001b[0;32m      3\u001b[0m \u001b[1;33m\u001b[0m\u001b[0m\n\u001b[0;32m      4\u001b[0m \u001b[1;32mfor\u001b[0m \u001b[0mf\u001b[0m \u001b[1;32min\u001b[0m \u001b[0mrange\u001b[0m\u001b[1;33m(\u001b[0m\u001b[0mX_train\u001b[0m\u001b[1;33m.\u001b[0m\u001b[0mshape\u001b[0m\u001b[1;33m[\u001b[0m\u001b[1;36m1\u001b[0m\u001b[1;33m]\u001b[0m\u001b[1;33m)\u001b[0m\u001b[1;33m:\u001b[0m\u001b[1;33m\u001b[0m\u001b[1;33m\u001b[0m\u001b[0m\n\u001b[1;32m----> 5\u001b[1;33m     \u001b[0mprint\u001b[0m\u001b[1;33m(\u001b[0m\u001b[1;34m\"%2d) %-*s %f\"\u001b[0m \u001b[1;33m%\u001b[0m\u001b[1;33m(\u001b[0m\u001b[0mf\u001b[0m\u001b[1;33m+\u001b[0m\u001b[1;36m1\u001b[0m\u001b[1;33m,\u001b[0m\u001b[1;36m30\u001b[0m\u001b[1;33m,\u001b[0m\u001b[0mfeat_labels\u001b[0m\u001b[1;33m[\u001b[0m\u001b[0mindices\u001b[0m\u001b[1;33m[\u001b[0m\u001b[0mf\u001b[0m\u001b[1;33m]\u001b[0m\u001b[1;33m]\u001b[0m\u001b[1;33m,\u001b[0m\u001b[0mimportances\u001b[0m\u001b[1;33m[\u001b[0m\u001b[0mindices\u001b[0m\u001b[1;33m[\u001b[0m\u001b[0mf\u001b[0m\u001b[1;33m]\u001b[0m\u001b[1;33m]\u001b[0m\u001b[1;33m)\u001b[0m\u001b[1;33m)\u001b[0m\u001b[1;33m\u001b[0m\u001b[1;33m\u001b[0m\u001b[0m\n\u001b[0m",
      "\u001b[1;32mC:\\Anaconda3\\lib\\site-packages\\pandas\\core\\indexes\\base.py\u001b[0m in \u001b[0;36m__getitem__\u001b[1;34m(self, key)\u001b[0m\n\u001b[0;32m   3928\u001b[0m         \u001b[1;32mif\u001b[0m \u001b[0mis_scalar\u001b[0m\u001b[1;33m(\u001b[0m\u001b[0mkey\u001b[0m\u001b[1;33m)\u001b[0m\u001b[1;33m:\u001b[0m\u001b[1;33m\u001b[0m\u001b[1;33m\u001b[0m\u001b[0m\n\u001b[0;32m   3929\u001b[0m             \u001b[0mkey\u001b[0m \u001b[1;33m=\u001b[0m \u001b[0mcom\u001b[0m\u001b[1;33m.\u001b[0m\u001b[0mcast_scalar_indexer\u001b[0m\u001b[1;33m(\u001b[0m\u001b[0mkey\u001b[0m\u001b[1;33m)\u001b[0m\u001b[1;33m\u001b[0m\u001b[1;33m\u001b[0m\u001b[0m\n\u001b[1;32m-> 3930\u001b[1;33m             \u001b[1;32mreturn\u001b[0m \u001b[0mgetitem\u001b[0m\u001b[1;33m(\u001b[0m\u001b[0mkey\u001b[0m\u001b[1;33m)\u001b[0m\u001b[1;33m\u001b[0m\u001b[1;33m\u001b[0m\u001b[0m\n\u001b[0m\u001b[0;32m   3931\u001b[0m \u001b[1;33m\u001b[0m\u001b[0m\n\u001b[0;32m   3932\u001b[0m         \u001b[1;32mif\u001b[0m \u001b[0misinstance\u001b[0m\u001b[1;33m(\u001b[0m\u001b[0mkey\u001b[0m\u001b[1;33m,\u001b[0m \u001b[0mslice\u001b[0m\u001b[1;33m)\u001b[0m\u001b[1;33m:\u001b[0m\u001b[1;33m\u001b[0m\u001b[1;33m\u001b[0m\u001b[0m\n",
      "\u001b[1;31mIndexError\u001b[0m: index 26 is out of bounds for axis 0 with size 26"
     ]
    }
   ],
   "source": [
    "feat_labels = df_train.columns[1:]\n",
    "feat_labels\n",
    "\n",
    "for f in range(X_train.shape[1]):\n",
    "    print(\"%2d) %-*s %f\" %(f+1,30,feat_labels[indices[f]],importances[indices[f]]))"
   ]
  },
  {
   "cell_type": "code",
   "execution_count": 27,
   "metadata": {},
   "outputs": [],
   "source": [
    "sfm = SelectFromModel(forest, threshold=0.03, prefit=True)"
   ]
  },
  {
   "cell_type": "code",
   "execution_count": 28,
   "metadata": {},
   "outputs": [],
   "source": [
    "X_selected = sfm.transform(X_train)"
   ]
  },
  {
   "cell_type": "code",
   "execution_count": 30,
   "metadata": {},
   "outputs": [
    {
     "data": {
      "text/plain": [
       "0.41672025723472667"
      ]
     },
     "execution_count": 30,
     "metadata": {},
     "output_type": "execute_result"
    }
   ],
   "source": [
    "forest = RandomForestClassifier(n_estimators=1000, random_state=1997, n_jobs=-1)\n",
    "\n",
    "forest.fit(X_selected, y_train)\n",
    "\n",
    "\n",
    "X_test_selected = sfm.transform(X_test)\n",
    "\n",
    "pred = forest.predict(X_test_selected)\n",
    "\n",
    "err = mean_absolute_error(y_test, pred)\n",
    "err"
   ]
  },
  {
   "cell_type": "code",
   "execution_count": 34,
   "metadata": {},
   "outputs": [],
   "source": [
    "x_infer = DataPreProceccing(test)\n"
   ]
  },
  {
   "cell_type": "code",
   "execution_count": 36,
   "metadata": {},
   "outputs": [],
   "source": [
    "x_infer_selected = sfm.transform(x_infer)"
   ]
  },
  {
   "cell_type": "code",
   "execution_count": 37,
   "metadata": {},
   "outputs": [],
   "source": [
    "y_infer = forest.predict_proba(x_infer_selected)"
   ]
  },
  {
   "cell_type": "code",
   "execution_count": 39,
   "metadata": {},
   "outputs": [
    {
     "data": {
      "text/plain": [
       "array([[0.448, 0.552],\n",
       "       [0.529, 0.471],\n",
       "       [0.53 , 0.47 ],\n",
       "       ...,\n",
       "       [0.516, 0.484],\n",
       "       [0.461, 0.539],\n",
       "       [0.561, 0.439]])"
      ]
     },
     "execution_count": 39,
     "metadata": {},
     "output_type": "execute_result"
    }
   ],
   "source": [
    "y_infer"
   ]
  },
  {
   "cell_type": "code",
   "execution_count": 42,
   "metadata": {},
   "outputs": [],
   "source": [
    "sample['winner'] = y_infer"
   ]
  },
  {
   "cell_type": "code",
   "execution_count": 43,
   "metadata": {},
   "outputs": [
    {
     "data": {
      "text/html": [
       "<div>\n",
       "<style scoped>\n",
       "    .dataframe tbody tr th:only-of-type {\n",
       "        vertical-align: middle;\n",
       "    }\n",
       "\n",
       "    .dataframe tbody tr th {\n",
       "        vertical-align: top;\n",
       "    }\n",
       "\n",
       "    .dataframe thead th {\n",
       "        text-align: right;\n",
       "    }\n",
       "</style>\n",
       "<table border=\"1\" class=\"dataframe\">\n",
       "  <thead>\n",
       "    <tr style=\"text-align: right;\">\n",
       "      <th></th>\n",
       "      <th>game_id</th>\n",
       "      <th>winner</th>\n",
       "    </tr>\n",
       "  </thead>\n",
       "  <tbody>\n",
       "    <tr>\n",
       "      <th>0</th>\n",
       "      <td>38872</td>\n",
       "      <td>0.448</td>\n",
       "    </tr>\n",
       "    <tr>\n",
       "      <th>1</th>\n",
       "      <td>38873</td>\n",
       "      <td>0.529</td>\n",
       "    </tr>\n",
       "    <tr>\n",
       "      <th>2</th>\n",
       "      <td>38874</td>\n",
       "      <td>0.530</td>\n",
       "    </tr>\n",
       "    <tr>\n",
       "      <th>3</th>\n",
       "      <td>38875</td>\n",
       "      <td>0.565</td>\n",
       "    </tr>\n",
       "    <tr>\n",
       "      <th>4</th>\n",
       "      <td>38876</td>\n",
       "      <td>0.497</td>\n",
       "    </tr>\n",
       "    <tr>\n",
       "      <th>...</th>\n",
       "      <td>...</td>\n",
       "      <td>...</td>\n",
       "    </tr>\n",
       "    <tr>\n",
       "      <th>16782</th>\n",
       "      <td>55654</td>\n",
       "      <td>0.504</td>\n",
       "    </tr>\n",
       "    <tr>\n",
       "      <th>16783</th>\n",
       "      <td>55655</td>\n",
       "      <td>0.529</td>\n",
       "    </tr>\n",
       "    <tr>\n",
       "      <th>16784</th>\n",
       "      <td>55656</td>\n",
       "      <td>0.516</td>\n",
       "    </tr>\n",
       "    <tr>\n",
       "      <th>16785</th>\n",
       "      <td>55657</td>\n",
       "      <td>0.461</td>\n",
       "    </tr>\n",
       "    <tr>\n",
       "      <th>16786</th>\n",
       "      <td>55658</td>\n",
       "      <td>0.561</td>\n",
       "    </tr>\n",
       "  </tbody>\n",
       "</table>\n",
       "<p>16787 rows × 2 columns</p>\n",
       "</div>"
      ],
      "text/plain": [
       "       game_id  winner\n",
       "0        38872   0.448\n",
       "1        38873   0.529\n",
       "2        38874   0.530\n",
       "3        38875   0.565\n",
       "4        38876   0.497\n",
       "...        ...     ...\n",
       "16782    55654   0.504\n",
       "16783    55655   0.529\n",
       "16784    55656   0.516\n",
       "16785    55657   0.461\n",
       "16786    55658   0.561\n",
       "\n",
       "[16787 rows x 2 columns]"
      ]
     },
     "execution_count": 43,
     "metadata": {},
     "output_type": "execute_result"
    }
   ],
   "source": [
    "sample"
   ]
  },
  {
   "cell_type": "code",
   "execution_count": 44,
   "metadata": {},
   "outputs": [],
   "source": [
    "sample.to_csv('./data/HB_submission_RNF20200401.csv', index=False)"
   ]
  },
  {
   "cell_type": "code",
   "execution_count": null,
   "metadata": {},
   "outputs": [],
   "source": []
  }
 ],
 "metadata": {
  "kernelspec": {
   "display_name": "Python 3",
   "language": "python",
   "name": "python3"
  },
  "language_info": {
   "codemirror_mode": {
    "name": "ipython",
    "version": 3
   },
   "file_extension": ".py",
   "mimetype": "text/x-python",
   "name": "python",
   "nbconvert_exporter": "python",
   "pygments_lexer": "ipython3",
   "version": "3.7.6"
  }
 },
 "nbformat": 4,
 "nbformat_minor": 4
}
