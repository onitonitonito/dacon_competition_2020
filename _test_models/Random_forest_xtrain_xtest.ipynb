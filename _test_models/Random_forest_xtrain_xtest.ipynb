{
 "cells": [
  {
   "cell_type": "markdown",
   "metadata": {},
   "source": [
    "| <img src ='https://bit.ly/39XPeCc' width=200 align='left'> |\n",
    "|:--|\n",
    "|<h1>   Random_forest_xtrain_xtest.ipynb\n",
    "</h1>"
   ]
  },
  {
   "cell_type": "markdown",
   "metadata": {},
   "source": [
    "## 사용함수의 정의"
   ]
  },
  {
   "cell_type": "code",
   "execution_count": 1,
   "metadata": {},
   "outputs": [],
   "source": [
    "\"\"\" \n",
    "# 기본적인 module import 위치로 작업폴더 변경 getcwd() --> chidr()\n",
    "# HOME 을 지정하고 작업폴더를 HOME 으로 변경.\n",
    "\"\"\"\n",
    "import os\n",
    "\n",
    "HOME= 'dacon_competition_2020'\n",
    "dir_base = \"\".join(os.getcwd().partition(HOME)[:2]) + \"\\\\\"\n",
    "os.chdir(dir_base)     "
   ]
  },
  {
   "cell_type": "code",
   "execution_count": 2,
   "metadata": {},
   "outputs": [
    {
     "name": "stdout",
     "output_type": "stream",
     "text": [
      "\n",
      "# 화일분석에 필요한 공동폴더를 등록합니다.\n",
      "- asset = dir_base + '_assets/'\n",
      "- statics dir_base + '_statics/'\n",
      "\n",
      "#  echo = True : SYS.PATH INSERT 상황 보여줌\n",
      "\n",
      "\n",
      "# OS 화일 및 DF 정보조회를 위한 탐색 모듈\n",
      "\n"
     ]
    }
   ],
   "source": [
    "from _assets.config_dirs import *\n",
    "from _assets.modules import *"
   ]
  },
  {
   "cell_type": "code",
   "execution_count": 3,
   "metadata": {},
   "outputs": [],
   "source": [
    "\"\"\"\n",
    "# RandomForestClassifier 클래스를 import\n",
    "\"\"\"\n",
    "import numpy as np\n",
    "import pandas as pd\n",
    " \n",
    "from sklearn.metrics import accuracy_score\n",
    "from sklearn.metrics import classification_report\n",
    "from sklearn.ensemble import RandomForestClassifier\n",
    "from sklearn.model_selection import train_test_split"
   ]
  },
  {
   "cell_type": "code",
   "execution_count": 4,
   "metadata": {},
   "outputs": [],
   "source": [
    "x = pd.read_csv(dir_base + remake + 'df_xtrain_remake.csv')\n",
    "y = pd.read_csv(dir_base + remake + 'df_ytrain_remake.csv')['winner']\n",
    "\n",
    "X_train, X_test, Y_train, Y_test = train_test_split(x, y, test_size=0.2)"
   ]
  },
  {
   "cell_type": "code",
   "execution_count": 5,
   "metadata": {},
   "outputs": [
    {
     "name": "stdout",
     "output_type": "stream",
     "text": [
      "*** DATA SHAPE = [ 38,872 x 27 ]\n",
      "\n",
      "<class 'pandas.core.frame.DataFrame'>\n",
      "RangeIndex: 38872 entries, 0 to 38871\n",
      "Data columns (total 27 columns):\n",
      " #   Column                   Non-Null Count  Dtype  \n",
      "---  ------                   --------------  -----  \n",
      " 0   game_id                  38872 non-null  int64  \n",
      " 1   P0_species               38872 non-null  int64  \n",
      " 2   P0_Ability               38872 non-null  float64\n",
      " 3   P0_AddToControlGroup     38872 non-null  float64\n",
      " 4   P0_Camera                38872 non-null  float64\n",
      " 5   P0_ControlGroup          38872 non-null  float64\n",
      " 6   P0_GetControlGroup       38872 non-null  float64\n",
      " 7   P0_Right Click           38872 non-null  float64\n",
      " 8   P0_Selection             38872 non-null  float64\n",
      " 9   P0_SetControlGroup       38872 non-null  float64\n",
      " 10  P1_species               38872 non-null  int64  \n",
      " 11  P1_Ability               38872 non-null  float64\n",
      " 12  P1_AddToControlGroup     38872 non-null  float64\n",
      " 13  P1_Camera                38872 non-null  float64\n",
      " 14  P1_ControlGroup          38872 non-null  float64\n",
      " 15  P1_GetControlGroup       38872 non-null  float64\n",
      " 16  P1_Right Click           38872 non-null  float64\n",
      " 17  P1_Selection             38872 non-null  float64\n",
      " 18  P1_SetControlGroup       38872 non-null  float64\n",
      " 19  delta_Ability            38872 non-null  float64\n",
      " 20  delta_AddToControlGroup  38872 non-null  float64\n",
      " 21  delta_Camera             38872 non-null  float64\n",
      " 22  delta_ControlGroup       38872 non-null  float64\n",
      " 23  delta_GetControlGroup    38872 non-null  float64\n",
      " 24  delta_Right Click        38872 non-null  float64\n",
      " 25  delta_Selection          38872 non-null  float64\n",
      " 26  delta_SetControlGroup    38872 non-null  float64\n",
      "dtypes: float64(24), int64(3)\n",
      "memory usage: 8.0 MB\n",
      "None\n",
      "\n",
      "            game_id    P0_species    P0_Ability  P0_AddToControlGroup  \\\n",
      "count  38872.000000  38872.000000  38872.000000          38872.000000   \n",
      "mean   19435.500000      0.943790     48.806467              1.918450   \n",
      "std    11221.524169      0.846693     28.119083              3.038626   \n",
      "min        0.000000      0.000000      0.000000              0.000000   \n",
      "25%     9717.750000      0.000000     27.000000              0.000000   \n",
      "50%    19435.500000      1.000000     46.000000              0.000000   \n",
      "75%    29153.250000      2.000000     66.000000              3.000000   \n",
      "max    38871.000000      2.000000    216.000000             35.000000   \n",
      "\n",
      "          P0_Camera  P0_ControlGroup  P0_GetControlGroup  P0_Right Click  \\\n",
      "count  38872.000000     38872.000000        38872.000000    38872.000000   \n",
      "mean     407.357918         0.396275          129.523307      148.942118   \n",
      "std      222.351156         3.431973          186.127982       97.965154   \n",
      "min        0.000000         0.000000            0.000000        0.000000   \n",
      "25%      238.000000         0.000000           11.000000       71.000000   \n",
      "50%      390.000000         0.000000           45.000000      133.000000   \n",
      "75%      549.000000         0.000000          175.000000      210.000000   \n",
      "max     1832.000000       241.000000         2320.000000      856.000000   \n",
      "\n",
      "       P0_Selection  P0_SetControlGroup  ...  P1_Selection  \\\n",
      "count  38872.000000        38872.000000  ...  38872.000000   \n",
      "mean     122.933242            4.365610  ...    122.131560   \n",
      "std       85.964370            4.783873  ...     85.485426   \n",
      "min        0.000000            0.000000  ...      0.000000   \n",
      "25%       60.000000            1.000000  ...     60.000000   \n",
      "50%      102.000000            3.000000  ...    102.000000   \n",
      "75%      167.000000            6.000000  ...    165.000000   \n",
      "max      953.000000           62.000000  ...    960.000000   \n",
      "\n",
      "       P1_SetControlGroup  delta_Ability  delta_AddToControlGroup  \\\n",
      "count        38872.000000   38872.000000             38872.000000   \n",
      "mean             4.399156      -0.102387                -0.004939   \n",
      "std              4.799611      18.469226                 3.996941   \n",
      "min              0.000000    -129.000000               -27.000000   \n",
      "25%              1.000000      -9.000000                -2.000000   \n",
      "50%              3.000000       0.000000                 0.000000   \n",
      "75%              6.000000       9.000000                 2.000000   \n",
      "max             73.000000     141.000000                35.000000   \n",
      "\n",
      "       delta_Camera  delta_ControlGroup  delta_GetControlGroup  \\\n",
      "count  38872.000000        38872.000000           38872.000000   \n",
      "mean       1.034858            0.002290               0.475406   \n",
      "std      214.550025            4.861978             219.333636   \n",
      "min    -1293.000000         -271.000000           -1393.000000   \n",
      "25%     -117.000000            0.000000             -57.250000   \n",
      "50%        1.000000            0.000000               0.000000   \n",
      "75%      121.000000            0.000000              58.000000   \n",
      "max     1589.000000          241.000000            2222.000000   \n",
      "\n",
      "       delta_Right Click  delta_Selection  delta_SetControlGroup  \n",
      "count       38872.000000     38872.000000           38872.000000  \n",
      "mean            0.346753         0.801682              -0.033546  \n",
      "std            87.614048        95.411569               5.689446  \n",
      "min          -785.000000      -807.000000             -56.000000  \n",
      "25%           -47.000000       -47.000000              -3.000000  \n",
      "50%             0.000000         0.000000               0.000000  \n",
      "75%            48.000000        49.000000               3.000000  \n",
      "max           626.000000       733.000000              57.000000  \n",
      "\n",
      "[8 rows x 27 columns]\n",
      "\n"
     ]
    }
   ],
   "source": [
    "show_infoDF_from(x)"
   ]
  },
  {
   "cell_type": "code",
   "execution_count": 6,
   "metadata": {},
   "outputs": [],
   "source": [
    "\"\"\"\n",
    "# tree개수 Random Forest 분류 모듈 생성\n",
    "# 그냥 Default 값을 사용한다.\n",
    "# 차이점 = 정렬된 Data 사용 <==> shuffled data-set 사용\n",
    "\"\"\"\n",
    "rfc = RandomForestClassifier(          # default = *                    \n",
    "                    bootstrap=True,    # 붓스트랩 생성*\n",
    "                    criterion='gini',  # 지니계수 검정*\n",
    "                    max_features='auto', # 최대피처=자동*\n",
    "    \n",
    "                    n_estimators=400,  # 트리갯수=400개\n",
    "                    oob_score=True,    # OOB스코링 사용!\n",
    "                    verbose=1,         # 상세하게 에코!\n",
    "                    warm_start=True,   # 웜스타트=OK\n",
    "                )"
   ]
  },
  {
   "cell_type": "code",
   "execution_count": 7,
   "metadata": {},
   "outputs": [
    {
     "name": "stderr",
     "output_type": "stream",
     "text": [
      "[Parallel(n_jobs=1)]: Using backend SequentialBackend with 1 concurrent workers.\n",
      "[Parallel(n_jobs=1)]: Done 400 out of 400 | elapsed:   48.0s finished\n",
      "[Parallel(n_jobs=1)]: Using backend SequentialBackend with 1 concurrent workers.\n"
     ]
    },
    {
     "name": "stdout",
     "output_type": "stream",
     "text": [
      "Accuracy is:  0.6054019292604501\n",
      "--------------------------------------------------------------------------------\n",
      "              precision    recall  f1-score   support\n",
      "\n",
      "           0       0.61      0.60      0.61      3903\n",
      "           1       0.60      0.61      0.61      3872\n",
      "\n",
      "    accuracy                           0.61      7775\n",
      "   macro avg       0.61      0.61      0.61      7775\n",
      "weighted avg       0.61      0.61      0.61      7775\n",
      "\n"
     ]
    },
    {
     "name": "stderr",
     "output_type": "stream",
     "text": [
      "[Parallel(n_jobs=1)]: Done 400 out of 400 | elapsed:    1.0s finished\n"
     ]
    }
   ],
   "source": [
    "\"\"\"\n",
    "# X_train과 Y_train을 입력해 모듈을 학습 시킨다.\n",
    "\"\"\"\n",
    "\n",
    "rfc.fit(X_train, Y_train) \n",
    "pred = rfc.predict(X_test)\n",
    "\n",
    "# print(pred == Y_test)\n",
    "print(\"Accuracy is: \", accuracy_score(pred, Y_test))\n",
    "print(\"----\" * 20)\n",
    "print(classification_report(pred, Y_test))"
   ]
  },
  {
   "cell_type": "code",
   "execution_count": 8,
   "metadata": {},
   "outputs": [],
   "source": [
    "\"\"\"\n",
    "# Initialize the model\n",
    "# 트리수=200개, OOB 스코어링을 사용한다.\n",
    "\"\"\"\n",
    "rfc_01 = RandomForestClassifier(             # default = *                    \n",
    "                            bootstrap=True,  # 붓스트랩 생성*\n",
    "                            criterion='gini', # 지니계수 검정*\n",
    "    \n",
    "                            max_features=5,   # Num features = 5\n",
    "                            n_estimators=600, # Number of trees = 600개\n",
    "                            oob_score=True,  # Use OOB scoring\n",
    "                            verbose=1,       # 상세하게 에코!\n",
    "                        )"
   ]
  },
  {
   "cell_type": "code",
   "execution_count": 9,
   "metadata": {},
   "outputs": [
    {
     "name": "stderr",
     "output_type": "stream",
     "text": [
      "[Parallel(n_jobs=1)]: Using backend SequentialBackend with 1 concurrent workers.\n",
      "[Parallel(n_jobs=1)]: Done 600 out of 600 | elapsed:  1.3min finished\n",
      "[Parallel(n_jobs=1)]: Using backend SequentialBackend with 1 concurrent workers.\n"
     ]
    },
    {
     "name": "stdout",
     "output_type": "stream",
     "text": [
      "Accuracy is :  0.607588424437299\n",
      "--------------------------------------------------------------------------------\n",
      "              precision    recall  f1-score   support\n",
      "\n",
      "           0       0.61      0.60      0.61      3892\n",
      "           1       0.61      0.61      0.61      3883\n",
      "\n",
      "    accuracy                           0.61      7775\n",
      "   macro avg       0.61      0.61      0.61      7775\n",
      "weighted avg       0.61      0.61      0.61      7775\n",
      "\n"
     ]
    },
    {
     "name": "stderr",
     "output_type": "stream",
     "text": [
      "[Parallel(n_jobs=1)]: Done 600 out of 600 | elapsed:    1.6s finished\n"
     ]
    }
   ],
   "source": [
    "rfc_01.fit(X_train, Y_train)\n",
    "pred_01 = rfc_01.predict(X_test)\n",
    "\n",
    "# print(pred_01 == Y_test)\n",
    "print(\"Accuracy is : \", accuracy_score(pred_01, Y_test))\n",
    "print(\"----\" * 20)\n",
    "print(classification_report(pred_01, Y_test))"
   ]
  },
  {
   "cell_type": "code",
   "execution_count": 10,
   "metadata": {},
   "outputs": [
    {
     "name": "stdout",
     "output_type": "stream",
     "text": [
      "* game_id            = 0.05422944176279381\n",
      "* P0_species         = 0.01151263618854489\n",
      "* P0_Ability         = 0.04552076725457002\n",
      "* P0_AddToControlGroup = 0.01884560324605008\n",
      "* P0_Camera          = 0.051752012076350745\n",
      "* P0_ControlGroup    = 0.003925316468014027\n",
      "* P0_GetControlGroup = 0.04617724513524995\n",
      "* P0_Right Click     = 0.04929202671584916\n",
      "* P0_Selection       = 0.04992196560077485\n",
      "* P0_SetControlGroup = 0.027313993660028454\n",
      "* P1_species         = 0.011203872253338906\n",
      "* P1_Ability         = 0.045819667835515915\n",
      "* P1_AddToControlGroup = 0.018832731811713296\n",
      "* P1_Camera          = 0.05172108328115607\n",
      "* P1_ControlGroup    = 0.003897676093854016\n",
      "* P1_GetControlGroup = 0.04473316827429511\n",
      "* P1_Right Click     = 0.0496911200804743\n",
      "* P1_Selection       = 0.04926046890901066\n",
      "* P1_SetControlGroup = 0.02712634077003319\n",
      "* delta_Ability      = 0.06375782862238415\n",
      "* delta_AddToControlGroup = 0.028084160557412675\n",
      "* delta_Camera       = 0.05144004825310425\n",
      "* delta_ControlGroup = 0.007441268031568451\n",
      "* delta_GetControlGroup = 0.05351712806531591\n",
      "* delta_Right Click  = 0.050606698746787186\n",
      "* delta_Selection    = 0.05105665092000942\n",
      "* delta_SetControlGroup = 0.033319079385800435\n"
     ]
    }
   ],
   "source": [
    "\"\"\"\n",
    "# 각 feature의 중요도를 확인 한다.\n",
    "\"\"\"\n",
    "\n",
    "for feature, imp in zip(x.columns, rfc_01.feature_importances_):\n",
    "    print(f\"* {feature:18} = {imp}\")"
   ]
  },
  {
   "cell_type": "code",
   "execution_count": 11,
   "metadata": {},
   "outputs": [
    {
     "data": {
      "text/html": [
       "<div>\n",
       "<style scoped>\n",
       "    .dataframe tbody tr th:only-of-type {\n",
       "        vertical-align: middle;\n",
       "    }\n",
       "\n",
       "    .dataframe tbody tr th {\n",
       "        vertical-align: top;\n",
       "    }\n",
       "\n",
       "    .dataframe thead th {\n",
       "        text-align: right;\n",
       "    }\n",
       "</style>\n",
       "<table border=\"1\" class=\"dataframe\">\n",
       "  <thead>\n",
       "    <tr style=\"text-align: right;\">\n",
       "      <th></th>\n",
       "      <th>features</th>\n",
       "      <th>importance</th>\n",
       "    </tr>\n",
       "  </thead>\n",
       "  <tbody>\n",
       "    <tr>\n",
       "      <th>19</th>\n",
       "      <td>delta_Ability</td>\n",
       "      <td>0.063758</td>\n",
       "    </tr>\n",
       "    <tr>\n",
       "      <th>0</th>\n",
       "      <td>game_id</td>\n",
       "      <td>0.054229</td>\n",
       "    </tr>\n",
       "    <tr>\n",
       "      <th>23</th>\n",
       "      <td>delta_GetControlGroup</td>\n",
       "      <td>0.053517</td>\n",
       "    </tr>\n",
       "    <tr>\n",
       "      <th>4</th>\n",
       "      <td>P0_Camera</td>\n",
       "      <td>0.051752</td>\n",
       "    </tr>\n",
       "    <tr>\n",
       "      <th>13</th>\n",
       "      <td>P1_Camera</td>\n",
       "      <td>0.051721</td>\n",
       "    </tr>\n",
       "    <tr>\n",
       "      <th>21</th>\n",
       "      <td>delta_Camera</td>\n",
       "      <td>0.051440</td>\n",
       "    </tr>\n",
       "    <tr>\n",
       "      <th>25</th>\n",
       "      <td>delta_Selection</td>\n",
       "      <td>0.051057</td>\n",
       "    </tr>\n",
       "    <tr>\n",
       "      <th>24</th>\n",
       "      <td>delta_Right Click</td>\n",
       "      <td>0.050607</td>\n",
       "    </tr>\n",
       "    <tr>\n",
       "      <th>8</th>\n",
       "      <td>P0_Selection</td>\n",
       "      <td>0.049922</td>\n",
       "    </tr>\n",
       "    <tr>\n",
       "      <th>16</th>\n",
       "      <td>P1_Right Click</td>\n",
       "      <td>0.049691</td>\n",
       "    </tr>\n",
       "    <tr>\n",
       "      <th>7</th>\n",
       "      <td>P0_Right Click</td>\n",
       "      <td>0.049292</td>\n",
       "    </tr>\n",
       "    <tr>\n",
       "      <th>17</th>\n",
       "      <td>P1_Selection</td>\n",
       "      <td>0.049260</td>\n",
       "    </tr>\n",
       "    <tr>\n",
       "      <th>6</th>\n",
       "      <td>P0_GetControlGroup</td>\n",
       "      <td>0.046177</td>\n",
       "    </tr>\n",
       "    <tr>\n",
       "      <th>11</th>\n",
       "      <td>P1_Ability</td>\n",
       "      <td>0.045820</td>\n",
       "    </tr>\n",
       "    <tr>\n",
       "      <th>2</th>\n",
       "      <td>P0_Ability</td>\n",
       "      <td>0.045521</td>\n",
       "    </tr>\n",
       "    <tr>\n",
       "      <th>15</th>\n",
       "      <td>P1_GetControlGroup</td>\n",
       "      <td>0.044733</td>\n",
       "    </tr>\n",
       "    <tr>\n",
       "      <th>26</th>\n",
       "      <td>delta_SetControlGroup</td>\n",
       "      <td>0.033319</td>\n",
       "    </tr>\n",
       "    <tr>\n",
       "      <th>20</th>\n",
       "      <td>delta_AddToControlGroup</td>\n",
       "      <td>0.028084</td>\n",
       "    </tr>\n",
       "    <tr>\n",
       "      <th>9</th>\n",
       "      <td>P0_SetControlGroup</td>\n",
       "      <td>0.027314</td>\n",
       "    </tr>\n",
       "    <tr>\n",
       "      <th>18</th>\n",
       "      <td>P1_SetControlGroup</td>\n",
       "      <td>0.027126</td>\n",
       "    </tr>\n",
       "    <tr>\n",
       "      <th>3</th>\n",
       "      <td>P0_AddToControlGroup</td>\n",
       "      <td>0.018846</td>\n",
       "    </tr>\n",
       "    <tr>\n",
       "      <th>12</th>\n",
       "      <td>P1_AddToControlGroup</td>\n",
       "      <td>0.018833</td>\n",
       "    </tr>\n",
       "    <tr>\n",
       "      <th>1</th>\n",
       "      <td>P0_species</td>\n",
       "      <td>0.011513</td>\n",
       "    </tr>\n",
       "    <tr>\n",
       "      <th>10</th>\n",
       "      <td>P1_species</td>\n",
       "      <td>0.011204</td>\n",
       "    </tr>\n",
       "    <tr>\n",
       "      <th>22</th>\n",
       "      <td>delta_ControlGroup</td>\n",
       "      <td>0.007441</td>\n",
       "    </tr>\n",
       "    <tr>\n",
       "      <th>5</th>\n",
       "      <td>P0_ControlGroup</td>\n",
       "      <td>0.003925</td>\n",
       "    </tr>\n",
       "    <tr>\n",
       "      <th>14</th>\n",
       "      <td>P1_ControlGroup</td>\n",
       "      <td>0.003898</td>\n",
       "    </tr>\n",
       "  </tbody>\n",
       "</table>\n",
       "</div>"
      ],
      "text/plain": [
       "                   features  importance\n",
       "19            delta_Ability    0.063758\n",
       "0                   game_id    0.054229\n",
       "23    delta_GetControlGroup    0.053517\n",
       "4                 P0_Camera    0.051752\n",
       "13                P1_Camera    0.051721\n",
       "21             delta_Camera    0.051440\n",
       "25          delta_Selection    0.051057\n",
       "24        delta_Right Click    0.050607\n",
       "8              P0_Selection    0.049922\n",
       "16           P1_Right Click    0.049691\n",
       "7            P0_Right Click    0.049292\n",
       "17             P1_Selection    0.049260\n",
       "6        P0_GetControlGroup    0.046177\n",
       "11               P1_Ability    0.045820\n",
       "2                P0_Ability    0.045521\n",
       "15       P1_GetControlGroup    0.044733\n",
       "26    delta_SetControlGroup    0.033319\n",
       "20  delta_AddToControlGroup    0.028084\n",
       "9        P0_SetControlGroup    0.027314\n",
       "18       P1_SetControlGroup    0.027126\n",
       "3      P0_AddToControlGroup    0.018846\n",
       "12     P1_AddToControlGroup    0.018833\n",
       "1                P0_species    0.011513\n",
       "10               P1_species    0.011204\n",
       "22       delta_ControlGroup    0.007441\n",
       "5           P0_ControlGroup    0.003925\n",
       "14          P1_ControlGroup    0.003898"
      ]
     },
     "execution_count": 11,
     "metadata": {},
     "output_type": "execute_result"
    }
   ],
   "source": [
    "features = pd.DataFrame(\n",
    "            zip(x.columns,rfc_01.feature_importances_), \n",
    "            columns=['features', 'importance']\n",
    "        ).sort_values(\n",
    "                    by='importance', \n",
    "                    ascending=False,\n",
    "                )\n",
    "features"
   ]
  },
  {
   "cell_type": "code",
   "execution_count": 23,
   "metadata": {},
   "outputs": [
    {
     "data": {
      "text/plain": [
       "<matplotlib.axes._subplots.AxesSubplot at 0x1efc9e90148>"
      ]
     },
     "execution_count": 23,
     "metadata": {},
     "output_type": "execute_result"
    },
    {
     "data": {
      "image/png": "[encoded data removed]",
      "text/plain": [
       "<Figure size 720x288 with 1 Axes>"
      ]
     },
     "metadata": {
      "needs_background": "light"
     },
     "output_type": "display_data"
    }
   ],
   "source": [
    "features.importance.plot.bar(figsize=(10,4))"
   ]
  },
  {
   "cell_type": "code",
   "execution_count": null,
   "metadata": {},
   "outputs": [],
   "source": []
  }
 ],
 "metadata": {
  "kernelspec": {
   "display_name": "Python 3",
   "language": "python",
   "name": "python3"
  },
  "language_info": {
   "codemirror_mode": {
    "name": "ipython",
    "version": 3
   },
   "file_extension": ".py",
   "mimetype": "text/x-python",
   "name": "python",
   "nbconvert_exporter": "python",
   "pygments_lexer": "ipython3",
   "version": "3.7.6"
  }
 },
 "nbformat": 4,
 "nbformat_minor": 4
}
