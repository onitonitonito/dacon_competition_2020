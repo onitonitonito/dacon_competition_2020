{
 "cells": [
  {
   "cell_type": "markdown",
   "metadata": {},
   "source": [
    "|  |\n",
    "|:--|\n",
    "| <img src ='https://bit.ly/39XPeCc' width=200 align='left'>\n",
    "|<h1>    Random Forest - Iris\n",
    "</h1>    * **Iris 데이터를 이용해 간단한 랜덤 포레스트 구현** = https://jfun.tistory.com/43\n",
    "\n",
    "\n",
    "1. **Iris Data 소개**\n",
    "> - Iris Data는 붓꽃 3종류를 기록한 데이터.\n",
    "> - Iris Data는 붓꽃 잎과 꽃받침의 길이/너비 4개 features로 구성.\n",
    "> - 목표데이터(y)는 붓꽃 종류로 0, 1, 2로 되어있다\n",
    "> - 붓꽃의 종류는 각각 setosa, versicolor, virginica를 나타낸다.\n",
    "> - 전체 Data 갯수는 150개 (line)이다.\n",
    "\n",
    "* [**Sk-lean RandomForest Classifier Documentation**](https://scikit-learn.org/stable/modules/generated/sklearn.ensemble.RandomForestClassifier.html)\n"
   ]
  },
  {
   "cell_type": "markdown",
   "metadata": {},
   "source": [
    "## 사용함수의 정의"
   ]
  },
  {
   "cell_type": "code",
   "execution_count": 1,
   "metadata": {},
   "outputs": [],
   "source": [
    "\"\"\" \n",
    "# 기본적인 module import 위치로 작업폴더 변경 getcwd() --> chidr()\n",
    "# HOME 을 지정하고 작업폴더를 HOME 으로 변경.\n",
    "\"\"\"\n",
    "import os\n",
    "\n",
    "HOME= 'dacon_competition_2020'\n",
    "dir_base = \"\".join(os.getcwd().partition(HOME)[:2]) + \"\\\\\"\n",
    "os.chdir(dir_base)     "
   ]
  },
  {
   "cell_type": "code",
   "execution_count": 2,
   "metadata": {},
   "outputs": [
    {
     "name": "stdout",
     "output_type": "stream",
     "text": [
      "\n",
      "# 화일분석에 필요한 공동폴더를 등록합니다.\n",
      "- asset = dir_base + '_assets/'\n",
      "- statics dir_base + '_statics/'\n",
      "\n",
      "#  echo = True : SYS.PATH INSERT 상황 보여줌\n",
      "\n",
      "\n",
      "# OS 화일 및 DF 정보조회를 위한 탐색 모듈\n",
      "\n"
     ]
    }
   ],
   "source": [
    "from _assets.config_dirs import *\n",
    "from _assets.modules import *"
   ]
  },
  {
   "cell_type": "code",
   "execution_count": 3,
   "metadata": {},
   "outputs": [],
   "source": [
    "\"\"\"\n",
    "# RandomForestClassifier 클래스를 import\n",
    "\"\"\"\n",
    "import numpy as np\n",
    "import pandas as pd\n",
    "\n",
    "from sklearn.datasets import load_iris\n",
    "from sklearn.metrics import accuracy_score\n",
    "from sklearn.metrics import classification_report\n",
    "from sklearn.ensemble import RandomForestClassifier"
   ]
  },
  {
   "cell_type": "code",
   "execution_count": 4,
   "metadata": {},
   "outputs": [],
   "source": [
    "\"\"\"\n",
    "# Loading the Iris data-set\n",
    "# sklearn.utils.Bunch Object\n",
    "\"\"\"\n",
    "iris = load_iris()             # sklearn.utils.Bunch\n",
    "\n",
    "\"\"\"\n",
    "# training data 설정\n",
    "# type(x_train), type(y_train)  # (numpy.ndarray, numpy.ndarray)\n",
    "# x_train.shape, y_train.shape   # ((120, 4), (120,))\n",
    "# 150개 --> 120개 + 30로 나눠서 30문제로 남겨 놈 = 수동으로 나눈다 120:30 (20%)\n",
    "\"\"\"\n",
    "x_train = iris.data[:-30]       # 120개\n",
    "x_test = iris.data[-30:]        #  30개\n",
    "\n",
    "y_train = iris.target[:-30]     # 120개     \n",
    "y_test = iris.target[-30:]      #  30개    "
   ]
  },
  {
   "cell_type": "code",
   "execution_count": 5,
   "metadata": {},
   "outputs": [
    {
     "data": {
      "text/plain": [
       "(array([[5.1, 3.5, 1.4, 0.2],\n",
       "        [4.9, 3. , 1.4, 0.2]]),\n",
       " array([[6.9, 3.2, 5.7, 2.3],\n",
       "        [5.6, 2.8, 4.9, 2. ]]))"
      ]
     },
     "execution_count": 5,
     "metadata": {},
     "output_type": "execute_result"
    }
   ],
   "source": [
    "\"\"\"\n",
    "#  데이터 갯수와 값을 확인해 본다.\n",
    "\"\"\"\n",
    "type(x_train), type(y_train)      # numpy.ndarray\n",
    "\n",
    "# ((120, 4), (120,), (30, 4), (30,))\n",
    "x_train.shape, y_train.shape, x_test.shape, y_test.shape, \n",
    "\n",
    "x_train[:2], x_test[:2]"
   ]
  },
  {
   "cell_type": "code",
   "execution_count": 6,
   "metadata": {},
   "outputs": [
    {
     "data": {
      "image/png": "[encoded data removed]",
      "text/plain": [
       "<Figure size 720x216 with 1 Axes>"
      ]
     },
     "metadata": {
      "needs_background": "light"
     },
     "output_type": "display_data"
    },
    {
     "data": {
      "image/png": "[encoded data removed]",
      "text/plain": [
       "<Figure size 720x216 with 1 Axes>"
      ]
     },
     "metadata": {
      "needs_background": "light"
     },
     "output_type": "display_data"
    },
    {
     "data": {
      "text/html": [
       "<div>\n",
       "<style scoped>\n",
       "    .dataframe tbody tr th:only-of-type {\n",
       "        vertical-align: middle;\n",
       "    }\n",
       "\n",
       "    .dataframe tbody tr th {\n",
       "        vertical-align: top;\n",
       "    }\n",
       "\n",
       "    .dataframe thead th {\n",
       "        text-align: right;\n",
       "    }\n",
       "</style>\n",
       "<table border=\"1\" class=\"dataframe\">\n",
       "  <thead>\n",
       "    <tr style=\"text-align: right;\">\n",
       "      <th></th>\n",
       "      <th>sepal length (cm)</th>\n",
       "      <th>sepal width (cm)</th>\n",
       "      <th>petal length (cm)</th>\n",
       "      <th>petal width (cm)</th>\n",
       "    </tr>\n",
       "  </thead>\n",
       "  <tbody>\n",
       "    <tr>\n",
       "      <th>0</th>\n",
       "      <td>5.1</td>\n",
       "      <td>3.5</td>\n",
       "      <td>1.4</td>\n",
       "      <td>0.2</td>\n",
       "    </tr>\n",
       "    <tr>\n",
       "      <th>1</th>\n",
       "      <td>4.9</td>\n",
       "      <td>3.0</td>\n",
       "      <td>1.4</td>\n",
       "      <td>0.2</td>\n",
       "    </tr>\n",
       "    <tr>\n",
       "      <th>2</th>\n",
       "      <td>4.7</td>\n",
       "      <td>3.2</td>\n",
       "      <td>1.3</td>\n",
       "      <td>0.2</td>\n",
       "    </tr>\n",
       "  </tbody>\n",
       "</table>\n",
       "</div>"
      ],
      "text/plain": [
       "   sepal length (cm)  sepal width (cm)  petal length (cm)  petal width (cm)\n",
       "0                5.1               3.5                1.4               0.2\n",
       "1                4.9               3.0                1.4               0.2\n",
       "2                4.7               3.2                1.3               0.2"
      ]
     },
     "execution_count": 6,
     "metadata": {},
     "output_type": "execute_result"
    },
    {
     "data": {
      "image/png": "[encoded data removed]",
      "text/plain": [
       "<Figure size 648x288 with 1 Axes>"
      ]
     },
     "metadata": {
      "needs_background": "light"
     },
     "output_type": "display_data"
    }
   ],
   "source": [
    "\"\"\"\n",
    "# pd.DataFrame 을 만들어 Data 를 둘러본다.\n",
    "\"\"\"\n",
    "\n",
    "df_iris = pd.DataFrame(iris.data, columns=iris.feature_names)\n",
    "df_iris.loc[:30,['sepal length (cm)','sepal width (cm)']].plot.bar(figsize=(10,3))\n",
    "df_iris.loc[:30,['petal length (cm)','petal width (cm)']].plot.bar(figsize=(10,3))\n",
    "plt.show()\n",
    "\n",
    "df_iris.boxplot(figsize=(9,4), vert=False)\n",
    "df_iris.head(3)"
   ]
  },
  {
   "cell_type": "code",
   "execution_count": 7,
   "metadata": {},
   "outputs": [],
   "source": [
    "\"\"\"\n",
    "# tree개수 Random Forest 분류 모듈 생성\n",
    "# 그냥 Default 값을 사용한다.\n",
    "\"\"\"\n",
    "rfc = RandomForestClassifier(                        # 모두 default값.\n",
    "                    bootstrap=True,                  # \n",
    "                    ccp_alpha=0.0,                   # \n",
    "                    class_weight=None,               # \n",
    "                    criterion='gini',                # \n",
    "                    max_depth=None,                  # \n",
    "                    max_features='auto',             # \n",
    "                    max_leaf_nodes=None,             # \n",
    "                    max_samples=None,                # \n",
    "                    min_impurity_decrease=0.0,       # \n",
    "                    min_impurity_split=None,         # \n",
    "                    min_samples_leaf=1,              # \n",
    "                    min_samples_split=2,             # \n",
    "                    min_weight_fraction_leaf=0.0,    # \n",
    "                    n_estimators=10,                 # \n",
    "                    n_jobs=None,                     # \n",
    "                    oob_score=False,                 # \n",
    "                    random_state=None,               # \n",
    "                    verbose=0,                       # \n",
    "                    warm_start=False,                # \n",
    "                )"
   ]
  },
  {
   "cell_type": "code",
   "execution_count": 8,
   "metadata": {},
   "outputs": [
    {
     "name": "stdout",
     "output_type": "stream",
     "text": [
      "[ True False  True False  True  True False False  True  True  True  True\n",
      "  True False  True  True  True  True False  True  True  True  True  True\n",
      "  True  True  True  True  True  True]\n",
      "0.8\n",
      "\n",
      " ------------------------------------------------------------\n",
      "Accuracy is:  0.8\n",
      "              precision    recall  f1-score   support\n",
      "\n",
      "           1       0.00      0.00      0.00         6\n",
      "           2       0.80      1.00      0.89        24\n",
      "\n",
      "    accuracy                           0.80        30\n",
      "   macro avg       0.40      0.50      0.44        30\n",
      "weighted avg       0.64      0.80      0.71        30\n",
      "\n"
     ]
    },
    {
     "name": "stderr",
     "output_type": "stream",
     "text": [
      "C:\\Anaconda3\\lib\\site-packages\\sklearn\\metrics\\_classification.py:1272: UndefinedMetricWarning: Precision and F-score are ill-defined and being set to 0.0 in labels with no predicted samples. Use `zero_division` parameter to control this behavior.\n",
      "  _warn_prf(average, modifier, msg_start, len(result))\n"
     ]
    }
   ],
   "source": [
    "\"\"\"\n",
    "# rfc_00.fin()에 훈련 데이터를 입력해 Random Forest 모듈을 학습\n",
    "# Test data를 입력해 target data를 예측 (매번 달라짐)\n",
    "# 예측 결과 precision과 실제 test data의 target을 비교\n",
    "# Random forest 정확도 측정\n",
    "\"\"\"\n",
    "\n",
    "rfc.fit(x_train, y_train)\n",
    "pred = rfc.predict(x_test)\n",
    "\n",
    "print(pred == y_test)\n",
    "print(rfc.score(x_test, y_test))\n",
    "print('\\n', '--' * 30)\n",
    "print(\"Accuracy is: \", accuracy_score(pred, y_test))\n",
    "print(classification_report(pred, y_test))"
   ]
  },
  {
   "cell_type": "markdown",
   "metadata": {},
   "source": [
    "## Data를 Shuffling 해서 다시 시작해 본다\n",
    "- 이번엔 자동 data-set 분할 및 k-fold cross-validation 실시"
   ]
  },
  {
   "cell_type": "code",
   "execution_count": 9,
   "metadata": {},
   "outputs": [],
   "source": [
    "from sklearn.model_selection import train_test_split"
   ]
  },
  {
   "cell_type": "code",
   "execution_count": 10,
   "metadata": {},
   "outputs": [],
   "source": [
    "\"\"\"\n",
    "# Loading the Iris data-set\n",
    "# sklearn.utils.Bunch Object\n",
    "# train 과 test = 80:20 으로 나눈다\n",
    "\"\"\"\n",
    "iris = load_iris()             # sklearn.utils.Bunch\n",
    "\n",
    "x = iris.data\n",
    "y = iris.target\n",
    "\n",
    "X_train, X_test, Y_train, Y_test = train_test_split(x, y, test_size=0.2)"
   ]
  },
  {
   "cell_type": "code",
   "execution_count": 11,
   "metadata": {},
   "outputs": [
    {
     "name": "stdout",
     "output_type": "stream",
     "text": [
      "y_test (last 30)     = [2 2 2 2 2 2 2 2 2 2 2 2 2 2 2 2 2 2 2 2 2 2 2 2 2 2 2 2 2 2]\n",
      "Y_test (shuffled 30) = [2 1 2 2 0 2 2 0 1 2 0 2 1 1 0 2 2 0 0 0 2 2 0 0 0 0 2 1 2 0]\n"
     ]
    }
   ],
   "source": [
    "\"\"\"\n",
    "#  데이터 갯수와 값을 확인해 본다.\n",
    "# ((120, 4), (30, 4), (120,), (30,))\n",
    "\"\"\"\n",
    "\n",
    "# ((120, 4), (30, 4), (120,), (30,))\n",
    "X_train.shape, X_test.shape, Y_train.shape, Y_test.shape \n",
    "\n",
    "print(f\"y_test (last 30)     = {y_test}\")   # 기존 테스트 데이터는 뒤에서 30개\n",
    "print(f\"Y_test (shuffled 30) = {Y_test}\")   # 자동 테스트 데이터는 shuffle로 30개"
   ]
  },
  {
   "cell_type": "code",
   "execution_count": 12,
   "metadata": {},
   "outputs": [],
   "source": [
    "\"\"\"\n",
    "# tree개수 Random Forest 분류 모듈 생성\n",
    "# 그냥 Default 값을 사용한다.\n",
    "# 차이점 = 정렬된 Data 사용 <==> shuffled data-set 사용\n",
    "\"\"\"\n",
    "rfc_01 = RandomForestClassifier(                     # 모두 default값.\n",
    "                    bootstrap=True,                  # \n",
    "                    ccp_alpha=0.0,                   # \n",
    "                    class_weight=None,               # \n",
    "                    criterion='gini',                # \n",
    "                    max_depth=None,                  # \n",
    "                    max_features='auto',             # \n",
    "                    max_leaf_nodes=None,             # \n",
    "                    max_samples=None,                # \n",
    "                    min_impurity_decrease=0.0,       # \n",
    "                    min_impurity_split=None,         # \n",
    "                    min_samples_leaf=1,              # \n",
    "                    min_samples_split=2,             # \n",
    "                    min_weight_fraction_leaf=0.0,    # \n",
    "                    n_estimators=10,                 # \n",
    "                    n_jobs=None,                     # \n",
    "                    oob_score=False,                 # \n",
    "                    random_state=None,               # \n",
    "                    verbose=0,                       # \n",
    "                    warm_start=False,                # \n",
    "                )"
   ]
  },
  {
   "cell_type": "code",
   "execution_count": 13,
   "metadata": {},
   "outputs": [
    {
     "name": "stdout",
     "output_type": "stream",
     "text": [
      "[ True False  True  True  True  True  True  True  True  True  True  True\n",
      "  True  True  True  True  True  True  True  True  True  True  True  True\n",
      "  True  True False  True False  True]\n",
      "Accuracy is:  0.9\n",
      "--------------------------------------------------------------------------------\n",
      "              precision    recall  f1-score   support\n",
      "\n",
      "           0       1.00      1.00      1.00        12\n",
      "           1       0.80      0.67      0.73         6\n",
      "           2       0.85      0.92      0.88        12\n",
      "\n",
      "    accuracy                           0.90        30\n",
      "   macro avg       0.88      0.86      0.87        30\n",
      "weighted avg       0.90      0.90      0.90        30\n",
      "\n"
     ]
    }
   ],
   "source": [
    "\"\"\"\n",
    "# X_train과 Y_train을 입력해 모듈을 학습 시킨다.\n",
    "\"\"\"\n",
    "\n",
    "rfc_01.fit(X_train, Y_train) \n",
    "prediction_1 = rfc_01.predict(X_test)\n",
    "\n",
    "print(prediction_1 == Y_test)\n",
    "print(\"Accuracy is: \", accuracy_score(prediction_1, Y_test))\n",
    "print(\"----\" * 20)\n",
    "print(classification_report(prediction_1, Y_test))"
   ]
  },
  {
   "cell_type": "code",
   "execution_count": 14,
   "metadata": {},
   "outputs": [],
   "source": [
    "\"\"\"\n",
    "# Initialize the model\n",
    "# 트리수=200개, OOB 스코어링을 사용한다.\n",
    "\"\"\"\n",
    "rfc_02 = RandomForestClassifier(\n",
    "                            n_estimators=200,     # Number of trees = 200개\n",
    "                            max_features=4,       # Num features considered\n",
    "                            oob_score=True,       # Use OOB scoring\n",
    "                        )"
   ]
  },
  {
   "cell_type": "code",
   "execution_count": 15,
   "metadata": {},
   "outputs": [
    {
     "name": "stdout",
     "output_type": "stream",
     "text": [
      "[ True False  True  True  True  True  True  True  True  True  True  True\n",
      "  True  True  True  True  True  True  True  True  True  True  True  True\n",
      "  True  True  True  True False  True]\n",
      "Accuracy is :  0.9333333333333333\n",
      "--------------------------------------------------------------------------------\n",
      "              precision    recall  f1-score   support\n",
      "\n",
      "           0       1.00      1.00      1.00        12\n",
      "           1       0.80      0.80      0.80         5\n",
      "           2       0.92      0.92      0.92        13\n",
      "\n",
      "    accuracy                           0.93        30\n",
      "   macro avg       0.91      0.91      0.91        30\n",
      "weighted avg       0.93      0.93      0.93        30\n",
      "\n"
     ]
    }
   ],
   "source": [
    "rfc_02.fit(X_train, Y_train)\n",
    "pred_02 = rfc_02.predict(X_test)\n",
    "\n",
    "print(pred_02 == Y_test)\n",
    "print(\"Accuracy is : \", accuracy_score(pred_02, Y_test))\n",
    "print(\"----\" * 20)\n",
    "print(classification_report(pred_02, Y_test))"
   ]
  },
  {
   "cell_type": "code",
   "execution_count": 16,
   "metadata": {},
   "outputs": [
    {
     "data": {
      "text/plain": [
       "['sepal length (cm)',\n",
       " 'sepal width (cm)',\n",
       " 'petal length (cm)',\n",
       " 'petal width (cm)']"
      ]
     },
     "execution_count": 16,
     "metadata": {},
     "output_type": "execute_result"
    }
   ],
   "source": [
    "iris.feature_names"
   ]
  },
  {
   "cell_type": "code",
   "execution_count": 17,
   "metadata": {},
   "outputs": [
    {
     "name": "stdout",
     "output_type": "stream",
     "text": [
      "* sepal length (cm)  = 0.0068275285630978585\n",
      "* sepal width (cm)   = 0.00724664724463915\n",
      "* petal length (cm)  = 0.31729330019731955\n",
      "* petal width (cm)   = 0.6686325239949434\n"
     ]
    }
   ],
   "source": [
    "\"\"\"\n",
    "# 각 feature의 중요도를 확인 한다.\n",
    "\"\"\"\n",
    "\n",
    "for feature, imp in zip(iris.feature_names, rfc_02.feature_importances_):\n",
    "    print(f\"* {feature:18} = {imp}\")"
   ]
  },
  {
   "cell_type": "markdown",
   "metadata": {},
   "source": [
    " ## 출처 : 파이썬을 이용한 빅데이터 분석"
   ]
  },
  {
   "cell_type": "code",
   "execution_count": 18,
   "metadata": {},
   "outputs": [
    {
     "data": {
      "text/plain": [
       "array([0.00682753, 0.00724665, 0.3172933 , 0.66863252])"
      ]
     },
     "execution_count": 18,
     "metadata": {},
     "output_type": "execute_result"
    }
   ],
   "source": [
    "rfc_02.feature_importances_"
   ]
  },
  {
   "cell_type": "code",
   "execution_count": 19,
   "metadata": {},
   "outputs": [
    {
     "data": {
      "text/plain": [
       "{'sepal length (cm)': 0.0068275285630978585,\n",
       " 'sepal width (cm)': 0.00724664724463915,\n",
       " 'petal length (cm)': 0.31729330019731955,\n",
       " 'petal width (cm)': 0.6686325239949434}"
      ]
     },
     "execution_count": 19,
     "metadata": {},
     "output_type": "execute_result"
    }
   ],
   "source": [
    "dict(zip(iris.feature_names, rfc_02.feature_importances_))"
   ]
  },
  {
   "cell_type": "code",
   "execution_count": 21,
   "metadata": {},
   "outputs": [
    {
     "data": {
      "text/plain": [
       "RandomForestClassifier(bootstrap=True, ccp_alpha=0.0, class_weight=None,\n",
       "                       criterion='gini', max_depth=None, max_features='auto',\n",
       "                       max_leaf_nodes=None, max_samples=None,\n",
       "                       min_impurity_decrease=0.0, min_impurity_split=None,\n",
       "                       min_samples_leaf=1, min_samples_split=2,\n",
       "                       min_weight_fraction_leaf=0.0, n_estimators=10,\n",
       "                       n_jobs=None, oob_score=False, random_state=None,\n",
       "                       verbose=0, warm_start=False)"
      ]
     },
     "execution_count": 21,
     "metadata": {},
     "output_type": "execute_result"
    }
   ],
   "source": [
    "rfc"
   ]
  },
  {
   "cell_type": "code",
   "execution_count": 22,
   "metadata": {},
   "outputs": [
    {
     "data": {
      "text/plain": [
       "RandomForestClassifier(bootstrap=True, ccp_alpha=0.0, class_weight=None,\n",
       "                       criterion='gini', max_depth=None, max_features='auto',\n",
       "                       max_leaf_nodes=None, max_samples=None,\n",
       "                       min_impurity_decrease=0.0, min_impurity_split=None,\n",
       "                       min_samples_leaf=1, min_samples_split=2,\n",
       "                       min_weight_fraction_leaf=0.0, n_estimators=10,\n",
       "                       n_jobs=None, oob_score=False, random_state=None,\n",
       "                       verbose=0, warm_start=False)"
      ]
     },
     "execution_count": 22,
     "metadata": {},
     "output_type": "execute_result"
    }
   ],
   "source": [
    "rfc_01"
   ]
  },
  {
   "cell_type": "code",
   "execution_count": 23,
   "metadata": {},
   "outputs": [
    {
     "data": {
      "text/plain": [
       "RandomForestClassifier(bootstrap=True, ccp_alpha=0.0, class_weight=None,\n",
       "                       criterion='gini', max_depth=None, max_features=4,\n",
       "                       max_leaf_nodes=None, max_samples=None,\n",
       "                       min_impurity_decrease=0.0, min_impurity_split=None,\n",
       "                       min_samples_leaf=1, min_samples_split=2,\n",
       "                       min_weight_fraction_leaf=0.0, n_estimators=200,\n",
       "                       n_jobs=None, oob_score=True, random_state=None,\n",
       "                       verbose=0, warm_start=False)"
      ]
     },
     "execution_count": 23,
     "metadata": {},
     "output_type": "execute_result"
    }
   ],
   "source": [
    "rfc_02"
   ]
  },
  {
   "cell_type": "code",
   "execution_count": null,
   "metadata": {},
   "outputs": [],
   "source": []
  }
 ],
 "metadata": {
  "kernelspec": {
   "display_name": "Python 3",
   "language": "python",
   "name": "python3"
  },
  "language_info": {
   "codemirror_mode": {
    "name": "ipython",
    "version": 3
   },
   "file_extension": ".py",
   "mimetype": "text/x-python",
   "name": "python",
   "nbconvert_exporter": "python",
   "pygments_lexer": "ipython3",
   "version": "3.7.6"
  }
 },
 "nbformat": 4,
 "nbformat_minor": 4
}
