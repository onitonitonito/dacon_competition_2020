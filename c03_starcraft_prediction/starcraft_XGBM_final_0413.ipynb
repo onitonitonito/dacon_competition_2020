{
 "cells": [
  {
   "cell_type": "markdown",
   "metadata": {
    "colab_type": "text",
    "id": "Yj9dS4w29AUl"
   },
   "source": [
    "### 구글드라이브 연결\n",
    "> - drive 폴더가 붙은 것을 확인한다.\n",
    "> - drwx------ 4 root root 4.0K Mar 22 11:21 drive"
   ]
  },
  {
   "cell_type": "code",
   "execution_count": 1,
   "metadata": {
    "colab": {
     "base_uri": "https://localhost:8080/",
     "height": 125
    },
    "colab_type": "code",
    "executionInfo": {
     "elapsed": 15458,
     "status": "ok",
     "timestamp": 1585617140987,
     "user": {
      "displayName": "SuParX -K",
      "photoUrl": "https://lh3.googleusercontent.com/a-/AOh14GgAhLtiQrZfK-FHgn5GBmgExX619ygpOPHHdN4ZkU0=s64",
      "userId": "05876132496561296136"
     },
     "user_tz": -540
    },
    "id": "cG0ywtEV7uIh",
    "outputId": "a95953a7-c6a3-447d-8e73-e71681064258"
   },
   "outputs": [],
   "source": [
    "# from google.colab import drive \n",
    "# drive.mount('/content/drive/')"
   ]
  },
  {
   "cell_type": "markdown",
   "metadata": {
    "colab_type": "text",
    "id": "187ugqNFuzIG"
   },
   "source": [
    "### Install / Import 모듈 "
   ]
  },
  {
   "cell_type": "code",
   "execution_count": 2,
   "metadata": {
    "colab": {
     "base_uri": "https://localhost:8080/",
     "height": 178
    },
    "colab_type": "code",
    "executionInfo": {
     "elapsed": 20113,
     "status": "ok",
     "timestamp": 1585617145679,
     "user": {
      "displayName": "SuParX -K",
      "photoUrl": "https://lh3.googleusercontent.com/a-/AOh14GgAhLtiQrZfK-FHgn5GBmgExX619ygpOPHHdN4ZkU0=s64",
      "userId": "05876132496561296136"
     },
     "user_tz": -540
    },
    "id": "KHr7Oekx9AgU",
    "outputId": "e8bdfc50-1d0d-46cd-af53-4313a5845e4a"
   },
   "outputs": [],
   "source": [
    "# 코랩에 없는 라이브러리 설치해주기\n",
    "# !pip install bayesian-optimization"
   ]
  },
  {
   "cell_type": "code",
   "execution_count": 3,
   "metadata": {
    "colab": {},
    "colab_type": "code",
    "id": "O14CYkrx_Wvr"
   },
   "outputs": [],
   "source": [
    "import os\n",
    "import pandas as pd                         # 데이터 분석 라이브러리\n",
    "import numpy as np                          # 계산 라이브러리\n",
    "import matplotlib.pyplot as plt             # * 그래프 이미지\n",
    "\n",
    "from tqdm import tqdm                       # 진행바\n",
    "\n",
    "from sklearn.metrics import roc_auc_score   # AUC 스코어 계산\n",
    "from sklearn.model_selection import KFold   # K-fold CV    \n",
    "from bayes_opt import BayesianOptimization  # 베이지안 최적화 라이브러리  \n",
    "from functools import partial               # 함수 변수 고정\n",
    "import lightgbm as lgb                      # LightGBM 라이브러리\n",
    "import warnings           \n",
    "import random                       \n",
    "warnings.filterwarnings(\"ignore\")           # 경고 문구 미표시"
   ]
  },
  {
   "cell_type": "code",
   "execution_count": 4,
   "metadata": {
    "colab": {},
    "colab_type": "code",
    "id": "HZZBn3Ec_bXr"
   },
   "outputs": [],
   "source": [
    "# 데이터가 많아 5분 정도 걸립니다.  \n",
    "# 전체경로 = /content/drive/My Drive/Colab Notebooks/competition/c03_starcraft_prediction/data_raw/train.csv\n",
    "# /content/drive/My Drive/Colab Notebooks/\n",
    "# dir_base = '/content/drive/My Drive/Colab Notebooks/competition/''\n",
    "\n",
    "dir_base = '/home/yk/0325_Starcraft/competition/'\n",
    "\n",
    "raw      = 'c03_starcraft_prediction/data_raw/'\n",
    "remake   = 'c03_starcraft_prediction/data_remake/'\n",
    "submit   = 'c03_starcraft_prediction/data_submit/'\n",
    "                                                                # WAY-01 = LGBM\n",
    "filename_submit = 'submission_0413_way02_15_75_final.csv'       # WAY-02 = XGBM"
   ]
  },
  {
   "cell_type": "markdown",
   "metadata": {
    "colab_type": "text",
    "id": "wwg2_k9Sn9oI"
   },
   "source": [
    "### 사용함수의 정의"
   ]
  },
  {
   "cell_type": "code",
   "execution_count": 5,
   "metadata": {
    "colab": {},
    "colab_type": "code",
    "id": "oDh38baE_aFv"
   },
   "outputs": [
    {
     "name": "stdout",
     "output_type": "stream",
     "text": [
      "\n",
      "# OS 화일 및 DF 정보조회를 위한 탐색 모듈\n",
      "\n",
      "\n",
      "# GAME_ID 유니크 데이터 전처리를 위한 모듈 - baseline offer\n",
      "\n",
      "\n",
      "# XGBM_CV 모델 - by SongDo_StudyGroup Code 참조\n",
      "\n"
     ]
    },
    {
     "name": "stderr",
     "output_type": "stream",
     "text": [
      "Using TensorFlow backend.\n"
     ]
    }
   ],
   "source": [
    "os.chdir(dir_base)\n",
    "from _assets.modules import *\n",
    "from _assets.module_data_preps import *\n",
    "from _assets.module_xgbm_model import *"
   ]
  },
  {
   "cell_type": "markdown",
   "metadata": {
    "colab_type": "text",
    "id": "hbZfWk-F6_R_"
   },
   "source": [
    "### Data 전처리 및 저장하기\n",
    "- 전처리 된 x_train, y_train 내용을 확인하고, 저장한다."
   ]
  },
  {
   "cell_type": "code",
   "execution_count": 7,
   "metadata": {
    "colab": {
     "base_uri": "https://localhost:8080/",
     "height": 298
    },
    "colab_type": "code",
    "executionInfo": {
     "elapsed": 24900,
     "status": "ok",
     "timestamp": 1585617150634,
     "user": {
      "displayName": "SuParX -K",
      "photoUrl": "https://lh3.googleusercontent.com/a-/AOh14GgAhLtiQrZfK-FHgn5GBmgExX619ygpOPHHdN4ZkU0=s64",
      "userId": "05876132496561296136"
     },
     "user_tz": -540
    },
    "id": "o7odz-aqnygj",
    "outputId": "e0410269-54b2-4a37-ac09-e2ccc600f26a"
   },
   "outputs": [
    {
     "name": "stdout",
     "output_type": "stream",
     "text": [
      "False\n",
      "DIR_TARGET=/home/yk/0325_Starcraft/competition\n",
      "/home/yk/0325_Starcraft/competition/c03_starcraft_prediction/data_remake/\n",
      "----------------------------------------\n",
      "  01. .ipynb_checkpoints\n",
      "  02. accumujated_winning_rate_per_time.csv\n",
      "  03. accumulated_winning_rate_per_time.csv\n",
      "  04. df_new_rate04_correct.csv\n",
      "  05. df_win_rate_every_10sec.csv\n",
      "  06. df_win_rate_every_20sec.csv\n",
      "  07. df_win_rate_every_40sec.csv\n",
      "  08. df_xtest_remake.csv\n",
      "  09. df_xtest_remake_final.csv\n",
      "  10. df_xtrain_remake.csv\n",
      "  11. df_xtrain_remake_final.csv\n",
      "  12. df_ytrain_remake.csv\n"
     ]
    }
   ],
   "source": [
    "# 화일위치 / list 확인하기 ... 사용함수\n",
    "# show_ls('/content')          # drive 가 붙었는지 확인!\n",
    "show_ls(dir_base + remake)      # 불러올 Data 화일이름 확인!"
   ]
  },
  {
   "cell_type": "code",
   "execution_count": 8,
   "metadata": {
    "colab": {
     "base_uri": "https://localhost:8080/",
     "height": 70
    },
    "colab_type": "code",
    "executionInfo": {
     "elapsed": 779388,
     "status": "ok",
     "timestamp": 1585617905233,
     "user": {
      "displayName": "SuParX -K",
      "photoUrl": "https://lh3.googleusercontent.com/a-/AOh14GgAhLtiQrZfK-FHgn5GBmgExX619ygpOPHHdN4ZkU0=s64",
      "userId": "05876132496561296136"
     },
     "user_tz": -540
    },
    "id": "Y_yK7Y7d_esh",
    "outputId": "931af35d-a36b-45fd-9834-02a175dc756c"
   },
   "outputs": [
    {
     "name": "stdout",
     "output_type": "stream",
     "text": [
      "CPU times: user 105 ms, sys: 18 ms, total: 123 ms\n",
      "Wall time: 1.01 s\n"
     ]
    }
   ],
   "source": [
    "%%time\n",
    "\"\"\" df_xtrain_remake_final.csv / ytrain 값은 변함없음 (동일하게 사용)\n",
    "# 데이터 전처리 과정 - 약 7 ~ 10분 정도 걸립니다 ... 여기서 세션 리셋 됨!\n",
    "# x_train, y_train = data_preparation(train, answer=True)           # [ 67,091,776 x 7 ] ... 70%\n",
    "# show_infoDF_from(x_train) # *** DATA SHAPE = [ 38,872 x 27 ] ... [ game_id ... ]\n",
    "# show_infoDF_from(y_train) # *** DATA SHAPE = [ 38,872 x 3 ] .. ['Unnamed: 0', 'game_id', 'winner']\n",
    "\"\"\"\n",
    "\n",
    "x_train = pd.read_csv(dir_base + remake + 'df_xtrain_remake_final.csv')  # to <class 'pandas.core.frame.DataFrame'>\n",
    "ytrain = pd.read_csv(dir_base + remake + 'df_ytrain_remake.csv')  # to <class 'numpy.ndarray'>\n",
    "y_train = ytrain['winner'].values                                 # array([1, 1, 0, ..., 0, 1, 0])"
   ]
  },
  {
   "cell_type": "code",
   "execution_count": 9,
   "metadata": {
    "colab": {
     "base_uri": "https://localhost:8080/",
     "height": 282
    },
    "colab_type": "code",
    "executionInfo": {
     "elapsed": 779323,
     "status": "ok",
     "timestamp": 1585617905240,
     "user": {
      "displayName": "SuParX -K",
      "photoUrl": "https://lh3.googleusercontent.com/a-/AOh14GgAhLtiQrZfK-FHgn5GBmgExX619ygpOPHHdN4ZkU0=s64",
      "userId": "05876132496561296136"
     },
     "user_tz": -540
    },
    "id": "zAN0hC9M1IpN",
    "outputId": "6dec3e26-23c5-4ff8-cab7-d515477bda7a"
   },
   "outputs": [
    {
     "data": {
      "text/plain": [
       "1    19499\n",
       "0    19373\n",
       "dtype: int64"
      ]
     },
     "execution_count": 9,
     "metadata": {},
     "output_type": "execute_result"
    }
   ],
   "source": [
    "pd.Series(y_train).value_counts()\n",
    "# 1    19499\n",
    "# 0    19373            total = 38,872  y_train = np.array 38,872"
   ]
  },
  {
   "cell_type": "code",
   "execution_count": 10,
   "metadata": {
    "colab": {
     "base_uri": "https://localhost:8080/",
     "height": 54
    },
    "colab_type": "code",
    "executionInfo": {
     "elapsed": 779492,
     "status": "ok",
     "timestamp": 1585617905469,
     "user": {
      "displayName": "SuParX -K",
      "photoUrl": "https://lh3.googleusercontent.com/a-/AOh14GgAhLtiQrZfK-FHgn5GBmgExX619ygpOPHHdN4ZkU0=s64",
      "userId": "05876132496561296136"
     },
     "user_tz": -540
    },
    "id": "hoDJ1YXt5yq7",
    "outputId": "744bc55f-e6bd-4415-8c4f-8be6a77ce1ad"
   },
   "outputs": [
    {
     "data": {
      "text/plain": [
       "\"  # 저장했으면 비활성 처리\\ndf_xtrain.to_csv(dir_base + remake + 'df_xtrain_remake.csv')\\ndf_ytrain.to_csv(dir_base + remake + 'df_ytrain_remake.csv')\\n\""
      ]
     },
     "execution_count": 10,
     "metadata": {},
     "output_type": "execute_result"
    }
   ],
   "source": [
    "# 제대로 작성이 됬는지 확인 다 끝났으면, 저장한다. 저장끝났으면 비활성화 처리\n",
    "\n",
    "\n",
    "\"\"\"  # 저장했으면 비활성 처리\n",
    "df_xtrain.to_csv(dir_base + remake + 'df_xtrain_remake.csv')\n",
    "df_ytrain.to_csv(dir_base + remake + 'df_ytrain_remake.csv')\n",
    "\"\"\""
   ]
  },
  {
   "cell_type": "markdown",
   "metadata": {
    "colab_type": "text",
    "id": "N0IWulmegR7U"
   },
   "source": [
    "# XGBM Classifier 모델 적용\n",
    " - 송도 스터디그룹에서 유창준님 - XGBM 모델 코드 공유받음!"
   ]
  },
  {
   "cell_type": "code",
   "execution_count": 11,
   "metadata": {
    "colab": {
     "base_uri": "https://localhost:8080/",
     "height": 1000
    },
    "colab_type": "code",
    "executionInfo": {
     "elapsed": 2898666,
     "status": "ok",
     "timestamp": 1585620024669,
     "user": {
      "displayName": "SuParX -K",
      "photoUrl": "https://lh3.googleusercontent.com/a-/AOh14GgAhLtiQrZfK-FHgn5GBmgExX619ygpOPHHdN4ZkU0=s64",
      "userId": "05876132496561296136"
     },
     "user_tz": -540
    },
    "id": "Ny69by1mUWln",
    "outputId": "f27d8775-2846-4d50-f5a0-41e2fae278d8"
   },
   "outputs": [
    {
     "name": "stdout",
     "output_type": "stream",
     "text": [
      "|   iter    |  target   | colsam... |   gamma   | learni... | max_de... | max_depth | reg_alpha | reg_la... | subsample |\n",
      "-------------------------------------------------------------------------------------------------------------------------\n",
      "| \u001b[0m 1       \u001b[0m | \u001b[0m 0.6403  \u001b[0m | \u001b[0m 0.7301  \u001b[0m | \u001b[0m 14.38   \u001b[0m | \u001b[0m 0.4553  \u001b[0m | \u001b[0m 3.416   \u001b[0m | \u001b[0m 331.0   \u001b[0m | \u001b[0m 18.93   \u001b[0m | \u001b[0m 20.7    \u001b[0m | \u001b[0m 0.5334  \u001b[0m |\n",
      "| \u001b[95m 2       \u001b[0m | \u001b[95m 0.6411  \u001b[0m | \u001b[95m 0.6795  \u001b[0m | \u001b[95m 14.67   \u001b[0m | \u001b[95m 0.4095  \u001b[0m | \u001b[95m 14.06   \u001b[0m | \u001b[95m 176.0   \u001b[0m | \u001b[95m 19.77   \u001b[0m | \u001b[95m 38.87   \u001b[0m | \u001b[95m 0.7737  \u001b[0m |\n",
      "| \u001b[95m 3       \u001b[0m | \u001b[95m 0.6481  \u001b[0m | \u001b[95m 0.8281  \u001b[0m | \u001b[95m 11.1    \u001b[0m | \u001b[95m 0.2774  \u001b[0m | \u001b[95m 21.39   \u001b[0m | \u001b[95m 394.3   \u001b[0m | \u001b[95m 11.6    \u001b[0m | \u001b[95m 41.66   \u001b[0m | \u001b[95m 0.7849  \u001b[0m |\n",
      "| \u001b[0m 4       \u001b[0m | \u001b[0m 0.6443  \u001b[0m | \u001b[0m 0.5765  \u001b[0m | \u001b[0m 8.782   \u001b[0m | \u001b[0m 0.431   \u001b[0m | \u001b[0m 4.29    \u001b[0m | \u001b[0m 303.7   \u001b[0m | \u001b[0m 17.06   \u001b[0m | \u001b[0m 35.34   \u001b[0m | \u001b[0m 0.5115  \u001b[0m |\n",
      "| \u001b[0m 5       \u001b[0m | \u001b[0m 0.6459  \u001b[0m | \u001b[0m 0.9162  \u001b[0m | \u001b[0m 14.43   \u001b[0m | \u001b[0m 0.2374  \u001b[0m | \u001b[0m 4.436   \u001b[0m | \u001b[0m 320.5   \u001b[0m | \u001b[0m 8.404   \u001b[0m | \u001b[0m 31.02   \u001b[0m | \u001b[0m 0.656   \u001b[0m |\n",
      "| \u001b[0m 6       \u001b[0m | \u001b[0m 0.6406  \u001b[0m | \u001b[0m 0.6738  \u001b[0m | \u001b[0m 18.97   \u001b[0m | \u001b[0m 0.3549  \u001b[0m | \u001b[0m 8.076   \u001b[0m | \u001b[0m 373.6   \u001b[0m | \u001b[0m 12.36   \u001b[0m | \u001b[0m 42.24   \u001b[0m | \u001b[0m 0.5875  \u001b[0m |\n",
      "| \u001b[0m 7       \u001b[0m | \u001b[0m 0.6467  \u001b[0m | \u001b[0m 0.9838  \u001b[0m | \u001b[0m 11.9    \u001b[0m | \u001b[0m 0.3901  \u001b[0m | \u001b[0m 6.243   \u001b[0m | \u001b[0m 159.3   \u001b[0m | \u001b[0m 10.36   \u001b[0m | \u001b[0m 38.85   \u001b[0m | \u001b[0m 0.8663  \u001b[0m |\n",
      "| \u001b[0m 8       \u001b[0m | \u001b[0m 0.643   \u001b[0m | \u001b[0m 0.6326  \u001b[0m | \u001b[0m 15.39   \u001b[0m | \u001b[0m 0.182   \u001b[0m | \u001b[0m 7.94    \u001b[0m | \u001b[0m 458.6   \u001b[0m | \u001b[0m 13.26   \u001b[0m | \u001b[0m 32.96   \u001b[0m | \u001b[0m 0.6279  \u001b[0m |\n",
      "| \u001b[0m 9       \u001b[0m | \u001b[0m 0.6417  \u001b[0m | \u001b[0m 0.5486  \u001b[0m | \u001b[0m 15.8    \u001b[0m | \u001b[0m 0.5014  \u001b[0m | \u001b[0m 19.62   \u001b[0m | \u001b[0m 214.8   \u001b[0m | \u001b[0m 18.18   \u001b[0m | \u001b[0m 23.48   \u001b[0m | \u001b[0m 0.858   \u001b[0m |\n",
      "| \u001b[0m 10      \u001b[0m | \u001b[0m 0.644   \u001b[0m | \u001b[0m 0.8178  \u001b[0m | \u001b[0m 13.83   \u001b[0m | \u001b[0m 0.2255  \u001b[0m | \u001b[0m 15.12   \u001b[0m | \u001b[0m 421.0   \u001b[0m | \u001b[0m 17.19   \u001b[0m | \u001b[0m 17.73   \u001b[0m | \u001b[0m 0.6697  \u001b[0m |\n",
      "| \u001b[0m 11      \u001b[0m | \u001b[0m 0.6428  \u001b[0m | \u001b[0m 0.8185  \u001b[0m | \u001b[0m 13.17   \u001b[0m | \u001b[0m 0.3738  \u001b[0m | \u001b[0m 3.39    \u001b[0m | \u001b[0m 356.4   \u001b[0m | \u001b[0m 12.45   \u001b[0m | \u001b[0m 19.9    \u001b[0m | \u001b[0m 0.5122  \u001b[0m |\n",
      "| \u001b[95m 12      \u001b[0m | \u001b[95m 0.6483  \u001b[0m | \u001b[95m 0.9419  \u001b[0m | \u001b[95m 8.175   \u001b[0m | \u001b[95m 0.4661  \u001b[0m | \u001b[95m 11.7    \u001b[0m | \u001b[95m 508.4   \u001b[0m | \u001b[95m 18.42   \u001b[0m | \u001b[95m 13.66   \u001b[0m | \u001b[95m 0.8609  \u001b[0m |\n",
      "| \u001b[95m 13      \u001b[0m | \u001b[95m 0.6496  \u001b[0m | \u001b[95m 0.897   \u001b[0m | \u001b[95m 7.886   \u001b[0m | \u001b[95m 0.474   \u001b[0m | \u001b[95m 23.41   \u001b[0m | \u001b[95m 232.0   \u001b[0m | \u001b[95m 14.51   \u001b[0m | \u001b[95m 11.28   \u001b[0m | \u001b[95m 0.8283  \u001b[0m |\n",
      "| \u001b[0m 14      \u001b[0m | \u001b[0m 0.6406  \u001b[0m | \u001b[0m 0.7299  \u001b[0m | \u001b[0m 17.56   \u001b[0m | \u001b[0m 0.2517  \u001b[0m | \u001b[0m 7.193   \u001b[0m | \u001b[0m 124.5   \u001b[0m | \u001b[0m 15.52   \u001b[0m | \u001b[0m 33.63   \u001b[0m | \u001b[0m 0.7541  \u001b[0m |\n",
      "| \u001b[95m 15      \u001b[0m | \u001b[95m 0.6497  \u001b[0m | \u001b[95m 0.792   \u001b[0m | \u001b[95m 11.91   \u001b[0m | \u001b[95m 0.2064  \u001b[0m | \u001b[95m 1.53    \u001b[0m | \u001b[95m 210.9   \u001b[0m | \u001b[95m 8.894   \u001b[0m | \u001b[95m 23.39   \u001b[0m | \u001b[95m 0.6433  \u001b[0m |\n",
      "| \u001b[0m 16      \u001b[0m | \u001b[0m 0.6324  \u001b[0m | \u001b[0m 0.5873  \u001b[0m | \u001b[0m 5.575   \u001b[0m | \u001b[0m 0.55    \u001b[0m | \u001b[0m 13.55   \u001b[0m | \u001b[0m 18.31   \u001b[0m | \u001b[0m 7.748   \u001b[0m | \u001b[0m 11.99   \u001b[0m | \u001b[0m 0.6381  \u001b[0m |\n",
      "| \u001b[0m 17      \u001b[0m | \u001b[0m 0.6465  \u001b[0m | \u001b[0m 0.7109  \u001b[0m | \u001b[0m 5.013   \u001b[0m | \u001b[0m 0.2124  \u001b[0m | \u001b[0m 18.1    \u001b[0m | \u001b[0m 495.4   \u001b[0m | \u001b[0m 7.852   \u001b[0m | \u001b[0m 10.37   \u001b[0m | \u001b[0m 0.6599  \u001b[0m |\n",
      "| \u001b[0m 18      \u001b[0m | \u001b[0m 0.648   \u001b[0m | \u001b[0m 0.5468  \u001b[0m | \u001b[0m 8.886   \u001b[0m | \u001b[0m 0.4711  \u001b[0m | \u001b[0m 22.9    \u001b[0m | \u001b[0m 509.5   \u001b[0m | \u001b[0m 8.417   \u001b[0m | \u001b[0m 49.9    \u001b[0m | \u001b[0m 0.8244  \u001b[0m |\n",
      "| \u001b[0m 19      \u001b[0m | \u001b[0m 0.6409  \u001b[0m | \u001b[0m 0.9206  \u001b[0m | \u001b[0m 6.888   \u001b[0m | \u001b[0m 0.4429  \u001b[0m | \u001b[0m 4.306   \u001b[0m | \u001b[0m 142.0   \u001b[0m | \u001b[0m 8.906   \u001b[0m | \u001b[0m 8.685   \u001b[0m | \u001b[0m 0.6451  \u001b[0m |\n",
      "| \u001b[95m 20      \u001b[0m | \u001b[95m 0.6498  \u001b[0m | \u001b[95m 0.9304  \u001b[0m | \u001b[95m 9.811   \u001b[0m | \u001b[95m 0.3891  \u001b[0m | \u001b[95m 2.997   \u001b[0m | \u001b[95m 11.0    \u001b[0m | \u001b[95m 7.075   \u001b[0m | \u001b[95m 47.83   \u001b[0m | \u001b[95m 0.8748  \u001b[0m |\n",
      "| \u001b[0m 21      \u001b[0m | \u001b[0m 0.647   \u001b[0m | \u001b[0m 0.5374  \u001b[0m | \u001b[0m 8.742   \u001b[0m | \u001b[0m 0.4032  \u001b[0m | \u001b[0m 24.62   \u001b[0m | \u001b[0m 86.31   \u001b[0m | \u001b[0m 7.653   \u001b[0m | \u001b[0m 48.2    \u001b[0m | \u001b[0m 0.5227  \u001b[0m |\n",
      "| \u001b[0m 22      \u001b[0m | \u001b[0m 0.6424  \u001b[0m | \u001b[0m 0.7295  \u001b[0m | \u001b[0m 6.714   \u001b[0m | \u001b[0m 0.5342  \u001b[0m | \u001b[0m 20.32   \u001b[0m | \u001b[0m 227.5   \u001b[0m | \u001b[0m 7.2     \u001b[0m | \u001b[0m 49.34   \u001b[0m | \u001b[0m 0.6541  \u001b[0m |\n",
      "| \u001b[0m 23      \u001b[0m | \u001b[0m 0.6423  \u001b[0m | \u001b[0m 0.8015  \u001b[0m | \u001b[0m 17.79   \u001b[0m | \u001b[0m 0.2647  \u001b[0m | \u001b[0m 21.24   \u001b[0m | \u001b[0m 10.21   \u001b[0m | \u001b[0m 11.08   \u001b[0m | \u001b[0m 49.82   \u001b[0m | \u001b[0m 0.7476  \u001b[0m |\n",
      "| \u001b[95m 24      \u001b[0m | \u001b[95m 0.6519  \u001b[0m | \u001b[95m 0.7603  \u001b[0m | \u001b[95m 6.056   \u001b[0m | \u001b[95m 0.2167  \u001b[0m | \u001b[95m 1.901   \u001b[0m | \u001b[95m 510.5   \u001b[0m | \u001b[95m 19.1    \u001b[0m | \u001b[95m 49.37   \u001b[0m | \u001b[95m 0.7836  \u001b[0m |\n",
      "| \u001b[0m 25      \u001b[0m | \u001b[0m 0.6464  \u001b[0m | \u001b[0m 0.5398  \u001b[0m | \u001b[0m 5.768   \u001b[0m | \u001b[0m 0.4817  \u001b[0m | \u001b[0m 2.149   \u001b[0m | \u001b[0m 42.6    \u001b[0m | \u001b[0m 19.26   \u001b[0m | \u001b[0m 43.69   \u001b[0m | \u001b[0m 0.6821  \u001b[0m |\n",
      "| \u001b[0m 26      \u001b[0m | \u001b[0m 0.6459  \u001b[0m | \u001b[0m 0.6118  \u001b[0m | \u001b[0m 5.828   \u001b[0m | \u001b[0m 0.5325  \u001b[0m | \u001b[0m 25.0    \u001b[0m | \u001b[0m 484.4   \u001b[0m | \u001b[0m 19.76   \u001b[0m | \u001b[0m 33.89   \u001b[0m | \u001b[0m 0.7587  \u001b[0m |\n",
      "| \u001b[95m 27      \u001b[0m | \u001b[95m 0.6522  \u001b[0m | \u001b[95m 0.8434  \u001b[0m | \u001b[95m 6.827   \u001b[0m | \u001b[95m 0.1235  \u001b[0m | \u001b[95m 22.64   \u001b[0m | \u001b[95m 280.4   \u001b[0m | \u001b[95m 7.601   \u001b[0m | \u001b[95m 9.301   \u001b[0m | \u001b[95m 0.521   \u001b[0m |\n",
      "| \u001b[0m 28      \u001b[0m | \u001b[0m 0.6401  \u001b[0m | \u001b[0m 0.788   \u001b[0m | \u001b[0m 6.827   \u001b[0m | \u001b[0m 0.4828  \u001b[0m | \u001b[0m 2.349   \u001b[0m | \u001b[0m 257.4   \u001b[0m | \u001b[0m 8.686   \u001b[0m | \u001b[0m 10.17   \u001b[0m | \u001b[0m 0.8435  \u001b[0m |\n",
      "| \u001b[0m 29      \u001b[0m | \u001b[0m 0.6494  \u001b[0m | \u001b[0m 0.7544  \u001b[0m | \u001b[0m 5.515   \u001b[0m | \u001b[0m 0.2877  \u001b[0m | \u001b[0m 23.65   \u001b[0m | \u001b[0m 335.3   \u001b[0m | \u001b[0m 7.069   \u001b[0m | \u001b[0m 28.87   \u001b[0m | \u001b[0m 0.8629  \u001b[0m |\n",
      "| \u001b[0m 30      \u001b[0m | \u001b[0m 0.6503  \u001b[0m | \u001b[0m 0.8279  \u001b[0m | \u001b[0m 8.975   \u001b[0m | \u001b[0m 0.2544  \u001b[0m | \u001b[0m 24.71   \u001b[0m | \u001b[0m 231.2   \u001b[0m | \u001b[0m 10.69   \u001b[0m | \u001b[0m 9.477   \u001b[0m | \u001b[0m 0.7272  \u001b[0m |\n",
      "| \u001b[0m 31      \u001b[0m | \u001b[0m 0.6427  \u001b[0m | \u001b[0m 0.5947  \u001b[0m | \u001b[0m 18.13   \u001b[0m | \u001b[0m 0.2618  \u001b[0m | \u001b[0m 5.485   \u001b[0m | \u001b[0m 54.84   \u001b[0m | \u001b[0m 7.043   \u001b[0m | \u001b[0m 46.89   \u001b[0m | \u001b[0m 0.6921  \u001b[0m |\n",
      "| \u001b[0m 32      \u001b[0m | \u001b[0m 0.6393  \u001b[0m | \u001b[0m 0.6104  \u001b[0m | \u001b[0m 19.2    \u001b[0m | \u001b[0m 0.1342  \u001b[0m | \u001b[0m 24.8    \u001b[0m | \u001b[0m 511.2   \u001b[0m | \u001b[0m 15.2    \u001b[0m | \u001b[0m 24.65   \u001b[0m | \u001b[0m 0.6739  \u001b[0m |\n",
      "| \u001b[0m 33      \u001b[0m | \u001b[0m 0.6483  \u001b[0m | \u001b[0m 0.9221  \u001b[0m | \u001b[0m 5.844   \u001b[0m | \u001b[0m 0.424   \u001b[0m | \u001b[0m 6.247   \u001b[0m | \u001b[0m 422.1   \u001b[0m | \u001b[0m 7.009   \u001b[0m | \u001b[0m 49.15   \u001b[0m | \u001b[0m 0.8839  \u001b[0m |\n",
      "| \u001b[0m 34      \u001b[0m | \u001b[0m 0.6493  \u001b[0m | \u001b[0m 0.9571  \u001b[0m | \u001b[0m 5.403   \u001b[0m | \u001b[0m 0.1756  \u001b[0m | \u001b[0m 22.47   \u001b[0m | \u001b[0m 205.4   \u001b[0m | \u001b[0m 7.038   \u001b[0m | \u001b[0m 20.38   \u001b[0m | \u001b[0m 0.6634  \u001b[0m |\n",
      "| \u001b[0m 35      \u001b[0m | \u001b[0m 0.6499  \u001b[0m | \u001b[0m 0.5413  \u001b[0m | \u001b[0m 6.682   \u001b[0m | \u001b[0m 0.1234  \u001b[0m | \u001b[0m 16.94   \u001b[0m | \u001b[0m 10.25   \u001b[0m | \u001b[0m 7.74    \u001b[0m | \u001b[0m 49.08   \u001b[0m | \u001b[0m 0.5514  \u001b[0m |\n",
      "| \u001b[0m 36      \u001b[0m | \u001b[0m 0.6521  \u001b[0m | \u001b[0m 0.5579  \u001b[0m | \u001b[0m 5.218   \u001b[0m | \u001b[0m 0.1792  \u001b[0m | \u001b[0m 1.883   \u001b[0m | \u001b[0m 505.7   \u001b[0m | \u001b[0m 7.319   \u001b[0m | \u001b[0m 46.74   \u001b[0m | \u001b[0m 0.6363  \u001b[0m |\n",
      "| \u001b[95m 37      \u001b[0m | \u001b[95m 0.6531  \u001b[0m | \u001b[95m 0.924   \u001b[0m | \u001b[95m 6.127   \u001b[0m | \u001b[95m 0.2327  \u001b[0m | \u001b[95m 1.85    \u001b[0m | \u001b[95m 131.6   \u001b[0m | \u001b[95m 8.893   \u001b[0m | \u001b[95m 45.95   \u001b[0m | \u001b[95m 0.7119  \u001b[0m |\n",
      "| \u001b[0m 38      \u001b[0m | \u001b[0m 0.6436  \u001b[0m | \u001b[0m 0.708   \u001b[0m | \u001b[0m 17.15   \u001b[0m | \u001b[0m 0.326   \u001b[0m | \u001b[0m 24.2    \u001b[0m | \u001b[0m 289.2   \u001b[0m | \u001b[0m 7.457   \u001b[0m | \u001b[0m 8.78    \u001b[0m | \u001b[0m 0.5806  \u001b[0m |\n",
      "| \u001b[0m 39      \u001b[0m | \u001b[0m 0.6522  \u001b[0m | \u001b[0m 0.9244  \u001b[0m | \u001b[0m 5.93    \u001b[0m | \u001b[0m 0.1765  \u001b[0m | \u001b[0m 23.51   \u001b[0m | \u001b[0m 371.0   \u001b[0m | \u001b[0m 10.18   \u001b[0m | \u001b[0m 8.325   \u001b[0m | \u001b[0m 0.5735  \u001b[0m |\n"
     ]
    },
    {
     "name": "stdout",
     "output_type": "stream",
     "text": [
      "| \u001b[0m 40      \u001b[0m | \u001b[0m 0.6467  \u001b[0m | \u001b[0m 0.5547  \u001b[0m | \u001b[0m 5.562   \u001b[0m | \u001b[0m 0.3535  \u001b[0m | \u001b[0m 21.94   \u001b[0m | \u001b[0m 334.2   \u001b[0m | \u001b[0m 9.92    \u001b[0m | \u001b[0m 26.18   \u001b[0m | \u001b[0m 0.7286  \u001b[0m |\n",
      "| \u001b[0m 41      \u001b[0m | \u001b[0m 0.653   \u001b[0m | \u001b[0m 0.7093  \u001b[0m | \u001b[0m 6.434   \u001b[0m | \u001b[0m 0.1525  \u001b[0m | \u001b[0m 2.87    \u001b[0m | \u001b[0m 84.77   \u001b[0m | \u001b[0m 9.495   \u001b[0m | \u001b[0m 47.09   \u001b[0m | \u001b[0m 0.6999  \u001b[0m |\n",
      "| \u001b[0m 42      \u001b[0m | \u001b[0m 0.653   \u001b[0m | \u001b[0m 0.9691  \u001b[0m | \u001b[0m 5.41    \u001b[0m | \u001b[0m 0.132   \u001b[0m | \u001b[0m 24.5    \u001b[0m | \u001b[0m 424.1   \u001b[0m | \u001b[0m 9.765   \u001b[0m | \u001b[0m 12.4    \u001b[0m | \u001b[0m 0.794   \u001b[0m |\n",
      "| \u001b[0m 43      \u001b[0m | \u001b[0m 0.6483  \u001b[0m | \u001b[0m 0.564   \u001b[0m | \u001b[0m 5.313   \u001b[0m | \u001b[0m 0.2106  \u001b[0m | \u001b[0m 6.906   \u001b[0m | \u001b[0m 9.381   \u001b[0m | \u001b[0m 19.17   \u001b[0m | \u001b[0m 49.01   \u001b[0m | \u001b[0m 0.5609  \u001b[0m |\n",
      "| \u001b[0m 44      \u001b[0m | \u001b[0m 0.6476  \u001b[0m | \u001b[0m 0.8964  \u001b[0m | \u001b[0m 7.544   \u001b[0m | \u001b[0m 0.3707  \u001b[0m | \u001b[0m 20.74   \u001b[0m | \u001b[0m 369.9   \u001b[0m | \u001b[0m 9.879   \u001b[0m | \u001b[0m 11.7    \u001b[0m | \u001b[0m 0.7626  \u001b[0m |\n",
      "| \u001b[0m 45      \u001b[0m | \u001b[0m 0.651   \u001b[0m | \u001b[0m 0.8188  \u001b[0m | \u001b[0m 6.318   \u001b[0m | \u001b[0m 0.2631  \u001b[0m | \u001b[0m 1.386   \u001b[0m | \u001b[0m 99.82   \u001b[0m | \u001b[0m 13.11   \u001b[0m | \u001b[0m 49.36   \u001b[0m | \u001b[0m 0.5699  \u001b[0m |\n",
      "| \u001b[0m 46      \u001b[0m | \u001b[0m 0.6488  \u001b[0m | \u001b[0m 0.6195  \u001b[0m | \u001b[0m 10.18   \u001b[0m | \u001b[0m 0.4581  \u001b[0m | \u001b[0m 1.823   \u001b[0m | \u001b[0m 87.19   \u001b[0m | \u001b[0m 10.44   \u001b[0m | \u001b[0m 45.11   \u001b[0m | \u001b[0m 0.8368  \u001b[0m |\n",
      "| \u001b[0m 47      \u001b[0m | \u001b[0m 0.6527  \u001b[0m | \u001b[0m 0.9926  \u001b[0m | \u001b[0m 5.788   \u001b[0m | \u001b[0m 0.2037  \u001b[0m | \u001b[0m 8.676   \u001b[0m | \u001b[0m 72.82   \u001b[0m | \u001b[0m 7.165   \u001b[0m | \u001b[0m 49.92   \u001b[0m | \u001b[0m 0.609   \u001b[0m |\n",
      "| \u001b[0m 48      \u001b[0m | \u001b[0m 0.6509  \u001b[0m | \u001b[0m 0.908   \u001b[0m | \u001b[0m 8.271   \u001b[0m | \u001b[0m 0.1425  \u001b[0m | \u001b[0m 1.124   \u001b[0m | \u001b[0m 511.5   \u001b[0m | \u001b[0m 7.849   \u001b[0m | \u001b[0m 43.71   \u001b[0m | \u001b[0m 0.6472  \u001b[0m |\n",
      "| \u001b[0m 49      \u001b[0m | \u001b[0m 0.6482  \u001b[0m | \u001b[0m 0.9428  \u001b[0m | \u001b[0m 7.942   \u001b[0m | \u001b[0m 0.3667  \u001b[0m | \u001b[0m 1.466   \u001b[0m | \u001b[0m 123.0   \u001b[0m | \u001b[0m 7.861   \u001b[0m | \u001b[0m 49.18   \u001b[0m | \u001b[0m 0.6509  \u001b[0m |\n",
      "| \u001b[95m 50      \u001b[0m | \u001b[95m 0.6535  \u001b[0m | \u001b[95m 0.9923  \u001b[0m | \u001b[95m 5.8     \u001b[0m | \u001b[95m 0.2232  \u001b[0m | \u001b[95m 1.036   \u001b[0m | \u001b[95m 180.2   \u001b[0m | \u001b[95m 17.66   \u001b[0m | \u001b[95m 35.42   \u001b[0m | \u001b[95m 0.8755  \u001b[0m |\n",
      "| \u001b[0m 51      \u001b[0m | \u001b[0m 0.652   \u001b[0m | \u001b[0m 0.8631  \u001b[0m | \u001b[0m 5.033   \u001b[0m | \u001b[0m 0.1805  \u001b[0m | \u001b[0m 18.15   \u001b[0m | \u001b[0m 414.5   \u001b[0m | \u001b[0m 7.631   \u001b[0m | \u001b[0m 24.79   \u001b[0m | \u001b[0m 0.6287  \u001b[0m |\n",
      "| \u001b[95m 52      \u001b[0m | \u001b[95m 0.6557  \u001b[0m | \u001b[95m 0.6975  \u001b[0m | \u001b[95m 5.259   \u001b[0m | \u001b[95m 0.121   \u001b[0m | \u001b[95m 1.672   \u001b[0m | \u001b[95m 51.8    \u001b[0m | \u001b[95m 7.849   \u001b[0m | \u001b[95m 50.0    \u001b[0m | \u001b[95m 0.8406  \u001b[0m |\n",
      "| \u001b[0m 53      \u001b[0m | \u001b[0m 0.6551  \u001b[0m | \u001b[0m 0.6906  \u001b[0m | \u001b[0m 5.402   \u001b[0m | \u001b[0m 0.162   \u001b[0m | \u001b[0m 1.627   \u001b[0m | \u001b[0m 204.5   \u001b[0m | \u001b[0m 9.457   \u001b[0m | \u001b[0m 49.78   \u001b[0m | \u001b[0m 0.8005  \u001b[0m |\n",
      "| \u001b[0m 54      \u001b[0m | \u001b[0m 0.6521  \u001b[0m | \u001b[0m 0.9671  \u001b[0m | \u001b[0m 6.073   \u001b[0m | \u001b[0m 0.1239  \u001b[0m | \u001b[0m 2.064   \u001b[0m | \u001b[0m 209.5   \u001b[0m | \u001b[0m 17.83   \u001b[0m | \u001b[0m 37.86   \u001b[0m | \u001b[0m 0.8226  \u001b[0m |\n",
      "| \u001b[0m 55      \u001b[0m | \u001b[0m 0.648   \u001b[0m | \u001b[0m 0.8517  \u001b[0m | \u001b[0m 6.253   \u001b[0m | \u001b[0m 0.1088  \u001b[0m | \u001b[0m 1.497   \u001b[0m | \u001b[0m 160.0   \u001b[0m | \u001b[0m 19.77   \u001b[0m | \u001b[0m 45.28   \u001b[0m | \u001b[0m 0.5702  \u001b[0m |\n",
      "| \u001b[0m 56      \u001b[0m | \u001b[0m 0.6413  \u001b[0m | \u001b[0m 0.9199  \u001b[0m | \u001b[0m 5.357   \u001b[0m | \u001b[0m 0.39    \u001b[0m | \u001b[0m 1.599   \u001b[0m | \u001b[0m 194.5   \u001b[0m | \u001b[0m 8.042   \u001b[0m | \u001b[0m 47.52   \u001b[0m | \u001b[0m 0.512   \u001b[0m |\n",
      "| \u001b[0m 57      \u001b[0m | \u001b[0m 0.6427  \u001b[0m | \u001b[0m 0.6287  \u001b[0m | \u001b[0m 16.45   \u001b[0m | \u001b[0m 0.1555  \u001b[0m | \u001b[0m 2.073   \u001b[0m | \u001b[0m 280.9   \u001b[0m | \u001b[0m 15.2    \u001b[0m | \u001b[0m 48.9    \u001b[0m | \u001b[0m 0.8935  \u001b[0m |\n",
      "| \u001b[0m 58      \u001b[0m | \u001b[0m 0.6524  \u001b[0m | \u001b[0m 0.9916  \u001b[0m | \u001b[0m 5.433   \u001b[0m | \u001b[0m 0.1048  \u001b[0m | \u001b[0m 1.415   \u001b[0m | \u001b[0m 446.3   \u001b[0m | \u001b[0m 8.018   \u001b[0m | \u001b[0m 8.325   \u001b[0m | \u001b[0m 0.559   \u001b[0m |\n",
      "| \u001b[0m 59      \u001b[0m | \u001b[0m 0.6518  \u001b[0m | \u001b[0m 0.6796  \u001b[0m | \u001b[0m 5.802   \u001b[0m | \u001b[0m 0.26    \u001b[0m | \u001b[0m 1.824   \u001b[0m | \u001b[0m 80.8    \u001b[0m | \u001b[0m 7.721   \u001b[0m | \u001b[0m 48.47   \u001b[0m | \u001b[0m 0.77    \u001b[0m |\n",
      "| \u001b[0m 60      \u001b[0m | \u001b[0m 0.6511  \u001b[0m | \u001b[0m 0.8315  \u001b[0m | \u001b[0m 5.69    \u001b[0m | \u001b[0m 0.1605  \u001b[0m | \u001b[0m 1.112   \u001b[0m | \u001b[0m 369.1   \u001b[0m | \u001b[0m 13.97   \u001b[0m | \u001b[0m 49.74   \u001b[0m | \u001b[0m 0.5774  \u001b[0m |\n",
      "| \u001b[0m 61      \u001b[0m | \u001b[0m 0.6523  \u001b[0m | \u001b[0m 0.5053  \u001b[0m | \u001b[0m 6.325   \u001b[0m | \u001b[0m 0.2604  \u001b[0m | \u001b[0m 4.651   \u001b[0m | \u001b[0m 400.4   \u001b[0m | \u001b[0m 15.89   \u001b[0m | \u001b[0m 8.069   \u001b[0m | \u001b[0m 0.8861  \u001b[0m |\n",
      "| \u001b[0m 62      \u001b[0m | \u001b[0m 0.6512  \u001b[0m | \u001b[0m 0.6294  \u001b[0m | \u001b[0m 5.885   \u001b[0m | \u001b[0m 0.1041  \u001b[0m | \u001b[0m 15.88   \u001b[0m | \u001b[0m 186.7   \u001b[0m | \u001b[0m 19.58   \u001b[0m | \u001b[0m 10.84   \u001b[0m | \u001b[0m 0.7345  \u001b[0m |\n",
      "| \u001b[0m 63      \u001b[0m | \u001b[0m 0.6529  \u001b[0m | \u001b[0m 0.802   \u001b[0m | \u001b[0m 5.013   \u001b[0m | \u001b[0m 0.1134  \u001b[0m | \u001b[0m 24.15   \u001b[0m | \u001b[0m 75.49   \u001b[0m | \u001b[0m 18.49   \u001b[0m | \u001b[0m 41.7    \u001b[0m | \u001b[0m 0.8481  \u001b[0m |\n",
      "| \u001b[0m 64      \u001b[0m | \u001b[0m 0.6505  \u001b[0m | \u001b[0m 0.7057  \u001b[0m | \u001b[0m 5.248   \u001b[0m | \u001b[0m 0.2113  \u001b[0m | \u001b[0m 2.573   \u001b[0m | \u001b[0m 481.8   \u001b[0m | \u001b[0m 19.65   \u001b[0m | \u001b[0m 13.02   \u001b[0m | \u001b[0m 0.6404  \u001b[0m |\n",
      "| \u001b[0m 65      \u001b[0m | \u001b[0m 0.6528  \u001b[0m | \u001b[0m 0.8486  \u001b[0m | \u001b[0m 5.632   \u001b[0m | \u001b[0m 0.2561  \u001b[0m | \u001b[0m 23.76   \u001b[0m | \u001b[0m 307.4   \u001b[0m | \u001b[0m 18.22   \u001b[0m | \u001b[0m 9.686   \u001b[0m | \u001b[0m 0.8639  \u001b[0m |\n",
      "| \u001b[0m 66      \u001b[0m | \u001b[0m 0.6518  \u001b[0m | \u001b[0m 0.9838  \u001b[0m | \u001b[0m 5.476   \u001b[0m | \u001b[0m 0.1724  \u001b[0m | \u001b[0m 1.217   \u001b[0m | \u001b[0m 401.8   \u001b[0m | \u001b[0m 17.43   \u001b[0m | \u001b[0m 26.19   \u001b[0m | \u001b[0m 0.6893  \u001b[0m |\n",
      "| \u001b[0m 67      \u001b[0m | \u001b[0m 0.6528  \u001b[0m | \u001b[0m 0.9884  \u001b[0m | \u001b[0m 5.066   \u001b[0m | \u001b[0m 0.1032  \u001b[0m | \u001b[0m 23.16   \u001b[0m | \u001b[0m 385.3   \u001b[0m | \u001b[0m 17.49   \u001b[0m | \u001b[0m 18.58   \u001b[0m | \u001b[0m 0.733   \u001b[0m |\n",
      "| \u001b[0m 68      \u001b[0m | \u001b[0m 0.6482  \u001b[0m | \u001b[0m 0.7058  \u001b[0m | \u001b[0m 7.784   \u001b[0m | \u001b[0m 0.5533  \u001b[0m | \u001b[0m 3.937   \u001b[0m | \u001b[0m 182.1   \u001b[0m | \u001b[0m 15.67   \u001b[0m | \u001b[0m 36.86   \u001b[0m | \u001b[0m 0.7913  \u001b[0m |\n",
      "| \u001b[0m 69      \u001b[0m | \u001b[0m 0.6509  \u001b[0m | \u001b[0m 0.9549  \u001b[0m | \u001b[0m 5.396   \u001b[0m | \u001b[0m 0.2705  \u001b[0m | \u001b[0m 1.444   \u001b[0m | \u001b[0m 508.3   \u001b[0m | \u001b[0m 19.78   \u001b[0m | \u001b[0m 14.5    \u001b[0m | \u001b[0m 0.5803  \u001b[0m |\n",
      "| \u001b[0m 70      \u001b[0m | \u001b[0m 0.6548  \u001b[0m | \u001b[0m 0.5504  \u001b[0m | \u001b[0m 5.224   \u001b[0m | \u001b[0m 0.181   \u001b[0m | \u001b[0m 23.47   \u001b[0m | \u001b[0m 114.5   \u001b[0m | \u001b[0m 8.546   \u001b[0m | \u001b[0m 47.13   \u001b[0m | \u001b[0m 0.8779  \u001b[0m |\n",
      "| \u001b[0m 71      \u001b[0m | \u001b[0m 0.6539  \u001b[0m | \u001b[0m 0.5213  \u001b[0m | \u001b[0m 5.043   \u001b[0m | \u001b[0m 0.1053  \u001b[0m | \u001b[0m 23.71   \u001b[0m | \u001b[0m 100.1   \u001b[0m | \u001b[0m 16.57   \u001b[0m | \u001b[0m 11.83   \u001b[0m | \u001b[0m 0.8788  \u001b[0m |\n",
      "| \u001b[0m 72      \u001b[0m | \u001b[0m 0.6476  \u001b[0m | \u001b[0m 0.9892  \u001b[0m | \u001b[0m 5.597   \u001b[0m | \u001b[0m 0.3417  \u001b[0m | \u001b[0m 23.13   \u001b[0m | \u001b[0m 100.7   \u001b[0m | \u001b[0m 8.238   \u001b[0m | \u001b[0m 33.75   \u001b[0m | \u001b[0m 0.8023  \u001b[0m |\n",
      "| \u001b[0m 73      \u001b[0m | \u001b[0m 0.6486  \u001b[0m | \u001b[0m 0.7209  \u001b[0m | \u001b[0m 5.091   \u001b[0m | \u001b[0m 0.3811  \u001b[0m | \u001b[0m 1.117   \u001b[0m | \u001b[0m 83.15   \u001b[0m | \u001b[0m 13.54   \u001b[0m | \u001b[0m 47.0    \u001b[0m | \u001b[0m 0.6599  \u001b[0m |\n",
      "| \u001b[0m 74      \u001b[0m | \u001b[0m 0.6532  \u001b[0m | \u001b[0m 0.7132  \u001b[0m | \u001b[0m 5.565   \u001b[0m | \u001b[0m 0.2082  \u001b[0m | \u001b[0m 24.81   \u001b[0m | \u001b[0m 264.5   \u001b[0m | \u001b[0m 18.92   \u001b[0m | \u001b[0m 21.78   \u001b[0m | \u001b[0m 0.8843  \u001b[0m |\n",
      "| \u001b[0m 75      \u001b[0m | \u001b[0m 0.6521  \u001b[0m | \u001b[0m 0.5479  \u001b[0m | \u001b[0m 6.198   \u001b[0m | \u001b[0m 0.2178  \u001b[0m | \u001b[0m 15.79   \u001b[0m | \u001b[0m 46.09   \u001b[0m | \u001b[0m 8.041   \u001b[0m | \u001b[0m 49.63   \u001b[0m | \u001b[0m 0.8256  \u001b[0m |\n",
      "| \u001b[0m 76      \u001b[0m | \u001b[0m 0.6543  \u001b[0m | \u001b[0m 0.6773  \u001b[0m | \u001b[0m 5.261   \u001b[0m | \u001b[0m 0.1279  \u001b[0m | \u001b[0m 2.02    \u001b[0m | \u001b[0m 382.2   \u001b[0m | \u001b[0m 8.117   \u001b[0m | \u001b[0m 28.88   \u001b[0m | \u001b[0m 0.7659  \u001b[0m |\n",
      "| \u001b[0m 77      \u001b[0m | \u001b[0m 0.6539  \u001b[0m | \u001b[0m 0.7719  \u001b[0m | \u001b[0m 5.306   \u001b[0m | \u001b[0m 0.155   \u001b[0m | \u001b[0m 1.733   \u001b[0m | \u001b[0m 334.0   \u001b[0m | \u001b[0m 7.261   \u001b[0m | \u001b[0m 44.22   \u001b[0m | \u001b[0m 0.6917  \u001b[0m |\n",
      "| \u001b[0m 78      \u001b[0m | \u001b[0m 0.6515  \u001b[0m | \u001b[0m 0.637   \u001b[0m | \u001b[0m 5.98    \u001b[0m | \u001b[0m 0.1111  \u001b[0m | \u001b[0m 14.34   \u001b[0m | \u001b[0m 111.7   \u001b[0m | \u001b[0m 18.55   \u001b[0m | \u001b[0m 47.64   \u001b[0m | \u001b[0m 0.8281  \u001b[0m |\n",
      "| \u001b[0m 79      \u001b[0m | \u001b[0m 0.6522  \u001b[0m | \u001b[0m 0.8118  \u001b[0m | \u001b[0m 5.125   \u001b[0m | \u001b[0m 0.1206  \u001b[0m | \u001b[0m 24.02   \u001b[0m | \u001b[0m 401.4   \u001b[0m | \u001b[0m 7.634   \u001b[0m | \u001b[0m 8.329   \u001b[0m | \u001b[0m 0.6746  \u001b[0m |\n",
      "| \u001b[0m 80      \u001b[0m | \u001b[0m 0.6532  \u001b[0m | \u001b[0m 0.6669  \u001b[0m | \u001b[0m 5.15    \u001b[0m | \u001b[0m 0.1375  \u001b[0m | \u001b[0m 17.8    \u001b[0m | \u001b[0m 434.0   \u001b[0m | \u001b[0m 19.19   \u001b[0m | \u001b[0m 16.04   \u001b[0m | \u001b[0m 0.8757  \u001b[0m |\n"
     ]
    },
    {
     "name": "stdout",
     "output_type": "stream",
     "text": [
      "| \u001b[0m 81      \u001b[0m | \u001b[0m 0.6521  \u001b[0m | \u001b[0m 0.6493  \u001b[0m | \u001b[0m 6.577   \u001b[0m | \u001b[0m 0.1135  \u001b[0m | \u001b[0m 24.68   \u001b[0m | \u001b[0m 152.6   \u001b[0m | \u001b[0m 19.12   \u001b[0m | \u001b[0m 14.32   \u001b[0m | \u001b[0m 0.893   \u001b[0m |\n",
      "| \u001b[0m 82      \u001b[0m | \u001b[0m 0.6548  \u001b[0m | \u001b[0m 0.785   \u001b[0m | \u001b[0m 5.09    \u001b[0m | \u001b[0m 0.1157  \u001b[0m | \u001b[0m 1.417   \u001b[0m | \u001b[0m 363.6   \u001b[0m | \u001b[0m 8.848   \u001b[0m | \u001b[0m 45.01   \u001b[0m | \u001b[0m 0.7928  \u001b[0m |\n",
      "| \u001b[0m 83      \u001b[0m | \u001b[0m 0.6402  \u001b[0m | \u001b[0m 0.9056  \u001b[0m | \u001b[0m 6.855   \u001b[0m | \u001b[0m 0.5854  \u001b[0m | \u001b[0m 2.337   \u001b[0m | \u001b[0m 85.39   \u001b[0m | \u001b[0m 7.786   \u001b[0m | \u001b[0m 42.94   \u001b[0m | \u001b[0m 0.6418  \u001b[0m |\n",
      "| \u001b[0m 84      \u001b[0m | \u001b[0m 0.6531  \u001b[0m | \u001b[0m 0.5465  \u001b[0m | \u001b[0m 5.065   \u001b[0m | \u001b[0m 0.1248  \u001b[0m | \u001b[0m 24.99   \u001b[0m | \u001b[0m 446.8   \u001b[0m | \u001b[0m 17.4    \u001b[0m | \u001b[0m 8.509   \u001b[0m | \u001b[0m 0.6967  \u001b[0m |\n",
      "| \u001b[0m 85      \u001b[0m | \u001b[0m 0.6543  \u001b[0m | \u001b[0m 0.7394  \u001b[0m | \u001b[0m 5.252   \u001b[0m | \u001b[0m 0.1041  \u001b[0m | \u001b[0m 20.88   \u001b[0m | \u001b[0m 402.1   \u001b[0m | \u001b[0m 7.177   \u001b[0m | \u001b[0m 48.14   \u001b[0m | \u001b[0m 0.8462  \u001b[0m |\n",
      "| \u001b[0m 86      \u001b[0m | \u001b[0m 0.655   \u001b[0m | \u001b[0m 0.8256  \u001b[0m | \u001b[0m 6.768   \u001b[0m | \u001b[0m 0.158   \u001b[0m | \u001b[0m 24.96   \u001b[0m | \u001b[0m 294.2   \u001b[0m | \u001b[0m 8.137   \u001b[0m | \u001b[0m 24.85   \u001b[0m | \u001b[0m 0.8648  \u001b[0m |\n",
      "| \u001b[0m 87      \u001b[0m | \u001b[0m 0.6538  \u001b[0m | \u001b[0m 0.5345  \u001b[0m | \u001b[0m 5.969   \u001b[0m | \u001b[0m 0.1067  \u001b[0m | \u001b[0m 24.8    \u001b[0m | \u001b[0m 291.2   \u001b[0m | \u001b[0m 10.77   \u001b[0m | \u001b[0m 20.24   \u001b[0m | \u001b[0m 0.6925  \u001b[0m |\n",
      "| \u001b[0m 88      \u001b[0m | \u001b[0m 0.6526  \u001b[0m | \u001b[0m 0.5602  \u001b[0m | \u001b[0m 6.086   \u001b[0m | \u001b[0m 0.1517  \u001b[0m | \u001b[0m 13.3    \u001b[0m | \u001b[0m 511.3   \u001b[0m | \u001b[0m 16.63   \u001b[0m | \u001b[0m 30.28   \u001b[0m | \u001b[0m 0.8523  \u001b[0m |\n",
      "| \u001b[0m 89      \u001b[0m | \u001b[0m 0.6541  \u001b[0m | \u001b[0m 0.8416  \u001b[0m | \u001b[0m 5.262   \u001b[0m | \u001b[0m 0.1198  \u001b[0m | \u001b[0m 23.34   \u001b[0m | \u001b[0m 252.3   \u001b[0m | \u001b[0m 19.31   \u001b[0m | \u001b[0m 9.747   \u001b[0m | \u001b[0m 0.751   \u001b[0m |\n",
      "| \u001b[0m 90      \u001b[0m | \u001b[0m 0.6524  \u001b[0m | \u001b[0m 0.7292  \u001b[0m | \u001b[0m 7.972   \u001b[0m | \u001b[0m 0.2678  \u001b[0m | \u001b[0m 24.22   \u001b[0m | \u001b[0m 290.1   \u001b[0m | \u001b[0m 10.36   \u001b[0m | \u001b[0m 23.96   \u001b[0m | \u001b[0m 0.886   \u001b[0m |\n",
      "=========================================================================================================================\n",
      "CPU times: user 9h 30min 40s, sys: 29min 13s, total: 9h 59min 53s\n",
      "Wall time: 1h 11min 40s\n"
     ]
    }
   ],
   "source": [
    "%%time\n",
    "# 모델 그 외 변수는 고정\n",
    "var_fixed = partial(\n",
    "        XGB_cv, \n",
    "        x_data=x_train, \n",
    "        y_data=y_train, \n",
    "        n_splits=5, \n",
    "        output='score'\n",
    "    )\n",
    "\n",
    "# 베이지안 최적화 범위 설정\n",
    "XGBo = BayesianOptimization(\n",
    "        var_fixed, \n",
    "        {\n",
    "            'max_depth': (8, 512),          # ~ 500\n",
    "            'learning_rate': (0.1, 0.6),    # 0.6xxx\n",
    "            'subsample': (0.5, 0.9),        # 0.5 ~ 0.7\n",
    "            'colsample_bytree': (0.5, 1),   # 0.5 ~ 0.8\n",
    "            # 'colsample_bynode':(0, 1),\n",
    "            # 'n_estimators' : (16, 1024),\n",
    "            'reg_alpha' : (7, 20),          # L1 - 7 ~ 20\n",
    "            'reg_lambda' : (8, 50),         # L2 - 8 ~ 45\n",
    "            'max_delta_step' : (1, 25),     # 8.x\n",
    "            'gamma' : (5, 20),              # 1 ~ 15\n",
    "        },\n",
    "        random_state = random.randrange(50000) # 유동 시드 1~50000\n",
    "    )\n",
    "\n",
    "# XGBo.maximize(init_points=15, n_iter=60)  # 처음 15회 랜덤값으로 score 계산 후 60회 최적화 = 4/04(토)\n",
    "XGBo.maximize(init_points=15, n_iter=75)    # 처음 15회 랜덤값으로 score 계산 후 75회 최적화 = 4/13(월) = final값 사용!"
   ]
  },
  {
   "cell_type": "markdown",
   "metadata": {
    "colab_type": "text",
    "id": "CfHi_LZ4O1_l"
   },
   "source": [
    "### 3.0 모델 학습 및 검증\n",
    "- Model Tuning & Evaluation\n",
    "\n",
    "> 1. AUC가 가장 높은 하이퍼 파라미터를 사용해 최종 모델을 얻습니다.\n",
    "> 1. 훈련 세트와 같은 방법으로 테스트 세트에서 Feature를 추출합니다.\n",
    "> 1. 최종 모델을 사용해 예측을 수행합니다.\n",
    "> 1. 예측 결과를 submission.csv로 저장합니다."
   ]
  },
  {
   "cell_type": "code",
   "execution_count": 12,
   "metadata": {
    "colab": {},
    "colab_type": "code",
    "id": "7UMIvW62UWhn"
   },
   "outputs": [],
   "source": [
    "\"\"\"\n",
    "# params = lgbBO.max['params']\n",
    "# models = lgb_cv(\n",
    "#         params['num_leaves'], \n",
    "#         params['learning_rate'], \n",
    "#         params['n_estimators'], \n",
    "#         params['subsample'], \n",
    "#         params['colsample_bytree'], \n",
    "#         params['reg_alpha'], \n",
    "#         params['reg_lambda'], \n",
    "#         x_data=x_train, \n",
    "#         y_data=y_train, \n",
    "#         n_splits=5, \n",
    "#         output='model',\n",
    "#    )\n",
    "\"\"\"\n",
    "\n",
    "params = XGBo.max['params']\n",
    "models = XGB_cv(\n",
    "        params['max_depth'], \n",
    "        params['learning_rate'],\n",
    "        params['subsample'], \n",
    "        params['colsample_bytree'],\n",
    "        # params['colsample_bynode'], \n",
    "        params['reg_alpha'], \n",
    "        params['reg_lambda'],\n",
    "        params['max_delta_step'],\n",
    "        # params['n_estimators'],\n",
    "        params['gamma'],\n",
    "        x_data=x_train, \n",
    "        y_data=y_train, \n",
    "        n_splits=5, \n",
    "        output='model'\n",
    "    )"
   ]
  },
  {
   "cell_type": "markdown",
   "metadata": {
    "colab_type": "text",
    "id": "W9d6ImndX5zO"
   },
   "source": [
    "# TEST를 풀기위해, 학습데이터로 변경 (data_preps)\n",
    " 1. Train Data set = [ 67,091,776 x 7 ] ... 70%\n",
    "  - game_id 별로 정리하면 [38,872 x 27]로 압축된다. \n",
    "  - 경기당, 평균 1,726개의 이벤트가 존재한다.(압축률 0.057939 %)\n",
    " > - x_train set = *** DATA SHAPE = [ 38,872 x 27 ] pandas.DataFrame\n",
    " > - y_train set = *** DATA SHAPE = [ 38,872 x 1 ]  np.array\n",
    " \n",
    " 1. Test Data set  = [ 28,714,849 x 6 ] ... 30%\n",
    "  - game_id 별로 정리하면 [16,787 x 27] 로 압축된다. \n",
    "  - 경기당 평균 1711개의 이벤트가 존재한다.(압축률 0.058461 %)\n",
    " > - x_test set = *** DATA SHAPE = [16,787 x 27] pandas.DataFrame \n",
    " > - y_test set = *** DATA SHAPE = [16,787 x 1] np.array =  대회주관자가 가지고 있음\n",
    " \n",
    " 1. Submission = y_test set \n",
    "  - submission = [16,787 x 1] np.array to [16,787 x 2 ] pandas.DataFrame --> df.csv"
   ]
  },
  {
   "cell_type": "code",
   "execution_count": 13,
   "metadata": {
    "colab": {
     "base_uri": "https://localhost:8080/",
     "height": 52
    },
    "colab_type": "code",
    "executionInfo": {
     "elapsed": 3153040,
     "status": "ok",
     "timestamp": 1585620279084,
     "user": {
      "displayName": "SuParX -K",
      "photoUrl": "https://lh3.googleusercontent.com/a-/AOh14GgAhLtiQrZfK-FHgn5GBmgExX619ygpOPHHdN4ZkU0=s64",
      "userId": "05876132496561296136"
     },
     "user_tz": -540
    },
    "id": "20YeuGYXUWZ3",
    "outputId": "2086b8f3-a90c-4be4-a89d-8637498abc07"
   },
   "outputs": [],
   "source": [
    "\"\"\"\n",
    "# 테스트용 데이터를 전처리 해서 분석 준비 ... (시간소요) 미리 저장한 화일을 불러온다\n",
    "# 저장했으면 비활성 처리\n",
    "# x_test, _ = data_preparation(test, answer=False)                 # [ 28,714,849 x 6 ] ... 30%\n",
    "# x_test.to_csv(dir_base + remake + 'df_xtest_remake.csv')\n",
    "# x_test = pd.read_csv(dir_base + remake + 'df_xtest_remake.csv')  # [  16,787 x 27 ]\n",
    "\"\"\"\n",
    "x_test = pd.read_csv(dir_base + remake + 'df_xtest_remake_final.csv')    # *** DATA SHAPE = [ 16,787 x 27 ]\n"
   ]
  },
  {
   "cell_type": "markdown",
   "metadata": {},
   "source": [
    "# 예측결과 Submission 화일 만들기"
   ]
  },
  {
   "cell_type": "code",
   "execution_count": 14,
   "metadata": {
    "colab": {
     "base_uri": "https://localhost:8080/",
     "height": 195
    },
    "colab_type": "code",
    "executionInfo": {
     "elapsed": 3155255,
     "status": "ok",
     "timestamp": 1585620281362,
     "user": {
      "displayName": "SuParX -K",
      "photoUrl": "https://lh3.googleusercontent.com/a-/AOh14GgAhLtiQrZfK-FHgn5GBmgExX619ygpOPHHdN4ZkU0=s64",
      "userId": "05876132496561296136"
     },
     "user_tz": -540
    },
    "id": "k9HevRoDUWUC",
    "outputId": "aff8a829-a8c4-4794-cbe5-861aea6392db"
   },
   "outputs": [],
   "source": [
    "\"\"\"\n",
    "# pd.read_csv('data/sample_submission.csv', index_col=0)\n",
    "# sample_submission = pd.read_csv(dir_base + sub_base + \"sample_submission.csv\")\n",
    "\"\"\"\n",
    "\n",
    "preds = []\n",
    "\n",
    "for model in models:\n",
    "    pred = model.predict_proba(x_test)[:, 1]\n",
    "    preds.append(pred)\n",
    "    \n",
    "pred = np.mean(preds, axis=0)"
   ]
  },
  {
   "cell_type": "code",
   "execution_count": 15,
   "metadata": {},
   "outputs": [
    {
     "name": "stdout",
     "output_type": "stream",
     "text": [
      "False\n",
      "DIR_TARGET=/home/yk/0325_Starcraft/competition/c03_starcraft_prediction/data_remake\n",
      "/home/yk/0325_Starcraft/competition/c03_starcraft_prediction/data_raw/\n",
      "----------------------------------------\n",
      "  01. sample_submission.csv\n",
      "  02. test.csv\n",
      "  03. train.csv\n"
     ]
    }
   ],
   "source": [
    "show_ls(dir_base + raw)"
   ]
  },
  {
   "cell_type": "code",
   "execution_count": 16,
   "metadata": {},
   "outputs": [],
   "source": [
    "submission = pd.read_csv(dir_base + raw + \"sample_submission.csv\") \n",
    "\n",
    "\n",
    "submission['winner'] = pred\n",
    "submission.to_csv(dir_base + submit + filename_submit, index=False)"
   ]
  },
  {
   "cell_type": "markdown",
   "metadata": {
    "colab_type": "text",
    "id": "4PobqJx-OM0Q"
   },
   "source": [
    "# 결과 확인하기\n",
    "- 3월 데이콘 대회 홈페이지 = https://bit.ly/39bqWVg\n",
    "- 결과 제출하기 = https://dacon.io/competitions/official/235583/mysubmission/"
   ]
  },
  {
   "cell_type": "code",
   "execution_count": 17,
   "metadata": {},
   "outputs": [
    {
     "data": {
      "text/html": [
       "<div>\n",
       "<style scoped>\n",
       "    .dataframe tbody tr th:only-of-type {\n",
       "        vertical-align: middle;\n",
       "    }\n",
       "\n",
       "    .dataframe tbody tr th {\n",
       "        vertical-align: top;\n",
       "    }\n",
       "\n",
       "    .dataframe thead th {\n",
       "        text-align: right;\n",
       "    }\n",
       "</style>\n",
       "<table border=\"1\" class=\"dataframe\">\n",
       "  <thead>\n",
       "    <tr style=\"text-align: right;\">\n",
       "      <th></th>\n",
       "      <th>game_id</th>\n",
       "      <th>winner</th>\n",
       "    </tr>\n",
       "  </thead>\n",
       "  <tbody>\n",
       "    <tr>\n",
       "      <th>0</th>\n",
       "      <td>38872</td>\n",
       "      <td>0.651619</td>\n",
       "    </tr>\n",
       "    <tr>\n",
       "      <th>1</th>\n",
       "      <td>38873</td>\n",
       "      <td>0.499383</td>\n",
       "    </tr>\n",
       "    <tr>\n",
       "      <th>2</th>\n",
       "      <td>38874</td>\n",
       "      <td>0.434777</td>\n",
       "    </tr>\n",
       "    <tr>\n",
       "      <th>3</th>\n",
       "      <td>38875</td>\n",
       "      <td>0.187188</td>\n",
       "    </tr>\n",
       "    <tr>\n",
       "      <th>4</th>\n",
       "      <td>38876</td>\n",
       "      <td>0.472653</td>\n",
       "    </tr>\n",
       "    <tr>\n",
       "      <th>...</th>\n",
       "      <td>...</td>\n",
       "      <td>...</td>\n",
       "    </tr>\n",
       "    <tr>\n",
       "      <th>16782</th>\n",
       "      <td>55654</td>\n",
       "      <td>0.609708</td>\n",
       "    </tr>\n",
       "    <tr>\n",
       "      <th>16783</th>\n",
       "      <td>55655</td>\n",
       "      <td>0.347164</td>\n",
       "    </tr>\n",
       "    <tr>\n",
       "      <th>16784</th>\n",
       "      <td>55656</td>\n",
       "      <td>0.701390</td>\n",
       "    </tr>\n",
       "    <tr>\n",
       "      <th>16785</th>\n",
       "      <td>55657</td>\n",
       "      <td>0.503110</td>\n",
       "    </tr>\n",
       "    <tr>\n",
       "      <th>16786</th>\n",
       "      <td>55658</td>\n",
       "      <td>0.640449</td>\n",
       "    </tr>\n",
       "  </tbody>\n",
       "</table>\n",
       "<p>16787 rows × 2 columns</p>\n",
       "</div>"
      ],
      "text/plain": [
       "       game_id    winner\n",
       "0        38872  0.651619\n",
       "1        38873  0.499383\n",
       "2        38874  0.434777\n",
       "3        38875  0.187188\n",
       "4        38876  0.472653\n",
       "...        ...       ...\n",
       "16782    55654  0.609708\n",
       "16783    55655  0.347164\n",
       "16784    55656  0.701390\n",
       "16785    55657  0.503110\n",
       "16786    55658  0.640449\n",
       "\n",
       "[16787 rows x 2 columns]"
      ]
     },
     "execution_count": 17,
     "metadata": {},
     "output_type": "execute_result"
    }
   ],
   "source": [
    "df_1 = submission\n",
    "df_1"
   ]
  }
 ],
 "metadata": {
  "colab": {
   "collapsed_sections": [],
   "machine_shape": "hm",
   "name": "starcraft_LGBM_baseline.ipynb",
   "provenance": []
  },
  "kernelspec": {
   "display_name": "Python 3",
   "language": "python",
   "name": "python3"
  },
  "language_info": {
   "codemirror_mode": {
    "name": "ipython",
    "version": 3
   },
   "file_extension": ".py",
   "mimetype": "text/x-python",
   "name": "python",
   "nbconvert_exporter": "python",
   "pygments_lexer": "ipython3",
   "version": "3.7.6"
  }
 },
 "nbformat": 4,
 "nbformat_minor": 1
}
