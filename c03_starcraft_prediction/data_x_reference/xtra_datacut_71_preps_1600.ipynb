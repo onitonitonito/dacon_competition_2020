{
 "cells": [
  {
   "cell_type": "markdown",
   "metadata": {},
   "source": [
    "# xtra_datacut_71_preps_1600.ipynb\n",
    "1.0 데이터 전처리 테스트용 마지막 71게임 Data\n",
    "> - 총 게임수 = 38,871 이므로 마지막 71 데이터로 전처리 테스트 후\n",
    "> - 전체 게임으로 전처리를 진행한다.\n",
    "> - 파일다루기 - https://parkdream.tistory.com/42\n",
    "> - /content/drive/My Drive/Colab Notebooks/competition_data/starcraft_data/temp"
   ]
  },
  {
   "cell_type": "code",
   "execution_count": 1,
   "metadata": {},
   "outputs": [],
   "source": [
    "import random\n",
    "import pandas as pd\n",
    "import numpy as np\n",
    "import matplotlib.pyplot as plt"
   ]
  },
  {
   "cell_type": "code",
   "execution_count": 2,
   "metadata": {},
   "outputs": [],
   "source": [
    "\"\"\"\n",
    "# 기본 DIR 구조를 입력한다. - _assets 폴더 제외!\n",
    "# /content/drive/My Drive/Colab Notebooks/\n",
    "# dir_base = '/content/drive/My Drive/Colab Notebooks/competition/'\n",
    "# competition/_statics/images/winning_factors_table.png\n",
    "\"\"\"\n",
    "dir_base = '/home/yk/0325_Starcraft/competition/'\n",
    "\n",
    "raw      = 'c03_starcraft_prediction/data_raw/'\n",
    "remake   = 'c03_starcraft_prediction/data_remake/'\n",
    "submit   = 'c03_starcraft_prediction/data_submit/'\n",
    "\n",
    "assets = '/home/yk/0325_Starcraft/competition/_assets/'\n",
    "images = '/home/yk/0325_Starcraft/competition/_statics/images/'\n",
    "\n",
    "filename_result = 'test_remake_1600_preps.csv'"
   ]
  },
  {
   "cell_type": "code",
   "execution_count": 3,
   "metadata": {},
   "outputs": [
    {
     "name": "stdout",
     "output_type": "stream",
     "text": [
      "***'/home/yk/0325_Starcraft/competition/' has set in SYS.PATH! ***\n",
      "\n",
      "01./home/yk/0325_Starcraft/competition/\n",
      "02./home/yk/0325_Starcraft/competition/c03_starcraft_prediction\n",
      "03./home/yk/anaconda3/lib/python37.zip\n",
      "04./home/yk/anaconda3/lib/python3.7\n",
      "05./home/yk/anaconda3/lib/python3.7/lib-dynload\n",
      "06.\n",
      "07./home/yk/anaconda3/lib/python3.7/site-packages\n",
      "08./home/yk/anaconda3/lib/python3.7/site-packages/IPython/extensions\n",
      "09./home/yk/.ipython\n"
     ]
    }
   ],
   "source": [
    "\"\"\"\n",
    "# 모듈 import를 위한 SYS.PATH 설정!\n",
    "\"\"\"\n",
    "import os\n",
    "import sys\n",
    "\n",
    "if not dir_base in sys.path:\n",
    "    sys.path.insert(0, dir_base)\n",
    "    print(f\"***'{dir_base}' has set in SYS.PATH! ***\")    \n",
    "    print()\n",
    "    \n",
    "for i, item in enumerate(sys.path,1):\n",
    "    print(f\"{i:02}.{item}\")"
   ]
  },
  {
   "cell_type": "code",
   "execution_count": 4,
   "metadata": {
    "scrolled": true
   },
   "outputs": [
    {
     "name": "stdout",
     "output_type": "stream",
     "text": [
      "THIS CPU CORES ARE .. = 16 CORES!\n"
     ]
    }
   ],
   "source": [
    "import multiprocessing as mp\n",
    "\n",
    "from parse import *\n",
    "from multiprocessing import Pool\n",
    "\n",
    "num_cores = mp.cpu_count()               # cpu의 코어 수를 반환\n",
    "print(f\"THIS CPU CORES ARE .. = {num_cores} CORES!\")        # CPU CORES = 16 CORES!"
   ]
  },
  {
   "cell_type": "code",
   "execution_count": 5,
   "metadata": {
    "scrolled": false
   },
   "outputs": [
    {
     "name": "stdout",
     "output_type": "stream",
     "text": [
      "\n",
      "# GAME_ID 유니크 데이터 전처리를 위한 모듈 - baseline offer\n",
      "\n",
      "\n",
      "# OS 화일 및 DF 정보조회를 위한 탐색 모듈\n",
      "\n"
     ]
    }
   ],
   "source": [
    "from _assets.module_data_preps import ( __doc__,\n",
    "                                    tqdm,\n",
    "                                    read_data_file,\n",
    "                                    data_processing,\n",
    "                                    species_converter, \n",
    "                                    data_preparation,\n",
    "                                )\n",
    "\n",
    "from _assets.modules import ( __doc__, \n",
    "                                    show_ls, \n",
    "                                    show_infoDF_from,\n",
    "                                    histit,\n",
    "                                    hist_it,\n",
    "                                    plot_it,\n",
    "                                    get_random_n_array,\n",
    "                                    get_basic_df,\n",
    "                                    get_counts_dict_fromDF,\n",
    "                                )"
   ]
  },
  {
   "cell_type": "markdown",
   "metadata": {},
   "source": [
    "## DATA 분할 of final 71s\n",
    "- 마지막 71개 game_id = *** DATA SHAPE = [ 114,504 x 7 ]\n",
    "- id당 평균 1,612개의 이벤트가 있다."
   ]
  },
  {
   "cell_type": "code",
   "execution_count": 6,
   "metadata": {},
   "outputs": [
    {
     "name": "stdout",
     "output_type": "stream",
     "text": [
      "CPU times: user 43.4 s, sys: 3.83 s, total: 47.3 s\n",
      "Wall time: 44.4 s\n"
     ]
    }
   ],
   "source": [
    "%%time\n",
    "\"\"\"\n",
    "# *** DATA SHAPE = [ 67,091,776 x 7 ] ... 가볍다!\n",
    "# CPU times: user 42.5 s, sys: 3.63 s, total: 46.1 s\n",
    "# Wall time: 43.2 s\n",
    "\"\"\"\n",
    "\n",
    "df_train = pd.read_csv(dir_base + raw + 'train.csv')\n",
    "\n",
    "\"\"\"\n",
    "# *** DATA SHAPE = [ 114,504 x 7 ] ... 1/590 배 가볍다!\n",
    "\"\"\"\n",
    "df_cut71 = df_train[df_train['game_id'] > 38800]\n",
    "del(df_train)       #  더이상 사용하지 않는 df는 꼭 삭제할것 = 메모리 낭비 방지"
   ]
  },
  {
   "cell_type": "code",
   "execution_count": 7,
   "metadata": {},
   "outputs": [
    {
     "data": {
      "text/html": [
       "<div>\n",
       "<style scoped>\n",
       "    .dataframe tbody tr th:only-of-type {\n",
       "        vertical-align: middle;\n",
       "    }\n",
       "\n",
       "    .dataframe tbody tr th {\n",
       "        vertical-align: top;\n",
       "    }\n",
       "\n",
       "    .dataframe thead th {\n",
       "        text-align: right;\n",
       "    }\n",
       "</style>\n",
       "<table border=\"1\" class=\"dataframe\">\n",
       "  <thead>\n",
       "    <tr style=\"text-align: right;\">\n",
       "      <th></th>\n",
       "      <th>game_id</th>\n",
       "      <th>winner</th>\n",
       "      <th>time</th>\n",
       "      <th>player</th>\n",
       "      <th>species</th>\n",
       "      <th>event</th>\n",
       "      <th>event_contents</th>\n",
       "    </tr>\n",
       "  </thead>\n",
       "  <tbody>\n",
       "    <tr>\n",
       "      <th>66977272</th>\n",
       "      <td>38801</td>\n",
       "      <td>0</td>\n",
       "      <td>0.00</td>\n",
       "      <td>1</td>\n",
       "      <td>P</td>\n",
       "      <td>Camera</td>\n",
       "      <td>at (22.75, 147.01171875)</td>\n",
       "    </tr>\n",
       "    <tr>\n",
       "      <th>66977273</th>\n",
       "      <td>38801</td>\n",
       "      <td>0</td>\n",
       "      <td>0.00</td>\n",
       "      <td>0</td>\n",
       "      <td>P</td>\n",
       "      <td>Camera</td>\n",
       "      <td>at (145.25, 21.5078125)</td>\n",
       "    </tr>\n",
       "    <tr>\n",
       "      <th>66977274</th>\n",
       "      <td>38801</td>\n",
       "      <td>0</td>\n",
       "      <td>0.00</td>\n",
       "      <td>1</td>\n",
       "      <td>P</td>\n",
       "      <td>Ability</td>\n",
       "      <td>(15E0) - TrainProbe</td>\n",
       "    </tr>\n",
       "    <tr>\n",
       "      <th>66977275</th>\n",
       "      <td>38801</td>\n",
       "      <td>0</td>\n",
       "      <td>0.01</td>\n",
       "      <td>1</td>\n",
       "      <td>P</td>\n",
       "      <td>Selection</td>\n",
       "      <td>['Probe [3400001]', 'Probe [3440001]', 'Probe ...</td>\n",
       "    </tr>\n",
       "    <tr>\n",
       "      <th>66977276</th>\n",
       "      <td>38801</td>\n",
       "      <td>0</td>\n",
       "      <td>0.01</td>\n",
       "      <td>0</td>\n",
       "      <td>P</td>\n",
       "      <td>Selection</td>\n",
       "      <td>['Probe [3340001]']</td>\n",
       "    </tr>\n",
       "    <tr>\n",
       "      <th>...</th>\n",
       "      <td>...</td>\n",
       "      <td>...</td>\n",
       "      <td>...</td>\n",
       "      <td>...</td>\n",
       "      <td>...</td>\n",
       "      <td>...</td>\n",
       "      <td>...</td>\n",
       "    </tr>\n",
       "    <tr>\n",
       "      <th>67091771</th>\n",
       "      <td>38871</td>\n",
       "      <td>0</td>\n",
       "      <td>8.51</td>\n",
       "      <td>0</td>\n",
       "      <td>Z</td>\n",
       "      <td>Camera</td>\n",
       "      <td>at (139.578125, 62.58203125)</td>\n",
       "    </tr>\n",
       "    <tr>\n",
       "      <th>67091772</th>\n",
       "      <td>38871</td>\n",
       "      <td>0</td>\n",
       "      <td>8.52</td>\n",
       "      <td>1</td>\n",
       "      <td>T</td>\n",
       "      <td>GetControlGroup</td>\n",
       "      <td>NaN</td>\n",
       "    </tr>\n",
       "    <tr>\n",
       "      <th>67091773</th>\n",
       "      <td>38871</td>\n",
       "      <td>0</td>\n",
       "      <td>8.52</td>\n",
       "      <td>0</td>\n",
       "      <td>Z</td>\n",
       "      <td>Camera</td>\n",
       "      <td>at (122.42578125, 45.4296875)</td>\n",
       "    </tr>\n",
       "    <tr>\n",
       "      <th>67091774</th>\n",
       "      <td>38871</td>\n",
       "      <td>0</td>\n",
       "      <td>8.52</td>\n",
       "      <td>0</td>\n",
       "      <td>Z</td>\n",
       "      <td>Camera</td>\n",
       "      <td>at (122.42578125, 43.25390625)</td>\n",
       "    </tr>\n",
       "    <tr>\n",
       "      <th>67091775</th>\n",
       "      <td>38871</td>\n",
       "      <td>0</td>\n",
       "      <td>8.52</td>\n",
       "      <td>1</td>\n",
       "      <td>T</td>\n",
       "      <td>Ability</td>\n",
       "      <td>(1360) - TrainSCV</td>\n",
       "    </tr>\n",
       "  </tbody>\n",
       "</table>\n",
       "<p>114504 rows × 7 columns</p>\n",
       "</div>"
      ],
      "text/plain": [
       "          game_id  winner  time  player species            event  \\\n",
       "66977272    38801       0  0.00       1       P           Camera   \n",
       "66977273    38801       0  0.00       0       P           Camera   \n",
       "66977274    38801       0  0.00       1       P          Ability   \n",
       "66977275    38801       0  0.01       1       P        Selection   \n",
       "66977276    38801       0  0.01       0       P        Selection   \n",
       "...           ...     ...   ...     ...     ...              ...   \n",
       "67091771    38871       0  8.51       0       Z           Camera   \n",
       "67091772    38871       0  8.52       1       T  GetControlGroup   \n",
       "67091773    38871       0  8.52       0       Z           Camera   \n",
       "67091774    38871       0  8.52       0       Z           Camera   \n",
       "67091775    38871       0  8.52       1       T          Ability   \n",
       "\n",
       "                                             event_contents  \n",
       "66977272                           at (22.75, 147.01171875)  \n",
       "66977273                            at (145.25, 21.5078125)  \n",
       "66977274                                (15E0) - TrainProbe  \n",
       "66977275  ['Probe [3400001]', 'Probe [3440001]', 'Probe ...  \n",
       "66977276                                ['Probe [3340001]']  \n",
       "...                                                     ...  \n",
       "67091771                       at (139.578125, 62.58203125)  \n",
       "67091772                                                NaN  \n",
       "67091773                      at (122.42578125, 45.4296875)  \n",
       "67091774                     at (122.42578125, 43.25390625)  \n",
       "67091775                                  (1360) - TrainSCV  \n",
       "\n",
       "[114504 rows x 7 columns]"
      ]
     },
     "execution_count": 7,
     "metadata": {},
     "output_type": "execute_result"
    }
   ],
   "source": [
    "# train data set 의 사이즈를 줄여서 테스트 해본다\n",
    "df_cut71"
   ]
  },
  {
   "cell_type": "code",
   "execution_count": 8,
   "metadata": {},
   "outputs": [
    {
     "name": "stderr",
     "output_type": "stream",
     "text": [
      "100%|██████████| 6621/6621 [00:00<00:00, 429817.16it/s]\n",
      "100%|██████████| 19797/19797 [00:00<00:00, 267075.70it/s]\n",
      "  0%|          | 0/71 [00:00<?, ?it/s]"
     ]
    },
    {
     "name": "stdout",
     "output_type": "stream",
     "text": [
      "Ability Data 구축\n",
      "Right Click Data 구축\n",
      "Event별 Count Data 구축\n",
      "Game별 학습 Data 구축\n"
     ]
    },
    {
     "name": "stderr",
     "output_type": "stream",
     "text": [
      "100%|██████████| 71/71 [00:02<00:00, 23.94it/s]\n"
     ]
    }
   ],
   "source": [
    "x_train, y_train = data_processing(train_data=df_cut71, answer=True)"
   ]
  },
  {
   "cell_type": "code",
   "execution_count": 9,
   "metadata": {
    "scrolled": false
   },
   "outputs": [
    {
     "name": "stdout",
     "output_type": "stream",
     "text": [
      "*** DATA SHAPE = [ 71 x 899 ]\n",
      "\n",
      "<class 'pandas.core.frame.DataFrame'>\n",
      "Int64Index: 71 entries, 38801 to 38871\n",
      "Columns: 899 entries, P0_species to rc_delta_TargetBanelingNestLocation\n",
      "dtypes: int64(899)\n",
      "memory usage: 499.2 KB\n",
      "None\n",
      "\n",
      "       P0_species  P1_species  P0_event_Camera  P0_event_Ability  \\\n",
      "count   71.000000   71.000000        71.000000         71.000000   \n",
      "mean     0.943662    0.957746       363.619718         47.084507   \n",
      "std      0.843248    0.800654       202.158380         28.816040   \n",
      "min      0.000000    0.000000        23.000000          2.000000   \n",
      "25%      0.000000    0.000000       215.500000         27.000000   \n",
      "50%      1.000000    1.000000       366.000000         43.000000   \n",
      "75%      2.000000    2.000000       470.500000         64.000000   \n",
      "max      2.000000    2.000000      1040.000000        151.000000   \n",
      "\n",
      "       P0_event_Selection  P0_event_Right Click  P0_event_SetControlGroup  \\\n",
      "count           71.000000             71.000000                 71.000000   \n",
      "mean           124.661972            145.380282                  4.295775   \n",
      "std             83.829579             95.536884                  4.434908   \n",
      "min              1.000000              1.000000                  0.000000   \n",
      "25%             61.500000             70.000000                  1.000000   \n",
      "50%            107.000000            128.000000                  3.000000   \n",
      "75%            184.000000            217.000000                  6.000000   \n",
      "max            347.000000            421.000000                 24.000000   \n",
      "\n",
      "       P0_event_GetControlGroup  P0_event_AddToControlGroup  \\\n",
      "count                 71.000000                   71.000000   \n",
      "mean                 146.338028                    1.774648   \n",
      "std                  219.869438                    3.117679   \n",
      "min                    0.000000                    0.000000   \n",
      "25%                    9.500000                    0.000000   \n",
      "50%                   46.000000                    0.000000   \n",
      "75%                  149.000000                    2.000000   \n",
      "max                  834.000000                   15.000000   \n",
      "\n",
      "       P0_event_ControlGroup  ...  rc_delta_TargetCreepTumorBurrowedLocation  \\\n",
      "count              71.000000  ...                                   71.00000   \n",
      "mean                0.408451  ...                                    0.00000   \n",
      "std                 2.308849  ...                                    0.29277   \n",
      "min                 0.000000  ...                                   -2.00000   \n",
      "25%                 0.000000  ...                                    0.00000   \n",
      "50%                 0.000000  ...                                    0.00000   \n",
      "75%                 0.000000  ...                                    0.00000   \n",
      "max                18.000000  ...                                    1.00000   \n",
      "\n",
      "       rc_delta_TargetChangelingZerglingWingsLocation  \\\n",
      "count                                       71.000000   \n",
      "mean                                         0.042254   \n",
      "std                                          0.356034   \n",
      "min                                          0.000000   \n",
      "25%                                          0.000000   \n",
      "50%                                          0.000000   \n",
      "75%                                          0.000000   \n",
      "max                                          3.000000   \n",
      "\n",
      "       rc_delta_TargetNydusNetworkLocation  rc_delta_TargetBanelingLocation  \\\n",
      "count                            71.000000                        71.000000   \n",
      "mean                              0.028169                         0.014085   \n",
      "std                               0.237356                         0.118678   \n",
      "min                               0.000000                         0.000000   \n",
      "25%                               0.000000                         0.000000   \n",
      "50%                               0.000000                         0.000000   \n",
      "75%                               0.000000                         0.000000   \n",
      "max                               2.000000                         1.000000   \n",
      "\n",
      "       rc_delta_TargetCycloneMissileLargeAirLocation  \\\n",
      "count                                      71.000000   \n",
      "mean                                        0.028169   \n",
      "std                                         0.237356   \n",
      "min                                         0.000000   \n",
      "25%                                         0.000000   \n",
      "50%                                         0.000000   \n",
      "75%                                         0.000000   \n",
      "max                                         2.000000   \n",
      "\n",
      "       rc_delta_TargetDestructibleIce2x6VerticalLocation  \\\n",
      "count                                          71.000000   \n",
      "mean                                            0.014085   \n",
      "std                                             0.118678   \n",
      "min                                             0.000000   \n",
      "25%                                             0.000000   \n",
      "50%                                             0.000000   \n",
      "75%                                             0.000000   \n",
      "max                                             1.000000   \n",
      "\n",
      "       rc_delta_TargetSpineCrawlerLocation  rc_delta_TargetRavagerLocation  \\\n",
      "count                            71.000000                            71.0   \n",
      "mean                             -0.014085                             0.0   \n",
      "std                               0.118678                             0.0   \n",
      "min                              -1.000000                             0.0   \n",
      "25%                               0.000000                             0.0   \n",
      "50%                               0.000000                             0.0   \n",
      "75%                               0.000000                             0.0   \n",
      "max                               0.000000                             0.0   \n",
      "\n",
      "       rc_delta_TargetBypassArmorDroneLocation  \\\n",
      "count                                71.000000   \n",
      "mean                                 -0.098592   \n",
      "std                                   0.830747   \n",
      "min                                  -7.000000   \n",
      "25%                                   0.000000   \n",
      "50%                                   0.000000   \n",
      "75%                                   0.000000   \n",
      "max                                   0.000000   \n",
      "\n",
      "       rc_delta_TargetBanelingNestLocation  \n",
      "count                            71.000000  \n",
      "mean                             -0.014085  \n",
      "std                               0.118678  \n",
      "min                              -1.000000  \n",
      "25%                               0.000000  \n",
      "50%                               0.000000  \n",
      "75%                               0.000000  \n",
      "max                               0.000000  \n",
      "\n",
      "[8 rows x 899 columns]\n",
      "\n"
     ]
    }
   ],
   "source": [
    "show_infoDF_from(x_train)"
   ]
  },
  {
   "cell_type": "code",
   "execution_count": 13,
   "metadata": {},
   "outputs": [
    {
     "data": {
      "text/plain": [
       "array([0, 1, 0, 1, 0, 0, 0, 0, 1, 0, 0, 0, 0, 1, 1, 1, 1, 0, 0, 1, 0, 0,\n",
       "       1, 1, 1, 1, 0, 0, 1, 1, 0, 1, 0, 0, 0, 0, 0, 0, 1, 0, 0, 0, 1, 1,\n",
       "       1, 1, 0, 1, 0, 0, 0, 1, 1, 1, 0, 1, 0, 1, 0, 0, 0, 1, 0, 0, 1, 1,\n",
       "       1, 0, 0, 1, 0])"
      ]
     },
     "execution_count": 13,
     "metadata": {},
     "output_type": "execute_result"
    }
   ],
   "source": [
    "type(y_train) # numpy.ndarray\n",
    "len(y_train)  # 71\n",
    "y_train"
   ]
  },
  {
   "cell_type": "code",
   "execution_count": null,
   "metadata": {},
   "outputs": [],
   "source": []
  },
  {
   "cell_type": "code",
   "execution_count": null,
   "metadata": {},
   "outputs": [],
   "source": []
  },
  {
   "cell_type": "code",
   "execution_count": null,
   "metadata": {},
   "outputs": [],
   "source": []
  },
  {
   "cell_type": "code",
   "execution_count": null,
   "metadata": {},
   "outputs": [],
   "source": []
  },
  {
   "cell_type": "code",
   "execution_count": null,
   "metadata": {},
   "outputs": [],
   "source": []
  },
  {
   "cell_type": "code",
   "execution_count": null,
   "metadata": {},
   "outputs": [],
   "source": []
  },
  {
   "cell_type": "code",
   "execution_count": null,
   "metadata": {},
   "outputs": [],
   "source": []
  }
 ],
 "metadata": {
  "kernelspec": {
   "display_name": "Python 3",
   "language": "python",
   "name": "python3"
  },
  "language_info": {
   "codemirror_mode": {
    "name": "ipython",
    "version": 3
   },
   "file_extension": ".py",
   "mimetype": "text/x-python",
   "name": "python",
   "nbconvert_exporter": "python",
   "pygments_lexer": "ipython3",
   "version": "3.7.6"
  }
 },
 "nbformat": 4,
 "nbformat_minor": 2
}
