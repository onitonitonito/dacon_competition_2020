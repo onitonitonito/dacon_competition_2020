{
 "cells": [
  {
   "cell_type": "markdown",
   "metadata": {},
   "source": [
    "| <img src ='https://bit.ly/39XPeCc' width=200 align='left'> |\n",
    "|:--|\n",
    "|<h1>    xtra_datacut_final_71_games.ipynb\n",
    "</h1>\n",
    "|<b>    1.0 데이터 전처리 테스트용 마지막 71게임 Data\n",
    "</b>\n",
    "| - 총 게임수 = 38,871 이므로 마지막 71 데이터로 전처리 테스트 후\n",
    "| - 전체 게임으로 전처리를 진행한다.\n",
    "| - 파일다루기 - https://parkdream.tistory.com/42\n",
    "| - /content/drive/My Drive/Colab Notebooks/competition_data/starcraft_data/temp"
   ]
  },
  {
   "cell_type": "code",
   "execution_count": 1,
   "metadata": {
    "colab": {
     "base_uri": "https://localhost:8080/",
     "height": 34
    },
    "colab_type": "code",
    "executionInfo": {
     "elapsed": 874,
     "status": "ok",
     "timestamp": 1585235752260,
     "user": {
      "displayName": "SuParX -K",
      "photoUrl": "https://lh3.googleusercontent.com/a-/AOh14GgAhLtiQrZfK-FHgn5GBmgExX619ygpOPHHdN4ZkU0=s64",
      "userId": "05876132496561296136"
     },
     "user_tz": -540
    },
    "id": "43AW0bz2X-xc",
    "outputId": "89914af8-3c1f-4089-a681-cb2580bf3678"
   },
   "outputs": [
    {
     "data": {
      "text/plain": [
       "'\\n### 1.0 gdrive 마운트 / Import + 함수정의\\n- 코드를 사용해서 모듈 import 로 마운트 하거나\\n- 코랩 폴더에서 드라이브 마운트 클릭 하거나\\n'"
      ]
     },
     "execution_count": 1,
     "metadata": {},
     "output_type": "execute_result"
    }
   ],
   "source": [
    "\"\"\"\n",
    "### 1.0 gdrive 마운트 / Import + 함수정의\n",
    "- 코드를 사용해서 모듈 import 로 마운트 하거나\n",
    "- 코랩 폴더에서 드라이브 마운트 클릭 하거나\n",
    "\"\"\"\n",
    "# from google.colab import drive\n",
    "# drive.mount('/content/drive')"
   ]
  },
  {
   "cell_type": "markdown",
   "metadata": {},
   "source": [
    "# Multi-Processing\n",
    "- 데이터 전처리에 메모리도 많이 먹고, 시간도 오래걸림\n",
    "- 병렬처리하면 5배 이상 빨라진다니 한번 시도해 봄"
   ]
  },
  {
   "cell_type": "code",
   "execution_count": 2,
   "metadata": {},
   "outputs": [],
   "source": [
    "import random\n",
    "import pandas as pd\n",
    "import numpy as np\n",
    "import matplotlib.pyplot as plt"
   ]
  },
  {
   "cell_type": "code",
   "execution_count": 3,
   "metadata": {
    "scrolled": true
   },
   "outputs": [
    {
     "name": "stdout",
     "output_type": "stream",
     "text": [
      "THIS CPU CORES ARE .. = 4 CORES!\n"
     ]
    }
   ],
   "source": [
    "import multiprocessing as mp\n",
    "from multiprocessing import Pool\n",
    "\n",
    "num_cores = mp.cpu_count()               # cpu의 코어 수를 반환\n",
    "print(f\"THIS CPU CORES ARE .. = {num_cores} CORES!\")        # CPU CORES = 16 CORES!"
   ]
  },
  {
   "cell_type": "markdown",
   "metadata": {},
   "source": [
    "## 사용함수의 정의"
   ]
  },
  {
   "cell_type": "code",
   "execution_count": 4,
   "metadata": {},
   "outputs": [],
   "source": [
    "\"\"\" \n",
    "# 기본적인 module import 위치로 작업폴더 변경 getcwd() --> chidr()\n",
    "# HOME 을 지정하고 작업폴더를 HOME 으로 변경.\n",
    "\"\"\"\n",
    "import os\n",
    "\n",
    "HOME= 'dacon_competition_2020'\n",
    "dir_base = \"\".join(os.getcwd().partition(HOME)[:2]) + \"\\\\\"\n",
    "os.chdir(dir_base)     "
   ]
  },
  {
   "cell_type": "code",
   "execution_count": 5,
   "metadata": {},
   "outputs": [
    {
     "name": "stdout",
     "output_type": "stream",
     "text": [
      "\n",
      "# 화일분석에 필요한 공동폴더를 등록합니다.\n",
      "- asset = dir_base + '_assets/'\n",
      "- statics dir_base + '_statics/'\n",
      "\n",
      "#  echo = True : SYS.PATH INSERT 상황 보여줌\n",
      "\n",
      "\n",
      "# OS 화일 및 DF 정보조회를 위한 탐색 모듈\n",
      "\n"
     ]
    }
   ],
   "source": [
    "from _assets.config_dirs import *\n",
    "from _assets.modules import *"
   ]
  },
  {
   "cell_type": "code",
   "execution_count": 6,
   "metadata": {},
   "outputs": [
    {
     "name": "stdout",
     "output_type": "stream",
     "text": [
      "\n",
      "# GAME_ID 유니크 데이터 전처리를 위한 모듈 - baseline offer\n",
      "\n"
     ]
    }
   ],
   "source": [
    "from _assets.module_data_preps import ( __doc__,\n",
    "                                tqdm,  \n",
    "                                species_converter, \n",
    "                                data_preparation,\n",
    "                            )"
   ]
  },
  {
   "cell_type": "code",
   "execution_count": 8,
   "metadata": {},
   "outputs": [
    {
     "name": "stdout",
     "output_type": "stream",
     "text": [
      "False\n",
      "DIR_TARGET=C:\\Users\\nitt0\\Documents\\Github\\dacon_competition_2020\\_assets\n",
      "C:/Users/nitt0/Documents/Github/dacon_competition_2020/c03_starcraft_prediction/data_remake/\n",
      "----------------------------------------\n",
      "  01. .ipynb_checkpoints\n",
      "  02. accumujated_winning_rate_per_time.csv\n",
      "  03. accumulated_winning_rate_per_time.csv\n",
      "  04. df_new_rate04_correct.csv\n",
      "  05. df_win_rate_every_10sec.csv\n",
      "  06. df_win_rate_every_20sec.csv\n",
      "  07. df_win_rate_every_40sec.csv\n",
      "  08. df_xtest_remake.csv\n",
      "  09. df_xtest_remake_final.csv\n",
      "  10. df_xtrain_remake.csv\n",
      "  11. df_xtrain_remake_final.csv\n",
      "  12. df_ytrain_remake.csv\n",
      "  13. xtra_remake_xtest.csv\n",
      "  14. xtra_remake_xtest_r01.csv\n",
      "  15. xtra_remake_xtrain.csv\n",
      "  16. xtra_remake_xtrain_r01.csv\n"
     ]
    }
   ],
   "source": [
    "show_ls(dir_base + remake )"
   ]
  },
  {
   "cell_type": "markdown",
   "metadata": {},
   "source": [
    "## DATA 분할 of final 71s"
   ]
  },
  {
   "cell_type": "code",
   "execution_count": 16,
   "metadata": {},
   "outputs": [
    {
     "name": "stdout",
     "output_type": "stream",
     "text": [
      "*** DATA SHAPE = [ 67,091,776 x 7 ]\n",
      "\n",
      "<class 'pandas.core.frame.DataFrame'>\n",
      "RangeIndex: 67091776 entries, 0 to 67091775\n",
      "Data columns (total 7 columns):\n",
      " #   Column          Dtype  \n",
      "---  ------          -----  \n",
      " 0   game_id         int64  \n",
      " 1   winner          int64  \n",
      " 2   time            float64\n",
      " 3   player          int64  \n",
      " 4   species         object \n",
      " 5   event           object \n",
      " 6   event_contents  object \n",
      "dtypes: float64(1), int64(3), object(3)\n",
      "memory usage: 3.5+ GB\n",
      "None\n",
      "\n",
      "            game_id        winner          time        player\n",
      "count  6.709178e+07  6.709178e+07  6.709178e+07  6.709178e+07\n",
      "mean   1.944981e+04  5.012076e-01  4.277912e+00  4.992699e-01\n",
      "std    1.122980e+04  4.999985e-01  2.709741e+00  4.999995e-01\n",
      "min    0.000000e+00  0.000000e+00  0.000000e+00  0.000000e+00\n",
      "25%    9.718000e+03  0.000000e+00  2.120000e+00  0.000000e+00\n",
      "50%    1.948500e+04  1.000000e+00  4.150000e+00  0.000000e+00\n",
      "75%    2.919700e+04  1.000000e+00  6.360000e+00  1.000000e+00\n",
      "max    3.887100e+04  1.000000e+00  1.059000e+01  1.000000e+00\n",
      "\n",
      "Wall time: 5min 37s\n"
     ]
    }
   ],
   "source": [
    "%%time\n",
    "\"\"\"\n",
    "# *** DATA SHAPE = [ 67,091,776 x 7 ] ... 가볍다!\n",
    "# CPU times: user 42.5 s, sys: 3.63 s, total: 46.1 s\n",
    "# Wall time: 43.2 s\n",
    "\"\"\"\n",
    "\n",
    "df_train = pd.read_csv(dir_base + raw + 'train.csv')\n",
    "show_infoDF_from(df_train)"
   ]
  },
  {
   "cell_type": "code",
   "execution_count": null,
   "metadata": {},
   "outputs": [],
   "source": [
    "show_ls(dir_base + remake)"
   ]
  },
  {
   "cell_type": "code",
   "execution_count": null,
   "metadata": {},
   "outputs": [],
   "source": []
  },
  {
   "cell_type": "code",
   "execution_count": null,
   "metadata": {},
   "outputs": [],
   "source": []
  },
  {
   "cell_type": "code",
   "execution_count": 18,
   "metadata": {
    "scrolled": false
   },
   "outputs": [
    {
     "ename": "NameError",
     "evalue": "name 'df_train' is not defined",
     "output_type": "error",
     "traceback": [
      "\u001b[1;31m---------------------------------------------------------------------------\u001b[0m",
      "\u001b[1;31mNameError\u001b[0m                                 Traceback (most recent call last)",
      "\u001b[1;32m<ipython-input-18-8caabe8b2774>\u001b[0m in \u001b[0;36m<module>\u001b[1;34m\u001b[0m\n\u001b[0;32m      2\u001b[0m \u001b[1;31m# *** DATA SHAPE = [ 114,504 x 7 ] ... 1/590 배 가볍다!\u001b[0m\u001b[1;33m\u001b[0m\u001b[1;33m\u001b[0m\u001b[1;33m\u001b[0m\u001b[0m\n\u001b[0;32m      3\u001b[0m \"\"\"\n\u001b[1;32m----> 4\u001b[1;33m \u001b[0mdf_train_cut71\u001b[0m \u001b[1;33m=\u001b[0m \u001b[0mdf_train\u001b[0m\u001b[1;33m[\u001b[0m\u001b[0mdf_train\u001b[0m\u001b[1;33m[\u001b[0m\u001b[1;34m'game_id'\u001b[0m\u001b[1;33m]\u001b[0m \u001b[1;33m>\u001b[0m \u001b[1;36m38800\u001b[0m\u001b[1;33m]\u001b[0m\u001b[1;33m\u001b[0m\u001b[1;33m\u001b[0m\u001b[0m\n\u001b[0m\u001b[0;32m      5\u001b[0m \u001b[0mshow_infoDF_from\u001b[0m\u001b[1;33m(\u001b[0m\u001b[0mdf_train_cut71\u001b[0m\u001b[1;33m)\u001b[0m\u001b[1;33m\u001b[0m\u001b[1;33m\u001b[0m\u001b[0m\n\u001b[0;32m      6\u001b[0m \u001b[1;33m\u001b[0m\u001b[0m\n",
      "\u001b[1;31mNameError\u001b[0m: name 'df_train' is not defined"
     ]
    }
   ],
   "source": [
    "\"\"\"\n",
    "# *** DATA SHAPE = [ 114,504 x 7 ] ... 1/590 배 가볍다!\n",
    "\"\"\"\n",
    "df_train_cut71 = df_train[df_train['game_id'] > 38800]\n",
    "show_infoDF_from(df_train_cut71)  \n",
    "\n",
    "del(df_train)       #  더이상 사용하지 않는 df는 꼭 삭제할것 = 메모리 낭비 방지"
   ]
  },
  {
   "cell_type": "markdown",
   "metadata": {},
   "source": [
    "## 이벤트 Detail 탐색을 위해 각 이벤트 counts dict를 만든다"
   ]
  },
  {
   "cell_type": "code",
   "execution_count": 24,
   "metadata": {},
   "outputs": [
    {
     "name": "stdout",
     "output_type": "stream",
     "text": [
      "Wall time: 244 ms\n"
     ]
    }
   ],
   "source": [
    "%%time\n",
    "\"\"\"\n",
    "# 이벤트 분류를 위한 counts_dict 를 만든다.\n",
    "# CPU times: user 75.4 ms, sys: 2.81 ms, total: 78.2 ms\n",
    "# Wall time: 77.6 ms\n",
    "\"\"\"\n",
    "counts = get_counts_dict_fromDF(df=df_train_cut71)"
   ]
  },
  {
   "cell_type": "code",
   "execution_count": 25,
   "metadata": {
    "scrolled": true
   },
   "outputs": [
    {
     "data": {
      "text/plain": [
       "at (38.5, 120.7578125)          218\n",
       "at (161.5, 19.7578125)          174\n",
       "at (129.5, 24.7578125)          146\n",
       "at (125.5, 28.7578125)          126\n",
       "at (133.5, 32.7578125)          116\n",
       "                               ... \n",
       "at (33.42578125, 78.9296875)      1\n",
       "at (66.703125, 107.37109375)      1\n",
       "at (37.7109375, 28.3203125)       1\n",
       "at (140.578125, 25.44140625)      1\n",
       "at (66.34765625, 92.0546875)      1\n",
       "Name: event_contents, Length: 47418, dtype: int64"
      ]
     },
     "execution_count": 25,
     "metadata": {},
     "output_type": "execute_result"
    }
   ],
   "source": [
    "counts['Camera']"
   ]
  },
  {
   "cell_type": "code",
   "execution_count": 26,
   "metadata": {},
   "outputs": [
    {
     "data": {
      "text/plain": [
       "Target: None [023C0001]; Location: (19.0, 138.5, 49136)                             80\n",
       "Target: DestructibleSignsConstruction [001C0001]; Location: (32.0, 122.5, 49088)    71\n",
       "Target: DestructibleSignsConstruction [02440001]; Location: (21.0, 142.5, 49136)    69\n",
       "Target: DestructibleSignsConstruction [02B40001]; Location: (132.0, 30.5, 49136)    59\n",
       "Target: None [00040001]; Location: (38.0, 129.5, 49088)                             50\n",
       "                                                                                    ..\n",
       "Location: (148.73291015625, 161.841064453125, 49120)                                 1\n",
       "Location: (42.207275390625, 96.353759765625, 40941)                                  1\n",
       "Target: Adept [040C0002]; Location: (133.923828125, 158.1640625, 49104)              1\n",
       "Location: (85.587158203125, 76.0751953125, 33358)                                    1\n",
       "Location: (142.2626953125, 158.98779296875, 49105)                                   1\n",
       "Name: event_contents, Length: 16333, dtype: int64"
      ]
     },
     "execution_count": 26,
     "metadata": {},
     "output_type": "execute_result"
    }
   ],
   "source": [
    "counts['Right Click']"
   ]
  },
  {
   "cell_type": "markdown",
   "metadata": {},
   "source": [
    "## rightClick(DF)를 세미콜론 기준, 스플릿하는 멀티프로세싱\n",
    "- 새로 컬럼을 만든다."
   ]
  },
  {
   "cell_type": "code",
   "execution_count": 27,
   "metadata": {},
   "outputs": [],
   "source": [
    "def get_basic_df(dict, key_name='Right Click'):\n",
    "    \"\"\"counts 딕트에서 기본 key df 를 만들고 컬럼 제정렬 한다.\"\"\"\n",
    "    df = pd.DataFrame(dict[key_name])\n",
    "    df['details'] = df.index.copy()\n",
    "    df.index = np.arange(len(df['details']))\n",
    "    df = df[['details', 'event_contents']]              # re-order column position \n",
    "\n",
    "    # df.columns = ['details', 'counts']                # rename ... not shows result\n",
    "    df.rename(columns={'event_contents' : 'counts'})    # rename ... shows result [추천]\n",
    "    return df"
   ]
  },
  {
   "cell_type": "code",
   "execution_count": 28,
   "metadata": {},
   "outputs": [],
   "source": [
    "def parallelize_dataframe(df, func):\n",
    "    \"\"\"DF 를 코어수만큼 쪼개서, 매핑하고 다시 연결시킴\n",
    "    Pandas DataFrame을 병렬처리 하는 방법 = https://bit.ly/2JKTw5v\n",
    "    \"\"\"\n",
    "    num_cores = mp.cpu_count()               # cpu의 코어 수를 반환\n",
    "    print(f\"CPU CORES = {num_cores} CORES!\")\n",
    "    \n",
    "    df_split = np.array_split(df, num_cores)\n",
    "    pool = Pool(num_cores)\n",
    "\n",
    "    df = pd.concat(pool.map(func, df_split))\n",
    "    pool.close()\n",
    "    pool.join()\n",
    "    return df"
   ]
  },
  {
   "cell_type": "code",
   "execution_count": 29,
   "metadata": {},
   "outputs": [],
   "source": [
    "# 전처리 필요합수를 재지정 한다.\n",
    "def func_helper(df):\n",
    "    \"\"\"HELPER() for multi-process = 처리함수를 별도수정 필요\"\"\"\n",
    "    df['num_split'] = df['details'].apply(lambda x: len(x.split(';')))\n",
    "    df['splits_01'] = df['details'].apply(lambda x: x.split(';')) \n",
    "    df['splits_02'] = df['splits_01'].apply(lambda x: x[0].split(':')[1]) \n",
    "    return df"
   ]
  },
  {
   "cell_type": "code",
   "execution_count": 30,
   "metadata": {},
   "outputs": [
    {
     "data": {
      "text/html": [
       "<div>\n",
       "<style scoped>\n",
       "    .dataframe tbody tr th:only-of-type {\n",
       "        vertical-align: middle;\n",
       "    }\n",
       "\n",
       "    .dataframe tbody tr th {\n",
       "        vertical-align: top;\n",
       "    }\n",
       "\n",
       "    .dataframe thead th {\n",
       "        text-align: right;\n",
       "    }\n",
       "</style>\n",
       "<table border=\"1\" class=\"dataframe\">\n",
       "  <thead>\n",
       "    <tr style=\"text-align: right;\">\n",
       "      <th></th>\n",
       "      <th>details</th>\n",
       "      <th>event_contents</th>\n",
       "    </tr>\n",
       "  </thead>\n",
       "  <tbody>\n",
       "    <tr>\n",
       "      <th>0</th>\n",
       "      <td>Target: None [023C0001]; Location: (19.0, 138....</td>\n",
       "      <td>80</td>\n",
       "    </tr>\n",
       "    <tr>\n",
       "      <th>1</th>\n",
       "      <td>Target: DestructibleSignsConstruction [001C000...</td>\n",
       "      <td>71</td>\n",
       "    </tr>\n",
       "    <tr>\n",
       "      <th>2</th>\n",
       "      <td>Target: DestructibleSignsConstruction [0244000...</td>\n",
       "      <td>69</td>\n",
       "    </tr>\n",
       "    <tr>\n",
       "      <th>3</th>\n",
       "      <td>Target: DestructibleSignsConstruction [02B4000...</td>\n",
       "      <td>59</td>\n",
       "    </tr>\n",
       "    <tr>\n",
       "      <th>4</th>\n",
       "      <td>Target: None [00040001]; Location: (38.0, 129....</td>\n",
       "      <td>50</td>\n",
       "    </tr>\n",
       "  </tbody>\n",
       "</table>\n",
       "</div>"
      ],
      "text/plain": [
       "                                             details  event_contents\n",
       "0  Target: None [023C0001]; Location: (19.0, 138....              80\n",
       "1  Target: DestructibleSignsConstruction [001C000...              71\n",
       "2  Target: DestructibleSignsConstruction [0244000...              69\n",
       "3  Target: DestructibleSignsConstruction [02B4000...              59\n",
       "4  Target: None [00040001]; Location: (38.0, 129....              50"
      ]
     },
     "execution_count": 30,
     "metadata": {},
     "output_type": "execute_result"
    }
   ],
   "source": [
    "df_rightClick = get_basic_df(dict=counts, key_name='Right Click')\n",
    "df_rightClick.head()"
   ]
  },
  {
   "cell_type": "code",
   "execution_count": null,
   "metadata": {},
   "outputs": [
    {
     "name": "stdout",
     "output_type": "stream",
     "text": [
      "CPU CORES = 4 CORES!\n"
     ]
    }
   ],
   "source": [
    "%%time\n",
    "df_multi = parallelize_dataframe(df_rightClick, func_helper)"
   ]
  },
  {
   "cell_type": "code",
   "execution_count": null,
   "metadata": {
    "scrolled": false
   },
   "outputs": [],
   "source": [
    "# df_multi.sort_values(by='num_split', ascending=False).head(10)\n",
    "cols = ['event_contents', 'num_split', 'splits_01', 'splits_02', ]\n",
    "df_multi[cols].sort_values(by='event_contents', ascending=False).head(50)"
   ]
  },
  {
   "cell_type": "code",
   "execution_count": null,
   "metadata": {},
   "outputs": [],
   "source": [
    "df_Ability = get_basic_df(dict=counts, key_name='Ability')\n",
    "df_Ability.head(10)"
   ]
  },
  {
   "cell_type": "code",
   "execution_count": null,
   "metadata": {},
   "outputs": [],
   "source": [
    "# 전처리 필요합수를 재지정 한다.\n",
    "def func_helper(df):\n",
    "    \"\"\"HELPER() for multi-process = 처리함수를 별도수정 필요\"\"\"\n",
    "    df['num_split'] = df['details'].apply(lambda x: len(x.split('-')))\n",
    "    df['splits_01'] = df['details'].apply(lambda x: x.split('-')) \n",
    "    df['splits_02'] = df['splits_01'].apply(lambda x: x[0])\n",
    "    df['splits_03'] = df['splits_01'].apply(lambda x: x[-1])  \n",
    "    return df"
   ]
  },
  {
   "cell_type": "code",
   "execution_count": null,
   "metadata": {},
   "outputs": [],
   "source": [
    "%%time\n",
    "df_multi_Ability = parallelize_dataframe(df_Ability, func_helper)"
   ]
  },
  {
   "cell_type": "code",
   "execution_count": null,
   "metadata": {
    "scrolled": false
   },
   "outputs": [],
   "source": [
    "# df_multi.sort_values(by='num_split', ascending=False).head(10)\n",
    "cols = ['event_contents', 'num_split', 'splits_01', 'splits_02', 'splits_03',]\n",
    "df_multi_Ability[cols].sort_values(by='event_contents', ascending=False).head(50)"
   ]
  },
  {
   "cell_type": "code",
   "execution_count": null,
   "metadata": {},
   "outputs": [],
   "source": []
  },
  {
   "cell_type": "code",
   "execution_count": null,
   "metadata": {},
   "outputs": [],
   "source": []
  },
  {
   "cell_type": "code",
   "execution_count": null,
   "metadata": {},
   "outputs": [],
   "source": [
    "# 셀렉션의 최빈값이 NULL 이다 = 무슨의미 일까? --- 모르면 feature로 넣어보고 평가!\n",
    "counts['Selection'][:50]"
   ]
  },
  {
   "cell_type": "markdown",
   "metadata": {},
   "source": [
    "## 공격,생산을 코드별로 분류해서 카운트 한다\n",
    "- 질문 : 공격코드가 많을까? 생산코드가 많을까? 추측 = 진화코드가 많을까?\n",
    "- 예) 5A0 = Attack; Target = Object; Location=좌표 ---> 공격 코드\n",
    "- 단일코드) 1360 = TrainSCV / 1820=MorphDrone / 15E0 = TrainProbe = 생산유닛 뽑기를 하나로 묶음!\n"
   ]
  },
  {
   "cell_type": "code",
   "execution_count": null,
   "metadata": {},
   "outputs": [],
   "source": [
    "counts['Ability']"
   ]
  },
  {
   "cell_type": "code",
   "execution_count": null,
   "metadata": {
    "scrolled": false
   },
   "outputs": [],
   "source": [
    "counts['Ability'][:60]"
   ]
  },
  {
   "cell_type": "code",
   "execution_count": null,
   "metadata": {
    "scrolled": false
   },
   "outputs": [],
   "source": [
    "counts['Ability'][-60:-1]"
   ]
  },
  {
   "cell_type": "markdown",
   "metadata": {},
   "source": [
    "# Null 타입 이벤트 (공격이벤트)\n",
    "1. Ability\n",
    "> - 어택 횟수가 공격에 미치는 영향\n",
    "> - 훈련 횟수가 공격에 미치는 영향\n",
    "\n",
    "1. 공격 이벤트 = Null 값 \n",
    "> - 어느 이벤트가 더 영향을 미칠까? 모르겠으면 다 합한다.\n",
    "> - 부대 지정횟수\n",
    "> - 부대 추가횟수\n",
    "> - 부대 불러오기 횟수\n",
    "> - 부대 행동 횟수\n",
    "\n",
    "1. Selection = Null 값 빈도가 제일 높음?\n",
    "> - Null 값의 의미가 뭘까? 모르면 플레이어별로 카운트\n",
    "> - Null 값이 + or - 영향인지 모름\n",
    "\n",
    "\n",
    "| 컬럼명  | 값    | type             | 설명           | 대표값 |   비고 |\n",
    "|:-------:|:------|------------------|----------------|:-------|:------:|\n",
    "| event   |Ability           |Object |생산, 공격 등 선수의 주요 행동 | (code) | 어택, 훈련횟수 추출!\n",
    "|         |Camera            |Object |시점 선택               | at(coords)  | 첫시점=시작포인트!\n",
    "|         |SetControlGroup   |Object |부대 지정       |       NULL        \n",
    "|         |AddToControlGroup |Object |부대에 추가     |       NULL        \n",
    "|         |GetControlGroup   |Object |부대 불러오기   |       NULL        \n",
    "|         |ControlGroup      |Object |부대 행동       |       NULL        \n",
    "|         |Right             |Object |Click : 마우스 우클릭   | Target:(object); Location: at(coords)\n",
    "|         |Selection         |Object |객체 선택       |NULL 값 추출 | 종류 너무 많음! "
   ]
  },
  {
   "cell_type": "code",
   "execution_count": null,
   "metadata": {},
   "outputs": [],
   "source": [
    "counts['SetControlGroup']"
   ]
  },
  {
   "cell_type": "code",
   "execution_count": null,
   "metadata": {},
   "outputs": [],
   "source": [
    "counts['GetControlGroup']"
   ]
  },
  {
   "cell_type": "code",
   "execution_count": null,
   "metadata": {},
   "outputs": [],
   "source": [
    "counts['AddToControlGroup']"
   ]
  },
  {
   "cell_type": "code",
   "execution_count": null,
   "metadata": {},
   "outputs": [],
   "source": [
    "counts['ControlGroup']"
   ]
  },
  {
   "cell_type": "markdown",
   "metadata": {},
   "source": [
    "## BaseLine Data Preps = df_preps"
   ]
  },
  {
   "cell_type": "code",
   "execution_count": null,
   "metadata": {},
   "outputs": [],
   "source": [
    "%%time\n",
    "\"\"\"\n",
    "# 베이스라인에 제시된 game_id 할당 전처리 수행\n",
    "# CPU times: user 573 ms, sys: 12 ms, total: 585 ms \n",
    "# Wall time: 751 ms \n",
    "\"\"\"\n",
    "x_train, y_train = data_preparation(df_train_cut71, answer=True)"
   ]
  },
  {
   "cell_type": "code",
   "execution_count": null,
   "metadata": {},
   "outputs": [],
   "source": [
    "print(data_preparation.__doc__)\n",
    "print(type(x_train))   # <class 'pandas.core.frame.DataFrame'>\n",
    "print(type(y_train))   # <class 'numpy.ndarray'>"
   ]
  },
  {
   "cell_type": "code",
   "execution_count": null,
   "metadata": {},
   "outputs": [],
   "source": [
    "y_train.shape       # (38872,)\n",
    "pd.Series(y_train).value_counts()"
   ]
  },
  {
   "cell_type": "code",
   "execution_count": null,
   "metadata": {
    "scrolled": false
   },
   "outputs": [],
   "source": [
    "show_infoDF_from(x_train)\n",
    "x_train.head(3)"
   ]
  },
  {
   "cell_type": "code",
   "execution_count": null,
   "metadata": {},
   "outputs": [],
   "source": [
    "y_train     # 71개 승리데이터"
   ]
  },
  {
   "cell_type": "code",
   "execution_count": null,
   "metadata": {},
   "outputs": [],
   "source": [
    "serieses = [\n",
    "        x_train.P0_AddToControlGroup,\n",
    "        x_train.P1_AddToControlGroup,\n",
    "        x_train.P0_ControlGroup,\n",
    "        x_train.P1_ControlGroup,\n",
    "    ]\n",
    "plot_it(serieses, 1,1, figsize=(8,3), overlap=True)"
   ]
  },
  {
   "cell_type": "code",
   "execution_count": null,
   "metadata": {},
   "outputs": [],
   "source": [
    "x_train.shape   # (71, 26)  ... DataFrame  문제지 26열\n",
    "y_train.shape   # (71,)     ... np.array   답안지 1열"
   ]
  },
  {
   "cell_type": "code",
   "execution_count": null,
   "metadata": {},
   "outputs": [],
   "source": [
    "x_train['P0_total_null'] =  x_train['P0_AddToControlGroup'] + \\\n",
    "                            x_train['P0_GetControlGroup'] + \\\n",
    "                            x_train['P0_SetControlGroup'] + \\\n",
    "                            x_train['P0_ControlGroup']\n",
    "\n",
    "x_train['P1_total_null'] =  x_train['P1_AddToControlGroup'] + \\\n",
    "                            x_train['P1_GetControlGroup'] + \\\n",
    "                            x_train['P1_SetControlGroup'] + \\\n",
    "                            x_train['P1_ControlGroup']\n",
    "\n",
    "x_train['delta_total_null'] =   x_train['P0_total_null'] - \\\n",
    "                                x_train['P1_total_null']\n"
   ]
  },
  {
   "cell_type": "code",
   "execution_count": null,
   "metadata": {},
   "outputs": [],
   "source": [
    "x_train.shape      # (71, 29)\n",
    "x_train.head(4)"
   ]
  },
  {
   "cell_type": "code",
   "execution_count": null,
   "metadata": {},
   "outputs": [],
   "source": []
  },
  {
   "cell_type": "code",
   "execution_count": null,
   "metadata": {},
   "outputs": [],
   "source": []
  },
  {
   "cell_type": "code",
   "execution_count": null,
   "metadata": {},
   "outputs": [],
   "source": []
  },
  {
   "cell_type": "code",
   "execution_count": null,
   "metadata": {},
   "outputs": [],
   "source": []
  },
  {
   "cell_type": "code",
   "execution_count": null,
   "metadata": {},
   "outputs": [],
   "source": []
  },
  {
   "cell_type": "code",
   "execution_count": null,
   "metadata": {},
   "outputs": [],
   "source": []
  }
 ],
 "metadata": {
  "kernelspec": {
   "display_name": "Python 3",
   "language": "python",
   "name": "python3"
  },
  "language_info": {
   "codemirror_mode": {
    "name": "ipython",
    "version": 3
   },
   "file_extension": ".py",
   "mimetype": "text/x-python",
   "name": "python",
   "nbconvert_exporter": "python",
   "pygments_lexer": "ipython3",
   "version": "3.7.6"
  }
 },
 "nbformat": 4,
 "nbformat_minor": 2
}
