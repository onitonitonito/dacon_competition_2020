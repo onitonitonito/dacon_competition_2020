{
 "cells": [
  {
   "cell_type": "code",
   "execution_count": 0,
   "metadata": {
    "colab": {
     "base_uri": "https://localhost:8080/",
     "height": 145
    },
    "colab_type": "code",
    "executionInfo": {
     "elapsed": 24560,
     "status": "ok",
     "timestamp": 1585354532535,
     "user": {
      "displayName": "Chang Jun Yu",
      "photoUrl": "",
      "userId": "01350722000017054941"
     },
     "user_tz": -540
    },
    "id": "k3d0E4hP_ov0",
    "outputId": "a4cc983a-6c9a-49a0-ba48-ffe8b69019ce"
   },
   "outputs": [
    {
     "name": "stdout",
     "output_type": "stream",
     "text": [
      "Go to this URL in a browser: https://accounts.google.com/o/oauth2/auth?client_id=947318989803-6bn6qk8qdgf4n4g3pfee6491hc0brc4i.apps.googleusercontent.com&redirect_uri=urn%3aietf%3awg%3aoauth%3a2.0%3aoob&response_type=code&scope=email%20https%3a%2f%2fwww.googleapis.com%2fauth%2fdocs.test%20https%3a%2f%2fwww.googleapis.com%2fauth%2fdrive%20https%3a%2f%2fwww.googleapis.com%2fauth%2fdrive.photos.readonly%20https%3a%2f%2fwww.googleapis.com%2fauth%2fpeopleapi.readonly\n",
      "\n",
      "Enter your authorization code:\n",
      "··········\n",
      "Mounted at /content/gdrive\n",
      "/content/gdrive/My Drive/Colab Notebooks\n"
     ]
    }
   ],
   "source": [
    "import os\n",
    "from google.colab import drive\n",
    "drive.mount('/content/gdrive', force_remount=False)\n",
    "FOLDER= '/content/gdrive/My Drive/Colab Notebooks'\n",
    "os.chdir(FOLDER)\n",
    "print(os.getcwd())"
   ]
  },
  {
   "cell_type": "code",
   "execution_count": 0,
   "metadata": {
    "colab": {
     "base_uri": "https://localhost:8080/",
     "height": 161
    },
    "colab_type": "code",
    "executionInfo": {
     "elapsed": 5742,
     "status": "ok",
     "timestamp": 1585354556089,
     "user": {
      "displayName": "Chang Jun Yu",
      "photoUrl": "",
      "userId": "01350722000017054941"
     },
     "user_tz": -540
    },
    "id": "zy53Agb4jdB9",
    "outputId": "3bdf7324-7552-4607-a5f4-67f76ee983a2"
   },
   "outputs": [
    {
     "name": "stdout",
     "output_type": "stream",
     "text": [
      "Collecting bayesian-optimization\n",
      "  Downloading https://files.pythonhosted.org/packages/b5/26/9842333adbb8f17bcb3d699400a8b1ccde0af0b6de8d07224e183728acdf/bayesian_optimization-1.1.0-py3-none-any.whl\n",
      "Requirement already satisfied: numpy>=1.9.0 in /usr/local/lib/python3.6/dist-packages (from bayesian-optimization) (1.18.2)\n",
      "Requirement already satisfied: scipy>=0.14.0 in /usr/local/lib/python3.6/dist-packages (from bayesian-optimization) (1.4.1)\n",
      "Requirement already satisfied: scikit-learn>=0.18.0 in /usr/local/lib/python3.6/dist-packages (from bayesian-optimization) (0.22.2.post1)\n",
      "Requirement already satisfied: joblib>=0.11 in /usr/local/lib/python3.6/dist-packages (from scikit-learn>=0.18.0->bayesian-optimization) (0.14.1)\n",
      "Installing collected packages: bayesian-optimization\n",
      "Successfully installed bayesian-optimization-1.1.0\n"
     ]
    }
   ],
   "source": [
    "!pip install bayesian-optimization"
   ]
  },
  {
   "cell_type": "code",
   "execution_count": 0,
   "metadata": {
    "colab": {
     "base_uri": "https://localhost:8080/",
     "height": 35
    },
    "colab_type": "code",
    "executionInfo": {
     "elapsed": 8091,
     "status": "ok",
     "timestamp": 1585354558602,
     "user": {
      "displayName": "Chang Jun Yu",
      "photoUrl": "",
      "userId": "01350722000017054941"
     },
     "user_tz": -540
    },
    "id": "UYVRIJWS_wNR",
    "outputId": "cb51b3d0-8fc4-44e9-c816-194a7ab7650f"
   },
   "outputs": [
    {
     "name": "stderr",
     "output_type": "stream",
     "text": [
      "Using TensorFlow backend.\n"
     ]
    }
   ],
   "source": [
    "import pandas as pd                         # 데이터 분석 라이브러리\n",
    "import numpy as np                          # 계산 라이브러리\n",
    "from tqdm import tqdm                       # 진행바\n",
    "from sklearn.metrics import roc_auc_score   # AUC 스코어 계산\n",
    "import xgboost as xgb\n",
    "from sklearn.model_selection import KFold   # K-fold CV\n",
    "from bayes_opt import BayesianOptimization  # 베이지안 최적화 라이브러리\n",
    "from functools import partial               # 함수 변수 고정\n",
    "from keras.utils import to_categorical      # 카테고리 범주바꾸는 라이브러리\n",
    "import numpy as np\n",
    "import warnings                             \n",
    "warnings.filterwarnings(\"ignore\")           # 경고 문구 미표시\n",
    "import random                               # random 변수 생성"
   ]
  },
  {
   "cell_type": "code",
   "execution_count": 0,
   "metadata": {
    "colab": {},
    "colab_type": "code",
    "id": "auyNRaI8_x28"
   },
   "outputs": [],
   "source": [
    "# 데이터가 많아 5분정도 걸립니다.\n",
    "train = pd.read_csv(\"/content/gdrive/My Drive/Colab Notebooks/competition data/startcraft_data/train.csv\") \n",
    "test = pd.read_csv(\"/content/gdrive/My Drive/Colab Notebooks/competition data/startcraft_data/test.csv\") \n",
    "sample_submission_data = pd.read_csv(\"/content/gdrive/My Drive/Colab Notebooks/competition data/startcraft_data/sample_submission.csv\") "
   ]
  },
  {
   "cell_type": "code",
   "execution_count": 0,
   "metadata": {
    "colab": {
     "base_uri": "https://localhost:8080/",
     "height": 204
    },
    "colab_type": "code",
    "executionInfo": {
     "elapsed": 138194,
     "status": "ok",
     "timestamp": 1585354702048,
     "user": {
      "displayName": "Chang Jun Yu",
      "photoUrl": "",
      "userId": "01350722000017054941"
     },
     "user_tz": -540
    },
    "id": "Fp_AYdSz_zsB",
    "outputId": "e647cf8f-6be3-4fcd-e52b-be0423578610"
   },
   "outputs": [
    {
     "data": {
      "text/html": [
       "<div>\n",
       "<style scoped>\n",
       "    .dataframe tbody tr th:only-of-type {\n",
       "        vertical-align: middle;\n",
       "    }\n",
       "\n",
       "    .dataframe tbody tr th {\n",
       "        vertical-align: top;\n",
       "    }\n",
       "\n",
       "    .dataframe thead th {\n",
       "        text-align: right;\n",
       "    }\n",
       "</style>\n",
       "<table border=\"1\" class=\"dataframe\">\n",
       "  <thead>\n",
       "    <tr style=\"text-align: right;\">\n",
       "      <th></th>\n",
       "      <th>game_id</th>\n",
       "      <th>winner</th>\n",
       "      <th>time</th>\n",
       "      <th>player</th>\n",
       "      <th>species</th>\n",
       "      <th>event</th>\n",
       "      <th>event_contents</th>\n",
       "    </tr>\n",
       "  </thead>\n",
       "  <tbody>\n",
       "    <tr>\n",
       "      <th>0</th>\n",
       "      <td>0</td>\n",
       "      <td>1</td>\n",
       "      <td>0.00</td>\n",
       "      <td>0</td>\n",
       "      <td>T</td>\n",
       "      <td>Camera</td>\n",
       "      <td>at (145.25, 21.5078125)</td>\n",
       "    </tr>\n",
       "    <tr>\n",
       "      <th>1</th>\n",
       "      <td>0</td>\n",
       "      <td>1</td>\n",
       "      <td>0.00</td>\n",
       "      <td>1</td>\n",
       "      <td>T</td>\n",
       "      <td>Camera</td>\n",
       "      <td>at (22.75, 147.0078125)</td>\n",
       "    </tr>\n",
       "    <tr>\n",
       "      <th>2</th>\n",
       "      <td>0</td>\n",
       "      <td>1</td>\n",
       "      <td>0.02</td>\n",
       "      <td>0</td>\n",
       "      <td>T</td>\n",
       "      <td>Selection</td>\n",
       "      <td>['OrbitalCommand [3080001]']</td>\n",
       "    </tr>\n",
       "    <tr>\n",
       "      <th>3</th>\n",
       "      <td>0</td>\n",
       "      <td>1</td>\n",
       "      <td>0.02</td>\n",
       "      <td>0</td>\n",
       "      <td>T</td>\n",
       "      <td>Ability</td>\n",
       "      <td>(1360) - TrainSCV</td>\n",
       "    </tr>\n",
       "    <tr>\n",
       "      <th>4</th>\n",
       "      <td>0</td>\n",
       "      <td>1</td>\n",
       "      <td>0.14</td>\n",
       "      <td>0</td>\n",
       "      <td>T</td>\n",
       "      <td>Camera</td>\n",
       "      <td>at (142.99609375, 24.50390625)</td>\n",
       "    </tr>\n",
       "  </tbody>\n",
       "</table>\n",
       "</div>"
      ],
      "text/plain": [
       "   game_id  winner  time  ...  species      event                  event_contents\n",
       "0        0       1  0.00  ...        T     Camera         at (145.25, 21.5078125)\n",
       "1        0       1  0.00  ...        T     Camera         at (22.75, 147.0078125)\n",
       "2        0       1  0.02  ...        T  Selection    ['OrbitalCommand [3080001]']\n",
       "3        0       1  0.02  ...        T    Ability               (1360) - TrainSCV\n",
       "4        0       1  0.14  ...        T     Camera  at (142.99609375, 24.50390625)\n",
       "\n",
       "[5 rows x 7 columns]"
      ]
     },
     "execution_count": 5,
     "metadata": {
      "tags": []
     },
     "output_type": "execute_result"
    }
   ],
   "source": [
    "train.head()"
   ]
  },
  {
   "cell_type": "code",
   "execution_count": 0,
   "metadata": {
    "colab": {
     "base_uri": "https://localhost:8080/",
     "height": 204
    },
    "colab_type": "code",
    "executionInfo": {
     "elapsed": 137695,
     "status": "ok",
     "timestamp": 1585354702050,
     "user": {
      "displayName": "Chang Jun Yu",
      "photoUrl": "",
      "userId": "01350722000017054941"
     },
     "user_tz": -540
    },
    "id": "Nj1rnWOz_10_",
    "outputId": "a0d3f49c-8183-4410-ce8e-06321e5593e1"
   },
   "outputs": [
    {
     "data": {
      "text/html": [
       "<div>\n",
       "<style scoped>\n",
       "    .dataframe tbody tr th:only-of-type {\n",
       "        vertical-align: middle;\n",
       "    }\n",
       "\n",
       "    .dataframe tbody tr th {\n",
       "        vertical-align: top;\n",
       "    }\n",
       "\n",
       "    .dataframe thead th {\n",
       "        text-align: right;\n",
       "    }\n",
       "</style>\n",
       "<table border=\"1\" class=\"dataframe\">\n",
       "  <thead>\n",
       "    <tr style=\"text-align: right;\">\n",
       "      <th></th>\n",
       "      <th>game_id</th>\n",
       "      <th>time</th>\n",
       "      <th>player</th>\n",
       "      <th>species</th>\n",
       "      <th>event</th>\n",
       "      <th>event_contents</th>\n",
       "    </tr>\n",
       "  </thead>\n",
       "  <tbody>\n",
       "    <tr>\n",
       "      <th>0</th>\n",
       "      <td>38872</td>\n",
       "      <td>0.00</td>\n",
       "      <td>0</td>\n",
       "      <td>P</td>\n",
       "      <td>Camera</td>\n",
       "      <td>at (22.25, 81.5078125)</td>\n",
       "    </tr>\n",
       "    <tr>\n",
       "      <th>1</th>\n",
       "      <td>38872</td>\n",
       "      <td>0.00</td>\n",
       "      <td>1</td>\n",
       "      <td>P</td>\n",
       "      <td>Camera</td>\n",
       "      <td>at (120.25, 153.83984375)</td>\n",
       "    </tr>\n",
       "    <tr>\n",
       "      <th>2</th>\n",
       "      <td>38872</td>\n",
       "      <td>0.01</td>\n",
       "      <td>1</td>\n",
       "      <td>P</td>\n",
       "      <td>Selection</td>\n",
       "      <td>['Nexus [3100001]']</td>\n",
       "    </tr>\n",
       "    <tr>\n",
       "      <th>3</th>\n",
       "      <td>38872</td>\n",
       "      <td>0.01</td>\n",
       "      <td>1</td>\n",
       "      <td>P</td>\n",
       "      <td>Ability</td>\n",
       "      <td>(15E0) - TrainProbe</td>\n",
       "    </tr>\n",
       "    <tr>\n",
       "      <th>4</th>\n",
       "      <td>38872</td>\n",
       "      <td>0.01</td>\n",
       "      <td>1</td>\n",
       "      <td>P</td>\n",
       "      <td>AddToControlGroup</td>\n",
       "      <td>NaN</td>\n",
       "    </tr>\n",
       "  </tbody>\n",
       "</table>\n",
       "</div>"
      ],
      "text/plain": [
       "   game_id  time  player species              event             event_contents\n",
       "0    38872  0.00       0       P             Camera     at (22.25, 81.5078125)\n",
       "1    38872  0.00       1       P             Camera  at (120.25, 153.83984375)\n",
       "2    38872  0.01       1       P          Selection        ['Nexus [3100001]']\n",
       "3    38872  0.01       1       P            Ability        (15E0) - TrainProbe\n",
       "4    38872  0.01       1       P  AddToControlGroup                        NaN"
      ]
     },
     "execution_count": 6,
     "metadata": {
      "tags": []
     },
     "output_type": "execute_result"
    }
   ],
   "source": [
    "test.head()"
   ]
  },
  {
   "cell_type": "code",
   "execution_count": 0,
   "metadata": {
    "colab": {
     "base_uri": "https://localhost:8080/",
     "height": 204
    },
    "colab_type": "code",
    "executionInfo": {
     "elapsed": 137277,
     "status": "ok",
     "timestamp": 1585354702050,
     "user": {
      "displayName": "Chang Jun Yu",
      "photoUrl": "",
      "userId": "01350722000017054941"
     },
     "user_tz": -540
    },
    "id": "5t5QLF3I_5IK",
    "outputId": "c6289090-85f0-4435-bdd9-0019b7f04597"
   },
   "outputs": [
    {
     "data": {
      "text/html": [
       "<div>\n",
       "<style scoped>\n",
       "    .dataframe tbody tr th:only-of-type {\n",
       "        vertical-align: middle;\n",
       "    }\n",
       "\n",
       "    .dataframe tbody tr th {\n",
       "        vertical-align: top;\n",
       "    }\n",
       "\n",
       "    .dataframe thead th {\n",
       "        text-align: right;\n",
       "    }\n",
       "</style>\n",
       "<table border=\"1\" class=\"dataframe\">\n",
       "  <thead>\n",
       "    <tr style=\"text-align: right;\">\n",
       "      <th></th>\n",
       "      <th>game_id</th>\n",
       "      <th>winner</th>\n",
       "    </tr>\n",
       "  </thead>\n",
       "  <tbody>\n",
       "    <tr>\n",
       "      <th>0</th>\n",
       "      <td>38872</td>\n",
       "      <td>0</td>\n",
       "    </tr>\n",
       "    <tr>\n",
       "      <th>1</th>\n",
       "      <td>38873</td>\n",
       "      <td>0</td>\n",
       "    </tr>\n",
       "    <tr>\n",
       "      <th>2</th>\n",
       "      <td>38874</td>\n",
       "      <td>0</td>\n",
       "    </tr>\n",
       "    <tr>\n",
       "      <th>3</th>\n",
       "      <td>38875</td>\n",
       "      <td>0</td>\n",
       "    </tr>\n",
       "    <tr>\n",
       "      <th>4</th>\n",
       "      <td>38876</td>\n",
       "      <td>0</td>\n",
       "    </tr>\n",
       "  </tbody>\n",
       "</table>\n",
       "</div>"
      ],
      "text/plain": [
       "   game_id  winner\n",
       "0    38872       0\n",
       "1    38873       0\n",
       "2    38874       0\n",
       "3    38875       0\n",
       "4    38876       0"
      ]
     },
     "execution_count": 7,
     "metadata": {
      "tags": []
     },
     "output_type": "execute_result"
    }
   ],
   "source": [
    "sample_submission_data.head()"
   ]
  },
  {
   "cell_type": "code",
   "execution_count": 0,
   "metadata": {
    "colab": {
     "base_uri": "https://localhost:8080/",
     "height": 53
    },
    "colab_type": "code",
    "executionInfo": {
     "elapsed": 135069,
     "status": "ok",
     "timestamp": 1585354702050,
     "user": {
      "displayName": "Chang Jun Yu",
      "photoUrl": "",
      "userId": "01350722000017054941"
     },
     "user_tz": -540
    },
    "id": "iIVyAI4z_7eL",
    "outputId": "8f96d745-ec85-4cbe-d493-6ab26dcdaaf8"
   },
   "outputs": [
    {
     "data": {
      "text/plain": [
       "0    16787\n",
       "Name: winner, dtype: int64"
      ]
     },
     "execution_count": 8,
     "metadata": {
      "tags": []
     },
     "output_type": "execute_result"
    }
   ],
   "source": [
    "sample_submission_data['winner'].value_counts()"
   ]
  },
  {
   "cell_type": "code",
   "execution_count": 0,
   "metadata": {
    "colab": {},
    "colab_type": "code",
    "id": "Yw9aVAgP_9uQ"
   },
   "outputs": [],
   "source": [
    "df_train = pd.DataFrame(columns=['game_id'])\n",
    "df_train.game_id = train.game_id.unique()"
   ]
  },
  {
   "cell_type": "code",
   "execution_count": 0,
   "metadata": {
    "colab": {},
    "colab_type": "code",
    "id": "7qjJAL4SLZLM"
   },
   "outputs": [],
   "source": [
    "df_test = pd.DataFrame(columns=['game_id'])\n",
    "df_test.game_id = test.game_id.unique()"
   ]
  },
  {
   "cell_type": "code",
   "execution_count": 0,
   "metadata": {
    "colab": {},
    "colab_type": "code",
    "id": "rctNTOhxD4ic"
   },
   "outputs": [],
   "source": [
    "df_train['time'] = np.array(train[train.shift(-1).game_id != train.game_id].time)"
   ]
  },
  {
   "cell_type": "code",
   "execution_count": 0,
   "metadata": {
    "colab": {},
    "colab_type": "code",
    "id": "ox6_jOr4LhqL"
   },
   "outputs": [],
   "source": [
    "df_test['time'] = np.array(test[test.shift(-1).game_id != test.game_id].time)"
   ]
  },
  {
   "cell_type": "code",
   "execution_count": 0,
   "metadata": {
    "colab": {
     "base_uri": "https://localhost:8080/",
     "height": 204
    },
    "colab_type": "code",
    "executionInfo": {
     "elapsed": 930,
     "status": "ok",
     "timestamp": 1585354793018,
     "user": {
      "displayName": "Chang Jun Yu",
      "photoUrl": "",
      "userId": "01350722000017054941"
     },
     "user_tz": -540
    },
    "id": "KZtxbp9fX8Ri",
    "outputId": "1dc7bc52-d195-47f3-ce83-9122bc0c4c45"
   },
   "outputs": [
    {
     "data": {
      "text/html": [
       "<div>\n",
       "<style scoped>\n",
       "    .dataframe tbody tr th:only-of-type {\n",
       "        vertical-align: middle;\n",
       "    }\n",
       "\n",
       "    .dataframe tbody tr th {\n",
       "        vertical-align: top;\n",
       "    }\n",
       "\n",
       "    .dataframe thead th {\n",
       "        text-align: right;\n",
       "    }\n",
       "</style>\n",
       "<table border=\"1\" class=\"dataframe\">\n",
       "  <thead>\n",
       "    <tr style=\"text-align: right;\">\n",
       "      <th></th>\n",
       "      <th>game_id</th>\n",
       "      <th>time</th>\n",
       "    </tr>\n",
       "  </thead>\n",
       "  <tbody>\n",
       "    <tr>\n",
       "      <th>0</th>\n",
       "      <td>0</td>\n",
       "      <td>7.24</td>\n",
       "    </tr>\n",
       "    <tr>\n",
       "      <th>1</th>\n",
       "      <td>1</td>\n",
       "      <td>9.59</td>\n",
       "    </tr>\n",
       "    <tr>\n",
       "      <th>2</th>\n",
       "      <td>2</td>\n",
       "      <td>9.59</td>\n",
       "    </tr>\n",
       "    <tr>\n",
       "      <th>3</th>\n",
       "      <td>3</td>\n",
       "      <td>9.59</td>\n",
       "    </tr>\n",
       "    <tr>\n",
       "      <th>4</th>\n",
       "      <td>4</td>\n",
       "      <td>5.43</td>\n",
       "    </tr>\n",
       "  </tbody>\n",
       "</table>\n",
       "</div>"
      ],
      "text/plain": [
       "   game_id  time\n",
       "0        0  7.24\n",
       "1        1  9.59\n",
       "2        2  9.59\n",
       "3        3  9.59\n",
       "4        4  5.43"
      ]
     },
     "execution_count": 13,
     "metadata": {
      "tags": []
     },
     "output_type": "execute_result"
    }
   ],
   "source": [
    "df_train.head()"
   ]
  },
  {
   "cell_type": "code",
   "execution_count": 0,
   "metadata": {
    "colab": {
     "base_uri": "https://localhost:8080/",
     "height": 204
    },
    "colab_type": "code",
    "executionInfo": {
     "elapsed": 732,
     "status": "ok",
     "timestamp": 1585354793018,
     "user": {
      "displayName": "Chang Jun Yu",
      "photoUrl": "",
      "userId": "01350722000017054941"
     },
     "user_tz": -540
    },
    "id": "iL_PdxBjMG75",
    "outputId": "2e31edb4-566b-445d-a26a-25f2656a11bc"
   },
   "outputs": [
    {
     "data": {
      "text/html": [
       "<div>\n",
       "<style scoped>\n",
       "    .dataframe tbody tr th:only-of-type {\n",
       "        vertical-align: middle;\n",
       "    }\n",
       "\n",
       "    .dataframe tbody tr th {\n",
       "        vertical-align: top;\n",
       "    }\n",
       "\n",
       "    .dataframe thead th {\n",
       "        text-align: right;\n",
       "    }\n",
       "</style>\n",
       "<table border=\"1\" class=\"dataframe\">\n",
       "  <thead>\n",
       "    <tr style=\"text-align: right;\">\n",
       "      <th></th>\n",
       "      <th>game_id</th>\n",
       "      <th>time</th>\n",
       "    </tr>\n",
       "  </thead>\n",
       "  <tbody>\n",
       "    <tr>\n",
       "      <th>0</th>\n",
       "      <td>38872</td>\n",
       "      <td>7.06</td>\n",
       "    </tr>\n",
       "    <tr>\n",
       "      <th>1</th>\n",
       "      <td>38873</td>\n",
       "      <td>6.07</td>\n",
       "    </tr>\n",
       "    <tr>\n",
       "      <th>2</th>\n",
       "      <td>38874</td>\n",
       "      <td>4.41</td>\n",
       "    </tr>\n",
       "    <tr>\n",
       "      <th>3</th>\n",
       "      <td>38875</td>\n",
       "      <td>7.58</td>\n",
       "    </tr>\n",
       "    <tr>\n",
       "      <th>4</th>\n",
       "      <td>38876</td>\n",
       "      <td>2.50</td>\n",
       "    </tr>\n",
       "  </tbody>\n",
       "</table>\n",
       "</div>"
      ],
      "text/plain": [
       "   game_id  time\n",
       "0    38872  7.06\n",
       "1    38873  6.07\n",
       "2    38874  4.41\n",
       "3    38875  7.58\n",
       "4    38876  2.50"
      ]
     },
     "execution_count": 14,
     "metadata": {
      "tags": []
     },
     "output_type": "execute_result"
    }
   ],
   "source": [
    "df_test.head()"
   ]
  },
  {
   "cell_type": "code",
   "execution_count": 0,
   "metadata": {
    "colab": {},
    "colab_type": "code",
    "id": "ukwDXEKNEYm2"
   },
   "outputs": [],
   "source": [
    "df = train[train.player==0]\n",
    "df_train['player0_species'] = np.array(df[df.shift(-1).game_id != df.game_id].species)\n",
    "df = train[train.player==1]\n",
    "df_train['player1_species'] = np.array(df[df.shift(-1).game_id != df.game_id].species)"
   ]
  },
  {
   "cell_type": "code",
   "execution_count": 0,
   "metadata": {
    "colab": {},
    "colab_type": "code",
    "id": "2K5pBGYuMJtq"
   },
   "outputs": [],
   "source": [
    "df = test[test.player==0]\n",
    "df_test['player0_species'] = np.array(df[df.shift(-1).game_id != df.game_id].species)\n",
    "df = test[test.player==1]\n",
    "df_test['player1_species'] = np.array(df[df.shift(-1).game_id != df.game_id].species)"
   ]
  },
  {
   "cell_type": "code",
   "execution_count": 0,
   "metadata": {
    "colab": {},
    "colab_type": "code",
    "id": "ZMsEex9uEdF-"
   },
   "outputs": [],
   "source": [
    "df = train[train.player==0]\n",
    "df_train['event_count_0'] = np.array(df.game_id.value_counts()[df.game_id.unique()])\n",
    "df = train[train.player==1]\n",
    "df_train['event_count_1'] = np.array(df.game_id.value_counts()[df.game_id.unique()])"
   ]
  },
  {
   "cell_type": "code",
   "execution_count": 0,
   "metadata": {
    "colab": {},
    "colab_type": "code",
    "id": "3Uuk2OgiMxL1"
   },
   "outputs": [],
   "source": [
    "df = test[test.player==0]\n",
    "df_test['event_count_0'] = np.array(df.game_id.value_counts()[df.game_id.unique()])\n",
    "df = test[test.player==1]\n",
    "df_test['event_count_1'] = np.array(df.game_id.value_counts()[df.game_id.unique()])"
   ]
  },
  {
   "cell_type": "code",
   "execution_count": 0,
   "metadata": {
    "colab": {
     "base_uri": "https://localhost:8080/",
     "height": 204
    },
    "colab_type": "code",
    "executionInfo": {
     "elapsed": 27746,
     "status": "ok",
     "timestamp": 1585355978963,
     "user": {
      "displayName": "Chang Jun Yu",
      "photoUrl": "",
      "userId": "01350722000017054941"
     },
     "user_tz": -540
    },
    "id": "4ym6DFu7M9GV",
    "outputId": "65fc87ee-cab7-4fe0-c29c-a8800a58ffaf"
   },
   "outputs": [
    {
     "data": {
      "text/html": [
       "<div>\n",
       "<style scoped>\n",
       "    .dataframe tbody tr th:only-of-type {\n",
       "        vertical-align: middle;\n",
       "    }\n",
       "\n",
       "    .dataframe tbody tr th {\n",
       "        vertical-align: top;\n",
       "    }\n",
       "\n",
       "    .dataframe thead th {\n",
       "        text-align: right;\n",
       "    }\n",
       "</style>\n",
       "<table border=\"1\" class=\"dataframe\">\n",
       "  <thead>\n",
       "    <tr style=\"text-align: right;\">\n",
       "      <th></th>\n",
       "      <th>game_id</th>\n",
       "      <th>time</th>\n",
       "      <th>player0_species</th>\n",
       "      <th>player1_species</th>\n",
       "      <th>event_count_0</th>\n",
       "      <th>event_count_1</th>\n",
       "    </tr>\n",
       "  </thead>\n",
       "  <tbody>\n",
       "    <tr>\n",
       "      <th>0</th>\n",
       "      <td>38872</td>\n",
       "      <td>7.06</td>\n",
       "      <td>P</td>\n",
       "      <td>P</td>\n",
       "      <td>571</td>\n",
       "      <td>715</td>\n",
       "    </tr>\n",
       "    <tr>\n",
       "      <th>1</th>\n",
       "      <td>38873</td>\n",
       "      <td>6.07</td>\n",
       "      <td>Z</td>\n",
       "      <td>P</td>\n",
       "      <td>421</td>\n",
       "      <td>389</td>\n",
       "    </tr>\n",
       "    <tr>\n",
       "      <th>2</th>\n",
       "      <td>38874</td>\n",
       "      <td>4.41</td>\n",
       "      <td>T</td>\n",
       "      <td>T</td>\n",
       "      <td>469</td>\n",
       "      <td>824</td>\n",
       "    </tr>\n",
       "    <tr>\n",
       "      <th>3</th>\n",
       "      <td>38875</td>\n",
       "      <td>7.58</td>\n",
       "      <td>T</td>\n",
       "      <td>P</td>\n",
       "      <td>1223</td>\n",
       "      <td>863</td>\n",
       "    </tr>\n",
       "    <tr>\n",
       "      <th>4</th>\n",
       "      <td>38876</td>\n",
       "      <td>2.50</td>\n",
       "      <td>Z</td>\n",
       "      <td>Z</td>\n",
       "      <td>582</td>\n",
       "      <td>213</td>\n",
       "    </tr>\n",
       "  </tbody>\n",
       "</table>\n",
       "</div>"
      ],
      "text/plain": [
       "   game_id  time player0_species player1_species  event_count_0  event_count_1\n",
       "0    38872  7.06               P               P            571            715\n",
       "1    38873  6.07               Z               P            421            389\n",
       "2    38874  4.41               T               T            469            824\n",
       "3    38875  7.58               T               P           1223            863\n",
       "4    38876  2.50               Z               Z            582            213"
      ]
     },
     "execution_count": 19,
     "metadata": {
      "tags": []
     },
     "output_type": "execute_result"
    }
   ],
   "source": [
    "df_test.head()"
   ]
  },
  {
   "cell_type": "code",
   "execution_count": 0,
   "metadata": {
    "colab": {
     "base_uri": "https://localhost:8080/",
     "height": 204
    },
    "colab_type": "code",
    "executionInfo": {
     "elapsed": 27233,
     "status": "ok",
     "timestamp": 1585355978964,
     "user": {
      "displayName": "Chang Jun Yu",
      "photoUrl": "",
      "userId": "01350722000017054941"
     },
     "user_tz": -540
    },
    "id": "6qbcoiTLYGzw",
    "outputId": "709baccd-d0fb-453a-fd9b-228f0b15b276"
   },
   "outputs": [
    {
     "data": {
      "text/html": [
       "<div>\n",
       "<style scoped>\n",
       "    .dataframe tbody tr th:only-of-type {\n",
       "        vertical-align: middle;\n",
       "    }\n",
       "\n",
       "    .dataframe tbody tr th {\n",
       "        vertical-align: top;\n",
       "    }\n",
       "\n",
       "    .dataframe thead th {\n",
       "        text-align: right;\n",
       "    }\n",
       "</style>\n",
       "<table border=\"1\" class=\"dataframe\">\n",
       "  <thead>\n",
       "    <tr style=\"text-align: right;\">\n",
       "      <th></th>\n",
       "      <th>game_id</th>\n",
       "      <th>time</th>\n",
       "      <th>player0_species</th>\n",
       "      <th>player1_species</th>\n",
       "      <th>event_count_0</th>\n",
       "      <th>event_count_1</th>\n",
       "    </tr>\n",
       "  </thead>\n",
       "  <tbody>\n",
       "    <tr>\n",
       "      <th>0</th>\n",
       "      <td>0</td>\n",
       "      <td>7.24</td>\n",
       "      <td>T</td>\n",
       "      <td>T</td>\n",
       "      <td>592</td>\n",
       "      <td>548</td>\n",
       "    </tr>\n",
       "    <tr>\n",
       "      <th>1</th>\n",
       "      <td>1</td>\n",
       "      <td>9.59</td>\n",
       "      <td>P</td>\n",
       "      <td>T</td>\n",
       "      <td>1223</td>\n",
       "      <td>1211</td>\n",
       "    </tr>\n",
       "    <tr>\n",
       "      <th>2</th>\n",
       "      <td>2</td>\n",
       "      <td>9.59</td>\n",
       "      <td>P</td>\n",
       "      <td>Z</td>\n",
       "      <td>851</td>\n",
       "      <td>1371</td>\n",
       "    </tr>\n",
       "    <tr>\n",
       "      <th>3</th>\n",
       "      <td>3</td>\n",
       "      <td>9.59</td>\n",
       "      <td>T</td>\n",
       "      <td>P</td>\n",
       "      <td>1389</td>\n",
       "      <td>1622</td>\n",
       "    </tr>\n",
       "    <tr>\n",
       "      <th>4</th>\n",
       "      <td>4</td>\n",
       "      <td>5.43</td>\n",
       "      <td>T</td>\n",
       "      <td>Z</td>\n",
       "      <td>966</td>\n",
       "      <td>651</td>\n",
       "    </tr>\n",
       "  </tbody>\n",
       "</table>\n",
       "</div>"
      ],
      "text/plain": [
       "   game_id  time player0_species player1_species  event_count_0  event_count_1\n",
       "0        0  7.24               T               T            592            548\n",
       "1        1  9.59               P               T           1223           1211\n",
       "2        2  9.59               P               Z            851           1371\n",
       "3        3  9.59               T               P           1389           1622\n",
       "4        4  5.43               T               Z            966            651"
      ]
     },
     "execution_count": 20,
     "metadata": {
      "tags": []
     },
     "output_type": "execute_result"
    }
   ],
   "source": [
    "df_train.head()"
   ]
  },
  {
   "cell_type": "code",
   "execution_count": 0,
   "metadata": {
    "colab": {
     "base_uri": "https://localhost:8080/",
     "height": 35
    },
    "colab_type": "code",
    "executionInfo": {
     "elapsed": 74485,
     "status": "ok",
     "timestamp": 1585356594067,
     "user": {
      "displayName": "Chang Jun Yu",
      "photoUrl": "",
      "userId": "01350722000017054941"
     },
     "user_tz": -540
    },
    "id": "TXJGiOHVEduq",
    "outputId": "46ac6230-3cae-459c-9cbf-90701c3dc347"
   },
   "outputs": [
    {
     "name": "stderr",
     "output_type": "stream",
     "text": [
      "100%|██████████| 8/8 [01:10<00:00,  8.80s/it]\n"
     ]
    }
   ],
   "source": [
    "for event in tqdm(train.event.unique()):\n",
    "    df = train[(train.player==0)&(train.event==event)]\n",
    "    df = pd.DataFrame(df.game_id.value_counts()[df.game_id.unique()]).rename({'game_id':event+'_count_0'}, axis = 1)\n",
    "    df['game_id']= np.array(df.index)\n",
    "    df_train = pd.merge(df_train, df, on='game_id', how='left')\n",
    "\n",
    "    df = train[(train.player==1)&(train.event==event)]\n",
    "    df = pd.DataFrame(df.game_id.value_counts()[df.game_id.unique()]).rename({'game_id':event+'_count_1'}, axis = 1)\n",
    "    df['game_id']= np.array(df.index)\n",
    "    df_train = pd.merge(df_train, df, on='game_id', how='left')\n",
    "df_train = df_train.fillna(0)"
   ]
  },
  {
   "cell_type": "code",
   "execution_count": 0,
   "metadata": {
    "colab": {
     "base_uri": "https://localhost:8080/",
     "height": 35
    },
    "colab_type": "code",
    "executionInfo": {
     "elapsed": 104761,
     "status": "ok",
     "timestamp": 1585356624530,
     "user": {
      "displayName": "Chang Jun Yu",
      "photoUrl": "",
      "userId": "01350722000017054941"
     },
     "user_tz": -540
    },
    "id": "5EaW0h1LNld0",
    "outputId": "c41e62f8-7fe0-4908-ed75-8bed66af11c0"
   },
   "outputs": [
    {
     "name": "stderr",
     "output_type": "stream",
     "text": [
      "100%|██████████| 8/8 [00:29<00:00,  3.68s/it]\n"
     ]
    }
   ],
   "source": [
    "for event in tqdm(test.event.unique()):\n",
    "    df = test[(test.player==0)&(test.event==event)]\n",
    "    df = pd.DataFrame(df.game_id.value_counts()[df.game_id.unique()]).rename({'game_id':event+'_count_0'}, axis = 1)\n",
    "    df['game_id']= np.array(df.index)\n",
    "    df_test = pd.merge(df_test, df, on='game_id', how='left')\n",
    "\n",
    "    df = test[(test.player==1)&(test.event==event)]\n",
    "    df = pd.DataFrame(df.game_id.value_counts()[df.game_id.unique()]).rename({'game_id':event+'_count_1'}, axis = 1)\n",
    "    df['game_id']= np.array(df.index)\n",
    "    df_test = pd.merge(df_test, df, on='game_id', how='left')\n",
    "df_test = df_test.fillna(0)"
   ]
  },
  {
   "cell_type": "code",
   "execution_count": 0,
   "metadata": {
    "colab": {
     "base_uri": "https://localhost:8080/",
     "height": 35
    },
    "colab_type": "code",
    "executionInfo": {
     "elapsed": 3763,
     "status": "ok",
     "timestamp": 1585356628300,
     "user": {
      "displayName": "Chang Jun Yu",
      "photoUrl": "",
      "userId": "01350722000017054941"
     },
     "user_tz": -540
    },
    "id": "bY9SrOaUEi-y",
    "outputId": "0fe32f9a-f75b-4e1d-ce95-75d7d46106d3"
   },
   "outputs": [
    {
     "name": "stderr",
     "output_type": "stream",
     "text": [
      "100%|██████████| 8/8 [00:00<00:00, 199.38it/s]\n"
     ]
    }
   ],
   "source": [
    "for event in tqdm(train.event.unique()):\n",
    "    df_train[event + '_delta'] = df_train[event+'_count_0'] - df_train[event+'_count_1']"
   ]
  },
  {
   "cell_type": "code",
   "execution_count": 0,
   "metadata": {
    "colab": {
     "base_uri": "https://localhost:8080/",
     "height": 35
    },
    "colab_type": "code",
    "executionInfo": {
     "elapsed": 5103,
     "status": "ok",
     "timestamp": 1585356629649,
     "user": {
      "displayName": "Chang Jun Yu",
      "photoUrl": "",
      "userId": "01350722000017054941"
     },
     "user_tz": -540
    },
    "id": "GwRfxlgqOH-N",
    "outputId": "85b3ea5c-1c0d-4b49-ec97-ababd01b8b80"
   },
   "outputs": [
    {
     "name": "stderr",
     "output_type": "stream",
     "text": [
      "100%|██████████| 8/8 [00:00<00:00, 848.30it/s]\n"
     ]
    }
   ],
   "source": [
    "for event in tqdm(test.event.unique()):\n",
    "    df_test[event + '_delta'] = df_test[event+'_count_0'] - df_test[event+'_count_1']"
   ]
  },
  {
   "cell_type": "code",
   "execution_count": 0,
   "metadata": {
    "colab": {},
    "colab_type": "code",
    "id": "rngqVIu7ElIN"
   },
   "outputs": [],
   "source": [
    "df_train['winner'] = np.array(train[train.shift(-1).game_id != train.game_id].winner)"
   ]
  },
  {
   "cell_type": "code",
   "execution_count": 0,
   "metadata": {
    "colab": {},
    "colab_type": "code",
    "id": "_a2OhU6FEpFZ"
   },
   "outputs": [],
   "source": [
    "idx = df_train[df_train.player0_species=='T'].index\n",
    "df_train.loc[idx, 'player0_species'] = 0\n",
    "idx = df_train[df_train.player0_species=='P'].index\n",
    "df_train.loc[idx, 'player0_species'] = 1\n",
    "idx = df_train[df_train.player0_species=='Z'].index\n",
    "df_train.loc[idx, 'player0_species'] = 2\n",
    "\n",
    "idx = df_train[df_train.player1_species=='T'].index\n",
    "df_train.loc[idx, 'player1_species'] = 0\n",
    "idx = df_train[df_train.player1_species=='P'].index\n",
    "df_train.loc[idx, 'player1_species'] = 1\n",
    "idx = df_train[df_train.player1_species=='Z'].index\n",
    "df_train.loc[idx, 'player1_species'] = 2"
   ]
  },
  {
   "cell_type": "code",
   "execution_count": 0,
   "metadata": {
    "colab": {},
    "colab_type": "code",
    "id": "IfAu3KlROmig"
   },
   "outputs": [],
   "source": [
    "idx = df_test[df_test.player0_species=='T'].index\n",
    "df_test.loc[idx, 'player0_species'] = 0\n",
    "idx = df_test[df_test.player0_species=='P'].index\n",
    "df_test.loc[idx, 'player0_species'] = 1\n",
    "idx = df_test[df_test.player0_species=='Z'].index\n",
    "df_test.loc[idx, 'player0_species'] = 2\n",
    "\n",
    "idx = df_test[df_test.player1_species=='T'].index\n",
    "df_test.loc[idx, 'player1_species'] = 0\n",
    "idx = df_test[df_test.player1_species=='P'].index\n",
    "df_test.loc[idx, 'player1_species'] = 1\n",
    "idx = df_test[df_test.player1_species=='Z'].index\n",
    "df_test.loc[idx, 'player1_species'] = 2"
   ]
  },
  {
   "cell_type": "code",
   "execution_count": 0,
   "metadata": {
    "colab": {
     "base_uri": "https://localhost:8080/",
     "height": 241
    },
    "colab_type": "code",
    "executionInfo": {
     "elapsed": 1167,
     "status": "ok",
     "timestamp": 1585356701171,
     "user": {
      "displayName": "Chang Jun Yu",
      "photoUrl": "",
      "userId": "01350722000017054941"
     },
     "user_tz": -540
    },
    "id": "EBsjTwfmErvO",
    "outputId": "e81ee50c-d162-448c-89e2-87f4161760f6"
   },
   "outputs": [
    {
     "data": {
      "text/html": [
       "<div>\n",
       "<style scoped>\n",
       "    .dataframe tbody tr th:only-of-type {\n",
       "        vertical-align: middle;\n",
       "    }\n",
       "\n",
       "    .dataframe tbody tr th {\n",
       "        vertical-align: top;\n",
       "    }\n",
       "\n",
       "    .dataframe thead th {\n",
       "        text-align: right;\n",
       "    }\n",
       "</style>\n",
       "<table border=\"1\" class=\"dataframe\">\n",
       "  <thead>\n",
       "    <tr style=\"text-align: right;\">\n",
       "      <th></th>\n",
       "      <th>game_id</th>\n",
       "      <th>time</th>\n",
       "      <th>player0_species</th>\n",
       "      <th>player1_species</th>\n",
       "      <th>event_count_0</th>\n",
       "      <th>event_count_1</th>\n",
       "      <th>Camera_count_0</th>\n",
       "      <th>Camera_count_1</th>\n",
       "      <th>Selection_count_0</th>\n",
       "      <th>Selection_count_1</th>\n",
       "      <th>Ability_count_0</th>\n",
       "      <th>Ability_count_1</th>\n",
       "      <th>Right Click_count_0</th>\n",
       "      <th>Right Click_count_1</th>\n",
       "      <th>SetControlGroup_count_0</th>\n",
       "      <th>SetControlGroup_count_1</th>\n",
       "      <th>GetControlGroup_count_0</th>\n",
       "      <th>GetControlGroup_count_1</th>\n",
       "      <th>AddToControlGroup_count_0</th>\n",
       "      <th>AddToControlGroup_count_1</th>\n",
       "      <th>ControlGroup_count_0</th>\n",
       "      <th>ControlGroup_count_1</th>\n",
       "      <th>Camera_delta</th>\n",
       "      <th>Selection_delta</th>\n",
       "      <th>Ability_delta</th>\n",
       "      <th>Right Click_delta</th>\n",
       "      <th>SetControlGroup_delta</th>\n",
       "      <th>GetControlGroup_delta</th>\n",
       "      <th>AddToControlGroup_delta</th>\n",
       "      <th>ControlGroup_delta</th>\n",
       "      <th>winner</th>\n",
       "    </tr>\n",
       "  </thead>\n",
       "  <tbody>\n",
       "    <tr>\n",
       "      <th>0</th>\n",
       "      <td>0</td>\n",
       "      <td>7.24</td>\n",
       "      <td>0</td>\n",
       "      <td>0</td>\n",
       "      <td>592</td>\n",
       "      <td>548</td>\n",
       "      <td>444.0</td>\n",
       "      <td>425.0</td>\n",
       "      <td>50.0</td>\n",
       "      <td>57.0</td>\n",
       "      <td>34.0</td>\n",
       "      <td>34.0</td>\n",
       "      <td>35.0</td>\n",
       "      <td>28.0</td>\n",
       "      <td>3.0</td>\n",
       "      <td>1.0</td>\n",
       "      <td>24.0</td>\n",
       "      <td>3.0</td>\n",
       "      <td>2.0</td>\n",
       "      <td>0.0</td>\n",
       "      <td>0.0</td>\n",
       "      <td>0.0</td>\n",
       "      <td>19.0</td>\n",
       "      <td>-7.0</td>\n",
       "      <td>0.0</td>\n",
       "      <td>7.0</td>\n",
       "      <td>2.0</td>\n",
       "      <td>21.0</td>\n",
       "      <td>2.0</td>\n",
       "      <td>0.0</td>\n",
       "      <td>1</td>\n",
       "    </tr>\n",
       "    <tr>\n",
       "      <th>1</th>\n",
       "      <td>1</td>\n",
       "      <td>9.59</td>\n",
       "      <td>1</td>\n",
       "      <td>0</td>\n",
       "      <td>1223</td>\n",
       "      <td>1211</td>\n",
       "      <td>627.0</td>\n",
       "      <td>858.0</td>\n",
       "      <td>186.0</td>\n",
       "      <td>116.0</td>\n",
       "      <td>77.0</td>\n",
       "      <td>67.0</td>\n",
       "      <td>160.0</td>\n",
       "      <td>131.0</td>\n",
       "      <td>10.0</td>\n",
       "      <td>8.0</td>\n",
       "      <td>162.0</td>\n",
       "      <td>31.0</td>\n",
       "      <td>1.0</td>\n",
       "      <td>0.0</td>\n",
       "      <td>0.0</td>\n",
       "      <td>0.0</td>\n",
       "      <td>-231.0</td>\n",
       "      <td>70.0</td>\n",
       "      <td>10.0</td>\n",
       "      <td>29.0</td>\n",
       "      <td>2.0</td>\n",
       "      <td>131.0</td>\n",
       "      <td>1.0</td>\n",
       "      <td>0.0</td>\n",
       "      <td>1</td>\n",
       "    </tr>\n",
       "    <tr>\n",
       "      <th>2</th>\n",
       "      <td>2</td>\n",
       "      <td>9.59</td>\n",
       "      <td>1</td>\n",
       "      <td>2</td>\n",
       "      <td>851</td>\n",
       "      <td>1371</td>\n",
       "      <td>413.0</td>\n",
       "      <td>725.0</td>\n",
       "      <td>90.0</td>\n",
       "      <td>232.0</td>\n",
       "      <td>69.0</td>\n",
       "      <td>85.0</td>\n",
       "      <td>160.0</td>\n",
       "      <td>204.0</td>\n",
       "      <td>14.0</td>\n",
       "      <td>9.0</td>\n",
       "      <td>99.0</td>\n",
       "      <td>109.0</td>\n",
       "      <td>6.0</td>\n",
       "      <td>5.0</td>\n",
       "      <td>0.0</td>\n",
       "      <td>2.0</td>\n",
       "      <td>-312.0</td>\n",
       "      <td>-142.0</td>\n",
       "      <td>-16.0</td>\n",
       "      <td>-44.0</td>\n",
       "      <td>5.0</td>\n",
       "      <td>-10.0</td>\n",
       "      <td>1.0</td>\n",
       "      <td>-2.0</td>\n",
       "      <td>0</td>\n",
       "    </tr>\n",
       "    <tr>\n",
       "      <th>3</th>\n",
       "      <td>3</td>\n",
       "      <td>9.59</td>\n",
       "      <td>0</td>\n",
       "      <td>1</td>\n",
       "      <td>1389</td>\n",
       "      <td>1622</td>\n",
       "      <td>713.0</td>\n",
       "      <td>388.0</td>\n",
       "      <td>180.0</td>\n",
       "      <td>148.0</td>\n",
       "      <td>82.0</td>\n",
       "      <td>89.0</td>\n",
       "      <td>276.0</td>\n",
       "      <td>268.0</td>\n",
       "      <td>6.0</td>\n",
       "      <td>19.0</td>\n",
       "      <td>132.0</td>\n",
       "      <td>710.0</td>\n",
       "      <td>0.0</td>\n",
       "      <td>0.0</td>\n",
       "      <td>0.0</td>\n",
       "      <td>0.0</td>\n",
       "      <td>325.0</td>\n",
       "      <td>32.0</td>\n",
       "      <td>-7.0</td>\n",
       "      <td>8.0</td>\n",
       "      <td>-13.0</td>\n",
       "      <td>-578.0</td>\n",
       "      <td>0.0</td>\n",
       "      <td>0.0</td>\n",
       "      <td>0</td>\n",
       "    </tr>\n",
       "    <tr>\n",
       "      <th>4</th>\n",
       "      <td>4</td>\n",
       "      <td>5.43</td>\n",
       "      <td>0</td>\n",
       "      <td>2</td>\n",
       "      <td>966</td>\n",
       "      <td>651</td>\n",
       "      <td>430.0</td>\n",
       "      <td>272.0</td>\n",
       "      <td>67.0</td>\n",
       "      <td>126.0</td>\n",
       "      <td>57.0</td>\n",
       "      <td>36.0</td>\n",
       "      <td>177.0</td>\n",
       "      <td>106.0</td>\n",
       "      <td>10.0</td>\n",
       "      <td>8.0</td>\n",
       "      <td>224.0</td>\n",
       "      <td>99.0</td>\n",
       "      <td>1.0</td>\n",
       "      <td>4.0</td>\n",
       "      <td>0.0</td>\n",
       "      <td>0.0</td>\n",
       "      <td>158.0</td>\n",
       "      <td>-59.0</td>\n",
       "      <td>21.0</td>\n",
       "      <td>71.0</td>\n",
       "      <td>2.0</td>\n",
       "      <td>125.0</td>\n",
       "      <td>-3.0</td>\n",
       "      <td>0.0</td>\n",
       "      <td>0</td>\n",
       "    </tr>\n",
       "  </tbody>\n",
       "</table>\n",
       "</div>"
      ],
      "text/plain": [
       "   game_id  time  ...  ControlGroup_delta  winner\n",
       "0        0  7.24  ...                 0.0       1\n",
       "1        1  9.59  ...                 0.0       1\n",
       "2        2  9.59  ...                -2.0       0\n",
       "3        3  9.59  ...                 0.0       0\n",
       "4        4  5.43  ...                 0.0       0\n",
       "\n",
       "[5 rows x 31 columns]"
      ]
     },
     "execution_count": 30,
     "metadata": {
      "tags": []
     },
     "output_type": "execute_result"
    }
   ],
   "source": [
    "df_train.head()"
   ]
  },
  {
   "cell_type": "code",
   "execution_count": 0,
   "metadata": {
    "colab": {
     "base_uri": "https://localhost:8080/",
     "height": 241
    },
    "colab_type": "code",
    "executionInfo": {
     "elapsed": 1001,
     "status": "ok",
     "timestamp": 1585356701171,
     "user": {
      "displayName": "Chang Jun Yu",
      "photoUrl": "",
      "userId": "01350722000017054941"
     },
     "user_tz": -540
    },
    "id": "JK5bUvSNPEg-",
    "outputId": "fd1c948a-8718-44bb-a4cb-af3e36bf852b"
   },
   "outputs": [
    {
     "data": {
      "text/html": [
       "<div>\n",
       "<style scoped>\n",
       "    .dataframe tbody tr th:only-of-type {\n",
       "        vertical-align: middle;\n",
       "    }\n",
       "\n",
       "    .dataframe tbody tr th {\n",
       "        vertical-align: top;\n",
       "    }\n",
       "\n",
       "    .dataframe thead th {\n",
       "        text-align: right;\n",
       "    }\n",
       "</style>\n",
       "<table border=\"1\" class=\"dataframe\">\n",
       "  <thead>\n",
       "    <tr style=\"text-align: right;\">\n",
       "      <th></th>\n",
       "      <th>game_id</th>\n",
       "      <th>time</th>\n",
       "      <th>player0_species</th>\n",
       "      <th>player1_species</th>\n",
       "      <th>event_count_0</th>\n",
       "      <th>event_count_1</th>\n",
       "      <th>Camera_count_0</th>\n",
       "      <th>Camera_count_1</th>\n",
       "      <th>Selection_count_0</th>\n",
       "      <th>Selection_count_1</th>\n",
       "      <th>Ability_count_0</th>\n",
       "      <th>Ability_count_1</th>\n",
       "      <th>AddToControlGroup_count_0</th>\n",
       "      <th>AddToControlGroup_count_1</th>\n",
       "      <th>SetControlGroup_count_0</th>\n",
       "      <th>SetControlGroup_count_1</th>\n",
       "      <th>Right Click_count_0</th>\n",
       "      <th>Right Click_count_1</th>\n",
       "      <th>GetControlGroup_count_0</th>\n",
       "      <th>GetControlGroup_count_1</th>\n",
       "      <th>ControlGroup_count_0</th>\n",
       "      <th>ControlGroup_count_1</th>\n",
       "      <th>Camera_delta</th>\n",
       "      <th>Selection_delta</th>\n",
       "      <th>Ability_delta</th>\n",
       "      <th>AddToControlGroup_delta</th>\n",
       "      <th>SetControlGroup_delta</th>\n",
       "      <th>Right Click_delta</th>\n",
       "      <th>GetControlGroup_delta</th>\n",
       "      <th>ControlGroup_delta</th>\n",
       "    </tr>\n",
       "  </thead>\n",
       "  <tbody>\n",
       "    <tr>\n",
       "      <th>0</th>\n",
       "      <td>38872</td>\n",
       "      <td>7.06</td>\n",
       "      <td>1</td>\n",
       "      <td>1</td>\n",
       "      <td>571</td>\n",
       "      <td>715</td>\n",
       "      <td>232.0</td>\n",
       "      <td>467.0</td>\n",
       "      <td>52.0</td>\n",
       "      <td>41.0</td>\n",
       "      <td>31.0</td>\n",
       "      <td>38.0</td>\n",
       "      <td>1.0</td>\n",
       "      <td>4.0</td>\n",
       "      <td>5.0</td>\n",
       "      <td>0.0</td>\n",
       "      <td>241.0</td>\n",
       "      <td>122.0</td>\n",
       "      <td>9.0</td>\n",
       "      <td>43.0</td>\n",
       "      <td>0.0</td>\n",
       "      <td>0.0</td>\n",
       "      <td>-235.0</td>\n",
       "      <td>11.0</td>\n",
       "      <td>-7.0</td>\n",
       "      <td>-3.0</td>\n",
       "      <td>5.0</td>\n",
       "      <td>119.0</td>\n",
       "      <td>-34.0</td>\n",
       "      <td>0.0</td>\n",
       "    </tr>\n",
       "    <tr>\n",
       "      <th>1</th>\n",
       "      <td>38873</td>\n",
       "      <td>6.07</td>\n",
       "      <td>2</td>\n",
       "      <td>1</td>\n",
       "      <td>421</td>\n",
       "      <td>389</td>\n",
       "      <td>200.0</td>\n",
       "      <td>146.0</td>\n",
       "      <td>114.0</td>\n",
       "      <td>19.0</td>\n",
       "      <td>34.0</td>\n",
       "      <td>28.0</td>\n",
       "      <td>0.0</td>\n",
       "      <td>1.0</td>\n",
       "      <td>0.0</td>\n",
       "      <td>5.0</td>\n",
       "      <td>51.0</td>\n",
       "      <td>68.0</td>\n",
       "      <td>18.0</td>\n",
       "      <td>122.0</td>\n",
       "      <td>4.0</td>\n",
       "      <td>0.0</td>\n",
       "      <td>54.0</td>\n",
       "      <td>95.0</td>\n",
       "      <td>6.0</td>\n",
       "      <td>-1.0</td>\n",
       "      <td>-5.0</td>\n",
       "      <td>-17.0</td>\n",
       "      <td>-104.0</td>\n",
       "      <td>4.0</td>\n",
       "    </tr>\n",
       "    <tr>\n",
       "      <th>2</th>\n",
       "      <td>38874</td>\n",
       "      <td>4.41</td>\n",
       "      <td>0</td>\n",
       "      <td>0</td>\n",
       "      <td>469</td>\n",
       "      <td>824</td>\n",
       "      <td>245.0</td>\n",
       "      <td>220.0</td>\n",
       "      <td>42.0</td>\n",
       "      <td>36.0</td>\n",
       "      <td>33.0</td>\n",
       "      <td>29.0</td>\n",
       "      <td>0.0</td>\n",
       "      <td>0.0</td>\n",
       "      <td>7.0</td>\n",
       "      <td>5.0</td>\n",
       "      <td>79.0</td>\n",
       "      <td>108.0</td>\n",
       "      <td>63.0</td>\n",
       "      <td>426.0</td>\n",
       "      <td>0.0</td>\n",
       "      <td>0.0</td>\n",
       "      <td>25.0</td>\n",
       "      <td>6.0</td>\n",
       "      <td>4.0</td>\n",
       "      <td>0.0</td>\n",
       "      <td>2.0</td>\n",
       "      <td>-29.0</td>\n",
       "      <td>-363.0</td>\n",
       "      <td>0.0</td>\n",
       "    </tr>\n",
       "    <tr>\n",
       "      <th>3</th>\n",
       "      <td>38875</td>\n",
       "      <td>7.58</td>\n",
       "      <td>0</td>\n",
       "      <td>1</td>\n",
       "      <td>1223</td>\n",
       "      <td>863</td>\n",
       "      <td>515.0</td>\n",
       "      <td>357.0</td>\n",
       "      <td>123.0</td>\n",
       "      <td>99.0</td>\n",
       "      <td>95.0</td>\n",
       "      <td>58.0</td>\n",
       "      <td>8.0</td>\n",
       "      <td>1.0</td>\n",
       "      <td>9.0</td>\n",
       "      <td>2.0</td>\n",
       "      <td>218.0</td>\n",
       "      <td>322.0</td>\n",
       "      <td>255.0</td>\n",
       "      <td>24.0</td>\n",
       "      <td>0.0</td>\n",
       "      <td>0.0</td>\n",
       "      <td>158.0</td>\n",
       "      <td>24.0</td>\n",
       "      <td>37.0</td>\n",
       "      <td>7.0</td>\n",
       "      <td>7.0</td>\n",
       "      <td>-104.0</td>\n",
       "      <td>231.0</td>\n",
       "      <td>0.0</td>\n",
       "    </tr>\n",
       "    <tr>\n",
       "      <th>4</th>\n",
       "      <td>38876</td>\n",
       "      <td>2.50</td>\n",
       "      <td>2</td>\n",
       "      <td>2</td>\n",
       "      <td>582</td>\n",
       "      <td>213</td>\n",
       "      <td>129.0</td>\n",
       "      <td>161.0</td>\n",
       "      <td>25.0</td>\n",
       "      <td>35.0</td>\n",
       "      <td>7.0</td>\n",
       "      <td>8.0</td>\n",
       "      <td>2.0</td>\n",
       "      <td>0.0</td>\n",
       "      <td>2.0</td>\n",
       "      <td>1.0</td>\n",
       "      <td>30.0</td>\n",
       "      <td>7.0</td>\n",
       "      <td>387.0</td>\n",
       "      <td>1.0</td>\n",
       "      <td>0.0</td>\n",
       "      <td>0.0</td>\n",
       "      <td>-32.0</td>\n",
       "      <td>-10.0</td>\n",
       "      <td>-1.0</td>\n",
       "      <td>2.0</td>\n",
       "      <td>1.0</td>\n",
       "      <td>23.0</td>\n",
       "      <td>386.0</td>\n",
       "      <td>0.0</td>\n",
       "    </tr>\n",
       "  </tbody>\n",
       "</table>\n",
       "</div>"
      ],
      "text/plain": [
       "   game_id  time  ...  GetControlGroup_delta  ControlGroup_delta\n",
       "0    38872  7.06  ...                  -34.0                 0.0\n",
       "1    38873  6.07  ...                 -104.0                 4.0\n",
       "2    38874  4.41  ...                 -363.0                 0.0\n",
       "3    38875  7.58  ...                  231.0                 0.0\n",
       "4    38876  2.50  ...                  386.0                 0.0\n",
       "\n",
       "[5 rows x 30 columns]"
      ]
     },
     "execution_count": 31,
     "metadata": {
      "tags": []
     },
     "output_type": "execute_result"
    }
   ],
   "source": [
    "df_test.head()"
   ]
  },
  {
   "cell_type": "code",
   "execution_count": 0,
   "metadata": {
    "colab": {
     "base_uri": "https://localhost:8080/",
     "height": 35
    },
    "colab_type": "code",
    "executionInfo": {
     "elapsed": 788,
     "status": "ok",
     "timestamp": 1585356705362,
     "user": {
      "displayName": "Chang Jun Yu",
      "photoUrl": "",
      "userId": "01350722000017054941"
     },
     "user_tz": -540
    },
    "id": "yBzmnwjwvtU4",
    "outputId": "7c99a01c-6d62-4fcd-fbd4-32398a159885"
   },
   "outputs": [
    {
     "data": {
      "text/plain": [
       "(38872, 31)"
      ]
     },
     "execution_count": 32,
     "metadata": {
      "tags": []
     },
     "output_type": "execute_result"
    }
   ],
   "source": [
    "df_train.shape"
   ]
  },
  {
   "cell_type": "code",
   "execution_count": 0,
   "metadata": {
    "colab": {
     "base_uri": "https://localhost:8080/",
     "height": 35
    },
    "colab_type": "code",
    "executionInfo": {
     "elapsed": 917,
     "status": "ok",
     "timestamp": 1585356713864,
     "user": {
      "displayName": "Chang Jun Yu",
      "photoUrl": "",
      "userId": "01350722000017054941"
     },
     "user_tz": -540
    },
    "id": "Y24geNLNn5a7",
    "outputId": "aea26113-cefe-47fe-d815-46e63dfb4998"
   },
   "outputs": [
    {
     "data": {
      "text/plain": [
       "(16787, 30)"
      ]
     },
     "execution_count": 33,
     "metadata": {
      "tags": []
     },
     "output_type": "execute_result"
    }
   ],
   "source": [
    "df_test.shape"
   ]
  },
  {
   "cell_type": "code",
   "execution_count": 0,
   "metadata": {
    "colab": {
     "base_uri": "https://localhost:8080/",
     "height": 241
    },
    "colab_type": "code",
    "executionInfo": {
     "elapsed": 993,
     "status": "ok",
     "timestamp": 1585356738559,
     "user": {
      "displayName": "Chang Jun Yu",
      "photoUrl": "",
      "userId": "01350722000017054941"
     },
     "user_tz": -540
    },
    "id": "TZ3Jo2dqgUvI",
    "outputId": "a2640e30-845c-4c75-8b5f-76dee1c70e57"
   },
   "outputs": [
    {
     "data": {
      "text/html": [
       "<div>\n",
       "<style scoped>\n",
       "    .dataframe tbody tr th:only-of-type {\n",
       "        vertical-align: middle;\n",
       "    }\n",
       "\n",
       "    .dataframe tbody tr th {\n",
       "        vertical-align: top;\n",
       "    }\n",
       "\n",
       "    .dataframe thead th {\n",
       "        text-align: right;\n",
       "    }\n",
       "</style>\n",
       "<table border=\"1\" class=\"dataframe\">\n",
       "  <thead>\n",
       "    <tr style=\"text-align: right;\">\n",
       "      <th></th>\n",
       "      <th>game_id</th>\n",
       "      <th>time</th>\n",
       "      <th>player0_species</th>\n",
       "      <th>player1_species</th>\n",
       "      <th>event_count_0</th>\n",
       "      <th>event_count_1</th>\n",
       "      <th>Camera_count_0</th>\n",
       "      <th>Camera_count_1</th>\n",
       "      <th>Selection_count_0</th>\n",
       "      <th>Selection_count_1</th>\n",
       "      <th>Ability_count_0</th>\n",
       "      <th>Ability_count_1</th>\n",
       "      <th>Right Click_count_0</th>\n",
       "      <th>Right Click_count_1</th>\n",
       "      <th>SetControlGroup_count_0</th>\n",
       "      <th>SetControlGroup_count_1</th>\n",
       "      <th>GetControlGroup_count_0</th>\n",
       "      <th>GetControlGroup_count_1</th>\n",
       "      <th>AddToControlGroup_count_0</th>\n",
       "      <th>AddToControlGroup_count_1</th>\n",
       "      <th>ControlGroup_count_0</th>\n",
       "      <th>ControlGroup_count_1</th>\n",
       "      <th>Camera_delta</th>\n",
       "      <th>Selection_delta</th>\n",
       "      <th>Ability_delta</th>\n",
       "      <th>Right Click_delta</th>\n",
       "      <th>SetControlGroup_delta</th>\n",
       "      <th>GetControlGroup_delta</th>\n",
       "      <th>AddToControlGroup_delta</th>\n",
       "      <th>ControlGroup_delta</th>\n",
       "    </tr>\n",
       "  </thead>\n",
       "  <tbody>\n",
       "    <tr>\n",
       "      <th>0</th>\n",
       "      <td>0</td>\n",
       "      <td>7.24</td>\n",
       "      <td>0</td>\n",
       "      <td>0</td>\n",
       "      <td>592</td>\n",
       "      <td>548</td>\n",
       "      <td>444.0</td>\n",
       "      <td>425.0</td>\n",
       "      <td>50.0</td>\n",
       "      <td>57.0</td>\n",
       "      <td>34.0</td>\n",
       "      <td>34.0</td>\n",
       "      <td>35.0</td>\n",
       "      <td>28.0</td>\n",
       "      <td>3.0</td>\n",
       "      <td>1.0</td>\n",
       "      <td>24.0</td>\n",
       "      <td>3.0</td>\n",
       "      <td>2.0</td>\n",
       "      <td>0.0</td>\n",
       "      <td>0.0</td>\n",
       "      <td>0.0</td>\n",
       "      <td>19.0</td>\n",
       "      <td>-7.0</td>\n",
       "      <td>0.0</td>\n",
       "      <td>7.0</td>\n",
       "      <td>2.0</td>\n",
       "      <td>21.0</td>\n",
       "      <td>2.0</td>\n",
       "      <td>0.0</td>\n",
       "    </tr>\n",
       "    <tr>\n",
       "      <th>1</th>\n",
       "      <td>1</td>\n",
       "      <td>9.59</td>\n",
       "      <td>1</td>\n",
       "      <td>0</td>\n",
       "      <td>1223</td>\n",
       "      <td>1211</td>\n",
       "      <td>627.0</td>\n",
       "      <td>858.0</td>\n",
       "      <td>186.0</td>\n",
       "      <td>116.0</td>\n",
       "      <td>77.0</td>\n",
       "      <td>67.0</td>\n",
       "      <td>160.0</td>\n",
       "      <td>131.0</td>\n",
       "      <td>10.0</td>\n",
       "      <td>8.0</td>\n",
       "      <td>162.0</td>\n",
       "      <td>31.0</td>\n",
       "      <td>1.0</td>\n",
       "      <td>0.0</td>\n",
       "      <td>0.0</td>\n",
       "      <td>0.0</td>\n",
       "      <td>-231.0</td>\n",
       "      <td>70.0</td>\n",
       "      <td>10.0</td>\n",
       "      <td>29.0</td>\n",
       "      <td>2.0</td>\n",
       "      <td>131.0</td>\n",
       "      <td>1.0</td>\n",
       "      <td>0.0</td>\n",
       "    </tr>\n",
       "    <tr>\n",
       "      <th>2</th>\n",
       "      <td>2</td>\n",
       "      <td>9.59</td>\n",
       "      <td>1</td>\n",
       "      <td>2</td>\n",
       "      <td>851</td>\n",
       "      <td>1371</td>\n",
       "      <td>413.0</td>\n",
       "      <td>725.0</td>\n",
       "      <td>90.0</td>\n",
       "      <td>232.0</td>\n",
       "      <td>69.0</td>\n",
       "      <td>85.0</td>\n",
       "      <td>160.0</td>\n",
       "      <td>204.0</td>\n",
       "      <td>14.0</td>\n",
       "      <td>9.0</td>\n",
       "      <td>99.0</td>\n",
       "      <td>109.0</td>\n",
       "      <td>6.0</td>\n",
       "      <td>5.0</td>\n",
       "      <td>0.0</td>\n",
       "      <td>2.0</td>\n",
       "      <td>-312.0</td>\n",
       "      <td>-142.0</td>\n",
       "      <td>-16.0</td>\n",
       "      <td>-44.0</td>\n",
       "      <td>5.0</td>\n",
       "      <td>-10.0</td>\n",
       "      <td>1.0</td>\n",
       "      <td>-2.0</td>\n",
       "    </tr>\n",
       "    <tr>\n",
       "      <th>3</th>\n",
       "      <td>3</td>\n",
       "      <td>9.59</td>\n",
       "      <td>0</td>\n",
       "      <td>1</td>\n",
       "      <td>1389</td>\n",
       "      <td>1622</td>\n",
       "      <td>713.0</td>\n",
       "      <td>388.0</td>\n",
       "      <td>180.0</td>\n",
       "      <td>148.0</td>\n",
       "      <td>82.0</td>\n",
       "      <td>89.0</td>\n",
       "      <td>276.0</td>\n",
       "      <td>268.0</td>\n",
       "      <td>6.0</td>\n",
       "      <td>19.0</td>\n",
       "      <td>132.0</td>\n",
       "      <td>710.0</td>\n",
       "      <td>0.0</td>\n",
       "      <td>0.0</td>\n",
       "      <td>0.0</td>\n",
       "      <td>0.0</td>\n",
       "      <td>325.0</td>\n",
       "      <td>32.0</td>\n",
       "      <td>-7.0</td>\n",
       "      <td>8.0</td>\n",
       "      <td>-13.0</td>\n",
       "      <td>-578.0</td>\n",
       "      <td>0.0</td>\n",
       "      <td>0.0</td>\n",
       "    </tr>\n",
       "    <tr>\n",
       "      <th>4</th>\n",
       "      <td>4</td>\n",
       "      <td>5.43</td>\n",
       "      <td>0</td>\n",
       "      <td>2</td>\n",
       "      <td>966</td>\n",
       "      <td>651</td>\n",
       "      <td>430.0</td>\n",
       "      <td>272.0</td>\n",
       "      <td>67.0</td>\n",
       "      <td>126.0</td>\n",
       "      <td>57.0</td>\n",
       "      <td>36.0</td>\n",
       "      <td>177.0</td>\n",
       "      <td>106.0</td>\n",
       "      <td>10.0</td>\n",
       "      <td>8.0</td>\n",
       "      <td>224.0</td>\n",
       "      <td>99.0</td>\n",
       "      <td>1.0</td>\n",
       "      <td>4.0</td>\n",
       "      <td>0.0</td>\n",
       "      <td>0.0</td>\n",
       "      <td>158.0</td>\n",
       "      <td>-59.0</td>\n",
       "      <td>21.0</td>\n",
       "      <td>71.0</td>\n",
       "      <td>2.0</td>\n",
       "      <td>125.0</td>\n",
       "      <td>-3.0</td>\n",
       "      <td>0.0</td>\n",
       "    </tr>\n",
       "  </tbody>\n",
       "</table>\n",
       "</div>"
      ],
      "text/plain": [
       "   game_id  time  ...  AddToControlGroup_delta  ControlGroup_delta\n",
       "0        0  7.24  ...                      2.0                 0.0\n",
       "1        1  9.59  ...                      1.0                 0.0\n",
       "2        2  9.59  ...                      1.0                -2.0\n",
       "3        3  9.59  ...                      0.0                 0.0\n",
       "4        4  5.43  ...                     -3.0                 0.0\n",
       "\n",
       "[5 rows x 30 columns]"
      ]
     },
     "execution_count": 34,
     "metadata": {
      "tags": []
     },
     "output_type": "execute_result"
    }
   ],
   "source": [
    "x_train = df_train.iloc[:, :-1]\n",
    "x_train.head()"
   ]
  },
  {
   "cell_type": "code",
   "execution_count": 0,
   "metadata": {
    "colab": {
     "base_uri": "https://localhost:8080/",
     "height": 35
    },
    "colab_type": "code",
    "executionInfo": {
     "elapsed": 807,
     "status": "ok",
     "timestamp": 1585356738560,
     "user": {
      "displayName": "Chang Jun Yu",
      "photoUrl": "",
      "userId": "01350722000017054941"
     },
     "user_tz": -540
    },
    "id": "gl8Rw9Fdh26X",
    "outputId": "a78fdca8-987f-476e-aaa7-c43824306fb1"
   },
   "outputs": [
    {
     "data": {
      "text/plain": [
       "(38872, 30)"
      ]
     },
     "execution_count": 35,
     "metadata": {
      "tags": []
     },
     "output_type": "execute_result"
    }
   ],
   "source": [
    "x_train.shape"
   ]
  },
  {
   "cell_type": "code",
   "execution_count": 0,
   "metadata": {
    "colab": {
     "base_uri": "https://localhost:8080/",
     "height": 125
    },
    "colab_type": "code",
    "executionInfo": {
     "elapsed": 604,
     "status": "ok",
     "timestamp": 1585356738560,
     "user": {
      "displayName": "Chang Jun Yu",
      "photoUrl": "",
      "userId": "01350722000017054941"
     },
     "user_tz": -540
    },
    "id": "AaZnnAl8LUgO",
    "outputId": "44d00c66-6292-439a-99eb-dcd6b08d66b8"
   },
   "outputs": [
    {
     "data": {
      "text/plain": [
       "0    1\n",
       "1    1\n",
       "2    0\n",
       "3    0\n",
       "4    0\n",
       "Name: winner, dtype: int64"
      ]
     },
     "execution_count": 36,
     "metadata": {
      "tags": []
     },
     "output_type": "execute_result"
    }
   ],
   "source": [
    "y_train = df_train.iloc[:, -1]\n",
    "y_train.head()"
   ]
  },
  {
   "cell_type": "code",
   "execution_count": 0,
   "metadata": {
    "colab": {},
    "colab_type": "code",
    "id": "_MwVjvutg9J3"
   },
   "outputs": [],
   "source": [
    "y_train = np.array(y_train)"
   ]
  },
  {
   "cell_type": "code",
   "execution_count": 0,
   "metadata": {
    "colab": {
     "base_uri": "https://localhost:8080/",
     "height": 35
    },
    "colab_type": "code",
    "executionInfo": {
     "elapsed": 907,
     "status": "ok",
     "timestamp": 1585356741715,
     "user": {
      "displayName": "Chang Jun Yu",
      "photoUrl": "",
      "userId": "01350722000017054941"
     },
     "user_tz": -540
    },
    "id": "m6Gko8DWg-D8",
    "outputId": "35099031-83b2-46f0-b110-03c5d9f350f6"
   },
   "outputs": [
    {
     "data": {
      "text/plain": [
       "array([1, 1, 0, ..., 0, 1, 0])"
      ]
     },
     "execution_count": 38,
     "metadata": {
      "tags": []
     },
     "output_type": "execute_result"
    }
   ],
   "source": [
    "y_train"
   ]
  },
  {
   "cell_type": "markdown",
   "metadata": {
    "colab_type": "text",
    "id": "0oq9DS4kjK0_"
   },
   "source": [
    "# XGBoost 적용하기"
   ]
  },
  {
   "cell_type": "code",
   "execution_count": 0,
   "metadata": {
    "colab": {},
    "colab_type": "code",
    "id": "wVbpLkHqg-B-"
   },
   "outputs": [],
   "source": [
    "# XGBClassifier\n",
    "# 반드시 튜닝해야할 파라미터는 max_depth / gamma\n",
    "\n",
    "def XGB_cv( max_depth, \n",
    "            learning_rate, \n",
    "            subsample, \n",
    "            colsample_bytree, \n",
    "            reg_alpha, \n",
    "            reg_lambda, \n",
    "            gamma, \n",
    "            max_delta_step, \n",
    "            x_data=None, \n",
    "            y_data=None, \n",
    "            n_splits=5, \n",
    "            output='score'\n",
    "        ):\n",
    "    \n",
    "    score = 0\n",
    "    kf = KFold(n_splits = n_splits)\n",
    "    models = []\n",
    "    for train_index, valid_index in kf.split(x_data):\n",
    "        x_train, y_train = x_data.iloc[train_index], y_data[train_index]\n",
    "        x_valid, y_valid = x_data.iloc[valid_index], y_data[valid_index]\n",
    "\n",
    "        model = xgb.XGBClassifier(\n",
    "            # booster = 'dart',\n",
    "            max_depth = int(max_depth),\n",
    "            # n_estimators = int(n_estimators),\n",
    "            learning_rate = learning_rate,\n",
    "            subsample = np.clip(subsample, 0, 1),\n",
    "            # colsample_bynode = np.clip(colsample_bynode, 0, 1),\n",
    "            colsample_bytree = np.clip(colsample_bytree, 0, 1),\n",
    "            reg_alpha = reg_alpha,\n",
    "            reg_lambda = reg_lambda,\n",
    "            gamma = gamma,\n",
    "            max_delta_step = max_delta_step,\n",
    "        )\n",
    "\n",
    "        model.fit(x_train, y_train)\n",
    "        models.append(model)\n",
    "\n",
    "        pred = model.predict_proba(x_valid)[:, 1]\n",
    "        true = y_valid\n",
    "        score += roc_auc_score(true, pred) / n_splits\n",
    "\n",
    "    if output == 'score':\n",
    "        return score\n",
    "    if output == 'model':\n",
    "        return models"
   ]
  },
  {
   "cell_type": "code",
   "execution_count": 0,
   "metadata": {
    "colab": {
     "base_uri": "https://localhost:8080/",
     "height": 899
    },
    "colab_type": "code",
    "executionInfo": {
     "elapsed": 12463427,
     "status": "ok",
     "timestamp": 1585323935601,
     "user": {
      "displayName": "Chang Jun Yu",
      "photoUrl": "",
      "userId": "01350722000017054941"
     },
     "user_tz": -540
    },
    "id": "I3701t6kg9_0",
    "outputId": "770808b4-ab55-4b3c-8093-bf63338f59ca"
   },
   "outputs": [
    {
     "name": "stdout",
     "output_type": "stream",
     "text": [
      "|   iter    |  target   | colsam... |   gamma   | learni... | max_de... | max_depth | reg_alpha | reg_la... | subsample |\n",
      "-------------------------------------------------------------------------------------------------------------------------\n",
      "| \u001b[0m 1       \u001b[0m | \u001b[0m 0.641   \u001b[0m | \u001b[0m 0.5165  \u001b[0m | \u001b[0m 15.61   \u001b[0m | \u001b[0m 0.2778  \u001b[0m | \u001b[0m 19.44   \u001b[0m | \u001b[0m 379.4   \u001b[0m | \u001b[0m 16.86   \u001b[0m | \u001b[0m 47.84   \u001b[0m | \u001b[0m 0.6544  \u001b[0m |\n",
      "| \u001b[95m 2       \u001b[0m | \u001b[95m 0.6429  \u001b[0m | \u001b[95m 0.7431  \u001b[0m | \u001b[95m 11.1    \u001b[0m | \u001b[95m 0.2601  \u001b[0m | \u001b[95m 6.099   \u001b[0m | \u001b[95m 105.6   \u001b[0m | \u001b[95m 20.0    \u001b[0m | \u001b[95m 33.82   \u001b[0m | \u001b[95m 0.5992  \u001b[0m |\n",
      "| \u001b[95m 3       \u001b[0m | \u001b[95m 0.6491  \u001b[0m | \u001b[95m 0.9922  \u001b[0m | \u001b[95m 9.382   \u001b[0m | \u001b[95m 0.3212  \u001b[0m | \u001b[95m 19.21   \u001b[0m | \u001b[95m 171.7   \u001b[0m | \u001b[95m 8.512   \u001b[0m | \u001b[95m 18.57   \u001b[0m | \u001b[95m 0.7829  \u001b[0m |\n",
      "| \u001b[0m 4       \u001b[0m | \u001b[0m 0.6459  \u001b[0m | \u001b[0m 0.8146  \u001b[0m | \u001b[0m 11.11   \u001b[0m | \u001b[0m 0.3454  \u001b[0m | \u001b[0m 22.34   \u001b[0m | \u001b[0m 397.8   \u001b[0m | \u001b[0m 12.26   \u001b[0m | \u001b[0m 27.95   \u001b[0m | \u001b[0m 0.5339  \u001b[0m |\n",
      "| \u001b[0m 5       \u001b[0m | \u001b[0m 0.6453  \u001b[0m | \u001b[0m 0.8961  \u001b[0m | \u001b[0m 8.893   \u001b[0m | \u001b[0m 0.4713  \u001b[0m | \u001b[0m 3.639   \u001b[0m | \u001b[0m 387.5   \u001b[0m | \u001b[0m 16.29   \u001b[0m | \u001b[0m 11.36   \u001b[0m | \u001b[0m 0.604   \u001b[0m |\n",
      "| \u001b[0m 6       \u001b[0m | \u001b[0m 0.6422  \u001b[0m | \u001b[0m 0.823   \u001b[0m | \u001b[0m 6.522   \u001b[0m | \u001b[0m 0.5516  \u001b[0m | \u001b[0m 19.06   \u001b[0m | \u001b[0m 71.52   \u001b[0m | \u001b[0m 13.16   \u001b[0m | \u001b[0m 44.46   \u001b[0m | \u001b[0m 0.6045  \u001b[0m |\n",
      "| \u001b[0m 7       \u001b[0m | \u001b[0m 0.6469  \u001b[0m | \u001b[0m 0.5129  \u001b[0m | \u001b[0m 7.104   \u001b[0m | \u001b[0m 0.4049  \u001b[0m | \u001b[0m 16.57   \u001b[0m | \u001b[0m 441.5   \u001b[0m | \u001b[0m 8.795   \u001b[0m | \u001b[0m 46.54   \u001b[0m | \u001b[0m 0.8528  \u001b[0m |\n",
      "| \u001b[0m 8       \u001b[0m | \u001b[0m 0.6359  \u001b[0m | \u001b[0m 0.525   \u001b[0m | \u001b[0m 18.04   \u001b[0m | \u001b[0m 0.5035  \u001b[0m | \u001b[0m 23.9    \u001b[0m | \u001b[0m 399.1   \u001b[0m | \u001b[0m 16.3    \u001b[0m | \u001b[0m 31.66   \u001b[0m | \u001b[0m 0.6399  \u001b[0m |\n",
      "| \u001b[0m 9       \u001b[0m | \u001b[0m 0.6478  \u001b[0m | \u001b[0m 0.9777  \u001b[0m | \u001b[0m 7.832   \u001b[0m | \u001b[0m 0.2045  \u001b[0m | \u001b[0m 13.04   \u001b[0m | \u001b[0m 312.2   \u001b[0m | \u001b[0m 9.658   \u001b[0m | \u001b[0m 29.36   \u001b[0m | \u001b[0m 0.6281  \u001b[0m |\n",
      "| \u001b[0m 10      \u001b[0m | \u001b[0m 0.6409  \u001b[0m | \u001b[0m 0.5192  \u001b[0m | \u001b[0m 19.87   \u001b[0m | \u001b[0m 0.4443  \u001b[0m | \u001b[0m 23.78   \u001b[0m | \u001b[0m 101.7   \u001b[0m | \u001b[0m 10.75   \u001b[0m | \u001b[0m 15.93   \u001b[0m | \u001b[0m 0.8303  \u001b[0m |\n",
      "| \u001b[0m 11      \u001b[0m | \u001b[0m 0.649   \u001b[0m | \u001b[0m 0.7778  \u001b[0m | \u001b[0m 12.7    \u001b[0m | \u001b[0m 0.2596  \u001b[0m | \u001b[0m 5.2     \u001b[0m | \u001b[0m 61.32   \u001b[0m | \u001b[0m 7.695   \u001b[0m | \u001b[0m 8.238   \u001b[0m | \u001b[0m 0.8141  \u001b[0m |\n",
      "| \u001b[0m 12      \u001b[0m | \u001b[0m 0.6405  \u001b[0m | \u001b[0m 0.8568  \u001b[0m | \u001b[0m 18.03   \u001b[0m | \u001b[0m 0.3977  \u001b[0m | \u001b[0m 13.82   \u001b[0m | \u001b[0m 466.0   \u001b[0m | \u001b[0m 15.64   \u001b[0m | \u001b[0m 13.81   \u001b[0m | \u001b[0m 0.5121  \u001b[0m |\n",
      "| \u001b[0m 13      \u001b[0m | \u001b[0m 0.6394  \u001b[0m | \u001b[0m 0.5685  \u001b[0m | \u001b[0m 16.52   \u001b[0m | \u001b[0m 0.2673  \u001b[0m | \u001b[0m 7.372   \u001b[0m | \u001b[0m 117.6   \u001b[0m | \u001b[0m 13.39   \u001b[0m | \u001b[0m 34.15   \u001b[0m | \u001b[0m 0.5021  \u001b[0m |\n",
      "| \u001b[0m 14      \u001b[0m | \u001b[0m 0.6468  \u001b[0m | \u001b[0m 0.5898  \u001b[0m | \u001b[0m 9.648   \u001b[0m | \u001b[0m 0.37    \u001b[0m | \u001b[0m 2.193   \u001b[0m | \u001b[0m 438.8   \u001b[0m | \u001b[0m 15.66   \u001b[0m | \u001b[0m 15.09   \u001b[0m | \u001b[0m 0.7417  \u001b[0m |\n",
      "| \u001b[0m 15      \u001b[0m | \u001b[0m 0.6433  \u001b[0m | \u001b[0m 0.7661  \u001b[0m | \u001b[0m 18.61   \u001b[0m | \u001b[0m 0.5341  \u001b[0m | \u001b[0m 17.82   \u001b[0m | \u001b[0m 34.79   \u001b[0m | \u001b[0m 10.41   \u001b[0m | \u001b[0m 35.81   \u001b[0m | \u001b[0m 0.8193  \u001b[0m |\n",
      "| \u001b[0m 16      \u001b[0m | \u001b[0m 0.6352  \u001b[0m | \u001b[0m 0.7546  \u001b[0m | \u001b[0m 5.672   \u001b[0m | \u001b[0m 0.4015  \u001b[0m | \u001b[0m 3.157   \u001b[0m | \u001b[0m 18.31   \u001b[0m | \u001b[0m 8.765   \u001b[0m | \u001b[0m 10.18   \u001b[0m | \u001b[0m 0.7454  \u001b[0m |\n",
      "| \u001b[0m 17      \u001b[0m | \u001b[0m 0.6488  \u001b[0m | \u001b[0m 0.561   \u001b[0m | \u001b[0m 5.315   \u001b[0m | \u001b[0m 0.1672  \u001b[0m | \u001b[0m 16.98   \u001b[0m | \u001b[0m 504.3   \u001b[0m | \u001b[0m 19.29   \u001b[0m | \u001b[0m 16.75   \u001b[0m | \u001b[0m 0.6823  \u001b[0m |\n",
      "| \u001b[0m 18      \u001b[0m | \u001b[0m 0.6475  \u001b[0m | \u001b[0m 0.7545  \u001b[0m | \u001b[0m 6.278   \u001b[0m | \u001b[0m 0.2544  \u001b[0m | \u001b[0m 5.66    \u001b[0m | \u001b[0m 216.3   \u001b[0m | \u001b[0m 12.08   \u001b[0m | \u001b[0m 16.95   \u001b[0m | \u001b[0m 0.653   \u001b[0m |\n",
      "| \u001b[95m 19      \u001b[0m | \u001b[95m 0.6509  \u001b[0m | \u001b[95m 0.6624  \u001b[0m | \u001b[95m 6.869   \u001b[0m | \u001b[95m 0.1131  \u001b[0m | \u001b[95m 7.613   \u001b[0m | \u001b[95m 510.3   \u001b[0m | \u001b[95m 8.031   \u001b[0m | \u001b[95m 15.49   \u001b[0m | \u001b[95m 0.725   \u001b[0m |\n",
      "| \u001b[0m 20      \u001b[0m | \u001b[0m 0.6459  \u001b[0m | \u001b[0m 0.7449  \u001b[0m | \u001b[0m 5.417   \u001b[0m | \u001b[0m 0.3079  \u001b[0m | \u001b[0m 24.62   \u001b[0m | \u001b[0m 246.0   \u001b[0m | \u001b[0m 13.03   \u001b[0m | \u001b[0m 48.13   \u001b[0m | \u001b[0m 0.5311  \u001b[0m |\n",
      "| \u001b[0m 21      \u001b[0m | \u001b[0m 0.6496  \u001b[0m | \u001b[0m 0.6226  \u001b[0m | \u001b[0m 6.362   \u001b[0m | \u001b[0m 0.2522  \u001b[0m | \u001b[0m 2.824   \u001b[0m | \u001b[0m 510.7   \u001b[0m | \u001b[0m 13.75   \u001b[0m | \u001b[0m 46.64   \u001b[0m | \u001b[0m 0.8602  \u001b[0m |\n",
      "| \u001b[0m 22      \u001b[0m | \u001b[0m 0.6385  \u001b[0m | \u001b[0m 0.8424  \u001b[0m | \u001b[0m 6.106   \u001b[0m | \u001b[0m 0.4319  \u001b[0m | \u001b[0m 23.46   \u001b[0m | \u001b[0m 232.7   \u001b[0m | \u001b[0m 10.26   \u001b[0m | \u001b[0m 8.347   \u001b[0m | \u001b[0m 0.5344  \u001b[0m |\n",
      "| \u001b[0m 23      \u001b[0m | \u001b[0m 0.6508  \u001b[0m | \u001b[0m 0.6215  \u001b[0m | \u001b[0m 5.12    \u001b[0m | \u001b[0m 0.1256  \u001b[0m | \u001b[0m 1.231   \u001b[0m | \u001b[0m 372.7   \u001b[0m | \u001b[0m 8.185   \u001b[0m | \u001b[0m 47.17   \u001b[0m | \u001b[0m 0.7163  \u001b[0m |\n",
      "| \u001b[0m 24      \u001b[0m | \u001b[0m 0.642   \u001b[0m | \u001b[0m 0.6372  \u001b[0m | \u001b[0m 5.3     \u001b[0m | \u001b[0m 0.2475  \u001b[0m | \u001b[0m 5.273   \u001b[0m | \u001b[0m 123.3   \u001b[0m | \u001b[0m 7.659   \u001b[0m | \u001b[0m 8.331   \u001b[0m | \u001b[0m 0.639   \u001b[0m |\n",
      "| \u001b[0m 25      \u001b[0m | \u001b[0m 0.6438  \u001b[0m | \u001b[0m 0.8141  \u001b[0m | \u001b[0m 15.82   \u001b[0m | \u001b[0m 0.5308  \u001b[0m | \u001b[0m 24.83   \u001b[0m | \u001b[0m 48.96   \u001b[0m | \u001b[0m 19.1    \u001b[0m | \u001b[0m 15.41   \u001b[0m | \u001b[0m 0.8902  \u001b[0m |\n",
      "| \u001b[0m 26      \u001b[0m | \u001b[0m 0.6457  \u001b[0m | \u001b[0m 0.977   \u001b[0m | \u001b[0m 8.176   \u001b[0m | \u001b[0m 0.4089  \u001b[0m | \u001b[0m 3.041   \u001b[0m | \u001b[0m 195.8   \u001b[0m | \u001b[0m 7.598   \u001b[0m | \u001b[0m 44.65   \u001b[0m | \u001b[0m 0.5719  \u001b[0m |\n",
      "| \u001b[0m 27      \u001b[0m | \u001b[0m 0.6451  \u001b[0m | \u001b[0m 0.6376  \u001b[0m | \u001b[0m 5.471   \u001b[0m | \u001b[0m 0.417   \u001b[0m | \u001b[0m 24.07   \u001b[0m | \u001b[0m 320.3   \u001b[0m | \u001b[0m 19.45   \u001b[0m | \u001b[0m 49.94   \u001b[0m | \u001b[0m 0.5948  \u001b[0m |\n",
      "| \u001b[0m 28      \u001b[0m | \u001b[0m 0.6441  \u001b[0m | \u001b[0m 0.9676  \u001b[0m | \u001b[0m 8.684   \u001b[0m | \u001b[0m 0.4547  \u001b[0m | \u001b[0m 21.72   \u001b[0m | \u001b[0m 511.0   \u001b[0m | \u001b[0m 8.631   \u001b[0m | \u001b[0m 44.57   \u001b[0m | \u001b[0m 0.5392  \u001b[0m |\n",
      "| \u001b[0m 29      \u001b[0m | \u001b[0m 0.6388  \u001b[0m | \u001b[0m 0.6239  \u001b[0m | \u001b[0m 19.32   \u001b[0m | \u001b[0m 0.1041  \u001b[0m | \u001b[0m 1.115   \u001b[0m | \u001b[0m 47.63   \u001b[0m | \u001b[0m 18.75   \u001b[0m | \u001b[0m 25.91   \u001b[0m | \u001b[0m 0.6238  \u001b[0m |\n",
      "| \u001b[0m 30      \u001b[0m | \u001b[0m 0.6482  \u001b[0m | \u001b[0m 0.602   \u001b[0m | \u001b[0m 5.318   \u001b[0m | \u001b[0m 0.2844  \u001b[0m | \u001b[0m 21.71   \u001b[0m | \u001b[0m 172.9   \u001b[0m | \u001b[0m 18.79   \u001b[0m | \u001b[0m 43.94   \u001b[0m | \u001b[0m 0.7503  \u001b[0m |\n",
      "| \u001b[0m 31      \u001b[0m | \u001b[0m 0.6261  \u001b[0m | \u001b[0m 0.9623  \u001b[0m | \u001b[0m 5.07    \u001b[0m | \u001b[0m 0.4821  \u001b[0m | \u001b[0m 3.97    \u001b[0m | \u001b[0m 488.4   \u001b[0m | \u001b[0m 9.087   \u001b[0m | \u001b[0m 13.49   \u001b[0m | \u001b[0m 0.5425  \u001b[0m |\n",
      "| \u001b[0m 32      \u001b[0m | \u001b[0m 0.6384  \u001b[0m | \u001b[0m 0.674   \u001b[0m | \u001b[0m 19.98   \u001b[0m | \u001b[0m 0.5463  \u001b[0m | \u001b[0m 1.253   \u001b[0m | \u001b[0m 508.2   \u001b[0m | \u001b[0m 18.68   \u001b[0m | \u001b[0m 15.2    \u001b[0m | \u001b[0m 0.7117  \u001b[0m |\n",
      "| \u001b[0m 33      \u001b[0m | \u001b[0m 0.6374  \u001b[0m | \u001b[0m 0.9066  \u001b[0m | \u001b[0m 18.38   \u001b[0m | \u001b[0m 0.4367  \u001b[0m | \u001b[0m 2.808   \u001b[0m | \u001b[0m 253.9   \u001b[0m | \u001b[0m 19.93   \u001b[0m | \u001b[0m 49.16   \u001b[0m | \u001b[0m 0.5982  \u001b[0m |\n",
      "| \u001b[0m 34      \u001b[0m | \u001b[0m 0.6472  \u001b[0m | \u001b[0m 0.8279  \u001b[0m | \u001b[0m 7.438   \u001b[0m | \u001b[0m 0.2901  \u001b[0m | \u001b[0m 22.33   \u001b[0m | \u001b[0m 9.013   \u001b[0m | \u001b[0m 17.08   \u001b[0m | \u001b[0m 46.91   \u001b[0m | \u001b[0m 0.5664  \u001b[0m |\n",
      "| \u001b[0m 35      \u001b[0m | \u001b[0m 0.6464  \u001b[0m | \u001b[0m 0.7863  \u001b[0m | \u001b[0m 16.32   \u001b[0m | \u001b[0m 0.4939  \u001b[0m | \u001b[0m 21.25   \u001b[0m | \u001b[0m 511.2   \u001b[0m | \u001b[0m 7.455   \u001b[0m | \u001b[0m 9.497   \u001b[0m | \u001b[0m 0.8462  \u001b[0m |\n",
      "| \u001b[0m 36      \u001b[0m | \u001b[0m 0.6425  \u001b[0m | \u001b[0m 0.79    \u001b[0m | \u001b[0m 18.12   \u001b[0m | \u001b[0m 0.11    \u001b[0m | \u001b[0m 6.383   \u001b[0m | \u001b[0m 172.0   \u001b[0m | \u001b[0m 18.46   \u001b[0m | \u001b[0m 9.384   \u001b[0m | \u001b[0m 0.7758  \u001b[0m |\n",
      "| \u001b[0m 37      \u001b[0m | \u001b[0m 0.6473  \u001b[0m | \u001b[0m 0.5     \u001b[0m | \u001b[0m 7.39    \u001b[0m | \u001b[0m 0.1     \u001b[0m | \u001b[0m 1.0     \u001b[0m | \u001b[0m 293.4   \u001b[0m | \u001b[0m 7.0     \u001b[0m | \u001b[0m 48.81   \u001b[0m | \u001b[0m 0.5     \u001b[0m |\n",
      "| \u001b[0m 38      \u001b[0m | \u001b[0m 0.6447  \u001b[0m | \u001b[0m 0.6625  \u001b[0m | \u001b[0m 5.081   \u001b[0m | \u001b[0m 0.424   \u001b[0m | \u001b[0m 16.57   \u001b[0m | \u001b[0m 406.9   \u001b[0m | \u001b[0m 19.77   \u001b[0m | \u001b[0m 37.73   \u001b[0m | \u001b[0m 0.6037  \u001b[0m |\n",
      "| \u001b[0m 39      \u001b[0m | \u001b[0m 0.6429  \u001b[0m | \u001b[0m 0.9085  \u001b[0m | \u001b[0m 19.63   \u001b[0m | \u001b[0m 0.2551  \u001b[0m | \u001b[0m 22.22   \u001b[0m | \u001b[0m 11.05   \u001b[0m | \u001b[0m 9.018   \u001b[0m | \u001b[0m 14.42   \u001b[0m | \u001b[0m 0.6125  \u001b[0m |\n",
      "| \u001b[0m 40      \u001b[0m | \u001b[0m 0.6475  \u001b[0m | \u001b[0m 0.8163  \u001b[0m | \u001b[0m 7.439   \u001b[0m | \u001b[0m 0.4214  \u001b[0m | \u001b[0m 24.97   \u001b[0m | \u001b[0m 432.3   \u001b[0m | \u001b[0m 16.85   \u001b[0m | \u001b[0m 9.97    \u001b[0m | \u001b[0m 0.8648  \u001b[0m |\n",
      "| \u001b[0m 41      \u001b[0m | \u001b[0m 0.6482  \u001b[0m | \u001b[0m 0.8589  \u001b[0m | \u001b[0m 12.52   \u001b[0m | \u001b[0m 0.5169  \u001b[0m | \u001b[0m 2.056   \u001b[0m | \u001b[0m 206.4   \u001b[0m | \u001b[0m 7.518   \u001b[0m | \u001b[0m 39.69   \u001b[0m | \u001b[0m 0.8713  \u001b[0m |\n",
      "| \u001b[0m 42      \u001b[0m | \u001b[0m 0.6447  \u001b[0m | \u001b[0m 0.8142  \u001b[0m | \u001b[0m 15.4    \u001b[0m | \u001b[0m 0.1757  \u001b[0m | \u001b[0m 23.28   \u001b[0m | \u001b[0m 299.9   \u001b[0m | \u001b[0m 7.278   \u001b[0m | \u001b[0m 49.81   \u001b[0m | \u001b[0m 0.7256  \u001b[0m |\n",
      "| \u001b[0m 43      \u001b[0m | \u001b[0m 0.6446  \u001b[0m | \u001b[0m 0.8909  \u001b[0m | \u001b[0m 9.651   \u001b[0m | \u001b[0m 0.5247  \u001b[0m | \u001b[0m 14.71   \u001b[0m | \u001b[0m 509.2   \u001b[0m | \u001b[0m 10.4    \u001b[0m | \u001b[0m 17.37   \u001b[0m | \u001b[0m 0.5038  \u001b[0m |\n",
      "| \u001b[0m 44      \u001b[0m | \u001b[0m 0.6394  \u001b[0m | \u001b[0m 0.6306  \u001b[0m | \u001b[0m 18.44   \u001b[0m | \u001b[0m 0.5434  \u001b[0m | \u001b[0m 2.845   \u001b[0m | \u001b[0m 8.615   \u001b[0m | \u001b[0m 7.66    \u001b[0m | \u001b[0m 49.95   \u001b[0m | \u001b[0m 0.7129  \u001b[0m |\n",
      "| \u001b[0m 45      \u001b[0m | \u001b[0m 0.6445  \u001b[0m | \u001b[0m 0.5634  \u001b[0m | \u001b[0m 6.13    \u001b[0m | \u001b[0m 0.3229  \u001b[0m | \u001b[0m 20.69   \u001b[0m | \u001b[0m 351.2   \u001b[0m | \u001b[0m 8.504   \u001b[0m | \u001b[0m 10.81   \u001b[0m | \u001b[0m 0.8096  \u001b[0m |\n",
      "| \u001b[0m 46      \u001b[0m | \u001b[0m 0.6428  \u001b[0m | \u001b[0m 0.6052  \u001b[0m | \u001b[0m 17.21   \u001b[0m | \u001b[0m 0.1292  \u001b[0m | \u001b[0m 13.07   \u001b[0m | \u001b[0m 415.2   \u001b[0m | \u001b[0m 7.161   \u001b[0m | \u001b[0m 11.04   \u001b[0m | \u001b[0m 0.5212  \u001b[0m |\n",
      "| \u001b[0m 47      \u001b[0m | \u001b[0m 0.6428  \u001b[0m | \u001b[0m 0.6716  \u001b[0m | \u001b[0m 15.22   \u001b[0m | \u001b[0m 0.1295  \u001b[0m | \u001b[0m 24.73   \u001b[0m | \u001b[0m 210.7   \u001b[0m | \u001b[0m 8.798   \u001b[0m | \u001b[0m 39.84   \u001b[0m | \u001b[0m 0.5963  \u001b[0m |\n"
     ]
    }
   ],
   "source": [
    "# 모델 그 외 변수는 고정\n",
    "var_fixed = partial(\n",
    "        XGB_cv, \n",
    "        x_data=x_train, \n",
    "        y_data=y_train, \n",
    "        n_splits=5, \n",
    "        output='score'\n",
    "    )\n",
    "\n",
    "# 베이지안 최적화 범위 설정\n",
    "XGBo = BayesianOptimization(\n",
    "        var_fixed, \n",
    "        {\n",
    "            'max_depth': (8, 512),          # ~ 500\n",
    "            'learning_rate': (0.1, 0.6),    # 0.6xxx\n",
    "            'subsample': (0.5, 0.9),        # 0.5 ~ 0.7\n",
    "            'colsample_bytree': (0.5, 1),   # 0.5 ~ 0.8\n",
    "            # 'colsample_bynode':(0, 1),\n",
    "            # 'n_estimators' : (16, 1024),\n",
    "            'reg_alpha' : (7, 20),          # L1 - 7 ~ 20\n",
    "            'reg_lambda' : (8, 50),         # L2 - 8 ~ 45\n",
    "            'max_delta_step' : (1, 25),     # 8.x\n",
    "            'gamma' : (5, 20),              # 1 ~ 15\n",
    "        },\n",
    "        random_state = random.randrange(50000) # 유동 시드 1~50000\n",
    "    )\n",
    "\n",
    "XGBo.maximize(init_points=15, n_iter=60)    # 처음 15회 랜덤값으로 score 계산 후 60회 최적화"
   ]
  },
  {
   "cell_type": "code",
   "execution_count": 0,
   "metadata": {
    "colab": {},
    "colab_type": "code",
    "id": "F0l7uclMg99Z"
   },
   "outputs": [],
   "source": [
    "params = XGBo.max['params']\n",
    "models = XGB_cv(\n",
    "        params['max_depth'], \n",
    "        params['learning_rate'],\n",
    "        params['subsample'], \n",
    "        params['colsample_bytree'],\n",
    "        # params['colsample_bynode'], \n",
    "        params['reg_alpha'], \n",
    "        params['reg_lambda'],\n",
    "        params['max_delta_step'],\n",
    "        # params['n_estimators'],\n",
    "        params['gamma'],\n",
    "        x_data=x_train, \n",
    "        y_data=y_train, \n",
    "        n_splits=5, \n",
    "        output='model'\n",
    "    )"
   ]
  },
  {
   "cell_type": "code",
   "execution_count": 0,
   "metadata": {
    "colab": {
     "base_uri": "https://localhost:8080/",
     "height": 241
    },
    "colab_type": "code",
    "executionInfo": {
     "elapsed": 790,
     "status": "ok",
     "timestamp": 1585324453956,
     "user": {
      "displayName": "Chang Jun Yu",
      "photoUrl": "",
      "userId": "01350722000017054941"
     },
     "user_tz": -540
    },
    "id": "aInYX4Ams1gU",
    "outputId": "71600e44-c03c-4905-8eb2-4a9b37a28149"
   },
   "outputs": [
    {
     "data": {
      "text/html": [
       "<div>\n",
       "<style scoped>\n",
       "    .dataframe tbody tr th:only-of-type {\n",
       "        vertical-align: middle;\n",
       "    }\n",
       "\n",
       "    .dataframe tbody tr th {\n",
       "        vertical-align: top;\n",
       "    }\n",
       "\n",
       "    .dataframe thead th {\n",
       "        text-align: right;\n",
       "    }\n",
       "</style>\n",
       "<table border=\"1\" class=\"dataframe\">\n",
       "  <thead>\n",
       "    <tr style=\"text-align: right;\">\n",
       "      <th></th>\n",
       "      <th>game_id</th>\n",
       "      <th>time</th>\n",
       "      <th>player0_species</th>\n",
       "      <th>player1_species</th>\n",
       "      <th>event_count_0</th>\n",
       "      <th>event_count_1</th>\n",
       "      <th>Camera_count_0</th>\n",
       "      <th>Camera_count_1</th>\n",
       "      <th>Selection_count_0</th>\n",
       "      <th>Selection_count_1</th>\n",
       "      <th>Ability_count_0</th>\n",
       "      <th>Ability_count_1</th>\n",
       "      <th>Right Click_count_0</th>\n",
       "      <th>Right Click_count_1</th>\n",
       "      <th>SetControlGroup_count_0</th>\n",
       "      <th>SetControlGroup_count_1</th>\n",
       "      <th>GetControlGroup_count_0</th>\n",
       "      <th>GetControlGroup_count_1</th>\n",
       "      <th>AddToControlGroup_count_0</th>\n",
       "      <th>AddToControlGroup_count_1</th>\n",
       "      <th>ControlGroup_count_0</th>\n",
       "      <th>ControlGroup_count_1_x</th>\n",
       "      <th>Camera_delta</th>\n",
       "      <th>Selection_delta</th>\n",
       "      <th>Ability_delta</th>\n",
       "      <th>Right Click_delta</th>\n",
       "      <th>SetControlGroup_delta</th>\n",
       "      <th>GetControlGroup_delta</th>\n",
       "      <th>AddToControlGroup_delta</th>\n",
       "      <th>ControlGroup_delta</th>\n",
       "      <th>winner</th>\n",
       "      <th>ControlGroup_count_1_y</th>\n",
       "    </tr>\n",
       "  </thead>\n",
       "  <tbody>\n",
       "    <tr>\n",
       "      <th>0</th>\n",
       "      <td>0</td>\n",
       "      <td>7.24</td>\n",
       "      <td>0</td>\n",
       "      <td>0</td>\n",
       "      <td>592</td>\n",
       "      <td>548</td>\n",
       "      <td>444.0</td>\n",
       "      <td>425.0</td>\n",
       "      <td>50.0</td>\n",
       "      <td>57.0</td>\n",
       "      <td>34.0</td>\n",
       "      <td>34.0</td>\n",
       "      <td>35.0</td>\n",
       "      <td>28.0</td>\n",
       "      <td>3.0</td>\n",
       "      <td>1.0</td>\n",
       "      <td>24.0</td>\n",
       "      <td>3.0</td>\n",
       "      <td>2.0</td>\n",
       "      <td>0.0</td>\n",
       "      <td>0.0</td>\n",
       "      <td>0.0</td>\n",
       "      <td>19.0</td>\n",
       "      <td>-7.0</td>\n",
       "      <td>0.0</td>\n",
       "      <td>7.0</td>\n",
       "      <td>2.0</td>\n",
       "      <td>21.0</td>\n",
       "      <td>2.0</td>\n",
       "      <td>0.0</td>\n",
       "      <td>1</td>\n",
       "      <td>0.0</td>\n",
       "    </tr>\n",
       "    <tr>\n",
       "      <th>1</th>\n",
       "      <td>1</td>\n",
       "      <td>9.59</td>\n",
       "      <td>1</td>\n",
       "      <td>0</td>\n",
       "      <td>1223</td>\n",
       "      <td>1211</td>\n",
       "      <td>627.0</td>\n",
       "      <td>858.0</td>\n",
       "      <td>186.0</td>\n",
       "      <td>116.0</td>\n",
       "      <td>77.0</td>\n",
       "      <td>67.0</td>\n",
       "      <td>160.0</td>\n",
       "      <td>131.0</td>\n",
       "      <td>10.0</td>\n",
       "      <td>8.0</td>\n",
       "      <td>162.0</td>\n",
       "      <td>31.0</td>\n",
       "      <td>1.0</td>\n",
       "      <td>0.0</td>\n",
       "      <td>0.0</td>\n",
       "      <td>0.0</td>\n",
       "      <td>-231.0</td>\n",
       "      <td>70.0</td>\n",
       "      <td>10.0</td>\n",
       "      <td>29.0</td>\n",
       "      <td>2.0</td>\n",
       "      <td>131.0</td>\n",
       "      <td>1.0</td>\n",
       "      <td>0.0</td>\n",
       "      <td>1</td>\n",
       "      <td>0.0</td>\n",
       "    </tr>\n",
       "    <tr>\n",
       "      <th>2</th>\n",
       "      <td>2</td>\n",
       "      <td>9.59</td>\n",
       "      <td>1</td>\n",
       "      <td>2</td>\n",
       "      <td>851</td>\n",
       "      <td>1371</td>\n",
       "      <td>413.0</td>\n",
       "      <td>725.0</td>\n",
       "      <td>90.0</td>\n",
       "      <td>232.0</td>\n",
       "      <td>69.0</td>\n",
       "      <td>85.0</td>\n",
       "      <td>160.0</td>\n",
       "      <td>204.0</td>\n",
       "      <td>14.0</td>\n",
       "      <td>9.0</td>\n",
       "      <td>99.0</td>\n",
       "      <td>109.0</td>\n",
       "      <td>6.0</td>\n",
       "      <td>5.0</td>\n",
       "      <td>0.0</td>\n",
       "      <td>2.0</td>\n",
       "      <td>-312.0</td>\n",
       "      <td>-142.0</td>\n",
       "      <td>-16.0</td>\n",
       "      <td>-44.0</td>\n",
       "      <td>5.0</td>\n",
       "      <td>-10.0</td>\n",
       "      <td>1.0</td>\n",
       "      <td>-2.0</td>\n",
       "      <td>0</td>\n",
       "      <td>0.0</td>\n",
       "    </tr>\n",
       "    <tr>\n",
       "      <th>3</th>\n",
       "      <td>3</td>\n",
       "      <td>9.59</td>\n",
       "      <td>0</td>\n",
       "      <td>1</td>\n",
       "      <td>1389</td>\n",
       "      <td>1622</td>\n",
       "      <td>713.0</td>\n",
       "      <td>388.0</td>\n",
       "      <td>180.0</td>\n",
       "      <td>148.0</td>\n",
       "      <td>82.0</td>\n",
       "      <td>89.0</td>\n",
       "      <td>276.0</td>\n",
       "      <td>268.0</td>\n",
       "      <td>6.0</td>\n",
       "      <td>19.0</td>\n",
       "      <td>132.0</td>\n",
       "      <td>710.0</td>\n",
       "      <td>0.0</td>\n",
       "      <td>0.0</td>\n",
       "      <td>0.0</td>\n",
       "      <td>0.0</td>\n",
       "      <td>325.0</td>\n",
       "      <td>32.0</td>\n",
       "      <td>-7.0</td>\n",
       "      <td>8.0</td>\n",
       "      <td>-13.0</td>\n",
       "      <td>-578.0</td>\n",
       "      <td>0.0</td>\n",
       "      <td>0.0</td>\n",
       "      <td>0</td>\n",
       "      <td>0.0</td>\n",
       "    </tr>\n",
       "    <tr>\n",
       "      <th>4</th>\n",
       "      <td>4</td>\n",
       "      <td>5.43</td>\n",
       "      <td>0</td>\n",
       "      <td>2</td>\n",
       "      <td>966</td>\n",
       "      <td>651</td>\n",
       "      <td>430.0</td>\n",
       "      <td>272.0</td>\n",
       "      <td>67.0</td>\n",
       "      <td>126.0</td>\n",
       "      <td>57.0</td>\n",
       "      <td>36.0</td>\n",
       "      <td>177.0</td>\n",
       "      <td>106.0</td>\n",
       "      <td>10.0</td>\n",
       "      <td>8.0</td>\n",
       "      <td>224.0</td>\n",
       "      <td>99.0</td>\n",
       "      <td>1.0</td>\n",
       "      <td>4.0</td>\n",
       "      <td>0.0</td>\n",
       "      <td>0.0</td>\n",
       "      <td>158.0</td>\n",
       "      <td>-59.0</td>\n",
       "      <td>21.0</td>\n",
       "      <td>71.0</td>\n",
       "      <td>2.0</td>\n",
       "      <td>125.0</td>\n",
       "      <td>-3.0</td>\n",
       "      <td>0.0</td>\n",
       "      <td>0</td>\n",
       "      <td>0.0</td>\n",
       "    </tr>\n",
       "  </tbody>\n",
       "</table>\n",
       "</div>"
      ],
      "text/plain": [
       "   game_id  time  ...  winner  ControlGroup_count_1_y\n",
       "0        0  7.24  ...       1                     0.0\n",
       "1        1  9.59  ...       1                     0.0\n",
       "2        2  9.59  ...       0                     0.0\n",
       "3        3  9.59  ...       0                     0.0\n",
       "4        4  5.43  ...       0                     0.0\n",
       "\n",
       "[5 rows x 32 columns]"
      ]
     },
     "execution_count": 37,
     "metadata": {
      "tags": []
     },
     "output_type": "execute_result"
    }
   ],
   "source": [
    "df_test.head()"
   ]
  },
  {
   "cell_type": "code",
   "execution_count": 0,
   "metadata": {
    "colab": {},
    "colab_type": "code",
    "id": "qt1Eu9_1g97L"
   },
   "outputs": [],
   "source": [
    "preds = []\n",
    "for model in models:\n",
    "    pred = model.predict_proba(x_test)[:, 1]\n",
    "    preds.append(pred)\n",
    "    \n",
    "pred = np.mean(preds, axis=0)\n",
    "\n",
    "submission = sample_submission_data # pd.read_csv('data/sample_submission.csv', index_col=0)\n",
    "submission['winner'] = submission['winner'] + pred\n",
    "submission.to_csv('/content/gdrive/My Drive/Colab Notebooks/competition data/startcraft_data/submit_0327_2.csv', index=False)\n",
    "submission.head()"
   ]
  },
  {
   "cell_type": "code",
   "execution_count": 0,
   "metadata": {
    "colab": {},
    "colab_type": "code",
    "id": "HRDWA5jfg92X"
   },
   "outputs": [],
   "source": [
    "submission['winner'].value_counts()"
   ]
  },
  {
   "cell_type": "code",
   "execution_count": 0,
   "metadata": {
    "colab": {},
    "colab_type": "code",
    "id": "4kDCuwh3g9nR"
   },
   "outputs": [],
   "source": [
    "submission[submission['winner'] >= 1]"
   ]
  }
 ],
 "metadata": {
  "colab": {
   "collapsed_sections": [],
   "machine_shape": "hm",
   "name": "XGB_SongDoTeam_reference.ipynb",
   "provenance": [
    {
     "file_id": "1aswUMD7nj-8AiDZ5sDv2zJeap9SY_FyT",
     "timestamp": 1585363923498
    }
   ]
  },
  "kernelspec": {
   "display_name": "Python 3",
   "language": "python",
   "name": "python3"
  },
  "language_info": {
   "codemirror_mode": {
    "name": "ipython",
    "version": 3
   },
   "file_extension": ".py",
   "mimetype": "text/x-python",
   "name": "python",
   "nbconvert_exporter": "python",
   "pygments_lexer": "ipython3",
   "version": "3.7.6"
  }
 },
 "nbformat": 4,
 "nbformat_minor": 1
}
