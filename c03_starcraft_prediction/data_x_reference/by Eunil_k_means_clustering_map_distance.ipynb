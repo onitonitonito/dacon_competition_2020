{
 "cells": [
  {
   "cell_type": "markdown",
   "metadata": {
    "colab_type": "text",
    "id": "5dANdFCEJmjj"
   },
   "source": [
    "### K-means 클러스터링 : 시작위치 분류\n",
    "\n",
    "- 각 게임의 첫번째 카메라 이벤트를 이용하여 스타팅포인트와 맵을 분류하였습니다.\n",
    "- 맵에 따라 종족간 승률에 차이가 존재합니다.\n",
    "\n",
    "| <h4> 2020.03.13 15:30 </h4> | <h5> - kmeans를 이용한 스타팅포인트,맵 클러스터링  [[ 데이콘 링크 ]](https://dacon.io/competitions/official/235583/codeshare/743) </h5>|\n",
    "|:-------|:---------:\n",
    "|view    | 279\n",
    "|language| Python\n",
    "|by Eunil| 댓글 12\n"
   ]
  },
  {
   "cell_type": "markdown",
   "metadata": {
    "colab_type": "text",
    "id": "4jLaXM4gQoGD"
   },
   "source": [
    "### 1.0 Drive 연결 및 기본설정"
   ]
  },
  {
   "cell_type": "code",
   "execution_count": 1,
   "metadata": {
    "colab": {},
    "colab_type": "code",
    "id": "d7XM0-fqMg8f"
   },
   "outputs": [],
   "source": [
    "\"\"\"\n",
    "# 기본 DIR 구조를 입력한다. - _assets 폴더 제외!\n",
    "# /content/drive/My Drive/Colab Notebooks/\n",
    "# dir_base = '/content/drive/My Drive/Colab Notebooks/competition/''\n",
    "\"\"\"\n",
    "dir_base = '/home/yk/0325_Starcraft/competition/'\n",
    "\n",
    "raw      = 'c03_starcraft_prediction/data_raw/'\n",
    "remake   = 'c03_starcraft_prediction/data_remake/'\n",
    "submit   = 'c03_starcraft_prediction/data_submit/'\n",
    "\n",
    "assets = '/home/yk/0325_Starcraft/competition/_assets'"
   ]
  },
  {
   "cell_type": "code",
   "execution_count": 2,
   "metadata": {},
   "outputs": [
    {
     "name": "stdout",
     "output_type": "stream",
     "text": [
      "***'/home/yk/0325_Starcraft/competition/' has set in SYS.PATH! ***\n",
      "\n",
      "01./home/yk/0325_Starcraft/competition/\n",
      "02./home/yk/0325_Starcraft/competition/c03_starcraft_prediction\n",
      "03./home/yk/anaconda3/lib/python37.zip\n",
      "04./home/yk/anaconda3/lib/python3.7\n",
      "05./home/yk/anaconda3/lib/python3.7/lib-dynload\n",
      "06.\n",
      "07./home/yk/anaconda3/lib/python3.7/site-packages\n",
      "08./home/yk/anaconda3/lib/python3.7/site-packages/IPython/extensions\n",
      "09./home/yk/.ipython\n"
     ]
    }
   ],
   "source": [
    "\"\"\"\n",
    "# 모듈 import를 위한 SYS.PATH 설정!\n",
    "\"\"\"\n",
    "import os\n",
    "import sys\n",
    "\n",
    "if not dir_base in sys.path:\n",
    "    sys.path.insert(0, dir_base)\n",
    "    print(f\"***'{dir_base}' has set in SYS.PATH! ***\")    \n",
    "    print()\n",
    "    \n",
    "for i, item in enumerate(sys.path,1):\n",
    "    print(f\"{i:02}.{item}\")"
   ]
  },
  {
   "cell_type": "code",
   "execution_count": 3,
   "metadata": {},
   "outputs": [
    {
     "name": "stdout",
     "output_type": "stream",
     "text": [
      "\n",
      "# OS 화일 및 DF 정보조회를 위한 탐색 모듈\n",
      "\n"
     ]
    }
   ],
   "source": [
    "from _assets.modules import ( __doc__, \n",
    "                                show_ls, \n",
    "                                show_infoDF_from,\n",
    "                                histit,\n",
    "                                hist_it,\n",
    "                                plot_it,\n",
    "                                get_random_n_array,\n",
    "                                get_basic_df,\n",
    "                                get_counts_dict_fromDF,\n",
    "                            )\n",
    "\n",
    "# from _assets.module_data_preps import ( __doc__,\n",
    "#                                 tqdm,  \n",
    "#                                 species_converter, \n",
    "#                                 data_preparation,\n",
    "#                             )"
   ]
  },
  {
   "cell_type": "code",
   "execution_count": 4,
   "metadata": {
    "colab": {},
    "colab_type": "code",
    "id": "70hWiszUJhp-"
   },
   "outputs": [],
   "source": [
    "import numpy as np\n",
    "import pandas as pd\n",
    "import seaborn as sns\n",
    "import matplotlib.pyplot as plt\n",
    "\n",
    "from sklearn.cluster import KMeans"
   ]
  },
  {
   "cell_type": "code",
   "execution_count": 5,
   "metadata": {
    "colab": {},
    "colab_type": "code",
    "id": "Hr2FguU1R641"
   },
   "outputs": [],
   "source": [
    "import warnings                             \n",
    "warnings.filterwarnings(\"ignore\")"
   ]
  },
  {
   "cell_type": "markdown",
   "metadata": {
    "colab_type": "text",
    "id": "_MQ6SCIRQwnH"
   },
   "source": [
    "### 2.0 Data Read / 기본정보탐색"
   ]
  },
  {
   "cell_type": "code",
   "execution_count": 6,
   "metadata": {
    "colab": {},
    "colab_type": "code",
    "id": "vSFnZE50JhvV"
   },
   "outputs": [],
   "source": [
    "# raw_data를 df_train 에 넣는다.\n",
    "df_train = pd.read_csv(dir_base + raw + 'train.csv')"
   ]
  },
  {
   "cell_type": "code",
   "execution_count": 7,
   "metadata": {
    "colab": {},
    "colab_type": "code",
    "id": "zd334cMigFVJ"
   },
   "outputs": [
    {
     "data": {
      "text/html": [
       "<div>\n",
       "<style scoped>\n",
       "    .dataframe tbody tr th:only-of-type {\n",
       "        vertical-align: middle;\n",
       "    }\n",
       "\n",
       "    .dataframe tbody tr th {\n",
       "        vertical-align: top;\n",
       "    }\n",
       "\n",
       "    .dataframe thead th {\n",
       "        text-align: right;\n",
       "    }\n",
       "</style>\n",
       "<table border=\"1\" class=\"dataframe\">\n",
       "  <thead>\n",
       "    <tr style=\"text-align: right;\">\n",
       "      <th></th>\n",
       "      <th>game_id</th>\n",
       "      <th>winner</th>\n",
       "      <th>time</th>\n",
       "      <th>player</th>\n",
       "      <th>species</th>\n",
       "      <th>event</th>\n",
       "      <th>event_contents</th>\n",
       "    </tr>\n",
       "  </thead>\n",
       "  <tbody>\n",
       "    <tr>\n",
       "      <th>0</th>\n",
       "      <td>0</td>\n",
       "      <td>1</td>\n",
       "      <td>0.00</td>\n",
       "      <td>0</td>\n",
       "      <td>T</td>\n",
       "      <td>Camera</td>\n",
       "      <td>at (145.25, 21.5078125)</td>\n",
       "    </tr>\n",
       "    <tr>\n",
       "      <th>1</th>\n",
       "      <td>0</td>\n",
       "      <td>1</td>\n",
       "      <td>0.00</td>\n",
       "      <td>1</td>\n",
       "      <td>T</td>\n",
       "      <td>Camera</td>\n",
       "      <td>at (22.75, 147.0078125)</td>\n",
       "    </tr>\n",
       "    <tr>\n",
       "      <th>2</th>\n",
       "      <td>0</td>\n",
       "      <td>1</td>\n",
       "      <td>0.02</td>\n",
       "      <td>0</td>\n",
       "      <td>T</td>\n",
       "      <td>Selection</td>\n",
       "      <td>['OrbitalCommand [3080001]']</td>\n",
       "    </tr>\n",
       "  </tbody>\n",
       "</table>\n",
       "</div>"
      ],
      "text/plain": [
       "   game_id  winner  time  player species      event  \\\n",
       "0        0       1  0.00       0       T     Camera   \n",
       "1        0       1  0.00       1       T     Camera   \n",
       "2        0       1  0.02       0       T  Selection   \n",
       "\n",
       "                 event_contents  \n",
       "0       at (145.25, 21.5078125)  \n",
       "1       at (22.75, 147.0078125)  \n",
       "2  ['OrbitalCommand [3080001]']  "
      ]
     },
     "execution_count": 7,
     "metadata": {},
     "output_type": "execute_result"
    }
   ],
   "source": [
    "df_train.head(3)"
   ]
  },
  {
   "cell_type": "code",
   "execution_count": 8,
   "metadata": {
    "colab": {
     "base_uri": "https://localhost:8080/",
     "height": 136
    },
    "colab_type": "code",
    "executionInfo": {
     "elapsed": 821,
     "status": "ok",
     "timestamp": 1585102635445,
     "user": {
      "displayName": "SuParX -K",
      "photoUrl": "https://lh3.googleusercontent.com/a-/AOh14GgAhLtiQrZfK-FHgn5GBmgExX619ygpOPHHdN4ZkU0=s64",
      "userId": "05876132496561296136"
     },
     "user_tz": -540
    },
    "id": "aqAMO5CwJhz8",
    "outputId": "f6224838-568e-43b2-a3ec-43c3f814025a"
   },
   "outputs": [
    {
     "data": {
      "text/html": [
       "<div>\n",
       "<style scoped>\n",
       "    .dataframe tbody tr th:only-of-type {\n",
       "        vertical-align: middle;\n",
       "    }\n",
       "\n",
       "    .dataframe tbody tr th {\n",
       "        vertical-align: top;\n",
       "    }\n",
       "\n",
       "    .dataframe thead th {\n",
       "        text-align: right;\n",
       "    }\n",
       "</style>\n",
       "<table border=\"1\" class=\"dataframe\">\n",
       "  <thead>\n",
       "    <tr style=\"text-align: right;\">\n",
       "      <th></th>\n",
       "      <th>game_id</th>\n",
       "    </tr>\n",
       "  </thead>\n",
       "  <tbody>\n",
       "    <tr>\n",
       "      <th>0</th>\n",
       "      <td>0</td>\n",
       "    </tr>\n",
       "    <tr>\n",
       "      <th>1</th>\n",
       "      <td>1</td>\n",
       "    </tr>\n",
       "    <tr>\n",
       "      <th>2</th>\n",
       "      <td>2</td>\n",
       "    </tr>\n",
       "  </tbody>\n",
       "</table>\n",
       "</div>"
      ],
      "text/plain": [
       "   game_id\n",
       "0        0\n",
       "1        1\n",
       "2        2"
      ]
     },
     "execution_count": 8,
     "metadata": {},
     "output_type": "execute_result"
    }
   ],
   "source": [
    "# df_train 에 game_id 들 넣는데, 유니크값으로 1개씩만 저장한다.\n",
    "df_temp = pd.DataFrame(df_train['game_id'].unique(), columns=['game_id'])\n",
    "df_temp.head(3)"
   ]
  },
  {
   "cell_type": "code",
   "execution_count": 9,
   "metadata": {
    "colab": {
     "base_uri": "https://localhost:8080/",
     "height": 166
    },
    "colab_type": "code",
    "executionInfo": {
     "elapsed": 694,
     "status": "ok",
     "timestamp": 1585102638813,
     "user": {
      "displayName": "SuParX -K",
      "photoUrl": "https://lh3.googleusercontent.com/a-/AOh14GgAhLtiQrZfK-FHgn5GBmgExX619ygpOPHHdN4ZkU0=s64",
      "userId": "05876132496561296136"
     },
     "user_tz": -540
    },
    "id": "u3rs8-nieggj",
    "outputId": "5c80438d-1e3f-4216-a902-48d9f72e1bef"
   },
   "outputs": [
    {
     "data": {
      "text/html": [
       "<div>\n",
       "<style scoped>\n",
       "    .dataframe tbody tr th:only-of-type {\n",
       "        vertical-align: middle;\n",
       "    }\n",
       "\n",
       "    .dataframe tbody tr th {\n",
       "        vertical-align: top;\n",
       "    }\n",
       "\n",
       "    .dataframe thead th {\n",
       "        text-align: right;\n",
       "    }\n",
       "</style>\n",
       "<table border=\"1\" class=\"dataframe\">\n",
       "  <thead>\n",
       "    <tr style=\"text-align: right;\">\n",
       "      <th></th>\n",
       "      <th>game_id</th>\n",
       "    </tr>\n",
       "    <tr>\n",
       "      <th>game_id</th>\n",
       "      <th></th>\n",
       "    </tr>\n",
       "  </thead>\n",
       "  <tbody>\n",
       "    <tr>\n",
       "      <th>0</th>\n",
       "      <td>0</td>\n",
       "    </tr>\n",
       "    <tr>\n",
       "      <th>1</th>\n",
       "      <td>1</td>\n",
       "    </tr>\n",
       "    <tr>\n",
       "      <th>2</th>\n",
       "      <td>2</td>\n",
       "    </tr>\n",
       "  </tbody>\n",
       "</table>\n",
       "</div>"
      ],
      "text/plain": [
       "         game_id\n",
       "game_id         \n",
       "0              0\n",
       "1              1\n",
       "2              2"
      ]
     },
     "execution_count": 9,
     "metadata": {},
     "output_type": "execute_result"
    }
   ],
   "source": [
    "df_temp.index = df_temp.game_id\n",
    "df_temp.head(3)"
   ]
  },
  {
   "cell_type": "code",
   "execution_count": 10,
   "metadata": {
    "colab": {
     "base_uri": "https://localhost:8080/",
     "height": 34
    },
    "colab_type": "code",
    "executionInfo": {
     "elapsed": 1196,
     "status": "ok",
     "timestamp": 1585102955316,
     "user": {
      "displayName": "SuParX -K",
      "photoUrl": "https://lh3.googleusercontent.com/a-/AOh14GgAhLtiQrZfK-FHgn5GBmgExX619ygpOPHHdN4ZkU0=s64",
      "userId": "05876132496561296136"
     },
     "user_tz": -540
    },
    "id": "ziPql1NheZRf",
    "outputId": "9fff1bcb-864d-432e-ae49-cf13004fe1a2"
   },
   "outputs": [
    {
     "data": {
      "text/plain": [
       "(38872, 1)"
      ]
     },
     "execution_count": 10,
     "metadata": {},
     "output_type": "execute_result"
    }
   ],
   "source": [
    "# df_train 에 game_id 들 넣는데, 유니크값으로 1개씩만 저장한다.\n",
    "df_temp = pd.DataFrame(df_train['game_id'].unique(), columns=['game_id'], index=df_train['game_id'].unique(), )\n",
    "df_temp.shape"
   ]
  },
  {
   "cell_type": "code",
   "execution_count": 11,
   "metadata": {
    "colab": {},
    "colab_type": "code",
    "id": "wFfXr81YeWrv"
   },
   "outputs": [],
   "source": [
    "\n",
    "df_temp = df_temp.drop(['game_id'], axis = 1) # game_id 열을 삭제한다."
   ]
  },
  {
   "cell_type": "code",
   "execution_count": 12,
   "metadata": {
    "colab": {},
    "colab_type": "code",
    "id": "aFCZg9D6Jhx1",
    "scrolled": true
   },
   "outputs": [
    {
     "data": {
      "text/html": [
       "<div>\n",
       "<style scoped>\n",
       "    .dataframe tbody tr th:only-of-type {\n",
       "        vertical-align: middle;\n",
       "    }\n",
       "\n",
       "    .dataframe tbody tr th {\n",
       "        vertical-align: top;\n",
       "    }\n",
       "\n",
       "    .dataframe thead th {\n",
       "        text-align: right;\n",
       "    }\n",
       "</style>\n",
       "<table border=\"1\" class=\"dataframe\">\n",
       "  <thead>\n",
       "    <tr style=\"text-align: right;\">\n",
       "      <th></th>\n",
       "      <th>game_id</th>\n",
       "      <th>winner</th>\n",
       "      <th>time</th>\n",
       "      <th>player</th>\n",
       "      <th>species</th>\n",
       "      <th>event</th>\n",
       "      <th>event_contents</th>\n",
       "    </tr>\n",
       "  </thead>\n",
       "  <tbody>\n",
       "    <tr>\n",
       "      <th>0</th>\n",
       "      <td>0</td>\n",
       "      <td>1</td>\n",
       "      <td>0.00</td>\n",
       "      <td>0</td>\n",
       "      <td>T</td>\n",
       "      <td>Camera</td>\n",
       "      <td>at (145.25, 21.5078125)</td>\n",
       "    </tr>\n",
       "    <tr>\n",
       "      <th>1</th>\n",
       "      <td>0</td>\n",
       "      <td>1</td>\n",
       "      <td>0.00</td>\n",
       "      <td>1</td>\n",
       "      <td>T</td>\n",
       "      <td>Camera</td>\n",
       "      <td>at (22.75, 147.0078125)</td>\n",
       "    </tr>\n",
       "    <tr>\n",
       "      <th>2</th>\n",
       "      <td>0</td>\n",
       "      <td>1</td>\n",
       "      <td>0.02</td>\n",
       "      <td>0</td>\n",
       "      <td>T</td>\n",
       "      <td>Selection</td>\n",
       "      <td>['OrbitalCommand [3080001]']</td>\n",
       "    </tr>\n",
       "    <tr>\n",
       "      <th>3</th>\n",
       "      <td>0</td>\n",
       "      <td>1</td>\n",
       "      <td>0.02</td>\n",
       "      <td>0</td>\n",
       "      <td>T</td>\n",
       "      <td>Ability</td>\n",
       "      <td>(1360) - TrainSCV</td>\n",
       "    </tr>\n",
       "    <tr>\n",
       "      <th>4</th>\n",
       "      <td>0</td>\n",
       "      <td>1</td>\n",
       "      <td>0.14</td>\n",
       "      <td>0</td>\n",
       "      <td>T</td>\n",
       "      <td>Camera</td>\n",
       "      <td>at (142.99609375, 24.50390625)</td>\n",
       "    </tr>\n",
       "  </tbody>\n",
       "</table>\n",
       "</div>"
      ],
      "text/plain": [
       "   game_id  winner  time  player species      event  \\\n",
       "0        0       1  0.00       0       T     Camera   \n",
       "1        0       1  0.00       1       T     Camera   \n",
       "2        0       1  0.02       0       T  Selection   \n",
       "3        0       1  0.02       0       T    Ability   \n",
       "4        0       1  0.14       0       T     Camera   \n",
       "\n",
       "                   event_contents  \n",
       "0         at (145.25, 21.5078125)  \n",
       "1         at (22.75, 147.0078125)  \n",
       "2    ['OrbitalCommand [3080001]']  \n",
       "3               (1360) - TrainSCV  \n",
       "4  at (142.99609375, 24.50390625)  "
      ]
     },
     "execution_count": 12,
     "metadata": {},
     "output_type": "execute_result"
    }
   ],
   "source": [
    "df_train.head()"
   ]
  },
  {
   "cell_type": "code",
   "execution_count": 13,
   "metadata": {
    "colab": {},
    "colab_type": "code",
    "id": "hjj6YvwaJhtf"
   },
   "outputs": [],
   "source": [
    "# 처음 기록 된 카메라 좌표를 기록\n",
    "df_train_p0 = df_train[(df_train.event=='Camera')&(df_train.player==0)]\n",
    "df_train_p0 = df_train_p0[df_train_p0.shift(1).game_id != df_train_p0.game_id] # 쉬프트를 이용하여 각 게임의 첫번째 데이터 찾기\n",
    "df_train_p0 = df_train_p0.iloc[:, [0,6]].rename({'event_contents':'player0_starting'}, axis = 1)\n",
    "df_train_p0.index = df_train_p0['game_id']\n",
    "df_train_p0 = df_train_p0.drop(['game_id'], axis=1)\n",
    "df_train = pd.merge(df_train, df_train_p0, on='game_id', how='left')\n",
    "\n",
    "del df_train_p0"
   ]
  },
  {
   "cell_type": "code",
   "execution_count": 14,
   "metadata": {
    "colab": {},
    "colab_type": "code",
    "id": "SX0yKo1rNEkL"
   },
   "outputs": [],
   "source": [
    "# 처음 기록 된 카메라 좌표를 기록\n",
    "df_train_p1 = df_train[(df_train.event=='Camera')&(df_train.player==1)]\n",
    "df_train_p1 = df_train_p1[df_train_p1.shift(1).game_id!=df_train_p1.game_id]\n",
    "df_train_p1 = df_train_p1.iloc[:, [0,6]].rename({'event_contents':'player1_starting'}, axis = 1)\n",
    "df_train_p1.index = df_train_p1['game_id']\n",
    "df_train_p1 = df_train_p1.drop(['game_id'], axis=1)\n",
    "df_train = pd.merge(df_train, df_train_p1, on='game_id', how='left')\n",
    "\n",
    "del df_train_p1"
   ]
  },
  {
   "cell_type": "code",
   "execution_count": 15,
   "metadata": {
    "colab": {
     "base_uri": "https://localhost:8080/",
     "height": 225
    },
    "colab_type": "code",
    "executionInfo": {
     "elapsed": 135947,
     "status": "ok",
     "timestamp": 1585098575833,
     "user": {
      "displayName": "SuParX -K",
      "photoUrl": "https://lh3.googleusercontent.com/a-/AOh14GgAhLtiQrZfK-FHgn5GBmgExX619ygpOPHHdN4ZkU0=s64",
      "userId": "05876132496561296136"
     },
     "user_tz": -540
    },
    "id": "16y4WUmwNG7M",
    "outputId": "f3886dac-e9ce-47c3-df8d-120214f76e4c"
   },
   "outputs": [
    {
     "data": {
      "text/html": [
       "<div>\n",
       "<style scoped>\n",
       "    .dataframe tbody tr th:only-of-type {\n",
       "        vertical-align: middle;\n",
       "    }\n",
       "\n",
       "    .dataframe tbody tr th {\n",
       "        vertical-align: top;\n",
       "    }\n",
       "\n",
       "    .dataframe thead th {\n",
       "        text-align: right;\n",
       "    }\n",
       "</style>\n",
       "<table border=\"1\" class=\"dataframe\">\n",
       "  <thead>\n",
       "    <tr style=\"text-align: right;\">\n",
       "      <th></th>\n",
       "      <th>game_id</th>\n",
       "      <th>winner</th>\n",
       "      <th>time</th>\n",
       "      <th>player</th>\n",
       "      <th>species</th>\n",
       "      <th>event</th>\n",
       "      <th>event_contents</th>\n",
       "      <th>player0_starting</th>\n",
       "      <th>player1_starting</th>\n",
       "    </tr>\n",
       "  </thead>\n",
       "  <tbody>\n",
       "    <tr>\n",
       "      <th>0</th>\n",
       "      <td>0</td>\n",
       "      <td>1</td>\n",
       "      <td>0.00</td>\n",
       "      <td>0</td>\n",
       "      <td>T</td>\n",
       "      <td>Camera</td>\n",
       "      <td>at (145.25, 21.5078125)</td>\n",
       "      <td>at (145.25, 21.5078125)</td>\n",
       "      <td>at (22.75, 147.0078125)</td>\n",
       "    </tr>\n",
       "    <tr>\n",
       "      <th>1</th>\n",
       "      <td>0</td>\n",
       "      <td>1</td>\n",
       "      <td>0.00</td>\n",
       "      <td>1</td>\n",
       "      <td>T</td>\n",
       "      <td>Camera</td>\n",
       "      <td>at (22.75, 147.0078125)</td>\n",
       "      <td>at (145.25, 21.5078125)</td>\n",
       "      <td>at (22.75, 147.0078125)</td>\n",
       "    </tr>\n",
       "    <tr>\n",
       "      <th>2</th>\n",
       "      <td>0</td>\n",
       "      <td>1</td>\n",
       "      <td>0.02</td>\n",
       "      <td>0</td>\n",
       "      <td>T</td>\n",
       "      <td>Selection</td>\n",
       "      <td>['OrbitalCommand [3080001]']</td>\n",
       "      <td>at (145.25, 21.5078125)</td>\n",
       "      <td>at (22.75, 147.0078125)</td>\n",
       "    </tr>\n",
       "    <tr>\n",
       "      <th>3</th>\n",
       "      <td>0</td>\n",
       "      <td>1</td>\n",
       "      <td>0.02</td>\n",
       "      <td>0</td>\n",
       "      <td>T</td>\n",
       "      <td>Ability</td>\n",
       "      <td>(1360) - TrainSCV</td>\n",
       "      <td>at (145.25, 21.5078125)</td>\n",
       "      <td>at (22.75, 147.0078125)</td>\n",
       "    </tr>\n",
       "    <tr>\n",
       "      <th>4</th>\n",
       "      <td>0</td>\n",
       "      <td>1</td>\n",
       "      <td>0.14</td>\n",
       "      <td>0</td>\n",
       "      <td>T</td>\n",
       "      <td>Camera</td>\n",
       "      <td>at (142.99609375, 24.50390625)</td>\n",
       "      <td>at (145.25, 21.5078125)</td>\n",
       "      <td>at (22.75, 147.0078125)</td>\n",
       "    </tr>\n",
       "  </tbody>\n",
       "</table>\n",
       "</div>"
      ],
      "text/plain": [
       "   game_id  winner  time  player species      event  \\\n",
       "0        0       1  0.00       0       T     Camera   \n",
       "1        0       1  0.00       1       T     Camera   \n",
       "2        0       1  0.02       0       T  Selection   \n",
       "3        0       1  0.02       0       T    Ability   \n",
       "4        0       1  0.14       0       T     Camera   \n",
       "\n",
       "                   event_contents         player0_starting  \\\n",
       "0         at (145.25, 21.5078125)  at (145.25, 21.5078125)   \n",
       "1         at (22.75, 147.0078125)  at (145.25, 21.5078125)   \n",
       "2    ['OrbitalCommand [3080001]']  at (145.25, 21.5078125)   \n",
       "3               (1360) - TrainSCV  at (145.25, 21.5078125)   \n",
       "4  at (142.99609375, 24.50390625)  at (145.25, 21.5078125)   \n",
       "\n",
       "          player1_starting  \n",
       "0  at (22.75, 147.0078125)  \n",
       "1  at (22.75, 147.0078125)  \n",
       "2  at (22.75, 147.0078125)  \n",
       "3  at (22.75, 147.0078125)  \n",
       "4  at (22.75, 147.0078125)  "
      ]
     },
     "execution_count": 15,
     "metadata": {},
     "output_type": "execute_result"
    }
   ],
   "source": [
    "# 모든 게임의 첫번째 카메라 좌표\n",
    "df_train.head()"
   ]
  },
  {
   "cell_type": "code",
   "execution_count": null,
   "metadata": {
    "colab": {},
    "colab_type": "code",
    "id": "2Hp_631DNJUb"
   },
   "outputs": [],
   "source": [
    "# x, y 값으로 분리\n",
    "\n",
    "df_train['player0_starting'] = df_train.player0_starting.str.split('(').str[1]\n",
    "df_train['player0_starting'] = df_train.player0_starting.str.split(')').str[0]\n",
    "split_xy = df_train.player0_starting.str.split(',')\n",
    "df_train['player0_x'] = split_xy.str[0].astype('float')\n",
    "df_train['player0_y'] = split_xy.str[1].astype('float')\n",
    "del split_xy\n",
    "\n",
    "df_train['player1_starting'] = df_train.player1_starting.str.split('(').str[1]\n",
    "df_train['player1_starting'] = df_train.player1_starting.str.split(')').str[0]\n",
    "split_xy = df_train.player1_starting.str.split(',')\n",
    "df_train['player1_x'] = split_xy.str[0].astype('float')\n",
    "df_train['player1_y'] = split_xy.str[1].astype('float')\n",
    "del split_xy"
   ]
  },
  {
   "cell_type": "code",
   "execution_count": null,
   "metadata": {
    "colab": {
     "base_uri": "https://localhost:8080/",
     "height": 225
    },
    "colab_type": "code",
    "executionInfo": {
     "elapsed": 136490,
     "status": "ok",
     "timestamp": 1585098576429,
     "user": {
      "displayName": "SuParX -K",
      "photoUrl": "https://lh3.googleusercontent.com/a-/AOh14GgAhLtiQrZfK-FHgn5GBmgExX619ygpOPHHdN4ZkU0=s64",
      "userId": "05876132496561296136"
     },
     "user_tz": -540
    },
    "id": "QX4HFQCYNNFC",
    "outputId": "d008b860-1724-4496-d15e-94ebb49254c4"
   },
   "outputs": [],
   "source": [
    "df_train.head()"
   ]
  },
  {
   "cell_type": "code",
   "execution_count": null,
   "metadata": {
    "colab": {},
    "colab_type": "code",
    "id": "Omp_Ad5sNPro"
   },
   "outputs": [],
   "source": [
    "# 플레이어의 x,y 좌표를 하나로 모음\n",
    "\n",
    "location_p0 = df_train.loc[:, ['player0_x', 'player0_y']]\n",
    "location_p0 = location_p0.rename({'player0_x':'location_x', 'player0_y':'location_y'}, axis=1)\n",
    "\n",
    "location_p1 = df_train.loc[:, ['player1_x', 'player1_y']]\n",
    "location_p1 = location_p1.rename({'player1_x':'location_x', 'player1_y':'location_y'}, axis=1)\n",
    "location_p1.index += location_p0.index[-1]+1\n",
    "\n",
    "location = pd.concat([location_p0, location_p1])\n",
    "location = location.dropna()\n",
    "del location_p0, location_p1"
   ]
  },
  {
   "cell_type": "code",
   "execution_count": null,
   "metadata": {
    "colab": {
     "base_uri": "https://localhost:8080/",
     "height": 225
    },
    "colab_type": "code",
    "executionInfo": {
     "elapsed": 136464,
     "status": "ok",
     "timestamp": 1585098576431,
     "user": {
      "displayName": "SuParX -K",
      "photoUrl": "https://lh3.googleusercontent.com/a-/AOh14GgAhLtiQrZfK-FHgn5GBmgExX619ygpOPHHdN4ZkU0=s64",
      "userId": "05876132496561296136"
     },
     "user_tz": -540
    },
    "id": "l4GunLwiNS6B",
    "outputId": "0caecd64-a7c2-4773-975b-91faf45e6eb8"
   },
   "outputs": [],
   "source": [
    "location.head()"
   ]
  },
  {
   "cell_type": "code",
   "execution_count": null,
   "metadata": {
    "colab": {
     "base_uri": "https://localhost:8080/",
     "height": 384
    },
    "colab_type": "code",
    "executionInfo": {
     "elapsed": 137115,
     "status": "ok",
     "timestamp": 1585098577092,
     "user": {
      "displayName": "SuParX -K",
      "photoUrl": "https://lh3.googleusercontent.com/a-/AOh14GgAhLtiQrZfK-FHgn5GBmgExX619ygpOPHHdN4ZkU0=s64",
      "userId": "05876132496561296136"
     },
     "user_tz": -540
    },
    "id": "z2zS5ooFNUAX",
    "outputId": "11a7220a-7443-4673-9fe4-b6c644041ef4"
   },
   "outputs": [],
   "source": [
    "# 모든 포인트 시각화\n",
    "sns.lmplot('location_x', 'location_y', data = location, fit_reg=False)\n",
    "plt.title('starting point')\n",
    "plt.show()"
   ]
  },
  {
   "cell_type": "code",
   "execution_count": null,
   "metadata": {
    "colab": {
     "base_uri": "https://localhost:8080/",
     "height": 386
    },
    "colab_type": "code",
    "executionInfo": {
     "elapsed": 137106,
     "status": "ok",
     "timestamp": 1585098577094,
     "user": {
      "displayName": "SuParX -K",
      "photoUrl": "https://lh3.googleusercontent.com/a-/AOh14GgAhLtiQrZfK-FHgn5GBmgExX619ygpOPHHdN4ZkU0=s64",
      "userId": "05876132496561296136"
     },
     "user_tz": -540
    },
    "id": "q2DdgIX6NT9Z",
    "outputId": "d04dcff9-f6e6-491e-f11f-08edca1cf65e"
   },
   "outputs": [],
   "source": [
    "# 스타팅 컬럼을 카운팅을 해보면 15개의 포이트가 많음\n",
    "# 15개의 스타팅포인트 존재\n",
    "\n",
    "df_train.player0_starting.value_counts().head(20)"
   ]
  },
  {
   "cell_type": "code",
   "execution_count": null,
   "metadata": {
    "colab": {},
    "colab_type": "code",
    "id": "YhXO0zSeNT7s"
   },
   "outputs": [],
   "source": [
    "# kmeans를 이용하여 15개로 클러스터링\n",
    "kmeans_clst = KMeans(n_clusters=15).fit(location)\n",
    "location['starting'] = kmeans_clst.labels_+1"
   ]
  },
  {
   "cell_type": "code",
   "execution_count": null,
   "metadata": {
    "colab": {
     "base_uri": "https://localhost:8080/",
     "height": 225
    },
    "colab_type": "code",
    "executionInfo": {
     "elapsed": 138072,
     "status": "ok",
     "timestamp": 1585098578087,
     "user": {
      "displayName": "SuParX -K",
      "photoUrl": "https://lh3.googleusercontent.com/a-/AOh14GgAhLtiQrZfK-FHgn5GBmgExX619ygpOPHHdN4ZkU0=s64",
      "userId": "05876132496561296136"
     },
     "user_tz": -540
    },
    "id": "n1WHUqcqNT4h",
    "outputId": "33656ca1-4e0c-462b-b1a4-5db18818442a"
   },
   "outputs": [],
   "source": [
    "location.head()"
   ]
  },
  {
   "cell_type": "code",
   "execution_count": null,
   "metadata": {
    "colab": {
     "base_uri": "https://localhost:8080/",
     "height": 384
    },
    "colab_type": "code",
    "executionInfo": {
     "elapsed": 139354,
     "status": "ok",
     "timestamp": 1585098579408,
     "user": {
      "displayName": "SuParX -K",
      "photoUrl": "https://lh3.googleusercontent.com/a-/AOh14GgAhLtiQrZfK-FHgn5GBmgExX619ygpOPHHdN4ZkU0=s64",
      "userId": "05876132496561296136"
     },
     "user_tz": -540
    },
    "id": "tU491xgjNT19",
    "outputId": "7ce0356a-4fce-4668-ae36-b1b0117aeffc"
   },
   "outputs": [],
   "source": [
    "# 클러스트링한 결과를 시각화\n",
    "sns.lmplot('location_x', 'location_y', data = location, fit_reg=False, hue=\"starting\")\n",
    "plt.title('starting point')\n",
    "plt.show()\n",
    "\n",
    "# 초반 진행 화면이 누락 된 게임은 엉뚱하게 분류 됨"
   ]
  },
  {
   "cell_type": "code",
   "execution_count": null,
   "metadata": {
    "colab": {},
    "colab_type": "code",
    "id": "l7yQEhNHNTzX"
   },
   "outputs": [],
   "source": [
    "# kmeans로 찾은 15개의 포인트에서 각 데이터들의 거리 계산\n",
    "for cluster in range(15):\n",
    "    point = location[location.starting==cluster+1]\n",
    "    loc = point.loc[:,['location_x', 'location_y']]\n",
    "    del point\n",
    "    loc['center_x'] = kmeans_clst.cluster_centers_[cluster][0]\n",
    "    loc['center_y'] = kmeans_clst.cluster_centers_[cluster][1]\n",
    "    distance = np.sqrt(np. square(loc.location_x - loc.center_x) + np.square(loc.location_y - loc.center_y))\n",
    "    location.loc[loc.index, 'distance'] = distance\n",
    "    del loc"
   ]
  },
  {
   "cell_type": "code",
   "execution_count": null,
   "metadata": {
    "colab": {
     "base_uri": "https://localhost:8080/",
     "height": 225
    },
    "colab_type": "code",
    "executionInfo": {
     "elapsed": 139305,
     "status": "ok",
     "timestamp": 1585098579410,
     "user": {
      "displayName": "SuParX -K",
      "photoUrl": "https://lh3.googleusercontent.com/a-/AOh14GgAhLtiQrZfK-FHgn5GBmgExX619ygpOPHHdN4ZkU0=s64",
      "userId": "05876132496561296136"
     },
     "user_tz": -540
    },
    "id": "Pd1DccBwNTwU",
    "outputId": "6f4b9dc9-5c2a-4953-c7ad-d3c52529627f"
   },
   "outputs": [],
   "source": [
    "location.head()"
   ]
  },
  {
   "cell_type": "code",
   "execution_count": null,
   "metadata": {
    "colab": {},
    "colab_type": "code",
    "id": "GPZybmaPNTpf"
   },
   "outputs": [],
   "source": [
    "# 일정 거리(5)이상 떨어진 데이터는 starting을 0으로 지정\n",
    "idx = location[location.distance>5].index\n",
    "location.loc[idx, 'starting'] = 0\n",
    "del idx"
   ]
  },
  {
   "cell_type": "code",
   "execution_count": null,
   "metadata": {
    "colab": {
     "base_uri": "https://localhost:8080/",
     "height": 384
    },
    "colab_type": "code",
    "executionInfo": {
     "elapsed": 140481,
     "status": "ok",
     "timestamp": 1585098580618,
     "user": {
      "displayName": "SuParX -K",
      "photoUrl": "https://lh3.googleusercontent.com/a-/AOh14GgAhLtiQrZfK-FHgn5GBmgExX619ygpOPHHdN4ZkU0=s64",
      "userId": "05876132496561296136"
     },
     "user_tz": -540
    },
    "id": "AuV2C6YaNrTx",
    "outputId": "0a29c76c-ab1e-4265-ba56-1f9e640377e1"
   },
   "outputs": [],
   "source": [
    "# 시각화를 통해 스타팅을 모르는 게임은 분홍색(0)으로 나타며 15개의 스타팅 포인트를 확인 할 수 있음.\n",
    "sns.lmplot('location_x', 'location_y', data = location, fit_reg=False, hue=\"starting\")\n",
    "plt.title('starting point')\n",
    "plt.show()"
   ]
  },
  {
   "cell_type": "code",
   "execution_count": null,
   "metadata": {
    "colab": {},
    "colab_type": "code",
    "id": "Sl6A5SRUNrQd"
   },
   "outputs": [],
   "source": [
    "# 클러스터링한 결과 반영\n",
    "df_train['player0_starting'] = location.loc[df_train.index, 'starting']\n",
    "location.index -= (df_train.index[-1]+1)\n",
    "df_train['player1_starting'] = location.loc[df_train.index, 'starting']\n",
    "del location\n",
    "\n",
    "# 불필요한 컬럼 삭제\n",
    "df_train = df_train.drop(['player0_x', 'player0_y', 'player1_x', 'player1_y'], axis = 1)\n",
    "df_train = df_train.fillna(0)"
   ]
  },
  {
   "cell_type": "code",
   "execution_count": null,
   "metadata": {
    "colab": {
     "base_uri": "https://localhost:8080/",
     "height": 225
    },
    "colab_type": "code",
    "executionInfo": {
     "elapsed": 140457,
     "status": "ok",
     "timestamp": 1585098580620,
     "user": {
      "displayName": "SuParX -K",
      "photoUrl": "https://lh3.googleusercontent.com/a-/AOh14GgAhLtiQrZfK-FHgn5GBmgExX619ygpOPHHdN4ZkU0=s64",
      "userId": "05876132496561296136"
     },
     "user_tz": -540
    },
    "id": "0G_7_b9iNrLI",
    "outputId": "7ae31ce0-76f9-4c79-c3f8-cc50199b1e2d"
   },
   "outputs": [],
   "source": [
    "df_train.head()"
   ]
  },
  {
   "cell_type": "code",
   "execution_count": null,
   "metadata": {
    "colab": {},
    "colab_type": "code",
    "id": "-fHRK-eJNrHi"
   },
   "outputs": [],
   "source": [
    "# 스타팅 포인트를 이용하여 맵 분류\n",
    "map_list = []\n",
    "for point in range(1,16):\n",
    "    couple = df_train[df_train.player0_starting == point].player1_starting.value_counts()\n",
    "    if couple[couple.index[1]]<100:\n",
    "        map_list.append([point, couple.index[0], 999])\n",
    "    else:\n",
    "        map_list.append([point, couple.index[0], couple.index[1]])\n",
    "map_list = np.sort(map_list, axis = 1)\n",
    "map_list = np.unique(map_list, axis = 0)"
   ]
  },
  {
   "cell_type": "code",
   "execution_count": null,
   "metadata": {
    "colab": {
     "base_uri": "https://localhost:8080/",
     "height": 140
    },
    "colab_type": "code",
    "executionInfo": {
     "elapsed": 140434,
     "status": "ok",
     "timestamp": 1585098580622,
     "user": {
      "displayName": "SuParX -K",
      "photoUrl": "https://lh3.googleusercontent.com/a-/AOh14GgAhLtiQrZfK-FHgn5GBmgExX619ygpOPHHdN4ZkU0=s64",
      "userId": "05876132496561296136"
     },
     "user_tz": -540
    },
    "id": "HnEymp55NrF0",
    "outputId": "0cd8d6fc-6641-4521-ccab-0d1f0a307152"
   },
   "outputs": [],
   "source": [
    "# 6개의 2인용 맵과 1개의 3인용 맵이 존재\n",
    "\n",
    "# TMI: 스타크래프트2 공허의유산 래더에서 3인용 맵이 쓰인적은 '까탈레나' 딱 한 번.\n",
    "# 이를 통해 2017년 7월20일 ~ 2017년 11월16일 사이에 진행 된 게임 정보라는 것을 알 수 있음.\n",
    "# 나머지 6개의 맵은 '어비설리프', '어센션투아이어', '애컬라이트', '인터로퍼', '오딧세이', '메크디포'\n",
    "# 근데 결과 예측하는데 맵 이름 상관 없음\n",
    "map_list"
   ]
  },
  {
   "cell_type": "code",
   "execution_count": null,
   "metadata": {
    "colab": {
     "base_uri": "https://localhost:8080/",
     "height": 34
    },
    "colab_type": "code",
    "executionInfo": {
     "elapsed": 140421,
     "status": "ok",
     "timestamp": 1585098580623,
     "user": {
      "displayName": "SuParX -K",
      "photoUrl": "https://lh3.googleusercontent.com/a-/AOh14GgAhLtiQrZfK-FHgn5GBmgExX619ygpOPHHdN4ZkU0=s64",
      "userId": "05876132496561296136"
     },
     "user_tz": -540
    },
    "id": "PXxmDdSbNrDD",
    "outputId": "b5fbc601-35c9-45ce-e384-ff13f51d283b"
   },
   "outputs": [],
   "source": [
    "# 스타팅을 모르는 게임 수 확인.\n",
    "len(df_train[(df_train.player0_starting == 0)|(df_train.player1_starting == 0)])\n",
    "258"
   ]
  },
  {
   "cell_type": "code",
   "execution_count": null,
   "metadata": {
    "colab": {},
    "colab_type": "code",
    "id": "pKFGG3tvNq_u"
   },
   "outputs": [],
   "source": [
    "# map_list와 상대편 위치 정보를 이용하여 모르는 스타팅 찾기\n",
    "for m in map_list:\n",
    "    idx = df_train[(df_train.player0_starting == 0)&((df_train.player1_starting == m[0])|(df_train.player1_starting == m[2]))].index\n",
    "    df_train.loc[idx, 'player0_starting'] = m[1]\n",
    "    del idx\n",
    "    idx = df_train[(df_train.player0_starting == 0)&((df_train.player1_starting == m[1])|(df_train.player1_starting == m[2]))].index\n",
    "    df_train.loc[idx, 'player0_starting'] = m[0]\n",
    "    del idx\n",
    "    \n",
    "    idx = df_train[(df_train.player1_starting == 0)&((df_train.player0_starting == m[0])|(df_train.player0_starting == m[2]))].index\n",
    "    df_train.loc[idx, 'player1_starting'] = m[1]\n",
    "    del idx\n",
    "    idx = df_train[(df_train.player1_starting == 0)&((df_train.player0_starting == m[1])|(df_train.player0_starting == m[2]))].index\n",
    "    df_train.loc[idx, 'player1_starting'] = m[0]\n",
    "    del idx"
   ]
  },
  {
   "cell_type": "code",
   "execution_count": null,
   "metadata": {
    "colab": {
     "base_uri": "https://localhost:8080/",
     "height": 77
    },
    "colab_type": "code",
    "executionInfo": {
     "elapsed": 140403,
     "status": "ok",
     "timestamp": 1585098580624,
     "user": {
      "displayName": "SuParX -K",
      "photoUrl": "https://lh3.googleusercontent.com/a-/AOh14GgAhLtiQrZfK-FHgn5GBmgExX619ygpOPHHdN4ZkU0=s64",
      "userId": "05876132496561296136"
     },
     "user_tz": -540
    },
    "id": "OTPTQu-YN-7E",
    "outputId": "50a21932-3108-4b13-c88e-641f1446620d"
   },
   "outputs": [],
   "source": [
    "# 모든 게임의 스타팅포인트를 찾음\n",
    "df_train[(df_train.player0_starting == 0)|(df_train.player1_starting == 0)].head()\t"
   ]
  },
  {
   "cell_type": "code",
   "execution_count": null,
   "metadata": {
    "colab": {},
    "colab_type": "code",
    "id": "ua0_-Z76N-5O"
   },
   "outputs": [],
   "source": [
    "# 맵 컬럼 추가\n",
    "for map_num, m in enumerate(map_list):\n",
    "    idx = df_train[(df_train.player0_starting == m[0])|(df_train.player0_starting == m[1])|(df_train.player0_starting == m[2])].index\n",
    "    df_train.loc[idx, 'map'] = map_num\n",
    "del idx, map_list"
   ]
  },
  {
   "cell_type": "code",
   "execution_count": null,
   "metadata": {
    "colab": {
     "base_uri": "https://localhost:8080/",
     "height": 225
    },
    "colab_type": "code",
    "executionInfo": {
     "elapsed": 617,
     "status": "ok",
     "timestamp": 1585098882486,
     "user": {
      "displayName": "SuParX -K",
      "photoUrl": "https://lh3.googleusercontent.com/a-/AOh14GgAhLtiQrZfK-FHgn5GBmgExX619ygpOPHHdN4ZkU0=s64",
      "userId": "05876132496561296136"
     },
     "user_tz": -540
    },
    "id": "TPlbgaGAN-w8",
    "outputId": "9d3ba9af-cb70-4ede-a89f-538c316b084a"
   },
   "outputs": [],
   "source": [
    "# 스타팅포인트, 맵 클러스터링 끝\n",
    "df_train.head()"
   ]
  }
 ],
 "metadata": {
  "colab": {
   "authorship_tag": "ABX9TyMBQl47ybFztKfuim+/pO56",
   "collapsed_sections": [],
   "mount_file_id": "1kPFEqU5AGb3E3Rb4ejx3DuI1_J7GJjpZ",
   "name": "Kmeans_clustering_map_distance.ipynb",
   "provenance": []
  },
  "kernelspec": {
   "display_name": "Python 3",
   "language": "python",
   "name": "python3"
  },
  "language_info": {
   "codemirror_mode": {
    "name": "ipython",
    "version": 3
   },
   "file_extension": ".py",
   "mimetype": "text/x-python",
   "name": "python",
   "nbconvert_exporter": "python",
   "pygments_lexer": "ipython3",
   "version": "3.7.6"
  }
 },
 "nbformat": 4,
 "nbformat_minor": 1
}
