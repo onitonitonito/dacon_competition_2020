{
 "cells": [
  {
   "cell_type": "markdown",
   "metadata": {
    "colab_type": "text",
    "id": "5dANdFCEJmjj"
   },
   "source": [
    "### 종족전별 데이터 분류\n",
    "\n",
    "- 데이터를 종족전별로 분류하는 코드입니다.\n",
    "- 모든 종족전을 한번에 처리하는 것보다 분할하여 분석시 크기도 줄어들고 유리한 점이 많이 있을 것으로 보입니다.\n",
    "- ※ 6번째 셀 주석이 틀렸네요. TvsZ가 더 많습니다. \n",
    "\n",
    "| <h4> 2020.03.06 13:31 </h4> | <h5> - 종족전별 데이터 분류  [[ 데이콘 링크 ]](https://dacon.io/competitions/official/235583/codeshare/712/) </h5>|\n",
    "|:-------|:---------:\n",
    "|view    | 230\n",
    "|language| Python\n",
    "|by Eunil| 댓글 0\n"
   ]
  },
  {
   "cell_type": "code",
   "execution_count": 1,
   "metadata": {
    "colab": {},
    "colab_type": "code",
    "id": "70hWiszUJhp-"
   },
   "outputs": [],
   "source": [
    "import numpy as np\n",
    "import pandas as pd"
   ]
  },
  {
   "cell_type": "code",
   "execution_count": 2,
   "metadata": {
    "colab": {},
    "colab_type": "code",
    "id": "Hr2FguU1R641"
   },
   "outputs": [],
   "source": [
    "import warnings                             \n",
    "warnings.filterwarnings(\"ignore\")"
   ]
  },
  {
   "cell_type": "code",
   "execution_count": 3,
   "metadata": {
    "colab": {},
    "colab_type": "code",
    "id": "d7XM0-fqMg8f"
   },
   "outputs": [],
   "source": [
    "\"\"\"\n",
    "# 기본 DIR 구조를 입력한다. - _assets 폴더 제외!\n",
    "# /content/drive/My Drive/Colab Notebooks/\n",
    "# dir_base = '/content/drive/My Drive/Colab Notebooks/competition/''\n",
    "\"\"\"\n",
    "dir_base = '/home/yk/0325_Starcraft/competition/'\n",
    "\n",
    "raw      = 'c03_starcraft_prediction/data_raw/'\n",
    "remake   = 'c03_starcraft_prediction/data_remake/'\n",
    "submit   = 'c03_starcraft_prediction/data_submit/'\n",
    "\n",
    "assets = '/home/yk/0325_Starcraft/competition/_assets'"
   ]
  },
  {
   "cell_type": "markdown",
   "metadata": {
    "colab_type": "text",
    "id": "_MQ6SCIRQwnH"
   },
   "source": [
    "### 2.0 Data Read / 기본정보탐색"
   ]
  },
  {
   "cell_type": "code",
   "execution_count": 4,
   "metadata": {
    "colab": {},
    "colab_type": "code",
    "id": "KglDda6U3eGM"
   },
   "outputs": [],
   "source": [
    "train = pd.read_csv(dir_base + raw + 'train.csv')"
   ]
  },
  {
   "cell_type": "code",
   "execution_count": 5,
   "metadata": {
    "colab": {},
    "colab_type": "code",
    "id": "idsje_Uv3KCD"
   },
   "outputs": [],
   "source": [
    "t_games = train[train.species=='T'].game_id.unique() # 테란이 포함 game_id\n",
    "p_games = train[train.species=='P'].game_id.unique() # 프로토스가 포함 game_id\n",
    "z_games = train[train.species=='Z'].game_id.unique() # 저그가 포함 game_id"
   ]
  },
  {
   "cell_type": "code",
   "execution_count": 6,
   "metadata": {
    "colab": {},
    "colab_type": "code",
    "id": "bomt9R5l3YmR"
   },
   "outputs": [],
   "source": [
    "tp_games = np.intersect1d(t_games, p_games) # 테란과 프로토스가 포함된 game_id, TvsP\n",
    "tz_games = np.intersect1d(t_games, z_games) # 테란과 저그가 포함된 game_id, TvsP\n",
    "pz_games = np.intersect1d(p_games, z_games) # 프로토스와 저그가 포함된 game_id, TvsP"
   ]
  },
  {
   "cell_type": "code",
   "execution_count": 7,
   "metadata": {
    "colab": {},
    "colab_type": "code",
    "id": "rTywYPV5364W"
   },
   "outputs": [],
   "source": [
    "tt_games = np.setdiff1d(t_games, p_games) # 테란 게임에서 프로토스 제외\n",
    "tt_games = np.setdiff1d(tt_games, z_games) # 테란 게임에서 저그도 제외. 테란만 남음. ZvsZ\n",
    "\n",
    "pp_games = np.setdiff1d(p_games, t_games) # 프로토스 게임에서 테란 제외\n",
    "pp_games = np.setdiff1d(pp_games, z_games) # 프로토스 게임에서 저그도 제외. 프로토스만 남음. PvsP\n",
    "\n",
    "zz_games = np.setdiff1d(z_games, t_games) # 저그 게임에서 테란 제외\n",
    "zz_games = np.setdiff1d(zz_games, p_games) # 저그 게임에서 프로토스도 제외. 저그만 남음. ZvsZ"
   ]
  },
  {
   "cell_type": "code",
   "execution_count": 8,
   "metadata": {
    "colab": {
     "base_uri": "https://localhost:8080/",
     "height": 34
    },
    "colab_type": "code",
    "executionInfo": {
     "elapsed": 1016,
     "status": "ok",
     "timestamp": 1585126060793,
     "user": {
      "displayName": "SuParX -K",
      "photoUrl": "https://lh3.googleusercontent.com/a-/AOh14GgAhLtiQrZfK-FHgn5GBmgExX619ygpOPHHdN4ZkU0=s64",
      "userId": "05876132496561296136"
     },
     "user_tz": -540
    },
    "id": "sDVhHOip39ol",
    "outputId": "a798cae7-cfdc-4f0b-b7a8-a139a0445726"
   },
   "outputs": [
    {
     "data": {
      "text/plain": [
       "(5667, 2952, 4025, 8691, 10308, 7229)"
      ]
     },
     "execution_count": 8,
     "metadata": {},
     "output_type": "execute_result"
    }
   ],
   "source": [
    "# 종족전별 게임 수. PvsP가 적고, TvsP가 많음\n",
    "len(tt_games),len(pp_games),len(zz_games),len(tp_games),len(tz_games),len(pz_games)"
   ]
  },
  {
   "cell_type": "code",
   "execution_count": 9,
   "metadata": {
    "colab": {
     "base_uri": "https://localhost:8080/",
     "height": 34
    },
    "colab_type": "code",
    "executionInfo": {
     "elapsed": 1406,
     "status": "ok",
     "timestamp": 1585126061190,
     "user": {
      "displayName": "SuParX -K",
      "photoUrl": "https://lh3.googleusercontent.com/a-/AOh14GgAhLtiQrZfK-FHgn5GBmgExX619ygpOPHHdN4ZkU0=s64",
      "userId": "05876132496561296136"
     },
     "user_tz": -540
    },
    "id": "NFgWYmXQ3_3B",
    "outputId": "cf380810-5f17-4e53-87cc-65c362a6a37f"
   },
   "outputs": [
    {
     "data": {
      "text/plain": [
       "(38872, 38872)"
      ]
     },
     "execution_count": 9,
     "metadata": {},
     "output_type": "execute_result"
    }
   ],
   "source": [
    "# 게임 수가 맞는지 확인\n",
    "len(train.game_id.unique()),len(tt_games)+len(pp_games)+len(zz_games)+len(tp_games)+len(tz_games)+len(pz_games)"
   ]
  },
  {
   "cell_type": "code",
   "execution_count": 10,
   "metadata": {
    "colab": {
     "base_uri": "https://localhost:8080/",
     "height": 34
    },
    "colab_type": "code",
    "executionInfo": {
     "elapsed": 37569,
     "status": "ok",
     "timestamp": 1585126228410,
     "user": {
      "displayName": "SuParX -K",
      "photoUrl": "https://lh3.googleusercontent.com/a-/AOh14GgAhLtiQrZfK-FHgn5GBmgExX619ygpOPHHdN4ZkU0=s64",
      "userId": "05876132496561296136"
     },
     "user_tz": -540
    },
    "id": "kA1WTrIF4B6V",
    "outputId": "16932313-f79d-4825-838e-5a097fa442b4"
   },
   "outputs": [
    {
     "data": {
      "text/plain": [
       "array(['Z', 'P'], dtype=object)"
      ]
     },
     "execution_count": 10,
     "metadata": {},
     "output_type": "execute_result"
    }
   ],
   "source": [
    "# TvsT 종족 확인\n",
    "train[train.game_id.isin(tt_games)].species.unique()\n",
    "\n",
    "# PvsP 종족 확인\n",
    "train[train.game_id.isin(pp_games)].species.unique()\n",
    "\n",
    "# ZvsZ 종족 확인\n",
    "train[train.game_id.isin(zz_games)].species.unique()\n",
    "\n",
    "# TvsP 종족 확인\n",
    "train[train.game_id.isin(tp_games)].species.unique()\n",
    "\n",
    "# ZvsT 종족 확인\n",
    "train[train.game_id.isin(tz_games)].species.unique()\n",
    "\n",
    "# ZvsP 종족 확인\n",
    "train[train.game_id.isin(pz_games)].species.unique()"
   ]
  },
  {
   "cell_type": "markdown",
   "metadata": {
    "colab_type": "text",
    "id": "q9UK2NAz4p7z"
   },
   "source": [
    "### 3.0 계산결과 저장 (Remake)"
   ]
  },
  {
   "cell_type": "code",
   "execution_count": 11,
   "metadata": {
    "colab": {},
    "colab_type": "code",
    "id": "5C08e8QH4XRZ"
   },
   "outputs": [],
   "source": [
    "%%time\n",
    "train[train.game_id.isin(tt_games)].to_csv( dir_base + remake + 'train_tt.csv') # TvsT 저장\n",
    "train[train.game_id.isin(pp_games)].to_csv( dir_base + remake + 'train_pp.csv') # PvsP 저장\n",
    "train[train.game_id.isin(zz_games)].to_csv( dir_base + remake + 'train_zz.csv') # ZvsZ 저장\n",
    "train[train.game_id.isin(tp_games)].to_csv( dir_base + remake + 'train_tp.csv') # TvsP 저장\n",
    "train[train.game_id.isin(tz_games)].to_csv( dir_base + remake + 'train_tz.csv') # TvsZ 저장\n",
    "train[train.game_id.isin(pz_games)].to_csv( dir_base + remake + 'train_pz.csv') # PvsZ 저장"
   ]
  },
  {
   "cell_type": "markdown",
   "metadata": {
    "colab_type": "text",
    "id": "7Oj_h8as4XFp"
   },
   "source": []
  },
  {
   "cell_type": "code",
   "execution_count": 16,
   "metadata": {},
   "outputs": [],
   "source": [
    "df_train_tt = train[train.game_id.isin(tt_games)]\n",
    "df_train_pp = train[train.game_id.isin(pp_games)]\n",
    "df_train_zz = train[train.game_id.isin(zz_games)]\n",
    "df_train_tp = train[train.game_id.isin(tp_games)]\n",
    "df_train_tz = train[train.game_id.isin(tz_games)]\n",
    "df_train_pz = train[train.game_id.isin(pz_games)]\n",
    "\n",
    "del(train)"
   ]
  },
  {
   "cell_type": "code",
   "execution_count": 30,
   "metadata": {},
   "outputs": [
    {
     "data": {
      "text/plain": [
       "0.3523473607394794"
      ]
     },
     "execution_count": 30,
     "metadata": {},
     "output_type": "execute_result"
    }
   ],
   "source": [
    "t_games.shape                 # 테란종족 포함된 game_id 갯수 = (24666,)\n",
    "tp_games.shape                # T + P 종족 포함된 game_id 갯수 = (8691,)\n",
    "tp_games.shape[0] / t_games.shape[0]     # 35%"
   ]
  },
  {
   "cell_type": "code",
   "execution_count": 53,
   "metadata": {},
   "outputs": [
    {
     "data": {
      "text/plain": [
       "(5667,)"
      ]
     },
     "execution_count": 53,
     "metadata": {},
     "output_type": "execute_result"
    }
   ],
   "source": []
  },
  {
   "cell_type": "code",
   "execution_count": 39,
   "metadata": {},
   "outputs": [],
   "source": [
    "p0_dict = dict(df_train_tt['event'][df_train_tt['player'] == 0].value_counts())\n",
    "p1_dict = dict(df_train_tt['event'][df_train_tt['player'] == 1].value_counts())"
   ]
  },
  {
   "cell_type": "code",
   "execution_count": 47,
   "metadata": {},
   "outputs": [
    {
     "name": "stdout",
     "output_type": "stream",
     "text": [
      "01.'Camera              ' = 99.286%\n",
      "02.'GetControlGroup     ' = 98.187%\n",
      "03.'Right Click         ' = 99.945%\n",
      "04.'Selection           ' = 99.682%\n",
      "05.'Ability             ' = 99.29%\n",
      "06.'SetControlGroup     ' = 99.419%\n",
      "07.'AddToControlGroup   ' = 101.93%\n",
      "08.'ControlGroup        ' = 104.46%\n"
     ]
    }
   ],
   "source": [
    "for i, key in enumerate(p0_dict.keys(),1):\n",
    "    _rate = p0_dict[key] / p1_dict[key]\n",
    "    print(f\"{i:02}.'{key:20}' = {_rate*100:0.5}%\")"
   ]
  },
  {
   "cell_type": "code",
   "execution_count": null,
   "metadata": {},
   "outputs": [],
   "source": []
  }
 ],
 "metadata": {
  "colab": {
   "authorship_tag": "ABX9TyPbo12tygdx52b+nYITnIaz",
   "collapsed_sections": [],
   "mount_file_id": "1kPFEqU5AGb3E3Rb4ejx3DuI1_J7GJjpZ",
   "name": "by Eunil_battle_between_spieces.ipynb",
   "provenance": [
    {
     "file_id": "1kPFEqU5AGb3E3Rb4ejx3DuI1_J7GJjpZ",
     "timestamp": 1585125575345
    }
   ],
   "toc_visible": true
  },
  "kernelspec": {
   "display_name": "Python 3",
   "language": "python",
   "name": "python3"
  },
  "language_info": {
   "codemirror_mode": {
    "name": "ipython",
    "version": 3
   },
   "file_extension": ".py",
   "mimetype": "text/x-python",
   "name": "python",
   "nbconvert_exporter": "python",
   "pygments_lexer": "ipython3",
   "version": "3.7.6"
  }
 },
 "nbformat": 4,
 "nbformat_minor": 1
}
