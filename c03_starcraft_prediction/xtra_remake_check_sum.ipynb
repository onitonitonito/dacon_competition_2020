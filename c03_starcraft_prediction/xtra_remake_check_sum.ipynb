{
 "cells": [
  {
   "cell_type": "markdown",
   "metadata": {},
   "source": [
    "| <img src ='https://bit.ly/39XPeCc' width=200 align='left'> |\n",
    "|:--|\n",
    "|<h1>    xtra_remake_check_sum.ipynb \n",
    "</h1> \n",
    "|- Merge, join, and concatenate — pandas 1.0.3 documentation \n",
    "|- https://pandas.pydata.org/pandas-docs/stable/user_guide/merging.html                      "
   ]
  },
  {
   "cell_type": "code",
   "execution_count": 1,
   "metadata": {},
   "outputs": [
    {
     "data": {
      "text/plain": [
       "'\\n# 최종 결과를 저장할 화일 이름을 적는다.\\n# command 문 처리로, 변수 할당이 없으면 기록은 OFF!\\n'"
      ]
     },
     "execution_count": 1,
     "metadata": {},
     "output_type": "execute_result"
    }
   ],
   "source": [
    "\"\"\"\n",
    "# 최종 결과를 저장할 화일 이름을 적는다.\n",
    "# command 문 처리로, 변수 할당이 없으면 기록은 OFF!\n",
    "\"\"\"\n",
    "# filename_result_01 = 'xtra_remake_xtrain_final.csv'   # 컬럼을 맞춘 후, remake_final 병합\n",
    "# filename_result_02 = 'xtra_remake_xtest_final.csv'    # 컬럼을 맞춘 후, remake_final 병합"
   ]
  },
  {
   "cell_type": "markdown",
   "metadata": {},
   "source": [
    "## 사용함수의 정의"
   ]
  },
  {
   "cell_type": "code",
   "execution_count": 2,
   "metadata": {},
   "outputs": [
    {
     "name": "stdout",
     "output_type": "stream",
     "text": [
      "\n",
      "# 화일분석에 필요한 공동폴더를 등록합니다.\n",
      "- assets   = '/home/yk/0325_Starcraft/competition/_assets'\n",
      "- statics   = '/home/yk/0325_Starcraft/competition/_assets'\n",
      "\n",
      "***'/home/yk/0325_Starcraft/competition/' has set in SYS.PATH! ***\n",
      "\n",
      "01./home/yk/0325_Starcraft/competition/\n",
      "02./home/yk/0325_Starcraft/competition/c03_starcraft_prediction\n",
      "03./home/yk/anaconda3/lib/python37.zip\n",
      "04./home/yk/anaconda3/lib/python3.7\n",
      "05./home/yk/anaconda3/lib/python3.7/lib-dynload\n",
      "06.\n",
      "07./home/yk/anaconda3/lib/python3.7/site-packages\n",
      "08./home/yk/anaconda3/lib/python3.7/site-packages/IPython/extensions\n",
      "09./home/yk/.ipython\n",
      "\n",
      "# OS 화일 및 DF 정보조회를 위한 탐색 모듈\n",
      "\n",
      "\n",
      "# GAME_ID 유니크 데이터 전처리를 위한 모듈 - baseline offer\n",
      "\n"
     ]
    }
   ],
   "source": [
    "\"\"\"\n",
    "# _asset dir로 작업폴더 위치를 변경, 1차적으로 모듈 import!\n",
    "# dir_base = '/home/yk/0325_Starcraft/competition/'\n",
    "\"\"\"\n",
    "dir_base = '/home/yk/0325_Starcraft/competition/'\n",
    "\n",
    "import os\n",
    "os.chdir(dir_base)     \n",
    "\n",
    "from _assets.config_dirs import *\n",
    "from _assets.modules import *\n",
    "from _assets.module_data_preps import *"
   ]
  },
  {
   "cell_type": "markdown",
   "metadata": {},
   "source": [
    "# df_xtrain / df_xtest\n",
    "- df_xtrain.shape = (38872, 1614) \n",
    "- df_xtest.shape  = (16787, 1554)"
   ]
  },
  {
   "cell_type": "code",
   "execution_count": 3,
   "metadata": {},
   "outputs": [],
   "source": [
    "df_xtrain = pd.read_csv(dir_base + remake + 'xtra_remake_xtrain.csv')  # 1,613\n",
    "df_xtrain.index = df_xtrain.game_id.copy()\n",
    "\n",
    "df_xtest  = pd.read_csv(dir_base + remake + 'xtra_remake_xtest.csv')   # 1,554 ... 60개 차이남\n",
    "df_xtest.index = df_xtest.game_id.copy()"
   ]
  },
  {
   "cell_type": "code",
   "execution_count": 4,
   "metadata": {},
   "outputs": [
    {
     "data": {
      "text/plain": [
       "((38872, 1614), (16787, 1554))"
      ]
     },
     "execution_count": 4,
     "metadata": {},
     "output_type": "execute_result"
    }
   ],
   "source": [
    "df_xtrain.shape, df_xtest.shape"
   ]
  },
  {
   "cell_type": "code",
   "execution_count": 5,
   "metadata": {},
   "outputs": [
    {
     "data": {
      "text/plain": [
       "Index(['Ability0_', 'Ability0_AdeptPhaseShift',\n",
       "       'Ability0_AdeptPhaseShiftCancel', 'Ability0_AdeptShadePhaseShiftCancel',\n",
       "       'Ability0_ArchonWarpSelection', 'Ability0_AssaultMode',\n",
       "       'Ability0_Attack', 'Ability0_BattleMode', 'Ability0_Blink',\n",
       "       'Ability0_BuildArmory',\n",
       "       ...\n",
       "       'rc_delta_TargetVoidRayLocation', 'rc_delta_TargetWarpGateLocation',\n",
       "       'rc_delta_TargetWarpPrismLocation',\n",
       "       'rc_delta_TargetWarpPrismPhasingLocation',\n",
       "       'rc_delta_TargetWeaponLocation',\n",
       "       'rc_delta_TargetXelNagaDestructibleBlocker8WLocation',\n",
       "       'rc_delta_TargetXelNagaTowerLocation', 'rc_delta_TargetZealotLocation',\n",
       "       'rc_delta_TargetZerglingBurrowedLocation',\n",
       "       'rc_delta_TargetZerglingLocation'],\n",
       "      dtype='object', length=1554)"
      ]
     },
     "execution_count": 5,
     "metadata": {},
     "output_type": "execute_result"
    }
   ],
   "source": [
    "cols_xtest = df_xtest.columns\n",
    "cols_xtest = cols_xtest.sort_values().unique()\n",
    "cols_xtest"
   ]
  },
  {
   "cell_type": "code",
   "execution_count": 6,
   "metadata": {},
   "outputs": [
    {
     "data": {
      "text/plain": [
       "Index(['Ability0_', 'Ability0_AdeptPhaseShift',\n",
       "       'Ability0_AdeptPhaseShiftCancel', 'Ability0_AdeptShadePhaseShiftCancel',\n",
       "       'Ability0_ArchonWarpSelection', 'Ability0_AssaultMode',\n",
       "       'Ability0_Attack', 'Ability0_BattleMode', 'Ability0_Blink',\n",
       "       'Ability0_BuildArmory',\n",
       "       ...\n",
       "       'rc_delta_TargetVoidRayLocation', 'rc_delta_TargetWarpGateLocation',\n",
       "       'rc_delta_TargetWarpPrismLocation',\n",
       "       'rc_delta_TargetWarpPrismPhasingLocation',\n",
       "       'rc_delta_TargetWeaponLocation',\n",
       "       'rc_delta_TargetXelNagaDestructibleBlocker8WLocation',\n",
       "       'rc_delta_TargetXelNagaTowerLocation', 'rc_delta_TargetZealotLocation',\n",
       "       'rc_delta_TargetZerglingBurrowedLocation',\n",
       "       'rc_delta_TargetZerglingLocation'],\n",
       "      dtype='object', length=1614)"
      ]
     },
     "execution_count": 6,
     "metadata": {},
     "output_type": "execute_result"
    }
   ],
   "source": [
    "cols_xtrain = df_xtrain.columns\n",
    "cols_xtrain = cols_xtrain.sort_values().unique()\n",
    "cols_xtrain"
   ]
  },
  {
   "cell_type": "code",
   "execution_count": 7,
   "metadata": {
    "scrolled": false
   },
   "outputs": [
    {
     "name": "stdout",
     "output_type": "stream",
     "text": [
      "*** Found (1,539/1,614) columns which are pair!\n"
     ]
    }
   ],
   "source": [
    "\"\"\"\n",
    "# cols_train <--> cols_test 에 공통 적용된 컬럼을 찾는다 ==> cols_pair\n",
    "\"\"\"\n",
    "\n",
    "cols_pair = []\n",
    "for col in cols_xtest:\n",
    "    if col in cols_xtrain:\n",
    "        cols_pair.append(col)\n",
    "num_total = len(cols_xtrain)        \n",
    "num_matched = len(cols_pair)        \n",
    "print(f\"*** Found ({num_matched:,}/{num_total:,}) columns which are pair!\")   \n",
    "\n",
    "# cols_pair   # FOR TEST"
   ]
  },
  {
   "cell_type": "markdown",
   "metadata": {},
   "source": [
    "## 가공된 remake_final 를 불러온다\n",
    " - df_xtrain_remake_final.csv\n",
    " - df_xtest_remake_final.csv"
   ]
  },
  {
   "cell_type": "code",
   "execution_count": 8,
   "metadata": {},
   "outputs": [],
   "source": [
    "df_xtrain_add = pd.read_csv(dir_base + remake + 'df_xtrain_remake_final.csv')  # 1,613\n",
    "df_xtrain_add.index = df_xtrain_add.game_id.copy()\n",
    "\n",
    "df_xtest_add  = pd.read_csv(dir_base + remake + 'df_xtest_remake_final.csv')   # 1,554 ... 60개 차이남\n",
    "df_xtest_add.index = df_xtest_add.game_id.copy()"
   ]
  },
  {
   "cell_type": "code",
   "execution_count": 9,
   "metadata": {},
   "outputs": [
    {
     "data": {
      "text/plain": [
       "(16787, 42)"
      ]
     },
     "execution_count": 9,
     "metadata": {},
     "output_type": "execute_result"
    }
   ],
   "source": [
    "df_xtrain_add.shape   # (38872, 42)    # 컬럼 2개가 더 많다\n",
    "df_xtest_add.shape    # (16787, 42)    # 컬럼 2개가 더 많다"
   ]
  },
  {
   "cell_type": "code",
   "execution_count": 10,
   "metadata": {},
   "outputs": [
    {
     "data": {
      "text/plain": [
       "40"
      ]
     },
     "execution_count": 10,
     "metadata": {},
     "output_type": "execute_result"
    }
   ],
   "source": [
    "cols_add = [\n",
    "    'time_spend', 'P0_species', 'P0_Ability',\n",
    "       'P0_AddToControlGroup', 'P0_Camera', 'P0_ControlGroup',\n",
    "       'P0_GetControlGroup', 'P0_Right Click', 'P0_Selection',\n",
    "       'P0_SetControlGroup', 'P1_species', 'P1_Ability',\n",
    "       'P1_AddToControlGroup', 'P1_Camera', 'P1_ControlGroup',\n",
    "       'P1_GetControlGroup', 'P1_Right Click', 'P1_Selection',\n",
    "       'P1_SetControlGroup', 'delta_Ability', 'delta_AddToControlGroup',\n",
    "       'delta_Camera', 'delta_ControlGroup', 'delta_GetControlGroup',\n",
    "       'delta_Right Click', 'delta_Selection', 'delta_SetControlGroup',\n",
    "       'p0_null', 'p1_null', 'delta_null', 'p0_train', 'p1_train',\n",
    "       'delta_train', 'p0_attack', 'p1_attack', 'delta_attack',\n",
    "       'p0_select_null', 'p1_select_null', 'delta_select_null', 'p0_weight']\n",
    "\n",
    "len(cols_add)"
   ]
  },
  {
   "cell_type": "code",
   "execution_count": 11,
   "metadata": {},
   "outputs": [
    {
     "data": {
      "text/html": [
       "<div>\n",
       "<style scoped>\n",
       "    .dataframe tbody tr th:only-of-type {\n",
       "        vertical-align: middle;\n",
       "    }\n",
       "\n",
       "    .dataframe tbody tr th {\n",
       "        vertical-align: top;\n",
       "    }\n",
       "\n",
       "    .dataframe thead th {\n",
       "        text-align: right;\n",
       "    }\n",
       "</style>\n",
       "<table border=\"1\" class=\"dataframe\">\n",
       "  <thead>\n",
       "    <tr style=\"text-align: right;\">\n",
       "      <th></th>\n",
       "      <th>game_id</th>\n",
       "      <th>game_id.1</th>\n",
       "      <th>time_spend</th>\n",
       "      <th>P0_species</th>\n",
       "      <th>P0_Ability</th>\n",
       "      <th>P0_AddToControlGroup</th>\n",
       "      <th>P0_Camera</th>\n",
       "      <th>P0_ControlGroup</th>\n",
       "      <th>P0_GetControlGroup</th>\n",
       "      <th>P0_Right Click</th>\n",
       "      <th>...</th>\n",
       "      <th>p0_train</th>\n",
       "      <th>p1_train</th>\n",
       "      <th>delta_train</th>\n",
       "      <th>p0_attack</th>\n",
       "      <th>p1_attack</th>\n",
       "      <th>delta_attack</th>\n",
       "      <th>p0_select_null</th>\n",
       "      <th>p1_select_null</th>\n",
       "      <th>delta_select_null</th>\n",
       "      <th>p0_weight</th>\n",
       "    </tr>\n",
       "    <tr>\n",
       "      <th>game_id</th>\n",
       "      <th></th>\n",
       "      <th></th>\n",
       "      <th></th>\n",
       "      <th></th>\n",
       "      <th></th>\n",
       "      <th></th>\n",
       "      <th></th>\n",
       "      <th></th>\n",
       "      <th></th>\n",
       "      <th></th>\n",
       "      <th></th>\n",
       "      <th></th>\n",
       "      <th></th>\n",
       "      <th></th>\n",
       "      <th></th>\n",
       "      <th></th>\n",
       "      <th></th>\n",
       "      <th></th>\n",
       "      <th></th>\n",
       "      <th></th>\n",
       "      <th></th>\n",
       "    </tr>\n",
       "  </thead>\n",
       "  <tbody>\n",
       "    <tr>\n",
       "      <th>38872</th>\n",
       "      <td>38872</td>\n",
       "      <td>38872</td>\n",
       "      <td>7.06</td>\n",
       "      <td>1</td>\n",
       "      <td>31.0</td>\n",
       "      <td>1.0</td>\n",
       "      <td>232.0</td>\n",
       "      <td>0.0</td>\n",
       "      <td>9.0</td>\n",
       "      <td>241.0</td>\n",
       "      <td>...</td>\n",
       "      <td>13.0</td>\n",
       "      <td>16.0</td>\n",
       "      <td>-3.0</td>\n",
       "      <td>5.0</td>\n",
       "      <td>2.0</td>\n",
       "      <td>3.0</td>\n",
       "      <td>4.0</td>\n",
       "      <td>3.0</td>\n",
       "      <td>1.0</td>\n",
       "      <td>2.118644</td>\n",
       "    </tr>\n",
       "    <tr>\n",
       "      <th>38873</th>\n",
       "      <td>38873</td>\n",
       "      <td>38873</td>\n",
       "      <td>6.07</td>\n",
       "      <td>2</td>\n",
       "      <td>34.0</td>\n",
       "      <td>0.0</td>\n",
       "      <td>200.0</td>\n",
       "      <td>4.0</td>\n",
       "      <td>18.0</td>\n",
       "      <td>51.0</td>\n",
       "      <td>...</td>\n",
       "      <td>18.0</td>\n",
       "      <td>17.0</td>\n",
       "      <td>1.0</td>\n",
       "      <td>0.0</td>\n",
       "      <td>0.0</td>\n",
       "      <td>0.0</td>\n",
       "      <td>7.0</td>\n",
       "      <td>1.0</td>\n",
       "      <td>6.0</td>\n",
       "      <td>4.000000</td>\n",
       "    </tr>\n",
       "    <tr>\n",
       "      <th>38874</th>\n",
       "      <td>38874</td>\n",
       "      <td>38874</td>\n",
       "      <td>4.41</td>\n",
       "      <td>0</td>\n",
       "      <td>33.0</td>\n",
       "      <td>0.0</td>\n",
       "      <td>245.0</td>\n",
       "      <td>0.0</td>\n",
       "      <td>63.0</td>\n",
       "      <td>79.0</td>\n",
       "      <td>...</td>\n",
       "      <td>12.0</td>\n",
       "      <td>6.0</td>\n",
       "      <td>6.0</td>\n",
       "      <td>9.0</td>\n",
       "      <td>4.0</td>\n",
       "      <td>5.0</td>\n",
       "      <td>1.0</td>\n",
       "      <td>2.0</td>\n",
       "      <td>-1.0</td>\n",
       "      <td>1.980831</td>\n",
       "    </tr>\n",
       "    <tr>\n",
       "      <th>38875</th>\n",
       "      <td>38875</td>\n",
       "      <td>38875</td>\n",
       "      <td>7.58</td>\n",
       "      <td>0</td>\n",
       "      <td>95.0</td>\n",
       "      <td>8.0</td>\n",
       "      <td>515.0</td>\n",
       "      <td>0.0</td>\n",
       "      <td>255.0</td>\n",
       "      <td>218.0</td>\n",
       "      <td>...</td>\n",
       "      <td>29.0</td>\n",
       "      <td>23.0</td>\n",
       "      <td>6.0</td>\n",
       "      <td>13.0</td>\n",
       "      <td>17.0</td>\n",
       "      <td>-4.0</td>\n",
       "      <td>9.0</td>\n",
       "      <td>11.0</td>\n",
       "      <td>-2.0</td>\n",
       "      <td>4.469274</td>\n",
       "    </tr>\n",
       "    <tr>\n",
       "      <th>38876</th>\n",
       "      <td>38876</td>\n",
       "      <td>38876</td>\n",
       "      <td>2.50</td>\n",
       "      <td>2</td>\n",
       "      <td>7.0</td>\n",
       "      <td>2.0</td>\n",
       "      <td>129.0</td>\n",
       "      <td>0.0</td>\n",
       "      <td>387.0</td>\n",
       "      <td>30.0</td>\n",
       "      <td>...</td>\n",
       "      <td>4.0</td>\n",
       "      <td>4.0</td>\n",
       "      <td>0.0</td>\n",
       "      <td>0.0</td>\n",
       "      <td>0.0</td>\n",
       "      <td>0.0</td>\n",
       "      <td>0.0</td>\n",
       "      <td>0.0</td>\n",
       "      <td>0.0</td>\n",
       "      <td>7.631318</td>\n",
       "    </tr>\n",
       "    <tr>\n",
       "      <th>...</th>\n",
       "      <td>...</td>\n",
       "      <td>...</td>\n",
       "      <td>...</td>\n",
       "      <td>...</td>\n",
       "      <td>...</td>\n",
       "      <td>...</td>\n",
       "      <td>...</td>\n",
       "      <td>...</td>\n",
       "      <td>...</td>\n",
       "      <td>...</td>\n",
       "      <td>...</td>\n",
       "      <td>...</td>\n",
       "      <td>...</td>\n",
       "      <td>...</td>\n",
       "      <td>...</td>\n",
       "      <td>...</td>\n",
       "      <td>...</td>\n",
       "      <td>...</td>\n",
       "      <td>...</td>\n",
       "      <td>...</td>\n",
       "      <td>...</td>\n",
       "    </tr>\n",
       "    <tr>\n",
       "      <th>55654</th>\n",
       "      <td>55654</td>\n",
       "      <td>55654</td>\n",
       "      <td>6.14</td>\n",
       "      <td>2</td>\n",
       "      <td>37.0</td>\n",
       "      <td>2.0</td>\n",
       "      <td>258.0</td>\n",
       "      <td>0.0</td>\n",
       "      <td>693.0</td>\n",
       "      <td>136.0</td>\n",
       "      <td>...</td>\n",
       "      <td>18.0</td>\n",
       "      <td>22.0</td>\n",
       "      <td>-4.0</td>\n",
       "      <td>9.0</td>\n",
       "      <td>8.0</td>\n",
       "      <td>1.0</td>\n",
       "      <td>24.0</td>\n",
       "      <td>4.0</td>\n",
       "      <td>20.0</td>\n",
       "      <td>4.000000</td>\n",
       "    </tr>\n",
       "    <tr>\n",
       "      <th>55655</th>\n",
       "      <td>55655</td>\n",
       "      <td>55655</td>\n",
       "      <td>9.58</td>\n",
       "      <td>2</td>\n",
       "      <td>62.0</td>\n",
       "      <td>0.0</td>\n",
       "      <td>810.0</td>\n",
       "      <td>0.0</td>\n",
       "      <td>217.0</td>\n",
       "      <td>158.0</td>\n",
       "      <td>...</td>\n",
       "      <td>23.0</td>\n",
       "      <td>21.0</td>\n",
       "      <td>2.0</td>\n",
       "      <td>8.0</td>\n",
       "      <td>18.0</td>\n",
       "      <td>-10.0</td>\n",
       "      <td>7.0</td>\n",
       "      <td>11.0</td>\n",
       "      <td>-4.0</td>\n",
       "      <td>0.308154</td>\n",
       "    </tr>\n",
       "    <tr>\n",
       "      <th>55656</th>\n",
       "      <td>55656</td>\n",
       "      <td>55656</td>\n",
       "      <td>6.24</td>\n",
       "      <td>1</td>\n",
       "      <td>14.0</td>\n",
       "      <td>0.0</td>\n",
       "      <td>330.0</td>\n",
       "      <td>0.0</td>\n",
       "      <td>0.0</td>\n",
       "      <td>106.0</td>\n",
       "      <td>...</td>\n",
       "      <td>8.0</td>\n",
       "      <td>9.0</td>\n",
       "      <td>-1.0</td>\n",
       "      <td>0.0</td>\n",
       "      <td>6.0</td>\n",
       "      <td>-6.0</td>\n",
       "      <td>6.0</td>\n",
       "      <td>6.0</td>\n",
       "      <td>0.0</td>\n",
       "      <td>2.971175</td>\n",
       "    </tr>\n",
       "    <tr>\n",
       "      <th>55657</th>\n",
       "      <td>55657</td>\n",
       "      <td>55657</td>\n",
       "      <td>1.17</td>\n",
       "      <td>0</td>\n",
       "      <td>7.0</td>\n",
       "      <td>0.0</td>\n",
       "      <td>20.0</td>\n",
       "      <td>0.0</td>\n",
       "      <td>0.0</td>\n",
       "      <td>8.0</td>\n",
       "      <td>...</td>\n",
       "      <td>4.0</td>\n",
       "      <td>2.0</td>\n",
       "      <td>2.0</td>\n",
       "      <td>0.0</td>\n",
       "      <td>0.0</td>\n",
       "      <td>0.0</td>\n",
       "      <td>0.0</td>\n",
       "      <td>0.0</td>\n",
       "      <td>0.0</td>\n",
       "      <td>5.286344</td>\n",
       "    </tr>\n",
       "    <tr>\n",
       "      <th>55658</th>\n",
       "      <td>55658</td>\n",
       "      <td>55658</td>\n",
       "      <td>4.54</td>\n",
       "      <td>2</td>\n",
       "      <td>22.0</td>\n",
       "      <td>7.0</td>\n",
       "      <td>49.0</td>\n",
       "      <td>0.0</td>\n",
       "      <td>9.0</td>\n",
       "      <td>29.0</td>\n",
       "      <td>...</td>\n",
       "      <td>12.0</td>\n",
       "      <td>12.0</td>\n",
       "      <td>0.0</td>\n",
       "      <td>7.0</td>\n",
       "      <td>18.0</td>\n",
       "      <td>-11.0</td>\n",
       "      <td>6.0</td>\n",
       "      <td>4.0</td>\n",
       "      <td>2.0</td>\n",
       "      <td>1.980831</td>\n",
       "    </tr>\n",
       "  </tbody>\n",
       "</table>\n",
       "<p>16787 rows × 42 columns</p>\n",
       "</div>"
      ],
      "text/plain": [
       "         game_id  game_id.1  time_spend  P0_species  P0_Ability  \\\n",
       "game_id                                                           \n",
       "38872      38872      38872        7.06           1        31.0   \n",
       "38873      38873      38873        6.07           2        34.0   \n",
       "38874      38874      38874        4.41           0        33.0   \n",
       "38875      38875      38875        7.58           0        95.0   \n",
       "38876      38876      38876        2.50           2         7.0   \n",
       "...          ...        ...         ...         ...         ...   \n",
       "55654      55654      55654        6.14           2        37.0   \n",
       "55655      55655      55655        9.58           2        62.0   \n",
       "55656      55656      55656        6.24           1        14.0   \n",
       "55657      55657      55657        1.17           0         7.0   \n",
       "55658      55658      55658        4.54           2        22.0   \n",
       "\n",
       "         P0_AddToControlGroup  P0_Camera  P0_ControlGroup  P0_GetControlGroup  \\\n",
       "game_id                                                                         \n",
       "38872                     1.0      232.0              0.0                 9.0   \n",
       "38873                     0.0      200.0              4.0                18.0   \n",
       "38874                     0.0      245.0              0.0                63.0   \n",
       "38875                     8.0      515.0              0.0               255.0   \n",
       "38876                     2.0      129.0              0.0               387.0   \n",
       "...                       ...        ...              ...                 ...   \n",
       "55654                     2.0      258.0              0.0               693.0   \n",
       "55655                     0.0      810.0              0.0               217.0   \n",
       "55656                     0.0      330.0              0.0                 0.0   \n",
       "55657                     0.0       20.0              0.0                 0.0   \n",
       "55658                     7.0       49.0              0.0                 9.0   \n",
       "\n",
       "         P0_Right Click  ...  p0_train  p1_train  delta_train  p0_attack  \\\n",
       "game_id                  ...                                               \n",
       "38872             241.0  ...      13.0      16.0         -3.0        5.0   \n",
       "38873              51.0  ...      18.0      17.0          1.0        0.0   \n",
       "38874              79.0  ...      12.0       6.0          6.0        9.0   \n",
       "38875             218.0  ...      29.0      23.0          6.0       13.0   \n",
       "38876              30.0  ...       4.0       4.0          0.0        0.0   \n",
       "...                 ...  ...       ...       ...          ...        ...   \n",
       "55654             136.0  ...      18.0      22.0         -4.0        9.0   \n",
       "55655             158.0  ...      23.0      21.0          2.0        8.0   \n",
       "55656             106.0  ...       8.0       9.0         -1.0        0.0   \n",
       "55657               8.0  ...       4.0       2.0          2.0        0.0   \n",
       "55658              29.0  ...      12.0      12.0          0.0        7.0   \n",
       "\n",
       "         p1_attack  delta_attack  p0_select_null  p1_select_null  \\\n",
       "game_id                                                            \n",
       "38872          2.0           3.0             4.0             3.0   \n",
       "38873          0.0           0.0             7.0             1.0   \n",
       "38874          4.0           5.0             1.0             2.0   \n",
       "38875         17.0          -4.0             9.0            11.0   \n",
       "38876          0.0           0.0             0.0             0.0   \n",
       "...            ...           ...             ...             ...   \n",
       "55654          8.0           1.0            24.0             4.0   \n",
       "55655         18.0         -10.0             7.0            11.0   \n",
       "55656          6.0          -6.0             6.0             6.0   \n",
       "55657          0.0           0.0             0.0             0.0   \n",
       "55658         18.0         -11.0             6.0             4.0   \n",
       "\n",
       "         delta_select_null  p0_weight  \n",
       "game_id                                \n",
       "38872                  1.0   2.118644  \n",
       "38873                  6.0   4.000000  \n",
       "38874                 -1.0   1.980831  \n",
       "38875                 -2.0   4.469274  \n",
       "38876                  0.0   7.631318  \n",
       "...                    ...        ...  \n",
       "55654                 20.0   4.000000  \n",
       "55655                 -4.0   0.308154  \n",
       "55656                  0.0   2.971175  \n",
       "55657                  0.0   5.286344  \n",
       "55658                  2.0   1.980831  \n",
       "\n",
       "[16787 rows x 42 columns]"
      ]
     },
     "execution_count": 11,
     "metadata": {},
     "output_type": "execute_result"
    }
   ],
   "source": [
    "df_xtest_add"
   ]
  },
  {
   "cell_type": "markdown",
   "metadata": {},
   "source": [
    "## xtrain, xtest = 정렬하고 잘라낸다"
   ]
  },
  {
   "cell_type": "code",
   "execution_count": 12,
   "metadata": {
    "scrolled": false
   },
   "outputs": [],
   "source": [
    "df_1 = df_xtrain[cols_pair]\n",
    "df_2 = df_xtest[cols_pair]\n",
    "\n",
    "df_1add = df_xtrain_add[cols_add]\n",
    "df_2add = df_xtest_add[cols_add]"
   ]
  },
  {
   "cell_type": "code",
   "execution_count": 13,
   "metadata": {},
   "outputs": [
    {
     "data": {
      "text/plain": [
       "(16787, 1539)"
      ]
     },
     "execution_count": 13,
     "metadata": {},
     "output_type": "execute_result"
    }
   ],
   "source": [
    "df_1.shape   # (38872, 1539)\n",
    "df_2.shape   # (16787, 1539)"
   ]
  },
  {
   "cell_type": "code",
   "execution_count": 14,
   "metadata": {},
   "outputs": [
    {
     "data": {
      "text/plain": [
       "(16787, 40)"
      ]
     },
     "execution_count": 14,
     "metadata": {},
     "output_type": "execute_result"
    }
   ],
   "source": [
    "df_1add.shape   # (38872, 40)\n",
    "df_2add.shape   # (16787, 40)"
   ]
  },
  {
   "cell_type": "code",
   "execution_count": 15,
   "metadata": {},
   "outputs": [],
   "source": [
    "df_1final = pd.concat([df_1, df_1add], axis=1, join='outer')\n",
    "df_2final = pd.concat([df_2, df_2add], axis=1, join='outer')"
   ]
  },
  {
   "cell_type": "code",
   "execution_count": 16,
   "metadata": {},
   "outputs": [
    {
     "data": {
      "text/plain": [
       "(16787, 1579)"
      ]
     },
     "execution_count": 16,
     "metadata": {},
     "output_type": "execute_result"
    }
   ],
   "source": [
    "df_1final.shape   # (38872, 1579)\n",
    "df_2final.shape   # (16787, 1579)"
   ]
  },
  {
   "cell_type": "markdown",
   "metadata": {},
   "source": [
    "## 최종 결과화일 저장 \n",
    "- 처음 filename_result_01,02 변수할당 되있으면 저장, 안되있으면 SKIP!\n",
    "- xtra_remake_xtrain_final.csv - (38872, 1579)\n",
    "- xtra_remake_xtest_final.csv - (16787, 1579)"
   ]
  },
  {
   "cell_type": "code",
   "execution_count": 35,
   "metadata": {},
   "outputs": [
    {
     "name": "stdout",
     "output_type": "stream",
     "text": [
      "*** SKIPPED! SAVE FILE! ***\n"
     ]
    }
   ],
   "source": [
    "\"\"\"\n",
    "# 사전에 변수할당이 있을 때만, 화일로 저장 함!\n",
    "# save_df(df, filename)\n",
    "# 화일이름 변수가 있으면 저장, 없으면 SKIP!\n",
    "\"\"\"\n",
    "df1 = df_1final\n",
    "df2 = df_2final\n",
    "\n",
    "try:\n",
    "    save_df_to_csv(df1, filename_result_01)\n",
    "    save_df_to_csv(df2, filename_result_02)\n",
    "except:\n",
    "    print(\"*** SKIPPED! SAVE FILE! ***\")\n",
    "    pass"
   ]
  },
  {
   "cell_type": "code",
   "execution_count": 36,
   "metadata": {},
   "outputs": [
    {
     "data": {
      "text/plain": [
       "((38872, 1579), (16787, 1579))"
      ]
     },
     "execution_count": 36,
     "metadata": {},
     "output_type": "execute_result"
    }
   ],
   "source": [
    "df_1final.shape, df_2final.shape"
   ]
  },
  {
   "cell_type": "code",
   "execution_count": 37,
   "metadata": {},
   "outputs": [
    {
     "name": "stdout",
     "output_type": "stream",
     "text": [
      "*** FOUND P0_species is DUPLICATED!\n",
      "*** FOUND P1_species is DUPLICATED!\n"
     ]
    }
   ],
   "source": [
    "\"\"\"\n",
    "# DF 내에 중복되는 칼럼이 있는제 체크한다\n",
    "\"\"\"\n",
    "_ = get_unique_through_check_duplicated_column(df_1final.columns, show_unique=0)"
   ]
  },
  {
   "cell_type": "code",
   "execution_count": 27,
   "metadata": {},
   "outputs": [],
   "source": [
    "\"\"\"\n",
    "# 컬럼 0~end, - 중복되는 칼럼은 최초1회 남기고 삭제\n",
    "# loc 의 사용법 = DF를 인덱싱 하는 법\n",
    "\"\"\"\n",
    "\n",
    "df1 = df_1final\n",
    "df1 = df1.loc[:,~df.columns.duplicated()]\n",
    "\n",
    "df2 = df_2final\n",
    "df2 = df2.loc[:,~df.columns.duplicated()]"
   ]
  },
  {
   "cell_type": "code",
   "execution_count": 31,
   "metadata": {},
   "outputs": [
    {
     "data": {
      "text/plain": [
       "((38872, 1579), (16787, 1579), (38872, 1577), (16787, 1577))"
      ]
     },
     "execution_count": 31,
     "metadata": {},
     "output_type": "execute_result"
    }
   ],
   "source": [
    "\"\"\"\n",
    "# \n",
    "\"\"\"\n",
    "df_1final.shape, df_2final.shape  # ((38872, 1579), (16787, 1579))\n",
    "df1.shape, df2.shape              # ((38872, 1577), (16787, 1577))"
   ]
  },
  {
   "cell_type": "code",
   "execution_count": 103,
   "metadata": {},
   "outputs": [
    {
     "data": {
      "text/plain": [
       "True"
      ]
     },
     "execution_count": 103,
     "metadata": {},
     "output_type": "execute_result"
    }
   ],
   "source": [
    "def check_exist(filename, dir_target):\n",
    "    return filename in os.listdir(dir_target)\n",
    "    \n",
    "check_exist('submission.csv', dir_base + submit)"
   ]
  },
  {
   "cell_type": "code",
   "execution_count": 115,
   "metadata": {},
   "outputs": [
    {
     "data": {
      "text/plain": [
       "('EXIST? = False', '<--', False, False)"
      ]
     },
     "execution_count": 115,
     "metadata": {},
     "output_type": "execute_result"
    }
   ],
   "source": [
    "\"\"\"\n",
    "# 저장하려는 화일이름이 존재하는지 확인후 저장!\n",
    "\"\"\"\n",
    "\n",
    "f1 = 'xtra_remake_xtrain_r01.csv'\n",
    "f2 = 'xtra_remake_xtest_r01.csv'\n",
    "checks = [check_exist(file, dir_base + remake) for file in [f1,f2]]\n",
    "exist = bool(checks[0] * checks[1])\n",
    "\n",
    "f\"EXIST? = {exist}\", '<--', checks[0], checks[1],"
   ]
  },
  {
   "cell_type": "code",
   "execution_count": 116,
   "metadata": {},
   "outputs": [
    {
     "name": "stdout",
     "output_type": "stream",
     "text": [
      "*** RESULTS ARE RECORDED AT ... 'xtra_remake_xtrain_r01.csv'\n",
      "*** RESULTS ARE RECORDED AT ... 'xtra_remake_xtest_r01.csv'\n"
     ]
    }
   ],
   "source": [
    "\"\"\"\n",
    "# 사전에 변수할당이 있을 때만, 화일로 저장 함!\n",
    "# save_df(df, filename)\n",
    "# 화일이름 변수가 있으면 저장, 없으면 SKIP!\n",
    "\"\"\"\n",
    "if exist:\n",
    "    print(\"*** FILES BELOW ARE EXIST! CHANGE FILENAME & RETRY! ***\")\n",
    "    print(f\"  - {f1}\")\n",
    "    print(f\"  - {f2}\")\n",
    "else:\n",
    "    save_df_to_csv(df1, f1)\n",
    "    save_df_to_csv(df2, f2)"
   ]
  },
  {
   "cell_type": "code",
   "execution_count": 117,
   "metadata": {},
   "outputs": [
    {
     "data": {
      "text/plain": [
       "((38872, 1579), (16787, 1579))"
      ]
     },
     "execution_count": 117,
     "metadata": {},
     "output_type": "execute_result"
    }
   ],
   "source": [
    "df1.shape, df2.shape"
   ]
  },
  {
   "cell_type": "code",
   "execution_count": null,
   "metadata": {},
   "outputs": [],
   "source": []
  }
 ],
 "metadata": {
  "kernelspec": {
   "display_name": "Python 3",
   "language": "python",
   "name": "python3"
  },
  "language_info": {
   "codemirror_mode": {
    "name": "ipython",
    "version": 3
   },
   "file_extension": ".py",
   "mimetype": "text/x-python",
   "name": "python",
   "nbconvert_exporter": "python",
   "pygments_lexer": "ipython3",
   "version": "3.7.6"
  }
 },
 "nbformat": 4,
 "nbformat_minor": 2
}
