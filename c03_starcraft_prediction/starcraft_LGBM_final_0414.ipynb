{
 "cells": [
  {
   "cell_type": "markdown",
   "metadata": {
    "colab_type": "text",
    "id": "Yj9dS4w29AUl"
   },
   "source": [
    "## gDrive 연결\n",
    "> - drive 폴더가 붙은 것을 확인한다.\n",
    "> - drwx------ 4 root root 4.0K Mar 22 11:21 drive"
   ]
  },
  {
   "cell_type": "code",
   "execution_count": 0,
   "metadata": {
    "colab": {
     "base_uri": "https://localhost:8080/",
     "height": 55
    },
    "colab_type": "code",
    "executionInfo": {
     "elapsed": 1728,
     "status": "ok",
     "timestamp": 1586820652883,
     "user": {
      "displayName": "이준규",
      "photoUrl": "",
      "userId": "12089629153828448800"
     },
     "user_tz": -540
    },
    "id": "cG0ywtEV7uIh",
    "outputId": "b411c76e-1355-4e45-8b9e-d84aea6a13e1"
   },
   "outputs": [
    {
     "name": "stdout",
     "output_type": "stream",
     "text": [
      "Drive already mounted at /content/drive/; to attempt to forcibly remount, call drive.mount(\"/content/drive/\", force_remount=True).\n"
     ]
    }
   ],
   "source": [
    "from google.colab import drive \n",
    "drive.mount('/content/drive/')"
   ]
  },
  {
   "cell_type": "markdown",
   "metadata": {
    "colab_type": "text",
    "id": "187ugqNFuzIG"
   },
   "source": [
    "## 모듈 Install / Import "
   ]
  },
  {
   "cell_type": "code",
   "execution_count": 0,
   "metadata": {
    "colab": {
     "base_uri": "https://localhost:8080/",
     "height": 127
    },
    "colab_type": "code",
    "executionInfo": {
     "elapsed": 4555,
     "status": "ok",
     "timestamp": 1586820655761,
     "user": {
      "displayName": "이준규",
      "photoUrl": "",
      "userId": "12089629153828448800"
     },
     "user_tz": -540
    },
    "id": "KHr7Oekx9AgU",
    "outputId": "d871ef13-21e7-4ae6-cbcc-726715432f4f"
   },
   "outputs": [
    {
     "name": "stdout",
     "output_type": "stream",
     "text": [
      "Requirement already satisfied: bayesian-optimization in /usr/local/lib/python3.6/dist-packages (1.1.0)\n",
      "Requirement already satisfied: scipy>=0.14.0 in /usr/local/lib/python3.6/dist-packages (from bayesian-optimization) (1.4.1)\n",
      "Requirement already satisfied: numpy>=1.9.0 in /usr/local/lib/python3.6/dist-packages (from bayesian-optimization) (1.18.2)\n",
      "Requirement already satisfied: scikit-learn>=0.18.0 in /usr/local/lib/python3.6/dist-packages (from bayesian-optimization) (0.22.2.post1)\n",
      "Requirement already satisfied: joblib>=0.11 in /usr/local/lib/python3.6/dist-packages (from scikit-learn>=0.18.0->bayesian-optimization) (0.14.1)\n"
     ]
    }
   ],
   "source": [
    "# 코랩에 없는 라이브러리 설치해주기\n",
    "!pip install bayesian-optimization"
   ]
  },
  {
   "cell_type": "code",
   "execution_count": 0,
   "metadata": {
    "colab": {},
    "colab_type": "code",
    "id": "O14CYkrx_Wvr"
   },
   "outputs": [],
   "source": [
    "import os\n",
    "import sys           \n",
    "import random \n",
    "import warnings          \n",
    "\n",
    "import numpy as np                          # 계산 라이브러리\n",
    "import pandas as pd                         # 데이터 분석 라이브러리\n",
    "import matplotlib.pyplot as plt             # * 그래프 이미지\n",
    "import lightgbm as lgb                      # LightGBM 라이브러리 \n",
    "\n",
    "from tqdm import tqdm                       # 진행바\n",
    "from sklearn.metrics import roc_auc_score   # AUC 스코어 계산\n",
    "from sklearn.model_selection import KFold   # K-fold CV    \n",
    "from bayes_opt import BayesianOptimization  # 베이지안 최적화 라이브러리  \n",
    "from functools import partial               # 함수 변수 고정\n",
    "\n",
    "warnings.filterwarnings(\"ignore\")           # 경고 문구 미표시"
   ]
  },
  {
   "cell_type": "code",
   "execution_count": 0,
   "metadata": {
    "colab": {},
    "colab_type": "code",
    "id": "HZZBn3Ec_bXr"
   },
   "outputs": [],
   "source": [
    "\"\"\"\n",
    "# 데이터가 많아 5분 정도 걸립니다.  \n",
    "# 전체경로 = /content/drive/My Drive/Colab Notebooks/\n",
    "# kay_suparx_learning_model/data_remake/xtra_remake_xtest_final.csv\n",
    "\"\"\"\n",
    "\n",
    "dir_base = '/content/drive/My Drive/Colab Notebooks//kay_suparx_learning_model/'\n",
    "\n",
    "raw    = 'data_raw/'\n",
    "remake = 'data_remake/'\n",
    "submit = 'data_submit/'\n",
    "\n",
    "# WAY-01 = LGBM, WAY-02 = XGBM\n",
    "init_points, n_iter = (15, 75)                      \n",
    "filename_submit = f\"submission_0414_way01_{init_points}_{n_iter}_final.csv\""
   ]
  },
  {
   "cell_type": "markdown",
   "metadata": {
    "colab_type": "text",
    "id": "wwg2_k9Sn9oI"
   },
   "source": [
    "## 사용함수의 정의"
   ]
  },
  {
   "cell_type": "code",
   "execution_count": 0,
   "metadata": {
    "colab": {
     "base_uri": "https://localhost:8080/",
     "height": 197
    },
    "colab_type": "code",
    "executionInfo": {
     "elapsed": 4501,
     "status": "ok",
     "timestamp": 1586820655764,
     "user": {
      "displayName": "이준규",
      "photoUrl": "",
      "userId": "12089629153828448800"
     },
     "user_tz": -540
    },
    "id": "_xu6ayOswyiK",
    "outputId": "b3eab920-e2d3-4179-92fd-af4c02b3a0c2"
   },
   "outputs": [
    {
     "data": {
      "text/plain": [
       "['/content/drive/My Drive/Colab Notebooks//kay_suparx_learning_model/',\n",
       " '',\n",
       " '/env/python',\n",
       " '/usr/lib/python36.zip',\n",
       " '/usr/lib/python3.6',\n",
       " '/usr/lib/python3.6/lib-dynload',\n",
       " '/usr/local/lib/python3.6/dist-packages',\n",
       " '/usr/lib/python3/dist-packages',\n",
       " '/usr/local/lib/python3.6/dist-packages/IPython/extensions',\n",
       " '/root/.ipython']"
      ]
     },
     "execution_count": 24,
     "metadata": {
      "tags": []
     },
     "output_type": "execute_result"
    }
   ],
   "source": [
    "if dir_base in sys.path:\n",
    "  pass\n",
    "else:\n",
    "  print(f\"*** '{dir_base} is inserted! ***'\")\n",
    "  sys.path.insert(0, dir_base )\n",
    "\n",
    "sys.path"
   ]
  },
  {
   "cell_type": "code",
   "execution_count": 0,
   "metadata": {
    "colab": {},
    "colab_type": "code",
    "id": "oDh38baE_aFv"
   },
   "outputs": [],
   "source": [
    "os.chdir(dir_base)\n",
    "from _assets.modules import *\n",
    "from _assets.module_lgbm_model import *\n",
    "# from _assets.module_data_preps import *"
   ]
  },
  {
   "cell_type": "code",
   "execution_count": 0,
   "metadata": {
    "colab": {
     "base_uri": "https://localhost:8080/",
     "height": 143
    },
    "colab_type": "code",
    "executionInfo": {
     "elapsed": 4478,
     "status": "ok",
     "timestamp": 1586820655767,
     "user": {
      "displayName": "이준규",
      "photoUrl": "",
      "userId": "12089629153828448800"
     },
     "user_tz": -540
    },
    "id": "4tPff0jLufK2",
    "outputId": "9d94e126-90d8-4581-8ef0-d87f8a79306c"
   },
   "outputs": [
    {
     "name": "stdout",
     "output_type": "stream",
     "text": [
      "False\n",
      "DIR_TARGET=/content/drive/My Drive/Colab Notebooks/kay_suparx_learning_model\n",
      "/content/drive/My Drive/Colab Notebooks//kay_suparx_learning_model/data_remake/\n",
      "----------------------------------------\n",
      "  01. df_ytrain_remake.csv\n",
      "  02. xtra_remake_xtest_final.csv\n",
      "  03. xtra_remake_xtrain_final.csv\n"
     ]
    }
   ],
   "source": [
    "show_ls(dir_base + remake)"
   ]
  },
  {
   "cell_type": "markdown",
   "metadata": {
    "colab_type": "text",
    "id": "2lZ7riQ12br5"
   },
   "source": [
    "## 데이터를 불러온다"
   ]
  },
  {
   "cell_type": "code",
   "execution_count": 0,
   "metadata": {
    "colab": {
     "base_uri": "https://localhost:8080/",
     "height": 53
    },
    "colab_type": "code",
    "executionInfo": {
     "elapsed": 9144,
     "status": "ok",
     "timestamp": 1586820660452,
     "user": {
      "displayName": "이준규",
      "photoUrl": "",
      "userId": "12089629153828448800"
     },
     "user_tz": -540
    },
    "id": "Y_yK7Y7d_esh",
    "outputId": "4334cc5f-6079-4e4a-c51a-3f6ccc55b23f"
   },
   "outputs": [
    {
     "name": "stdout",
     "output_type": "stream",
     "text": [
      "CPU times: user 4.13 s, sys: 284 ms, total: 4.41 s\n",
      "Wall time: 4.5 s\n"
     ]
    }
   ],
   "source": [
    "%%time\n",
    "\"\"\"\n",
    "# show_infoDF_from(x_train) # *** DATA SHAPE = [ 38,872 x 1,579 ] \n",
    "# to <class 'pandas.core.frame.DataFrame'>\n",
    "# show_infoDF_from(y_train) # *** DATA SHAPE = [ 38,872 x 3 ]\n",
    "# to <class 'numpy.ndarray'> ...  array([1, 1, 0, ..., 0, 1, 0])\n",
    "\"\"\"\n",
    "\n",
    "x_train = pd.read_csv(dir_base + remake + 'xtra_remake_xtrain_final.csv')  \n",
    "ytrain = pd.read_csv(dir_base + remake + 'df_ytrain_remake.csv')  \n",
    "y_train = ytrain['winner'].values                                 "
   ]
  },
  {
   "cell_type": "code",
   "execution_count": 0,
   "metadata": {
    "colab": {
     "base_uri": "https://localhost:8080/",
     "height": 71
    },
    "colab_type": "code",
    "executionInfo": {
     "elapsed": 9120,
     "status": "ok",
     "timestamp": 1586820660454,
     "user": {
      "displayName": "이준규",
      "photoUrl": "",
      "userId": "12089629153828448800"
     },
     "user_tz": -540
    },
    "id": "zAN0hC9M1IpN",
    "outputId": "dafb7cdb-c0c9-4ba4-de57-c1cf479a6251"
   },
   "outputs": [
    {
     "data": {
      "text/plain": [
       "1    19499\n",
       "0    19373\n",
       "dtype: int64"
      ]
     },
     "execution_count": 28,
     "metadata": {
      "tags": []
     },
     "output_type": "execute_result"
    }
   ],
   "source": [
    "\"\"\"  \n",
    "# 1    19499\n",
    "# 0    19373 ... y_train = np.array 38,872   \n",
    "\"\"\"\n",
    "pd.Series(y_train).value_counts()"
   ]
  },
  {
   "cell_type": "markdown",
   "metadata": {
    "colab_type": "text",
    "id": "N0IWulmegR7U"
   },
   "source": [
    "## LGBM Classifier 모델 적용\n",
    " -  Light Gradient Boost Method 적용 - [출처] :  YW & YY's Python, Machine & Deep Learning\n",
    " > - Light GBM: A Highly Efficient Gradient Boosting Decision Tree 논문 리뷰\n",
    " > - [Light GBM 모델 설명 및 사용법](https://greeksharifa.github.io/machine_learning/2019/12/09/Light-GBM/)\n",
    "\n",
    " > 다중 분류, 클릭 예측, 순위 학습 등에 주로 사용되는 Gradient Boosting Decision Tree (GBDT)는 굉장히 유용한 머신러닝 알고리즘이며, XGBoost나 pGBRT 등 효율적인 기법의 설계를 가능하게 하였다. 이러한 구현은 많은 엔지니어링 최적화를 이룩하였지만 고차원이고 큰 데이터 셋에서는 만족스러운 결과를 내지 못하는 경우도 있었다. 왜냐하면 모든 가능한 분할점에 대해 정보 획득을 평가하기 위해 데이터 개체 전부를 스캔해야 했기 때문이다. 이는 당연하게도, 굉장히 시간 소모적이다.\n"
   ]
  },
  {
   "cell_type": "code",
   "execution_count": 29,
   "metadata": {
    "colab": {
     "base_uri": "https://localhost:8080/",
     "height": 1000
    },
    "colab_type": "code",
    "executionInfo": {
     "elapsed": 1326494,
     "status": "ok",
     "timestamp": 1586831504873,
     "user": {
      "displayName": "이준규",
      "photoUrl": "",
      "userId": "12089629153828448800"
     },
     "user_tz": -540
    },
    "id": "Ny69by1mUWln",
    "outputId": "42a3afe3-02a2-4aac-bb67-05f81903a20f"
   },
   "outputs": [
    {
     "name": "stdout",
     "output_type": "stream",
     "text": [
      "|   iter    |  target   | colsam... | learni... | n_esti... | num_le... | reg_alpha | reg_la... | subsample |\n",
      "-------------------------------------------------------------------------------------------------------------\n",
      "| \u001b[0m 1       \u001b[0m | \u001b[0m 0.7032  \u001b[0m | \u001b[0m 0.03509 \u001b[0m | \u001b[0m 0.03434 \u001b[0m | \u001b[0m 984.5   \u001b[0m | \u001b[0m 711.5   \u001b[0m | \u001b[0m 6.349   \u001b[0m | \u001b[0m 5.192   \u001b[0m | \u001b[0m 0.2539  \u001b[0m |\n",
      "| \u001b[0m 2       \u001b[0m | \u001b[0m 0.6999  \u001b[0m | \u001b[0m 0.4272  \u001b[0m | \u001b[0m 0.07676 \u001b[0m | \u001b[0m 461.7   \u001b[0m | \u001b[0m 559.8   \u001b[0m | \u001b[0m 9.507   \u001b[0m | \u001b[0m 44.73   \u001b[0m | \u001b[0m 0.6343  \u001b[0m |\n",
      "| \u001b[0m 3       \u001b[0m | \u001b[0m 0.7006  \u001b[0m | \u001b[0m 0.2366  \u001b[0m | \u001b[0m 0.07916 \u001b[0m | \u001b[0m 423.4   \u001b[0m | \u001b[0m 166.6   \u001b[0m | \u001b[0m 4.869   \u001b[0m | \u001b[0m 2.015   \u001b[0m | \u001b[0m 0.2579  \u001b[0m |\n",
      "| \u001b[0m 4       \u001b[0m | \u001b[0m 0.6788  \u001b[0m | \u001b[0m 0.8498  \u001b[0m | \u001b[0m 0.07719 \u001b[0m | \u001b[0m 37.83   \u001b[0m | \u001b[0m 293.0   \u001b[0m | \u001b[0m 6.974   \u001b[0m | \u001b[0m 39.14   \u001b[0m | \u001b[0m 0.7509  \u001b[0m |\n",
      "| \u001b[95m 5       \u001b[0m | \u001b[95m 0.7051  \u001b[0m | \u001b[95m 0.5616  \u001b[0m | \u001b[95m 0.07109 \u001b[0m | \u001b[95m 586.6   \u001b[0m | \u001b[95m 843.3   \u001b[0m | \u001b[95m 0.7208  \u001b[0m | \u001b[95m 45.65   \u001b[0m | \u001b[95m 0.3214  \u001b[0m |\n",
      "| \u001b[95m 6       \u001b[0m | \u001b[95m 0.7072  \u001b[0m | \u001b[95m 0.5922  \u001b[0m | \u001b[95m 0.02191 \u001b[0m | \u001b[95m 687.4   \u001b[0m | \u001b[95m 356.4   \u001b[0m | \u001b[95m 5.153   \u001b[0m | \u001b[95m 46.61   \u001b[0m | \u001b[95m 0.7281  \u001b[0m |\n",
      "| \u001b[0m 7       \u001b[0m | \u001b[0m 0.6988  \u001b[0m | \u001b[0m 0.3364  \u001b[0m | \u001b[0m 0.06713 \u001b[0m | \u001b[0m 772.1   \u001b[0m | \u001b[0m 591.6   \u001b[0m | \u001b[0m 8.717   \u001b[0m | \u001b[0m 15.72   \u001b[0m | \u001b[0m 0.3804  \u001b[0m |\n",
      "| \u001b[0m 8       \u001b[0m | \u001b[0m 0.7025  \u001b[0m | \u001b[0m 0.775   \u001b[0m | \u001b[0m 0.009294\u001b[0m | \u001b[0m 620.3   \u001b[0m | \u001b[0m 367.3   \u001b[0m | \u001b[0m 4.342   \u001b[0m | \u001b[0m 0.628   \u001b[0m | \u001b[0m 0.2342  \u001b[0m |\n",
      "| \u001b[0m 9       \u001b[0m | \u001b[0m 0.7035  \u001b[0m | \u001b[0m 0.3735  \u001b[0m | \u001b[0m 0.05982 \u001b[0m | \u001b[0m 189.6   \u001b[0m | \u001b[0m 452.7   \u001b[0m | \u001b[0m 1.496   \u001b[0m | \u001b[0m 19.69   \u001b[0m | \u001b[0m 0.2705  \u001b[0m |\n",
      "| \u001b[95m 10      \u001b[0m | \u001b[95m 0.7078  \u001b[0m | \u001b[95m 0.4112  \u001b[0m | \u001b[95m 0.03172 \u001b[0m | \u001b[95m 894.9   \u001b[0m | \u001b[95m 117.6   \u001b[0m | \u001b[95m 5.673   \u001b[0m | \u001b[95m 36.42   \u001b[0m | \u001b[95m 0.03775 \u001b[0m |\n",
      "| \u001b[0m 11      \u001b[0m | \u001b[0m 0.7014  \u001b[0m | \u001b[0m 0.6498  \u001b[0m | \u001b[0m 0.07603 \u001b[0m | \u001b[0m 731.7   \u001b[0m | \u001b[0m 134.8   \u001b[0m | \u001b[0m 9.597   \u001b[0m | \u001b[0m 41.33   \u001b[0m | \u001b[0m 0.516   \u001b[0m |\n",
      "| \u001b[0m 12      \u001b[0m | \u001b[0m 0.705   \u001b[0m | \u001b[0m 0.7553  \u001b[0m | \u001b[0m 0.05029 \u001b[0m | \u001b[0m 465.3   \u001b[0m | \u001b[0m 725.1   \u001b[0m | \u001b[0m 1.285   \u001b[0m | \u001b[0m 33.42   \u001b[0m | \u001b[0m 0.8214  \u001b[0m |\n",
      "| \u001b[0m 13      \u001b[0m | \u001b[0m 0.7024  \u001b[0m | \u001b[0m 0.4414  \u001b[0m | \u001b[0m 0.01367 \u001b[0m | \u001b[0m 536.5   \u001b[0m | \u001b[0m 872.7   \u001b[0m | \u001b[0m 4.419   \u001b[0m | \u001b[0m 47.99   \u001b[0m | \u001b[0m 0.06984 \u001b[0m |\n",
      "| \u001b[0m 14      \u001b[0m | \u001b[0m 0.7052  \u001b[0m | \u001b[0m 0.7964  \u001b[0m | \u001b[0m 0.03946 \u001b[0m | \u001b[0m 779.5   \u001b[0m | \u001b[0m 384.4   \u001b[0m | \u001b[0m 1.959   \u001b[0m | \u001b[0m 37.25   \u001b[0m | \u001b[0m 0.3831  \u001b[0m |\n",
      "| \u001b[0m 15      \u001b[0m | \u001b[0m 0.706   \u001b[0m | \u001b[0m 0.141   \u001b[0m | \u001b[0m 0.04098 \u001b[0m | \u001b[0m 769.6   \u001b[0m | \u001b[0m 809.4   \u001b[0m | \u001b[0m 1.019   \u001b[0m | \u001b[0m 25.48   \u001b[0m | \u001b[0m 0.617   \u001b[0m |\n",
      "| \u001b[0m 16      \u001b[0m | \u001b[0m 0.6532  \u001b[0m | \u001b[0m 0.38    \u001b[0m | \u001b[0m 0.00266 \u001b[0m | \u001b[0m 17.39   \u001b[0m | \u001b[0m 1.009e+0\u001b[0m | \u001b[0m 3.549   \u001b[0m | \u001b[0m 29.8    \u001b[0m | \u001b[0m 0.7292  \u001b[0m |\n",
      "| \u001b[0m 17      \u001b[0m | \u001b[0m 0.7067  \u001b[0m | \u001b[0m 0.868   \u001b[0m | \u001b[0m 0.01511 \u001b[0m | \u001b[0m 1.009e+0\u001b[0m | \u001b[0m 1.017e+0\u001b[0m | \u001b[0m 1.169   \u001b[0m | \u001b[0m 30.92   \u001b[0m | \u001b[0m 0.9538  \u001b[0m |\n",
      "| \u001b[0m 18      \u001b[0m | \u001b[0m 0.7078  \u001b[0m | \u001b[0m 0.08863 \u001b[0m | \u001b[0m 0.03254 \u001b[0m | \u001b[0m 764.3   \u001b[0m | \u001b[0m 811.5   \u001b[0m | \u001b[0m 0.786   \u001b[0m | \u001b[0m 28.85   \u001b[0m | \u001b[0m 0.102   \u001b[0m |\n",
      "| \u001b[95m 19      \u001b[0m | \u001b[95m 0.7078  \u001b[0m | \u001b[95m 0.3002  \u001b[0m | \u001b[95m 0.05574 \u001b[0m | \u001b[95m 1.022e+0\u001b[0m | \u001b[95m 36.48   \u001b[0m | \u001b[95m 0.1008  \u001b[0m | \u001b[95m 43.68   \u001b[0m | \u001b[95m 0.2231  \u001b[0m |\n",
      "| \u001b[0m 20      \u001b[0m | \u001b[0m 0.7064  \u001b[0m | \u001b[0m 0.5659  \u001b[0m | \u001b[0m 0.04575 \u001b[0m | \u001b[0m 1.02e+03\u001b[0m | \u001b[0m 293.6   \u001b[0m | \u001b[0m 0.1983  \u001b[0m | \u001b[0m 40.82   \u001b[0m | \u001b[0m 0.07909 \u001b[0m |\n",
      "| \u001b[0m 21      \u001b[0m | \u001b[0m 0.7052  \u001b[0m | \u001b[0m 0.5442  \u001b[0m | \u001b[0m 0.08063 \u001b[0m | \u001b[0m 1.009e+0\u001b[0m | \u001b[0m 814.1   \u001b[0m | \u001b[0m 0.5185  \u001b[0m | \u001b[0m 45.34   \u001b[0m | \u001b[0m 0.6307  \u001b[0m |\n",
      "| \u001b[0m 22      \u001b[0m | \u001b[0m 0.7041  \u001b[0m | \u001b[0m 0.9009  \u001b[0m | \u001b[0m 0.02228 \u001b[0m | \u001b[0m 673.0   \u001b[0m | \u001b[0m 1.021e+0\u001b[0m | \u001b[0m 0.4061  \u001b[0m | \u001b[0m 2.111   \u001b[0m | \u001b[0m 0.3077  \u001b[0m |\n",
      "| \u001b[0m 23      \u001b[0m | \u001b[0m 0.7027  \u001b[0m | \u001b[0m 0.6823  \u001b[0m | \u001b[0m 0.04242 \u001b[0m | \u001b[0m 958.4   \u001b[0m | \u001b[0m 80.92   \u001b[0m | \u001b[0m 0.2683  \u001b[0m | \u001b[0m 0.7672  \u001b[0m | \u001b[0m 0.7728  \u001b[0m |\n",
      "| \u001b[0m 24      \u001b[0m | \u001b[0m 0.7036  \u001b[0m | \u001b[0m 0.059   \u001b[0m | \u001b[0m 0.04119 \u001b[0m | \u001b[0m 393.2   \u001b[0m | \u001b[0m 315.7   \u001b[0m | \u001b[0m 0.07514 \u001b[0m | \u001b[0m 42.1    \u001b[0m | \u001b[0m 0.7455  \u001b[0m |\n",
      "| \u001b[0m 25      \u001b[0m | \u001b[0m 0.7037  \u001b[0m | \u001b[0m 0.9679  \u001b[0m | \u001b[0m 0.07334 \u001b[0m | \u001b[0m 846.2   \u001b[0m | \u001b[0m 16.08   \u001b[0m | \u001b[0m 0.4843  \u001b[0m | \u001b[0m 48.36   \u001b[0m | \u001b[0m 0.7817  \u001b[0m |\n",
      "| \u001b[0m 26      \u001b[0m | \u001b[0m 0.6848  \u001b[0m | \u001b[0m 0.03692 \u001b[0m | \u001b[0m 0.02564 \u001b[0m | \u001b[0m 248.2   \u001b[0m | \u001b[0m 702.8   \u001b[0m | \u001b[0m 1.594   \u001b[0m | \u001b[0m 0.7056  \u001b[0m | \u001b[0m 0.7444  \u001b[0m |\n",
      "| \u001b[0m 27      \u001b[0m | \u001b[0m 0.6799  \u001b[0m | \u001b[0m 0.6575  \u001b[0m | \u001b[0m 0.002723\u001b[0m | \u001b[0m 810.6   \u001b[0m | \u001b[0m 1.017e+0\u001b[0m | \u001b[0m 0.6863  \u001b[0m | \u001b[0m 40.28   \u001b[0m | \u001b[0m 0.4512  \u001b[0m |\n",
      "| \u001b[0m 28      \u001b[0m | \u001b[0m 0.6768  \u001b[0m | \u001b[0m 0.7284  \u001b[0m | \u001b[0m 0.03616 \u001b[0m | \u001b[0m 152.5   \u001b[0m | \u001b[0m 16.13   \u001b[0m | \u001b[0m 4.029   \u001b[0m | \u001b[0m 4.097   \u001b[0m | \u001b[0m 0.8034  \u001b[0m |\n",
      "| \u001b[0m 29      \u001b[0m | \u001b[0m 0.6858  \u001b[0m | \u001b[0m 0.02885 \u001b[0m | \u001b[0m 0.09683 \u001b[0m | \u001b[0m 355.5   \u001b[0m | \u001b[0m 1.018e+0\u001b[0m | \u001b[0m 0.4679  \u001b[0m | \u001b[0m 3.282   \u001b[0m | \u001b[0m 0.9189  \u001b[0m |\n",
      "| \u001b[0m 30      \u001b[0m | \u001b[0m 0.7034  \u001b[0m | \u001b[0m 0.6584  \u001b[0m | \u001b[0m 0.01769 \u001b[0m | \u001b[0m 1.007e+0\u001b[0m | \u001b[0m 890.9   \u001b[0m | \u001b[0m 1.487   \u001b[0m | \u001b[0m 0.654   \u001b[0m | \u001b[0m 0.4159  \u001b[0m |\n",
      "| \u001b[0m 31      \u001b[0m | \u001b[0m 0.6989  \u001b[0m | \u001b[0m 0.1458  \u001b[0m | \u001b[0m 0.09665 \u001b[0m | \u001b[0m 981.2   \u001b[0m | \u001b[0m 707.8   \u001b[0m | \u001b[0m 3.781   \u001b[0m | \u001b[0m 5.206   \u001b[0m | \u001b[0m 0.6551  \u001b[0m |\n",
      "| \u001b[0m 32      \u001b[0m | \u001b[0m 0.6967  \u001b[0m | \u001b[0m 0.08118 \u001b[0m | \u001b[0m 0.0961  \u001b[0m | \u001b[0m 563.6   \u001b[0m | \u001b[0m 799.0   \u001b[0m | \u001b[0m 9.074   \u001b[0m | \u001b[0m 1.027   \u001b[0m | \u001b[0m 0.03483 \u001b[0m |\n",
      "| \u001b[0m 33      \u001b[0m | \u001b[0m 0.7016  \u001b[0m | \u001b[0m 0.5158  \u001b[0m | \u001b[0m 0.09248 \u001b[0m | \u001b[0m 897.2   \u001b[0m | \u001b[0m 113.7   \u001b[0m | \u001b[0m 1.471   \u001b[0m | \u001b[0m 36.12   \u001b[0m | \u001b[0m 0.9711  \u001b[0m |\n",
      "| \u001b[0m 34      \u001b[0m | \u001b[0m 0.6625  \u001b[0m | \u001b[0m 0.4303  \u001b[0m | \u001b[0m 0.06416 \u001b[0m | \u001b[0m 18.8    \u001b[0m | \u001b[0m 624.8   \u001b[0m | \u001b[0m 0.7217  \u001b[0m | \u001b[0m 48.78   \u001b[0m | \u001b[0m 0.1381  \u001b[0m |\n",
      "| \u001b[0m 35      \u001b[0m | \u001b[0m 0.6956  \u001b[0m | \u001b[0m 0.8111  \u001b[0m | \u001b[0m 0.04583 \u001b[0m | \u001b[0m 347.2   \u001b[0m | \u001b[0m 21.8    \u001b[0m | \u001b[0m 7.862   \u001b[0m | \u001b[0m 47.12   \u001b[0m | \u001b[0m 0.182   \u001b[0m |\n",
      "| \u001b[0m 36      \u001b[0m | \u001b[0m 0.7006  \u001b[0m | \u001b[0m 0.4616  \u001b[0m | \u001b[0m 0.06303 \u001b[0m | \u001b[0m 186.8   \u001b[0m | \u001b[0m 453.8   \u001b[0m | \u001b[0m 6.124   \u001b[0m | \u001b[0m 17.53   \u001b[0m | \u001b[0m 0.5855  \u001b[0m |\n",
      "| \u001b[0m 37      \u001b[0m | \u001b[0m 0.7014  \u001b[0m | \u001b[0m 0.8959  \u001b[0m | \u001b[0m 0.04213 \u001b[0m | \u001b[0m 973.8   \u001b[0m | \u001b[0m 497.8   \u001b[0m | \u001b[0m 9.764   \u001b[0m | \u001b[0m 49.2    \u001b[0m | \u001b[0m 0.1234  \u001b[0m |\n",
      "| \u001b[0m 38      \u001b[0m | \u001b[0m 0.6778  \u001b[0m | \u001b[0m 0.007881\u001b[0m | \u001b[0m 0.06029 \u001b[0m | \u001b[0m 579.4   \u001b[0m | \u001b[0m 16.56   \u001b[0m | \u001b[0m 2.289   \u001b[0m | \u001b[0m 2.699   \u001b[0m | \u001b[0m 0.3762  \u001b[0m |\n",
      "| \u001b[0m 39      \u001b[0m | \u001b[0m 0.6985  \u001b[0m | \u001b[0m 0.5743  \u001b[0m | \u001b[0m 0.03565 \u001b[0m | \u001b[0m 211.5   \u001b[0m | \u001b[0m 196.1   \u001b[0m | \u001b[0m 8.863   \u001b[0m | \u001b[0m 49.16   \u001b[0m | \u001b[0m 0.2574  \u001b[0m |\n",
      "| \u001b[0m 40      \u001b[0m | \u001b[0m 0.7033  \u001b[0m | \u001b[0m 0.6818  \u001b[0m | \u001b[0m 0.03987 \u001b[0m | \u001b[0m 997.1   \u001b[0m | \u001b[0m 21.71   \u001b[0m | \u001b[0m 9.352   \u001b[0m | \u001b[0m 32.5    \u001b[0m | \u001b[0m 0.02145 \u001b[0m |\n",
      "| \u001b[0m 41      \u001b[0m | \u001b[0m 0.7057  \u001b[0m | \u001b[0m 0.3302  \u001b[0m | \u001b[0m 0.02054 \u001b[0m | \u001b[0m 1.019e+0\u001b[0m | \u001b[0m 1.023e+0\u001b[0m | \u001b[0m 7.943   \u001b[0m | \u001b[0m 7.145   \u001b[0m | \u001b[0m 0.9378  \u001b[0m |\n",
      "| \u001b[0m 42      \u001b[0m | \u001b[0m 0.7066  \u001b[0m | \u001b[0m 0.5454  \u001b[0m | \u001b[0m 0.03187 \u001b[0m | \u001b[0m 247.4   \u001b[0m | \u001b[0m 311.3   \u001b[0m | \u001b[0m 0.1849  \u001b[0m | \u001b[0m 1.642   \u001b[0m | \u001b[0m 0.8761  \u001b[0m |\n",
      "| \u001b[0m 43      \u001b[0m | \u001b[0m 0.7041  \u001b[0m | \u001b[0m 0.9832  \u001b[0m | \u001b[0m 0.04124 \u001b[0m | \u001b[0m 1.018e+0\u001b[0m | \u001b[0m 155.6   \u001b[0m | \u001b[0m 6.221   \u001b[0m | \u001b[0m 47.32   \u001b[0m | \u001b[0m 0.5506  \u001b[0m |\n",
      "| \u001b[0m 44      \u001b[0m | \u001b[0m 0.7075  \u001b[0m | \u001b[0m 0.7562  \u001b[0m | \u001b[0m 0.04499 \u001b[0m | \u001b[0m 566.5   \u001b[0m | \u001b[0m 1.015e+0\u001b[0m | \u001b[0m 0.6302  \u001b[0m | \u001b[0m 46.88   \u001b[0m | \u001b[0m 0.3324  \u001b[0m |\n",
      "| \u001b[0m 45      \u001b[0m | \u001b[0m 0.7076  \u001b[0m | \u001b[0m 0.5115  \u001b[0m | \u001b[0m 0.03834 \u001b[0m | \u001b[0m 609.0   \u001b[0m | \u001b[0m 612.9   \u001b[0m | \u001b[0m 0.0194  \u001b[0m | \u001b[0m 45.96   \u001b[0m | \u001b[0m 0.3423  \u001b[0m |\n",
      "| \u001b[0m 46      \u001b[0m | \u001b[0m 0.6973  \u001b[0m | \u001b[0m 0.3143  \u001b[0m | \u001b[0m 0.07414 \u001b[0m | \u001b[0m 1.018e+0\u001b[0m | \u001b[0m 380.9   \u001b[0m | \u001b[0m 6.926   \u001b[0m | \u001b[0m 2.417   \u001b[0m | \u001b[0m 0.05049 \u001b[0m |\n",
      "| \u001b[0m 47      \u001b[0m | \u001b[0m 0.7036  \u001b[0m | \u001b[0m 0.9904  \u001b[0m | \u001b[0m 0.08135 \u001b[0m | \u001b[0m 715.9   \u001b[0m | \u001b[0m 747.6   \u001b[0m | \u001b[0m 1.721   \u001b[0m | \u001b[0m 49.52   \u001b[0m | \u001b[0m 0.405   \u001b[0m |\n",
      "| \u001b[0m 48      \u001b[0m | \u001b[0m 0.7005  \u001b[0m | \u001b[0m 0.1782  \u001b[0m | \u001b[0m 0.08246 \u001b[0m | \u001b[0m 558.2   \u001b[0m | \u001b[0m 1.01e+03\u001b[0m | \u001b[0m 0.5568  \u001b[0m | \u001b[0m 0.7881  \u001b[0m | \u001b[0m 0.4164  \u001b[0m |\n",
      "| \u001b[0m 49      \u001b[0m | \u001b[0m 0.7051  \u001b[0m | \u001b[0m 0.4856  \u001b[0m | \u001b[0m 0.06175 \u001b[0m | \u001b[0m 294.1   \u001b[0m | \u001b[0m 514.9   \u001b[0m | \u001b[0m 0.1488  \u001b[0m | \u001b[0m 48.06   \u001b[0m | \u001b[0m 0.5422  \u001b[0m |\n",
      "| \u001b[0m 50      \u001b[0m | \u001b[0m 0.6956  \u001b[0m | \u001b[0m 0.2215  \u001b[0m | \u001b[0m 0.01414 \u001b[0m | \u001b[0m 395.9   \u001b[0m | \u001b[0m 310.2   \u001b[0m | \u001b[0m 4.66    \u001b[0m | \u001b[0m 43.02   \u001b[0m | \u001b[0m 0.5554  \u001b[0m |\n",
      "| \u001b[0m 51      \u001b[0m | \u001b[0m 0.7068  \u001b[0m | \u001b[0m 0.3152  \u001b[0m | \u001b[0m 0.04745 \u001b[0m | \u001b[0m 267.9   \u001b[0m | \u001b[0m 146.9   \u001b[0m | \u001b[0m 0.07657 \u001b[0m | \u001b[0m 6.485   \u001b[0m | \u001b[0m 0.1916  \u001b[0m |\n",
      "| \u001b[0m 52      \u001b[0m | \u001b[0m 0.6982  \u001b[0m | \u001b[0m 0.0229  \u001b[0m | \u001b[0m 0.05826 \u001b[0m | \u001b[0m 696.2   \u001b[0m | \u001b[0m 250.5   \u001b[0m | \u001b[0m 0.2015  \u001b[0m | \u001b[0m 44.52   \u001b[0m | \u001b[0m 0.2477  \u001b[0m |\n",
      "| \u001b[0m 53      \u001b[0m | \u001b[0m 0.6996  \u001b[0m | \u001b[0m 0.02393 \u001b[0m | \u001b[0m 0.08312 \u001b[0m | \u001b[0m 599.0   \u001b[0m | \u001b[0m 433.7   \u001b[0m | \u001b[0m 1.222   \u001b[0m | \u001b[0m 49.69   \u001b[0m | \u001b[0m 0.08102 \u001b[0m |\n",
      "| \u001b[0m 54      \u001b[0m | \u001b[0m 0.6997  \u001b[0m | \u001b[0m 0.7123  \u001b[0m | \u001b[0m 0.07524 \u001b[0m | \u001b[0m 1.02e+03\u001b[0m | \u001b[0m 969.2   \u001b[0m | \u001b[0m 7.544   \u001b[0m | \u001b[0m 42.74   \u001b[0m | \u001b[0m 0.03542 \u001b[0m |\n",
      "| \u001b[0m 55      \u001b[0m | \u001b[0m 0.686   \u001b[0m | \u001b[0m 0.4959  \u001b[0m | \u001b[0m 0.01589 \u001b[0m | \u001b[0m 200.0   \u001b[0m | \u001b[0m 1.014e+0\u001b[0m | \u001b[0m 1.345   \u001b[0m | \u001b[0m 49.29   \u001b[0m | \u001b[0m 0.3276  \u001b[0m |\n",
      "| \u001b[0m 56      \u001b[0m | \u001b[0m 0.7069  \u001b[0m | \u001b[0m 0.9457  \u001b[0m | \u001b[0m 0.04729 \u001b[0m | \u001b[0m 1.023e+0\u001b[0m | \u001b[0m 607.9   \u001b[0m | \u001b[0m 0.6421  \u001b[0m | \u001b[0m 37.9    \u001b[0m | \u001b[0m 0.2998  \u001b[0m |\n",
      "| \u001b[0m 57      \u001b[0m | \u001b[0m 0.704   \u001b[0m | \u001b[0m 0.3824  \u001b[0m | \u001b[0m 0.07418 \u001b[0m | \u001b[0m 322.1   \u001b[0m | \u001b[0m 490.7   \u001b[0m | \u001b[0m 0.1257  \u001b[0m | \u001b[0m 7.411   \u001b[0m | \u001b[0m 0.000306\u001b[0m |\n",
      "| \u001b[0m 58      \u001b[0m | \u001b[0m 0.7047  \u001b[0m | \u001b[0m 0.4392  \u001b[0m | \u001b[0m 0.07315 \u001b[0m | \u001b[0m 848.6   \u001b[0m | \u001b[0m 17.3    \u001b[0m | \u001b[0m 2.9     \u001b[0m | \u001b[0m 45.14   \u001b[0m | \u001b[0m 0.8437  \u001b[0m |\n",
      "| \u001b[0m 59      \u001b[0m | \u001b[0m 0.6886  \u001b[0m | \u001b[0m 0.4261  \u001b[0m | \u001b[0m 0.002754\u001b[0m | \u001b[0m 711.9   \u001b[0m | \u001b[0m 807.0   \u001b[0m | \u001b[0m 0.974   \u001b[0m | \u001b[0m 0.9494  \u001b[0m | \u001b[0m 0.03879 \u001b[0m |\n",
      "| \u001b[0m 60      \u001b[0m | \u001b[0m 0.6316  \u001b[0m | \u001b[0m 0.02336 \u001b[0m | \u001b[0m 0.02766 \u001b[0m | \u001b[0m 30.84   \u001b[0m | \u001b[0m 23.89   \u001b[0m | \u001b[0m 3.701   \u001b[0m | \u001b[0m 43.16   \u001b[0m | \u001b[0m 0.9646  \u001b[0m |\n",
      "| \u001b[0m 61      \u001b[0m | \u001b[0m 0.7049  \u001b[0m | \u001b[0m 0.1635  \u001b[0m | \u001b[0m 0.07265 \u001b[0m | \u001b[0m 856.5   \u001b[0m | \u001b[0m 745.4   \u001b[0m | \u001b[0m 1.074   \u001b[0m | \u001b[0m 49.38   \u001b[0m | \u001b[0m 0.9925  \u001b[0m |\n",
      "| \u001b[95m 62      \u001b[0m | \u001b[95m 0.7079  \u001b[0m | \u001b[95m 0.09208 \u001b[0m | \u001b[95m 0.04692 \u001b[0m | \u001b[95m 775.0   \u001b[0m | \u001b[95m 83.06   \u001b[0m | \u001b[95m 2.16    \u001b[0m | \u001b[95m 0.388   \u001b[0m | \u001b[95m 0.2956  \u001b[0m |\n",
      "| \u001b[0m 63      \u001b[0m | \u001b[0m 0.6978  \u001b[0m | \u001b[0m 0.8494  \u001b[0m | \u001b[0m 0.06881 \u001b[0m | \u001b[0m 833.7   \u001b[0m | \u001b[0m 240.2   \u001b[0m | \u001b[0m 9.538   \u001b[0m | \u001b[0m 0.7707  \u001b[0m | \u001b[0m 0.6514  \u001b[0m |\n",
      "| \u001b[0m 64      \u001b[0m | \u001b[0m 0.6904  \u001b[0m | \u001b[0m 0.2541  \u001b[0m | \u001b[0m 0.019   \u001b[0m | \u001b[0m 218.7   \u001b[0m | \u001b[0m 364.1   \u001b[0m | \u001b[0m 0.1666  \u001b[0m | \u001b[0m 46.1    \u001b[0m | \u001b[0m 0.2106  \u001b[0m |\n",
      "| \u001b[0m 65      \u001b[0m | \u001b[0m 0.682   \u001b[0m | \u001b[0m 0.09262 \u001b[0m | \u001b[0m 0.07247 \u001b[0m | \u001b[0m 60.91   \u001b[0m | \u001b[0m 458.2   \u001b[0m | \u001b[0m 3.472   \u001b[0m | \u001b[0m 1.71    \u001b[0m | \u001b[0m 0.4115  \u001b[0m |\n",
      "| \u001b[0m 66      \u001b[0m | \u001b[0m 0.7014  \u001b[0m | \u001b[0m 0.7227  \u001b[0m | \u001b[0m 0.07484 \u001b[0m | \u001b[0m 108.3   \u001b[0m | \u001b[0m 231.6   \u001b[0m | \u001b[0m 0.3105  \u001b[0m | \u001b[0m 5.836   \u001b[0m | \u001b[0m 0.2349  \u001b[0m |\n",
      "| \u001b[0m 67      \u001b[0m | \u001b[0m 0.7033  \u001b[0m | \u001b[0m 0.1563  \u001b[0m | \u001b[0m 0.06493 \u001b[0m | \u001b[0m 734.6   \u001b[0m | \u001b[0m 505.2   \u001b[0m | \u001b[0m 8.728   \u001b[0m | \u001b[0m 49.05   \u001b[0m | \u001b[0m 0.6673  \u001b[0m |\n",
      "| \u001b[0m 68      \u001b[0m | \u001b[0m 0.7031  \u001b[0m | \u001b[0m 0.3526  \u001b[0m | \u001b[0m 0.05756 \u001b[0m | \u001b[0m 192.9   \u001b[0m | \u001b[0m 587.8   \u001b[0m | \u001b[0m 0.9557  \u001b[0m | \u001b[0m 46.37   \u001b[0m | \u001b[0m 0.8063  \u001b[0m |\n",
      "| \u001b[0m 69      \u001b[0m | \u001b[0m 0.703   \u001b[0m | \u001b[0m 0.2193  \u001b[0m | \u001b[0m 0.09961 \u001b[0m | \u001b[0m 535.4   \u001b[0m | \u001b[0m 705.3   \u001b[0m | \u001b[0m 2.318   \u001b[0m | \u001b[0m 49.34   \u001b[0m | \u001b[0m 0.08976 \u001b[0m |\n",
      "| \u001b[0m 70      \u001b[0m | \u001b[0m 0.7028  \u001b[0m | \u001b[0m 0.2522  \u001b[0m | \u001b[0m 0.01069 \u001b[0m | \u001b[0m 668.4   \u001b[0m | \u001b[0m 1.024e+0\u001b[0m | \u001b[0m 0.6166  \u001b[0m | \u001b[0m 2.904   \u001b[0m | \u001b[0m 0.4143  \u001b[0m |\n",
      "| \u001b[0m 71      \u001b[0m | \u001b[0m 0.6863  \u001b[0m | \u001b[0m 0.01236 \u001b[0m | \u001b[0m 0.05787 \u001b[0m | \u001b[0m 666.7   \u001b[0m | \u001b[0m 947.5   \u001b[0m | \u001b[0m 1.843   \u001b[0m | \u001b[0m 47.06   \u001b[0m | \u001b[0m 0.1785  \u001b[0m |\n",
      "| \u001b[0m 72      \u001b[0m | \u001b[0m 0.7053  \u001b[0m | \u001b[0m 0.2837  \u001b[0m | \u001b[0m 0.09043 \u001b[0m | \u001b[0m 435.1   \u001b[0m | \u001b[0m 1.02e+03\u001b[0m | \u001b[0m 0.197   \u001b[0m | \u001b[0m 47.03   \u001b[0m | \u001b[0m 0.3582  \u001b[0m |\n",
      "| \u001b[0m 73      \u001b[0m | \u001b[0m 0.704   \u001b[0m | \u001b[0m 0.9969  \u001b[0m | \u001b[0m 0.09411 \u001b[0m | \u001b[0m 355.1   \u001b[0m | \u001b[0m 839.8   \u001b[0m | \u001b[0m 0.7262  \u001b[0m | \u001b[0m 45.39   \u001b[0m | \u001b[0m 0.29    \u001b[0m |\n",
      "| \u001b[0m 74      \u001b[0m | \u001b[0m 0.7048  \u001b[0m | \u001b[0m 0.04229 \u001b[0m | \u001b[0m 0.05498 \u001b[0m | \u001b[0m 1.022e+0\u001b[0m | \u001b[0m 25.65   \u001b[0m | \u001b[0m 9.775   \u001b[0m | \u001b[0m 2.124   \u001b[0m | \u001b[0m 0.6402  \u001b[0m |\n",
      "| \u001b[0m 75      \u001b[0m | \u001b[0m 0.705   \u001b[0m | \u001b[0m 0.2916  \u001b[0m | \u001b[0m 0.01128 \u001b[0m | \u001b[0m 1.019e+0\u001b[0m | \u001b[0m 394.4   \u001b[0m | \u001b[0m 9.28    \u001b[0m | \u001b[0m 49.94   \u001b[0m | \u001b[0m 0.8056  \u001b[0m |\n",
      "| \u001b[0m 76      \u001b[0m | \u001b[0m 0.702   \u001b[0m | \u001b[0m 0.3183  \u001b[0m | \u001b[0m 0.02286 \u001b[0m | \u001b[0m 355.2   \u001b[0m | \u001b[0m 845.2   \u001b[0m | \u001b[0m 3.376   \u001b[0m | \u001b[0m 44.99   \u001b[0m | \u001b[0m 0.6768  \u001b[0m |\n",
      "| \u001b[0m 77      \u001b[0m | \u001b[0m 0.6989  \u001b[0m | \u001b[0m 0.8249  \u001b[0m | \u001b[0m 0.0803  \u001b[0m | \u001b[0m 985.6   \u001b[0m | \u001b[0m 710.0   \u001b[0m | \u001b[0m 3.02    \u001b[0m | \u001b[0m 6.795   \u001b[0m | \u001b[0m 0.8411  \u001b[0m |\n",
      "| \u001b[0m 78      \u001b[0m | \u001b[0m 0.697   \u001b[0m | \u001b[0m 0.9547  \u001b[0m | \u001b[0m 0.09333 \u001b[0m | \u001b[0m 858.3   \u001b[0m | \u001b[0m 835.9   \u001b[0m | \u001b[0m 8.815   \u001b[0m | \u001b[0m 30.08   \u001b[0m | \u001b[0m 0.1843  \u001b[0m |\n",
      "| \u001b[0m 79      \u001b[0m | \u001b[0m 0.7043  \u001b[0m | \u001b[0m 0.09882 \u001b[0m | \u001b[0m 0.03181 \u001b[0m | \u001b[0m 389.8   \u001b[0m | \u001b[0m 317.3   \u001b[0m | \u001b[0m 0.1747  \u001b[0m | \u001b[0m 44.12   \u001b[0m | \u001b[0m 0.8199  \u001b[0m |\n",
      "| \u001b[0m 80      \u001b[0m | \u001b[0m 0.6853  \u001b[0m | \u001b[0m 0.5334  \u001b[0m | \u001b[0m 0.02416 \u001b[0m | \u001b[0m 139.6   \u001b[0m | \u001b[0m 829.6   \u001b[0m | \u001b[0m 1.682   \u001b[0m | \u001b[0m 48.51   \u001b[0m | \u001b[0m 0.7999  \u001b[0m |\n",
      "| \u001b[0m 81      \u001b[0m | \u001b[0m 0.6899  \u001b[0m | \u001b[0m 0.3026  \u001b[0m | \u001b[0m 0.02157 \u001b[0m | \u001b[0m 223.5   \u001b[0m | \u001b[0m 82.11   \u001b[0m | \u001b[0m 1.431   \u001b[0m | \u001b[0m 46.87   \u001b[0m | \u001b[0m 0.02559 \u001b[0m |\n",
      "| \u001b[0m 82      \u001b[0m | \u001b[0m 0.6427  \u001b[0m | \u001b[0m 0.002813\u001b[0m | \u001b[0m 0.06658 \u001b[0m | \u001b[0m 591.0   \u001b[0m | \u001b[0m 540.3   \u001b[0m | \u001b[0m 1.023   \u001b[0m | \u001b[0m 0.6948  \u001b[0m | \u001b[0m 0.2842  \u001b[0m |\n",
      "| \u001b[0m 83      \u001b[0m | \u001b[0m 0.7051  \u001b[0m | \u001b[0m 0.937   \u001b[0m | \u001b[0m 0.04062 \u001b[0m | \u001b[0m 553.5   \u001b[0m | \u001b[0m 257.5   \u001b[0m | \u001b[0m 0.1297  \u001b[0m | \u001b[0m 1.475   \u001b[0m | \u001b[0m 0.6398  \u001b[0m |\n",
      "| \u001b[0m 84      \u001b[0m | \u001b[0m 0.6991  \u001b[0m | \u001b[0m 0.6654  \u001b[0m | \u001b[0m 0.03568 \u001b[0m | \u001b[0m 194.5   \u001b[0m | \u001b[0m 585.4   \u001b[0m | \u001b[0m 4.34    \u001b[0m | \u001b[0m 49.32   \u001b[0m | \u001b[0m 0.3039  \u001b[0m |\n",
      "| \u001b[0m 85      \u001b[0m | \u001b[0m 0.7027  \u001b[0m | \u001b[0m 0.7657  \u001b[0m | \u001b[0m 0.09443 \u001b[0m | \u001b[0m 346.9   \u001b[0m | \u001b[0m 25.63   \u001b[0m | \u001b[0m 5.597   \u001b[0m | \u001b[0m 0.4297  \u001b[0m | \u001b[0m 0.9594  \u001b[0m |\n",
      "| \u001b[0m 86      \u001b[0m | \u001b[0m 0.7042  \u001b[0m | \u001b[0m 0.5391  \u001b[0m | \u001b[0m 0.09932 \u001b[0m | \u001b[0m 824.2   \u001b[0m | \u001b[0m 602.2   \u001b[0m | \u001b[0m 0.5355  \u001b[0m | \u001b[0m 49.92   \u001b[0m | \u001b[0m 0.9587  \u001b[0m |\n",
      "| \u001b[0m 87      \u001b[0m | \u001b[0m 0.7059  \u001b[0m | \u001b[0m 0.9187  \u001b[0m | \u001b[0m 0.02475 \u001b[0m | \u001b[0m 443.1   \u001b[0m | \u001b[0m 454.5   \u001b[0m | \u001b[0m 0.4871  \u001b[0m | \u001b[0m 48.99   \u001b[0m | \u001b[0m 0.6326  \u001b[0m |\n",
      "| \u001b[0m 88      \u001b[0m | \u001b[0m 0.7061  \u001b[0m | \u001b[0m 0.8376  \u001b[0m | \u001b[0m 0.04024 \u001b[0m | \u001b[0m 354.1   \u001b[0m | \u001b[0m 676.1   \u001b[0m | \u001b[0m 0.5882  \u001b[0m | \u001b[0m 47.13   \u001b[0m | \u001b[0m 0.0789  \u001b[0m |\n",
      "| \u001b[0m 89      \u001b[0m | \u001b[0m 0.7024  \u001b[0m | \u001b[0m 0.7019  \u001b[0m | \u001b[0m 0.03849 \u001b[0m | \u001b[0m 1.024e+0\u001b[0m | \u001b[0m 711.3   \u001b[0m | \u001b[0m 9.867   \u001b[0m | \u001b[0m 47.61   \u001b[0m | \u001b[0m 0.964   \u001b[0m |\n",
      "| \u001b[0m 90      \u001b[0m | \u001b[0m 0.6521  \u001b[0m | \u001b[0m 0.8397  \u001b[0m | \u001b[0m 0.02772 \u001b[0m | \u001b[0m 16.88   \u001b[0m | \u001b[0m 849.4   \u001b[0m | \u001b[0m 2.396   \u001b[0m | \u001b[0m 0.1629  \u001b[0m | \u001b[0m 0.398   \u001b[0m |\n",
      "=============================================================================================================\n",
      "CPU times: user 4d 17h 50min 53s, sys: 22min 24s, total: 4d 18h 13min 18s\n",
      "Wall time: 3h 44s\n"
     ]
    }
   ],
   "source": [
    "%%time\n",
    "func_fixed = partial(                        # 모델과 관련없는 변수 고정\n",
    "                  lgb_cv, \n",
    "                  x_data=x_train, \n",
    "                  y_data=y_train, \n",
    "                  n_splits=5, \n",
    "                  output='score',\n",
    "                ) \n",
    "\n",
    "lgbBO = BayesianOptimization(                # 베이지안 최적화 범위 설정\n",
    "      func_fixed, \n",
    "      {\n",
    "          'learning_rate': (0.0001, 0.1),    # learning_rate,    범위(0.0001~0.1)\n",
    "          'num_leaves': (16, 1024),          # num_leaves,       범위(16~1024)\n",
    "          'n_estimators': (16, 1024),        # n_estimators,     범위(16~1024)\n",
    "          'subsample': (0, 1),               # subsample,        범위(0~1)\n",
    "          'colsample_bytree': (0, 1),        # colsample_bytree, 범위(0~1)\n",
    "          'reg_alpha': (0, 10),              # reg_alpha,        범위(0~10)\n",
    "          'reg_lambda': (0, 50),             # reg_lambda,       범위(0~50)\n",
    "      }, \n",
    "      random_state=random.randrange(50000)   # 시드 고정 = 4321\n",
    "  )\n",
    "\n",
    "\"\"\"\n",
    "# 처음 5회 랜덤 값으로 score 계산 후, 30회 최적화 = Original Baseline!\n",
    "# lgbBO.maximize(init_points=5, n_iter=30) \n",
    "\"\"\"\n",
    "lgbBO.maximize(init_points, n_iter)"
   ]
  },
  {
   "cell_type": "markdown",
   "metadata": {
    "colab_type": "text",
    "id": "CfHi_LZ4O1_l"
   },
   "source": [
    "## 모델 학습 및 검증\n",
    "- Model Tuning & Evaluation\n",
    "\n",
    "> 1. AUC가 가장 높은 하이퍼 파라미터를 사용해 최종 모델을 얻습니다.\n",
    "> 1. 훈련 세트와 같은 방법으로 테스트 세트에서 Feature를 추출합니다.\n",
    "> 1. 최종 모델을 사용해 예측을 수행합니다.\n",
    "> 1. 예측 결과를 submission.csv로 저장합니다."
   ]
  },
  {
   "cell_type": "code",
   "execution_count": 0,
   "metadata": {
    "colab": {},
    "colab_type": "code",
    "id": "7UMIvW62UWhn"
   },
   "outputs": [],
   "source": [
    "params = lgbBO.max['params']\n",
    "\n",
    "models = lgb_cv(\n",
    "        params['num_leaves'], \n",
    "        params['learning_rate'], \n",
    "        params['n_estimators'], \n",
    "        params['subsample'], \n",
    "        params['colsample_bytree'], \n",
    "        params['reg_alpha'], \n",
    "        params['reg_lambda'], \n",
    "        x_data=x_train, \n",
    "        y_data=y_train, \n",
    "        n_splits=5, \n",
    "        output='model',\n",
    "    )"
   ]
  },
  {
   "cell_type": "markdown",
   "metadata": {
    "colab_type": "text",
    "id": "W9d6ImndX5zO"
   },
   "source": [
    "## TEST를 풀기위해, 학습데이터로 변경 (data_preps)\n",
    "- df_xtrain_final.shape   # (38872, 1579)\n",
    "- df_xtest_final.shape   # (16787, 1579)"
   ]
  },
  {
   "cell_type": "code",
   "execution_count": 0,
   "metadata": {
    "colab": {},
    "colab_type": "code",
    "id": "20YeuGYXUWZ3"
   },
   "outputs": [],
   "source": [
    "\"\"\"\n",
    "# 테스트용 데이터를 전처리 해서 분석 준비 ... (시간소요) 미리 저장한 화일을 불러온다\n",
    "# 저장했으면 비활성 처리\n",
    "# x_test, _ = data_preparation(test, answer=False)                 # [ 28,714,849 x 6 ] ... 30%\n",
    "# x_test.to_csv(dir_base + remake + 'df_xtest_remake.csv')\n",
    "# x_test = pd.read_csv(dir_base + remake + 'df_xtest_remake.csv')  # [  16,787 x 27 ]\n",
    "\"\"\"\n",
    "x_test = pd.read_csv(dir_base + remake + 'xtra_remake_xtest_final.csv')    # *** DATA SHAPE = [ 16,787 x 27 ]\n"
   ]
  },
  {
   "cell_type": "markdown",
   "metadata": {
    "colab_type": "text",
    "id": "RxraHMvoufLe"
   },
   "source": [
    "## 예측결과 Submission 화일 만들기"
   ]
  },
  {
   "cell_type": "code",
   "execution_count": 0,
   "metadata": {
    "colab": {},
    "colab_type": "code",
    "id": "k9HevRoDUWUC"
   },
   "outputs": [],
   "source": [
    "\"\"\"\n",
    "# pd.read_csv('data/sample_submission.csv', index_col=0)\n",
    "# sample_submission = pd.read_csv(dir_base + sub_base + \"sample_submission.csv\")\n",
    "\"\"\"\n",
    "\n",
    "preds = []\n",
    "\n",
    "for model in models:\n",
    "    pred = model.predict_proba(x_test)[:, 1]\n",
    "    preds.append(pred)\n",
    "    \n",
    "pred = np.mean(preds, axis=0)"
   ]
  },
  {
   "cell_type": "code",
   "execution_count": 33,
   "metadata": {
    "colab": {
     "base_uri": "https://localhost:8080/",
     "height": 111
    },
    "colab_type": "code",
    "executionInfo": {
     "elapsed": 74,
     "status": "ok",
     "timestamp": 1586831556379,
     "user": {
      "displayName": "이준규",
      "photoUrl": "",
      "userId": "12089629153828448800"
     },
     "user_tz": -540
    },
    "id": "WiT8YDy2ufLj",
    "outputId": "72cebfc6-094c-4dc7-c59a-b5813b380cc3"
   },
   "outputs": [
    {
     "name": "stdout",
     "output_type": "stream",
     "text": [
      "False\n",
      "DIR_TARGET=/content/drive/My Drive/Colab Notebooks/kay_suparx_learning_model/data_remake\n",
      "/content/drive/My Drive/Colab Notebooks//kay_suparx_learning_model/data_raw/\n",
      "----------------------------------------\n",
      "  01. sample_submission.csv\n"
     ]
    }
   ],
   "source": [
    "show_ls(dir_base + raw)"
   ]
  },
  {
   "cell_type": "code",
   "execution_count": 0,
   "metadata": {
    "colab": {},
    "colab_type": "code",
    "id": "-8k9NaRnufLn"
   },
   "outputs": [],
   "source": [
    "submission = pd.read_csv(dir_base + raw + \"sample_submission.csv\") \n",
    "\n",
    "\n",
    "submission['winner'] = pred\n",
    "submission.to_csv(dir_base + submit + filename_submit, index=False)"
   ]
  },
  {
   "cell_type": "markdown",
   "metadata": {
    "colab_type": "text",
    "id": "4PobqJx-OM0Q"
   },
   "source": [
    "# 결과 확인하기\n",
    "- 3월 데이콘 대회 홈페이지 = https://bit.ly/39bqWVg\n",
    "- 결과 제출하기 = https://dacon.io/competitions/official/235583/mysubmission/"
   ]
  },
  {
   "cell_type": "code",
   "execution_count": 35,
   "metadata": {
    "colab": {
     "base_uri": "https://localhost:8080/",
     "height": 424
    },
    "colab_type": "code",
    "executionInfo": {
     "elapsed": 63,
     "status": "ok",
     "timestamp": 1586831556383,
     "user": {
      "displayName": "이준규",
      "photoUrl": "",
      "userId": "12089629153828448800"
     },
     "user_tz": -540
    },
    "id": "-Ry1J9-SufLs",
    "outputId": "0f537406-630a-416e-ec21-ef1d28f95db4"
   },
   "outputs": [
    {
     "data": {
      "text/html": [
       "<div>\n",
       "<style scoped>\n",
       "    .dataframe tbody tr th:only-of-type {\n",
       "        vertical-align: middle;\n",
       "    }\n",
       "\n",
       "    .dataframe tbody tr th {\n",
       "        vertical-align: top;\n",
       "    }\n",
       "\n",
       "    .dataframe thead th {\n",
       "        text-align: right;\n",
       "    }\n",
       "</style>\n",
       "<table border=\"1\" class=\"dataframe\">\n",
       "  <thead>\n",
       "    <tr style=\"text-align: right;\">\n",
       "      <th></th>\n",
       "      <th>game_id</th>\n",
       "      <th>winner</th>\n",
       "    </tr>\n",
       "  </thead>\n",
       "  <tbody>\n",
       "    <tr>\n",
       "      <th>0</th>\n",
       "      <td>38872</td>\n",
       "      <td>0.446142</td>\n",
       "    </tr>\n",
       "    <tr>\n",
       "      <th>1</th>\n",
       "      <td>38873</td>\n",
       "      <td>0.587099</td>\n",
       "    </tr>\n",
       "    <tr>\n",
       "      <th>2</th>\n",
       "      <td>38874</td>\n",
       "      <td>0.401160</td>\n",
       "    </tr>\n",
       "    <tr>\n",
       "      <th>3</th>\n",
       "      <td>38875</td>\n",
       "      <td>0.186928</td>\n",
       "    </tr>\n",
       "    <tr>\n",
       "      <th>4</th>\n",
       "      <td>38876</td>\n",
       "      <td>0.634290</td>\n",
       "    </tr>\n",
       "    <tr>\n",
       "      <th>...</th>\n",
       "      <td>...</td>\n",
       "      <td>...</td>\n",
       "    </tr>\n",
       "    <tr>\n",
       "      <th>16782</th>\n",
       "      <td>55654</td>\n",
       "      <td>0.697729</td>\n",
       "    </tr>\n",
       "    <tr>\n",
       "      <th>16783</th>\n",
       "      <td>55655</td>\n",
       "      <td>0.188369</td>\n",
       "    </tr>\n",
       "    <tr>\n",
       "      <th>16784</th>\n",
       "      <td>55656</td>\n",
       "      <td>0.762855</td>\n",
       "    </tr>\n",
       "    <tr>\n",
       "      <th>16785</th>\n",
       "      <td>55657</td>\n",
       "      <td>0.522746</td>\n",
       "    </tr>\n",
       "    <tr>\n",
       "      <th>16786</th>\n",
       "      <td>55658</td>\n",
       "      <td>0.558943</td>\n",
       "    </tr>\n",
       "  </tbody>\n",
       "</table>\n",
       "<p>16787 rows × 2 columns</p>\n",
       "</div>"
      ],
      "text/plain": [
       "       game_id    winner\n",
       "0        38872  0.446142\n",
       "1        38873  0.587099\n",
       "2        38874  0.401160\n",
       "3        38875  0.186928\n",
       "4        38876  0.634290\n",
       "...        ...       ...\n",
       "16782    55654  0.697729\n",
       "16783    55655  0.188369\n",
       "16784    55656  0.762855\n",
       "16785    55657  0.522746\n",
       "16786    55658  0.558943\n",
       "\n",
       "[16787 rows x 2 columns]"
      ]
     },
     "execution_count": 35,
     "metadata": {
      "tags": []
     },
     "output_type": "execute_result"
    }
   ],
   "source": [
    "df_1 = submission\n",
    "df_1"
   ]
  }
 ],
 "metadata": {
  "accelerator": "TPU",
  "colab": {
   "collapsed_sections": [],
   "machine_shape": "hm",
   "name": "starcraft_LGBM_final_0414_ing.ipynb",
   "provenance": []
  },
  "kernelspec": {
   "display_name": "Python 3",
   "name": "python3"
  },
  "language_info": {
   "codemirror_mode": {
    "name": "ipython",
    "version": 3
   },
   "file_extension": ".py",
   "mimetype": "text/x-python",
   "name": "python",
   "nbconvert_exporter": "python",
   "pygments_lexer": "ipython3",
   "version": "3.7.6"
  }
 },
 "nbformat": 4,
 "nbformat_minor": 0
}
