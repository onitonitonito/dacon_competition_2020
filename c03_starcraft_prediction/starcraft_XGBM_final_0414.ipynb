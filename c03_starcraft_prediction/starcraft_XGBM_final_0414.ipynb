{
 "cells": [
  {
   "cell_type": "markdown",
   "metadata": {
    "colab_type": "text",
    "id": "187ugqNFuzIG"
   },
   "source": [
    "### Install / Import 모듈 "
   ]
  },
  {
   "cell_type": "code",
   "execution_count": 1,
   "metadata": {
    "colab": {
     "base_uri": "https://localhost:8080/",
     "height": 178
    },
    "colab_type": "code",
    "executionInfo": {
     "elapsed": 20113,
     "status": "ok",
     "timestamp": 1585617145679,
     "user": {
      "displayName": "SuParX -K",
      "photoUrl": "https://lh3.googleusercontent.com/a-/AOh14GgAhLtiQrZfK-FHgn5GBmgExX619ygpOPHHdN4ZkU0=s64",
      "userId": "05876132496561296136"
     },
     "user_tz": -540
    },
    "id": "KHr7Oekx9AgU",
    "outputId": "e8bdfc50-1d0d-46cd-af53-4313a5845e4a"
   },
   "outputs": [],
   "source": [
    "# 코랩에 없는 라이브러리 설치해주기\n",
    "# !pip install bayesian-optimization"
   ]
  },
  {
   "cell_type": "code",
   "execution_count": 2,
   "metadata": {
    "colab": {},
    "colab_type": "code",
    "id": "O14CYkrx_Wvr"
   },
   "outputs": [],
   "source": [
    "import os\n",
    "import pandas as pd                         # 데이터 분석 라이브러리\n",
    "import numpy as np                          # 계산 라이브러리\n",
    "import matplotlib.pyplot as plt             # * 그래프 이미지\n",
    "\n",
    "from tqdm import tqdm                       # 진행바\n",
    "\n",
    "from sklearn.metrics import roc_auc_score   # AUC 스코어 계산\n",
    "from sklearn.model_selection import KFold   # K-fold CV    \n",
    "from bayes_opt import BayesianOptimization  # 베이지안 최적화 라이브러리  \n",
    "from functools import partial               # 함수 변수 고정\n",
    "import lightgbm as lgb                      # LightGBM 라이브러리\n",
    "import warnings           \n",
    "import random                       \n",
    "warnings.filterwarnings(\"ignore\")           # 경고 문구 미표시"
   ]
  },
  {
   "cell_type": "code",
   "execution_count": 3,
   "metadata": {
    "colab": {},
    "colab_type": "code",
    "id": "HZZBn3Ec_bXr"
   },
   "outputs": [],
   "source": [
    "# 데이터가 많아 5분 정도 걸립니다.  \n",
    "# 전체경로 = /content/drive/My Drive/Colab Notebooks/competition/c03_starcraft_prediction/data_raw/train.csv\n",
    "# /content/drive/My Drive/Colab Notebooks/\n",
    "# dir_base = '/content/drive/My Drive/Colab Notebooks/competition/''\n",
    "\n",
    "dir_base = '/home/yk/0325_Starcraft/competition/'\n",
    "\n",
    "raw      = 'c03_starcraft_prediction/data_raw/'\n",
    "remake   = 'c03_starcraft_prediction/data_remake/'\n",
    "submit   = 'c03_starcraft_prediction/data_submit/'\n",
    "\n",
    "# WAY-01 = LGBM, WAY-02 = XGBM\n",
    "init_points, n_iter = (15, 75)                      \n",
    "filename_submit = f\"submission_0414_way02_{init_points}_{n_iter}_final.csv\"      "
   ]
  },
  {
   "cell_type": "markdown",
   "metadata": {
    "colab_type": "text",
    "id": "wwg2_k9Sn9oI"
   },
   "source": [
    "### 사용함수의 정의"
   ]
  },
  {
   "cell_type": "code",
   "execution_count": 4,
   "metadata": {
    "colab": {},
    "colab_type": "code",
    "id": "oDh38baE_aFv"
   },
   "outputs": [
    {
     "name": "stdout",
     "output_type": "stream",
     "text": [
      "\n",
      "# OS 화일 및 DF 정보조회를 위한 탐색 모듈\n",
      "\n",
      "\n",
      "# GAME_ID 유니크 데이터 전처리를 위한 모듈 - baseline offer\n",
      "\n",
      "\n",
      "# XGBM_CV 모델 - by SongDo_StudyGroup Code 참조\n",
      "\n"
     ]
    },
    {
     "name": "stderr",
     "output_type": "stream",
     "text": [
      "Using TensorFlow backend.\n"
     ]
    }
   ],
   "source": [
    "os.chdir(dir_base)\n",
    "from _assets.modules import *\n",
    "from _assets.module_data_preps import *\n",
    "from _assets.module_xgbm_model import *"
   ]
  },
  {
   "cell_type": "markdown",
   "metadata": {
    "colab_type": "text",
    "id": "hbZfWk-F6_R_"
   },
   "source": [
    "### Data 전처리 및 저장하기\n",
    "- 전처리 된 x_train, y_train 내용을 확인하고, 저장한다."
   ]
  },
  {
   "cell_type": "code",
   "execution_count": 5,
   "metadata": {
    "colab": {
     "base_uri": "https://localhost:8080/",
     "height": 298
    },
    "colab_type": "code",
    "executionInfo": {
     "elapsed": 24900,
     "status": "ok",
     "timestamp": 1585617150634,
     "user": {
      "displayName": "SuParX -K",
      "photoUrl": "https://lh3.googleusercontent.com/a-/AOh14GgAhLtiQrZfK-FHgn5GBmgExX619ygpOPHHdN4ZkU0=s64",
      "userId": "05876132496561296136"
     },
     "user_tz": -540
    },
    "id": "o7odz-aqnygj",
    "outputId": "e0410269-54b2-4a37-ac09-e2ccc600f26a"
   },
   "outputs": [
    {
     "name": "stdout",
     "output_type": "stream",
     "text": [
      "False\n",
      "DIR_TARGET=/home/yk/0325_Starcraft/competition\n",
      "/home/yk/0325_Starcraft/competition/c03_starcraft_prediction/data_remake/\n",
      "----------------------------------------\n",
      "  01. .ipynb_checkpoints\n",
      "  02. accumujated_winning_rate_per_time.csv\n",
      "  03. accumulated_winning_rate_per_time.csv\n",
      "  04. df_new_rate04_correct.csv\n",
      "  05. df_win_rate_every_10sec.csv\n",
      "  06. df_win_rate_every_20sec.csv\n",
      "  07. df_win_rate_every_40sec.csv\n",
      "  08. df_xtest_remake.csv\n",
      "  09. df_xtest_remake_final.csv\n",
      "  10. df_xtrain_remake.csv\n",
      "  11. df_xtrain_remake_final.csv\n",
      "  12. df_ytrain_remake.csv\n",
      "  13. xtra_remake_xtest.csv\n",
      "  14. xtra_remake_xtest_final.csv\n",
      "  15. xtra_remake_xtrain.csv\n",
      "  16. xtra_remake_xtrain_final.csv\n"
     ]
    }
   ],
   "source": [
    "# 화일위치 / list 확인하기 ... 사용함수\n",
    "# show_ls('/content')          # drive 가 붙었는지 확인!\n",
    "show_ls(dir_base + remake)      # 불러올 Data 화일이름 확인!"
   ]
  },
  {
   "cell_type": "code",
   "execution_count": 6,
   "metadata": {
    "colab": {
     "base_uri": "https://localhost:8080/",
     "height": 70
    },
    "colab_type": "code",
    "executionInfo": {
     "elapsed": 779388,
     "status": "ok",
     "timestamp": 1585617905233,
     "user": {
      "displayName": "SuParX -K",
      "photoUrl": "https://lh3.googleusercontent.com/a-/AOh14GgAhLtiQrZfK-FHgn5GBmgExX619ygpOPHHdN4ZkU0=s64",
      "userId": "05876132496561296136"
     },
     "user_tz": -540
    },
    "id": "Y_yK7Y7d_esh",
    "outputId": "931af35d-a36b-45fd-9834-02a175dc756c"
   },
   "outputs": [
    {
     "name": "stdout",
     "output_type": "stream",
     "text": [
      "CPU times: user 2.51 s, sys: 168 ms, total: 2.68 s\n",
      "Wall time: 2.68 s\n"
     ]
    }
   ],
   "source": [
    "%%time\n",
    "\"\"\" df_xtrain_remake_final.csv / ytrain 값은 변함없음 (동일하게 사용)\n",
    "# 데이터 전처리 과정 - 약 7 ~ 10분 정도 걸립니다 ... 여기서 세션 리셋 됨!\n",
    "# x_train, y_train = data_preparation(train, answer=True)           # [ 67,091,776 x 7 ] ... 70%\n",
    "# show_infoDF_from(x_train) # *** DATA SHAPE = [ 38,872 x 27 ] ... [ game_id ... ]\n",
    "# show_infoDF_from(y_train) # *** DATA SHAPE = [ 38,872 x 3 ] .. ['Unnamed: 0', 'game_id', 'winner']\n",
    "\"\"\"\n",
    "\n",
    "x_train = pd.read_csv(dir_base + remake + 'xtra_remake_xtrain_final.csv')  # to <class 'pandas.core.frame.DataFrame'>\n",
    "ytrain = pd.read_csv(dir_base + remake + 'df_ytrain_remake.csv')  # to <class 'numpy.ndarray'>\n",
    "y_train = ytrain['winner'].values                                 # array([1, 1, 0, ..., 0, 1, 0])"
   ]
  },
  {
   "cell_type": "code",
   "execution_count": 7,
   "metadata": {
    "colab": {
     "base_uri": "https://localhost:8080/",
     "height": 282
    },
    "colab_type": "code",
    "executionInfo": {
     "elapsed": 779323,
     "status": "ok",
     "timestamp": 1585617905240,
     "user": {
      "displayName": "SuParX -K",
      "photoUrl": "https://lh3.googleusercontent.com/a-/AOh14GgAhLtiQrZfK-FHgn5GBmgExX619ygpOPHHdN4ZkU0=s64",
      "userId": "05876132496561296136"
     },
     "user_tz": -540
    },
    "id": "zAN0hC9M1IpN",
    "outputId": "6dec3e26-23c5-4ff8-cab7-d515477bda7a"
   },
   "outputs": [
    {
     "data": {
      "text/plain": [
       "1    19499\n",
       "0    19373\n",
       "dtype: int64"
      ]
     },
     "execution_count": 7,
     "metadata": {},
     "output_type": "execute_result"
    }
   ],
   "source": [
    "pd.Series(y_train).value_counts()\n",
    "# 1    19499\n",
    "# 0    19373            total = 38,872  y_train = np.array 38,872"
   ]
  },
  {
   "cell_type": "markdown",
   "metadata": {
    "colab_type": "text",
    "id": "N0IWulmegR7U"
   },
   "source": [
    "# XGBM Classifier 모델 적용\n",
    " - 송도 스터디그룹에서 유창준님 - XGBM 모델 코드 공유받음!"
   ]
  },
  {
   "cell_type": "code",
   "execution_count": 8,
   "metadata": {
    "colab": {
     "base_uri": "https://localhost:8080/",
     "height": 1000
    },
    "colab_type": "code",
    "executionInfo": {
     "elapsed": 2898666,
     "status": "ok",
     "timestamp": 1585620024669,
     "user": {
      "displayName": "SuParX -K",
      "photoUrl": "https://lh3.googleusercontent.com/a-/AOh14GgAhLtiQrZfK-FHgn5GBmgExX619ygpOPHHdN4ZkU0=s64",
      "userId": "05876132496561296136"
     },
     "user_tz": -540
    },
    "id": "Ny69by1mUWln",
    "outputId": "f27d8775-2846-4d50-f5a0-41e2fae278d8",
    "scrolled": false
   },
   "outputs": [
    {
     "name": "stdout",
     "output_type": "stream",
     "text": [
      "|   iter    |  target   | colsam... |   gamma   | learni... | max_de... | max_depth | reg_alpha | reg_la... | subsample |\n",
      "-------------------------------------------------------------------------------------------------------------------------\n",
      "| \u001b[0m 1       \u001b[0m | \u001b[0m 0.6919  \u001b[0m | \u001b[0m 0.608   \u001b[0m | \u001b[0m 5.726   \u001b[0m | \u001b[0m 0.1729  \u001b[0m | \u001b[0m 17.66   \u001b[0m | \u001b[0m 277.7   \u001b[0m | \u001b[0m 7.307   \u001b[0m | \u001b[0m 25.22   \u001b[0m | \u001b[0m 0.746   \u001b[0m |\n",
      "| \u001b[0m 2       \u001b[0m | \u001b[0m 0.6755  \u001b[0m | \u001b[0m 0.7656  \u001b[0m | \u001b[0m 10.9    \u001b[0m | \u001b[0m 0.1279  \u001b[0m | \u001b[0m 4.735   \u001b[0m | \u001b[0m 472.8   \u001b[0m | \u001b[0m 12.22   \u001b[0m | \u001b[0m 40.72   \u001b[0m | \u001b[0m 0.833   \u001b[0m |\n",
      "| \u001b[0m 3       \u001b[0m | \u001b[0m 0.6675  \u001b[0m | \u001b[0m 0.6242  \u001b[0m | \u001b[0m 16.92   \u001b[0m | \u001b[0m 0.3953  \u001b[0m | \u001b[0m 19.31   \u001b[0m | \u001b[0m 257.3   \u001b[0m | \u001b[0m 14.99   \u001b[0m | \u001b[0m 25.23   \u001b[0m | \u001b[0m 0.8941  \u001b[0m |\n",
      "| \u001b[0m 4       \u001b[0m | \u001b[0m 0.6761  \u001b[0m | \u001b[0m 0.6211  \u001b[0m | \u001b[0m 8.51    \u001b[0m | \u001b[0m 0.3618  \u001b[0m | \u001b[0m 19.16   \u001b[0m | \u001b[0m 19.49   \u001b[0m | \u001b[0m 15.46   \u001b[0m | \u001b[0m 21.14   \u001b[0m | \u001b[0m 0.555   \u001b[0m |\n",
      "| \u001b[0m 5       \u001b[0m | \u001b[0m 0.6689  \u001b[0m | \u001b[0m 0.7777  \u001b[0m | \u001b[0m 16.78   \u001b[0m | \u001b[0m 0.3092  \u001b[0m | \u001b[0m 9.832   \u001b[0m | \u001b[0m 109.4   \u001b[0m | \u001b[0m 7.396   \u001b[0m | \u001b[0m 37.91   \u001b[0m | \u001b[0m 0.7095  \u001b[0m |\n",
      "| \u001b[0m 6       \u001b[0m | \u001b[0m 0.6791  \u001b[0m | \u001b[0m 0.5482  \u001b[0m | \u001b[0m 5.777   \u001b[0m | \u001b[0m 0.3588  \u001b[0m | \u001b[0m 10.03   \u001b[0m | \u001b[0m 15.79   \u001b[0m | \u001b[0m 10.07   \u001b[0m | \u001b[0m 25.96   \u001b[0m | \u001b[0m 0.5159  \u001b[0m |\n",
      "| \u001b[0m 7       \u001b[0m | \u001b[0m 0.6662  \u001b[0m | \u001b[0m 0.6931  \u001b[0m | \u001b[0m 12.22   \u001b[0m | \u001b[0m 0.5954  \u001b[0m | \u001b[0m 1.177   \u001b[0m | \u001b[0m 139.9   \u001b[0m | \u001b[0m 16.99   \u001b[0m | \u001b[0m 24.17   \u001b[0m | \u001b[0m 0.6354  \u001b[0m |\n",
      "| \u001b[0m 8       \u001b[0m | \u001b[0m 0.6515  \u001b[0m | \u001b[0m 0.7042  \u001b[0m | \u001b[0m 18.84   \u001b[0m | \u001b[0m 0.3231  \u001b[0m | \u001b[0m 22.05   \u001b[0m | \u001b[0m 410.6   \u001b[0m | \u001b[0m 15.36   \u001b[0m | \u001b[0m 49.91   \u001b[0m | \u001b[0m 0.6364  \u001b[0m |\n",
      "| \u001b[0m 9       \u001b[0m | \u001b[0m 0.6688  \u001b[0m | \u001b[0m 0.9987  \u001b[0m | \u001b[0m 17.5    \u001b[0m | \u001b[0m 0.5914  \u001b[0m | \u001b[0m 21.47   \u001b[0m | \u001b[0m 314.5   \u001b[0m | \u001b[0m 8.133   \u001b[0m | \u001b[0m 13.92   \u001b[0m | \u001b[0m 0.7551  \u001b[0m |\n",
      "| \u001b[0m 10      \u001b[0m | \u001b[0m 0.6727  \u001b[0m | \u001b[0m 0.7776  \u001b[0m | \u001b[0m 10.97   \u001b[0m | \u001b[0m 0.5295  \u001b[0m | \u001b[0m 24.64   \u001b[0m | \u001b[0m 400.5   \u001b[0m | \u001b[0m 8.234   \u001b[0m | \u001b[0m 8.709   \u001b[0m | \u001b[0m 0.5253  \u001b[0m |\n",
      "| \u001b[0m 11      \u001b[0m | \u001b[0m 0.6793  \u001b[0m | \u001b[0m 0.9377  \u001b[0m | \u001b[0m 9.154   \u001b[0m | \u001b[0m 0.5673  \u001b[0m | \u001b[0m 16.2    \u001b[0m | \u001b[0m 114.3   \u001b[0m | \u001b[0m 12.22   \u001b[0m | \u001b[0m 10.27   \u001b[0m | \u001b[0m 0.7743  \u001b[0m |\n",
      "| \u001b[0m 12      \u001b[0m | \u001b[0m 0.6853  \u001b[0m | \u001b[0m 0.6931  \u001b[0m | \u001b[0m 6.248   \u001b[0m | \u001b[0m 0.1607  \u001b[0m | \u001b[0m 24.78   \u001b[0m | \u001b[0m 105.3   \u001b[0m | \u001b[0m 13.51   \u001b[0m | \u001b[0m 26.15   \u001b[0m | \u001b[0m 0.6126  \u001b[0m |\n",
      "| \u001b[0m 13      \u001b[0m | \u001b[0m 0.658   \u001b[0m | \u001b[0m 0.891   \u001b[0m | \u001b[0m 15.05   \u001b[0m | \u001b[0m 0.5568  \u001b[0m | \u001b[0m 9.308   \u001b[0m | \u001b[0m 172.7   \u001b[0m | \u001b[0m 11.82   \u001b[0m | \u001b[0m 43.78   \u001b[0m | \u001b[0m 0.5259  \u001b[0m |\n",
      "| \u001b[0m 14      \u001b[0m | \u001b[0m 0.6772  \u001b[0m | \u001b[0m 0.8613  \u001b[0m | \u001b[0m 7.025   \u001b[0m | \u001b[0m 0.5692  \u001b[0m | \u001b[0m 7.844   \u001b[0m | \u001b[0m 129.9   \u001b[0m | \u001b[0m 8.28    \u001b[0m | \u001b[0m 36.34   \u001b[0m | \u001b[0m 0.8098  \u001b[0m |\n",
      "| \u001b[0m 15      \u001b[0m | \u001b[0m 0.6712  \u001b[0m | \u001b[0m 0.6001  \u001b[0m | \u001b[0m 11.03   \u001b[0m | \u001b[0m 0.1962  \u001b[0m | \u001b[0m 13.18   \u001b[0m | \u001b[0m 320.9   \u001b[0m | \u001b[0m 8.255   \u001b[0m | \u001b[0m 38.85   \u001b[0m | \u001b[0m 0.5196  \u001b[0m |\n",
      "| \u001b[95m 16      \u001b[0m | \u001b[95m 0.6949  \u001b[0m | \u001b[95m 0.7978  \u001b[0m | \u001b[95m 5.618   \u001b[0m | \u001b[95m 0.2496  \u001b[0m | \u001b[95m 22.12   \u001b[0m | \u001b[95m 509.3   \u001b[0m | \u001b[95m 7.134   \u001b[0m | \u001b[95m 46.9    \u001b[0m | \u001b[95m 0.8982  \u001b[0m |\n",
      "| \u001b[0m 17      \u001b[0m | \u001b[0m 0.6831  \u001b[0m | \u001b[0m 0.7929  \u001b[0m | \u001b[0m 5.302   \u001b[0m | \u001b[0m 0.2585  \u001b[0m | \u001b[0m 13.24   \u001b[0m | \u001b[0m 511.8   \u001b[0m | \u001b[0m 14.07   \u001b[0m | \u001b[0m 9.23    \u001b[0m | \u001b[0m 0.5764  \u001b[0m |\n",
      "| \u001b[0m 18      \u001b[0m | \u001b[0m 0.6877  \u001b[0m | \u001b[0m 0.9833  \u001b[0m | \u001b[0m 5.979   \u001b[0m | \u001b[0m 0.1795  \u001b[0m | \u001b[0m 17.37   \u001b[0m | \u001b[0m 501.9   \u001b[0m | \u001b[0m 19.27   \u001b[0m | \u001b[0m 47.93   \u001b[0m | \u001b[0m 0.895   \u001b[0m |\n",
      "| \u001b[0m 19      \u001b[0m | \u001b[0m 0.6884  \u001b[0m | \u001b[0m 0.5014  \u001b[0m | \u001b[0m 5.283   \u001b[0m | \u001b[0m 0.125   \u001b[0m | \u001b[0m 9.317   \u001b[0m | \u001b[0m 253.2   \u001b[0m | \u001b[0m 7.888   \u001b[0m | \u001b[0m 8.145   \u001b[0m | \u001b[0m 0.5031  \u001b[0m |\n",
      "| \u001b[0m 20      \u001b[0m | \u001b[0m 0.6782  \u001b[0m | \u001b[0m 0.5545  \u001b[0m | \u001b[0m 6.484   \u001b[0m | \u001b[0m 0.4924  \u001b[0m | \u001b[0m 4.542   \u001b[0m | \u001b[0m 510.8   \u001b[0m | \u001b[0m 8.088   \u001b[0m | \u001b[0m 41.54   \u001b[0m | \u001b[0m 0.6018  \u001b[0m |\n",
      "| \u001b[0m 21      \u001b[0m | \u001b[0m 0.6836  \u001b[0m | \u001b[0m 0.6373  \u001b[0m | \u001b[0m 7.895   \u001b[0m | \u001b[0m 0.3223  \u001b[0m | \u001b[0m 24.44   \u001b[0m | \u001b[0m 108.2   \u001b[0m | \u001b[0m 10.44   \u001b[0m | \u001b[0m 26.87   \u001b[0m | \u001b[0m 0.5997  \u001b[0m |\n",
      "| \u001b[0m 22      \u001b[0m | \u001b[0m 0.6777  \u001b[0m | \u001b[0m 0.7617  \u001b[0m | \u001b[0m 9.33    \u001b[0m | \u001b[0m 0.2189  \u001b[0m | \u001b[0m 22.28   \u001b[0m | \u001b[0m 105.2   \u001b[0m | \u001b[0m 15.79   \u001b[0m | \u001b[0m 27.42   \u001b[0m | \u001b[0m 0.6537  \u001b[0m |\n",
      "| \u001b[0m 23      \u001b[0m | \u001b[0m 0.6892  \u001b[0m | \u001b[0m 0.7534  \u001b[0m | \u001b[0m 5.154   \u001b[0m | \u001b[0m 0.165   \u001b[0m | \u001b[0m 22.91   \u001b[0m | \u001b[0m 477.3   \u001b[0m | \u001b[0m 9.482   \u001b[0m | \u001b[0m 20.48   \u001b[0m | \u001b[0m 0.6625  \u001b[0m |\n",
      "| \u001b[0m 24      \u001b[0m | \u001b[0m 0.688   \u001b[0m | \u001b[0m 0.6     \u001b[0m | \u001b[0m 6.254   \u001b[0m | \u001b[0m 0.2017  \u001b[0m | \u001b[0m 23.77   \u001b[0m | \u001b[0m 8.454   \u001b[0m | \u001b[0m 10.34   \u001b[0m | \u001b[0m 47.45   \u001b[0m | \u001b[0m 0.77    \u001b[0m |\n",
      "| \u001b[0m 25      \u001b[0m | \u001b[0m 0.683   \u001b[0m | \u001b[0m 0.5503  \u001b[0m | \u001b[0m 5.011   \u001b[0m | \u001b[0m 0.2932  \u001b[0m | \u001b[0m 24.46   \u001b[0m | \u001b[0m 291.4   \u001b[0m | \u001b[0m 17.38   \u001b[0m | \u001b[0m 14.14   \u001b[0m | \u001b[0m 0.6221  \u001b[0m |\n",
      "| \u001b[0m 26      \u001b[0m | \u001b[0m 0.6638  \u001b[0m | \u001b[0m 0.6303  \u001b[0m | \u001b[0m 14.71   \u001b[0m | \u001b[0m 0.5977  \u001b[0m | \u001b[0m 24.11   \u001b[0m | \u001b[0m 511.5   \u001b[0m | \u001b[0m 7.561   \u001b[0m | \u001b[0m 49.55   \u001b[0m | \u001b[0m 0.5266  \u001b[0m |\n",
      "| \u001b[0m 27      \u001b[0m | \u001b[0m 0.6804  \u001b[0m | \u001b[0m 0.8766  \u001b[0m | \u001b[0m 5.076   \u001b[0m | \u001b[0m 0.4428  \u001b[0m | \u001b[0m 8.472   \u001b[0m | \u001b[0m 428.1   \u001b[0m | \u001b[0m 9.393   \u001b[0m | \u001b[0m 45.55   \u001b[0m | \u001b[0m 0.7469  \u001b[0m |\n",
      "| \u001b[0m 28      \u001b[0m | \u001b[0m 0.6715  \u001b[0m | \u001b[0m 0.9522  \u001b[0m | \u001b[0m 7.938   \u001b[0m | \u001b[0m 0.5942  \u001b[0m | \u001b[0m 13.44   \u001b[0m | \u001b[0m 276.9   \u001b[0m | \u001b[0m 8.02    \u001b[0m | \u001b[0m 27.23   \u001b[0m | \u001b[0m 0.6681  \u001b[0m |\n",
      "| \u001b[0m 29      \u001b[0m | \u001b[0m 0.6806  \u001b[0m | \u001b[0m 0.9868  \u001b[0m | \u001b[0m 8.017   \u001b[0m | \u001b[0m 0.4686  \u001b[0m | \u001b[0m 22.05   \u001b[0m | \u001b[0m 218.9   \u001b[0m | \u001b[0m 7.951   \u001b[0m | \u001b[0m 8.072   \u001b[0m | \u001b[0m 0.7831  \u001b[0m |\n",
      "| \u001b[0m 30      \u001b[0m | \u001b[0m 0.684   \u001b[0m | \u001b[0m 0.5444  \u001b[0m | \u001b[0m 8.855   \u001b[0m | \u001b[0m 0.2199  \u001b[0m | \u001b[0m 24.79   \u001b[0m | \u001b[0m 317.9   \u001b[0m | \u001b[0m 7.126   \u001b[0m | \u001b[0m 45.09   \u001b[0m | \u001b[0m 0.7093  \u001b[0m |\n",
      "| \u001b[0m 31      \u001b[0m | \u001b[0m 0.6942  \u001b[0m | \u001b[0m 0.6485  \u001b[0m | \u001b[0m 5.529   \u001b[0m | \u001b[0m 0.1059  \u001b[0m | \u001b[0m 21.24   \u001b[0m | \u001b[0m 47.34   \u001b[0m | \u001b[0m 8.034   \u001b[0m | \u001b[0m 29.63   \u001b[0m | \u001b[0m 0.8009  \u001b[0m |\n",
      "| \u001b[0m 32      \u001b[0m | \u001b[0m 0.6747  \u001b[0m | \u001b[0m 0.5302  \u001b[0m | \u001b[0m 6.365   \u001b[0m | \u001b[0m 0.1157  \u001b[0m | \u001b[0m 5.465   \u001b[0m | \u001b[0m 47.33   \u001b[0m | \u001b[0m 18.07   \u001b[0m | \u001b[0m 49.74   \u001b[0m | \u001b[0m 0.6375  \u001b[0m |\n",
      "| \u001b[0m 33      \u001b[0m | \u001b[0m 0.6868  \u001b[0m | \u001b[0m 0.6548  \u001b[0m | \u001b[0m 6.226   \u001b[0m | \u001b[0m 0.2626  \u001b[0m | \u001b[0m 22.94   \u001b[0m | \u001b[0m 351.2   \u001b[0m | \u001b[0m 7.857   \u001b[0m | \u001b[0m 13.99   \u001b[0m | \u001b[0m 0.6572  \u001b[0m |\n",
      "| \u001b[0m 34      \u001b[0m | \u001b[0m 0.6898  \u001b[0m | \u001b[0m 0.8716  \u001b[0m | \u001b[0m 6.454   \u001b[0m | \u001b[0m 0.1244  \u001b[0m | \u001b[0m 1.204   \u001b[0m | \u001b[0m 76.46   \u001b[0m | \u001b[0m 9.187   \u001b[0m | \u001b[0m 8.912   \u001b[0m | \u001b[0m 0.5717  \u001b[0m |\n",
      "| \u001b[0m 35      \u001b[0m | \u001b[0m 0.6868  \u001b[0m | \u001b[0m 0.6032  \u001b[0m | \u001b[0m 5.055   \u001b[0m | \u001b[0m 0.2714  \u001b[0m | \u001b[0m 3.083   \u001b[0m | \u001b[0m 432.6   \u001b[0m | \u001b[0m 7.102   \u001b[0m | \u001b[0m 16.07   \u001b[0m | \u001b[0m 0.776   \u001b[0m |\n",
      "| \u001b[0m 36      \u001b[0m | \u001b[0m 0.6888  \u001b[0m | \u001b[0m 0.748   \u001b[0m | \u001b[0m 5.743   \u001b[0m | \u001b[0m 0.3485  \u001b[0m | \u001b[0m 24.2    \u001b[0m | \u001b[0m 66.95   \u001b[0m | \u001b[0m 9.663   \u001b[0m | \u001b[0m 9.522   \u001b[0m | \u001b[0m 0.8436  \u001b[0m |\n",
      "| \u001b[95m 37      \u001b[0m | \u001b[95m 0.6954  \u001b[0m | \u001b[95m 0.7106  \u001b[0m | \u001b[95m 5.431   \u001b[0m | \u001b[95m 0.1579  \u001b[0m | \u001b[95m 23.55   \u001b[0m | \u001b[95m 456.4   \u001b[0m | \u001b[95m 7.375   \u001b[0m | \u001b[95m 44.36   \u001b[0m | \u001b[95m 0.8565  \u001b[0m |\n",
      "| \u001b[0m 38      \u001b[0m | \u001b[0m 0.6928  \u001b[0m | \u001b[0m 0.7446  \u001b[0m | \u001b[0m 5.523   \u001b[0m | \u001b[0m 0.1181  \u001b[0m | \u001b[0m 23.53   \u001b[0m | \u001b[0m 279.4   \u001b[0m | \u001b[0m 7.076   \u001b[0m | \u001b[0m 8.296   \u001b[0m | \u001b[0m 0.5997  \u001b[0m |\n",
      "| \u001b[0m 39      \u001b[0m | \u001b[0m 0.6901  \u001b[0m | \u001b[0m 0.6899  \u001b[0m | \u001b[0m 6.198   \u001b[0m | \u001b[0m 0.1839  \u001b[0m | \u001b[0m 24.67   \u001b[0m | \u001b[0m 214.5   \u001b[0m | \u001b[0m 10.96   \u001b[0m | \u001b[0m 44.62   \u001b[0m | \u001b[0m 0.8356  \u001b[0m |\n",
      "| \u001b[0m 40      \u001b[0m | \u001b[0m 0.6915  \u001b[0m | \u001b[0m 0.9378  \u001b[0m | \u001b[0m 5.48    \u001b[0m | \u001b[0m 0.2744  \u001b[0m | \u001b[0m 24.55   \u001b[0m | \u001b[0m 497.3   \u001b[0m | \u001b[0m 7.901   \u001b[0m | \u001b[0m 49.99   \u001b[0m | \u001b[0m 0.8142  \u001b[0m |\n"
     ]
    },
    {
     "name": "stdout",
     "output_type": "stream",
     "text": [
      "| \u001b[0m 41      \u001b[0m | \u001b[0m 0.695   \u001b[0m | \u001b[0m 0.52    \u001b[0m | \u001b[0m 5.404   \u001b[0m | \u001b[0m 0.1424  \u001b[0m | \u001b[0m 19.45   \u001b[0m | \u001b[0m 42.79   \u001b[0m | \u001b[0m 7.411   \u001b[0m | \u001b[0m 44.06   \u001b[0m | \u001b[0m 0.8574  \u001b[0m |\n",
      "| \u001b[0m 42      \u001b[0m | \u001b[0m 0.6939  \u001b[0m | \u001b[0m 0.5418  \u001b[0m | \u001b[0m 6.113   \u001b[0m | \u001b[0m 0.1755  \u001b[0m | \u001b[0m 24.08   \u001b[0m | \u001b[0m 245.1   \u001b[0m | \u001b[0m 8.634   \u001b[0m | \u001b[0m 23.32   \u001b[0m | \u001b[0m 0.7908  \u001b[0m |\n",
      "| \u001b[0m 43      \u001b[0m | \u001b[0m 0.6917  \u001b[0m | \u001b[0m 0.6809  \u001b[0m | \u001b[0m 6.418   \u001b[0m | \u001b[0m 0.2798  \u001b[0m | \u001b[0m 24.59   \u001b[0m | \u001b[0m 69.72   \u001b[0m | \u001b[0m 7.136   \u001b[0m | \u001b[0m 48.98   \u001b[0m | \u001b[0m 0.8201  \u001b[0m |\n",
      "| \u001b[0m 44      \u001b[0m | \u001b[0m 0.6859  \u001b[0m | \u001b[0m 0.5994  \u001b[0m | \u001b[0m 5.119   \u001b[0m | \u001b[0m 0.1404  \u001b[0m | \u001b[0m 24.4    \u001b[0m | \u001b[0m 499.0   \u001b[0m | \u001b[0m 19.72   \u001b[0m | \u001b[0m 39.0    \u001b[0m | \u001b[0m 0.7448  \u001b[0m |\n",
      "| \u001b[0m 45      \u001b[0m | \u001b[0m 0.6844  \u001b[0m | \u001b[0m 0.5596  \u001b[0m | \u001b[0m 5.525   \u001b[0m | \u001b[0m 0.3702  \u001b[0m | \u001b[0m 21.3    \u001b[0m | \u001b[0m 40.88   \u001b[0m | \u001b[0m 7.354   \u001b[0m | \u001b[0m 40.8    \u001b[0m | \u001b[0m 0.7431  \u001b[0m |\n",
      "| \u001b[0m 46      \u001b[0m | \u001b[0m 0.6903  \u001b[0m | \u001b[0m 0.7278  \u001b[0m | \u001b[0m 5.512   \u001b[0m | \u001b[0m 0.165   \u001b[0m | \u001b[0m 22.09   \u001b[0m | \u001b[0m 160.0   \u001b[0m | \u001b[0m 9.739   \u001b[0m | \u001b[0m 14.83   \u001b[0m | \u001b[0m 0.6632  \u001b[0m |\n",
      "| \u001b[0m 47      \u001b[0m | \u001b[0m 0.6907  \u001b[0m | \u001b[0m 0.7791  \u001b[0m | \u001b[0m 5.085   \u001b[0m | \u001b[0m 0.1535  \u001b[0m | \u001b[0m 5.859   \u001b[0m | \u001b[0m 182.0   \u001b[0m | \u001b[0m 10.12   \u001b[0m | \u001b[0m 8.495   \u001b[0m | \u001b[0m 0.5894  \u001b[0m |\n",
      "| \u001b[0m 48      \u001b[0m | \u001b[0m 0.6862  \u001b[0m | \u001b[0m 0.5     \u001b[0m | \u001b[0m 5.412   \u001b[0m | \u001b[0m 0.3142  \u001b[0m | \u001b[0m 25.0    \u001b[0m | \u001b[0m 281.7   \u001b[0m | \u001b[0m 7.128   \u001b[0m | \u001b[0m 11.24   \u001b[0m | \u001b[0m 0.8069  \u001b[0m |\n",
      "| \u001b[0m 49      \u001b[0m | \u001b[0m 0.6735  \u001b[0m | \u001b[0m 0.7367  \u001b[0m | \u001b[0m 17.51   \u001b[0m | \u001b[0m 0.1754  \u001b[0m | \u001b[0m 24.72   \u001b[0m | \u001b[0m 15.34   \u001b[0m | \u001b[0m 8.046   \u001b[0m | \u001b[0m 9.868   \u001b[0m | \u001b[0m 0.7697  \u001b[0m |\n",
      "| \u001b[0m 50      \u001b[0m | \u001b[0m 0.6914  \u001b[0m | \u001b[0m 0.8216  \u001b[0m | \u001b[0m 5.966   \u001b[0m | \u001b[0m 0.1794  \u001b[0m | \u001b[0m 17.67   \u001b[0m | \u001b[0m 444.9   \u001b[0m | \u001b[0m 16.16   \u001b[0m | \u001b[0m 9.815   \u001b[0m | \u001b[0m 0.8259  \u001b[0m |\n",
      "| \u001b[95m 51      \u001b[0m | \u001b[95m 0.697   \u001b[0m | \u001b[95m 0.5888  \u001b[0m | \u001b[95m 7.056   \u001b[0m | \u001b[95m 0.1714  \u001b[0m | \u001b[95m 1.586   \u001b[0m | \u001b[95m 153.9   \u001b[0m | \u001b[95m 7.067   \u001b[0m | \u001b[95m 9.246   \u001b[0m | \u001b[95m 0.8591  \u001b[0m |\n",
      "| \u001b[0m 52      \u001b[0m | \u001b[0m 0.6896  \u001b[0m | \u001b[0m 0.7045  \u001b[0m | \u001b[0m 5.172   \u001b[0m | \u001b[0m 0.1726  \u001b[0m | \u001b[0m 2.031   \u001b[0m | \u001b[0m 442.6   \u001b[0m | \u001b[0m 19.92   \u001b[0m | \u001b[0m 11.73   \u001b[0m | \u001b[0m 0.7961  \u001b[0m |\n",
      "| \u001b[0m 53      \u001b[0m | \u001b[0m 0.6946  \u001b[0m | \u001b[0m 0.8103  \u001b[0m | \u001b[0m 5.123   \u001b[0m | \u001b[0m 0.1907  \u001b[0m | \u001b[0m 22.62   \u001b[0m | \u001b[0m 241.4   \u001b[0m | \u001b[0m 12.03   \u001b[0m | \u001b[0m 48.68   \u001b[0m | \u001b[0m 0.8606  \u001b[0m |\n",
      "| \u001b[0m 54      \u001b[0m | \u001b[0m 0.6867  \u001b[0m | \u001b[0m 0.7429  \u001b[0m | \u001b[0m 6.766   \u001b[0m | \u001b[0m 0.1009  \u001b[0m | \u001b[0m 24.63   \u001b[0m | \u001b[0m 250.5   \u001b[0m | \u001b[0m 7.279   \u001b[0m | \u001b[0m 49.14   \u001b[0m | \u001b[0m 0.7372  \u001b[0m |\n",
      "| \u001b[0m 55      \u001b[0m | \u001b[0m 0.684   \u001b[0m | \u001b[0m 0.633   \u001b[0m | \u001b[0m 6.166   \u001b[0m | \u001b[0m 0.1185  \u001b[0m | \u001b[0m 19.01   \u001b[0m | \u001b[0m 452.5   \u001b[0m | \u001b[0m 17.74   \u001b[0m | \u001b[0m 49.84   \u001b[0m | \u001b[0m 0.8534  \u001b[0m |\n",
      "| \u001b[0m 56      \u001b[0m | \u001b[0m 0.6521  \u001b[0m | \u001b[0m 0.8582  \u001b[0m | \u001b[0m 18.82   \u001b[0m | \u001b[0m 0.1243  \u001b[0m | \u001b[0m 11.43   \u001b[0m | \u001b[0m 8.838   \u001b[0m | \u001b[0m 13.08   \u001b[0m | \u001b[0m 49.94   \u001b[0m | \u001b[0m 0.7033  \u001b[0m |\n",
      "| \u001b[0m 57      \u001b[0m | \u001b[0m 0.6818  \u001b[0m | \u001b[0m 0.5524  \u001b[0m | \u001b[0m 7.88    \u001b[0m | \u001b[0m 0.1852  \u001b[0m | \u001b[0m 22.22   \u001b[0m | \u001b[0m 243.8   \u001b[0m | \u001b[0m 10.11   \u001b[0m | \u001b[0m 48.21   \u001b[0m | \u001b[0m 0.6732  \u001b[0m |\n",
      "| \u001b[0m 58      \u001b[0m | \u001b[0m 0.6832  \u001b[0m | \u001b[0m 0.6674  \u001b[0m | \u001b[0m 5.611   \u001b[0m | \u001b[0m 0.1077  \u001b[0m | \u001b[0m 21.81   \u001b[0m | \u001b[0m 350.8   \u001b[0m | \u001b[0m 19.74   \u001b[0m | \u001b[0m 48.36   \u001b[0m | \u001b[0m 0.8221  \u001b[0m |\n",
      "| \u001b[0m 59      \u001b[0m | \u001b[0m 0.6839  \u001b[0m | \u001b[0m 0.8646  \u001b[0m | \u001b[0m 5.292   \u001b[0m | \u001b[0m 0.1939  \u001b[0m | \u001b[0m 23.8    \u001b[0m | \u001b[0m 259.9   \u001b[0m | \u001b[0m 19.95   \u001b[0m | \u001b[0m 48.46   \u001b[0m | \u001b[0m 0.5638  \u001b[0m |\n",
      "| \u001b[0m 60      \u001b[0m | \u001b[0m 0.6846  \u001b[0m | \u001b[0m 0.7356  \u001b[0m | \u001b[0m 5.007   \u001b[0m | \u001b[0m 0.1032  \u001b[0m | \u001b[0m 6.504   \u001b[0m | \u001b[0m 206.9   \u001b[0m | \u001b[0m 19.0    \u001b[0m | \u001b[0m 38.74   \u001b[0m | \u001b[0m 0.7662  \u001b[0m |\n",
      "| \u001b[0m 61      \u001b[0m | \u001b[0m 0.6913  \u001b[0m | \u001b[0m 0.9241  \u001b[0m | \u001b[0m 5.509   \u001b[0m | \u001b[0m 0.2168  \u001b[0m | \u001b[0m 10.57   \u001b[0m | \u001b[0m 111.3   \u001b[0m | \u001b[0m 7.099   \u001b[0m | \u001b[0m 8.927   \u001b[0m | \u001b[0m 0.7601  \u001b[0m |\n",
      "| \u001b[0m 62      \u001b[0m | \u001b[0m 0.6918  \u001b[0m | \u001b[0m 0.8614  \u001b[0m | \u001b[0m 5.765   \u001b[0m | \u001b[0m 0.1116  \u001b[0m | \u001b[0m 22.71   \u001b[0m | \u001b[0m 395.1   \u001b[0m | \u001b[0m 8.252   \u001b[0m | \u001b[0m 42.85   \u001b[0m | \u001b[0m 0.8161  \u001b[0m |\n",
      "| \u001b[0m 63      \u001b[0m | \u001b[0m 0.6928  \u001b[0m | \u001b[0m 0.8098  \u001b[0m | \u001b[0m 5.428   \u001b[0m | \u001b[0m 0.235   \u001b[0m | \u001b[0m 24.05   \u001b[0m | \u001b[0m 140.7   \u001b[0m | \u001b[0m 8.231   \u001b[0m | \u001b[0m 48.73   \u001b[0m | \u001b[0m 0.8325  \u001b[0m |\n",
      "| \u001b[0m 64      \u001b[0m | \u001b[0m 0.695   \u001b[0m | \u001b[0m 0.8809  \u001b[0m | \u001b[0m 5.347   \u001b[0m | \u001b[0m 0.1557  \u001b[0m | \u001b[0m 16.26   \u001b[0m | \u001b[0m 47.46   \u001b[0m | \u001b[0m 7.042   \u001b[0m | \u001b[0m 9.646   \u001b[0m | \u001b[0m 0.7107  \u001b[0m |\n",
      "| \u001b[95m 65      \u001b[0m | \u001b[95m 0.6982  \u001b[0m | \u001b[95m 0.7202  \u001b[0m | \u001b[95m 5.305   \u001b[0m | \u001b[95m 0.1193  \u001b[0m | \u001b[95m 1.369   \u001b[0m | \u001b[95m 42.54   \u001b[0m | \u001b[95m 7.751   \u001b[0m | \u001b[95m 8.603   \u001b[0m | \u001b[95m 0.8929  \u001b[0m |\n",
      "| \u001b[0m 66      \u001b[0m | \u001b[0m 0.6932  \u001b[0m | \u001b[0m 0.87    \u001b[0m | \u001b[0m 5.14    \u001b[0m | \u001b[0m 0.2247  \u001b[0m | \u001b[0m 24.77   \u001b[0m | \u001b[0m 330.8   \u001b[0m | \u001b[0m 8.281   \u001b[0m | \u001b[0m 40.1    \u001b[0m | \u001b[0m 0.819   \u001b[0m |\n",
      "| \u001b[0m 67      \u001b[0m | \u001b[0m 0.6878  \u001b[0m | \u001b[0m 0.7795  \u001b[0m | \u001b[0m 5.344   \u001b[0m | \u001b[0m 0.1603  \u001b[0m | \u001b[0m 23.64   \u001b[0m | \u001b[0m 8.439   \u001b[0m | \u001b[0m 15.22   \u001b[0m | \u001b[0m 8.554   \u001b[0m | \u001b[0m 0.7278  \u001b[0m |\n",
      "| \u001b[0m 68      \u001b[0m | \u001b[0m 0.6887  \u001b[0m | \u001b[0m 0.5697  \u001b[0m | \u001b[0m 5.517   \u001b[0m | \u001b[0m 0.2287  \u001b[0m | \u001b[0m 22.46   \u001b[0m | \u001b[0m 244.3   \u001b[0m | \u001b[0m 12.19   \u001b[0m | \u001b[0m 21.83   \u001b[0m | \u001b[0m 0.7196  \u001b[0m |\n",
      "| \u001b[0m 69      \u001b[0m | \u001b[0m 0.6948  \u001b[0m | \u001b[0m 0.9837  \u001b[0m | \u001b[0m 5.415   \u001b[0m | \u001b[0m 0.1061  \u001b[0m | \u001b[0m 16.38   \u001b[0m | \u001b[0m 457.6   \u001b[0m | \u001b[0m 8.984   \u001b[0m | \u001b[0m 29.97   \u001b[0m | \u001b[0m 0.8676  \u001b[0m |\n",
      "| \u001b[0m 70      \u001b[0m | \u001b[0m 0.6935  \u001b[0m | \u001b[0m 0.823   \u001b[0m | \u001b[0m 5.618   \u001b[0m | \u001b[0m 0.119   \u001b[0m | \u001b[0m 16.83   \u001b[0m | \u001b[0m 9.532   \u001b[0m | \u001b[0m 7.115   \u001b[0m | \u001b[0m 8.268   \u001b[0m | \u001b[0m 0.8966  \u001b[0m |\n",
      "| \u001b[0m 71      \u001b[0m | \u001b[0m 0.6961  \u001b[0m | \u001b[0m 0.522   \u001b[0m | \u001b[0m 5.154   \u001b[0m | \u001b[0m 0.1027  \u001b[0m | \u001b[0m 14.89   \u001b[0m | \u001b[0m 47.64   \u001b[0m | \u001b[0m 7.541   \u001b[0m | \u001b[0m 10.93   \u001b[0m | \u001b[0m 0.8972  \u001b[0m |\n",
      "| \u001b[0m 72      \u001b[0m | \u001b[0m 0.6903  \u001b[0m | \u001b[0m 0.7225  \u001b[0m | \u001b[0m 5.255   \u001b[0m | \u001b[0m 0.1134  \u001b[0m | \u001b[0m 24.06   \u001b[0m | \u001b[0m 429.9   \u001b[0m | \u001b[0m 10.26   \u001b[0m | \u001b[0m 19.04   \u001b[0m | \u001b[0m 0.6694  \u001b[0m |\n",
      "| \u001b[0m 73      \u001b[0m | \u001b[0m 0.6893  \u001b[0m | \u001b[0m 0.9272  \u001b[0m | \u001b[0m 6.793   \u001b[0m | \u001b[0m 0.103   \u001b[0m | \u001b[0m 3.173   \u001b[0m | \u001b[0m 466.2   \u001b[0m | \u001b[0m 15.81   \u001b[0m | \u001b[0m 8.424   \u001b[0m | \u001b[0m 0.8678  \u001b[0m |\n",
      "| \u001b[0m 74      \u001b[0m | \u001b[0m 0.6938  \u001b[0m | \u001b[0m 0.8763  \u001b[0m | \u001b[0m 5.848   \u001b[0m | \u001b[0m 0.1386  \u001b[0m | \u001b[0m 21.8    \u001b[0m | \u001b[0m 222.1   \u001b[0m | \u001b[0m 8.467   \u001b[0m | \u001b[0m 32.45   \u001b[0m | \u001b[0m 0.8719  \u001b[0m |\n",
      "| \u001b[0m 75      \u001b[0m | \u001b[0m 0.6858  \u001b[0m | \u001b[0m 0.5857  \u001b[0m | \u001b[0m 10.87   \u001b[0m | \u001b[0m 0.1106  \u001b[0m | \u001b[0m 11.02   \u001b[0m | \u001b[0m 148.7   \u001b[0m | \u001b[0m 9.083   \u001b[0m | \u001b[0m 9.607   \u001b[0m | \u001b[0m 0.8723  \u001b[0m |\n",
      "| \u001b[0m 76      \u001b[0m | \u001b[0m 0.695   \u001b[0m | \u001b[0m 0.8367  \u001b[0m | \u001b[0m 5.093   \u001b[0m | \u001b[0m 0.1606  \u001b[0m | \u001b[0m 12.62   \u001b[0m | \u001b[0m 48.91   \u001b[0m | \u001b[0m 8.449   \u001b[0m | \u001b[0m 9.027   \u001b[0m | \u001b[0m 0.881   \u001b[0m |\n",
      "| \u001b[0m 77      \u001b[0m | \u001b[0m 0.6898  \u001b[0m | \u001b[0m 0.9881  \u001b[0m | \u001b[0m 5.416   \u001b[0m | \u001b[0m 0.1597  \u001b[0m | \u001b[0m 24.88   \u001b[0m | \u001b[0m 371.9   \u001b[0m | \u001b[0m 7.514   \u001b[0m | \u001b[0m 36.62   \u001b[0m | \u001b[0m 0.5422  \u001b[0m |\n",
      "| \u001b[0m 78      \u001b[0m | \u001b[0m 0.6969  \u001b[0m | \u001b[0m 0.7079  \u001b[0m | \u001b[0m 5.979   \u001b[0m | \u001b[0m 0.1219  \u001b[0m | \u001b[0m 12.39   \u001b[0m | \u001b[0m 171.3   \u001b[0m | \u001b[0m 7.076   \u001b[0m | \u001b[0m 8.63    \u001b[0m | \u001b[0m 0.8077  \u001b[0m |\n",
      "| \u001b[0m 79      \u001b[0m | \u001b[0m 0.6933  \u001b[0m | \u001b[0m 0.7085  \u001b[0m | \u001b[0m 5.678   \u001b[0m | \u001b[0m 0.1253  \u001b[0m | \u001b[0m 24.53   \u001b[0m | \u001b[0m 161.8   \u001b[0m | \u001b[0m 7.37    \u001b[0m | \u001b[0m 30.62   \u001b[0m | \u001b[0m 0.7833  \u001b[0m |\n",
      "| \u001b[0m 80      \u001b[0m | \u001b[0m 0.6961  \u001b[0m | \u001b[0m 0.7869  \u001b[0m | \u001b[0m 5.845   \u001b[0m | \u001b[0m 0.1438  \u001b[0m | \u001b[0m 11.16   \u001b[0m | \u001b[0m 324.3   \u001b[0m | \u001b[0m 8.205   \u001b[0m | \u001b[0m 9.852   \u001b[0m | \u001b[0m 0.8808  \u001b[0m |\n",
      "| \u001b[0m 81      \u001b[0m | \u001b[0m 0.6847  \u001b[0m | \u001b[0m 0.6665  \u001b[0m | \u001b[0m 5.593   \u001b[0m | \u001b[0m 0.2699  \u001b[0m | \u001b[0m 2.059   \u001b[0m | \u001b[0m 354.9   \u001b[0m | \u001b[0m 8.667   \u001b[0m | \u001b[0m 10.09   \u001b[0m | \u001b[0m 0.6972  \u001b[0m |\n"
     ]
    },
    {
     "name": "stdout",
     "output_type": "stream",
     "text": [
      "| \u001b[0m 82      \u001b[0m | \u001b[0m 0.69    \u001b[0m | \u001b[0m 0.6197  \u001b[0m | \u001b[0m 5.256   \u001b[0m | \u001b[0m 0.2067  \u001b[0m | \u001b[0m 18.75   \u001b[0m | \u001b[0m 315.6   \u001b[0m | \u001b[0m 7.358   \u001b[0m | \u001b[0m 9.095   \u001b[0m | \u001b[0m 0.7496  \u001b[0m |\n",
      "| \u001b[0m 83      \u001b[0m | \u001b[0m 0.689   \u001b[0m | \u001b[0m 0.8333  \u001b[0m | \u001b[0m 5.148   \u001b[0m | \u001b[0m 0.2618  \u001b[0m | \u001b[0m 2.184   \u001b[0m | \u001b[0m 139.9   \u001b[0m | \u001b[0m 8.473   \u001b[0m | \u001b[0m 8.987   \u001b[0m | \u001b[0m 0.8505  \u001b[0m |\n",
      "| \u001b[0m 84      \u001b[0m | \u001b[0m 0.6939  \u001b[0m | \u001b[0m 0.7367  \u001b[0m | \u001b[0m 5.79    \u001b[0m | \u001b[0m 0.1776  \u001b[0m | \u001b[0m 24.31   \u001b[0m | \u001b[0m 93.17   \u001b[0m | \u001b[0m 8.526   \u001b[0m | \u001b[0m 49.27   \u001b[0m | \u001b[0m 0.8587  \u001b[0m |\n",
      "| \u001b[0m 85      \u001b[0m | \u001b[0m 0.6901  \u001b[0m | \u001b[0m 0.5537  \u001b[0m | \u001b[0m 7.732   \u001b[0m | \u001b[0m 0.1115  \u001b[0m | \u001b[0m 1.216   \u001b[0m | \u001b[0m 179.5   \u001b[0m | \u001b[0m 7.814   \u001b[0m | \u001b[0m 23.16   \u001b[0m | \u001b[0m 0.834   \u001b[0m |\n",
      "| \u001b[0m 86      \u001b[0m | \u001b[0m 0.6934  \u001b[0m | \u001b[0m 0.805   \u001b[0m | \u001b[0m 6.482   \u001b[0m | \u001b[0m 0.1303  \u001b[0m | \u001b[0m 3.831   \u001b[0m | \u001b[0m 302.1   \u001b[0m | \u001b[0m 11.1    \u001b[0m | \u001b[0m 8.14    \u001b[0m | \u001b[0m 0.8206  \u001b[0m |\n",
      "| \u001b[0m 87      \u001b[0m | \u001b[0m 0.6812  \u001b[0m | \u001b[0m 0.9011  \u001b[0m | \u001b[0m 7.722   \u001b[0m | \u001b[0m 0.1324  \u001b[0m | \u001b[0m 1.896   \u001b[0m | \u001b[0m 331.4   \u001b[0m | \u001b[0m 19.94   \u001b[0m | \u001b[0m 8.543   \u001b[0m | \u001b[0m 0.7388  \u001b[0m |\n",
      "| \u001b[0m 88      \u001b[0m | \u001b[0m 0.695   \u001b[0m | \u001b[0m 0.7002  \u001b[0m | \u001b[0m 5.365   \u001b[0m | \u001b[0m 0.1351  \u001b[0m | \u001b[0m 24.89   \u001b[0m | \u001b[0m 449.2   \u001b[0m | \u001b[0m 7.18    \u001b[0m | \u001b[0m 42.26   \u001b[0m | \u001b[0m 0.8135  \u001b[0m |\n",
      "| \u001b[0m 89      \u001b[0m | \u001b[0m 0.6964  \u001b[0m | \u001b[0m 0.851   \u001b[0m | \u001b[0m 5.212   \u001b[0m | \u001b[0m 0.1174  \u001b[0m | \u001b[0m 17.02   \u001b[0m | \u001b[0m 104.6   \u001b[0m | \u001b[0m 7.087   \u001b[0m | \u001b[0m 20.06   \u001b[0m | \u001b[0m 0.8803  \u001b[0m |\n",
      "| \u001b[0m 90      \u001b[0m | \u001b[0m 0.696   \u001b[0m | \u001b[0m 0.8275  \u001b[0m | \u001b[0m 5.159   \u001b[0m | \u001b[0m 0.1175  \u001b[0m | \u001b[0m 19.86   \u001b[0m | \u001b[0m 44.58   \u001b[0m | \u001b[0m 7.818   \u001b[0m | \u001b[0m 15.44   \u001b[0m | \u001b[0m 0.8571  \u001b[0m |\n",
      "=========================================================================================================================\n",
      "CPU times: user 7d 8h 14min 20s, sys: 26min 38s, total: 7d 8h 40min 58s\n",
      "Wall time: 11h 9min 57s\n"
     ]
    }
   ],
   "source": [
    "%%time\n",
    "# 모델 그 외 변수는 고정\n",
    "var_fixed = partial(\n",
    "        XGB_cv, \n",
    "        x_data=x_train, \n",
    "        y_data=y_train, \n",
    "        n_splits=5, \n",
    "        output='score'\n",
    "    )\n",
    "\n",
    "# 베이지안 최적화 범위 설정\n",
    "XGBo = BayesianOptimization(\n",
    "        var_fixed, \n",
    "        {\n",
    "            'max_depth': (8, 512),          # ~ 500\n",
    "            'learning_rate': (0.1, 0.6),    # 0.6xxx\n",
    "            'subsample': (0.5, 0.9),        # 0.5 ~ 0.7\n",
    "            'colsample_bytree': (0.5, 1),   # 0.5 ~ 0.8\n",
    "            # 'colsample_bynode':(0, 1),\n",
    "            # 'n_estimators' : (16, 1024),\n",
    "            'reg_alpha' : (7, 20),          # L1 - 7 ~ 20\n",
    "            'reg_lambda' : (8, 50),         # L2 - 8 ~ 45\n",
    "            'max_delta_step' : (1, 25),     # 8.x\n",
    "            'gamma' : (5, 20),              # 1 ~ 15\n",
    "        },\n",
    "        random_state = random.randrange(50000) # 유동 시드 1~50000\n",
    "    )\n",
    "\n",
    "# XGBo.maximize(init_points=15, n_iter=60)  # 처음 15회 랜덤값으로 score 계산 후 60회 최적화 = 4/04(토)\n",
    "XGBo.maximize(init_points, n_iter)"
   ]
  },
  {
   "cell_type": "markdown",
   "metadata": {
    "colab_type": "text",
    "id": "CfHi_LZ4O1_l"
   },
   "source": [
    "### 3.0 모델 학습 및 검증\n",
    "- Model Tuning & Evaluation\n",
    "\n",
    "> 1. AUC가 가장 높은 하이퍼 파라미터를 사용해 최종 모델을 얻습니다.\n",
    "> 1. 훈련 세트와 같은 방법으로 테스트 세트에서 Feature를 추출합니다.\n",
    "> 1. 최종 모델을 사용해 예측을 수행합니다.\n",
    "> 1. 예측 결과를 submission.csv로 저장합니다."
   ]
  },
  {
   "cell_type": "code",
   "execution_count": 9,
   "metadata": {
    "colab": {},
    "colab_type": "code",
    "id": "7UMIvW62UWhn"
   },
   "outputs": [],
   "source": [
    "\"\"\"\n",
    "# params = lgbBO.max['params']\n",
    "# models = lgb_cv(\n",
    "#         params['num_leaves'], \n",
    "#         params['learning_rate'], \n",
    "#         params['n_estimators'], \n",
    "#         params['subsample'], \n",
    "#         params['colsample_bytree'], \n",
    "#         params['reg_alpha'], \n",
    "#         params['reg_lambda'], \n",
    "#         x_data=x_train, \n",
    "#         y_data=y_train, \n",
    "#         n_splits=5, \n",
    "#         output='model',\n",
    "#    )\n",
    "\"\"\"\n",
    "\n",
    "params = XGBo.max['params']\n",
    "models = XGB_cv(\n",
    "        params['max_depth'], \n",
    "        params['learning_rate'],\n",
    "        params['subsample'], \n",
    "        params['colsample_bytree'],\n",
    "        # params['colsample_bynode'], \n",
    "        params['reg_alpha'], \n",
    "        params['reg_lambda'],\n",
    "        params['max_delta_step'],\n",
    "        # params['n_estimators'],\n",
    "        params['gamma'],\n",
    "        x_data=x_train, \n",
    "        y_data=y_train, \n",
    "        n_splits=5, \n",
    "        output='model'\n",
    "    )"
   ]
  },
  {
   "cell_type": "markdown",
   "metadata": {
    "colab_type": "text",
    "id": "W9d6ImndX5zO"
   },
   "source": [
    "# TEST를 풀기위해, 학습데이터로 변경 (data_preps)\n",
    " 1. Train Data set = [ 67,091,776 x 7 ] ... 70%\n",
    "  - game_id 별로 정리하면 [38,872 x 27]로 압축된다. \n",
    "  - 경기당, 평균 1,726개의 이벤트가 존재한다.(압축률 0.057939 %)\n",
    " > - x_train set = *** DATA SHAPE = [ 38,872 x 27 ] pandas.DataFrame\n",
    " > - y_train set = *** DATA SHAPE = [ 38,872 x 1 ]  np.array\n",
    " \n",
    " 1. Test Data set  = [ 28,714,849 x 6 ] ... 30%\n",
    "  - game_id 별로 정리하면 [16,787 x 27] 로 압축된다. \n",
    "  - 경기당 평균 1711개의 이벤트가 존재한다.(압축률 0.058461 %)\n",
    " > - x_test set = *** DATA SHAPE = [16,787 x 27] pandas.DataFrame \n",
    " > - y_test set = *** DATA SHAPE = [16,787 x 1] np.array =  대회주관자가 가지고 있음\n",
    " \n",
    " 1. Submission = y_test set \n",
    "  - submission = [16,787 x 1] np.array to [16,787 x 2 ] pandas.DataFrame --> df.csv"
   ]
  },
  {
   "cell_type": "code",
   "execution_count": 10,
   "metadata": {
    "colab": {
     "base_uri": "https://localhost:8080/",
     "height": 52
    },
    "colab_type": "code",
    "executionInfo": {
     "elapsed": 3153040,
     "status": "ok",
     "timestamp": 1585620279084,
     "user": {
      "displayName": "SuParX -K",
      "photoUrl": "https://lh3.googleusercontent.com/a-/AOh14GgAhLtiQrZfK-FHgn5GBmgExX619ygpOPHHdN4ZkU0=s64",
      "userId": "05876132496561296136"
     },
     "user_tz": -540
    },
    "id": "20YeuGYXUWZ3",
    "outputId": "2086b8f3-a90c-4be4-a89d-8637498abc07"
   },
   "outputs": [],
   "source": [
    "\"\"\"\n",
    "# 테스트용 데이터를 전처리 해서 분석 준비 ... (시간소요) 미리 저장한 화일을 불러온다\n",
    "# 저장했으면 비활성 처리\n",
    "# x_test, _ = data_preparation(test, answer=False)                 # [ 28,714,849 x 6 ] ... 30%\n",
    "# x_test.to_csv(dir_base + remake + 'df_xtest_remake.csv')\n",
    "# x_test = pd.read_csv(dir_base + remake + 'df_xtest_remake.csv')  # [  16,787 x 27 ]\n",
    "\"\"\"\n",
    "x_test = pd.read_csv(dir_base + remake + 'xtra_remake_xtest_final.csv')    # *** DATA SHAPE = [ 16,787 x 27 ]\n"
   ]
  },
  {
   "cell_type": "markdown",
   "metadata": {},
   "source": [
    "# 예측결과 Submission 화일 만들기"
   ]
  },
  {
   "cell_type": "code",
   "execution_count": 11,
   "metadata": {
    "colab": {
     "base_uri": "https://localhost:8080/",
     "height": 195
    },
    "colab_type": "code",
    "executionInfo": {
     "elapsed": 3155255,
     "status": "ok",
     "timestamp": 1585620281362,
     "user": {
      "displayName": "SuParX -K",
      "photoUrl": "https://lh3.googleusercontent.com/a-/AOh14GgAhLtiQrZfK-FHgn5GBmgExX619ygpOPHHdN4ZkU0=s64",
      "userId": "05876132496561296136"
     },
     "user_tz": -540
    },
    "id": "k9HevRoDUWUC",
    "outputId": "aff8a829-a8c4-4794-cbe5-861aea6392db"
   },
   "outputs": [],
   "source": [
    "\"\"\"\n",
    "# pd.read_csv('data/sample_submission.csv', index_col=0)\n",
    "# sample_submission = pd.read_csv(dir_base + sub_base + \"sample_submission.csv\")\n",
    "\"\"\"\n",
    "\n",
    "preds = []\n",
    "\n",
    "for model in models:\n",
    "    pred = model.predict_proba(x_test)[:, 1]\n",
    "    preds.append(pred)\n",
    "    \n",
    "pred = np.mean(preds, axis=0)"
   ]
  },
  {
   "cell_type": "code",
   "execution_count": 12,
   "metadata": {},
   "outputs": [
    {
     "name": "stdout",
     "output_type": "stream",
     "text": [
      "False\n",
      "DIR_TARGET=/home/yk/0325_Starcraft/competition/c03_starcraft_prediction/data_remake\n",
      "/home/yk/0325_Starcraft/competition/c03_starcraft_prediction/data_raw/\n",
      "----------------------------------------\n",
      "  01. sample_submission.csv\n",
      "  02. test.csv\n",
      "  03. train.csv\n"
     ]
    }
   ],
   "source": [
    "show_ls(dir_base + raw)"
   ]
  },
  {
   "cell_type": "code",
   "execution_count": 13,
   "metadata": {},
   "outputs": [],
   "source": [
    "submission = pd.read_csv(dir_base + raw + \"sample_submission.csv\") \n",
    "\n",
    "\n",
    "submission['winner'] = pred\n",
    "submission.to_csv(dir_base + submit + filename_submit, index=False)"
   ]
  },
  {
   "cell_type": "markdown",
   "metadata": {
    "colab_type": "text",
    "id": "4PobqJx-OM0Q"
   },
   "source": [
    "# 결과 확인하기\n",
    "- 3월 데이콘 대회 홈페이지 = https://bit.ly/39bqWVg\n",
    "- 결과 제출하기 = https://dacon.io/competitions/official/235583/mysubmission/"
   ]
  },
  {
   "cell_type": "code",
   "execution_count": 14,
   "metadata": {},
   "outputs": [
    {
     "data": {
      "text/html": [
       "<div>\n",
       "<style scoped>\n",
       "    .dataframe tbody tr th:only-of-type {\n",
       "        vertical-align: middle;\n",
       "    }\n",
       "\n",
       "    .dataframe tbody tr th {\n",
       "        vertical-align: top;\n",
       "    }\n",
       "\n",
       "    .dataframe thead th {\n",
       "        text-align: right;\n",
       "    }\n",
       "</style>\n",
       "<table border=\"1\" class=\"dataframe\">\n",
       "  <thead>\n",
       "    <tr style=\"text-align: right;\">\n",
       "      <th></th>\n",
       "      <th>game_id</th>\n",
       "      <th>winner</th>\n",
       "    </tr>\n",
       "  </thead>\n",
       "  <tbody>\n",
       "    <tr>\n",
       "      <th>0</th>\n",
       "      <td>38872</td>\n",
       "      <td>0.523022</td>\n",
       "    </tr>\n",
       "    <tr>\n",
       "      <th>1</th>\n",
       "      <td>38873</td>\n",
       "      <td>0.641441</td>\n",
       "    </tr>\n",
       "    <tr>\n",
       "      <th>2</th>\n",
       "      <td>38874</td>\n",
       "      <td>0.426662</td>\n",
       "    </tr>\n",
       "    <tr>\n",
       "      <th>3</th>\n",
       "      <td>38875</td>\n",
       "      <td>0.195388</td>\n",
       "    </tr>\n",
       "    <tr>\n",
       "      <th>4</th>\n",
       "      <td>38876</td>\n",
       "      <td>0.672514</td>\n",
       "    </tr>\n",
       "    <tr>\n",
       "      <th>...</th>\n",
       "      <td>...</td>\n",
       "      <td>...</td>\n",
       "    </tr>\n",
       "    <tr>\n",
       "      <th>16782</th>\n",
       "      <td>55654</td>\n",
       "      <td>0.645065</td>\n",
       "    </tr>\n",
       "    <tr>\n",
       "      <th>16783</th>\n",
       "      <td>55655</td>\n",
       "      <td>0.210758</td>\n",
       "    </tr>\n",
       "    <tr>\n",
       "      <th>16784</th>\n",
       "      <td>55656</td>\n",
       "      <td>0.810839</td>\n",
       "    </tr>\n",
       "    <tr>\n",
       "      <th>16785</th>\n",
       "      <td>55657</td>\n",
       "      <td>0.513253</td>\n",
       "    </tr>\n",
       "    <tr>\n",
       "      <th>16786</th>\n",
       "      <td>55658</td>\n",
       "      <td>0.593450</td>\n",
       "    </tr>\n",
       "  </tbody>\n",
       "</table>\n",
       "<p>16787 rows × 2 columns</p>\n",
       "</div>"
      ],
      "text/plain": [
       "       game_id    winner\n",
       "0        38872  0.523022\n",
       "1        38873  0.641441\n",
       "2        38874  0.426662\n",
       "3        38875  0.195388\n",
       "4        38876  0.672514\n",
       "...        ...       ...\n",
       "16782    55654  0.645065\n",
       "16783    55655  0.210758\n",
       "16784    55656  0.810839\n",
       "16785    55657  0.513253\n",
       "16786    55658  0.593450\n",
       "\n",
       "[16787 rows x 2 columns]"
      ]
     },
     "execution_count": 14,
     "metadata": {},
     "output_type": "execute_result"
    }
   ],
   "source": [
    "df_1 = submission\n",
    "df_1"
   ]
  }
 ],
 "metadata": {
  "colab": {
   "collapsed_sections": [],
   "machine_shape": "hm",
   "name": "starcraft_LGBM_baseline.ipynb",
   "provenance": []
  },
  "kernelspec": {
   "display_name": "Python 3",
   "language": "python",
   "name": "python3"
  },
  "language_info": {
   "codemirror_mode": {
    "name": "ipython",
    "version": 3
   },
   "file_extension": ".py",
   "mimetype": "text/x-python",
   "name": "python",
   "nbconvert_exporter": "python",
   "pygments_lexer": "ipython3",
   "version": "3.7.6"
  }
 },
 "nbformat": 4,
 "nbformat_minor": 1
}
