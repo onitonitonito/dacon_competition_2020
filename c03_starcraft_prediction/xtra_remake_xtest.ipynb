{
 "cells": [
  {
   "cell_type": "markdown",
   "metadata": {},
   "source": [
    "# xtra_remake_xtest.ipynb\n",
    "1.0 데이터 전처리 테스트용 마지막 71게임 Data\n",
    "> - 총 게임수 = 38,871 이므로 마지막 71 데이터로 전처리 테스트 후\n",
    "> - 전체 게임으로 전처리를 진행한다.\n",
    "> - 파일다루기 - https://parkdream.tistory.com/42\n",
    "> - /content/drive/My Drive/Colab Notebooks/competition_data/starcraft_data/temp"
   ]
  },
  {
   "cell_type": "code",
   "execution_count": 1,
   "metadata": {},
   "outputs": [],
   "source": [
    "import random\n",
    "import pandas as pd\n",
    "import numpy as np\n",
    "import matplotlib.pyplot as plt"
   ]
  },
  {
   "cell_type": "code",
   "execution_count": 2,
   "metadata": {},
   "outputs": [],
   "source": [
    "\"\"\"\n",
    "# 기본 DIR 구조를 입력한다. - _assets 폴더 제외!\n",
    "# /content/drive/My Drive/Colab Notebooks/\n",
    "# dir_base = '/content/drive/My Drive/Colab Notebooks/competition/'\n",
    "# competition/_statics/images/winning_factors_table.png\n",
    "\"\"\"\n",
    "dir_base = '/home/yk/0325_Starcraft/competition/'\n",
    "\n",
    "raw      = 'c03_starcraft_prediction/data_raw/'\n",
    "remake   = 'c03_starcraft_prediction/data_remake/'\n",
    "submit   = 'c03_starcraft_prediction/data_submit/'\n",
    "\n",
    "assets = '/home/yk/0325_Starcraft/competition/_assets/'\n",
    "images = '/home/yk/0325_Starcraft/competition/_statics/images/'\n",
    "\n",
    "filename_result = 'xtra_remake_xtest.csv'"
   ]
  },
  {
   "cell_type": "code",
   "execution_count": 3,
   "metadata": {},
   "outputs": [
    {
     "name": "stdout",
     "output_type": "stream",
     "text": [
      "***'/home/yk/0325_Starcraft/competition/' has set in SYS.PATH! ***\n",
      "\n",
      "01./home/yk/0325_Starcraft/competition/\n",
      "02./home/yk/0325_Starcraft/competition/c03_starcraft_prediction\n",
      "03./home/yk/anaconda3/lib/python37.zip\n",
      "04./home/yk/anaconda3/lib/python3.7\n",
      "05./home/yk/anaconda3/lib/python3.7/lib-dynload\n",
      "06.\n",
      "07./home/yk/anaconda3/lib/python3.7/site-packages\n",
      "08./home/yk/anaconda3/lib/python3.7/site-packages/IPython/extensions\n",
      "09./home/yk/.ipython\n"
     ]
    }
   ],
   "source": [
    "\"\"\"\n",
    "# 모듈 import를 위한 SYS.PATH 설정!\n",
    "\"\"\"\n",
    "import os\n",
    "import sys\n",
    "\n",
    "if not dir_base in sys.path:\n",
    "    sys.path.insert(0, dir_base)\n",
    "    print(f\"***'{dir_base}' has set in SYS.PATH! ***\")    \n",
    "    print()\n",
    "    \n",
    "for i, item in enumerate(sys.path,1):\n",
    "    print(f\"{i:02}.{item}\")"
   ]
  },
  {
   "cell_type": "code",
   "execution_count": 4,
   "metadata": {
    "scrolled": true
   },
   "outputs": [
    {
     "name": "stdout",
     "output_type": "stream",
     "text": [
      "THIS CPU CORES ARE .. = 16 CORES!\n"
     ]
    }
   ],
   "source": [
    "import multiprocessing as mp\n",
    "\n",
    "from parse import *\n",
    "from multiprocessing import Pool\n",
    "\n",
    "num_cores = mp.cpu_count()               # cpu의 코어 수를 반환\n",
    "print(f\"THIS CPU CORES ARE .. = {num_cores} CORES!\")        # CPU CORES = 16 CORES!"
   ]
  },
  {
   "cell_type": "code",
   "execution_count": 5,
   "metadata": {
    "scrolled": false
   },
   "outputs": [
    {
     "name": "stdout",
     "output_type": "stream",
     "text": [
      "\n",
      "# GAME_ID 유니크 데이터 전처리를 위한 모듈 - baseline offer\n",
      "\n",
      "\n",
      "# OS 화일 및 DF 정보조회를 위한 탐색 모듈\n",
      "\n"
     ]
    }
   ],
   "source": [
    "from _assets.module_data_preps import ( __doc__,\n",
    "                                    tqdm,\n",
    "                                    read_data_file,\n",
    "                                    data_processing,\n",
    "                                    species_converter, \n",
    "                                    data_preparation,\n",
    "                                )\n",
    "\n",
    "from _assets.modules import ( __doc__, \n",
    "                                    show_ls, \n",
    "                                    show_infoDF_from,\n",
    "                                    histit,\n",
    "                                    hist_it,\n",
    "                                    plot_it,\n",
    "                                    get_random_n_array,\n",
    "                                    get_basic_df,\n",
    "                                    get_counts_dict_fromDF,\n",
    "                                )"
   ]
  },
  {
   "cell_type": "markdown",
   "metadata": {},
   "source": [
    "## xtra_remake_xtest.ipynb\n",
    "- 마지막 71개 game_id = *** DATA SHAPE = [ 114,504 x 7 ]\n",
    "- id당 평균 1,612개의 이벤트가 있다."
   ]
  },
  {
   "cell_type": "code",
   "execution_count": 6,
   "metadata": {},
   "outputs": [
    {
     "name": "stdout",
     "output_type": "stream",
     "text": [
      "CPU times: user 19.6 s, sys: 1.73 s, total: 21.4 s\n",
      "Wall time: 22.9 s\n"
     ]
    }
   ],
   "source": [
    "%%time\n",
    "\"\"\"\n",
    "# *** DATA SHAPE = [ 67,091,776 x 7 ] ... 가볍다!\n",
    "# CPU times: user 42.5 s, sys: 3.63 s, total: 46.1 s\n",
    "# Wall time: 43.2 s\n",
    "\"\"\"\n",
    "\n",
    "df_test = pd.read_csv(dir_base + raw + 'test.csv')"
   ]
  },
  {
   "cell_type": "code",
   "execution_count": 7,
   "metadata": {},
   "outputs": [
    {
     "name": "stdout",
     "output_type": "stream",
     "text": [
      "Ability Data 구축\n"
     ]
    },
    {
     "name": "stderr",
     "output_type": "stream",
     "text": [
      "100%|██████████| 1631055/1631055 [00:03<00:00, 439564.86it/s]\n"
     ]
    },
    {
     "name": "stdout",
     "output_type": "stream",
     "text": [
      "Right Click Data 구축\n"
     ]
    },
    {
     "name": "stderr",
     "output_type": "stream",
     "text": [
      "100%|██████████| 4929970/4929970 [00:18<00:00, 264785.07it/s]\n"
     ]
    },
    {
     "name": "stdout",
     "output_type": "stream",
     "text": [
      "Event별 Count Data 구축\n"
     ]
    },
    {
     "name": "stderr",
     "output_type": "stream",
     "text": [
      "  0%|          | 1/16787 [00:00<30:56,  9.04it/s]"
     ]
    },
    {
     "name": "stdout",
     "output_type": "stream",
     "text": [
      "Game별 학습 Data 구축\n"
     ]
    },
    {
     "name": "stderr",
     "output_type": "stream",
     "text": [
      "100%|██████████| 16787/16787 [17:39<00:00, 15.84it/s]\n"
     ]
    }
   ],
   "source": [
    "x_test, y_test = data_processing(train_data=df_test, answer=False)"
   ]
  },
  {
   "cell_type": "code",
   "execution_count": 8,
   "metadata": {
    "scrolled": false
   },
   "outputs": [
    {
     "name": "stdout",
     "output_type": "stream",
     "text": [
      "*** DATA SHAPE = [ 16,787 x 1,553 ]\n",
      "\n",
      "<class 'pandas.core.frame.DataFrame'>\n",
      "Int64Index: 16787 entries, 38872 to 55658\n",
      "Columns: 1553 entries, P0_species to rc_delta_TargetChangelingMarineShieldLocation\n",
      "dtypes: int64(1553)\n",
      "memory usage: 199.0 MB\n",
      "None\n",
      "\n",
      "         P0_species    P1_species  P0_event_Camera  P0_event_Selection  \\\n",
      "count  16787.000000  16787.000000     16787.000000        16787.000000   \n",
      "mean       0.930422      0.939358       403.682909          121.486865   \n",
      "std        0.846166      0.846291       224.468756           85.260252   \n",
      "min        0.000000      0.000000         0.000000            0.000000   \n",
      "25%        0.000000      0.000000       234.000000           59.000000   \n",
      "50%        1.000000      1.000000       385.000000          100.000000   \n",
      "75%        2.000000      2.000000       547.000000          165.000000   \n",
      "max        2.000000      2.000000      1739.000000          740.000000   \n",
      "\n",
      "       P0_event_Ability  P0_event_AddToControlGroup  P0_event_SetControlGroup  \\\n",
      "count      16787.000000                16787.000000              16787.000000   \n",
      "mean          48.555370                    1.890808                  4.376005   \n",
      "std           28.336043                    3.006079                  4.761615   \n",
      "min            0.000000                    0.000000                  0.000000   \n",
      "25%           26.000000                    0.000000                  1.000000   \n",
      "50%           46.000000                    0.000000                  3.000000   \n",
      "75%           66.000000                    3.000000                  6.000000   \n",
      "max          193.000000                   28.000000                 54.000000   \n",
      "\n",
      "       P0_event_Right Click  P0_event_GetControlGroup  P0_event_ControlGroup  \\\n",
      "count          16787.000000              16787.000000           16787.000000   \n",
      "mean             146.354560                129.127539               0.355573   \n",
      "std               97.214994                188.991556               3.162924   \n",
      "min                0.000000                  0.000000               0.000000   \n",
      "25%               69.000000                 11.000000               0.000000   \n",
      "50%              131.000000                 44.000000               0.000000   \n",
      "75%              207.000000                172.000000               0.000000   \n",
      "max              637.000000               1664.000000             196.000000   \n",
      "\n",
      "       ...  rc_delta_TargetChangelingLocation  \\\n",
      "count  ...                       16787.000000   \n",
      "mean   ...                           0.000060   \n",
      "std    ...                           0.017259   \n",
      "min    ...                          -1.000000   \n",
      "25%    ...                           0.000000   \n",
      "50%    ...                           0.000000   \n",
      "75%    ...                           0.000000   \n",
      "max    ...                           1.000000   \n",
      "\n",
      "       rc_delta_TargetExtendingBridgeNEWide8OutLocation  \\\n",
      "count                                      16787.000000   \n",
      "mean                                          -0.000238   \n",
      "std                                            0.030873   \n",
      "min                                           -4.000000   \n",
      "25%                                            0.000000   \n",
      "50%                                            0.000000   \n",
      "75%                                            0.000000   \n",
      "max                                            0.000000   \n",
      "\n",
      "       rc_delta_TargetBroodLordAWeaponLocation  \\\n",
      "count                             16787.000000   \n",
      "mean                                  0.000000   \n",
      "std                                   0.010915   \n",
      "min                                  -1.000000   \n",
      "25%                                   0.000000   \n",
      "50%                                   0.000000   \n",
      "75%                                   0.000000   \n",
      "max                                   1.000000   \n",
      "\n",
      "       rc_delta_TargetExtendingBridgeNEWide10OutLocation  \\\n",
      "count                                       16787.000000   \n",
      "mean                                           -0.000238   \n",
      "std                                             0.078712   \n",
      "min                                            -6.000000   \n",
      "25%                                             0.000000   \n",
      "50%                                             0.000000   \n",
      "75%                                             0.000000   \n",
      "max                                             5.000000   \n",
      "\n",
      "       rc_delta_TargetFusionCoreLocation  \\\n",
      "count                       16787.000000   \n",
      "mean                            0.000000   \n",
      "std                             0.015437   \n",
      "min                            -1.000000   \n",
      "25%                             0.000000   \n",
      "50%                             0.000000   \n",
      "75%                             0.000000   \n",
      "max                             1.000000   \n",
      "\n",
      "       rc_delta_TargetBanelingBurrowedLocation  \\\n",
      "count                             16787.000000   \n",
      "mean                                  0.000060   \n",
      "std                                   0.007718   \n",
      "min                                   0.000000   \n",
      "25%                                   0.000000   \n",
      "50%                                   0.000000   \n",
      "75%                                   0.000000   \n",
      "max                                   1.000000   \n",
      "\n",
      "       rc_delta_TargetCorruptorLocation  rc_delta_TargetGhostAcademyLocation  \\\n",
      "count                      16787.000000                         16787.000000   \n",
      "mean                          -0.000060                            -0.000179   \n",
      "std                            0.040106                             0.025598   \n",
      "min                           -4.000000                            -2.000000   \n",
      "25%                            0.000000                             0.000000   \n",
      "50%                            0.000000                             0.000000   \n",
      "75%                            0.000000                             0.000000   \n",
      "max                            3.000000                             1.000000   \n",
      "\n",
      "       rc_delta_TargetDisruptorLocation  \\\n",
      "count                      16787.000000   \n",
      "mean                           0.000298   \n",
      "std                            0.027827   \n",
      "min                            0.000000   \n",
      "25%                            0.000000   \n",
      "50%                            0.000000   \n",
      "75%                            0.000000   \n",
      "max                            3.000000   \n",
      "\n",
      "       rc_delta_TargetChangelingMarineShieldLocation  \n",
      "count                                   16787.000000  \n",
      "mean                                        0.000060  \n",
      "std                                         0.007718  \n",
      "min                                         0.000000  \n",
      "25%                                         0.000000  \n",
      "50%                                         0.000000  \n",
      "75%                                         0.000000  \n",
      "max                                         1.000000  \n",
      "\n",
      "[8 rows x 1553 columns]\n",
      "\n"
     ]
    }
   ],
   "source": [
    "show_infoDF_from(x_test)"
   ]
  },
  {
   "cell_type": "code",
   "execution_count": 9,
   "metadata": {},
   "outputs": [],
   "source": [
    "x_test.to_csv(dir_base + remake + filename_result)"
   ]
  },
  {
   "cell_type": "code",
   "execution_count": 10,
   "metadata": {},
   "outputs": [
    {
     "name": "stdout",
     "output_type": "stream",
     "text": [
      "*** DATA SHAPE = [ 16,787 x 1,553 ]\n",
      "\n",
      "<class 'pandas.core.frame.DataFrame'>\n",
      "Int64Index: 16787 entries, 38872 to 55658\n",
      "Columns: 1553 entries, P0_species to rc_delta_TargetChangelingMarineShieldLocation\n",
      "dtypes: int64(1553)\n",
      "memory usage: 199.0 MB\n",
      "None\n",
      "\n",
      "         P0_species    P1_species  P0_event_Camera  P0_event_Selection  \\\n",
      "count  16787.000000  16787.000000     16787.000000        16787.000000   \n",
      "mean       0.930422      0.939358       403.682909          121.486865   \n",
      "std        0.846166      0.846291       224.468756           85.260252   \n",
      "min        0.000000      0.000000         0.000000            0.000000   \n",
      "25%        0.000000      0.000000       234.000000           59.000000   \n",
      "50%        1.000000      1.000000       385.000000          100.000000   \n",
      "75%        2.000000      2.000000       547.000000          165.000000   \n",
      "max        2.000000      2.000000      1739.000000          740.000000   \n",
      "\n",
      "       P0_event_Ability  P0_event_AddToControlGroup  P0_event_SetControlGroup  \\\n",
      "count      16787.000000                16787.000000              16787.000000   \n",
      "mean          48.555370                    1.890808                  4.376005   \n",
      "std           28.336043                    3.006079                  4.761615   \n",
      "min            0.000000                    0.000000                  0.000000   \n",
      "25%           26.000000                    0.000000                  1.000000   \n",
      "50%           46.000000                    0.000000                  3.000000   \n",
      "75%           66.000000                    3.000000                  6.000000   \n",
      "max          193.000000                   28.000000                 54.000000   \n",
      "\n",
      "       P0_event_Right Click  P0_event_GetControlGroup  P0_event_ControlGroup  \\\n",
      "count          16787.000000              16787.000000           16787.000000   \n",
      "mean             146.354560                129.127539               0.355573   \n",
      "std               97.214994                188.991556               3.162924   \n",
      "min                0.000000                  0.000000               0.000000   \n",
      "25%               69.000000                 11.000000               0.000000   \n",
      "50%              131.000000                 44.000000               0.000000   \n",
      "75%              207.000000                172.000000               0.000000   \n",
      "max              637.000000               1664.000000             196.000000   \n",
      "\n",
      "       ...  rc_delta_TargetChangelingLocation  \\\n",
      "count  ...                       16787.000000   \n",
      "mean   ...                           0.000060   \n",
      "std    ...                           0.017259   \n",
      "min    ...                          -1.000000   \n",
      "25%    ...                           0.000000   \n",
      "50%    ...                           0.000000   \n",
      "75%    ...                           0.000000   \n",
      "max    ...                           1.000000   \n",
      "\n",
      "       rc_delta_TargetExtendingBridgeNEWide8OutLocation  \\\n",
      "count                                      16787.000000   \n",
      "mean                                          -0.000238   \n",
      "std                                            0.030873   \n",
      "min                                           -4.000000   \n",
      "25%                                            0.000000   \n",
      "50%                                            0.000000   \n",
      "75%                                            0.000000   \n",
      "max                                            0.000000   \n",
      "\n",
      "       rc_delta_TargetBroodLordAWeaponLocation  \\\n",
      "count                             16787.000000   \n",
      "mean                                  0.000000   \n",
      "std                                   0.010915   \n",
      "min                                  -1.000000   \n",
      "25%                                   0.000000   \n",
      "50%                                   0.000000   \n",
      "75%                                   0.000000   \n",
      "max                                   1.000000   \n",
      "\n",
      "       rc_delta_TargetExtendingBridgeNEWide10OutLocation  \\\n",
      "count                                       16787.000000   \n",
      "mean                                           -0.000238   \n",
      "std                                             0.078712   \n",
      "min                                            -6.000000   \n",
      "25%                                             0.000000   \n",
      "50%                                             0.000000   \n",
      "75%                                             0.000000   \n",
      "max                                             5.000000   \n",
      "\n",
      "       rc_delta_TargetFusionCoreLocation  \\\n",
      "count                       16787.000000   \n",
      "mean                            0.000000   \n",
      "std                             0.015437   \n",
      "min                            -1.000000   \n",
      "25%                             0.000000   \n",
      "50%                             0.000000   \n",
      "75%                             0.000000   \n",
      "max                             1.000000   \n",
      "\n",
      "       rc_delta_TargetBanelingBurrowedLocation  \\\n",
      "count                             16787.000000   \n",
      "mean                                  0.000060   \n",
      "std                                   0.007718   \n",
      "min                                   0.000000   \n",
      "25%                                   0.000000   \n",
      "50%                                   0.000000   \n",
      "75%                                   0.000000   \n",
      "max                                   1.000000   \n",
      "\n",
      "       rc_delta_TargetCorruptorLocation  rc_delta_TargetGhostAcademyLocation  \\\n",
      "count                      16787.000000                         16787.000000   \n",
      "mean                          -0.000060                            -0.000179   \n",
      "std                            0.040106                             0.025598   \n",
      "min                           -4.000000                            -2.000000   \n",
      "25%                            0.000000                             0.000000   \n",
      "50%                            0.000000                             0.000000   \n",
      "75%                            0.000000                             0.000000   \n",
      "max                            3.000000                             1.000000   \n",
      "\n",
      "       rc_delta_TargetDisruptorLocation  \\\n",
      "count                      16787.000000   \n",
      "mean                           0.000298   \n",
      "std                            0.027827   \n",
      "min                            0.000000   \n",
      "25%                            0.000000   \n",
      "50%                            0.000000   \n",
      "75%                            0.000000   \n",
      "max                            3.000000   \n",
      "\n",
      "       rc_delta_TargetChangelingMarineShieldLocation  \n",
      "count                                   16787.000000  \n",
      "mean                                        0.000060  \n",
      "std                                         0.007718  \n",
      "min                                         0.000000  \n",
      "25%                                         0.000000  \n",
      "50%                                         0.000000  \n",
      "75%                                         0.000000  \n",
      "max                                         1.000000  \n",
      "\n",
      "[8 rows x 1553 columns]\n",
      "\n"
     ]
    }
   ],
   "source": [
    "show_infoDF_from(x_test)  #  [ 16,787 x 1,553 ]"
   ]
  },
  {
   "cell_type": "code",
   "execution_count": 11,
   "metadata": {},
   "outputs": [
    {
     "data": {
      "text/plain": [
       "Index(['P0_species', 'P1_species', 'P0_event_Camera', 'P0_event_Selection',\n",
       "       'P0_event_Ability', 'P0_event_AddToControlGroup',\n",
       "       'P0_event_SetControlGroup', 'P0_event_Right Click',\n",
       "       'P0_event_GetControlGroup', 'P0_event_ControlGroup',\n",
       "       'Ability0_TrainProbe', 'Ability0_BuildPylon', 'Ability0_BuildForge',\n",
       "       'Ability0_BuildAssimilator', 'Ability0_BuildPhotonCannon',\n",
       "       'Ability0_CancelBuilding', 'Ability0_ChronoBoost',\n",
       "       'Ability0_TrainZealot', 'Ability0_TrainMothershipCore',\n",
       "       'Ability0_ResearchWarpGate', 'Ability0_BuildGateway', 'Ability0_Attack',\n",
       "       'Ability0_BuildNexus', 'Ability0_BuildStargate', 'Ability0_TrainSentry',\n",
       "       'Ability0_TrainStalker', 'Ability0_BuildRoboticsFacility',\n",
       "       'Ability0_OracleWeapon', 'Ability0_HoldPosition',\n",
       "       'Ability0_MorphOverlord', 'Ability0_MorphDrone',\n",
       "       'Ability0_BuildHatchery', 'Ability0_CancelLast',\n",
       "       'Ability0_MorphZergling', 'Ability0_TrainQueen',\n",
       "       'Ability0_BuildCyberneticsCore', 'Ability0_SpawnLarva',\n",
       "       'Ability0_EvolveMetabolicBoost', 'Ability0_BuildTwilightCouncil',\n",
       "       'Ability0_UpgradeToLair', 'Ability0_BuildBanelingNest',\n",
       "       'Ability0_TrainSCV', 'Ability0_BuildSupplyDepot',\n",
       "       'Ability0_BuildRefinery', 'Ability0_BuildBarracks',\n",
       "       'Ability0_UpgradeToOrbitalCommand', 'Ability0_TrainReaper',\n",
       "       'Ability0_CancelTerranBuilding', 'Ability0_CalldownMULE',\n",
       "       'Ability0_LowerSupplyDepot'],\n",
       "      dtype='object')"
      ]
     },
     "execution_count": 11,
     "metadata": {},
     "output_type": "execute_result"
    }
   ],
   "source": [
    "x_test.columns[:50]"
   ]
  },
  {
   "cell_type": "code",
   "execution_count": null,
   "metadata": {},
   "outputs": [],
   "source": []
  },
  {
   "cell_type": "code",
   "execution_count": null,
   "metadata": {},
   "outputs": [],
   "source": []
  },
  {
   "cell_type": "code",
   "execution_count": null,
   "metadata": {},
   "outputs": [],
   "source": []
  }
 ],
 "metadata": {
  "kernelspec": {
   "display_name": "Python 3",
   "language": "python",
   "name": "python3"
  },
  "language_info": {
   "codemirror_mode": {
    "name": "ipython",
    "version": 3
   },
   "file_extension": ".py",
   "mimetype": "text/x-python",
   "name": "python",
   "nbconvert_exporter": "python",
   "pygments_lexer": "ipython3",
   "version": "3.7.6"
  }
 },
 "nbformat": 4,
 "nbformat_minor": 2
}
