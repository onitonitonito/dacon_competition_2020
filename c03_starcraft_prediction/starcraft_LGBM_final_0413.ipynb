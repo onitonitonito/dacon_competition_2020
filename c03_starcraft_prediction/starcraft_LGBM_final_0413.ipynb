{
 "cells": [
  {
   "cell_type": "markdown",
   "metadata": {
    "colab_type": "text",
    "id": "Yj9dS4w29AUl"
   },
   "source": [
    "### 구글드라이브 연결\n",
    "> - drive 폴더가 붙은 것을 확인한다.\n",
    "> - drwx------ 4 root root 4.0K Mar 22 11:21 drive"
   ]
  },
  {
   "cell_type": "code",
   "execution_count": 1,
   "metadata": {
    "colab": {
     "base_uri": "https://localhost:8080/",
     "height": 125
    },
    "colab_type": "code",
    "executionInfo": {
     "elapsed": 15458,
     "status": "ok",
     "timestamp": 1585617140987,
     "user": {
      "displayName": "SuParX -K",
      "photoUrl": "https://lh3.googleusercontent.com/a-/AOh14GgAhLtiQrZfK-FHgn5GBmgExX619ygpOPHHdN4ZkU0=s64",
      "userId": "05876132496561296136"
     },
     "user_tz": -540
    },
    "id": "cG0ywtEV7uIh",
    "outputId": "a95953a7-c6a3-447d-8e73-e71681064258"
   },
   "outputs": [],
   "source": [
    "# from google.colab import drive \n",
    "# drive.mount('/content/drive/')"
   ]
  },
  {
   "cell_type": "markdown",
   "metadata": {
    "colab_type": "text",
    "id": "187ugqNFuzIG"
   },
   "source": [
    "### Install / Import 모듈 "
   ]
  },
  {
   "cell_type": "code",
   "execution_count": 2,
   "metadata": {
    "colab": {
     "base_uri": "https://localhost:8080/",
     "height": 178
    },
    "colab_type": "code",
    "executionInfo": {
     "elapsed": 20113,
     "status": "ok",
     "timestamp": 1585617145679,
     "user": {
      "displayName": "SuParX -K",
      "photoUrl": "https://lh3.googleusercontent.com/a-/AOh14GgAhLtiQrZfK-FHgn5GBmgExX619ygpOPHHdN4ZkU0=s64",
      "userId": "05876132496561296136"
     },
     "user_tz": -540
    },
    "id": "KHr7Oekx9AgU",
    "outputId": "e8bdfc50-1d0d-46cd-af53-4313a5845e4a"
   },
   "outputs": [],
   "source": [
    "# 코랩에 없는 라이브러리 설치해주기\n",
    "# !pip install bayesian-optimization"
   ]
  },
  {
   "cell_type": "code",
   "execution_count": 3,
   "metadata": {
    "colab": {},
    "colab_type": "code",
    "id": "O14CYkrx_Wvr"
   },
   "outputs": [],
   "source": [
    "import os\n",
    "import pandas as pd                         # 데이터 분석 라이브러리\n",
    "import numpy as np                          # 계산 라이브러리\n",
    "import matplotlib.pyplot as plt             # * 그래프 이미지\n",
    "\n",
    "from tqdm import tqdm                       # 진행바\n",
    "\n",
    "from sklearn.metrics import roc_auc_score   # AUC 스코어 계산\n",
    "from sklearn.model_selection import KFold   # K-fold CV    \n",
    "from bayes_opt import BayesianOptimization  # 베이지안 최적화 라이브러리  \n",
    "from functools import partial               # 함수 변수 고정\n",
    "import lightgbm as lgb                      # LightGBM 라이브러리\n",
    "import warnings           \n",
    "import random                       \n",
    "warnings.filterwarnings(\"ignore\")           # 경고 문구 미표시"
   ]
  },
  {
   "cell_type": "code",
   "execution_count": 4,
   "metadata": {
    "colab": {},
    "colab_type": "code",
    "id": "HZZBn3Ec_bXr"
   },
   "outputs": [],
   "source": [
    "# 데이터가 많아 5분 정도 걸립니다.  \n",
    "# 전체경로 = /content/drive/My Drive/Colab Notebooks/competition/c03_starcraft_prediction/data_raw/train.csv\n",
    "# /content/drive/My Drive/Colab Notebooks/\n",
    "# dir_base = '/content/drive/My Drive/Colab Notebooks/competition/''\n",
    "\n",
    "dir_base = '/home/yk/0325_Starcraft/competition/'\n",
    "\n",
    "raw      = 'c03_starcraft_prediction/data_raw/'\n",
    "remake   = 'c03_starcraft_prediction/data_remake/'\n",
    "submit   = 'c03_starcraft_prediction/data_submit/'\n",
    "                                                                # WAY-01 = LGBM\n",
    "filename_submit = 'submission_0413_way01_15_75_final.csv'       # WAY-02 = XGBM"
   ]
  },
  {
   "cell_type": "markdown",
   "metadata": {
    "colab_type": "text",
    "id": "wwg2_k9Sn9oI"
   },
   "source": [
    "### 사용함수의 정의"
   ]
  },
  {
   "cell_type": "code",
   "execution_count": 5,
   "metadata": {
    "colab": {},
    "colab_type": "code",
    "id": "oDh38baE_aFv"
   },
   "outputs": [
    {
     "name": "stdout",
     "output_type": "stream",
     "text": [
      "\n",
      "# OS 화일 및 DF 정보조회를 위한 탐색 모듈\n",
      "\n",
      "\n",
      "# GAME_ID 유니크 데이터 전처리를 위한 모듈 - baseline offer\n",
      "\n",
      "\n",
      "# LGBM_CV 모델 - Dacon Baseline 참조\n",
      "\n"
     ]
    }
   ],
   "source": [
    "os.chdir(dir_base)\n",
    "from _assets.modules import *\n",
    "from _assets.module_data_preps import *\n",
    "from _assets.module_lgbm_model import *"
   ]
  },
  {
   "cell_type": "code",
   "execution_count": 6,
   "metadata": {},
   "outputs": [
    {
     "name": "stdout",
     "output_type": "stream",
     "text": [
      "False\n",
      "DIR_TARGET=/home/yk/0325_Starcraft/competition\n",
      "/home/yk/0325_Starcraft/competition/c03_starcraft_prediction/data_remake/\n",
      "----------------------------------------\n",
      "  01. .ipynb_checkpoints\n",
      "  02. accumujated_winning_rate_per_time.csv\n",
      "  03. accumulated_winning_rate_per_time.csv\n",
      "  04. df_new_rate04_correct.csv\n",
      "  05. df_win_rate_every_10sec.csv\n",
      "  06. df_win_rate_every_20sec.csv\n",
      "  07. df_win_rate_every_40sec.csv\n",
      "  08. df_xtest_remake.csv\n",
      "  09. df_xtest_remake_final.csv\n",
      "  10. df_xtrain_remake.csv\n",
      "  11. df_xtrain_remake_final.csv\n",
      "  12. df_ytrain_remake.csv\n"
     ]
    }
   ],
   "source": [
    "show_ls(dir_base + remake)"
   ]
  },
  {
   "cell_type": "code",
   "execution_count": 7,
   "metadata": {
    "colab": {
     "base_uri": "https://localhost:8080/",
     "height": 70
    },
    "colab_type": "code",
    "executionInfo": {
     "elapsed": 779388,
     "status": "ok",
     "timestamp": 1585617905233,
     "user": {
      "displayName": "SuParX -K",
      "photoUrl": "https://lh3.googleusercontent.com/a-/AOh14GgAhLtiQrZfK-FHgn5GBmgExX619ygpOPHHdN4ZkU0=s64",
      "userId": "05876132496561296136"
     },
     "user_tz": -540
    },
    "id": "Y_yK7Y7d_esh",
    "outputId": "931af35d-a36b-45fd-9834-02a175dc756c"
   },
   "outputs": [
    {
     "name": "stdout",
     "output_type": "stream",
     "text": [
      "CPU times: user 79.5 ms, sys: 7.91 ms, total: 87.4 ms\n",
      "Wall time: 87 ms\n"
     ]
    }
   ],
   "source": [
    "%%time\n",
    "\"\"\"\n",
    "# 데이터 전처리 과정 - 약 7 ~ 10분 정도 걸립니다 ... 여기서 세션 리셋 됨!\n",
    "# x_train, y_train = data_preparation(train, answer=True)           # [ 67,091,776 x 7 ] ... 70%\n",
    "# show_infoDF_from(x_train) # *** DATA SHAPE = [ 38,872 x 27 ] ... [ game_id ... ]\n",
    "# show_infoDF_from(y_train) # *** DATA SHAPE = [ 38,872 x 3 ] .. ['Unnamed: 0', 'game_id', 'winner']\n",
    "\"\"\"\n",
    "\n",
    "x_train = pd.read_csv(dir_base + remake + 'df_xtrain_remake_final.csv')  # to <class 'pandas.core.frame.DataFrame'>\n",
    "ytrain = pd.read_csv(dir_base + remake + 'df_ytrain_remake.csv')  # to <class 'numpy.ndarray'>\n",
    "y_train = ytrain['winner'].values                                 # array([1, 1, 0, ..., 0, 1, 0])"
   ]
  },
  {
   "cell_type": "code",
   "execution_count": 8,
   "metadata": {
    "colab": {
     "base_uri": "https://localhost:8080/",
     "height": 282
    },
    "colab_type": "code",
    "executionInfo": {
     "elapsed": 779323,
     "status": "ok",
     "timestamp": 1585617905240,
     "user": {
      "displayName": "SuParX -K",
      "photoUrl": "https://lh3.googleusercontent.com/a-/AOh14GgAhLtiQrZfK-FHgn5GBmgExX619ygpOPHHdN4ZkU0=s64",
      "userId": "05876132496561296136"
     },
     "user_tz": -540
    },
    "id": "zAN0hC9M1IpN",
    "outputId": "6dec3e26-23c5-4ff8-cab7-d515477bda7a"
   },
   "outputs": [
    {
     "data": {
      "text/plain": [
       "1    19499\n",
       "0    19373\n",
       "dtype: int64"
      ]
     },
     "execution_count": 8,
     "metadata": {},
     "output_type": "execute_result"
    }
   ],
   "source": [
    "pd.Series(y_train).value_counts()\n",
    "# 1    19499\n",
    "# 0    19373            total = 38,872  y_train = np.array 38,872"
   ]
  },
  {
   "cell_type": "code",
   "execution_count": 9,
   "metadata": {
    "colab": {
     "base_uri": "https://localhost:8080/",
     "height": 54
    },
    "colab_type": "code",
    "executionInfo": {
     "elapsed": 779492,
     "status": "ok",
     "timestamp": 1585617905469,
     "user": {
      "displayName": "SuParX -K",
      "photoUrl": "https://lh3.googleusercontent.com/a-/AOh14GgAhLtiQrZfK-FHgn5GBmgExX619ygpOPHHdN4ZkU0=s64",
      "userId": "05876132496561296136"
     },
     "user_tz": -540
    },
    "id": "hoDJ1YXt5yq7",
    "outputId": "744bc55f-e6bd-4415-8c4f-8be6a77ce1ad"
   },
   "outputs": [
    {
     "data": {
      "text/plain": [
       "\"  # 저장했으면 비활성 처리\\ndf_xtrain.to_csv(dir_base + remake + 'df_xtrain_remake.csv')\\ndf_ytrain.to_csv(dir_base + remake + 'df_ytrain_remake.csv')\\n\""
      ]
     },
     "execution_count": 9,
     "metadata": {},
     "output_type": "execute_result"
    }
   ],
   "source": [
    "# 제대로 작성이 됬는지 확인 다 끝났으면, 저장한다. 저장끝났으면 비활성화 처리\n",
    "\n",
    "\n",
    "\"\"\"  # 저장했으면 비활성 처리\n",
    "df_xtrain.to_csv(dir_base + remake + 'df_xtrain_remake.csv')\n",
    "df_ytrain.to_csv(dir_base + remake + 'df_ytrain_remake.csv')\n",
    "\"\"\""
   ]
  },
  {
   "cell_type": "markdown",
   "metadata": {
    "colab_type": "text",
    "id": "N0IWulmegR7U"
   },
   "source": [
    "# LGBM Classifier 모델 적용\n",
    " -  Light Gradient Boost Method 적용\n",
    " - [출처] :  YW & YY's Python, Machine & Deep Learning\n",
    " > - Light GBM: A Highly Efficient Gradient Boosting Decision Tree 논문 리뷰\n",
    " > - [Light GBM 모델 설명 및 사용법](https://greeksharifa.github.io/machine_learning/2019/12/09/Light-GBM/)\n",
    "\n",
    " > 다중 분류, 클릭 예측, 순위 학습 등에 주로 사용되는 Gradient Boosting Decision Tree (GBDT)는 굉장히 유용한 머신러닝 알고리즘이며, XGBoost나 pGBRT 등 효율적인 기법의 설계를 가능하게 하였다. 이러한 구현은 많은 엔지니어링 최적화를 이룩하였지만 고차원이고 큰 데이터 셋에서는 만족스러운 결과를 내지 못하는 경우도 있었다. 왜냐하면 모든 가능한 분할점에 대해 정보 획득을 평가하기 위해 데이터 개체 전부를 스캔해야 했기 때문이다. 이는 당연하게도, 굉장히 시간 소모적이다.\n"
   ]
  },
  {
   "cell_type": "code",
   "execution_count": 10,
   "metadata": {
    "colab": {
     "base_uri": "https://localhost:8080/",
     "height": 1000
    },
    "colab_type": "code",
    "executionInfo": {
     "elapsed": 2898666,
     "status": "ok",
     "timestamp": 1585620024669,
     "user": {
      "displayName": "SuParX -K",
      "photoUrl": "https://lh3.googleusercontent.com/a-/AOh14GgAhLtiQrZfK-FHgn5GBmgExX619ygpOPHHdN4ZkU0=s64",
      "userId": "05876132496561296136"
     },
     "user_tz": -540
    },
    "id": "Ny69by1mUWln",
    "outputId": "f27d8775-2846-4d50-f5a0-41e2fae278d8"
   },
   "outputs": [
    {
     "name": "stdout",
     "output_type": "stream",
     "text": [
      "|   iter    |  target   | colsam... | learni... | n_esti... | num_le... | reg_alpha | reg_la... | subsample |\n",
      "-------------------------------------------------------------------------------------------------------------\n",
      "| \u001b[0m 1       \u001b[0m | \u001b[0m 0.652   \u001b[0m | \u001b[0m 0.6562  \u001b[0m | \u001b[0m 0.03671 \u001b[0m | \u001b[0m 277.5   \u001b[0m | \u001b[0m 251.0   \u001b[0m | \u001b[0m 2.874   \u001b[0m | \u001b[0m 28.99   \u001b[0m | \u001b[0m 0.02663 \u001b[0m |\n",
      "| \u001b[0m 2       \u001b[0m | \u001b[0m 0.6485  \u001b[0m | \u001b[0m 0.9872  \u001b[0m | \u001b[0m 0.0433  \u001b[0m | \u001b[0m 1.009e+0\u001b[0m | \u001b[0m 55.61   \u001b[0m | \u001b[0m 5.47    \u001b[0m | \u001b[0m 43.95   \u001b[0m | \u001b[0m 0.8761  \u001b[0m |\n",
      "| \u001b[0m 3       \u001b[0m | \u001b[0m 0.6423  \u001b[0m | \u001b[0m 0.1752  \u001b[0m | \u001b[0m 0.05512 \u001b[0m | \u001b[0m 863.1   \u001b[0m | \u001b[0m 223.1   \u001b[0m | \u001b[0m 9.379   \u001b[0m | \u001b[0m 20.77   \u001b[0m | \u001b[0m 0.3431  \u001b[0m |\n",
      "| \u001b[0m 4       \u001b[0m | \u001b[0m 0.6396  \u001b[0m | \u001b[0m 0.1752  \u001b[0m | \u001b[0m 0.003352\u001b[0m | \u001b[0m 829.2   \u001b[0m | \u001b[0m 203.7   \u001b[0m | \u001b[0m 9.147   \u001b[0m | \u001b[0m 25.43   \u001b[0m | \u001b[0m 0.7816  \u001b[0m |\n",
      "| \u001b[0m 5       \u001b[0m | \u001b[0m 0.6371  \u001b[0m | \u001b[0m 0.6484  \u001b[0m | \u001b[0m 0.07355 \u001b[0m | \u001b[0m 718.8   \u001b[0m | \u001b[0m 514.9   \u001b[0m | \u001b[0m 9.648   \u001b[0m | \u001b[0m 38.06   \u001b[0m | \u001b[0m 0.875   \u001b[0m |\n",
      "| \u001b[0m 6       \u001b[0m | \u001b[0m 0.6421  \u001b[0m | \u001b[0m 0.8293  \u001b[0m | \u001b[0m 0.09185 \u001b[0m | \u001b[0m 184.2   \u001b[0m | \u001b[0m 352.4   \u001b[0m | \u001b[0m 3.074   \u001b[0m | \u001b[0m 20.52   \u001b[0m | \u001b[0m 0.06241 \u001b[0m |\n",
      "| \u001b[0m 7       \u001b[0m | \u001b[0m 0.6483  \u001b[0m | \u001b[0m 0.2422  \u001b[0m | \u001b[0m 0.05864 \u001b[0m | \u001b[0m 471.1   \u001b[0m | \u001b[0m 73.11   \u001b[0m | \u001b[0m 2.068   \u001b[0m | \u001b[0m 11.15   \u001b[0m | \u001b[0m 0.7492  \u001b[0m |\n",
      "| \u001b[0m 8       \u001b[0m | \u001b[0m 0.6407  \u001b[0m | \u001b[0m 0.4131  \u001b[0m | \u001b[0m 0.06385 \u001b[0m | \u001b[0m 461.4   \u001b[0m | \u001b[0m 791.7   \u001b[0m | \u001b[0m 4.209   \u001b[0m | \u001b[0m 14.74   \u001b[0m | \u001b[0m 0.7037  \u001b[0m |\n",
      "| \u001b[0m 9       \u001b[0m | \u001b[0m 0.6277  \u001b[0m | \u001b[0m 0.1592  \u001b[0m | \u001b[0m 0.03852 \u001b[0m | \u001b[0m 16.71   \u001b[0m | \u001b[0m 301.0   \u001b[0m | \u001b[0m 8.764   \u001b[0m | \u001b[0m 34.9    \u001b[0m | \u001b[0m 0.001852\u001b[0m |\n",
      "| \u001b[0m 10      \u001b[0m | \u001b[0m 0.6486  \u001b[0m | \u001b[0m 0.319   \u001b[0m | \u001b[0m 0.08802 \u001b[0m | \u001b[0m 208.2   \u001b[0m | \u001b[0m 199.4   \u001b[0m | \u001b[0m 8.381   \u001b[0m | \u001b[0m 26.5    \u001b[0m | \u001b[0m 0.7219  \u001b[0m |\n",
      "| \u001b[0m 11      \u001b[0m | \u001b[0m 0.6332  \u001b[0m | \u001b[0m 0.4601  \u001b[0m | \u001b[0m 0.0868  \u001b[0m | \u001b[0m 951.7   \u001b[0m | \u001b[0m 649.7   \u001b[0m | \u001b[0m 1.889   \u001b[0m | \u001b[0m 7.434   \u001b[0m | \u001b[0m 0.407   \u001b[0m |\n",
      "| \u001b[0m 12      \u001b[0m | \u001b[0m 0.6384  \u001b[0m | \u001b[0m 0.5558  \u001b[0m | \u001b[0m 0.06647 \u001b[0m | \u001b[0m 627.3   \u001b[0m | \u001b[0m 314.2   \u001b[0m | \u001b[0m 4.576   \u001b[0m | \u001b[0m 37.14   \u001b[0m | \u001b[0m 0.608   \u001b[0m |\n",
      "| \u001b[0m 13      \u001b[0m | \u001b[0m 0.6448  \u001b[0m | \u001b[0m 0.09483 \u001b[0m | \u001b[0m 0.06277 \u001b[0m | \u001b[0m 245.7   \u001b[0m | \u001b[0m 628.6   \u001b[0m | \u001b[0m 8.051   \u001b[0m | \u001b[0m 4.383   \u001b[0m | \u001b[0m 0.6622  \u001b[0m |\n",
      "| \u001b[0m 14      \u001b[0m | \u001b[0m 0.6489  \u001b[0m | \u001b[0m 0.421   \u001b[0m | \u001b[0m 0.02003 \u001b[0m | \u001b[0m 600.4   \u001b[0m | \u001b[0m 627.2   \u001b[0m | \u001b[0m 6.307   \u001b[0m | \u001b[0m 1.988   \u001b[0m | \u001b[0m 0.04134 \u001b[0m |\n",
      "| \u001b[0m 15      \u001b[0m | \u001b[0m 0.6335  \u001b[0m | \u001b[0m 0.8506  \u001b[0m | \u001b[0m 0.08698 \u001b[0m | \u001b[0m 1.009e+0\u001b[0m | \u001b[0m 439.6   \u001b[0m | \u001b[0m 0.8381  \u001b[0m | \u001b[0m 49.78   \u001b[0m | \u001b[0m 0.6004  \u001b[0m |\n",
      "| \u001b[0m 16      \u001b[0m | \u001b[0m 0.6256  \u001b[0m | \u001b[0m 0.09491 \u001b[0m | \u001b[0m 0.004327\u001b[0m | \u001b[0m 23.54   \u001b[0m | \u001b[0m 1.023e+0\u001b[0m | \u001b[0m 1.339   \u001b[0m | \u001b[0m 14.39   \u001b[0m | \u001b[0m 0.2321  \u001b[0m |\n",
      "| \u001b[0m 17      \u001b[0m | \u001b[0m 0.6245  \u001b[0m | \u001b[0m 0.03356 \u001b[0m | \u001b[0m 0.003711\u001b[0m | \u001b[0m 204.6   \u001b[0m | \u001b[0m 199.0   \u001b[0m | \u001b[0m 9.556   \u001b[0m | \u001b[0m 28.37   \u001b[0m | \u001b[0m 0.7427  \u001b[0m |\n",
      "| \u001b[0m 18      \u001b[0m | \u001b[0m 0.6109  \u001b[0m | \u001b[0m 1.0     \u001b[0m | \u001b[0m 0.000192\u001b[0m | \u001b[0m 1.024e+0\u001b[0m | \u001b[0m 1.024e+0\u001b[0m | \u001b[0m 0.0     \u001b[0m | \u001b[0m 0.0     \u001b[0m | \u001b[0m 1.0     \u001b[0m |\n",
      "| \u001b[0m 19      \u001b[0m | \u001b[0m 0.6374  \u001b[0m | \u001b[0m 1.0     \u001b[0m | \u001b[0m 0.1     \u001b[0m | \u001b[0m 654.8   \u001b[0m | \u001b[0m 1.024e+0\u001b[0m | \u001b[0m 0.0     \u001b[0m | \u001b[0m 0.0     \u001b[0m | \u001b[0m 1.0     \u001b[0m |\n",
      "| \u001b[0m 20      \u001b[0m | \u001b[0m 0.623   \u001b[0m | \u001b[0m 0.1485  \u001b[0m | \u001b[0m 0.03416 \u001b[0m | \u001b[0m 23.86   \u001b[0m | \u001b[0m 655.6   \u001b[0m | \u001b[0m 1.064   \u001b[0m | \u001b[0m 0.5371  \u001b[0m | \u001b[0m 0.9705  \u001b[0m |\n",
      "| \u001b[0m 21      \u001b[0m | \u001b[0m 0.6324  \u001b[0m | \u001b[0m 0.3822  \u001b[0m | \u001b[0m 0.02269 \u001b[0m | \u001b[0m 19.87   \u001b[0m | \u001b[0m 30.59   \u001b[0m | \u001b[0m 8.086   \u001b[0m | \u001b[0m 0.1947  \u001b[0m | \u001b[0m 0.5977  \u001b[0m |\n",
      "| \u001b[0m 22      \u001b[0m | \u001b[0m 0.6383  \u001b[0m | \u001b[0m 1.0     \u001b[0m | \u001b[0m 0.1     \u001b[0m | \u001b[0m 343.2   \u001b[0m | \u001b[0m 1.024e+0\u001b[0m | \u001b[0m 0.0     \u001b[0m | \u001b[0m 0.0     \u001b[0m | \u001b[0m 2.757e-0\u001b[0m |\n",
      "| \u001b[95m 23      \u001b[0m | \u001b[95m 0.6533  \u001b[0m | \u001b[95m 0.7904  \u001b[0m | \u001b[95m 0.04916 \u001b[0m | \u001b[95m 279.1   \u001b[0m | \u001b[95m 40.26   \u001b[0m | \u001b[95m 0.1542  \u001b[0m | \u001b[95m 0.6066  \u001b[0m | \u001b[95m 0.202   \u001b[0m |\n",
      "| \u001b[0m 24      \u001b[0m | \u001b[0m 0.6429  \u001b[0m | \u001b[0m 0.3173  \u001b[0m | \u001b[0m 0.04885 \u001b[0m | \u001b[0m 244.6   \u001b[0m | \u001b[0m 631.6   \u001b[0m | \u001b[0m 1.215   \u001b[0m | \u001b[0m 8.544   \u001b[0m | \u001b[0m 0.3712  \u001b[0m |\n",
      "| \u001b[0m 25      \u001b[0m | \u001b[0m 0.6494  \u001b[0m | \u001b[0m 0.755   \u001b[0m | \u001b[0m 0.01636 \u001b[0m | \u001b[0m 597.6   \u001b[0m | \u001b[0m 629.3   \u001b[0m | \u001b[0m 6.373   \u001b[0m | \u001b[0m 0.8413  \u001b[0m | \u001b[0m 0.7825  \u001b[0m |\n",
      "| \u001b[95m 26      \u001b[0m | \u001b[95m 0.6554  \u001b[0m | \u001b[95m 0.4149  \u001b[0m | \u001b[95m 0.02564 \u001b[0m | \u001b[95m 767.4   \u001b[0m | \u001b[95m 29.06   \u001b[0m | \u001b[95m 1.375   \u001b[0m | \u001b[95m 0.6522  \u001b[0m | \u001b[95m 0.2607  \u001b[0m |\n",
      "| \u001b[0m 27      \u001b[0m | \u001b[0m 0.6468  \u001b[0m | \u001b[0m 0.5867  \u001b[0m | \u001b[0m 0.07    \u001b[0m | \u001b[0m 30.38   \u001b[0m | \u001b[0m 203.6   \u001b[0m | \u001b[0m 2.413   \u001b[0m | \u001b[0m 0.06073 \u001b[0m | \u001b[0m 0.4765  \u001b[0m |\n",
      "| \u001b[0m 28      \u001b[0m | \u001b[0m 0.6358  \u001b[0m | \u001b[0m 0.7094  \u001b[0m | \u001b[0m 0.0928  \u001b[0m | \u001b[0m 806.1   \u001b[0m | \u001b[0m 866.5   \u001b[0m | \u001b[0m 8.583   \u001b[0m | \u001b[0m 47.96   \u001b[0m | \u001b[0m 0.7833  \u001b[0m |\n",
      "| \u001b[0m 29      \u001b[0m | \u001b[0m 0.6428  \u001b[0m | \u001b[0m 0.6724  \u001b[0m | \u001b[0m 0.08842 \u001b[0m | \u001b[0m 18.3    \u001b[0m | \u001b[0m 418.7   \u001b[0m | \u001b[0m 2.919   \u001b[0m | \u001b[0m 3.101   \u001b[0m | \u001b[0m 0.166   \u001b[0m |\n",
      "| \u001b[0m 30      \u001b[0m | \u001b[0m 0.6433  \u001b[0m | \u001b[0m 0.5967  \u001b[0m | \u001b[0m 0.06792 \u001b[0m | \u001b[0m 154.3   \u001b[0m | \u001b[0m 870.9   \u001b[0m | \u001b[0m 6.3     \u001b[0m | \u001b[0m 0.5335  \u001b[0m | \u001b[0m 0.3797  \u001b[0m |\n",
      "| \u001b[0m 31      \u001b[0m | \u001b[0m 0.6341  \u001b[0m | \u001b[0m 0.8078  \u001b[0m | \u001b[0m 0.08529 \u001b[0m | \u001b[0m 1.023e+0\u001b[0m | \u001b[0m 798.3   \u001b[0m | \u001b[0m 4.147   \u001b[0m | \u001b[0m 37.38   \u001b[0m | \u001b[0m 0.6737  \u001b[0m |\n",
      "| \u001b[0m 32      \u001b[0m | \u001b[0m 0.6452  \u001b[0m | \u001b[0m 0.4669  \u001b[0m | \u001b[0m 0.03729 \u001b[0m | \u001b[0m 454.2   \u001b[0m | \u001b[0m 248.3   \u001b[0m | \u001b[0m 1.609   \u001b[0m | \u001b[0m 0.6377  \u001b[0m | \u001b[0m 0.3647  \u001b[0m |\n",
      "| \u001b[0m 33      \u001b[0m | \u001b[0m 0.6357  \u001b[0m | \u001b[0m 0.8709  \u001b[0m | \u001b[0m 0.09668 \u001b[0m | \u001b[0m 1.023e+0\u001b[0m | \u001b[0m 232.5   \u001b[0m | \u001b[0m 9.577   \u001b[0m | \u001b[0m 4.829   \u001b[0m | \u001b[0m 0.8725  \u001b[0m |\n",
      "| \u001b[0m 34      \u001b[0m | \u001b[0m 0.6497  \u001b[0m | \u001b[0m 0.5124  \u001b[0m | \u001b[0m 0.02424 \u001b[0m | \u001b[0m 901.6   \u001b[0m | \u001b[0m 1.021e+0\u001b[0m | \u001b[0m 7.566   \u001b[0m | \u001b[0m 49.62   \u001b[0m | \u001b[0m 0.3636  \u001b[0m |\n",
      "| \u001b[0m 35      \u001b[0m | \u001b[0m 0.6451  \u001b[0m | \u001b[0m 0.1586  \u001b[0m | \u001b[0m 0.005856\u001b[0m | \u001b[0m 731.1   \u001b[0m | \u001b[0m 330.6   \u001b[0m | \u001b[0m 0.8662  \u001b[0m | \u001b[0m 0.01817 \u001b[0m | \u001b[0m 0.9109  \u001b[0m |\n",
      "| \u001b[0m 36      \u001b[0m | \u001b[0m 0.6379  \u001b[0m | \u001b[0m 0.5905  \u001b[0m | \u001b[0m 0.02704 \u001b[0m | \u001b[0m 24.43   \u001b[0m | \u001b[0m 822.6   \u001b[0m | \u001b[0m 8.24    \u001b[0m | \u001b[0m 45.93   \u001b[0m | \u001b[0m 0.9688  \u001b[0m |\n",
      "| \u001b[0m 37      \u001b[0m | \u001b[0m 0.6398  \u001b[0m | \u001b[0m 0.693   \u001b[0m | \u001b[0m 0.0712  \u001b[0m | \u001b[0m 469.0   \u001b[0m | \u001b[0m 1.022e+0\u001b[0m | \u001b[0m 4.125   \u001b[0m | \u001b[0m 48.69   \u001b[0m | \u001b[0m 0.3855  \u001b[0m |\n",
      "| \u001b[0m 38      \u001b[0m | \u001b[0m 0.64    \u001b[0m | \u001b[0m 0.1506  \u001b[0m | \u001b[0m 0.01503 \u001b[0m | \u001b[0m 229.3   \u001b[0m | \u001b[0m 1.023e+0\u001b[0m | \u001b[0m 7.765   \u001b[0m | \u001b[0m 46.44   \u001b[0m | \u001b[0m 0.2885  \u001b[0m |\n",
      "| \u001b[0m 39      \u001b[0m | \u001b[0m 0.6345  \u001b[0m | \u001b[0m 0.1675  \u001b[0m | \u001b[0m 0.04577 \u001b[0m | \u001b[0m 450.8   \u001b[0m | \u001b[0m 506.0   \u001b[0m | \u001b[0m 1.023   \u001b[0m | \u001b[0m 2.604   \u001b[0m | \u001b[0m 0.5773  \u001b[0m |\n",
      "| \u001b[0m 40      \u001b[0m | \u001b[0m 0.6388  \u001b[0m | \u001b[0m 0.6402  \u001b[0m | \u001b[0m 0.08228 \u001b[0m | \u001b[0m 294.6   \u001b[0m | \u001b[0m 192.7   \u001b[0m | \u001b[0m 1.628   \u001b[0m | \u001b[0m 0.1858  \u001b[0m | \u001b[0m 0.2222  \u001b[0m |\n",
      "| \u001b[0m 41      \u001b[0m | \u001b[0m 0.644   \u001b[0m | \u001b[0m 0.06023 \u001b[0m | \u001b[0m 0.0262  \u001b[0m | \u001b[0m 625.6   \u001b[0m | \u001b[0m 23.44   \u001b[0m | \u001b[0m 3.421   \u001b[0m | \u001b[0m 43.47   \u001b[0m | \u001b[0m 0.1252  \u001b[0m |\n",
      "| \u001b[0m 42      \u001b[0m | \u001b[0m 0.6358  \u001b[0m | \u001b[0m 0.7499  \u001b[0m | \u001b[0m 0.09675 \u001b[0m | \u001b[0m 605.4   \u001b[0m | \u001b[0m 148.4   \u001b[0m | \u001b[0m 0.08678 \u001b[0m | \u001b[0m 2.441   \u001b[0m | \u001b[0m 0.1167  \u001b[0m |\n",
      "| \u001b[0m 43      \u001b[0m | \u001b[0m 0.6491  \u001b[0m | \u001b[0m 0.1702  \u001b[0m | \u001b[0m 0.0361  \u001b[0m | \u001b[0m 613.3   \u001b[0m | \u001b[0m 844.0   \u001b[0m | \u001b[0m 6.592   \u001b[0m | \u001b[0m 47.03   \u001b[0m | \u001b[0m 0.6943  \u001b[0m |\n",
      "| \u001b[0m 44      \u001b[0m | \u001b[0m 0.6315  \u001b[0m | \u001b[0m 0.1309  \u001b[0m | \u001b[0m 0.05345 \u001b[0m | \u001b[0m 767.3   \u001b[0m | \u001b[0m 710.6   \u001b[0m | \u001b[0m 2.827   \u001b[0m | \u001b[0m 1.945   \u001b[0m | \u001b[0m 0.0137  \u001b[0m |\n"
     ]
    },
    {
     "name": "stdout",
     "output_type": "stream",
     "text": [
      "| \u001b[0m 45      \u001b[0m | \u001b[0m 0.6532  \u001b[0m | \u001b[0m 0.3673  \u001b[0m | \u001b[0m 0.02692 \u001b[0m | \u001b[0m 315.7   \u001b[0m | \u001b[0m 864.5   \u001b[0m | \u001b[0m 6.504   \u001b[0m | \u001b[0m 48.78   \u001b[0m | \u001b[0m 0.3793  \u001b[0m |\n",
      "| \u001b[0m 46      \u001b[0m | \u001b[0m 0.6493  \u001b[0m | \u001b[0m 0.4321  \u001b[0m | \u001b[0m 0.00187 \u001b[0m | \u001b[0m 890.4   \u001b[0m | \u001b[0m 924.7   \u001b[0m | \u001b[0m 2.315   \u001b[0m | \u001b[0m 1.815   \u001b[0m | \u001b[0m 0.481   \u001b[0m |\n",
      "| \u001b[0m 47      \u001b[0m | \u001b[0m 0.6464  \u001b[0m | \u001b[0m 0.1966  \u001b[0m | \u001b[0m 0.08063 \u001b[0m | \u001b[0m 1.004e+0\u001b[0m | \u001b[0m 23.88   \u001b[0m | \u001b[0m 5.728   \u001b[0m | \u001b[0m 1.488   \u001b[0m | \u001b[0m 0.927   \u001b[0m |\n",
      "| \u001b[0m 48      \u001b[0m | \u001b[0m 0.6472  \u001b[0m | \u001b[0m 0.06618 \u001b[0m | \u001b[0m 0.04069 \u001b[0m | \u001b[0m 892.2   \u001b[0m | \u001b[0m 20.69   \u001b[0m | \u001b[0m 3.52    \u001b[0m | \u001b[0m 44.83   \u001b[0m | \u001b[0m 0.3976  \u001b[0m |\n",
      "| \u001b[0m 49      \u001b[0m | \u001b[0m 0.6458  \u001b[0m | \u001b[0m 0.2897  \u001b[0m | \u001b[0m 0.03932 \u001b[0m | \u001b[0m 217.5   \u001b[0m | \u001b[0m 243.0   \u001b[0m | \u001b[0m 0.4798  \u001b[0m | \u001b[0m 0.193   \u001b[0m | \u001b[0m 0.8839  \u001b[0m |\n",
      "| \u001b[0m 50      \u001b[0m | \u001b[0m 0.6393  \u001b[0m | \u001b[0m 0.1786  \u001b[0m | \u001b[0m 0.009407\u001b[0m | \u001b[0m 163.7   \u001b[0m | \u001b[0m 509.9   \u001b[0m | \u001b[0m 1.241   \u001b[0m | \u001b[0m 48.69   \u001b[0m | \u001b[0m 0.1831  \u001b[0m |\n",
      "| \u001b[0m 51      \u001b[0m | \u001b[0m 0.651   \u001b[0m | \u001b[0m 0.7626  \u001b[0m | \u001b[0m 0.02771 \u001b[0m | \u001b[0m 441.5   \u001b[0m | \u001b[0m 633.5   \u001b[0m | \u001b[0m 1.57    \u001b[0m | \u001b[0m 49.25   \u001b[0m | \u001b[0m 0.7582  \u001b[0m |\n",
      "| \u001b[0m 52      \u001b[0m | \u001b[0m 0.6501  \u001b[0m | \u001b[0m 0.3032  \u001b[0m | \u001b[0m 0.003053\u001b[0m | \u001b[0m 897.7   \u001b[0m | \u001b[0m 460.3   \u001b[0m | \u001b[0m 1.462   \u001b[0m | \u001b[0m 0.3586  \u001b[0m | \u001b[0m 0.786   \u001b[0m |\n",
      "| \u001b[0m 53      \u001b[0m | \u001b[0m 0.6493  \u001b[0m | \u001b[0m 0.203   \u001b[0m | \u001b[0m 0.04342 \u001b[0m | \u001b[0m 334.0   \u001b[0m | \u001b[0m 457.6   \u001b[0m | \u001b[0m 1.664   \u001b[0m | \u001b[0m 47.87   \u001b[0m | \u001b[0m 0.8564  \u001b[0m |\n",
      "| \u001b[0m 54      \u001b[0m | \u001b[0m 0.6453  \u001b[0m | \u001b[0m 0.8758  \u001b[0m | \u001b[0m 0.04679 \u001b[0m | \u001b[0m 462.2   \u001b[0m | \u001b[0m 180.2   \u001b[0m | \u001b[0m 0.2202  \u001b[0m | \u001b[0m 46.51   \u001b[0m | \u001b[0m 0.1804  \u001b[0m |\n",
      "| \u001b[0m 55      \u001b[0m | \u001b[0m 0.6342  \u001b[0m | \u001b[0m 0.1287  \u001b[0m | \u001b[0m 0.07829 \u001b[0m | \u001b[0m 1.017e+0\u001b[0m | \u001b[0m 559.3   \u001b[0m | \u001b[0m 9.22    \u001b[0m | \u001b[0m 5.408   \u001b[0m | \u001b[0m 0.7586  \u001b[0m |\n",
      "| \u001b[0m 56      \u001b[0m | \u001b[0m 0.6513  \u001b[0m | \u001b[0m 0.6081  \u001b[0m | \u001b[0m 0.04261 \u001b[0m | \u001b[0m 131.4   \u001b[0m | \u001b[0m 16.66   \u001b[0m | \u001b[0m 1.854   \u001b[0m | \u001b[0m 43.05   \u001b[0m | \u001b[0m 0.7972  \u001b[0m |\n",
      "| \u001b[0m 57      \u001b[0m | \u001b[0m 0.6514  \u001b[0m | \u001b[0m 0.8781  \u001b[0m | \u001b[0m 0.06156 \u001b[0m | \u001b[0m 265.1   \u001b[0m | \u001b[0m 92.31   \u001b[0m | \u001b[0m 0.656   \u001b[0m | \u001b[0m 46.8    \u001b[0m | \u001b[0m 0.31    \u001b[0m |\n",
      "| \u001b[0m 58      \u001b[0m | \u001b[0m 0.639   \u001b[0m | \u001b[0m 0.7384  \u001b[0m | \u001b[0m 0.06924 \u001b[0m | \u001b[0m 501.3   \u001b[0m | \u001b[0m 416.7   \u001b[0m | \u001b[0m 0.2933  \u001b[0m | \u001b[0m 48.0    \u001b[0m | \u001b[0m 0.4241  \u001b[0m |\n",
      "| \u001b[0m 59      \u001b[0m | \u001b[0m 0.6491  \u001b[0m | \u001b[0m 0.4959  \u001b[0m | \u001b[0m 0.05796 \u001b[0m | \u001b[0m 183.9   \u001b[0m | \u001b[0m 75.81   \u001b[0m | \u001b[0m 0.4358  \u001b[0m | \u001b[0m 0.02725 \u001b[0m | \u001b[0m 0.6906  \u001b[0m |\n",
      "| \u001b[95m 60      \u001b[0m | \u001b[95m 0.656   \u001b[0m | \u001b[95m 0.7622  \u001b[0m | \u001b[95m 0.0379  \u001b[0m | \u001b[95m 455.9   \u001b[0m | \u001b[95m 16.74   \u001b[0m | \u001b[95m 0.4618  \u001b[0m | \u001b[95m 48.17   \u001b[0m | \u001b[95m 0.2173  \u001b[0m |\n",
      "| \u001b[0m 61      \u001b[0m | \u001b[0m 0.6353  \u001b[0m | \u001b[0m 0.6655  \u001b[0m | \u001b[0m 0.0776  \u001b[0m | \u001b[0m 1.023e+0\u001b[0m | \u001b[0m 935.0   \u001b[0m | \u001b[0m 2.133   \u001b[0m | \u001b[0m 47.77   \u001b[0m | \u001b[0m 0.4894  \u001b[0m |\n",
      "| \u001b[0m 62      \u001b[0m | \u001b[0m 0.6524  \u001b[0m | \u001b[0m 0.4461  \u001b[0m | \u001b[0m 0.02355 \u001b[0m | \u001b[0m 235.7   \u001b[0m | \u001b[0m 695.1   \u001b[0m | \u001b[0m 8.881   \u001b[0m | \u001b[0m 49.12   \u001b[0m | \u001b[0m 0.8069  \u001b[0m |\n",
      "| \u001b[0m 63      \u001b[0m | \u001b[0m 0.6375  \u001b[0m | \u001b[0m 0.9732  \u001b[0m | \u001b[0m 0.07524 \u001b[0m | \u001b[0m 505.5   \u001b[0m | \u001b[0m 927.3   \u001b[0m | \u001b[0m 9.766   \u001b[0m | \u001b[0m 3.404   \u001b[0m | \u001b[0m 0.9079  \u001b[0m |\n",
      "| \u001b[0m 64      \u001b[0m | \u001b[0m 0.6337  \u001b[0m | \u001b[0m 0.5731  \u001b[0m | \u001b[0m 0.09764 \u001b[0m | \u001b[0m 846.1   \u001b[0m | \u001b[0m 579.2   \u001b[0m | \u001b[0m 1.451   \u001b[0m | \u001b[0m 48.29   \u001b[0m | \u001b[0m 0.2438  \u001b[0m |\n",
      "| \u001b[0m 65      \u001b[0m | \u001b[0m 0.6447  \u001b[0m | \u001b[0m 0.4924  \u001b[0m | \u001b[0m 0.05128 \u001b[0m | \u001b[0m 587.8   \u001b[0m | \u001b[0m 711.9   \u001b[0m | \u001b[0m 9.771   \u001b[0m | \u001b[0m 49.07   \u001b[0m | \u001b[0m 0.9479  \u001b[0m |\n",
      "| \u001b[0m 66      \u001b[0m | \u001b[0m 0.6397  \u001b[0m | \u001b[0m 0.944   \u001b[0m | \u001b[0m 0.04607 \u001b[0m | \u001b[0m 821.9   \u001b[0m | \u001b[0m 351.5   \u001b[0m | \u001b[0m 0.2922  \u001b[0m | \u001b[0m 49.75   \u001b[0m | \u001b[0m 0.5458  \u001b[0m |\n",
      "| \u001b[0m 67      \u001b[0m | \u001b[0m 0.6539  \u001b[0m | \u001b[0m 0.2546  \u001b[0m | \u001b[0m 0.02546 \u001b[0m | \u001b[0m 548.4   \u001b[0m | \u001b[0m 16.24   \u001b[0m | \u001b[0m 1.064   \u001b[0m | \u001b[0m 5.66    \u001b[0m | \u001b[0m 0.9122  \u001b[0m |\n",
      "| \u001b[0m 68      \u001b[0m | \u001b[0m 0.6524  \u001b[0m | \u001b[0m 0.9204  \u001b[0m | \u001b[0m 0.01663 \u001b[0m | \u001b[0m 940.9   \u001b[0m | \u001b[0m 104.3   \u001b[0m | \u001b[0m 0.8541  \u001b[0m | \u001b[0m 12.1    \u001b[0m | \u001b[0m 0.03349 \u001b[0m |\n",
      "| \u001b[0m 69      \u001b[0m | \u001b[0m 0.6421  \u001b[0m | \u001b[0m 0.6393  \u001b[0m | \u001b[0m 0.04756 \u001b[0m | \u001b[0m 777.5   \u001b[0m | \u001b[0m 1.015e+0\u001b[0m | \u001b[0m 4.105   \u001b[0m | \u001b[0m 46.84   \u001b[0m | \u001b[0m 0.6649  \u001b[0m |\n",
      "| \u001b[0m 70      \u001b[0m | \u001b[0m 0.6398  \u001b[0m | \u001b[0m 0.796   \u001b[0m | \u001b[0m 0.08962 \u001b[0m | \u001b[0m 315.9   \u001b[0m | \u001b[0m 324.6   \u001b[0m | \u001b[0m 0.899   \u001b[0m | \u001b[0m 43.81   \u001b[0m | \u001b[0m 0.9945  \u001b[0m |\n",
      "| \u001b[0m 71      \u001b[0m | \u001b[0m 0.6535  \u001b[0m | \u001b[0m 0.6908  \u001b[0m | \u001b[0m 0.01385 \u001b[0m | \u001b[0m 341.7   \u001b[0m | \u001b[0m 615.7   \u001b[0m | \u001b[0m 8.055   \u001b[0m | \u001b[0m 48.12   \u001b[0m | \u001b[0m 0.3829  \u001b[0m |\n",
      "| \u001b[0m 72      \u001b[0m | \u001b[0m 0.6546  \u001b[0m | \u001b[0m 0.9628  \u001b[0m | \u001b[0m 0.06263 \u001b[0m | \u001b[0m 210.7   \u001b[0m | \u001b[0m 20.58   \u001b[0m | \u001b[0m 0.2548  \u001b[0m | \u001b[0m 37.71   \u001b[0m | \u001b[0m 0.1499  \u001b[0m |\n",
      "| \u001b[0m 73      \u001b[0m | \u001b[0m 0.6485  \u001b[0m | \u001b[0m 0.6298  \u001b[0m | \u001b[0m 0.0928  \u001b[0m | \u001b[0m 29.53   \u001b[0m | \u001b[0m 60.14   \u001b[0m | \u001b[0m 0.4856  \u001b[0m | \u001b[0m 41.34   \u001b[0m | \u001b[0m 0.9272  \u001b[0m |\n",
      "| \u001b[0m 74      \u001b[0m | \u001b[0m 0.6465  \u001b[0m | \u001b[0m 0.8169  \u001b[0m | \u001b[0m 0.06944 \u001b[0m | \u001b[0m 294.3   \u001b[0m | \u001b[0m 793.7   \u001b[0m | \u001b[0m 9.826   \u001b[0m | \u001b[0m 36.69   \u001b[0m | \u001b[0m 0.3675  \u001b[0m |\n",
      "| \u001b[0m 75      \u001b[0m | \u001b[0m 0.6493  \u001b[0m | \u001b[0m 0.8182  \u001b[0m | \u001b[0m 0.01027 \u001b[0m | \u001b[0m 190.8   \u001b[0m | \u001b[0m 249.6   \u001b[0m | \u001b[0m 0.002723\u001b[0m | \u001b[0m 49.94   \u001b[0m | \u001b[0m 0.5354  \u001b[0m |\n",
      "| \u001b[0m 76      \u001b[0m | \u001b[0m 0.6513  \u001b[0m | \u001b[0m 0.9505  \u001b[0m | \u001b[0m 0.02377 \u001b[0m | \u001b[0m 198.6   \u001b[0m | \u001b[0m 847.1   \u001b[0m | \u001b[0m 2.785   \u001b[0m | \u001b[0m 49.51   \u001b[0m | \u001b[0m 0.9824  \u001b[0m |\n",
      "| \u001b[0m 77      \u001b[0m | \u001b[0m 0.6516  \u001b[0m | \u001b[0m 0.9315  \u001b[0m | \u001b[0m 0.07568 \u001b[0m | \u001b[0m 392.1   \u001b[0m | \u001b[0m 27.38   \u001b[0m | \u001b[0m 0.67    \u001b[0m | \u001b[0m 15.96   \u001b[0m | \u001b[0m 0.5783  \u001b[0m |\n",
      "| \u001b[0m 78      \u001b[0m | \u001b[0m 0.6487  \u001b[0m | \u001b[0m 0.2391  \u001b[0m | \u001b[0m 0.07459 \u001b[0m | \u001b[0m 363.9   \u001b[0m | \u001b[0m 968.9   \u001b[0m | \u001b[0m 9.438   \u001b[0m | \u001b[0m 48.73   \u001b[0m | \u001b[0m 0.734   \u001b[0m |\n",
      "| \u001b[0m 79      \u001b[0m | \u001b[0m 0.6406  \u001b[0m | \u001b[0m 0.5167  \u001b[0m | \u001b[0m 0.04649 \u001b[0m | \u001b[0m 911.4   \u001b[0m | \u001b[0m 973.2   \u001b[0m | \u001b[0m 1.213   \u001b[0m | \u001b[0m 48.69   \u001b[0m | \u001b[0m 0.5064  \u001b[0m |\n",
      "| \u001b[0m 80      \u001b[0m | \u001b[0m 0.6343  \u001b[0m | \u001b[0m 0.5725  \u001b[0m | \u001b[0m 0.07668 \u001b[0m | \u001b[0m 870.5   \u001b[0m | \u001b[0m 1.011e+0\u001b[0m | \u001b[0m 7.885   \u001b[0m | \u001b[0m 3.186   \u001b[0m | \u001b[0m 0.3855  \u001b[0m |\n",
      "| \u001b[0m 81      \u001b[0m | \u001b[0m 0.6507  \u001b[0m | \u001b[0m 0.2008  \u001b[0m | \u001b[0m 0.01828 \u001b[0m | \u001b[0m 948.1   \u001b[0m | \u001b[0m 854.1   \u001b[0m | \u001b[0m 9.921   \u001b[0m | \u001b[0m 8.513   \u001b[0m | \u001b[0m 0.9072  \u001b[0m |\n",
      "| \u001b[0m 82      \u001b[0m | \u001b[0m 0.6372  \u001b[0m | \u001b[0m 0.9429  \u001b[0m | \u001b[0m 0.06347 \u001b[0m | \u001b[0m 698.4   \u001b[0m | \u001b[0m 910.8   \u001b[0m | \u001b[0m 9.699   \u001b[0m | \u001b[0m 0.9828  \u001b[0m | \u001b[0m 0.6379  \u001b[0m |\n",
      "| \u001b[0m 83      \u001b[0m | \u001b[0m 0.6388  \u001b[0m | \u001b[0m 0.3224  \u001b[0m | \u001b[0m 0.09559 \u001b[0m | \u001b[0m 602.5   \u001b[0m | \u001b[0m 962.2   \u001b[0m | \u001b[0m 9.899   \u001b[0m | \u001b[0m 49.93   \u001b[0m | \u001b[0m 0.9482  \u001b[0m |\n",
      "| \u001b[0m 84      \u001b[0m | \u001b[0m 0.6322  \u001b[0m | \u001b[0m 0.06863 \u001b[0m | \u001b[0m 0.02816 \u001b[0m | \u001b[0m 119.0   \u001b[0m | \u001b[0m 932.1   \u001b[0m | \u001b[0m 9.85    \u001b[0m | \u001b[0m 49.02   \u001b[0m | \u001b[0m 0.7418  \u001b[0m |\n",
      "| \u001b[0m 85      \u001b[0m | \u001b[0m 0.6539  \u001b[0m | \u001b[0m 0.7152  \u001b[0m | \u001b[0m 0.03572 \u001b[0m | \u001b[0m 896.2   \u001b[0m | \u001b[0m 45.81   \u001b[0m | \u001b[0m 9.919   \u001b[0m | \u001b[0m 2.846   \u001b[0m | \u001b[0m 0.685   \u001b[0m |\n",
      "| \u001b[0m 86      \u001b[0m | \u001b[0m 0.6482  \u001b[0m | \u001b[0m 0.9264  \u001b[0m | \u001b[0m 0.09528 \u001b[0m | \u001b[0m 127.7   \u001b[0m | \u001b[0m 748.9   \u001b[0m | \u001b[0m 7.693   \u001b[0m | \u001b[0m 43.51   \u001b[0m | \u001b[0m 0.9898  \u001b[0m |\n",
      "| \u001b[0m 87      \u001b[0m | \u001b[0m 0.6476  \u001b[0m | \u001b[0m 0.526   \u001b[0m | \u001b[0m 0.06997 \u001b[0m | \u001b[0m 273.5   \u001b[0m | \u001b[0m 525.5   \u001b[0m | \u001b[0m 8.402   \u001b[0m | \u001b[0m 48.91   \u001b[0m | \u001b[0m 0.2189  \u001b[0m |\n",
      "| \u001b[0m 88      \u001b[0m | \u001b[0m 0.637   \u001b[0m | \u001b[0m 0.7844  \u001b[0m | \u001b[0m 0.05697 \u001b[0m | \u001b[0m 802.1   \u001b[0m | \u001b[0m 437.8   \u001b[0m | \u001b[0m 6.547   \u001b[0m | \u001b[0m 0.8339  \u001b[0m | \u001b[0m 0.4681  \u001b[0m |\n",
      "| \u001b[0m 89      \u001b[0m | \u001b[0m 0.6515  \u001b[0m | \u001b[0m 0.9725  \u001b[0m | \u001b[0m 0.01708 \u001b[0m | \u001b[0m 596.8   \u001b[0m | \u001b[0m 554.4   \u001b[0m | \u001b[0m 1.707   \u001b[0m | \u001b[0m 48.74   \u001b[0m | \u001b[0m 0.5019  \u001b[0m |\n"
     ]
    },
    {
     "name": "stdout",
     "output_type": "stream",
     "text": [
      "| \u001b[0m 90      \u001b[0m | \u001b[0m 0.6329  \u001b[0m | \u001b[0m 0.4314  \u001b[0m | \u001b[0m 0.09001 \u001b[0m | \u001b[0m 940.2   \u001b[0m | \u001b[0m 370.4   \u001b[0m | \u001b[0m 1.163   \u001b[0m | \u001b[0m 2.317   \u001b[0m | \u001b[0m 0.716   \u001b[0m |\n",
      "=============================================================================================================\n",
      "CPU times: user 12h 18min 25s, sys: 6min 54s, total: 12h 25min 19s\n",
      "Wall time: 46min 52s\n"
     ]
    },
    {
     "data": {
      "text/plain": [
       "'\\n# LightGBM Classifier Document =  https://bit.ly/2QGqFTS\\n# 이 예제에서는 7개 하이퍼 파라미터에 대해 30회 조정을 시도 했습니다.\\n# 다양한 하이퍼 파라미터, 더 많은 iteration을 시도하여 최상의 모델을 얻어보세요!\\n'"
      ]
     },
     "execution_count": 10,
     "metadata": {},
     "output_type": "execute_result"
    }
   ],
   "source": [
    "%%time\n",
    "# 모델과 관련없는 변수 고정\n",
    "func_fixed = partial(lgb_cv, x_data=x_train, y_data=y_train, n_splits=5, output='score') \n",
    "\n",
    "# 베이지안 최적화 범위 설정\n",
    "lgbBO = BayesianOptimization(\n",
    "    func_fixed, \n",
    "    {\n",
    "        'learning_rate': (0.0001, 0.1),    # learning_rate,    범위(0.0001~0.1)\n",
    "        'num_leaves': (16, 1024),          # num_leaves,       범위(16~1024)\n",
    "        'n_estimators': (16, 1024),        # n_estimators,     범위(16~1024)\n",
    "        'subsample': (0, 1),               # subsample,        범위(0~1)\n",
    "        'colsample_bytree': (0, 1),        # colsample_bytree, 범위(0~1)\n",
    "        'reg_alpha': (0, 10),              # reg_alpha,        범위(0~10)\n",
    "        'reg_lambda': (0, 50),             # reg_lambda,       범위(0~50)\n",
    "    }, \n",
    "    random_state=random.randrange(50000)   # 시드 고정 = 4321\n",
    ")\n",
    "\n",
    "# lgbBO.maximize(init_points=5, n_iter=30) # 처음 5회 랜덤 값으로 score 계산 후 30회 최적화 = Original Baseline!\n",
    "lgbBO.maximize(init_points=15, n_iter=75)\n",
    "\n",
    "\n",
    "\"\"\"\n",
    "# LightGBM Classifier Document =  https://bit.ly/2QGqFTS\n",
    "# 이 예제에서는 7개 하이퍼 파라미터에 대해 30회 조정을 시도 했습니다.\n",
    "# 다양한 하이퍼 파라미터, 더 많은 iteration을 시도하여 최상의 모델을 얻어보세요!\n",
    "\"\"\""
   ]
  },
  {
   "cell_type": "markdown",
   "metadata": {
    "colab_type": "text",
    "id": "CfHi_LZ4O1_l"
   },
   "source": [
    "### 3.0 모델 학습 및 검증\n",
    "- Model Tuning & Evaluation\n",
    "\n",
    "> 1. AUC가 가장 높은 하이퍼 파라미터를 사용해 최종 모델을 얻습니다.\n",
    "> 1. 훈련 세트와 같은 방법으로 테스트 세트에서 Feature를 추출합니다.\n",
    "> 1. 최종 모델을 사용해 예측을 수행합니다.\n",
    "> 1. 예측 결과를 submission.csv로 저장합니다."
   ]
  },
  {
   "cell_type": "code",
   "execution_count": 11,
   "metadata": {
    "colab": {},
    "colab_type": "code",
    "id": "7UMIvW62UWhn"
   },
   "outputs": [],
   "source": [
    "params = lgbBO.max['params']\n",
    "\n",
    "models = lgb_cv(\n",
    "        params['num_leaves'], \n",
    "        params['learning_rate'], \n",
    "        params['n_estimators'], \n",
    "        params['subsample'], \n",
    "        params['colsample_bytree'], \n",
    "        params['reg_alpha'], \n",
    "        params['reg_lambda'], \n",
    "        x_data=x_train, \n",
    "        y_data=y_train, \n",
    "        n_splits=5, \n",
    "        output='model',\n",
    "    )"
   ]
  },
  {
   "cell_type": "markdown",
   "metadata": {
    "colab_type": "text",
    "id": "W9d6ImndX5zO"
   },
   "source": [
    "# TEST를 풀기위해, 학습데이터로 변경 (data_preps)\n",
    " 1. Train Data set = [ 67,091,776 x 7 ] ... 70%\n",
    "  - game_id 별로 정리하면 [38,872 x 27]로 압축된다. \n",
    "  - 경기당, 평균 1,726개의 이벤트가 존재한다.(압축률 0.057939 %)\n",
    " > - x_train set = *** DATA SHAPE = [ 38,872 x 27 ] pandas.DataFrame\n",
    " > - y_train set = *** DATA SHAPE = [ 38,872 x 1 ]  np.array\n",
    " \n",
    " 1. Test Data set  = [ 28,714,849 x 6 ] ... 30%\n",
    "  - game_id 별로 정리하면 [16,787 x 27] 로 압축된다. \n",
    "  - 경기당 평균 1711개의 이벤트가 존재한다.(압축률 0.058461 %)\n",
    " > - x_test set = *** DATA SHAPE = [16,787 x 27] pandas.DataFrame \n",
    " > - y_test set = *** DATA SHAPE = [16,787 x 1] np.array =  대회주관자가 가지고 있음\n",
    " \n",
    " 1. Submission = y_test set \n",
    "  - submission = [16,787 x 1] np.array to [16,787 x 2 ] pandas.DataFrame --> df.csv"
   ]
  },
  {
   "cell_type": "code",
   "execution_count": 12,
   "metadata": {
    "colab": {
     "base_uri": "https://localhost:8080/",
     "height": 52
    },
    "colab_type": "code",
    "executionInfo": {
     "elapsed": 3153040,
     "status": "ok",
     "timestamp": 1585620279084,
     "user": {
      "displayName": "SuParX -K",
      "photoUrl": "https://lh3.googleusercontent.com/a-/AOh14GgAhLtiQrZfK-FHgn5GBmgExX619ygpOPHHdN4ZkU0=s64",
      "userId": "05876132496561296136"
     },
     "user_tz": -540
    },
    "id": "20YeuGYXUWZ3",
    "outputId": "2086b8f3-a90c-4be4-a89d-8637498abc07"
   },
   "outputs": [],
   "source": [
    "\"\"\"\n",
    "# 테스트용 데이터를 전처리 해서 분석 준비 ... (시간소요) 미리 저장한 화일을 불러온다\n",
    "# 저장했으면 비활성 처리\n",
    "# x_test, _ = data_preparation(test, answer=False)                 # [ 28,714,849 x 6 ] ... 30%\n",
    "# x_test.to_csv(dir_base + remake + 'df_xtest_remake.csv')\n",
    "# x_test = pd.read_csv(dir_base + remake + 'df_xtest_remake.csv')  # [  16,787 x 27 ]\n",
    "\"\"\"\n",
    "x_test = pd.read_csv(dir_base + remake + 'df_xtest_remake_final.csv')    # *** DATA SHAPE = [ 16,787 x 27 ]\n"
   ]
  },
  {
   "cell_type": "markdown",
   "metadata": {},
   "source": [
    "# 예측결과 Submission 화일 만들기"
   ]
  },
  {
   "cell_type": "code",
   "execution_count": 13,
   "metadata": {
    "colab": {
     "base_uri": "https://localhost:8080/",
     "height": 195
    },
    "colab_type": "code",
    "executionInfo": {
     "elapsed": 3155255,
     "status": "ok",
     "timestamp": 1585620281362,
     "user": {
      "displayName": "SuParX -K",
      "photoUrl": "https://lh3.googleusercontent.com/a-/AOh14GgAhLtiQrZfK-FHgn5GBmgExX619ygpOPHHdN4ZkU0=s64",
      "userId": "05876132496561296136"
     },
     "user_tz": -540
    },
    "id": "k9HevRoDUWUC",
    "outputId": "aff8a829-a8c4-4794-cbe5-861aea6392db"
   },
   "outputs": [],
   "source": [
    "\"\"\"\n",
    "# pd.read_csv('data/sample_submission.csv', index_col=0)\n",
    "# sample_submission = pd.read_csv(dir_base + sub_base + \"sample_submission.csv\")\n",
    "\"\"\"\n",
    "\n",
    "preds = []\n",
    "\n",
    "for model in models:\n",
    "    pred = model.predict_proba(x_test)[:, 1]\n",
    "    preds.append(pred)\n",
    "    \n",
    "pred = np.mean(preds, axis=0)"
   ]
  },
  {
   "cell_type": "code",
   "execution_count": 14,
   "metadata": {},
   "outputs": [
    {
     "name": "stdout",
     "output_type": "stream",
     "text": [
      "False\n",
      "DIR_TARGET=/home/yk/0325_Starcraft/competition/c03_starcraft_prediction/data_remake\n",
      "/home/yk/0325_Starcraft/competition/c03_starcraft_prediction/data_raw/\n",
      "----------------------------------------\n",
      "  01. sample_submission.csv\n",
      "  02. test.csv\n",
      "  03. train.csv\n"
     ]
    }
   ],
   "source": [
    "show_ls(dir_base + raw)"
   ]
  },
  {
   "cell_type": "code",
   "execution_count": 15,
   "metadata": {},
   "outputs": [],
   "source": [
    "submission = pd.read_csv(dir_base + raw + \"sample_submission.csv\") \n",
    "\n",
    "\n",
    "submission['winner'] = pred\n",
    "submission.to_csv(dir_base + submit + filename_submit, index=False)"
   ]
  },
  {
   "cell_type": "markdown",
   "metadata": {
    "colab_type": "text",
    "id": "4PobqJx-OM0Q"
   },
   "source": [
    "# 결과 확인하기\n",
    "- 3월 데이콘 대회 홈페이지 = https://bit.ly/39bqWVg\n",
    "- 결과 제출하기 = https://dacon.io/competitions/official/235583/mysubmission/"
   ]
  },
  {
   "cell_type": "code",
   "execution_count": 16,
   "metadata": {},
   "outputs": [
    {
     "data": {
      "text/html": [
       "<div>\n",
       "<style scoped>\n",
       "    .dataframe tbody tr th:only-of-type {\n",
       "        vertical-align: middle;\n",
       "    }\n",
       "\n",
       "    .dataframe tbody tr th {\n",
       "        vertical-align: top;\n",
       "    }\n",
       "\n",
       "    .dataframe thead th {\n",
       "        text-align: right;\n",
       "    }\n",
       "</style>\n",
       "<table border=\"1\" class=\"dataframe\">\n",
       "  <thead>\n",
       "    <tr style=\"text-align: right;\">\n",
       "      <th></th>\n",
       "      <th>game_id</th>\n",
       "      <th>winner</th>\n",
       "    </tr>\n",
       "  </thead>\n",
       "  <tbody>\n",
       "    <tr>\n",
       "      <th>0</th>\n",
       "      <td>38872</td>\n",
       "      <td>0.644543</td>\n",
       "    </tr>\n",
       "    <tr>\n",
       "      <th>1</th>\n",
       "      <td>38873</td>\n",
       "      <td>0.494188</td>\n",
       "    </tr>\n",
       "    <tr>\n",
       "      <th>2</th>\n",
       "      <td>38874</td>\n",
       "      <td>0.412015</td>\n",
       "    </tr>\n",
       "    <tr>\n",
       "      <th>3</th>\n",
       "      <td>38875</td>\n",
       "      <td>0.204855</td>\n",
       "    </tr>\n",
       "    <tr>\n",
       "      <th>4</th>\n",
       "      <td>38876</td>\n",
       "      <td>0.438289</td>\n",
       "    </tr>\n",
       "    <tr>\n",
       "      <th>...</th>\n",
       "      <td>...</td>\n",
       "      <td>...</td>\n",
       "    </tr>\n",
       "    <tr>\n",
       "      <th>16782</th>\n",
       "      <td>55654</td>\n",
       "      <td>0.692170</td>\n",
       "    </tr>\n",
       "    <tr>\n",
       "      <th>16783</th>\n",
       "      <td>55655</td>\n",
       "      <td>0.318288</td>\n",
       "    </tr>\n",
       "    <tr>\n",
       "      <th>16784</th>\n",
       "      <td>55656</td>\n",
       "      <td>0.767258</td>\n",
       "    </tr>\n",
       "    <tr>\n",
       "      <th>16785</th>\n",
       "      <td>55657</td>\n",
       "      <td>0.511795</td>\n",
       "    </tr>\n",
       "    <tr>\n",
       "      <th>16786</th>\n",
       "      <td>55658</td>\n",
       "      <td>0.618084</td>\n",
       "    </tr>\n",
       "  </tbody>\n",
       "</table>\n",
       "<p>16787 rows × 2 columns</p>\n",
       "</div>"
      ],
      "text/plain": [
       "       game_id    winner\n",
       "0        38872  0.644543\n",
       "1        38873  0.494188\n",
       "2        38874  0.412015\n",
       "3        38875  0.204855\n",
       "4        38876  0.438289\n",
       "...        ...       ...\n",
       "16782    55654  0.692170\n",
       "16783    55655  0.318288\n",
       "16784    55656  0.767258\n",
       "16785    55657  0.511795\n",
       "16786    55658  0.618084\n",
       "\n",
       "[16787 rows x 2 columns]"
      ]
     },
     "execution_count": 16,
     "metadata": {},
     "output_type": "execute_result"
    }
   ],
   "source": [
    "df_1 = submission\n",
    "df_1"
   ]
  }
 ],
 "metadata": {
  "colab": {
   "collapsed_sections": [],
   "machine_shape": "hm",
   "name": "starcraft_LGBM_baseline.ipynb",
   "provenance": []
  },
  "kernelspec": {
   "display_name": "Python 3",
   "language": "python",
   "name": "python3"
  },
  "language_info": {
   "codemirror_mode": {
    "name": "ipython",
    "version": 3
   },
   "file_extension": ".py",
   "mimetype": "text/x-python",
   "name": "python",
   "nbconvert_exporter": "python",
   "pygments_lexer": "ipython3",
   "version": "3.7.6"
  }
 },
 "nbformat": 4,
 "nbformat_minor": 1
}
