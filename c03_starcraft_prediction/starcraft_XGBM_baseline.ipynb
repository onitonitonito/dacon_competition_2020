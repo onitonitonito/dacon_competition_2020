{
 "cells": [
  {
   "cell_type": "markdown",
   "metadata": {
    "colab_type": "text",
    "id": "Yj9dS4w29AUl"
   },
   "source": [
    "### 구글드라이브 연결\n",
    "> - drive 폴더가 붙은 것을 확인한다.\n",
    "> - drwx------ 4 root root 4.0K Mar 22 11:21 drive"
   ]
  },
  {
   "cell_type": "code",
   "execution_count": 1,
   "metadata": {
    "colab": {
     "base_uri": "https://localhost:8080/",
     "height": 125
    },
    "colab_type": "code",
    "executionInfo": {
     "elapsed": 15458,
     "status": "ok",
     "timestamp": 1585617140987,
     "user": {
      "displayName": "SuParX -K",
      "photoUrl": "https://lh3.googleusercontent.com/a-/AOh14GgAhLtiQrZfK-FHgn5GBmgExX619ygpOPHHdN4ZkU0=s64",
      "userId": "05876132496561296136"
     },
     "user_tz": -540
    },
    "id": "cG0ywtEV7uIh",
    "outputId": "a95953a7-c6a3-447d-8e73-e71681064258"
   },
   "outputs": [],
   "source": [
    "# from google.colab import drive \n",
    "# drive.mount('/content/drive/')"
   ]
  },
  {
   "cell_type": "markdown",
   "metadata": {
    "colab_type": "text",
    "id": "187ugqNFuzIG"
   },
   "source": [
    "### Install / Import 모듈 "
   ]
  },
  {
   "cell_type": "code",
   "execution_count": 2,
   "metadata": {
    "colab": {
     "base_uri": "https://localhost:8080/",
     "height": 178
    },
    "colab_type": "code",
    "executionInfo": {
     "elapsed": 20113,
     "status": "ok",
     "timestamp": 1585617145679,
     "user": {
      "displayName": "SuParX -K",
      "photoUrl": "https://lh3.googleusercontent.com/a-/AOh14GgAhLtiQrZfK-FHgn5GBmgExX619ygpOPHHdN4ZkU0=s64",
      "userId": "05876132496561296136"
     },
     "user_tz": -540
    },
    "id": "KHr7Oekx9AgU",
    "outputId": "e8bdfc50-1d0d-46cd-af53-4313a5845e4a"
   },
   "outputs": [],
   "source": [
    "# 코랩에 없는 라이브러리 설치해주기\n",
    "# !pip install bayesian-optimization"
   ]
  },
  {
   "cell_type": "code",
   "execution_count": 3,
   "metadata": {
    "colab": {},
    "colab_type": "code",
    "id": "O14CYkrx_Wvr"
   },
   "outputs": [],
   "source": [
    "import os\n",
    "import pandas as pd                         # 데이터 분석 라이브러리\n",
    "import numpy as np                          # 계산 라이브러리\n",
    "import matplotlib.pyplot as plt             # * 그래프 이미지\n",
    "\n",
    "from tqdm import tqdm                       # 진행바\n",
    "\n",
    "from sklearn.metrics import roc_auc_score   # AUC 스코어 계산\n",
    "from sklearn.model_selection import KFold   # K-fold CV    \n",
    "from bayes_opt import BayesianOptimization  # 베이지안 최적화 라이브러리  \n",
    "from functools import partial               # 함수 변수 고정\n",
    "import lightgbm as lgb                      # LightGBM 라이브러리\n",
    "import warnings           \n",
    "import random                       \n",
    "warnings.filterwarnings(\"ignore\")           # 경고 문구 미표시"
   ]
  },
  {
   "cell_type": "code",
   "execution_count": 4,
   "metadata": {
    "colab": {},
    "colab_type": "code",
    "id": "HZZBn3Ec_bXr"
   },
   "outputs": [],
   "source": [
    "# 데이터가 많아 5분 정도 걸립니다.  \n",
    "# 전체경로 = /content/drive/My Drive/Colab Notebooks/competition/c03_starcraft_prediction/data_raw/train.csv\n",
    "# /content/drive/My Drive/Colab Notebooks/\n",
    "# dir_base = '/content/drive/My Drive/Colab Notebooks/competition/''\n",
    "\n",
    "dir_base = '/home/yk/0325_Starcraft/competition/'\n",
    "\n",
    "raw      = 'c03_starcraft_prediction/data_raw/'\n",
    "remake   = 'c03_starcraft_prediction/data_remake/'\n",
    "submit   = 'c03_starcraft_prediction/data_submit/'\n",
    "                                                           # WAY-01 = LGBM\n",
    "filename_submit = 'submission_way02_15_75_0412.csv'        # WAY-02 = XGBM"
   ]
  },
  {
   "cell_type": "markdown",
   "metadata": {
    "colab_type": "text",
    "id": "wwg2_k9Sn9oI"
   },
   "source": [
    "### 사용함수의 정의"
   ]
  },
  {
   "cell_type": "code",
   "execution_count": 5,
   "metadata": {
    "colab": {},
    "colab_type": "code",
    "id": "oDh38baE_aFv"
   },
   "outputs": [
    {
     "name": "stdout",
     "output_type": "stream",
     "text": [
      "\n",
      "# OS 화일 및 DF 정보조회를 위한 탐색 모듈\n",
      "\n",
      "\n",
      "# GAME_ID 유니크 데이터 전처리를 위한 모듈 - baseline offer\n",
      "\n",
      "\n",
      "# XGBM_CV 모델 - by SongDo_StudyGroup Code 참조\n",
      "\n"
     ]
    },
    {
     "name": "stderr",
     "output_type": "stream",
     "text": [
      "Using TensorFlow backend.\n"
     ]
    }
   ],
   "source": [
    "os.chdir(dir_base)\n",
    "from _assets.modules import *\n",
    "from _assets.module_data_preps import *\n",
    "from _assets.module_xgbm_model import *"
   ]
  },
  {
   "cell_type": "markdown",
   "metadata": {
    "colab_type": "text",
    "id": "oo6aAKuVprwn"
   },
   "source": [
    "### Data 불러오기\n",
    "\n",
    "| 컬럼명  | 값    | type     | 설명                  | 비고   |\n",
    "|:-------:|:------|----------|-----------------------|--------|\n",
    "| game_id |33781  |int       |경기 구분 기호         | unique (multiple) \n",
    "| winner  |0.6523 |float     |player-1 승리확률      | 0.6287\n",
    "| time    |2.24   |float     |경기시간 (60분법 구분) | 2분24초\n",
    "| player  |0      |int       |player 0 - 첫번째 선수 \n",
    "|         |1      |int       |player 1 - 두번째 선수          \n",
    "| species |T      |Object    |테란 (Terran)    |     \n",
    "|         |P      |Object    |프로토스 (Protos)|      \n",
    "|         |Z      |Object    |저그 (Zerg)      |      \n",
    "| event   |Ability           |Object |생산, 공격 등 선수의 주요 행동\n",
    "|         |AddToControlGroup |Object |부대에 추가\n",
    "|         |Camera            |Object |시점 선택\n",
    "|         |ControlGroup      |Object |부대 행동\n",
    "|         |GetControlGroup   |Object |부대 불러오기\n",
    "|         |Right             |Object |Click : 마우스 우클릭\n",
    "|         |Selection         |Object |객체 선택\n",
    "|         |SetControlGroup   |Object |부대 지정\n",
    "|event_contents|@(좌표, 등)  | object|이벤트에 관한 상세설명 "
   ]
  },
  {
   "cell_type": "code",
   "execution_count": 6,
   "metadata": {
    "colab": {
     "base_uri": "https://localhost:8080/",
     "height": 298
    },
    "colab_type": "code",
    "executionInfo": {
     "elapsed": 24900,
     "status": "ok",
     "timestamp": 1585617150634,
     "user": {
      "displayName": "SuParX -K",
      "photoUrl": "https://lh3.googleusercontent.com/a-/AOh14GgAhLtiQrZfK-FHgn5GBmgExX619ygpOPHHdN4ZkU0=s64",
      "userId": "05876132496561296136"
     },
     "user_tz": -540
    },
    "id": "o7odz-aqnygj",
    "outputId": "e0410269-54b2-4a37-ac09-e2ccc600f26a"
   },
   "outputs": [
    {
     "name": "stdout",
     "output_type": "stream",
     "text": [
      "False\n",
      "DIR_TARGET=/home/yk/0325_Starcraft/competition\n",
      "/home/yk/0325_Starcraft/competition/c03_starcraft_prediction/data_raw/\n",
      "----------------------------------------\n",
      "  01. sample_submission.csv\n",
      "  02. test.csv\n",
      "  03. train.csv\n"
     ]
    }
   ],
   "source": [
    "# 화일위치 / list 확인하기 ... 사용함수\n",
    "# show_ls('/content')          # drive 가 붙었는지 확인!\n",
    "show_ls(dir_base + raw)      # 불러올 Data 화일이름 확인!"
   ]
  },
  {
   "cell_type": "code",
   "execution_count": 7,
   "metadata": {
    "colab": {
     "base_uri": "https://localhost:8080/",
     "height": 52
    },
    "colab_type": "code",
    "executionInfo": {
     "elapsed": 204658,
     "status": "ok",
     "timestamp": 1585617330417,
     "user": {
      "displayName": "SuParX -K",
      "photoUrl": "https://lh3.googleusercontent.com/a-/AOh14GgAhLtiQrZfK-FHgn5GBmgExX619ygpOPHHdN4ZkU0=s64",
      "userId": "05876132496561296136"
     },
     "user_tz": -540
    },
    "id": "jJ0vpnFsnJ5m",
    "outputId": "a1791adc-607c-4e52-cfea-0552d51cfcd4"
   },
   "outputs": [
    {
     "name": "stdout",
     "output_type": "stream",
     "text": [
      "CPU times: user 1min, sys: 4.77 s, total: 1min 4s\n",
      "Wall time: 1min\n"
     ]
    }
   ],
   "source": [
    "%%time\n",
    "# raw 데이터 3개 불러오기 ... 2분13초\n",
    "\n",
    "train = pd.read_csv(dir_base + raw + \"train.csv\")                           # [ 67,091,776 x 7 ] ... 70%\n",
    "test = pd.read_csv(dir_base + raw + \"test.csv\")                             # [ 28,714,849 x 6 ] ... 30%\n",
    "sample_submission = pd.read_csv(dir_base + raw + \"sample_submission.csv\")   # [     16,787 x 2 ] ... 0.0175 %"
   ]
  },
  {
   "cell_type": "markdown",
   "metadata": {
    "colab_type": "text",
    "id": "hbZfWk-F6_R_"
   },
   "source": [
    "### Data 전처리 및 저장하기\n",
    "- 전처리 된 x_train, y_train 내용을 확인하고, 저장한다."
   ]
  },
  {
   "cell_type": "code",
   "execution_count": 8,
   "metadata": {},
   "outputs": [
    {
     "name": "stdout",
     "output_type": "stream",
     "text": [
      "False\n",
      "DIR_TARGET=/home/yk/0325_Starcraft/competition/c03_starcraft_prediction/data_raw\n",
      "/home/yk/0325_Starcraft/competition/c03_starcraft_prediction/data_remake/\n",
      "----------------------------------------\n",
      "  01. .ipynb_checkpoints\n",
      "  02. accumujated_winning_rate_per_time.csv\n",
      "  03. accumulated_winning_rate_per_time.csv\n",
      "  04. df_new_rate04_correct.csv\n",
      "  05. df_win_rate_every_10sec.csv\n",
      "  06. df_win_rate_every_20sec.csv\n",
      "  07. df_win_rate_every_40sec.csv\n",
      "  08. df_xtest_remake.csv\n",
      "  09. df_xtrain_remake.csv\n",
      "  10. df_xtrain_remake_final.csv\n",
      "  11. df_ytrain_remake.csv\n"
     ]
    }
   ],
   "source": [
    "show_ls(dir_base + remake)"
   ]
  },
  {
   "cell_type": "code",
   "execution_count": 9,
   "metadata": {
    "colab": {
     "base_uri": "https://localhost:8080/",
     "height": 70
    },
    "colab_type": "code",
    "executionInfo": {
     "elapsed": 779388,
     "status": "ok",
     "timestamp": 1585617905233,
     "user": {
      "displayName": "SuParX -K",
      "photoUrl": "https://lh3.googleusercontent.com/a-/AOh14GgAhLtiQrZfK-FHgn5GBmgExX619ygpOPHHdN4ZkU0=s64",
      "userId": "05876132496561296136"
     },
     "user_tz": -540
    },
    "id": "Y_yK7Y7d_esh",
    "outputId": "931af35d-a36b-45fd-9834-02a175dc756c"
   },
   "outputs": [
    {
     "name": "stdout",
     "output_type": "stream",
     "text": [
      "CPU times: user 54 ms, sys: 4.16 ms, total: 58.2 ms\n",
      "Wall time: 57.6 ms\n"
     ]
    }
   ],
   "source": [
    "%%time\n",
    "\"\"\"\n",
    "# 데이터 전처리 과정 - 약 7 ~ 10분 정도 걸립니다 ... 여기서 세션 리셋 됨!\n",
    "# x_train, y_train = data_preparation(train, answer=True)           # [ 67,091,776 x 7 ] ... 70%\n",
    "# show_infoDF_from(x_train) # *** DATA SHAPE = [ 38,872 x 27 ] ... [ game_id ... ]\n",
    "# show_infoDF_from(y_train) # *** DATA SHAPE = [ 38,872 x 3 ] .. ['Unnamed: 0', 'game_id', 'winner']\n",
    "\"\"\"\n",
    "\n",
    "x_train = pd.read_csv(dir_base + remake + 'df_xtrain_remake.csv')  # to <class 'pandas.core.frame.DataFrame'>\n",
    "ytrain = pd.read_csv(dir_base + remake + 'df_ytrain_remake.csv')  # to <class 'numpy.ndarray'>\n",
    "y_train = ytrain['winner'].values                                 # array([1, 1, 0, ..., 0, 1, 0])"
   ]
  },
  {
   "cell_type": "code",
   "execution_count": 10,
   "metadata": {
    "colab": {
     "base_uri": "https://localhost:8080/",
     "height": 282
    },
    "colab_type": "code",
    "executionInfo": {
     "elapsed": 779323,
     "status": "ok",
     "timestamp": 1585617905240,
     "user": {
      "displayName": "SuParX -K",
      "photoUrl": "https://lh3.googleusercontent.com/a-/AOh14GgAhLtiQrZfK-FHgn5GBmgExX619ygpOPHHdN4ZkU0=s64",
      "userId": "05876132496561296136"
     },
     "user_tz": -540
    },
    "id": "zAN0hC9M1IpN",
    "outputId": "6dec3e26-23c5-4ff8-cab7-d515477bda7a"
   },
   "outputs": [
    {
     "data": {
      "text/plain": [
       "1    19499\n",
       "0    19373\n",
       "dtype: int64"
      ]
     },
     "execution_count": 10,
     "metadata": {},
     "output_type": "execute_result"
    }
   ],
   "source": [
    "pd.Series(y_train).value_counts()\n",
    "# 1    19499\n",
    "# 0    19373            total = 38,872  y_train = np.array 38,872"
   ]
  },
  {
   "cell_type": "code",
   "execution_count": 11,
   "metadata": {
    "colab": {
     "base_uri": "https://localhost:8080/",
     "height": 54
    },
    "colab_type": "code",
    "executionInfo": {
     "elapsed": 779492,
     "status": "ok",
     "timestamp": 1585617905469,
     "user": {
      "displayName": "SuParX -K",
      "photoUrl": "https://lh3.googleusercontent.com/a-/AOh14GgAhLtiQrZfK-FHgn5GBmgExX619ygpOPHHdN4ZkU0=s64",
      "userId": "05876132496561296136"
     },
     "user_tz": -540
    },
    "id": "hoDJ1YXt5yq7",
    "outputId": "744bc55f-e6bd-4415-8c4f-8be6a77ce1ad"
   },
   "outputs": [
    {
     "data": {
      "text/plain": [
       "\"  # 저장했으면 비활성 처리\\ndf_xtrain.to_csv(dir_base + remake + 'df_xtrain_remake.csv')\\ndf_ytrain.to_csv(dir_base + remake + 'df_ytrain_remake.csv')\\n\""
      ]
     },
     "execution_count": 11,
     "metadata": {},
     "output_type": "execute_result"
    }
   ],
   "source": [
    "# 제대로 작성이 됬는지 확인 다 끝났으면, 저장한다. 저장끝났으면 비활성화 처리\n",
    "\n",
    "\n",
    "\"\"\"  # 저장했으면 비활성 처리\n",
    "df_xtrain.to_csv(dir_base + remake + 'df_xtrain_remake.csv')\n",
    "df_ytrain.to_csv(dir_base + remake + 'df_ytrain_remake.csv')\n",
    "\"\"\""
   ]
  },
  {
   "cell_type": "markdown",
   "metadata": {
    "colab_type": "text",
    "id": "N0IWulmegR7U"
   },
   "source": [
    "# XGBM Classifier 모델 적용\n",
    " - 송도 스터디그룹에서 유창준님 - XGBM 모델 코드 공유받음!"
   ]
  },
  {
   "cell_type": "code",
   "execution_count": 12,
   "metadata": {
    "colab": {
     "base_uri": "https://localhost:8080/",
     "height": 1000
    },
    "colab_type": "code",
    "executionInfo": {
     "elapsed": 2898666,
     "status": "ok",
     "timestamp": 1585620024669,
     "user": {
      "displayName": "SuParX -K",
      "photoUrl": "https://lh3.googleusercontent.com/a-/AOh14GgAhLtiQrZfK-FHgn5GBmgExX619ygpOPHHdN4ZkU0=s64",
      "userId": "05876132496561296136"
     },
     "user_tz": -540
    },
    "id": "Ny69by1mUWln",
    "outputId": "f27d8775-2846-4d50-f5a0-41e2fae278d8"
   },
   "outputs": [
    {
     "name": "stdout",
     "output_type": "stream",
     "text": [
      "|   iter    |  target   | colsam... |   gamma   | learni... | max_de... | max_depth | reg_alpha | reg_la... | subsample |\n",
      "-------------------------------------------------------------------------------------------------------------------------\n",
      "| \u001b[0m 1       \u001b[0m | \u001b[0m 0.639   \u001b[0m | \u001b[0m 0.7925  \u001b[0m | \u001b[0m 16.57   \u001b[0m | \u001b[0m 0.1147  \u001b[0m | \u001b[0m 15.1    \u001b[0m | \u001b[0m 66.91   \u001b[0m | \u001b[0m 14.66   \u001b[0m | \u001b[0m 8.107   \u001b[0m | \u001b[0m 0.5789  \u001b[0m |\n",
      "| \u001b[95m 2       \u001b[0m | \u001b[95m 0.6475  \u001b[0m | \u001b[95m 0.5554  \u001b[0m | \u001b[95m 6.378   \u001b[0m | \u001b[95m 0.139   \u001b[0m | \u001b[95m 17.59   \u001b[0m | \u001b[95m 49.96   \u001b[0m | \u001b[95m 10.58   \u001b[0m | \u001b[95m 29.84   \u001b[0m | \u001b[95m 0.7913  \u001b[0m |\n",
      "| \u001b[0m 3       \u001b[0m | \u001b[0m 0.6426  \u001b[0m | \u001b[0m 0.635   \u001b[0m | \u001b[0m 12.28   \u001b[0m | \u001b[0m 0.1061  \u001b[0m | \u001b[0m 3.524   \u001b[0m | \u001b[0m 291.9   \u001b[0m | \u001b[0m 15.44   \u001b[0m | \u001b[0m 9.488   \u001b[0m | \u001b[0m 0.861   \u001b[0m |\n",
      "| \u001b[0m 4       \u001b[0m | \u001b[0m 0.6389  \u001b[0m | \u001b[0m 0.5168  \u001b[0m | \u001b[0m 15.43   \u001b[0m | \u001b[0m 0.2837  \u001b[0m | \u001b[0m 22.26   \u001b[0m | \u001b[0m 130.5   \u001b[0m | \u001b[0m 16.63   \u001b[0m | \u001b[0m 39.79   \u001b[0m | \u001b[0m 0.7117  \u001b[0m |\n",
      "| \u001b[0m 5       \u001b[0m | \u001b[0m 0.6389  \u001b[0m | \u001b[0m 0.5605  \u001b[0m | \u001b[0m 16.19   \u001b[0m | \u001b[0m 0.16    \u001b[0m | \u001b[0m 3.254   \u001b[0m | \u001b[0m 386.7   \u001b[0m | \u001b[0m 12.54   \u001b[0m | \u001b[0m 41.7    \u001b[0m | \u001b[0m 0.678   \u001b[0m |\n",
      "| \u001b[0m 6       \u001b[0m | \u001b[0m 0.6397  \u001b[0m | \u001b[0m 0.7077  \u001b[0m | \u001b[0m 6.655   \u001b[0m | \u001b[0m 0.543   \u001b[0m | \u001b[0m 14.18   \u001b[0m | \u001b[0m 172.7   \u001b[0m | \u001b[0m 9.892   \u001b[0m | \u001b[0m 41.13   \u001b[0m | \u001b[0m 0.8383  \u001b[0m |\n",
      "| \u001b[0m 7       \u001b[0m | \u001b[0m 0.6384  \u001b[0m | \u001b[0m 0.8584  \u001b[0m | \u001b[0m 14.62   \u001b[0m | \u001b[0m 0.4395  \u001b[0m | \u001b[0m 13.08   \u001b[0m | \u001b[0m 462.7   \u001b[0m | \u001b[0m 11.29   \u001b[0m | \u001b[0m 24.46   \u001b[0m | \u001b[0m 0.6525  \u001b[0m |\n",
      "| \u001b[0m 8       \u001b[0m | \u001b[0m 0.6418  \u001b[0m | \u001b[0m 0.9825  \u001b[0m | \u001b[0m 14.41   \u001b[0m | \u001b[0m 0.1768  \u001b[0m | \u001b[0m 12.16   \u001b[0m | \u001b[0m 23.25   \u001b[0m | \u001b[0m 7.315   \u001b[0m | \u001b[0m 44.38   \u001b[0m | \u001b[0m 0.5721  \u001b[0m |\n",
      "| \u001b[0m 9       \u001b[0m | \u001b[0m 0.6426  \u001b[0m | \u001b[0m 0.9993  \u001b[0m | \u001b[0m 12.26   \u001b[0m | \u001b[0m 0.3616  \u001b[0m | \u001b[0m 8.93    \u001b[0m | \u001b[0m 375.3   \u001b[0m | \u001b[0m 13.62   \u001b[0m | \u001b[0m 13.42   \u001b[0m | \u001b[0m 0.881   \u001b[0m |\n",
      "| \u001b[0m 10      \u001b[0m | \u001b[0m 0.6425  \u001b[0m | \u001b[0m 0.8561  \u001b[0m | \u001b[0m 11.09   \u001b[0m | \u001b[0m 0.5762  \u001b[0m | \u001b[0m 11.79   \u001b[0m | \u001b[0m 41.5    \u001b[0m | \u001b[0m 17.31   \u001b[0m | \u001b[0m 29.69   \u001b[0m | \u001b[0m 0.8851  \u001b[0m |\n",
      "| \u001b[0m 11      \u001b[0m | \u001b[0m 0.6422  \u001b[0m | \u001b[0m 0.8094  \u001b[0m | \u001b[0m 7.194   \u001b[0m | \u001b[0m 0.5069  \u001b[0m | \u001b[0m 1.425   \u001b[0m | \u001b[0m 187.4   \u001b[0m | \u001b[0m 12.26   \u001b[0m | \u001b[0m 30.07   \u001b[0m | \u001b[0m 0.7283  \u001b[0m |\n",
      "| \u001b[0m 12      \u001b[0m | \u001b[0m 0.6406  \u001b[0m | \u001b[0m 0.8921  \u001b[0m | \u001b[0m 13.79   \u001b[0m | \u001b[0m 0.2112  \u001b[0m | \u001b[0m 19.05   \u001b[0m | \u001b[0m 509.2   \u001b[0m | \u001b[0m 8.615   \u001b[0m | \u001b[0m 32.36   \u001b[0m | \u001b[0m 0.5025  \u001b[0m |\n",
      "| \u001b[0m 13      \u001b[0m | \u001b[0m 0.6413  \u001b[0m | \u001b[0m 0.642   \u001b[0m | \u001b[0m 9.873   \u001b[0m | \u001b[0m 0.3467  \u001b[0m | \u001b[0m 16.88   \u001b[0m | \u001b[0m 193.1   \u001b[0m | \u001b[0m 16.85   \u001b[0m | \u001b[0m 8.427   \u001b[0m | \u001b[0m 0.6422  \u001b[0m |\n",
      "| \u001b[0m 14      \u001b[0m | \u001b[0m 0.638   \u001b[0m | \u001b[0m 0.771   \u001b[0m | \u001b[0m 19.13   \u001b[0m | \u001b[0m 0.3415  \u001b[0m | \u001b[0m 11.94   \u001b[0m | \u001b[0m 262.6   \u001b[0m | \u001b[0m 8.008   \u001b[0m | \u001b[0m 26.56   \u001b[0m | \u001b[0m 0.5954  \u001b[0m |\n",
      "| \u001b[0m 15      \u001b[0m | \u001b[0m 0.6408  \u001b[0m | \u001b[0m 0.5052  \u001b[0m | \u001b[0m 9.972   \u001b[0m | \u001b[0m 0.5284  \u001b[0m | \u001b[0m 15.32   \u001b[0m | \u001b[0m 163.9   \u001b[0m | \u001b[0m 13.56   \u001b[0m | \u001b[0m 49.07   \u001b[0m | \u001b[0m 0.7071  \u001b[0m |\n",
      "| \u001b[0m 16      \u001b[0m | \u001b[0m 0.6237  \u001b[0m | \u001b[0m 0.6852  \u001b[0m | \u001b[0m 5.161   \u001b[0m | \u001b[0m 0.4976  \u001b[0m | \u001b[0m 1.396   \u001b[0m | \u001b[0m 10.02   \u001b[0m | \u001b[0m 7.692   \u001b[0m | \u001b[0m 26.22   \u001b[0m | \u001b[0m 0.5488  \u001b[0m |\n",
      "| \u001b[0m 17      \u001b[0m | \u001b[0m 0.6448  \u001b[0m | \u001b[0m 0.5378  \u001b[0m | \u001b[0m 6.155   \u001b[0m | \u001b[0m 0.155   \u001b[0m | \u001b[0m 18.08   \u001b[0m | \u001b[0m 51.45   \u001b[0m | \u001b[0m 13.46   \u001b[0m | \u001b[0m 32.61   \u001b[0m | \u001b[0m 0.5791  \u001b[0m |\n",
      "| \u001b[0m 18      \u001b[0m | \u001b[0m 0.6387  \u001b[0m | \u001b[0m 0.55    \u001b[0m | \u001b[0m 16.35   \u001b[0m | \u001b[0m 0.266   \u001b[0m | \u001b[0m 1.875   \u001b[0m | \u001b[0m 511.9   \u001b[0m | \u001b[0m 14.35   \u001b[0m | \u001b[0m 8.985   \u001b[0m | \u001b[0m 0.6589  \u001b[0m |\n",
      "| \u001b[0m 19      \u001b[0m | \u001b[0m 0.646   \u001b[0m | \u001b[0m 0.8034  \u001b[0m | \u001b[0m 6.466   \u001b[0m | \u001b[0m 0.4102  \u001b[0m | \u001b[0m 2.514   \u001b[0m | \u001b[0m 507.7   \u001b[0m | \u001b[0m 19.15   \u001b[0m | \u001b[0m 43.65   \u001b[0m | \u001b[0m 0.8731  \u001b[0m |\n",
      "| \u001b[0m 20      \u001b[0m | \u001b[0m 0.644   \u001b[0m | \u001b[0m 0.8952  \u001b[0m | \u001b[0m 6.127   \u001b[0m | \u001b[0m 0.292   \u001b[0m | \u001b[0m 20.27   \u001b[0m | \u001b[0m 505.7   \u001b[0m | \u001b[0m 19.75   \u001b[0m | \u001b[0m 16.17   \u001b[0m | \u001b[0m 0.5847  \u001b[0m |\n",
      "| \u001b[0m 21      \u001b[0m | \u001b[0m 0.6358  \u001b[0m | \u001b[0m 0.5999  \u001b[0m | \u001b[0m 19.02   \u001b[0m | \u001b[0m 0.4252  \u001b[0m | \u001b[0m 24.01   \u001b[0m | \u001b[0m 8.237   \u001b[0m | \u001b[0m 16.46   \u001b[0m | \u001b[0m 47.08   \u001b[0m | \u001b[0m 0.6801  \u001b[0m |\n",
      "| \u001b[0m 22      \u001b[0m | \u001b[0m 0.6425  \u001b[0m | \u001b[0m 0.69    \u001b[0m | \u001b[0m 5.78    \u001b[0m | \u001b[0m 0.326   \u001b[0m | \u001b[0m 14.06   \u001b[0m | \u001b[0m 47.94   \u001b[0m | \u001b[0m 10.29   \u001b[0m | \u001b[0m 27.42   \u001b[0m | \u001b[0m 0.7614  \u001b[0m |\n",
      "| \u001b[0m 23      \u001b[0m | \u001b[0m 0.6378  \u001b[0m | \u001b[0m 0.7411  \u001b[0m | \u001b[0m 5.706   \u001b[0m | \u001b[0m 0.2747  \u001b[0m | \u001b[0m 6.835   \u001b[0m | \u001b[0m 490.7   \u001b[0m | \u001b[0m 8.054   \u001b[0m | \u001b[0m 8.567   \u001b[0m | \u001b[0m 0.5744  \u001b[0m |\n",
      "| \u001b[0m 24      \u001b[0m | \u001b[0m 0.6451  \u001b[0m | \u001b[0m 0.5378  \u001b[0m | \u001b[0m 6.087   \u001b[0m | \u001b[0m 0.192   \u001b[0m | \u001b[0m 2.826   \u001b[0m | \u001b[0m 92.8    \u001b[0m | \u001b[0m 8.295   \u001b[0m | \u001b[0m 48.77   \u001b[0m | \u001b[0m 0.6377  \u001b[0m |\n",
      "| \u001b[0m 25      \u001b[0m | \u001b[0m 0.6452  \u001b[0m | \u001b[0m 0.9385  \u001b[0m | \u001b[0m 5.406   \u001b[0m | \u001b[0m 0.1041  \u001b[0m | \u001b[0m 24.19   \u001b[0m | \u001b[0m 292.1   \u001b[0m | \u001b[0m 19.47   \u001b[0m | \u001b[0m 44.89   \u001b[0m | \u001b[0m 0.7255  \u001b[0m |\n",
      "| \u001b[0m 26      \u001b[0m | \u001b[0m 0.6438  \u001b[0m | \u001b[0m 0.7314  \u001b[0m | \u001b[0m 7.112   \u001b[0m | \u001b[0m 0.4357  \u001b[0m | \u001b[0m 21.8    \u001b[0m | \u001b[0m 63.04   \u001b[0m | \u001b[0m 9.627   \u001b[0m | \u001b[0m 47.93   \u001b[0m | \u001b[0m 0.8092  \u001b[0m |\n",
      "| \u001b[0m 27      \u001b[0m | \u001b[0m 0.6426  \u001b[0m | \u001b[0m 0.5477  \u001b[0m | \u001b[0m 8.299   \u001b[0m | \u001b[0m 0.5136  \u001b[0m | \u001b[0m 19.11   \u001b[0m | \u001b[0m 51.1    \u001b[0m | \u001b[0m 9.92    \u001b[0m | \u001b[0m 25.99   \u001b[0m | \u001b[0m 0.7764  \u001b[0m |\n",
      "| \u001b[0m 28      \u001b[0m | \u001b[0m 0.6342  \u001b[0m | \u001b[0m 0.6471  \u001b[0m | \u001b[0m 5.023   \u001b[0m | \u001b[0m 0.5885  \u001b[0m | \u001b[0m 24.87   \u001b[0m | \u001b[0m 332.9   \u001b[0m | \u001b[0m 19.78   \u001b[0m | \u001b[0m 14.35   \u001b[0m | \u001b[0m 0.6388  \u001b[0m |\n",
      "| \u001b[0m 29      \u001b[0m | \u001b[0m 0.6449  \u001b[0m | \u001b[0m 0.967   \u001b[0m | \u001b[0m 7.161   \u001b[0m | \u001b[0m 0.1672  \u001b[0m | \u001b[0m 1.546   \u001b[0m | \u001b[0m 246.3   \u001b[0m | \u001b[0m 19.86   \u001b[0m | \u001b[0m 40.14   \u001b[0m | \u001b[0m 0.8091  \u001b[0m |\n",
      "| \u001b[0m 30      \u001b[0m | \u001b[0m 0.6453  \u001b[0m | \u001b[0m 0.5366  \u001b[0m | \u001b[0m 5.074   \u001b[0m | \u001b[0m 0.2857  \u001b[0m | \u001b[0m 1.953   \u001b[0m | \u001b[0m 418.6   \u001b[0m | \u001b[0m 19.44   \u001b[0m | \u001b[0m 8.204   \u001b[0m | \u001b[0m 0.8967  \u001b[0m |\n",
      "| \u001b[0m 31      \u001b[0m | \u001b[0m 0.6435  \u001b[0m | \u001b[0m 0.8928  \u001b[0m | \u001b[0m 8.237   \u001b[0m | \u001b[0m 0.4332  \u001b[0m | \u001b[0m 24.29   \u001b[0m | \u001b[0m 509.3   \u001b[0m | \u001b[0m 18.25   \u001b[0m | \u001b[0m 47.71   \u001b[0m | \u001b[0m 0.7986  \u001b[0m |\n",
      "| \u001b[0m 32      \u001b[0m | \u001b[0m 0.6377  \u001b[0m | \u001b[0m 0.7901  \u001b[0m | \u001b[0m 18.73   \u001b[0m | \u001b[0m 0.2399  \u001b[0m | \u001b[0m 4.155   \u001b[0m | \u001b[0m 317.4   \u001b[0m | \u001b[0m 19.86   \u001b[0m | \u001b[0m 47.65   \u001b[0m | \u001b[0m 0.88    \u001b[0m |\n",
      "| \u001b[0m 33      \u001b[0m | \u001b[0m 0.6381  \u001b[0m | \u001b[0m 0.7288  \u001b[0m | \u001b[0m 6.124   \u001b[0m | \u001b[0m 0.5109  \u001b[0m | \u001b[0m 1.004   \u001b[0m | \u001b[0m 296.0   \u001b[0m | \u001b[0m 8.877   \u001b[0m | \u001b[0m 44.32   \u001b[0m | \u001b[0m 0.7151  \u001b[0m |\n",
      "| \u001b[0m 34      \u001b[0m | \u001b[0m 0.6436  \u001b[0m | \u001b[0m 0.7485  \u001b[0m | \u001b[0m 9.814   \u001b[0m | \u001b[0m 0.364   \u001b[0m | \u001b[0m 15.84   \u001b[0m | \u001b[0m 48.43   \u001b[0m | \u001b[0m 11.46   \u001b[0m | \u001b[0m 29.74   \u001b[0m | \u001b[0m 0.79    \u001b[0m |\n",
      "| \u001b[0m 35      \u001b[0m | \u001b[0m 0.6358  \u001b[0m | \u001b[0m 0.547   \u001b[0m | \u001b[0m 19.66   \u001b[0m | \u001b[0m 0.3388  \u001b[0m | \u001b[0m 1.084   \u001b[0m | \u001b[0m 50.62   \u001b[0m | \u001b[0m 17.14   \u001b[0m | \u001b[0m 47.58   \u001b[0m | \u001b[0m 0.5811  \u001b[0m |\n",
      "| \u001b[0m 36      \u001b[0m | \u001b[0m 0.6463  \u001b[0m | \u001b[0m 0.8437  \u001b[0m | \u001b[0m 5.437   \u001b[0m | \u001b[0m 0.2537  \u001b[0m | \u001b[0m 2.168   \u001b[0m | \u001b[0m 142.5   \u001b[0m | \u001b[0m 19.55   \u001b[0m | \u001b[0m 31.3    \u001b[0m | \u001b[0m 0.8982  \u001b[0m |\n",
      "| \u001b[0m 37      \u001b[0m | \u001b[0m 0.6395  \u001b[0m | \u001b[0m 0.8207  \u001b[0m | \u001b[0m 5.284   \u001b[0m | \u001b[0m 0.4907  \u001b[0m | \u001b[0m 24.75   \u001b[0m | \u001b[0m 423.2   \u001b[0m | \u001b[0m 19.61   \u001b[0m | \u001b[0m 47.85   \u001b[0m | \u001b[0m 0.514   \u001b[0m |\n",
      "| \u001b[0m 38      \u001b[0m | \u001b[0m 0.6449  \u001b[0m | \u001b[0m 0.9771  \u001b[0m | \u001b[0m 6.235   \u001b[0m | \u001b[0m 0.1561  \u001b[0m | \u001b[0m 24.25   \u001b[0m | \u001b[0m 233.0   \u001b[0m | \u001b[0m 19.28   \u001b[0m | \u001b[0m 31.04   \u001b[0m | \u001b[0m 0.6774  \u001b[0m |\n",
      "| \u001b[0m 39      \u001b[0m | \u001b[0m 0.6471  \u001b[0m | \u001b[0m 0.7661  \u001b[0m | \u001b[0m 6.514   \u001b[0m | \u001b[0m 0.1398  \u001b[0m | \u001b[0m 1.301   \u001b[0m | \u001b[0m 105.4   \u001b[0m | \u001b[0m 7.579   \u001b[0m | \u001b[0m 11.61   \u001b[0m | \u001b[0m 0.8219  \u001b[0m |\n",
      "| \u001b[0m 40      \u001b[0m | \u001b[0m 0.6453  \u001b[0m | \u001b[0m 0.9985  \u001b[0m | \u001b[0m 5.278   \u001b[0m | \u001b[0m 0.1407  \u001b[0m | \u001b[0m 1.78    \u001b[0m | \u001b[0m 384.8   \u001b[0m | \u001b[0m 19.38   \u001b[0m | \u001b[0m 33.26   \u001b[0m | \u001b[0m 0.5044  \u001b[0m |\n"
     ]
    },
    {
     "name": "stdout",
     "output_type": "stream",
     "text": [
      "| \u001b[0m 41      \u001b[0m | \u001b[0m 0.6454  \u001b[0m | \u001b[0m 0.7911  \u001b[0m | \u001b[0m 5.295   \u001b[0m | \u001b[0m 0.1943  \u001b[0m | \u001b[0m 5.412   \u001b[0m | \u001b[0m 102.0   \u001b[0m | \u001b[0m 19.86   \u001b[0m | \u001b[0m 15.78   \u001b[0m | \u001b[0m 0.6004  \u001b[0m |\n",
      "| \u001b[0m 42      \u001b[0m | \u001b[0m 0.6434  \u001b[0m | \u001b[0m 0.8703  \u001b[0m | \u001b[0m 7.164   \u001b[0m | \u001b[0m 0.3356  \u001b[0m | \u001b[0m 1.792   \u001b[0m | \u001b[0m 248.7   \u001b[0m | \u001b[0m 18.43   \u001b[0m | \u001b[0m 9.566   \u001b[0m | \u001b[0m 0.677   \u001b[0m |\n",
      "| \u001b[0m 43      \u001b[0m | \u001b[0m 0.6459  \u001b[0m | \u001b[0m 0.5623  \u001b[0m | \u001b[0m 6.605   \u001b[0m | \u001b[0m 0.1699  \u001b[0m | \u001b[0m 23.26   \u001b[0m | \u001b[0m 34.64   \u001b[0m | \u001b[0m 8.387   \u001b[0m | \u001b[0m 49.41   \u001b[0m | \u001b[0m 0.6882  \u001b[0m |\n",
      "| \u001b[0m 44      \u001b[0m | \u001b[0m 0.6364  \u001b[0m | \u001b[0m 0.8769  \u001b[0m | \u001b[0m 17.42   \u001b[0m | \u001b[0m 0.1485  \u001b[0m | \u001b[0m 1.534   \u001b[0m | \u001b[0m 375.8   \u001b[0m | \u001b[0m 18.94   \u001b[0m | \u001b[0m 9.144   \u001b[0m | \u001b[0m 0.5044  \u001b[0m |\n",
      "| \u001b[0m 45      \u001b[0m | \u001b[0m 0.6331  \u001b[0m | \u001b[0m 0.9756  \u001b[0m | \u001b[0m 5.547   \u001b[0m | \u001b[0m 0.5017  \u001b[0m | \u001b[0m 4.506   \u001b[0m | \u001b[0m 402.4   \u001b[0m | \u001b[0m 7.736   \u001b[0m | \u001b[0m 26.56   \u001b[0m | \u001b[0m 0.7957  \u001b[0m |\n",
      "| \u001b[0m 46      \u001b[0m | \u001b[0m 0.6376  \u001b[0m | \u001b[0m 0.5792  \u001b[0m | \u001b[0m 18.46   \u001b[0m | \u001b[0m 0.1948  \u001b[0m | \u001b[0m 6.779   \u001b[0m | \u001b[0m 495.4   \u001b[0m | \u001b[0m 19.4    \u001b[0m | \u001b[0m 45.18   \u001b[0m | \u001b[0m 0.8176  \u001b[0m |\n",
      "| \u001b[0m 47      \u001b[0m | \u001b[0m 0.6401  \u001b[0m | \u001b[0m 0.6779  \u001b[0m | \u001b[0m 14.78   \u001b[0m | \u001b[0m 0.1032  \u001b[0m | \u001b[0m 24.91   \u001b[0m | \u001b[0m 439.9   \u001b[0m | \u001b[0m 18.08   \u001b[0m | \u001b[0m 10.75   \u001b[0m | \u001b[0m 0.847   \u001b[0m |\n",
      "| \u001b[0m 48      \u001b[0m | \u001b[0m 0.6458  \u001b[0m | \u001b[0m 0.9545  \u001b[0m | \u001b[0m 5.602   \u001b[0m | \u001b[0m 0.2767  \u001b[0m | \u001b[0m 22.87   \u001b[0m | \u001b[0m 378.5   \u001b[0m | \u001b[0m 18.06   \u001b[0m | \u001b[0m 49.67   \u001b[0m | \u001b[0m 0.881   \u001b[0m |\n",
      "| \u001b[0m 49      \u001b[0m | \u001b[0m 0.6393  \u001b[0m | \u001b[0m 0.8604  \u001b[0m | \u001b[0m 16.29   \u001b[0m | \u001b[0m 0.1008  \u001b[0m | \u001b[0m 3.776   \u001b[0m | \u001b[0m 148.0   \u001b[0m | \u001b[0m 18.63   \u001b[0m | \u001b[0m 8.075   \u001b[0m | \u001b[0m 0.7123  \u001b[0m |\n",
      "| \u001b[0m 50      \u001b[0m | \u001b[0m 0.6434  \u001b[0m | \u001b[0m 0.7755  \u001b[0m | \u001b[0m 5.688   \u001b[0m | \u001b[0m 0.1733  \u001b[0m | \u001b[0m 12.72   \u001b[0m | \u001b[0m 142.0   \u001b[0m | \u001b[0m 7.331   \u001b[0m | \u001b[0m 9.231   \u001b[0m | \u001b[0m 0.7747  \u001b[0m |\n",
      "| \u001b[0m 51      \u001b[0m | \u001b[0m 0.6443  \u001b[0m | \u001b[0m 0.9617  \u001b[0m | \u001b[0m 5.511   \u001b[0m | \u001b[0m 0.3645  \u001b[0m | \u001b[0m 21.09   \u001b[0m | \u001b[0m 234.8   \u001b[0m | \u001b[0m 17.71   \u001b[0m | \u001b[0m 49.41   \u001b[0m | \u001b[0m 0.8938  \u001b[0m |\n",
      "| \u001b[0m 52      \u001b[0m | \u001b[0m 0.6457  \u001b[0m | \u001b[0m 0.782   \u001b[0m | \u001b[0m 5.401   \u001b[0m | \u001b[0m 0.1125  \u001b[0m | \u001b[0m 23.3    \u001b[0m | \u001b[0m 34.31   \u001b[0m | \u001b[0m 19.73   \u001b[0m | \u001b[0m 48.86   \u001b[0m | \u001b[0m 0.6574  \u001b[0m |\n",
      "| \u001b[0m 53      \u001b[0m | \u001b[0m 0.6397  \u001b[0m | \u001b[0m 0.9496  \u001b[0m | \u001b[0m 14.78   \u001b[0m | \u001b[0m 0.131   \u001b[0m | \u001b[0m 21.86   \u001b[0m | \u001b[0m 385.1   \u001b[0m | \u001b[0m 18.92   \u001b[0m | \u001b[0m 35.8    \u001b[0m | \u001b[0m 0.7386  \u001b[0m |\n",
      "| \u001b[0m 54      \u001b[0m | \u001b[0m 0.6443  \u001b[0m | \u001b[0m 0.8359  \u001b[0m | \u001b[0m 5.46    \u001b[0m | \u001b[0m 0.2801  \u001b[0m | \u001b[0m 8.778   \u001b[0m | \u001b[0m 357.8   \u001b[0m | \u001b[0m 18.42   \u001b[0m | \u001b[0m 42.41   \u001b[0m | \u001b[0m 0.7404  \u001b[0m |\n",
      "| \u001b[0m 55      \u001b[0m | \u001b[0m 0.6471  \u001b[0m | \u001b[0m 0.8495  \u001b[0m | \u001b[0m 5.499   \u001b[0m | \u001b[0m 0.1137  \u001b[0m | \u001b[0m 1.986   \u001b[0m | \u001b[0m 120.4   \u001b[0m | \u001b[0m 10.99   \u001b[0m | \u001b[0m 32.7    \u001b[0m | \u001b[0m 0.8647  \u001b[0m |\n",
      "| \u001b[0m 56      \u001b[0m | \u001b[0m 0.6445  \u001b[0m | \u001b[0m 0.5258  \u001b[0m | \u001b[0m 7.01    \u001b[0m | \u001b[0m 0.1588  \u001b[0m | \u001b[0m 2.269   \u001b[0m | \u001b[0m 381.2   \u001b[0m | \u001b[0m 19.89   \u001b[0m | \u001b[0m 49.49   \u001b[0m | \u001b[0m 0.8153  \u001b[0m |\n",
      "| \u001b[0m 57      \u001b[0m | \u001b[0m 0.6461  \u001b[0m | \u001b[0m 0.6382  \u001b[0m | \u001b[0m 5.032   \u001b[0m | \u001b[0m 0.1533  \u001b[0m | \u001b[0m 10.35   \u001b[0m | \u001b[0m 506.2   \u001b[0m | \u001b[0m 19.95   \u001b[0m | \u001b[0m 24.4    \u001b[0m | \u001b[0m 0.7775  \u001b[0m |\n",
      "| \u001b[95m 58      \u001b[0m | \u001b[95m 0.6485  \u001b[0m | \u001b[95m 0.9239  \u001b[0m | \u001b[95m 7.071   \u001b[0m | \u001b[95m 0.1417  \u001b[0m | \u001b[95m 20.42   \u001b[0m | \u001b[95m 93.67   \u001b[0m | \u001b[95m 7.444   \u001b[0m | \u001b[95m 24.99   \u001b[0m | \u001b[95m 0.8288  \u001b[0m |\n",
      "| \u001b[0m 59      \u001b[0m | \u001b[0m 0.6391  \u001b[0m | \u001b[0m 0.6074  \u001b[0m | \u001b[0m 8.409   \u001b[0m | \u001b[0m 0.5496  \u001b[0m | \u001b[0m 1.211   \u001b[0m | \u001b[0m 117.1   \u001b[0m | \u001b[0m 11.21   \u001b[0m | \u001b[0m 30.93   \u001b[0m | \u001b[0m 0.5143  \u001b[0m |\n",
      "| \u001b[0m 60      \u001b[0m | \u001b[0m 0.6434  \u001b[0m | \u001b[0m 0.9129  \u001b[0m | \u001b[0m 5.818   \u001b[0m | \u001b[0m 0.5027  \u001b[0m | \u001b[0m 23.24   \u001b[0m | \u001b[0m 108.2   \u001b[0m | \u001b[0m 19.04   \u001b[0m | \u001b[0m 8.194   \u001b[0m | \u001b[0m 0.8788  \u001b[0m |\n",
      "| \u001b[0m 61      \u001b[0m | \u001b[0m 0.6427  \u001b[0m | \u001b[0m 0.8934  \u001b[0m | \u001b[0m 7.319   \u001b[0m | \u001b[0m 0.2956  \u001b[0m | \u001b[0m 17.71   \u001b[0m | \u001b[0m 51.74   \u001b[0m | \u001b[0m 14.39   \u001b[0m | \u001b[0m 28.09   \u001b[0m | \u001b[0m 0.5663  \u001b[0m |\n",
      "| \u001b[0m 62      \u001b[0m | \u001b[0m 0.6451  \u001b[0m | \u001b[0m 0.6921  \u001b[0m | \u001b[0m 5.385   \u001b[0m | \u001b[0m 0.1386  \u001b[0m | \u001b[0m 20.46   \u001b[0m | \u001b[0m 114.7   \u001b[0m | \u001b[0m 19.67   \u001b[0m | \u001b[0m 42.03   \u001b[0m | \u001b[0m 0.7032  \u001b[0m |\n",
      "| \u001b[0m 63      \u001b[0m | \u001b[0m 0.6467  \u001b[0m | \u001b[0m 0.8259  \u001b[0m | \u001b[0m 5.076   \u001b[0m | \u001b[0m 0.1246  \u001b[0m | \u001b[0m 9.653   \u001b[0m | \u001b[0m 91.95   \u001b[0m | \u001b[0m 9.878   \u001b[0m | \u001b[0m 8.389   \u001b[0m | \u001b[0m 0.8651  \u001b[0m |\n",
      "| \u001b[0m 64      \u001b[0m | \u001b[0m 0.6443  \u001b[0m | \u001b[0m 0.7268  \u001b[0m | \u001b[0m 5.269   \u001b[0m | \u001b[0m 0.2584  \u001b[0m | \u001b[0m 18.24   \u001b[0m | \u001b[0m 46.38   \u001b[0m | \u001b[0m 14.04   \u001b[0m | \u001b[0m 30.75   \u001b[0m | \u001b[0m 0.6808  \u001b[0m |\n",
      "| \u001b[0m 65      \u001b[0m | \u001b[0m 0.6456  \u001b[0m | \u001b[0m 0.8156  \u001b[0m | \u001b[0m 5.174   \u001b[0m | \u001b[0m 0.1246  \u001b[0m | \u001b[0m 3.67    \u001b[0m | \u001b[0m 137.9   \u001b[0m | \u001b[0m 19.35   \u001b[0m | \u001b[0m 48.63   \u001b[0m | \u001b[0m 0.8376  \u001b[0m |\n",
      "| \u001b[0m 66      \u001b[0m | \u001b[0m 0.6457  \u001b[0m | \u001b[0m 0.9354  \u001b[0m | \u001b[0m 5.237   \u001b[0m | \u001b[0m 0.166   \u001b[0m | \u001b[0m 6.428   \u001b[0m | \u001b[0m 75.74   \u001b[0m | \u001b[0m 7.02    \u001b[0m | \u001b[0m 49.91   \u001b[0m | \u001b[0m 0.8882  \u001b[0m |\n",
      "| \u001b[0m 67      \u001b[0m | \u001b[0m 0.6473  \u001b[0m | \u001b[0m 0.9848  \u001b[0m | \u001b[0m 5.922   \u001b[0m | \u001b[0m 0.1503  \u001b[0m | \u001b[0m 7.394   \u001b[0m | \u001b[0m 83.06   \u001b[0m | \u001b[0m 13.99   \u001b[0m | \u001b[0m 29.06   \u001b[0m | \u001b[0m 0.8889  \u001b[0m |\n",
      "| \u001b[0m 68      \u001b[0m | \u001b[0m 0.6476  \u001b[0m | \u001b[0m 0.9622  \u001b[0m | \u001b[0m 5.13    \u001b[0m | \u001b[0m 0.117   \u001b[0m | \u001b[0m 1.88    \u001b[0m | \u001b[0m 487.2   \u001b[0m | \u001b[0m 19.36   \u001b[0m | \u001b[0m 12.66   \u001b[0m | \u001b[0m 0.8815  \u001b[0m |\n",
      "| \u001b[0m 69      \u001b[0m | \u001b[0m 0.6396  \u001b[0m | \u001b[0m 0.9305  \u001b[0m | \u001b[0m 8.686   \u001b[0m | \u001b[0m 0.5375  \u001b[0m | \u001b[0m 8.521   \u001b[0m | \u001b[0m 79.88   \u001b[0m | \u001b[0m 12.98   \u001b[0m | \u001b[0m 27.41   \u001b[0m | \u001b[0m 0.5906  \u001b[0m |\n",
      "| \u001b[0m 70      \u001b[0m | \u001b[0m 0.6473  \u001b[0m | \u001b[0m 0.7148  \u001b[0m | \u001b[0m 5.238   \u001b[0m | \u001b[0m 0.1574  \u001b[0m | \u001b[0m 6.241   \u001b[0m | \u001b[0m 214.9   \u001b[0m | \u001b[0m 18.35   \u001b[0m | \u001b[0m 9.768   \u001b[0m | \u001b[0m 0.8812  \u001b[0m |\n",
      "| \u001b[0m 71      \u001b[0m | \u001b[0m 0.6464  \u001b[0m | \u001b[0m 0.8646  \u001b[0m | \u001b[0m 5.918   \u001b[0m | \u001b[0m 0.2444  \u001b[0m | \u001b[0m 5.537   \u001b[0m | \u001b[0m 449.4   \u001b[0m | \u001b[0m 19.93   \u001b[0m | \u001b[0m 20.74   \u001b[0m | \u001b[0m 0.8785  \u001b[0m |\n",
      "| \u001b[0m 72      \u001b[0m | \u001b[0m 0.6457  \u001b[0m | \u001b[0m 0.5147  \u001b[0m | \u001b[0m 5.401   \u001b[0m | \u001b[0m 0.1236  \u001b[0m | \u001b[0m 3.716   \u001b[0m | \u001b[0m 218.4   \u001b[0m | \u001b[0m 19.8    \u001b[0m | \u001b[0m 42.59   \u001b[0m | \u001b[0m 0.8652  \u001b[0m |\n",
      "| \u001b[0m 73      \u001b[0m | \u001b[0m 0.6466  \u001b[0m | \u001b[0m 0.9252  \u001b[0m | \u001b[0m 5.356   \u001b[0m | \u001b[0m 0.1076  \u001b[0m | \u001b[0m 4.591   \u001b[0m | \u001b[0m 169.3   \u001b[0m | \u001b[0m 19.78   \u001b[0m | \u001b[0m 14.74   \u001b[0m | \u001b[0m 0.8474  \u001b[0m |\n",
      "| \u001b[0m 74      \u001b[0m | \u001b[0m 0.6482  \u001b[0m | \u001b[0m 0.9538  \u001b[0m | \u001b[0m 5.958   \u001b[0m | \u001b[0m 0.1203  \u001b[0m | \u001b[0m 17.68   \u001b[0m | \u001b[0m 230.5   \u001b[0m | \u001b[0m 8.354   \u001b[0m | \u001b[0m 10.81   \u001b[0m | \u001b[0m 0.8468  \u001b[0m |\n",
      "| \u001b[0m 75      \u001b[0m | \u001b[0m 0.6468  \u001b[0m | \u001b[0m 0.8731  \u001b[0m | \u001b[0m 5.291   \u001b[0m | \u001b[0m 0.1838  \u001b[0m | \u001b[0m 17.82   \u001b[0m | \u001b[0m 264.8   \u001b[0m | \u001b[0m 17.09   \u001b[0m | \u001b[0m 14.23   \u001b[0m | \u001b[0m 0.8817  \u001b[0m |\n",
      "| \u001b[0m 76      \u001b[0m | \u001b[0m 0.6413  \u001b[0m | \u001b[0m 0.6431  \u001b[0m | \u001b[0m 7.28    \u001b[0m | \u001b[0m 0.4381  \u001b[0m | \u001b[0m 19.35   \u001b[0m | \u001b[0m 91.7    \u001b[0m | \u001b[0m 10.99   \u001b[0m | \u001b[0m 26.68   \u001b[0m | \u001b[0m 0.7706  \u001b[0m |\n",
      "| \u001b[0m 77      \u001b[0m | \u001b[0m 0.6435  \u001b[0m | \u001b[0m 0.5018  \u001b[0m | \u001b[0m 6.589   \u001b[0m | \u001b[0m 0.1674  \u001b[0m | \u001b[0m 6.103   \u001b[0m | \u001b[0m 168.1   \u001b[0m | \u001b[0m 15.95   \u001b[0m | \u001b[0m 13.21   \u001b[0m | \u001b[0m 0.5806  \u001b[0m |\n",
      "| \u001b[0m 78      \u001b[0m | \u001b[0m 0.6473  \u001b[0m | \u001b[0m 0.9696  \u001b[0m | \u001b[0m 5.88    \u001b[0m | \u001b[0m 0.1014  \u001b[0m | \u001b[0m 22.4    \u001b[0m | \u001b[0m 236.8   \u001b[0m | \u001b[0m 7.549   \u001b[0m | \u001b[0m 47.67   \u001b[0m | \u001b[0m 0.8636  \u001b[0m |\n",
      "| \u001b[0m 79      \u001b[0m | \u001b[0m 0.6471  \u001b[0m | \u001b[0m 0.9583  \u001b[0m | \u001b[0m 8.292   \u001b[0m | \u001b[0m 0.1047  \u001b[0m | \u001b[0m 24.19   \u001b[0m | \u001b[0m 36.81   \u001b[0m | \u001b[0m 7.59    \u001b[0m | \u001b[0m 9.655   \u001b[0m | \u001b[0m 0.8334  \u001b[0m |\n",
      "| \u001b[0m 80      \u001b[0m | \u001b[0m 0.6476  \u001b[0m | \u001b[0m 0.8898  \u001b[0m | \u001b[0m 5.22    \u001b[0m | \u001b[0m 0.1059  \u001b[0m | \u001b[0m 19.9    \u001b[0m | \u001b[0m 252.7   \u001b[0m | \u001b[0m 7.488   \u001b[0m | \u001b[0m 18.14   \u001b[0m | \u001b[0m 0.7611  \u001b[0m |\n",
      "| \u001b[0m 81      \u001b[0m | \u001b[0m 0.6473  \u001b[0m | \u001b[0m 0.9865  \u001b[0m | \u001b[0m 6.221   \u001b[0m | \u001b[0m 0.1301  \u001b[0m | \u001b[0m 2.725   \u001b[0m | \u001b[0m 235.0   \u001b[0m | \u001b[0m 7.442   \u001b[0m | \u001b[0m 19.99   \u001b[0m | \u001b[0m 0.8923  \u001b[0m |\n"
     ]
    },
    {
     "name": "stdout",
     "output_type": "stream",
     "text": [
      "| \u001b[0m 82      \u001b[0m | \u001b[0m 0.6464  \u001b[0m | \u001b[0m 0.9651  \u001b[0m | \u001b[0m 5.092   \u001b[0m | \u001b[0m 0.1338  \u001b[0m | \u001b[0m 9.778   \u001b[0m | \u001b[0m 477.3   \u001b[0m | \u001b[0m 19.87   \u001b[0m | \u001b[0m 11.68   \u001b[0m | \u001b[0m 0.8471  \u001b[0m |\n",
      "| \u001b[0m 83      \u001b[0m | \u001b[0m 0.6381  \u001b[0m | \u001b[0m 0.817   \u001b[0m | \u001b[0m 19.0    \u001b[0m | \u001b[0m 0.144   \u001b[0m | \u001b[0m 24.14   \u001b[0m | \u001b[0m 38.49   \u001b[0m | \u001b[0m 19.05   \u001b[0m | \u001b[0m 47.22   \u001b[0m | \u001b[0m 0.8911  \u001b[0m |\n",
      "| \u001b[0m 84      \u001b[0m | \u001b[0m 0.648   \u001b[0m | \u001b[0m 0.9422  \u001b[0m | \u001b[0m 6.85    \u001b[0m | \u001b[0m 0.1128  \u001b[0m | \u001b[0m 3.249   \u001b[0m | \u001b[0m 212.5   \u001b[0m | \u001b[0m 8.206   \u001b[0m | \u001b[0m 8.957   \u001b[0m | \u001b[0m 0.7894  \u001b[0m |\n",
      "| \u001b[0m 85      \u001b[0m | \u001b[0m 0.6481  \u001b[0m | \u001b[0m 0.9264  \u001b[0m | \u001b[0m 5.008   \u001b[0m | \u001b[0m 0.1009  \u001b[0m | \u001b[0m 7.544   \u001b[0m | \u001b[0m 236.6   \u001b[0m | \u001b[0m 16.75   \u001b[0m | \u001b[0m 18.11   \u001b[0m | \u001b[0m 0.8075  \u001b[0m |\n",
      "| \u001b[0m 86      \u001b[0m | \u001b[0m 0.648   \u001b[0m | \u001b[0m 0.9341  \u001b[0m | \u001b[0m 6.196   \u001b[0m | \u001b[0m 0.1443  \u001b[0m | \u001b[0m 24.48   \u001b[0m | \u001b[0m 54.32   \u001b[0m | \u001b[0m 12.71   \u001b[0m | \u001b[0m 15.24   \u001b[0m | \u001b[0m 0.8455  \u001b[0m |\n",
      "| \u001b[0m 87      \u001b[0m | \u001b[0m 0.6469  \u001b[0m | \u001b[0m 0.76    \u001b[0m | \u001b[0m 5.457   \u001b[0m | \u001b[0m 0.159   \u001b[0m | \u001b[0m 14.42   \u001b[0m | \u001b[0m 510.0   \u001b[0m | \u001b[0m 10.06   \u001b[0m | \u001b[0m 49.35   \u001b[0m | \u001b[0m 0.8416  \u001b[0m |\n",
      "| \u001b[0m 88      \u001b[0m | \u001b[0m 0.6476  \u001b[0m | \u001b[0m 0.8503  \u001b[0m | \u001b[0m 5.288   \u001b[0m | \u001b[0m 0.1088  \u001b[0m | \u001b[0m 24.52   \u001b[0m | \u001b[0m 210.2   \u001b[0m | \u001b[0m 7.981   \u001b[0m | \u001b[0m 21.49   \u001b[0m | \u001b[0m 0.837   \u001b[0m |\n",
      "| \u001b[0m 89      \u001b[0m | \u001b[0m 0.6466  \u001b[0m | \u001b[0m 0.5432  \u001b[0m | \u001b[0m 5.102   \u001b[0m | \u001b[0m 0.1098  \u001b[0m | \u001b[0m 24.51   \u001b[0m | \u001b[0m 81.93   \u001b[0m | \u001b[0m 7.117   \u001b[0m | \u001b[0m 11.96   \u001b[0m | \u001b[0m 0.6966  \u001b[0m |\n",
      "| \u001b[0m 90      \u001b[0m | \u001b[0m 0.6459  \u001b[0m | \u001b[0m 0.5801  \u001b[0m | \u001b[0m 5.853   \u001b[0m | \u001b[0m 0.1097  \u001b[0m | \u001b[0m 18.72   \u001b[0m | \u001b[0m 510.6   \u001b[0m | \u001b[0m 19.92   \u001b[0m | \u001b[0m 43.55   \u001b[0m | \u001b[0m 0.8795  \u001b[0m |\n",
      "=========================================================================================================================\n",
      "CPU times: user 6h 7min 40s, sys: 4min 12s, total: 6h 11min 53s\n",
      "Wall time: 23min 42s\n"
     ]
    }
   ],
   "source": [
    "%%time\n",
    "# 모델 그 외 변수는 고정\n",
    "var_fixed = partial(\n",
    "        XGB_cv, \n",
    "        x_data=x_train, \n",
    "        y_data=y_train, \n",
    "        n_splits=5, \n",
    "        output='score'\n",
    "    )\n",
    "\n",
    "# 베이지안 최적화 범위 설정\n",
    "XGBo = BayesianOptimization(\n",
    "        var_fixed, \n",
    "        {\n",
    "            'max_depth': (8, 512),          # ~ 500\n",
    "            'learning_rate': (0.1, 0.6),    # 0.6xxx\n",
    "            'subsample': (0.5, 0.9),        # 0.5 ~ 0.7\n",
    "            'colsample_bytree': (0.5, 1),   # 0.5 ~ 0.8\n",
    "            # 'colsample_bynode':(0, 1),\n",
    "            # 'n_estimators' : (16, 1024),\n",
    "            'reg_alpha' : (7, 20),          # L1 - 7 ~ 20\n",
    "            'reg_lambda' : (8, 50),         # L2 - 8 ~ 45\n",
    "            'max_delta_step' : (1, 25),     # 8.x\n",
    "            'gamma' : (5, 20),              # 1 ~ 15\n",
    "        },\n",
    "        random_state = random.randrange(50000) # 유동 시드 1~50000\n",
    "    )\n",
    "\n",
    "# XGBo.maximize(init_points=15, n_iter=60)  # 처음 15회 랜덤값으로 score 계산 후 60회 최적화 = 4/04(토)\n",
    "XGBo.maximize(init_points=15, n_iter=75)    # 처음 15회 랜덤값으로 score 계산 후 75회 최적화 = 4/11(토)"
   ]
  },
  {
   "cell_type": "markdown",
   "metadata": {
    "colab_type": "text",
    "id": "CfHi_LZ4O1_l"
   },
   "source": [
    "### 3.0 모델 학습 및 검증\n",
    "- Model Tuning & Evaluation\n",
    "\n",
    "> 1. AUC가 가장 높은 하이퍼 파라미터를 사용해 최종 모델을 얻습니다.\n",
    "> 1. 훈련 세트와 같은 방법으로 테스트 세트에서 Feature를 추출합니다.\n",
    "> 1. 최종 모델을 사용해 예측을 수행합니다.\n",
    "> 1. 예측 결과를 submission.csv로 저장합니다."
   ]
  },
  {
   "cell_type": "code",
   "execution_count": 13,
   "metadata": {
    "colab": {},
    "colab_type": "code",
    "id": "7UMIvW62UWhn"
   },
   "outputs": [],
   "source": [
    "\"\"\"\n",
    "# params = lgbBO.max['params']\n",
    "# models = lgb_cv(\n",
    "#         params['num_leaves'], \n",
    "#         params['learning_rate'], \n",
    "#         params['n_estimators'], \n",
    "#         params['subsample'], \n",
    "#         params['colsample_bytree'], \n",
    "#         params['reg_alpha'], \n",
    "#         params['reg_lambda'], \n",
    "#         x_data=x_train, \n",
    "#         y_data=y_train, \n",
    "#         n_splits=5, \n",
    "#         output='model',\n",
    "#    )\n",
    "\"\"\"\n",
    "\n",
    "params = XGBo.max['params']\n",
    "models = XGB_cv(\n",
    "        params['max_depth'], \n",
    "        params['learning_rate'],\n",
    "        params['subsample'], \n",
    "        params['colsample_bytree'],\n",
    "        # params['colsample_bynode'], \n",
    "        params['reg_alpha'], \n",
    "        params['reg_lambda'],\n",
    "        params['max_delta_step'],\n",
    "        # params['n_estimators'],\n",
    "        params['gamma'],\n",
    "        x_data=x_train, \n",
    "        y_data=y_train, \n",
    "        n_splits=5, \n",
    "        output='model'\n",
    "    )"
   ]
  },
  {
   "cell_type": "markdown",
   "metadata": {
    "colab_type": "text",
    "id": "W9d6ImndX5zO"
   },
   "source": [
    "# TEST를 풀기위해, 학습데이터로 변경 (data_preps)\n",
    " 1. Train Data set = [ 67,091,776 x 7 ] ... 70%\n",
    "  - game_id 별로 정리하면 [38,872 x 27]로 압축된다. \n",
    "  - 경기당, 평균 1,726개의 이벤트가 존재한다.(압축률 0.057939 %)\n",
    " > - x_train set = *** DATA SHAPE = [ 38,872 x 27 ] pandas.DataFrame\n",
    " > - y_train set = *** DATA SHAPE = [ 38,872 x 1 ]  np.array\n",
    " \n",
    " 1. Test Data set  = [ 28,714,849 x 6 ] ... 30%\n",
    "  - game_id 별로 정리하면 [16,787 x 27] 로 압축된다. \n",
    "  - 경기당 평균 1711개의 이벤트가 존재한다.(압축률 0.058461 %)\n",
    " > - x_test set = *** DATA SHAPE = [16,787 x 27] pandas.DataFrame \n",
    " > - y_test set = *** DATA SHAPE = [16,787 x 1] np.array =  대회주관자가 가지고 있음\n",
    " \n",
    " 1. Submission = y_test set \n",
    "  - submission = [16,787 x 1] np.array to [16,787 x 2 ] pandas.DataFrame --> df.csv"
   ]
  },
  {
   "cell_type": "code",
   "execution_count": 14,
   "metadata": {
    "colab": {
     "base_uri": "https://localhost:8080/",
     "height": 52
    },
    "colab_type": "code",
    "executionInfo": {
     "elapsed": 3153040,
     "status": "ok",
     "timestamp": 1585620279084,
     "user": {
      "displayName": "SuParX -K",
      "photoUrl": "https://lh3.googleusercontent.com/a-/AOh14GgAhLtiQrZfK-FHgn5GBmgExX619ygpOPHHdN4ZkU0=s64",
      "userId": "05876132496561296136"
     },
     "user_tz": -540
    },
    "id": "20YeuGYXUWZ3",
    "outputId": "2086b8f3-a90c-4be4-a89d-8637498abc07"
   },
   "outputs": [],
   "source": [
    "\"\"\"\n",
    "# 테스트용 데이터를 전처리 해서 분석 준비 ... (시간소요) 미리 저장한 화일을 불러온다\n",
    "# 저장했으면 비활성 처리\n",
    "# x_test, _ = data_preparation(test, answer=False)                 # [ 28,714,849 x 6 ] ... 30%\n",
    "# x_test.to_csv(dir_base + remake + 'df_xtest_remake.csv')\n",
    "# x_test = pd.read_csv(dir_base + remake + 'df_xtest_remake.csv')  # [  16,787 x 27 ]\n",
    "\"\"\"\n",
    "x_test = pd.read_csv(dir_base + remake + 'df_xtest_remake.csv')    # *** DATA SHAPE = [ 16,787 x 27 ]\n"
   ]
  },
  {
   "cell_type": "code",
   "execution_count": null,
   "metadata": {},
   "outputs": [],
   "source": []
  },
  {
   "cell_type": "code",
   "execution_count": null,
   "metadata": {},
   "outputs": [],
   "source": []
  },
  {
   "cell_type": "code",
   "execution_count": null,
   "metadata": {},
   "outputs": [],
   "source": []
  },
  {
   "cell_type": "markdown",
   "metadata": {},
   "source": [
    "# 예측결과 Submission 화일 만들기"
   ]
  },
  {
   "cell_type": "code",
   "execution_count": 15,
   "metadata": {
    "colab": {
     "base_uri": "https://localhost:8080/",
     "height": 195
    },
    "colab_type": "code",
    "executionInfo": {
     "elapsed": 3155255,
     "status": "ok",
     "timestamp": 1585620281362,
     "user": {
      "displayName": "SuParX -K",
      "photoUrl": "https://lh3.googleusercontent.com/a-/AOh14GgAhLtiQrZfK-FHgn5GBmgExX619ygpOPHHdN4ZkU0=s64",
      "userId": "05876132496561296136"
     },
     "user_tz": -540
    },
    "id": "k9HevRoDUWUC",
    "outputId": "aff8a829-a8c4-4794-cbe5-861aea6392db"
   },
   "outputs": [],
   "source": [
    "\"\"\"\n",
    "# pd.read_csv('data/sample_submission.csv', index_col=0)\n",
    "# sample_submission = pd.read_csv(dir_base + sub_base + \"sample_submission.csv\")\n",
    "\"\"\"\n",
    "\n",
    "preds = []\n",
    "\n",
    "for model in models:\n",
    "    pred = model.predict_proba(x_test)[:, 1]\n",
    "    preds.append(pred)\n",
    "    \n",
    "pred = np.mean(preds, axis=0)"
   ]
  },
  {
   "cell_type": "code",
   "execution_count": 16,
   "metadata": {},
   "outputs": [
    {
     "name": "stdout",
     "output_type": "stream",
     "text": [
      "False\n",
      "DIR_TARGET=/home/yk/0325_Starcraft/competition/c03_starcraft_prediction/data_remake\n",
      "/home/yk/0325_Starcraft/competition/c03_starcraft_prediction/data_raw/\n",
      "----------------------------------------\n",
      "  01. sample_submission.csv\n",
      "  02. test.csv\n",
      "  03. train.csv\n"
     ]
    }
   ],
   "source": [
    "show_ls(dir_base + raw)"
   ]
  },
  {
   "cell_type": "code",
   "execution_count": 17,
   "metadata": {},
   "outputs": [],
   "source": [
    "submission = pd.read_csv(dir_base + raw + \"sample_submission.csv\") \n",
    "\n",
    "\n",
    "submission['winner'] = pred\n",
    "submission.to_csv(dir_base + submit + filename_submit, index=False)"
   ]
  },
  {
   "cell_type": "markdown",
   "metadata": {
    "colab_type": "text",
    "id": "4PobqJx-OM0Q"
   },
   "source": [
    "# 결과 확인하기\n",
    "- 3월 데이콘 대회 홈페이지 = https://bit.ly/39bqWVg\n",
    "- 결과 제출하기 = https://dacon.io/competitions/official/235583/mysubmission/"
   ]
  },
  {
   "cell_type": "code",
   "execution_count": 18,
   "metadata": {},
   "outputs": [
    {
     "data": {
      "text/html": [
       "<div>\n",
       "<style scoped>\n",
       "    .dataframe tbody tr th:only-of-type {\n",
       "        vertical-align: middle;\n",
       "    }\n",
       "\n",
       "    .dataframe tbody tr th {\n",
       "        vertical-align: top;\n",
       "    }\n",
       "\n",
       "    .dataframe thead th {\n",
       "        text-align: right;\n",
       "    }\n",
       "</style>\n",
       "<table border=\"1\" class=\"dataframe\">\n",
       "  <thead>\n",
       "    <tr style=\"text-align: right;\">\n",
       "      <th></th>\n",
       "      <th>game_id</th>\n",
       "      <th>winner</th>\n",
       "    </tr>\n",
       "  </thead>\n",
       "  <tbody>\n",
       "    <tr>\n",
       "      <th>0</th>\n",
       "      <td>38872</td>\n",
       "      <td>0.586648</td>\n",
       "    </tr>\n",
       "    <tr>\n",
       "      <th>1</th>\n",
       "      <td>38873</td>\n",
       "      <td>0.488454</td>\n",
       "    </tr>\n",
       "    <tr>\n",
       "      <th>2</th>\n",
       "      <td>38874</td>\n",
       "      <td>0.456282</td>\n",
       "    </tr>\n",
       "    <tr>\n",
       "      <th>3</th>\n",
       "      <td>38875</td>\n",
       "      <td>0.372868</td>\n",
       "    </tr>\n",
       "    <tr>\n",
       "      <th>4</th>\n",
       "      <td>38876</td>\n",
       "      <td>0.462080</td>\n",
       "    </tr>\n",
       "    <tr>\n",
       "      <th>...</th>\n",
       "      <td>...</td>\n",
       "      <td>...</td>\n",
       "    </tr>\n",
       "    <tr>\n",
       "      <th>16782</th>\n",
       "      <td>55654</td>\n",
       "      <td>0.548557</td>\n",
       "    </tr>\n",
       "    <tr>\n",
       "      <th>16783</th>\n",
       "      <td>55655</td>\n",
       "      <td>0.427770</td>\n",
       "    </tr>\n",
       "    <tr>\n",
       "      <th>16784</th>\n",
       "      <td>55656</td>\n",
       "      <td>0.719651</td>\n",
       "    </tr>\n",
       "    <tr>\n",
       "      <th>16785</th>\n",
       "      <td>55657</td>\n",
       "      <td>0.527545</td>\n",
       "    </tr>\n",
       "    <tr>\n",
       "      <th>16786</th>\n",
       "      <td>55658</td>\n",
       "      <td>0.681547</td>\n",
       "    </tr>\n",
       "  </tbody>\n",
       "</table>\n",
       "<p>16787 rows × 2 columns</p>\n",
       "</div>"
      ],
      "text/plain": [
       "       game_id    winner\n",
       "0        38872  0.586648\n",
       "1        38873  0.488454\n",
       "2        38874  0.456282\n",
       "3        38875  0.372868\n",
       "4        38876  0.462080\n",
       "...        ...       ...\n",
       "16782    55654  0.548557\n",
       "16783    55655  0.427770\n",
       "16784    55656  0.719651\n",
       "16785    55657  0.527545\n",
       "16786    55658  0.681547\n",
       "\n",
       "[16787 rows x 2 columns]"
      ]
     },
     "execution_count": 18,
     "metadata": {},
     "output_type": "execute_result"
    }
   ],
   "source": [
    "df_1 = submission\n",
    "df_1"
   ]
  },
  {
   "cell_type": "code",
   "execution_count": 19,
   "metadata": {},
   "outputs": [
    {
     "name": "stdout",
     "output_type": "stream",
     "text": [
      "CPU times: user 6.84 s, sys: 1.38 s, total: 8.22 s\n",
      "Wall time: 2 s\n"
     ]
    }
   ],
   "source": [
    "%%time\n",
    "\"\"\"\n",
    "# df_time 데이터를 만든다. = 유니크 게임 갯수 *** DATA SHAPE = [ 38,872 x 1 ]\n",
    "\"\"\"\n",
    "\n",
    "df_time = pd.DataFrame(columns=['game_id'])       # 빈 df 선언\n",
    "df_time['game_id'] = test['game_id'].unique() # 빈 df 에 'game_id 를 채운다\n",
    "df_time['time'] = np.array(test[test.shift(-1).game_id != test.game_id].time)"
   ]
  },
  {
   "cell_type": "code",
   "execution_count": 20,
   "metadata": {},
   "outputs": [
    {
     "data": {
      "text/html": [
       "<div>\n",
       "<style scoped>\n",
       "    .dataframe tbody tr th:only-of-type {\n",
       "        vertical-align: middle;\n",
       "    }\n",
       "\n",
       "    .dataframe tbody tr th {\n",
       "        vertical-align: top;\n",
       "    }\n",
       "\n",
       "    .dataframe thead th {\n",
       "        text-align: right;\n",
       "    }\n",
       "</style>\n",
       "<table border=\"1\" class=\"dataframe\">\n",
       "  <thead>\n",
       "    <tr style=\"text-align: right;\">\n",
       "      <th></th>\n",
       "      <th>game_id</th>\n",
       "      <th>time</th>\n",
       "    </tr>\n",
       "  </thead>\n",
       "  <tbody>\n",
       "    <tr>\n",
       "      <th>0</th>\n",
       "      <td>38872</td>\n",
       "      <td>7.06</td>\n",
       "    </tr>\n",
       "    <tr>\n",
       "      <th>1</th>\n",
       "      <td>38873</td>\n",
       "      <td>6.07</td>\n",
       "    </tr>\n",
       "    <tr>\n",
       "      <th>2</th>\n",
       "      <td>38874</td>\n",
       "      <td>4.41</td>\n",
       "    </tr>\n",
       "    <tr>\n",
       "      <th>3</th>\n",
       "      <td>38875</td>\n",
       "      <td>7.58</td>\n",
       "    </tr>\n",
       "    <tr>\n",
       "      <th>4</th>\n",
       "      <td>38876</td>\n",
       "      <td>2.50</td>\n",
       "    </tr>\n",
       "    <tr>\n",
       "      <th>...</th>\n",
       "      <td>...</td>\n",
       "      <td>...</td>\n",
       "    </tr>\n",
       "    <tr>\n",
       "      <th>16782</th>\n",
       "      <td>55654</td>\n",
       "      <td>6.14</td>\n",
       "    </tr>\n",
       "    <tr>\n",
       "      <th>16783</th>\n",
       "      <td>55655</td>\n",
       "      <td>9.58</td>\n",
       "    </tr>\n",
       "    <tr>\n",
       "      <th>16784</th>\n",
       "      <td>55656</td>\n",
       "      <td>6.24</td>\n",
       "    </tr>\n",
       "    <tr>\n",
       "      <th>16785</th>\n",
       "      <td>55657</td>\n",
       "      <td>1.17</td>\n",
       "    </tr>\n",
       "    <tr>\n",
       "      <th>16786</th>\n",
       "      <td>55658</td>\n",
       "      <td>4.54</td>\n",
       "    </tr>\n",
       "  </tbody>\n",
       "</table>\n",
       "<p>16787 rows × 2 columns</p>\n",
       "</div>"
      ],
      "text/plain": [
       "       game_id  time\n",
       "0        38872  7.06\n",
       "1        38873  6.07\n",
       "2        38874  4.41\n",
       "3        38875  7.58\n",
       "4        38876  2.50\n",
       "...        ...   ...\n",
       "16782    55654  6.14\n",
       "16783    55655  9.58\n",
       "16784    55656  6.24\n",
       "16785    55657  1.17\n",
       "16786    55658  4.54\n",
       "\n",
       "[16787 rows x 2 columns]"
      ]
     },
     "execution_count": 20,
     "metadata": {},
     "output_type": "execute_result"
    }
   ],
   "source": [
    "df_time"
   ]
  }
 ],
 "metadata": {
  "colab": {
   "collapsed_sections": [],
   "machine_shape": "hm",
   "name": "starcraft_LGBM_baseline.ipynb",
   "provenance": []
  },
  "kernelspec": {
   "display_name": "Python 3",
   "language": "python",
   "name": "python3"
  },
  "language_info": {
   "codemirror_mode": {
    "name": "ipython",
    "version": 3
   },
   "file_extension": ".py",
   "mimetype": "text/x-python",
   "name": "python",
   "nbconvert_exporter": "python",
   "pygments_lexer": "ipython3",
   "version": "3.7.6"
  }
 },
 "nbformat": 4,
 "nbformat_minor": 1
}
