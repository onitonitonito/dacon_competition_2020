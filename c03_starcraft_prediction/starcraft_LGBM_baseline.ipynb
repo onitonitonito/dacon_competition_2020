{
 "cells": [
  {
   "cell_type": "markdown",
   "metadata": {
    "colab_type": "text",
    "id": "Yj9dS4w29AUl"
   },
   "source": [
    "### 구글드라이브 연결\n",
    "> - drive 폴더가 붙은 것을 확인한다.\n",
    "> - drwx------ 4 root root 4.0K Mar 22 11:21 drive"
   ]
  },
  {
   "cell_type": "code",
   "execution_count": 1,
   "metadata": {
    "colab": {
     "base_uri": "https://localhost:8080/",
     "height": 125
    },
    "colab_type": "code",
    "executionInfo": {
     "elapsed": 15458,
     "status": "ok",
     "timestamp": 1585617140987,
     "user": {
      "displayName": "SuParX -K",
      "photoUrl": "https://lh3.googleusercontent.com/a-/AOh14GgAhLtiQrZfK-FHgn5GBmgExX619ygpOPHHdN4ZkU0=s64",
      "userId": "05876132496561296136"
     },
     "user_tz": -540
    },
    "id": "cG0ywtEV7uIh",
    "outputId": "a95953a7-c6a3-447d-8e73-e71681064258"
   },
   "outputs": [],
   "source": [
    "# from google.colab import drive \n",
    "# drive.mount('/content/drive/')"
   ]
  },
  {
   "cell_type": "markdown",
   "metadata": {
    "colab_type": "text",
    "id": "187ugqNFuzIG"
   },
   "source": [
    "### Install / Import 모듈 "
   ]
  },
  {
   "cell_type": "code",
   "execution_count": 2,
   "metadata": {
    "colab": {
     "base_uri": "https://localhost:8080/",
     "height": 178
    },
    "colab_type": "code",
    "executionInfo": {
     "elapsed": 20113,
     "status": "ok",
     "timestamp": 1585617145679,
     "user": {
      "displayName": "SuParX -K",
      "photoUrl": "https://lh3.googleusercontent.com/a-/AOh14GgAhLtiQrZfK-FHgn5GBmgExX619ygpOPHHdN4ZkU0=s64",
      "userId": "05876132496561296136"
     },
     "user_tz": -540
    },
    "id": "KHr7Oekx9AgU",
    "outputId": "e8bdfc50-1d0d-46cd-af53-4313a5845e4a"
   },
   "outputs": [],
   "source": [
    "# 코랩에 없는 라이브러리 설치해주기\n",
    "# !pip install bayesian-optimization"
   ]
  },
  {
   "cell_type": "code",
   "execution_count": 3,
   "metadata": {
    "colab": {},
    "colab_type": "code",
    "id": "O14CYkrx_Wvr"
   },
   "outputs": [],
   "source": [
    "import os\n",
    "import pandas as pd                         # 데이터 분석 라이브러리\n",
    "import numpy as np                          # 계산 라이브러리\n",
    "import matplotlib.pyplot as plt             # * 그래프 이미지\n",
    "\n",
    "from tqdm import tqdm                       # 진행바\n",
    "\n",
    "from sklearn.metrics import roc_auc_score   # AUC 스코어 계산\n",
    "from sklearn.model_selection import KFold   # K-fold CV    \n",
    "from bayes_opt import BayesianOptimization  # 베이지안 최적화 라이브러리  \n",
    "from functools import partial               # 함수 변수 고정\n",
    "import lightgbm as lgb                      # LightGBM 라이브러리\n",
    "import warnings           \n",
    "import random                       \n",
    "warnings.filterwarnings(\"ignore\")           # 경고 문구 미표시"
   ]
  },
  {
   "cell_type": "code",
   "execution_count": 4,
   "metadata": {
    "colab": {},
    "colab_type": "code",
    "id": "HZZBn3Ec_bXr"
   },
   "outputs": [],
   "source": [
    "# 데이터가 많아 5분 정도 걸립니다.  \n",
    "# 전체경로 = /content/drive/My Drive/Colab Notebooks/competition/c03_starcraft_prediction/data_raw/train.csv\n",
    "# /content/drive/My Drive/Colab Notebooks/\n",
    "# dir_base = '/content/drive/My Drive/Colab Notebooks/competition/''\n",
    "\n",
    "dir_base = '/home/yk/0325_Starcraft/competition/'\n",
    "\n",
    "raw      = 'c03_starcraft_prediction/data_raw/'\n",
    "remake   = 'c03_starcraft_prediction/data_remake/'\n",
    "submit   = 'c03_starcraft_prediction/data_submit/'"
   ]
  },
  {
   "cell_type": "markdown",
   "metadata": {
    "colab_type": "text",
    "id": "wwg2_k9Sn9oI"
   },
   "source": [
    "### 사용함수의 정의"
   ]
  },
  {
   "cell_type": "code",
   "execution_count": 5,
   "metadata": {
    "colab": {},
    "colab_type": "code",
    "id": "oDh38baE_aFv"
   },
   "outputs": [
    {
     "name": "stdout",
     "output_type": "stream",
     "text": [
      "\n",
      "# OS 화일 및 DF 정보조회를 위한 탐색 모듈\n",
      "\n",
      "\n",
      "# GAME_ID 유니크 데이터 전처리를 위한 모듈 - baseline offer\n",
      "\n",
      "\n",
      "# LGBM_CV 모델 - Dacon Baseline 참조\n",
      "\n"
     ]
    }
   ],
   "source": [
    "os.chdir(dir_base)\n",
    "from _assets.modules import *\n",
    "from _assets.module_data_preps import *\n",
    "from _assets.module_lgbm_model import *"
   ]
  },
  {
   "cell_type": "markdown",
   "metadata": {
    "colab_type": "text",
    "id": "oo6aAKuVprwn"
   },
   "source": [
    "### Data 불러오기\n",
    "\n",
    "| 컬럼명  | 값    | type     | 설명                  | 비고   |\n",
    "|:-------:|:------|----------|-----------------------|--------|\n",
    "| game_id |33781  |int       |경기 구분 기호         | unique (multiple) \n",
    "| winner  |0.6523 |float     |player-1 승리확률      | 0.6287\n",
    "| time    |2.24   |float     |경기시간 (60분법 구분) | 2분24초\n",
    "| player  |0      |int       |player 0 - 첫번째 선수 \n",
    "|         |1      |int       |player 1 - 두번째 선수          \n",
    "| species |T      |Object    |테란 (Terran)    |     \n",
    "|         |P      |Object    |프로토스 (Protos)|      \n",
    "|         |Z      |Object    |저그 (Zerg)      |      \n",
    "| event   |Ability           |Object |생산, 공격 등 선수의 주요 행동\n",
    "|         |AddToControlGroup |Object |부대에 추가\n",
    "|         |Camera            |Object |시점 선택\n",
    "|         |ControlGroup      |Object |부대 행동\n",
    "|         |GetControlGroup   |Object |부대 불러오기\n",
    "|         |Right             |Object |Click : 마우스 우클릭\n",
    "|         |Selection         |Object |객체 선택\n",
    "|         |SetControlGroup   |Object |부대 지정\n",
    "|event_contents|@(좌표, 등)  | object|이벤트에 관한 상세설명 "
   ]
  },
  {
   "cell_type": "code",
   "execution_count": 6,
   "metadata": {
    "colab": {
     "base_uri": "https://localhost:8080/",
     "height": 298
    },
    "colab_type": "code",
    "executionInfo": {
     "elapsed": 24900,
     "status": "ok",
     "timestamp": 1585617150634,
     "user": {
      "displayName": "SuParX -K",
      "photoUrl": "https://lh3.googleusercontent.com/a-/AOh14GgAhLtiQrZfK-FHgn5GBmgExX619ygpOPHHdN4ZkU0=s64",
      "userId": "05876132496561296136"
     },
     "user_tz": -540
    },
    "id": "o7odz-aqnygj",
    "outputId": "e0410269-54b2-4a37-ac09-e2ccc600f26a"
   },
   "outputs": [
    {
     "name": "stdout",
     "output_type": "stream",
     "text": [
      "False\n",
      "DIR_TARGET=/home/yk/0325_Starcraft/competition\n",
      "/home/yk/0325_Starcraft/competition/c03_starcraft_prediction/data_raw/\n",
      "----------------------------------------\n",
      "  01. sample_submission.csv\n",
      "  02. test.csv\n",
      "  03. train.csv\n"
     ]
    }
   ],
   "source": [
    "# 화일위치 / list 확인하기 ... 사용함수\n",
    "# show_ls('/content')          # drive 가 붙었는지 확인!\n",
    "show_ls(dir_base + raw)      # 불러올 Data 화일이름 확인!"
   ]
  },
  {
   "cell_type": "code",
   "execution_count": 7,
   "metadata": {
    "colab": {
     "base_uri": "https://localhost:8080/",
     "height": 52
    },
    "colab_type": "code",
    "executionInfo": {
     "elapsed": 204658,
     "status": "ok",
     "timestamp": 1585617330417,
     "user": {
      "displayName": "SuParX -K",
      "photoUrl": "https://lh3.googleusercontent.com/a-/AOh14GgAhLtiQrZfK-FHgn5GBmgExX619ygpOPHHdN4ZkU0=s64",
      "userId": "05876132496561296136"
     },
     "user_tz": -540
    },
    "id": "jJ0vpnFsnJ5m",
    "outputId": "a1791adc-607c-4e52-cfea-0552d51cfcd4"
   },
   "outputs": [
    {
     "name": "stdout",
     "output_type": "stream",
     "text": [
      "CPU times: user 1min, sys: 4.69 s, total: 1min 4s\n",
      "Wall time: 1min\n"
     ]
    }
   ],
   "source": [
    "%%time\n",
    "# raw 데이터 3개 불러오기 ... 2분13초\n",
    "\n",
    "train = pd.read_csv(dir_base + raw + \"train.csv\")                           # [ 67,091,776 x 7 ] ... 70%\n",
    "test = pd.read_csv(dir_base + raw + \"test.csv\")                             # [ 28,714,849 x 6 ] ... 30%\n",
    "sample_submission = pd.read_csv(dir_base + raw + \"sample_submission.csv\")   # [     16,787 x 2 ] ... 0.0175 %"
   ]
  },
  {
   "cell_type": "code",
   "execution_count": 19,
   "metadata": {},
   "outputs": [
    {
     "name": "stdout",
     "output_type": "stream",
     "text": [
      "*** DATA SHAPE = [ 67,091,776 x 7 ]\n",
      "\n",
      "<class 'pandas.core.frame.DataFrame'>\n",
      "RangeIndex: 67091776 entries, 0 to 67091775\n",
      "Data columns (total 7 columns):\n",
      "game_id           int64\n",
      "winner            int64\n",
      "time              float64\n",
      "player            int64\n",
      "species           object\n",
      "event             object\n",
      "event_contents    object\n",
      "dtypes: float64(1), int64(3), object(3)\n",
      "memory usage: 3.5+ GB\n",
      "None\n",
      "\n",
      "            game_id        winner          time        player\n",
      "count  6.709178e+07  6.709178e+07  6.709178e+07  6.709178e+07\n",
      "mean   1.944981e+04  5.012076e-01  4.277912e+00  4.992699e-01\n",
      "std    1.122980e+04  4.999985e-01  2.709741e+00  4.999995e-01\n",
      "min    0.000000e+00  0.000000e+00  0.000000e+00  0.000000e+00\n",
      "25%    9.718000e+03  0.000000e+00  2.120000e+00  0.000000e+00\n",
      "50%    1.948500e+04  1.000000e+00  4.150000e+00  0.000000e+00\n",
      "75%    2.919700e+04  1.000000e+00  6.360000e+00  1.000000e+00\n",
      "max    3.887100e+04  1.000000e+00  1.059000e+01  1.000000e+00\n",
      "\n"
     ]
    }
   ],
   "source": [
    "show_infoDF_from(train)"
   ]
  },
  {
   "cell_type": "markdown",
   "metadata": {
    "colab_type": "text",
    "id": "hbZfWk-F6_R_"
   },
   "source": [
    "### Data 전처리 및 저장하기\n",
    "- 전처리 된 x_train, y_train 내용을 확인하고, 저장한다."
   ]
  },
  {
   "cell_type": "code",
   "execution_count": 20,
   "metadata": {},
   "outputs": [
    {
     "name": "stdout",
     "output_type": "stream",
     "text": [
      "False\n",
      "DIR_TARGET=/home/yk/0325_Starcraft/competition/c03_starcraft_prediction/data_raw\n",
      "/home/yk/0325_Starcraft/competition/c03_starcraft_prediction/data_remake/\n",
      "----------------------------------------\n",
      "  01. .ipynb_checkpoints\n",
      "  02. accumujated_winning_rate_per_time.csv\n",
      "  03. accumulated_winning_rate_per_time.csv\n",
      "  04. df_new_rate04_correct.csv\n",
      "  05. df_win_rate_every_10sec.csv\n",
      "  06. df_win_rate_every_20sec.csv\n",
      "  07. df_win_rate_every_40sec.csv\n",
      "  08. df_xtest_remake.csv\n",
      "  09. df_xtrain_remake.csv\n",
      "  10. df_xtrain_remake_final.csv\n",
      "  11. df_ytrain_remake.csv\n"
     ]
    }
   ],
   "source": [
    "show_ls(dir_base + remake)"
   ]
  },
  {
   "cell_type": "code",
   "execution_count": 36,
   "metadata": {
    "colab": {
     "base_uri": "https://localhost:8080/",
     "height": 70
    },
    "colab_type": "code",
    "executionInfo": {
     "elapsed": 779388,
     "status": "ok",
     "timestamp": 1585617905233,
     "user": {
      "displayName": "SuParX -K",
      "photoUrl": "https://lh3.googleusercontent.com/a-/AOh14GgAhLtiQrZfK-FHgn5GBmgExX619ygpOPHHdN4ZkU0=s64",
      "userId": "05876132496561296136"
     },
     "user_tz": -540
    },
    "id": "Y_yK7Y7d_esh",
    "outputId": "931af35d-a36b-45fd-9834-02a175dc756c"
   },
   "outputs": [
    {
     "name": "stdout",
     "output_type": "stream",
     "text": [
      "CPU times: user 52.3 ms, sys: 3.7 ms, total: 56 ms\n",
      "Wall time: 55.4 ms\n"
     ]
    }
   ],
   "source": [
    "%%time\n",
    "\"\"\"\n",
    "# 데이터 전처리 과정 - 약 7 ~ 10분 정도 걸립니다 ... 여기서 세션 리셋 됨!\n",
    "# x_train, y_train = data_preparation(train, answer=True)           # [ 67,091,776 x 7 ] ... 70%\n",
    "# show_infoDF_from(x_train) # *** DATA SHAPE = [ 38,872 x 27 ] ... [ game_id ... ]\n",
    "# show_infoDF_from(y_train) # *** DATA SHAPE = [ 38,872 x 3 ] .. ['Unnamed: 0', 'game_id', 'winner']\n",
    "\"\"\"\n",
    "\n",
    "x_train = pd.read_csv(dir_base + remake + 'df_xtrain_remake.csv')  # to <class 'pandas.core.frame.DataFrame'>\n",
    "ytrain = pd.read_csv(dir_base + remake + 'df_ytrain_remake.csv')  # to <class 'numpy.ndarray'>\n",
    "y_train = ytrain['winner'].values                                 # array([1, 1, 0, ..., 0, 1, 0])"
   ]
  },
  {
   "cell_type": "code",
   "execution_count": 38,
   "metadata": {
    "colab": {
     "base_uri": "https://localhost:8080/",
     "height": 282
    },
    "colab_type": "code",
    "executionInfo": {
     "elapsed": 779323,
     "status": "ok",
     "timestamp": 1585617905240,
     "user": {
      "displayName": "SuParX -K",
      "photoUrl": "https://lh3.googleusercontent.com/a-/AOh14GgAhLtiQrZfK-FHgn5GBmgExX619ygpOPHHdN4ZkU0=s64",
      "userId": "05876132496561296136"
     },
     "user_tz": -540
    },
    "id": "zAN0hC9M1IpN",
    "outputId": "6dec3e26-23c5-4ff8-cab7-d515477bda7a"
   },
   "outputs": [
    {
     "data": {
      "text/plain": [
       "1    19499\n",
       "0    19373\n",
       "dtype: int64"
      ]
     },
     "execution_count": 38,
     "metadata": {},
     "output_type": "execute_result"
    }
   ],
   "source": [
    "pd.Series(y_train).value_counts()\n",
    "# 1    19499\n",
    "# 0    19373            total = 38,872  y_train = np.array 38,872"
   ]
  },
  {
   "cell_type": "code",
   "execution_count": null,
   "metadata": {
    "colab": {
     "base_uri": "https://localhost:8080/",
     "height": 54
    },
    "colab_type": "code",
    "executionInfo": {
     "elapsed": 779492,
     "status": "ok",
     "timestamp": 1585617905469,
     "user": {
      "displayName": "SuParX -K",
      "photoUrl": "https://lh3.googleusercontent.com/a-/AOh14GgAhLtiQrZfK-FHgn5GBmgExX619ygpOPHHdN4ZkU0=s64",
      "userId": "05876132496561296136"
     },
     "user_tz": -540
    },
    "id": "hoDJ1YXt5yq7",
    "outputId": "744bc55f-e6bd-4415-8c4f-8be6a77ce1ad"
   },
   "outputs": [],
   "source": [
    "# 제대로 작성이 됬는지 확인 다 끝났으면, 저장한다. 저장끝났으면 비활성화 처리\n",
    "\n",
    "\n",
    "\"\"\"  # 저장했으면 비활성 처리\n",
    "df_xtrain.to_csv(dir_base + remake + 'df_xtrain_remake.csv')\n",
    "df_ytrain.to_csv(dir_base + remake + 'df_ytrain_remake.csv')\n",
    "\"\"\""
   ]
  },
  {
   "cell_type": "markdown",
   "metadata": {
    "colab_type": "text",
    "id": "N0IWulmegR7U"
   },
   "source": [
    "# LGBM Classifier 모델 적용\n",
    " -  Light Gradient Boost Method 적용\n",
    " - [출처] :  YW & YY's Python, Machine & Deep Learning\n",
    " > - Light GBM: A Highly Efficient Gradient Boosting Decision Tree 논문 리뷰\n",
    " > - [Light GBM 모델 설명 및 사용법](https://greeksharifa.github.io/machine_learning/2019/12/09/Light-GBM/)\n",
    "\n",
    " > 다중 분류, 클릭 예측, 순위 학습 등에 주로 사용되는 Gradient Boosting Decision Tree (GBDT)는 굉장히 유용한 머신러닝 알고리즘이며, XGBoost나 pGBRT 등 효율적인 기법의 설계를 가능하게 하였다. 이러한 구현은 많은 엔지니어링 최적화를 이룩하였지만 고차원이고 큰 데이터 셋에서는 만족스러운 결과를 내지 못하는 경우도 있었다. 왜냐하면 모든 가능한 분할점에 대해 정보 획득을 평가하기 위해 데이터 개체 전부를 스캔해야 했기 때문이다. 이는 당연하게도, 굉장히 시간 소모적이다.\n"
   ]
  },
  {
   "cell_type": "code",
   "execution_count": 39,
   "metadata": {
    "colab": {
     "base_uri": "https://localhost:8080/",
     "height": 1000
    },
    "colab_type": "code",
    "executionInfo": {
     "elapsed": 2898666,
     "status": "ok",
     "timestamp": 1585620024669,
     "user": {
      "displayName": "SuParX -K",
      "photoUrl": "https://lh3.googleusercontent.com/a-/AOh14GgAhLtiQrZfK-FHgn5GBmgExX619ygpOPHHdN4ZkU0=s64",
      "userId": "05876132496561296136"
     },
     "user_tz": -540
    },
    "id": "Ny69by1mUWln",
    "outputId": "f27d8775-2846-4d50-f5a0-41e2fae278d8"
   },
   "outputs": [
    {
     "name": "stdout",
     "output_type": "stream",
     "text": [
      "|   iter    |  target   | colsam... | learni... | n_esti... | num_le... | reg_alpha | reg_la... | subsample |\n",
      "-------------------------------------------------------------------------------------------------------------\n",
      "| \u001b[0m 1       \u001b[0m | \u001b[0m 0.6204  \u001b[0m | \u001b[0m 0.7358  \u001b[0m | \u001b[0m 0.06047 \u001b[0m | \u001b[0m 1.018e+0\u001b[0m | \u001b[0m 312.5   \u001b[0m | \u001b[0m 4.514   \u001b[0m | \u001b[0m 26.26   \u001b[0m | \u001b[0m 0.6482  \u001b[0m |\n",
      "| \u001b[95m 2       \u001b[0m | \u001b[95m 0.6225  \u001b[0m | \u001b[95m 0.05301 \u001b[0m | \u001b[95m 0.05603 \u001b[0m | \u001b[95m 887.4   \u001b[0m | \u001b[95m 959.7   \u001b[0m | \u001b[95m 0.8974  \u001b[0m | \u001b[95m 42.0    \u001b[0m | \u001b[95m 0.5427  \u001b[0m |\n",
      "| \u001b[0m 3       \u001b[0m | \u001b[0m 0.6181  \u001b[0m | \u001b[0m 0.7854  \u001b[0m | \u001b[0m 0.08622 \u001b[0m | \u001b[0m 1.017e+0\u001b[0m | \u001b[0m 828.4   \u001b[0m | \u001b[0m 1.707   \u001b[0m | \u001b[0m 33.24   \u001b[0m | \u001b[0m 0.4024  \u001b[0m |\n",
      "| \u001b[0m 4       \u001b[0m | \u001b[0m 0.6187  \u001b[0m | \u001b[0m 0.7415  \u001b[0m | \u001b[0m 0.07865 \u001b[0m | \u001b[0m 991.0   \u001b[0m | \u001b[0m 427.0   \u001b[0m | \u001b[0m 0.4041  \u001b[0m | \u001b[0m 48.8    \u001b[0m | \u001b[0m 0.01652 \u001b[0m |\n",
      "| \u001b[95m 5       \u001b[0m | \u001b[95m 0.6234  \u001b[0m | \u001b[95m 0.3297  \u001b[0m | \u001b[95m 0.06287 \u001b[0m | \u001b[95m 943.6   \u001b[0m | \u001b[95m 677.2   \u001b[0m | \u001b[95m 5.565   \u001b[0m | \u001b[95m 30.78   \u001b[0m | \u001b[95m 0.7229  \u001b[0m |\n",
      "| \u001b[0m 6       \u001b[0m | \u001b[0m 0.6193  \u001b[0m | \u001b[0m 0.1608  \u001b[0m | \u001b[0m 0.09457 \u001b[0m | \u001b[0m 977.3   \u001b[0m | \u001b[0m 714.1   \u001b[0m | \u001b[0m 0.8319  \u001b[0m | \u001b[0m 45.6    \u001b[0m | \u001b[0m 0.6512  \u001b[0m |\n",
      "| \u001b[95m 7       \u001b[0m | \u001b[95m 0.6333  \u001b[0m | \u001b[95m 0.173   \u001b[0m | \u001b[95m 0.007023\u001b[0m | \u001b[95m 79.3    \u001b[0m | \u001b[95m 544.6   \u001b[0m | \u001b[95m 6.916   \u001b[0m | \u001b[95m 29.8    \u001b[0m | \u001b[95m 0.2311  \u001b[0m |\n",
      "| \u001b[0m 8       \u001b[0m | \u001b[0m 0.6218  \u001b[0m | \u001b[0m 0.3991  \u001b[0m | \u001b[0m 0.09109 \u001b[0m | \u001b[0m 690.0   \u001b[0m | \u001b[0m 870.5   \u001b[0m | \u001b[0m 6.519   \u001b[0m | \u001b[0m 26.91   \u001b[0m | \u001b[0m 0.08878 \u001b[0m |\n",
      "| \u001b[95m 9       \u001b[0m | \u001b[95m 0.6467  \u001b[0m | \u001b[95m 0.555   \u001b[0m | \u001b[95m 0.003285\u001b[0m | \u001b[95m 759.3   \u001b[0m | \u001b[95m 615.4   \u001b[0m | \u001b[95m 0.6754  \u001b[0m | \u001b[95m 23.3    \u001b[0m | \u001b[95m 0.5058  \u001b[0m |\n",
      "| \u001b[0m 10      \u001b[0m | \u001b[0m 0.6323  \u001b[0m | \u001b[0m 0.4203  \u001b[0m | \u001b[0m 0.05068 \u001b[0m | \u001b[0m 441.0   \u001b[0m | \u001b[0m 480.7   \u001b[0m | \u001b[0m 3.907   \u001b[0m | \u001b[0m 19.24   \u001b[0m | \u001b[0m 0.4219  \u001b[0m |\n",
      "| \u001b[0m 11      \u001b[0m | \u001b[0m 0.6227  \u001b[0m | \u001b[0m 0.6873  \u001b[0m | \u001b[0m 0.04929 \u001b[0m | \u001b[0m 989.6   \u001b[0m | \u001b[0m 792.6   \u001b[0m | \u001b[0m 0.1498  \u001b[0m | \u001b[0m 30.12   \u001b[0m | \u001b[0m 0.3756  \u001b[0m |\n",
      "| \u001b[0m 12      \u001b[0m | \u001b[0m 0.6306  \u001b[0m | \u001b[0m 0.65    \u001b[0m | \u001b[0m 0.07732 \u001b[0m | \u001b[0m 333.3   \u001b[0m | \u001b[0m 258.1   \u001b[0m | \u001b[0m 4.412   \u001b[0m | \u001b[0m 47.01   \u001b[0m | \u001b[0m 0.7915  \u001b[0m |\n",
      "| \u001b[0m 13      \u001b[0m | \u001b[0m 0.6191  \u001b[0m | \u001b[0m 0.5979  \u001b[0m | \u001b[0m 0.09321 \u001b[0m | \u001b[0m 1.019e+0\u001b[0m | \u001b[0m 794.1   \u001b[0m | \u001b[0m 1.224   \u001b[0m | \u001b[0m 43.86   \u001b[0m | \u001b[0m 0.3884  \u001b[0m |\n",
      "| \u001b[0m 14      \u001b[0m | \u001b[0m 0.6261  \u001b[0m | \u001b[0m 0.0163  \u001b[0m | \u001b[0m 0.00113 \u001b[0m | \u001b[0m 965.6   \u001b[0m | \u001b[0m 961.2   \u001b[0m | \u001b[0m 5.643   \u001b[0m | \u001b[0m 42.12   \u001b[0m | \u001b[0m 0.8257  \u001b[0m |\n",
      "| \u001b[0m 15      \u001b[0m | \u001b[0m 0.6254  \u001b[0m | \u001b[0m 0.6539  \u001b[0m | \u001b[0m 0.04673 \u001b[0m | \u001b[0m 873.8   \u001b[0m | \u001b[0m 1.004e+0\u001b[0m | \u001b[0m 2.334   \u001b[0m | \u001b[0m 24.5    \u001b[0m | \u001b[0m 0.1201  \u001b[0m |\n",
      "| \u001b[0m 16      \u001b[0m | \u001b[0m 0.6249  \u001b[0m | \u001b[0m 0.4065  \u001b[0m | \u001b[0m 0.07112 \u001b[0m | \u001b[0m 806.5   \u001b[0m | \u001b[0m 119.8   \u001b[0m | \u001b[0m 5.008   \u001b[0m | \u001b[0m 14.4    \u001b[0m | \u001b[0m 0.3474  \u001b[0m |\n",
      "| \u001b[0m 17      \u001b[0m | \u001b[0m 0.6348  \u001b[0m | \u001b[0m 0.1499  \u001b[0m | \u001b[0m 0.05472 \u001b[0m | \u001b[0m 754.1   \u001b[0m | \u001b[0m 507.3   \u001b[0m | \u001b[0m 6.176   \u001b[0m | \u001b[0m 42.98   \u001b[0m | \u001b[0m 0.9768  \u001b[0m |\n",
      "| \u001b[0m 18      \u001b[0m | \u001b[0m 0.6314  \u001b[0m | \u001b[0m 0.4163  \u001b[0m | \u001b[0m 0.08928 \u001b[0m | \u001b[0m 562.3   \u001b[0m | \u001b[0m 80.29   \u001b[0m | \u001b[0m 7.213   \u001b[0m | \u001b[0m 41.08   \u001b[0m | \u001b[0m 0.4917  \u001b[0m |\n",
      "| \u001b[0m 19      \u001b[0m | \u001b[0m 0.6281  \u001b[0m | \u001b[0m 0.4418  \u001b[0m | \u001b[0m 0.09235 \u001b[0m | \u001b[0m 807.4   \u001b[0m | \u001b[0m 48.78   \u001b[0m | \u001b[0m 4.908   \u001b[0m | \u001b[0m 22.25   \u001b[0m | \u001b[0m 0.3335  \u001b[0m |\n",
      "| \u001b[0m 20      \u001b[0m | \u001b[0m 0.628   \u001b[0m | \u001b[0m 0.9333  \u001b[0m | \u001b[0m 0.03167 \u001b[0m | \u001b[0m 942.2   \u001b[0m | \u001b[0m 344.7   \u001b[0m | \u001b[0m 5.761   \u001b[0m | \u001b[0m 41.29   \u001b[0m | \u001b[0m 0.9657  \u001b[0m |\n",
      "| \u001b[0m 21      \u001b[0m | \u001b[0m 0.6384  \u001b[0m | \u001b[0m 0.9611  \u001b[0m | \u001b[0m 0.02772 \u001b[0m | \u001b[0m 18.64   \u001b[0m | \u001b[0m 37.83   \u001b[0m | \u001b[0m 0.2604  \u001b[0m | \u001b[0m 0.0817  \u001b[0m | \u001b[0m 0.2756  \u001b[0m |\n",
      "| \u001b[0m 22      \u001b[0m | \u001b[0m 0.6251  \u001b[0m | \u001b[0m 0.4518  \u001b[0m | \u001b[0m 0.06337 \u001b[0m | \u001b[0m 744.3   \u001b[0m | \u001b[0m 629.2   \u001b[0m | \u001b[0m 4.483   \u001b[0m | \u001b[0m 29.12   \u001b[0m | \u001b[0m 0.7498  \u001b[0m |\n",
      "| \u001b[0m 23      \u001b[0m | \u001b[0m 0.6411  \u001b[0m | \u001b[0m 0.4449  \u001b[0m | \u001b[0m 0.02146 \u001b[0m | \u001b[0m 51.22   \u001b[0m | \u001b[0m 1.018e+0\u001b[0m | \u001b[0m 6.32    \u001b[0m | \u001b[0m 1.208   \u001b[0m | \u001b[0m 0.2629  \u001b[0m |\n",
      "| \u001b[0m 24      \u001b[0m | \u001b[0m 0.6243  \u001b[0m | \u001b[0m 0.9033  \u001b[0m | \u001b[0m 0.06537 \u001b[0m | \u001b[0m 357.4   \u001b[0m | \u001b[0m 1.021e+0\u001b[0m | \u001b[0m 3.394   \u001b[0m | \u001b[0m 6.724   \u001b[0m | \u001b[0m 0.9685  \u001b[0m |\n",
      "| \u001b[0m 25      \u001b[0m | \u001b[0m 0.6458  \u001b[0m | \u001b[0m 0.9795  \u001b[0m | \u001b[0m 0.04685 \u001b[0m | \u001b[0m 273.4   \u001b[0m | \u001b[0m 32.68   \u001b[0m | \u001b[0m 0.6644  \u001b[0m | \u001b[0m 1.268   \u001b[0m | \u001b[0m 0.2684  \u001b[0m |\n",
      "| \u001b[0m 26      \u001b[0m | \u001b[0m 0.6362  \u001b[0m | \u001b[0m 0.38    \u001b[0m | \u001b[0m 0.09634 \u001b[0m | \u001b[0m 37.22   \u001b[0m | \u001b[0m 289.9   \u001b[0m | \u001b[0m 2.072   \u001b[0m | \u001b[0m 1.691   \u001b[0m | \u001b[0m 0.2222  \u001b[0m |\n",
      "| \u001b[0m 27      \u001b[0m | \u001b[0m 0.5878  \u001b[0m | \u001b[0m 0.07708 \u001b[0m | \u001b[0m 0.06761 \u001b[0m | \u001b[0m 18.19   \u001b[0m | \u001b[0m 761.6   \u001b[0m | \u001b[0m 0.1818  \u001b[0m | \u001b[0m 3.434   \u001b[0m | \u001b[0m 0.1332  \u001b[0m |\n",
      "| \u001b[95m 28      \u001b[0m | \u001b[95m 0.6491  \u001b[0m | \u001b[95m 0.6822  \u001b[0m | \u001b[95m 0.02541 \u001b[0m | \u001b[95m 1.019e+0\u001b[0m | \u001b[95m 16.27   \u001b[0m | \u001b[95m 9.435   \u001b[0m | \u001b[95m 5.018   \u001b[0m | \u001b[95m 0.8187  \u001b[0m |\n",
      "| \u001b[0m 29      \u001b[0m | \u001b[0m 0.6195  \u001b[0m | \u001b[0m 0.09114 \u001b[0m | \u001b[0m 0.07133 \u001b[0m | \u001b[0m 19.29   \u001b[0m | \u001b[0m 1.019e+0\u001b[0m | \u001b[0m 6.563   \u001b[0m | \u001b[0m 48.38   \u001b[0m | \u001b[0m 0.001935\u001b[0m |\n",
      "| \u001b[0m 30      \u001b[0m | \u001b[0m 0.6344  \u001b[0m | \u001b[0m 0.3647  \u001b[0m | \u001b[0m 0.0418  \u001b[0m | \u001b[0m 758.2   \u001b[0m | \u001b[0m 505.9   \u001b[0m | \u001b[0m 8.363   \u001b[0m | \u001b[0m 39.45   \u001b[0m | \u001b[0m 0.895   \u001b[0m |\n",
      "| \u001b[0m 31      \u001b[0m | \u001b[0m 0.6147  \u001b[0m | \u001b[0m 0.03001 \u001b[0m | \u001b[0m 0.05149 \u001b[0m | \u001b[0m 205.6   \u001b[0m | \u001b[0m 462.0   \u001b[0m | \u001b[0m 0.4185  \u001b[0m | \u001b[0m 1.604   \u001b[0m | \u001b[0m 0.2718  \u001b[0m |\n",
      "| \u001b[0m 32      \u001b[0m | \u001b[0m 0.6476  \u001b[0m | \u001b[0m 0.9523  \u001b[0m | \u001b[0m 0.08317 \u001b[0m | \u001b[0m 73.55   \u001b[0m | \u001b[0m 20.05   \u001b[0m | \u001b[0m 7.923   \u001b[0m | \u001b[0m 48.75   \u001b[0m | \u001b[0m 0.8495  \u001b[0m |\n",
      "| \u001b[0m 33      \u001b[0m | \u001b[0m 0.6244  \u001b[0m | \u001b[0m 0.726   \u001b[0m | \u001b[0m 0.04666 \u001b[0m | \u001b[0m 764.2   \u001b[0m | \u001b[0m 354.9   \u001b[0m | \u001b[0m 0.8934  \u001b[0m | \u001b[0m 0.07197 \u001b[0m | \u001b[0m 0.5469  \u001b[0m |\n",
      "| \u001b[0m 34      \u001b[0m | \u001b[0m 0.639   \u001b[0m | \u001b[0m 0.8966  \u001b[0m | \u001b[0m 0.06844 \u001b[0m | \u001b[0m 1.009e+0\u001b[0m | \u001b[0m 22.84   \u001b[0m | \u001b[0m 2.008   \u001b[0m | \u001b[0m 49.92   \u001b[0m | \u001b[0m 0.7504  \u001b[0m |\n",
      "| \u001b[0m 35      \u001b[0m | \u001b[0m 0.6364  \u001b[0m | \u001b[0m 0.7087  \u001b[0m | \u001b[0m 0.01314 \u001b[0m | \u001b[0m 332.7   \u001b[0m | \u001b[0m 785.9   \u001b[0m | \u001b[0m 0.532   \u001b[0m | \u001b[0m 0.9084  \u001b[0m | \u001b[0m 0.8405  \u001b[0m |\n",
      "| \u001b[0m 36      \u001b[0m | \u001b[0m 0.6219  \u001b[0m | \u001b[0m 0.7511  \u001b[0m | \u001b[0m 0.07094 \u001b[0m | \u001b[0m 584.0   \u001b[0m | \u001b[0m 1.023e+0\u001b[0m | \u001b[0m 4.191   \u001b[0m | \u001b[0m 0.2761  \u001b[0m | \u001b[0m 0.3226  \u001b[0m |\n",
      "| \u001b[0m 37      \u001b[0m | \u001b[0m 0.6151  \u001b[0m | \u001b[0m 0.0451  \u001b[0m | \u001b[0m 0.0464  \u001b[0m | \u001b[0m 16.38   \u001b[0m | \u001b[0m 155.2   \u001b[0m | \u001b[0m 3.265   \u001b[0m | \u001b[0m 49.94   \u001b[0m | \u001b[0m 0.04664 \u001b[0m |\n",
      "| \u001b[0m 38      \u001b[0m | \u001b[0m 0.6428  \u001b[0m | \u001b[0m 0.09479 \u001b[0m | \u001b[0m 0.06249 \u001b[0m | \u001b[0m 447.7   \u001b[0m | \u001b[0m 17.42   \u001b[0m | \u001b[0m 1.245   \u001b[0m | \u001b[0m 46.48   \u001b[0m | \u001b[0m 0.2334  \u001b[0m |\n",
      "| \u001b[0m 39      \u001b[0m | \u001b[0m 0.636   \u001b[0m | \u001b[0m 0.1031  \u001b[0m | \u001b[0m 0.02064 \u001b[0m | \u001b[0m 761.6   \u001b[0m | \u001b[0m 618.3   \u001b[0m | \u001b[0m 1.556   \u001b[0m | \u001b[0m 24.79   \u001b[0m | \u001b[0m 0.7791  \u001b[0m |\n",
      "| \u001b[0m 40      \u001b[0m | \u001b[0m 0.6381  \u001b[0m | \u001b[0m 0.3595  \u001b[0m | \u001b[0m 0.03777 \u001b[0m | \u001b[0m 24.96   \u001b[0m | \u001b[0m 39.85   \u001b[0m | \u001b[0m 2.219   \u001b[0m | \u001b[0m 0.1107  \u001b[0m | \u001b[0m 0.4922  \u001b[0m |\n",
      "| \u001b[0m 41      \u001b[0m | \u001b[0m 0.6446  \u001b[0m | \u001b[0m 0.5015  \u001b[0m | \u001b[0m 0.03448 \u001b[0m | \u001b[0m 83.75   \u001b[0m | \u001b[0m 544.9   \u001b[0m | \u001b[0m 6.019   \u001b[0m | \u001b[0m 29.15   \u001b[0m | \u001b[0m 0.7556  \u001b[0m |\n",
      "| \u001b[0m 42      \u001b[0m | \u001b[0m 0.6345  \u001b[0m | \u001b[0m 0.6385  \u001b[0m | \u001b[0m 0.06436 \u001b[0m | \u001b[0m 228.5   \u001b[0m | \u001b[0m 674.1   \u001b[0m | \u001b[0m 0.09673 \u001b[0m | \u001b[0m 47.95   \u001b[0m | \u001b[0m 0.2158  \u001b[0m |\n",
      "| \u001b[0m 43      \u001b[0m | \u001b[0m 0.6343  \u001b[0m | \u001b[0m 0.559   \u001b[0m | \u001b[0m 0.01647 \u001b[0m | \u001b[0m 552.9   \u001b[0m | \u001b[0m 688.2   \u001b[0m | \u001b[0m 0.2534  \u001b[0m | \u001b[0m 2.121   \u001b[0m | \u001b[0m 0.8212  \u001b[0m |\n",
      "| \u001b[0m 44      \u001b[0m | \u001b[0m 0.6349  \u001b[0m | \u001b[0m 0.7751  \u001b[0m | \u001b[0m 0.06755 \u001b[0m | \u001b[0m 197.5   \u001b[0m | \u001b[0m 1.022e+0\u001b[0m | \u001b[0m 0.7093  \u001b[0m | \u001b[0m 46.44   \u001b[0m | \u001b[0m 0.2826  \u001b[0m |\n"
     ]
    },
    {
     "name": "stdout",
     "output_type": "stream",
     "text": [
      "| \u001b[0m 45      \u001b[0m | \u001b[0m 0.6172  \u001b[0m | \u001b[0m 0.9907  \u001b[0m | \u001b[0m 0.09715 \u001b[0m | \u001b[0m 1.023e+0\u001b[0m | \u001b[0m 1.021e+0\u001b[0m | \u001b[0m 1.342   \u001b[0m | \u001b[0m 42.04   \u001b[0m | \u001b[0m 0.1331  \u001b[0m |\n",
      "| \u001b[0m 46      \u001b[0m | \u001b[0m 0.6202  \u001b[0m | \u001b[0m 0.3974  \u001b[0m | \u001b[0m 0.0848  \u001b[0m | \u001b[0m 627.3   \u001b[0m | \u001b[0m 503.4   \u001b[0m | \u001b[0m 0.2638  \u001b[0m | \u001b[0m 3.66    \u001b[0m | \u001b[0m 0.9372  \u001b[0m |\n",
      "| \u001b[0m 47      \u001b[0m | \u001b[0m 0.6392  \u001b[0m | \u001b[0m 0.9691  \u001b[0m | \u001b[0m 0.09016 \u001b[0m | \u001b[0m 154.7   \u001b[0m | \u001b[0m 108.4   \u001b[0m | \u001b[0m 0.5593  \u001b[0m | \u001b[0m 33.4    \u001b[0m | \u001b[0m 0.982   \u001b[0m |\n",
      "| \u001b[0m 48      \u001b[0m | \u001b[0m 0.6315  \u001b[0m | \u001b[0m 0.7278  \u001b[0m | \u001b[0m 0.01679 \u001b[0m | \u001b[0m 913.4   \u001b[0m | \u001b[0m 518.2   \u001b[0m | \u001b[0m 3.636   \u001b[0m | \u001b[0m 1.677   \u001b[0m | \u001b[0m 0.08822 \u001b[0m |\n",
      "| \u001b[0m 49      \u001b[0m | \u001b[0m 0.6266  \u001b[0m | \u001b[0m 0.5858  \u001b[0m | \u001b[0m 0.06378 \u001b[0m | \u001b[0m 546.8   \u001b[0m | \u001b[0m 269.1   \u001b[0m | \u001b[0m 2.364   \u001b[0m | \u001b[0m 49.06   \u001b[0m | \u001b[0m 0.5372  \u001b[0m |\n",
      "| \u001b[0m 50      \u001b[0m | \u001b[0m 0.6295  \u001b[0m | \u001b[0m 0.4146  \u001b[0m | \u001b[0m 0.03048 \u001b[0m | \u001b[0m 554.3   \u001b[0m | \u001b[0m 694.2   \u001b[0m | \u001b[0m 1.803   \u001b[0m | \u001b[0m 1.803   \u001b[0m | \u001b[0m 0.7902  \u001b[0m |\n",
      "| \u001b[0m 51      \u001b[0m | \u001b[0m 0.6429  \u001b[0m | \u001b[0m 0.8209  \u001b[0m | \u001b[0m 0.04652 \u001b[0m | \u001b[0m 590.1   \u001b[0m | \u001b[0m 17.09   \u001b[0m | \u001b[0m 0.4186  \u001b[0m | \u001b[0m 1.098   \u001b[0m | \u001b[0m 0.2813  \u001b[0m |\n",
      "| \u001b[0m 52      \u001b[0m | \u001b[0m 0.6444  \u001b[0m | \u001b[0m 0.8022  \u001b[0m | \u001b[0m 0.0311  \u001b[0m | \u001b[0m 98.61   \u001b[0m | \u001b[0m 388.1   \u001b[0m | \u001b[0m 0.4149  \u001b[0m | \u001b[0m 46.01   \u001b[0m | \u001b[0m 0.763   \u001b[0m |\n",
      "| \u001b[0m 53      \u001b[0m | \u001b[0m 0.6265  \u001b[0m | \u001b[0m 0.4797  \u001b[0m | \u001b[0m 0.06885 \u001b[0m | \u001b[0m 183.5   \u001b[0m | \u001b[0m 910.8   \u001b[0m | \u001b[0m 0.1184  \u001b[0m | \u001b[0m 1.955   \u001b[0m | \u001b[0m 0.9319  \u001b[0m |\n",
      "| \u001b[0m 54      \u001b[0m | \u001b[0m 0.6355  \u001b[0m | \u001b[0m 0.526   \u001b[0m | \u001b[0m 0.0329  \u001b[0m | \u001b[0m 22.22   \u001b[0m | \u001b[0m 454.0   \u001b[0m | \u001b[0m 0.4085  \u001b[0m | \u001b[0m 1.326   \u001b[0m | \u001b[0m 0.424   \u001b[0m |\n",
      "| \u001b[0m 55      \u001b[0m | \u001b[0m 0.6314  \u001b[0m | \u001b[0m 0.6756  \u001b[0m | \u001b[0m 0.03563 \u001b[0m | \u001b[0m 1.024e+0\u001b[0m | \u001b[0m 133.0   \u001b[0m | \u001b[0m 0.5374  \u001b[0m | \u001b[0m 12.42   \u001b[0m | \u001b[0m 0.01938 \u001b[0m |\n",
      "| \u001b[0m 56      \u001b[0m | \u001b[0m 0.6108  \u001b[0m | \u001b[0m 0.1234  \u001b[0m | \u001b[0m 0.04518 \u001b[0m | \u001b[0m 521.2   \u001b[0m | \u001b[0m 872.1   \u001b[0m | \u001b[0m 0.02586 \u001b[0m | \u001b[0m 0.07399 \u001b[0m | \u001b[0m 0.8193  \u001b[0m |\n",
      "| \u001b[0m 57      \u001b[0m | \u001b[0m 0.624   \u001b[0m | \u001b[0m 0.9188  \u001b[0m | \u001b[0m 0.04796 \u001b[0m | \u001b[0m 395.2   \u001b[0m | \u001b[0m 629.5   \u001b[0m | \u001b[0m 0.4694  \u001b[0m | \u001b[0m 1.314   \u001b[0m | \u001b[0m 0.3803  \u001b[0m |\n",
      "| \u001b[0m 58      \u001b[0m | \u001b[0m 0.6433  \u001b[0m | \u001b[0m 0.4925  \u001b[0m | \u001b[0m 0.005356\u001b[0m | \u001b[0m 117.9   \u001b[0m | \u001b[0m 626.9   \u001b[0m | \u001b[0m 0.4531  \u001b[0m | \u001b[0m 0.6412  \u001b[0m | \u001b[0m 0.2989  \u001b[0m |\n",
      "| \u001b[0m 59      \u001b[0m | \u001b[0m 0.6475  \u001b[0m | \u001b[0m 0.3825  \u001b[0m | \u001b[0m 0.0453  \u001b[0m | \u001b[0m 157.8   \u001b[0m | \u001b[0m 16.37   \u001b[0m | \u001b[0m 0.8638  \u001b[0m | \u001b[0m 1.977   \u001b[0m | \u001b[0m 0.561   \u001b[0m |\n",
      "| \u001b[0m 60      \u001b[0m | \u001b[0m 0.6329  \u001b[0m | \u001b[0m 0.9588  \u001b[0m | \u001b[0m 0.03974 \u001b[0m | \u001b[0m 432.6   \u001b[0m | \u001b[0m 168.4   \u001b[0m | \u001b[0m 1.207   \u001b[0m | \u001b[0m 2.125   \u001b[0m | \u001b[0m 0.4875  \u001b[0m |\n",
      "| \u001b[0m 61      \u001b[0m | \u001b[0m 0.6276  \u001b[0m | \u001b[0m 0.8558  \u001b[0m | \u001b[0m 0.02132 \u001b[0m | \u001b[0m 822.6   \u001b[0m | \u001b[0m 873.0   \u001b[0m | \u001b[0m 0.5778  \u001b[0m | \u001b[0m 0.8637  \u001b[0m | \u001b[0m 0.7826  \u001b[0m |\n",
      "| \u001b[0m 62      \u001b[0m | \u001b[0m 0.6459  \u001b[0m | \u001b[0m 0.6835  \u001b[0m | \u001b[0m 0.01977 \u001b[0m | \u001b[0m 958.8   \u001b[0m | \u001b[0m 25.51   \u001b[0m | \u001b[0m 0.3202  \u001b[0m | \u001b[0m 2.092   \u001b[0m | \u001b[0m 0.347   \u001b[0m |\n",
      "| \u001b[0m 63      \u001b[0m | \u001b[0m 0.6482  \u001b[0m | \u001b[0m 0.3306  \u001b[0m | \u001b[0m 0.03727 \u001b[0m | \u001b[0m 244.3   \u001b[0m | \u001b[0m 16.86   \u001b[0m | \u001b[0m 9.072   \u001b[0m | \u001b[0m 45.34   \u001b[0m | \u001b[0m 0.8549  \u001b[0m |\n",
      "| \u001b[0m 64      \u001b[0m | \u001b[0m 0.6476  \u001b[0m | \u001b[0m 0.2292  \u001b[0m | \u001b[0m 0.03791 \u001b[0m | \u001b[0m 447.8   \u001b[0m | \u001b[0m 19.47   \u001b[0m | \u001b[0m 6.273   \u001b[0m | \u001b[0m 47.48   \u001b[0m | \u001b[0m 0.1531  \u001b[0m |\n",
      "| \u001b[0m 65      \u001b[0m | \u001b[0m 0.6442  \u001b[0m | \u001b[0m 0.6348  \u001b[0m | \u001b[0m 0.09489 \u001b[0m | \u001b[0m 381.9   \u001b[0m | \u001b[0m 21.53   \u001b[0m | \u001b[0m 9.949   \u001b[0m | \u001b[0m 3.605   \u001b[0m | \u001b[0m 0.1066  \u001b[0m |\n",
      "| \u001b[0m 66      \u001b[0m | \u001b[0m 0.6211  \u001b[0m | \u001b[0m 0.14    \u001b[0m | \u001b[0m 0.06548 \u001b[0m | \u001b[0m 138.0   \u001b[0m | \u001b[0m 1.024e+0\u001b[0m | \u001b[0m 0.3804  \u001b[0m | \u001b[0m 2.861   \u001b[0m | \u001b[0m 0.2131  \u001b[0m |\n",
      "| \u001b[0m 67      \u001b[0m | \u001b[0m 0.6351  \u001b[0m | \u001b[0m 0.5292  \u001b[0m | \u001b[0m 0.05528 \u001b[0m | \u001b[0m 359.9   \u001b[0m | \u001b[0m 897.4   \u001b[0m | \u001b[0m 3.253   \u001b[0m | \u001b[0m 49.36   \u001b[0m | \u001b[0m 0.9232  \u001b[0m |\n",
      "| \u001b[0m 68      \u001b[0m | \u001b[0m 0.6337  \u001b[0m | \u001b[0m 0.748   \u001b[0m | \u001b[0m 0.0347  \u001b[0m | \u001b[0m 663.8   \u001b[0m | \u001b[0m 1.023e+0\u001b[0m | \u001b[0m 7.817   \u001b[0m | \u001b[0m 48.26   \u001b[0m | \u001b[0m 0.2575  \u001b[0m |\n",
      "| \u001b[0m 69      \u001b[0m | \u001b[0m 0.6225  \u001b[0m | \u001b[0m 0.6045  \u001b[0m | \u001b[0m 0.06982 \u001b[0m | \u001b[0m 797.4   \u001b[0m | \u001b[0m 538.4   \u001b[0m | \u001b[0m 1.464   \u001b[0m | \u001b[0m 0.6341  \u001b[0m | \u001b[0m 0.9826  \u001b[0m |\n",
      "| \u001b[0m 70      \u001b[0m | \u001b[0m 0.6112  \u001b[0m | \u001b[0m 0.1218  \u001b[0m | \u001b[0m 0.0942  \u001b[0m | \u001b[0m 1.023e+0\u001b[0m | \u001b[0m 573.2   \u001b[0m | \u001b[0m 1.337   \u001b[0m | \u001b[0m 3.097   \u001b[0m | \u001b[0m 0.5775  \u001b[0m |\n",
      "=============================================================================================================\n",
      "CPU times: user 9h 32min 26s, sys: 4min 27s, total: 9h 36min 54s\n",
      "Wall time: 36min 19s\n"
     ]
    }
   ],
   "source": [
    "%%time\n",
    "# 모델과 관련없는 변수 고정\n",
    "func_fixed = partial(lgb_cv, x_data=x_train, y_data=y_train, n_splits=5, output='score') \n",
    "\n",
    "# 베이지안 최적화 범위 설정\n",
    "lgbBO = BayesianOptimization(\n",
    "    func_fixed, \n",
    "    {\n",
    "        'learning_rate': (0.0001, 0.1),    # learning_rate,    범위(0.0001~0.1)\n",
    "        'num_leaves': (16, 1024),          # num_leaves,       범위(16~1024)\n",
    "        'n_estimators': (16, 1024),        # n_estimators,     범위(16~1024)\n",
    "        'subsample': (0, 1),               # subsample,        범위(0~1)\n",
    "        'colsample_bytree': (0, 1),        # colsample_bytree, 범위(0~1)\n",
    "        'reg_alpha': (0, 10),              # reg_alpha,        범위(0~10)\n",
    "        'reg_lambda': (0, 50),             # reg_lambda,       범위(0~50)\n",
    "    }, \n",
    "    random_state=random.randrange(50000)   # 시드 고정 = 4321\n",
    ")\n",
    "\n",
    "# lgbBO.maximize(init_points=5, n_iter=30) # 처음 5회 랜덤 값으로 score 계산 후 30회 최적화 = Original Baseline!\n",
    "lgbBO.maximize(init_points=20, n_iter=50)\n",
    "\n",
    "\n",
    "\"\"\"\n",
    "# LightGBM Classifier Document =  https://bit.ly/2QGqFTS\n",
    "# 이 예제에서는 7개 하이퍼 파라미터에 대해 30회 조정을 시도 했습니다.\n",
    "# 다양한 하이퍼 파라미터, 더 많은 iteration을 시도하여 최상의 모델을 얻어보세요!\n",
    "\"\"\""
   ]
  },
  {
   "cell_type": "markdown",
   "metadata": {
    "colab_type": "text",
    "id": "CfHi_LZ4O1_l"
   },
   "source": [
    "### 3.0 모델 학습 및 검증\n",
    "- Model Tuning & Evaluation\n",
    "\n",
    "> 1. AUC가 가장 높은 하이퍼 파라미터를 사용해 최종 모델을 얻습니다.\n",
    "> 1. 훈련 세트와 같은 방법으로 테스트 세트에서 Feature를 추출합니다.\n",
    "> 1. 최종 모델을 사용해 예측을 수행합니다.\n",
    "> 1. 예측 결과를 submission.csv로 저장합니다."
   ]
  },
  {
   "cell_type": "code",
   "execution_count": 40,
   "metadata": {
    "colab": {},
    "colab_type": "code",
    "id": "7UMIvW62UWhn"
   },
   "outputs": [],
   "source": [
    "params = lgbBO.max['params']\n",
    "\n",
    "models = lgb_cv(\n",
    "        params['num_leaves'], \n",
    "        params['learning_rate'], \n",
    "        params['n_estimators'], \n",
    "        params['subsample'], \n",
    "        params['colsample_bytree'], \n",
    "        params['reg_alpha'], \n",
    "        params['reg_lambda'], \n",
    "        x_data=x_train, \n",
    "        y_data=y_train, \n",
    "        n_splits=5, \n",
    "        output='model',\n",
    "    )"
   ]
  },
  {
   "cell_type": "markdown",
   "metadata": {
    "colab_type": "text",
    "id": "W9d6ImndX5zO"
   },
   "source": [
    "# TEST를 풀기위해, 학습데이터로 변경 (data_preps)\n",
    " 1. Train Data set = [ 67,091,776 x 7 ] ... 70%\n",
    "  - game_id 별로 정리하면 [38,872 x 27]로 압축된다. \n",
    "  - 경기당, 평균 1,726개의 이벤트가 존재한다.(압축률 0.057939 %)\n",
    " > - x_train set = *** DATA SHAPE = [ 38,872 x 27 ] pandas.DataFrame\n",
    " > - y_train set = *** DATA SHAPE = [ 38,872 x 1 ]  np.array\n",
    " \n",
    " 1. Test Data set  = [ 28,714,849 x 6 ] ... 30%\n",
    "  - game_id 별로 정리하면 [16,787 x 27] 로 압축된다. \n",
    "  - 경기당 평균 1711개의 이벤트가 존재한다.(압축률 0.058461 %)\n",
    " > - x_test set = *** DATA SHAPE = [16,787 x 27] pandas.DataFrame \n",
    " > - y_test set = *** DATA SHAPE = [16,787 x 1] np.array =  대회주관자가 가지고 있음\n",
    " \n",
    " 1. Submission = y_test set \n",
    "  - submission = [16,787 x 1] np.array to [16,787 x 2 ] pandas.DataFrame --> df.csv"
   ]
  },
  {
   "cell_type": "code",
   "execution_count": 41,
   "metadata": {
    "colab": {
     "base_uri": "https://localhost:8080/",
     "height": 52
    },
    "colab_type": "code",
    "executionInfo": {
     "elapsed": 3153040,
     "status": "ok",
     "timestamp": 1585620279084,
     "user": {
      "displayName": "SuParX -K",
      "photoUrl": "https://lh3.googleusercontent.com/a-/AOh14GgAhLtiQrZfK-FHgn5GBmgExX619ygpOPHHdN4ZkU0=s64",
      "userId": "05876132496561296136"
     },
     "user_tz": -540
    },
    "id": "20YeuGYXUWZ3",
    "outputId": "2086b8f3-a90c-4be4-a89d-8637498abc07"
   },
   "outputs": [],
   "source": [
    "\"\"\"\n",
    "# 테스트용 데이터를 전처리 해서 분석 준비 ... (시간소요) 미리 저장한 화일을 불러온다\n",
    "# 저장했으면 비활성 처리\n",
    "# x_test, _ = data_preparation(test, answer=False)                 # [ 28,714,849 x 6 ] ... 30%\n",
    "# x_test.to_csv(dir_base + remake + 'df_xtest_remake.csv')\n",
    "# x_test = pd.read_csv(dir_base + remake + 'df_xtest_remake.csv')  # [  16,787 x 27 ]\n",
    "\"\"\"\n",
    "x_test = pd.read_csv(dir_base + remake + 'df_xtest_remake.csv')    # *** DATA SHAPE = [ 16,787 x 27 ]\n"
   ]
  },
  {
   "cell_type": "code",
   "execution_count": null,
   "metadata": {},
   "outputs": [],
   "source": []
  },
  {
   "cell_type": "code",
   "execution_count": null,
   "metadata": {},
   "outputs": [],
   "source": []
  },
  {
   "cell_type": "code",
   "execution_count": null,
   "metadata": {},
   "outputs": [],
   "source": []
  },
  {
   "cell_type": "code",
   "execution_count": null,
   "metadata": {},
   "outputs": [],
   "source": []
  },
  {
   "cell_type": "code",
   "execution_count": 44,
   "metadata": {
    "colab": {
     "base_uri": "https://localhost:8080/",
     "height": 195
    },
    "colab_type": "code",
    "executionInfo": {
     "elapsed": 3155255,
     "status": "ok",
     "timestamp": 1585620281362,
     "user": {
      "displayName": "SuParX -K",
      "photoUrl": "https://lh3.googleusercontent.com/a-/AOh14GgAhLtiQrZfK-FHgn5GBmgExX619ygpOPHHdN4ZkU0=s64",
      "userId": "05876132496561296136"
     },
     "user_tz": -540
    },
    "id": "k9HevRoDUWUC",
    "outputId": "aff8a829-a8c4-4794-cbe5-861aea6392db"
   },
   "outputs": [],
   "source": [
    "\"\"\"\n",
    "# pd.read_csv('data/sample_submission.csv', index_col=0)\n",
    "# sample_submission = pd.read_csv(dir_base + sub_base + \"sample_submission.csv\")\n",
    "\"\"\"\n",
    "\n",
    "preds = []\n",
    "\n",
    "for model in models:\n",
    "    pred = model.predict_proba(x_test)[:, 1]\n",
    "    preds.append(pred)\n",
    "    \n",
    "pred = np.mean(preds, axis=0)"
   ]
  },
  {
   "cell_type": "code",
   "execution_count": 45,
   "metadata": {},
   "outputs": [
    {
     "name": "stdout",
     "output_type": "stream",
     "text": [
      "False\n",
      "DIR_TARGET=/home/yk/0325_Starcraft/competition/c03_starcraft_prediction/data_remake\n",
      "/home/yk/0325_Starcraft/competition/c03_starcraft_prediction/data_raw/\n",
      "----------------------------------------\n",
      "  01. sample_submission.csv\n",
      "  02. test.csv\n",
      "  03. train.csv\n"
     ]
    }
   ],
   "source": [
    "show_ls(dir_base + raw)"
   ]
  },
  {
   "cell_type": "code",
   "execution_count": 55,
   "metadata": {},
   "outputs": [],
   "source": [
    "submission = pd.read_csv(dir_base + raw + \"sample_submission.csv\") \n",
    "\n",
    "\n",
    "submission['winner'] = pred\n",
    "submission.to_csv(dir_base + submit + 'submission_way01_0412.csv', index=False)"
   ]
  },
  {
   "cell_type": "markdown",
   "metadata": {
    "colab_type": "text",
    "id": "4PobqJx-OM0Q"
   },
   "source": [
    "# 결과 확인하기\n",
    "- 3월 데이콘 대회 홈페이지 = https://bit.ly/39bqWVg\n",
    "- 결과 제출하기 = https://dacon.io/competitions/official/235583/mysubmission/"
   ]
  },
  {
   "cell_type": "code",
   "execution_count": 48,
   "metadata": {},
   "outputs": [
    {
     "data": {
      "text/html": [
       "<div>\n",
       "<style scoped>\n",
       "    .dataframe tbody tr th:only-of-type {\n",
       "        vertical-align: middle;\n",
       "    }\n",
       "\n",
       "    .dataframe tbody tr th {\n",
       "        vertical-align: top;\n",
       "    }\n",
       "\n",
       "    .dataframe thead th {\n",
       "        text-align: right;\n",
       "    }\n",
       "</style>\n",
       "<table border=\"1\" class=\"dataframe\">\n",
       "  <thead>\n",
       "    <tr style=\"text-align: right;\">\n",
       "      <th></th>\n",
       "      <th>game_id</th>\n",
       "      <th>winner</th>\n",
       "    </tr>\n",
       "  </thead>\n",
       "  <tbody>\n",
       "    <tr>\n",
       "      <th>0</th>\n",
       "      <td>38872</td>\n",
       "      <td>0.635284</td>\n",
       "    </tr>\n",
       "    <tr>\n",
       "      <th>1</th>\n",
       "      <td>38873</td>\n",
       "      <td>0.504019</td>\n",
       "    </tr>\n",
       "    <tr>\n",
       "      <th>2</th>\n",
       "      <td>38874</td>\n",
       "      <td>0.428862</td>\n",
       "    </tr>\n",
       "    <tr>\n",
       "      <th>3</th>\n",
       "      <td>38875</td>\n",
       "      <td>0.292274</td>\n",
       "    </tr>\n",
       "    <tr>\n",
       "      <th>4</th>\n",
       "      <td>38876</td>\n",
       "      <td>0.459122</td>\n",
       "    </tr>\n",
       "    <tr>\n",
       "      <th>...</th>\n",
       "      <td>...</td>\n",
       "      <td>...</td>\n",
       "    </tr>\n",
       "    <tr>\n",
       "      <th>16782</th>\n",
       "      <td>55654</td>\n",
       "      <td>0.642527</td>\n",
       "    </tr>\n",
       "    <tr>\n",
       "      <th>16783</th>\n",
       "      <td>55655</td>\n",
       "      <td>0.337637</td>\n",
       "    </tr>\n",
       "    <tr>\n",
       "      <th>16784</th>\n",
       "      <td>55656</td>\n",
       "      <td>0.781721</td>\n",
       "    </tr>\n",
       "    <tr>\n",
       "      <th>16785</th>\n",
       "      <td>55657</td>\n",
       "      <td>0.489813</td>\n",
       "    </tr>\n",
       "    <tr>\n",
       "      <th>16786</th>\n",
       "      <td>55658</td>\n",
       "      <td>0.622297</td>\n",
       "    </tr>\n",
       "  </tbody>\n",
       "</table>\n",
       "<p>16787 rows × 2 columns</p>\n",
       "</div>"
      ],
      "text/plain": [
       "       game_id    winner\n",
       "0        38872  0.635284\n",
       "1        38873  0.504019\n",
       "2        38874  0.428862\n",
       "3        38875  0.292274\n",
       "4        38876  0.459122\n",
       "...        ...       ...\n",
       "16782    55654  0.642527\n",
       "16783    55655  0.337637\n",
       "16784    55656  0.781721\n",
       "16785    55657  0.489813\n",
       "16786    55658  0.622297\n",
       "\n",
       "[16787 rows x 2 columns]"
      ]
     },
     "execution_count": 48,
     "metadata": {},
     "output_type": "execute_result"
    }
   ],
   "source": [
    "df_1 = submission\n",
    "df_1"
   ]
  },
  {
   "cell_type": "code",
   "execution_count": 52,
   "metadata": {},
   "outputs": [
    {
     "name": "stdout",
     "output_type": "stream",
     "text": [
      "CPU times: user 5.88 s, sys: 1.32 s, total: 7.2 s\n",
      "Wall time: 1.94 s\n"
     ]
    }
   ],
   "source": [
    "%%time\n",
    "\"\"\"\n",
    "# df_time 데이터를 만든다. = 유니크 게임 갯수 *** DATA SHAPE = [ 38,872 x 1 ]\n",
    "\"\"\"\n",
    "\n",
    "df_time = pd.DataFrame(columns=['game_id'])       # 빈 df 선언\n",
    "df_time['game_id'] = test['game_id'].unique() # 빈 df 에 'game_id 를 채운다\n",
    "df_time['time'] = np.array(test[test.shift(-1).game_id != test.game_id].time)"
   ]
  },
  {
   "cell_type": "code",
   "execution_count": 54,
   "metadata": {},
   "outputs": [
    {
     "data": {
      "text/html": [
       "<div>\n",
       "<style scoped>\n",
       "    .dataframe tbody tr th:only-of-type {\n",
       "        vertical-align: middle;\n",
       "    }\n",
       "\n",
       "    .dataframe tbody tr th {\n",
       "        vertical-align: top;\n",
       "    }\n",
       "\n",
       "    .dataframe thead th {\n",
       "        text-align: right;\n",
       "    }\n",
       "</style>\n",
       "<table border=\"1\" class=\"dataframe\">\n",
       "  <thead>\n",
       "    <tr style=\"text-align: right;\">\n",
       "      <th></th>\n",
       "      <th>game_id</th>\n",
       "      <th>time</th>\n",
       "    </tr>\n",
       "  </thead>\n",
       "  <tbody>\n",
       "    <tr>\n",
       "      <th>0</th>\n",
       "      <td>38872</td>\n",
       "      <td>7.06</td>\n",
       "    </tr>\n",
       "    <tr>\n",
       "      <th>1</th>\n",
       "      <td>38873</td>\n",
       "      <td>6.07</td>\n",
       "    </tr>\n",
       "    <tr>\n",
       "      <th>2</th>\n",
       "      <td>38874</td>\n",
       "      <td>4.41</td>\n",
       "    </tr>\n",
       "    <tr>\n",
       "      <th>3</th>\n",
       "      <td>38875</td>\n",
       "      <td>7.58</td>\n",
       "    </tr>\n",
       "    <tr>\n",
       "      <th>4</th>\n",
       "      <td>38876</td>\n",
       "      <td>2.50</td>\n",
       "    </tr>\n",
       "    <tr>\n",
       "      <th>...</th>\n",
       "      <td>...</td>\n",
       "      <td>...</td>\n",
       "    </tr>\n",
       "    <tr>\n",
       "      <th>16782</th>\n",
       "      <td>55654</td>\n",
       "      <td>6.14</td>\n",
       "    </tr>\n",
       "    <tr>\n",
       "      <th>16783</th>\n",
       "      <td>55655</td>\n",
       "      <td>9.58</td>\n",
       "    </tr>\n",
       "    <tr>\n",
       "      <th>16784</th>\n",
       "      <td>55656</td>\n",
       "      <td>6.24</td>\n",
       "    </tr>\n",
       "    <tr>\n",
       "      <th>16785</th>\n",
       "      <td>55657</td>\n",
       "      <td>1.17</td>\n",
       "    </tr>\n",
       "    <tr>\n",
       "      <th>16786</th>\n",
       "      <td>55658</td>\n",
       "      <td>4.54</td>\n",
       "    </tr>\n",
       "  </tbody>\n",
       "</table>\n",
       "<p>16787 rows × 2 columns</p>\n",
       "</div>"
      ],
      "text/plain": [
       "       game_id  time\n",
       "0        38872  7.06\n",
       "1        38873  6.07\n",
       "2        38874  4.41\n",
       "3        38875  7.58\n",
       "4        38876  2.50\n",
       "...        ...   ...\n",
       "16782    55654  6.14\n",
       "16783    55655  9.58\n",
       "16784    55656  6.24\n",
       "16785    55657  1.17\n",
       "16786    55658  4.54\n",
       "\n",
       "[16787 rows x 2 columns]"
      ]
     },
     "execution_count": 54,
     "metadata": {},
     "output_type": "execute_result"
    }
   ],
   "source": [
    "df_time"
   ]
  },
  {
   "cell_type": "code",
   "execution_count": null,
   "metadata": {},
   "outputs": [],
   "source": [
    "df_2 = pd.read_"
   ]
  }
 ],
 "metadata": {
  "colab": {
   "collapsed_sections": [],
   "machine_shape": "hm",
   "name": "starcraft_LGBM_baseline.ipynb",
   "provenance": []
  },
  "kernelspec": {
   "display_name": "Python 3",
   "language": "python",
   "name": "python3"
  },
  "language_info": {
   "codemirror_mode": {
    "name": "ipython",
    "version": 3
   },
   "file_extension": ".py",
   "mimetype": "text/x-python",
   "name": "python",
   "nbconvert_exporter": "python",
   "pygments_lexer": "ipython3",
   "version": "3.7.6"
  }
 },
 "nbformat": 4,
 "nbformat_minor": 1
}
