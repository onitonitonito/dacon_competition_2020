{
 "cells": [
  {
   "cell_type": "markdown",
   "metadata": {},
   "source": [
    "# xtra_remake_xtrain.ipynb\n",
    "1.0 데이터 전처리 테스트용 마지막 71게임 Data\n",
    "> - 총 게임수 = 38,871 이므로 마지막 71 데이터로 전처리 테스트 후\n",
    "> - 전체 게임으로 전처리를 진행한다.\n",
    "> - 파일다루기 - https://parkdream.tistory.com/42\n",
    "> - /content/drive/My Drive/Colab Notebooks/competition_data/starcraft_data/temp"
   ]
  },
  {
   "cell_type": "code",
   "execution_count": 1,
   "metadata": {},
   "outputs": [],
   "source": [
    "import random\n",
    "import pandas as pd\n",
    "import numpy as np\n",
    "import matplotlib.pyplot as plt"
   ]
  },
  {
   "cell_type": "code",
   "execution_count": 2,
   "metadata": {},
   "outputs": [],
   "source": [
    "\"\"\"\n",
    "# 기본 DIR 구조를 입력한다. - _assets 폴더 제외!\n",
    "# /content/drive/My Drive/Colab Notebooks/\n",
    "# dir_base = '/content/drive/My Drive/Colab Notebooks/competition/'\n",
    "# competition/_statics/images/winning_factors_table.png\n",
    "\"\"\"\n",
    "dir_base = '/home/yk/0325_Starcraft/competition/'\n",
    "\n",
    "raw      = 'c03_starcraft_prediction/data_raw/'\n",
    "remake   = 'c03_starcraft_prediction/data_remake/'\n",
    "submit   = 'c03_starcraft_prediction/data_submit/'\n",
    "\n",
    "assets = '/home/yk/0325_Starcraft/competition/_assets/'\n",
    "images = '/home/yk/0325_Starcraft/competition/_statics/images/'\n",
    "\n",
    "filename_result = 'xtra_remake_xtrain.csv'"
   ]
  },
  {
   "cell_type": "code",
   "execution_count": 3,
   "metadata": {},
   "outputs": [
    {
     "name": "stdout",
     "output_type": "stream",
     "text": [
      "***'/home/yk/0325_Starcraft/competition/' has set in SYS.PATH! ***\n",
      "\n",
      "01./home/yk/0325_Starcraft/competition/\n",
      "02./home/yk/0325_Starcraft/competition/c03_starcraft_prediction\n",
      "03./home/yk/anaconda3/lib/python37.zip\n",
      "04./home/yk/anaconda3/lib/python3.7\n",
      "05./home/yk/anaconda3/lib/python3.7/lib-dynload\n",
      "06.\n",
      "07./home/yk/anaconda3/lib/python3.7/site-packages\n",
      "08./home/yk/anaconda3/lib/python3.7/site-packages/IPython/extensions\n",
      "09./home/yk/.ipython\n"
     ]
    }
   ],
   "source": [
    "\"\"\"\n",
    "# 모듈 import를 위한 SYS.PATH 설정!\n",
    "\"\"\"\n",
    "import os\n",
    "import sys\n",
    "\n",
    "if not dir_base in sys.path:\n",
    "    sys.path.insert(0, dir_base)\n",
    "    print(f\"***'{dir_base}' has set in SYS.PATH! ***\")    \n",
    "    print()\n",
    "    \n",
    "for i, item in enumerate(sys.path,1):\n",
    "    print(f\"{i:02}.{item}\")"
   ]
  },
  {
   "cell_type": "code",
   "execution_count": 4,
   "metadata": {
    "scrolled": true
   },
   "outputs": [
    {
     "name": "stdout",
     "output_type": "stream",
     "text": [
      "THIS CPU CORES ARE .. = 16 CORES!\n"
     ]
    }
   ],
   "source": [
    "import multiprocessing as mp\n",
    "\n",
    "from parse import *\n",
    "from multiprocessing import Pool\n",
    "\n",
    "num_cores = mp.cpu_count()               # cpu의 코어 수를 반환\n",
    "print(f\"THIS CPU CORES ARE .. = {num_cores} CORES!\")        # CPU CORES = 16 CORES!"
   ]
  },
  {
   "cell_type": "code",
   "execution_count": 5,
   "metadata": {
    "scrolled": false
   },
   "outputs": [
    {
     "name": "stdout",
     "output_type": "stream",
     "text": [
      "\n",
      "# GAME_ID 유니크 데이터 전처리를 위한 모듈 - baseline offer\n",
      "\n",
      "\n",
      "# OS 화일 및 DF 정보조회를 위한 탐색 모듈\n",
      "\n"
     ]
    }
   ],
   "source": [
    "from _assets.module_data_preps import ( __doc__,\n",
    "                                    tqdm,\n",
    "                                    read_data_file,\n",
    "                                    data_processing,\n",
    "                                    species_converter, \n",
    "                                    data_preparation,\n",
    "                                )\n",
    "\n",
    "from _assets.modules import ( __doc__, \n",
    "                                    show_ls, \n",
    "                                    show_infoDF_from,\n",
    "                                    histit,\n",
    "                                    hist_it,\n",
    "                                    plot_it,\n",
    "                                    get_random_n_array,\n",
    "                                    get_basic_df,\n",
    "                                    get_counts_dict_fromDF,\n",
    "                                )"
   ]
  },
  {
   "cell_type": "markdown",
   "metadata": {},
   "source": [
    "## xtra_remake_xtrain.ipynb\n",
    "- 마지막 71개 game_id = *** DATA SHAPE = [ 114,504 x 7 ]\n",
    "- id당 평균 1,612개의 이벤트가 있다."
   ]
  },
  {
   "cell_type": "code",
   "execution_count": 6,
   "metadata": {},
   "outputs": [
    {
     "name": "stdout",
     "output_type": "stream",
     "text": [
      "CPU times: user 43 s, sys: 3.97 s, total: 46.9 s\n",
      "Wall time: 44 s\n"
     ]
    }
   ],
   "source": [
    "%%time\n",
    "\"\"\"\n",
    "# *** DATA SHAPE = [ 67,091,776 x 7 ] ... 가볍다!\n",
    "# CPU times: user 42.5 s, sys: 3.63 s, total: 46.1 s\n",
    "# Wall time: 43.2 s\n",
    "\"\"\"\n",
    "\n",
    "df_train = pd.read_csv(dir_base + raw + 'train.csv')"
   ]
  },
  {
   "cell_type": "code",
   "execution_count": null,
   "metadata": {},
   "outputs": [
    {
     "name": "stdout",
     "output_type": "stream",
     "text": [
      "Ability Data 구축\n"
     ]
    },
    {
     "name": "stderr",
     "output_type": "stream",
     "text": [
      "100%|██████████| 3798390/3798390 [00:08<00:00, 426793.76it/s]\n"
     ]
    },
    {
     "name": "stdout",
     "output_type": "stream",
     "text": [
      "Right Click Data 구축\n"
     ]
    },
    {
     "name": "stderr",
     "output_type": "stream",
     "text": [
      "100%|██████████| 11565877/11565877 [00:44<00:00, 261424.55it/s]\n"
     ]
    },
    {
     "name": "stdout",
     "output_type": "stream",
     "text": [
      "Event별 Count Data 구축\n"
     ]
    },
    {
     "name": "stderr",
     "output_type": "stream",
     "text": [
      "\r",
      "  0%|          | 0/38872 [00:00<?, ?it/s]"
     ]
    },
    {
     "name": "stdout",
     "output_type": "stream",
     "text": [
      "Game별 학습 Data 구축\n"
     ]
    },
    {
     "name": "stderr",
     "output_type": "stream",
     "text": [
      "  4%|▍         | 1685/38872 [01:53<40:26, 15.33it/s]"
     ]
    }
   ],
   "source": [
    "x_train, y_train = data_processing(train_data=df_train, answer=True)"
   ]
  },
  {
   "cell_type": "code",
   "execution_count": null,
   "metadata": {
    "scrolled": false
   },
   "outputs": [],
   "source": [
    "show_infoDF_from(x_train)"
   ]
  },
  {
   "cell_type": "code",
   "execution_count": null,
   "metadata": {},
   "outputs": [],
   "source": [
    "\"\"\"\n",
    "# y_train은 기존값과 변화없음 = 기존 remake y_train 값을 쓰면 된다.\n",
    "\"\"\"\n",
    "\n",
    "type(y_train) # numpy.ndarray\n",
    "len(y_train)  # 71\n",
    "y_train"
   ]
  },
  {
   "cell_type": "code",
   "execution_count": null,
   "metadata": {},
   "outputs": [],
   "source": [
    "# x_train.to_csv(dir_base + remake + filename_result)"
   ]
  },
  {
   "cell_type": "code",
   "execution_count": 15,
   "metadata": {},
   "outputs": [
    {
     "name": "stdout",
     "output_type": "stream",
     "text": [
      "*** DATA SHAPE = [ 38,872 x 1,613 ]\n",
      "\n",
      "<class 'pandas.core.frame.DataFrame'>\n",
      "Int64Index: 38872 entries, 0 to 38871\n",
      "Columns: 1613 entries, P0_species to rc_delta_TargetHydraliskBurrowedLocation\n",
      "dtypes: int64(1613)\n",
      "memory usage: 478.7 MB\n",
      "None\n",
      "\n",
      "         P0_species    P1_species  P0_event_Camera  P0_event_Selection  \\\n",
      "count  38872.000000  38872.000000     38872.000000        38872.000000   \n",
      "mean       0.943790      0.934117       407.357918          122.933242   \n",
      "std        0.846693      0.845113       222.351156           85.964370   \n",
      "min        0.000000      0.000000         0.000000            0.000000   \n",
      "25%        0.000000      0.000000       238.000000           60.000000   \n",
      "50%        1.000000      1.000000       390.000000          102.000000   \n",
      "75%        2.000000      2.000000       549.000000          167.000000   \n",
      "max        2.000000      2.000000      1832.000000          953.000000   \n",
      "\n",
      "       P0_event_Ability  P0_event_Right Click  P0_event_SetControlGroup  \\\n",
      "count      38872.000000          38872.000000              38872.000000   \n",
      "mean          48.806467            148.942118                  4.365610   \n",
      "std           28.119083             97.965154                  4.783873   \n",
      "min            0.000000              0.000000                  0.000000   \n",
      "25%           27.000000             71.000000                  1.000000   \n",
      "50%           46.000000            133.000000                  3.000000   \n",
      "75%           66.000000            210.000000                  6.000000   \n",
      "max          216.000000            856.000000                 62.000000   \n",
      "\n",
      "       P0_event_GetControlGroup  P0_event_AddToControlGroup  \\\n",
      "count              38872.000000                38872.000000   \n",
      "mean                 129.523307                    1.918450   \n",
      "std                  186.127982                    3.038626   \n",
      "min                    0.000000                    0.000000   \n",
      "25%                   11.000000                    0.000000   \n",
      "50%                   45.000000                    0.000000   \n",
      "75%                  175.000000                    3.000000   \n",
      "max                 2320.000000                   35.000000   \n",
      "\n",
      "       P0_event_ControlGroup  ...  rc_delta_TargetInfestorLocation  \\\n",
      "count           38872.000000  ...                     38872.000000   \n",
      "mean                0.396275  ...                        -0.000077   \n",
      "std                 3.431973  ...                         0.011341   \n",
      "min                 0.000000  ...                        -2.000000   \n",
      "25%                 0.000000  ...                         0.000000   \n",
      "50%                 0.000000  ...                         0.000000   \n",
      "75%                 0.000000  ...                         0.000000   \n",
      "max               241.000000  ...                         0.000000   \n",
      "\n",
      "       rc_delta_TargetUltraliskLocation  \\\n",
      "count                      38872.000000   \n",
      "mean                          -0.000206   \n",
      "std                            0.033644   \n",
      "min                           -5.000000   \n",
      "25%                            0.000000   \n",
      "50%                            0.000000   \n",
      "75%                            0.000000   \n",
      "max                            3.000000   \n",
      "\n",
      "       rc_delta_TargetBroodLordWeaponLocation  \\\n",
      "count                            38872.000000   \n",
      "mean                                -0.000051   \n",
      "std                                  0.016039   \n",
      "min                                 -2.000000   \n",
      "25%                                  0.000000   \n",
      "50%                                  0.000000   \n",
      "75%                                  0.000000   \n",
      "max                                  2.000000   \n",
      "\n",
      "       rc_delta_TargetBeacon_TerranLocation  rc_delta_TargetBroodLordLocation  \\\n",
      "count                          38872.000000                      38872.000000   \n",
      "mean                               0.000000                          0.000026   \n",
      "std                                0.012424                          0.005072   \n",
      "min                               -1.000000                          0.000000   \n",
      "25%                                0.000000                          0.000000   \n",
      "50%                                0.000000                          0.000000   \n",
      "75%                                0.000000                          0.000000   \n",
      "max                                1.000000                          1.000000   \n",
      "\n",
      "       rc_delta_TargetBeacon_ZergLocation  rc_delta_TargetDisruptorLocation  \\\n",
      "count                        38872.000000                      38872.000000   \n",
      "mean                            -0.000026                          0.000000   \n",
      "std                              0.005072                          0.014346   \n",
      "min                             -1.000000                         -2.000000   \n",
      "25%                              0.000000                          0.000000   \n",
      "50%                              0.000000                          0.000000   \n",
      "75%                              0.000000                          0.000000   \n",
      "max                              0.000000                          2.000000   \n",
      "\n",
      "       rc_delta_TargetExtendingBridgeNEWide8OutLocation  \\\n",
      "count                                      38872.000000   \n",
      "mean                                           0.000103   \n",
      "std                                            0.044217   \n",
      "min                                           -6.000000   \n",
      "25%                                            0.000000   \n",
      "50%                                            0.000000   \n",
      "75%                                            0.000000   \n",
      "max                                            5.000000   \n",
      "\n",
      "       rc_delta_TargetInfestorBurrowedLocation  \\\n",
      "count                             38872.000000   \n",
      "mean                                 -0.000026   \n",
      "std                                   0.074025   \n",
      "min                                  -9.000000   \n",
      "25%                                   0.000000   \n",
      "50%                                   0.000000   \n",
      "75%                                   0.000000   \n",
      "max                                   9.000000   \n",
      "\n",
      "       rc_delta_TargetHydraliskBurrowedLocation  \n",
      "count                              38872.000000  \n",
      "mean                                   0.000051  \n",
      "std                                    0.010144  \n",
      "min                                    0.000000  \n",
      "25%                                    0.000000  \n",
      "50%                                    0.000000  \n",
      "75%                                    0.000000  \n",
      "max                                    2.000000  \n",
      "\n",
      "[8 rows x 1613 columns]\n",
      "\n"
     ]
    }
   ],
   "source": [
    "show_infoDF_from(x_train)"
   ]
  },
  {
   "cell_type": "code",
   "execution_count": 14,
   "metadata": {},
   "outputs": [
    {
     "data": {
      "text/plain": [
       "Index(['P0_species', 'P1_species', 'P0_event_Camera', 'P0_event_Selection',\n",
       "       'P0_event_Ability', 'P0_event_Right Click', 'P0_event_SetControlGroup',\n",
       "       'P0_event_GetControlGroup', 'P0_event_AddToControlGroup',\n",
       "       'P0_event_ControlGroup', 'Ability0_TrainSCV',\n",
       "       'Ability0_BuildSupplyDepot', 'Ability0_Stop', 'Ability0_BuildRefinery',\n",
       "       'Ability0_BuildBarracks', 'Ability0_BuildCommandCenter',\n",
       "       'Ability0_TrainMarine', 'Ability0_UpgradeToOrbitalCommand',\n",
       "       'Ability0_BuildFactory', 'Ability0_Attack',\n",
       "       'Ability0_BuildBarracksReactor', 'Ability0_ExtraSupplies',\n",
       "       'Ability0_BuildFactoryTechLab', 'Ability0_KD8Charge',\n",
       "       'Ability0_SCVRepair', 'Ability0_BuildSiegeTank',\n",
       "       'Ability0_BuildStarport', 'Ability0_BuildEngineeringBay',\n",
       "       'Ability0_BuildWidowMine', 'Ability0_SiegeMode',\n",
       "       'Ability0_TrainMedivac', 'Ability0_UpgradeTerranInfantryArmor1',\n",
       "       'Ability0_CancelSlot', 'Ability0_CalldownMULE', 'Ability0_LiftBarracks',\n",
       "       'Ability0_BuildBarracksTechLab', 'Ability0_LiftStarport',\n",
       "       'Ability0_LandBarracks', 'Ability0_TrainProbe', 'Ability0_BuildPylon',\n",
       "       'Ability0_BuildGateway', 'Ability0_BuildAssimilator',\n",
       "       'Ability0_CancelLast', 'Ability0_TrainReaper',\n",
       "       'Ability0_BuildCyberneticsCore', 'Ability0_TrainAdept',\n",
       "       'Ability0_TrainMothershipCore', 'Ability0_ResearchWarpGate',\n",
       "       'Ability0_BuildRoboticsFacility', 'Ability0_ResearchStimpack'],\n",
       "      dtype='object')"
      ]
     },
     "execution_count": 14,
     "metadata": {},
     "output_type": "execute_result"
    }
   ],
   "source": [
    "x_train.columns[:50]"
   ]
  },
  {
   "cell_type": "code",
   "execution_count": null,
   "metadata": {},
   "outputs": [],
   "source": []
  },
  {
   "cell_type": "code",
   "execution_count": null,
   "metadata": {},
   "outputs": [],
   "source": []
  },
  {
   "cell_type": "code",
   "execution_count": null,
   "metadata": {},
   "outputs": [],
   "source": []
  },
  {
   "cell_type": "code",
   "execution_count": null,
   "metadata": {},
   "outputs": [],
   "source": []
  },
  {
   "cell_type": "code",
   "execution_count": null,
   "metadata": {},
   "outputs": [],
   "source": []
  }
 ],
 "metadata": {
  "kernelspec": {
   "display_name": "Python 3",
   "language": "python",
   "name": "python3"
  },
  "language_info": {
   "codemirror_mode": {
    "name": "ipython",
    "version": 3
   },
   "file_extension": ".py",
   "mimetype": "text/x-python",
   "name": "python",
   "nbconvert_exporter": "python",
   "pygments_lexer": "ipython3",
   "version": "3.7.6"
  }
 },
 "nbformat": 4,
 "nbformat_minor": 2
}
