{
 "cells": [
  {
   "cell_type": "code",
   "execution_count": 1,
   "metadata": {},
   "outputs": [],
   "source": [
    "import pandas as pd\n",
    "import numpy as np\n",
    "import matplotlib.pyplot as plt\n",
    "import matplotlib as mpl\n",
    "\n",
    "%matplotlib inline"
   ]
  },
  {
   "cell_type": "code",
   "execution_count": 2,
   "metadata": {},
   "outputs": [],
   "source": [
    "train_dummy = pd.read_csv(\"datasets/train_dummy_EDA.csv\")\n",
    "train = pd.read_csv(\"datasets/train_EDA.csv\")\n",
    "train_log = pd.read_csv(\"datasets/train_log_EDA.csv\")\n",
    "test_dummy = pd.read_csv(\"datasets/test_dummy_EDA.csv\")"
   ]
  },
  {
   "cell_type": "code",
   "execution_count": 3,
   "metadata": {},
   "outputs": [],
   "source": [
    "train_dummy.loc[:,\"count\"] = np.log(train_dummy.loc[:,\"count\"])\n",
    "\n",
    "train_Y = train_dummy.loc[:,\"count\"]\n",
    "train_X = train_dummy.loc[:, train_dummy.columns != \"count\"]"
   ]
  },
  {
   "cell_type": "code",
   "execution_count": 4,
   "metadata": {},
   "outputs": [
    {
     "data": {
      "text/plain": [
       "LinearRegression(copy_X=True, fit_intercept=True, n_jobs=1, normalize=False)"
      ]
     },
     "execution_count": 4,
     "metadata": {},
     "output_type": "execute_result"
    }
   ],
   "source": [
    "from sklearn.linear_model import LinearRegression\n",
    "\n",
    "lrm = LinearRegression()\n",
    "lrm.fit(train_X, train_Y)"
   ]
  },
  {
   "cell_type": "code",
   "execution_count": 5,
   "metadata": {},
   "outputs": [],
   "source": [
    "from sklearn.metrics import mean_squared_error\n",
    "\n",
    "pred = lrm.predict(train_X)\n",
    "pred = np.exp(pred)\n",
    "lrm_rmse = mean_squared_error(pred, np.exp(train_Y))\n",
    "lrm_rmse = np.sqrt(lrm_rmse)"
   ]
  },
  {
   "cell_type": "code",
   "execution_count": 6,
   "metadata": {
    "scrolled": true
   },
   "outputs": [
    {
     "data": {
      "text/plain": [
       "94.49541426877936"
      ]
     },
     "execution_count": 6,
     "metadata": {},
     "output_type": "execute_result"
    }
   ],
   "source": [
    "lrm_rmse"
   ]
  },
  {
   "cell_type": "code",
   "execution_count": 7,
   "metadata": {},
   "outputs": [
    {
     "data": {
      "text/plain": [
       "array([ 2.73115083e-02, -3.09211689e-03, -5.71656560e-03, -2.60853411e+09,\n",
       "       -6.37135971e+09, -1.49282881e+10, -1.50678533e+10,  6.53446317e+09,\n",
       "        6.53446317e+09,  6.53446317e+09,  6.53446317e+09,  1.23437040e+08,\n",
       "        1.23437040e+08, -1.17934517e+10, -1.17934517e+10, -1.17934517e+10,\n",
       "       -8.03062613e+09, -8.03062613e+09, -8.03062613e+09,  5.26302216e+08,\n",
       "        5.26302216e+08,  5.26302217e+08,  6.65867498e+08,  6.65867498e+08,\n",
       "        6.65867498e+08, -1.47147623e+08, -1.47147623e+08, -1.47147624e+08,\n",
       "       -1.47147624e+08, -1.47147625e+08, -1.47147624e+08, -1.47147622e+08,\n",
       "       -1.47147621e+08, -1.47147621e+08, -1.47147621e+08, -1.47147621e+08,\n",
       "       -1.47147621e+08, -1.47147621e+08, -1.47147621e+08, -1.47147621e+08,\n",
       "       -1.47147621e+08, -1.47147621e+08, -1.47147620e+08, -1.47147621e+08,\n",
       "       -1.47147621e+08, -1.47147621e+08, -1.47147621e+08, -1.47147622e+08,\n",
       "       -1.47147622e+08])"
      ]
     },
     "execution_count": 7,
     "metadata": {},
     "output_type": "execute_result"
    }
   ],
   "source": [
    "lrm.coef_ # categorical의 coefficient가 다 10000이 넘음,,,"
   ]
  },
  {
   "cell_type": "code",
   "execution_count": 8,
   "metadata": {},
   "outputs": [],
   "source": [
    "subs = lrm.predict(test_dummy)"
   ]
  },
  {
   "cell_type": "code",
   "execution_count": 9,
   "metadata": {},
   "outputs": [],
   "source": [
    "mask = subs > 10000"
   ]
  },
  {
   "cell_type": "code",
   "execution_count": 10,
   "metadata": {},
   "outputs": [],
   "source": [
    "subs[mask] = 7"
   ]
  },
  {
   "cell_type": "code",
   "execution_count": 11,
   "metadata": {},
   "outputs": [],
   "source": [
    "submissions = pd.read_csv(\"datasets/sampleSubmission.csv\")"
   ]
  },
  {
   "cell_type": "code",
   "execution_count": 12,
   "metadata": {},
   "outputs": [],
   "source": [
    "submissions[\"count\"] = subs"
   ]
  },
  {
   "cell_type": "code",
   "execution_count": 13,
   "metadata": {},
   "outputs": [],
   "source": [
    "submissions[\"count\"] = np.exp(submissions[\"count\"])"
   ]
  },
  {
   "cell_type": "code",
   "execution_count": 14,
   "metadata": {},
   "outputs": [],
   "source": [
    "submissions.to_csv(\"datasets/subs.csv\", index=False)"
   ]
  },
  {
   "cell_type": "code",
   "execution_count": 15,
   "metadata": {},
   "outputs": [
    {
     "data": {
      "text/plain": [
       "0"
      ]
     },
     "execution_count": 15,
     "metadata": {},
     "output_type": "execute_result"
    }
   ],
   "source": [
    "np.sum(submissions[\"count\"] > 5000)"
   ]
  }
 ],
 "metadata": {
  "kernelspec": {
   "display_name": "Python 3",
   "language": "python",
   "name": "python3"
  },
  "language_info": {
   "codemirror_mode": {
    "name": "ipython",
    "version": 3
   },
   "file_extension": ".py",
   "mimetype": "text/x-python",
   "name": "python",
   "nbconvert_exporter": "python",
   "pygments_lexer": "ipython3",
   "version": "3.6.5"
  }
 },
 "nbformat": 4,
 "nbformat_minor": 2
}
