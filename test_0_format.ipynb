{
 "cells": [
  {
   "cell_type": "markdown",
   "metadata": {},
   "source": [
    "| <img src ='https://bit.ly/39XPeCc' width=200 align='left'> |\n",
    "|:--|\n",
    "|<h1>    test_format.ipynb = FILE NAME'S HERE! \n",
    "</h1> \n",
    "|- Merge, join, and concatenate — pandas 1.0.3 documentation \n",
    "|- https://pandas.pydata.org/pandas-docs/stable/user_guide/merging.html                "
   ]
  },
  {
   "cell_type": "markdown",
   "metadata": {},
   "source": [
    "### 사용함수의 정의"
   ]
  },
  {
   "cell_type": "code",
   "execution_count": 1,
   "metadata": {},
   "outputs": [],
   "source": [
    "\"\"\" \n",
    "# 기본적인 module import 위치로 작업폴더 변경 getcwd() --> chidr()\n",
    "# HOME 을 지정하고 작업폴더를 HOME 으로 변경.\n",
    "\"\"\"\n",
    "import os\n",
    "\n",
    "HOME= 'dacon_competition_2020'\n",
    "dir_base = \"\".join(os.getcwd().partition(HOME)[:2]) + \"\\\\\"\n",
    "os.chdir(dir_base)     "
   ]
  },
  {
   "cell_type": "code",
   "execution_count": 2,
   "metadata": {},
   "outputs": [
    {
     "name": "stdout",
     "output_type": "stream",
     "text": [
      "\n",
      "# 화일분석에 필요한 공동폴더를 등록합니다.\n",
      "- asset = dir_base + '_assets/'\n",
      "- statics dir_base + '_statics/'\n",
      "\n",
      "#  echo = True : SYS.PATH INSERT 상황 보여줌\n",
      "\n",
      "\n",
      "# OS 화일 및 DF 정보조회를 위한 탐색 모듈\n",
      "\n"
     ]
    }
   ],
   "source": [
    "from _assets.config_dirs import *\n",
    "from _assets.modules import *"
   ]
  },
  {
   "cell_type": "markdown",
   "metadata": {},
   "source": [
    "# TEST NAME HERE! & Explain it!\n",
    "> - Merge, join, and concatenate — pandas 1.0.3 documentation\n",
    "> - https://pandas.pydata.org/pandas-docs/stable/user_guide/merging.html\n"
   ]
  },
  {
   "cell_type": "code",
   "execution_count": 3,
   "metadata": {
    "scrolled": false
   },
   "outputs": [],
   "source": [
    "df1 = pd.DataFrame({'A': ['A0', np.NaN, 'A1', 'A7', 'A0'],\n",
    "                    'B': ['B0', 'B3', np.NaN, 'B12','B9'],\n",
    "                    'C': ['C0', 'C3', 'C9', 'C10', 'C11'],\n",
    "                    'D': ['D8', np.NaN, 'D2', 'D3', 'D7']},\n",
    "                   index=np.arange(5))\n",
    "\n",
    "\n",
    "df2 = pd.DataFrame({'A': [np.NaN, 'A6',],\n",
    "                    'B': ['B4', 'B6',],\n",
    "                    'C': ['C5', 'C7'],\n",
    "                    'D': ['D5', '',]},\n",
    "                   index=[12, 7])\n",
    "\n",
    "\n",
    "df3 = pd.DataFrame({'A': ['A8', 'A4', 'A5',np.NaN,],\n",
    "                    'B': ['B8',  np.NaN,'B6','B12'],\n",
    "                    'C': ['C10',  'C12','C0','C5'],\n",
    "                    'D': ['D10', 'D5', 'D11','D1']},\n",
    "                   index=np.arange(10, 14))"
   ]
  },
  {
   "cell_type": "code",
   "execution_count": 4,
   "metadata": {},
   "outputs": [
    {
     "data": {
      "text/html": [
       "<div>\n",
       "<style scoped>\n",
       "    .dataframe tbody tr th:only-of-type {\n",
       "        vertical-align: middle;\n",
       "    }\n",
       "\n",
       "    .dataframe tbody tr th {\n",
       "        vertical-align: top;\n",
       "    }\n",
       "\n",
       "    .dataframe thead th {\n",
       "        text-align: right;\n",
       "    }\n",
       "</style>\n",
       "<table border=\"1\" class=\"dataframe\">\n",
       "  <thead>\n",
       "    <tr style=\"text-align: right;\">\n",
       "      <th></th>\n",
       "      <th>A</th>\n",
       "      <th>B</th>\n",
       "      <th>C</th>\n",
       "      <th>D</th>\n",
       "    </tr>\n",
       "  </thead>\n",
       "  <tbody>\n",
       "    <tr>\n",
       "      <th>12</th>\n",
       "      <td>NaN</td>\n",
       "      <td>B4</td>\n",
       "      <td>C5</td>\n",
       "      <td>D5</td>\n",
       "    </tr>\n",
       "    <tr>\n",
       "      <th>7</th>\n",
       "      <td>A6</td>\n",
       "      <td>B6</td>\n",
       "      <td>C7</td>\n",
       "      <td></td>\n",
       "    </tr>\n",
       "  </tbody>\n",
       "</table>\n",
       "</div>"
      ],
      "text/plain": [
       "      A   B   C   D\n",
       "12  NaN  B4  C5  D5\n",
       "7    A6  B6  C7    "
      ]
     },
     "execution_count": 4,
     "metadata": {},
     "output_type": "execute_result"
    }
   ],
   "source": [
    "df2"
   ]
  },
  {
   "cell_type": "code",
   "execution_count": 5,
   "metadata": {},
   "outputs": [
    {
     "name": "stdout",
     "output_type": "stream",
     "text": [
      "False\n",
      "DIR_TARGET=C:\\Users\\nitt0\\Documents\\GitHub\\dacon_competition_2020\n",
      "C:\\Users\\nitt0\\Documents\\GitHub\\dacon_competition_2020\\c03_starcraft_prediction/data_remake/\n",
      "----------------------------------------\n",
      "  01. .ipynb_checkpoints\n",
      "  02. accumujated_winning_rate_per_time.csv\n",
      "  03. accumulated_winning_rate_per_time.csv\n",
      "  04. df_new_rate04_correct.csv\n",
      "  05. df_win_rate_every_10sec.csv\n",
      "  06. df_win_rate_every_20sec.csv\n",
      "  07. df_win_rate_every_40sec.csv\n",
      "  08. df_xtest_remake.csv\n",
      "  09. df_xtest_remake_final.csv\n",
      "  10. df_xtrain_remake.csv\n",
      "  11. df_xtrain_remake_final.csv\n",
      "  12. df_ytrain_remake.csv\n",
      "  13. xtra_remake_xtest.csv\n",
      "  14. xtra_remake_xtest_r01.csv\n",
      "  15. xtra_remake_xtrain.csv\n",
      "  16. xtra_remake_xtrain_r01.csv\n"
     ]
    }
   ],
   "source": [
    "show_ls(dir_base + remake)"
   ]
  },
  {
   "cell_type": "code",
   "execution_count": null,
   "metadata": {},
   "outputs": [],
   "source": []
  },
  {
   "cell_type": "code",
   "execution_count": null,
   "metadata": {},
   "outputs": [],
   "source": []
  },
  {
   "cell_type": "code",
   "execution_count": null,
   "metadata": {},
   "outputs": [],
   "source": []
  },
  {
   "cell_type": "code",
   "execution_count": null,
   "metadata": {},
   "outputs": [],
   "source": []
  },
  {
   "cell_type": "code",
   "execution_count": null,
   "metadata": {},
   "outputs": [],
   "source": []
  }
 ],
 "metadata": {
  "kernelspec": {
   "display_name": "Python 3",
   "language": "python",
   "name": "python3"
  },
  "language_info": {
   "codemirror_mode": {
    "name": "ipython",
    "version": 3
   },
   "file_extension": ".py",
   "mimetype": "text/x-python",
   "name": "python",
   "nbconvert_exporter": "python",
   "pygments_lexer": "ipython3",
   "version": "3.7.6"
  }
 },
 "nbformat": 4,
 "nbformat_minor": 2
}
